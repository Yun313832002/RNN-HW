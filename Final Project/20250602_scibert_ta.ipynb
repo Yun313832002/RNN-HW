{
 "cells": [
  {
   "cell_type": "code",
   "execution_count": 39,
   "id": "8d95e049",
   "metadata": {},
   "outputs": [],
   "source": [
    "import os\n",
    "os.environ[\"TOKENIZERS_PARALLELISM\"] = \"false\"\n",
    "import pandas as pd\n",
    "import numpy as np\n",
    "import sklearn\n",
    "import re\n",
    "import math\n",
    "import joblib\n",
    "from tqdm.notebook import tqdm\n",
    "import matplotlib.pyplot as plt"
   ]
  },
  {
   "cell_type": "code",
   "execution_count": 40,
   "id": "0db3d77a",
   "metadata": {},
   "outputs": [],
   "source": [
    "import pandas as pd\n",
    "import numpy as np\n",
    "import pickle\n",
    "import matplotlib.pyplot as plt\n",
    "import seaborn as sns\n",
    "import re\n",
    "import copy\n",
    "from tqdm import tqdm\n",
    "import gc\n",
    "\n",
    "import torch\n",
    "import torch.nn as nn\n",
    "import torch.nn.functional as F\n",
    "from torch import optim\n",
    "from torch.utils.data import Dataset, DataLoader\n",
    "\n",
    "from sklearn.model_selection import train_test_split\n",
    "\n",
    "from sklearn.metrics import (\n",
    "    accuracy_score,\n",
    "    f1_score,\n",
    "    precision_score,\n",
    "    recall_score,\n",
    "    classification_report\n",
    ")\n",
    "\n",
    "from transformers import (\n",
    "    AutoTokenizer,\n",
    "    AutoModel,\n",
    "    get_linear_schedule_with_warmup\n",
    ")\n",
    "\n",
    "import nltk\n",
    "import re\n",
    "from nltk.corpus import stopwords\n",
    "from nltk.stem import PorterStemmer, WordNetLemmatizer\n",
    "from nltk.tokenize import word_tokenize\n",
    "\n",
    "from transformers import BertTokenizer, BertForMaskedLM\n",
    "\n",
    "from sklearn.metrics import (\n",
    "    recall_score,\n",
    "    precision_score\n",
    "  )\n",
    "\n",
    "from sklearn.metrics import multilabel_confusion_matrix"
   ]
  },
  {
   "cell_type": "code",
   "execution_count": 41,
   "id": "a757780c",
   "metadata": {},
   "outputs": [],
   "source": [
    "from nltk.corpus import stopwords\n",
    "from nltk.corpus import wordnet\n",
    "from nltk.tokenize import word_tokenize\n",
    "from nltk.stem import WordNetLemmatizer\n",
    "from nltk import pos_tag\n",
    "import nltk"
   ]
  },
  {
   "cell_type": "code",
   "execution_count": 42,
   "id": "dac02406",
   "metadata": {},
   "outputs": [],
   "source": [
    "import warnings\n",
    "from sklearn.exceptions import UndefinedMetricWarning\n",
    "warnings.filterwarnings(\"ignore\", category=FutureWarning)\n",
    "warnings.filterwarnings(\"ignore\", category=UndefinedMetricWarning)"
   ]
  },
  {
   "cell_type": "code",
   "execution_count": 43,
   "id": "9b56fa49",
   "metadata": {},
   "outputs": [
    {
     "name": "stdout",
     "output_type": "stream",
     "text": [
      "Time now: 06-02-21-19\n"
     ]
    }
   ],
   "source": [
    "time_now = pd.Timestamp.now().strftime(\"%m-%d-%H-%M\")\n",
    "print(f\"Time now: {time_now}\")"
   ]
  },
  {
   "cell_type": "markdown",
   "id": "886c73dc",
   "metadata": {},
   "source": [
    "# Config"
   ]
  },
  {
   "cell_type": "code",
   "execution_count": 44,
   "id": "10e0995a",
   "metadata": {},
   "outputs": [],
   "source": [
    "class Config:\n",
    "    def __init__(self):\n",
    "        super(Config, self).__init__()\n",
    "\n",
    "        self.SEED = 42\n",
    "        self.MODEL_PATH = 'allenai/scibert_scivocab_uncased'\n",
    "        self.NUM_LABELS_TA = 14\n",
    "        self.NUM_LABELS_TE = 185\n",
    "\n",
    "        self.TOKENIZER = AutoTokenizer.from_pretrained(self.MODEL_PATH)\n",
    "        self.MAX_LENGTH = 320\n",
    "        self.BATCH_SIZE = 16\n",
    "\n",
    "        self.DEVICE = torch.device('cuda' if torch.cuda.is_available() else 'cpu')\n",
    "        self.FULL_FINETUNING = True\n",
    "        self.LR = 3e-5\n",
    "        self.OPTIMIZER = 'AdamW'\n",
    "        self.CRITERION = 'BCEWithLogitsLoss'\n",
    "        self.N_VALIDATE_DUR_TRAIN = 3\n",
    "        self.N_WARMUP = 0\n",
    "        self.SAVE_BEST_ONLY = True\n",
    "        self.EPOCHS = 50"
   ]
  },
  {
   "cell_type": "code",
   "execution_count": 45,
   "id": "d739eb03",
   "metadata": {},
   "outputs": [],
   "source": [
    "TACTIC = ['TA0001', 'TA0002', 'TA0003', 'TA0004', 'TA0005', 'TA0006', 'TA0007', 'TA0008', 'TA0009', 'TA0010', 'TA0011', 'TA0040', 'TA0042', 'TA0043']\n",
    "TECHNIQUE = ['T1001', 'T1003', 'T1005', 'T1006', 'T1007', 'T1008', 'T1010', 'T1011', 'T1012', 'T1014', 'T1016', 'T1018', 'T1020', 'T1021', 'T1025', 'T1027', 'T1029', 'T1030', 'T1033', 'T1036', 'T1037', 'T1039', 'T1040', 'T1041', 'T1046', 'T1047', 'T1048', 'T1049', 'T1052', 'T1053', 'T1055', 'T1056', 'T1057', 'T1059', 'T1068', 'T1069', 'T1071', 'T1072', 'T1074', 'T1078', 'T1080', 'T1082', 'T1083', 'T1087', 'T1090', 'T1091', 'T1092', 'T1095', 'T1098', 'T1102', 'T1104', 'T1105', 'T1106', 'T1110', 'T1111', 'T1112', 'T1113', 'T1114', 'T1115', 'T1119', 'T1120', 'T1123', 'T1124', 'T1125', 'T1127', 'T1129', 'T1132', 'T1133', 'T1134', 'T1135', 'T1136', 'T1137', 'T1140', 'T1176', 'T1185', 'T1187', 'T1189', 'T1190', 'T1195', 'T1197', 'T1199', 'T1200', 'T1201', 'T1202', 'T1203', 'T1204', 'T1205', 'T1207', 'T1210', 'T1211', 'T1212', 'T1213', 'T1216', 'T1218', 'T1220', 'T1221', 'T1222', 'T1480', 'T1482', 'T1485', 'T1486', 'T1489', 'T1490', 'T1491', 'T1495', 'T1496', 'T1497', 'T1498', 'T1499', 'T1505', 'T1518', 'T1525', 'T1526', 'T1528', 'T1529', 'T1531', 'T1534', 'T1535', 'T1537', 'T1538', 'T1539', 'T1542', 'T1543', 'T1546', 'T1547', 'T1548', 'T1550', 'T1552', 'T1553', 'T1555', 'T1556', 'T1557', 'T1558', 'T1559', 'T1560', 'T1561', 'T1562', 'T1563', 'T1564', 'T1565', 'T1566', 'T1567', 'T1568', 'T1569', 'T1570', 'T1571', 'T1572', 'T1573', 'T1574', 'T1578', 'T1580', 'T1583', 'T1584', 'T1585', 'T1586', 'T1587', 'T1588', 'T1589', 'T1590', 'T1591', 'T1592', 'T1593', 'T1594', 'T1595', 'T1596', 'T1597', 'T1598', 'T1599', 'T1600', 'T1601', 'T1602', 'T1606', 'T1608', 'T1609', 'T1610', 'T1611', 'T1612', 'T1613', 'T1614', 'T1615', 'T1619', 'T1620', 'T1621', 'T1622', 'T1647']\n",
    "TACTICS_TECHNIQUES_RELATIONSHIP_DF = {\n",
    "\"TA0001\":pd.Series(['T1078', 'T1091', 'T1133', 'T1189', 'T1190', 'T1195', 'T1199', 'T1200', 'T1566', 'T1659', 'T1669']),\n",
    "\"TA0002\":pd.Series(['T1047', 'T1053', 'T1059', 'T1072', 'T1106', 'T1129', 'T1203', 'T1204', 'T1559', 'T1569', 'T1609', 'T1610', 'T1648', 'T1651', 'T1674', 'T1675']),\n",
    "\"TA0003\":pd.Series(['T1037', 'T1053', 'T1078', 'T1098', 'T1112', 'T1133', 'T1136', 'T1137', 'T1176', 'T1197', 'T1205', 'T1505', 'T1525', 'T1542', 'T1543', 'T1546', 'T1547', 'T1554', 'T1556', 'T1574', 'T1653', 'T1668', 'T1671']),\n",
    "\"TA0004\":pd.Series(['T1037', 'T1053', 'T1055', 'T1068', 'T1078', 'T1098', 'T1134', 'T1484', 'T1543', 'T1546', 'T1547', 'T1548', 'T1574', 'T1611']),\n",
    "\"TA0005\":pd.Series(['T1006', 'T1014', 'T1027', 'T1036', 'T1055', 'T1070', 'T1078', 'T1112', 'T1127', 'T1134', 'T1140', 'T1197', 'T1202', 'T1205', 'T1207', 'T1211', 'T1216', 'T1218', 'T1220', 'T1221', 'T1222', 'T1480', 'T1484', 'T1497', 'T1535', 'T1542', 'T1548', 'T1550', 'T1553', 'T1556', 'T1562', 'T1564', 'T1574', 'T1578', 'T1599', 'T1600', 'T1601', 'T1610', 'T1612', 'T1620', 'T1622', 'T1647', 'T1656', 'T1666', 'T1672']),\n",
    "\"TA0006\":pd.Series(['T1003', 'T1040', 'T1056', 'T1110', 'T1111', 'T1187', 'T1212', 'T1528', 'T1539', 'T1552', 'T1555', 'T1556', 'T1557', 'T1558', 'T1606', 'T1621', 'T1649']),\n",
    "\"TA0007\":pd.Series(['T1007', 'T1010', 'T1012', 'T1016', 'T1018', 'T1033', 'T1040', 'T1046', 'T1049', 'T1057', 'T1069', 'T1082', 'T1083', 'T1087', 'T1120', 'T1124', 'T1135', 'T1201', 'T1217', 'T1482', 'T1497', 'T1518', 'T1526', 'T1538', 'T1580', 'T1613', 'T1614', 'T1615', 'T1619', 'T1622', 'T1652', 'T1654', 'T1673']),\n",
    "\"TA0008\":pd.Series(['T1021', 'T1072', 'T1080', 'T1091', 'T1210', 'T1534', 'T1550', 'T1563', 'T1570']),\n",
    "\"TA0009\":pd.Series(['T1005', 'T1025', 'T1039', 'T1056', 'T1074', 'T1113', 'T1114', 'T1115', 'T1119', 'T1123', 'T1125', 'T1185', 'T1213', 'T1530', 'T1557', 'T1560', 'T1602']),\n",
    "\"TA0010\":pd.Series(['T1011', 'T1020', 'T1029', 'T1030', 'T1041', 'T1048', 'T1052', 'T1537', 'T1567']),\n",
    "\"TA0011\":pd.Series(['T1001', 'T1008', 'T1071', 'T1090', 'T1092', 'T1095', 'T1102', 'T1104', 'T1105', 'T1132', 'T1205', 'T1219', 'T1568', 'T1571', 'T1572', 'T1573', 'T1659', 'T1665']),\n",
    "\"TA0040\":pd.Series(['T1485', 'T1486', 'T1489', 'T1490', 'T1491', 'T1495', 'T1496', 'T1498', 'T1499', 'T1529', 'T1531', 'T1561', 'T1565', 'T1657', 'T1667']),                \n",
    "\"TA0042\":pd.Series(['T1583', 'T1584', 'T1585', 'T1586', 'T1587', 'T1588', 'T1608', 'T1650']),\n",
    "\"TA0043\":pd.Series(['T1589', 'T1590', 'T1591', 'T1592', 'T1593', 'T1594', 'T1595', 'T1596', 'T1597', 'T1598'])\n",
    "}"
   ]
  },
  {
   "cell_type": "code",
   "execution_count": 46,
   "id": "07f6f833",
   "metadata": {},
   "outputs": [],
   "source": [
    "df = pd.read_csv('merged_all_columns.csv', encoding='utf-8')\n",
    "# df_attack['tactic_label'] = df_attack.apply(lambda x: list(x[TACTIC]), axis=1)\n",
    "# df_attack['technique_label'] = df_attack.apply(lambda x: list(x[TECHNIQUE]), axis=1)\n",
    "\n",
    "df_tactic_labels = df[TACTIC]\n",
    "df_technique_labels = df[TECHNIQUE]"
   ]
  },
  {
   "cell_type": "code",
   "execution_count": 47,
   "id": "767f45c3",
   "metadata": {},
   "outputs": [
    {
     "name": "stdout",
     "output_type": "stream",
     "text": [
      "      TA0001  TA0002  TA0003  TA0004  TA0005  TA0006  TA0007  TA0008  TA0009  \\\n",
      "0          1       1       0       0       0       0       0       0       0   \n",
      "1          1       1       0       0       0       0       0       0       0   \n",
      "2          0       1       0       0       0       1       0       0       0   \n",
      "3          1       1       0       0       0       0       0       0       0   \n",
      "4          1       0       0       1       1       0       0       0       0   \n",
      "...      ...     ...     ...     ...     ...     ...     ...     ...     ...   \n",
      "1513       0       1       1       0       0       0       0       0       0   \n",
      "1514       0       0       0       0       0       0       0       0       0   \n",
      "1515       0       0       0       1       0       0       0       0       0   \n",
      "1516       0       1       0       0       0       0       0       0       1   \n",
      "1517       0       0       0       0       0       0       0       0       0   \n",
      "\n",
      "      TA0010  TA0011  TA0040  TA0042  TA0043  \n",
      "0          0       0       0       0       0  \n",
      "1          0       0       0       0       0  \n",
      "2          0       0       0       0       0  \n",
      "3          0       0       0       0       0  \n",
      "4          0       0       0       0       0  \n",
      "...      ...     ...     ...     ...     ...  \n",
      "1513       0       0       0       0       0  \n",
      "1514       0       0       1       0       0  \n",
      "1515       0       0       0       0       0  \n",
      "1516       0       0       0       0       0  \n",
      "1517       0       0       0       1       0  \n",
      "\n",
      "[1518 rows x 14 columns]\n"
     ]
    }
   ],
   "source": [
    "print(df_tactic_labels)"
   ]
  },
  {
   "cell_type": "code",
   "execution_count": 48,
   "id": "7e4b3ee8",
   "metadata": {},
   "outputs": [
    {
     "name": "stdout",
     "output_type": "stream",
     "text": [
      "      T1001  T1003  T1005  T1006  T1007  T1008  T1010  T1011  T1012  T1014  \\\n",
      "0         0      0      0      0      0      0      0      0      0      0   \n",
      "1         0      0      0      0      0      0      0      0      0      0   \n",
      "2         0      1      0      0      0      0      0      0      0      0   \n",
      "3         0      0      0      0      0      0      0      0      0      0   \n",
      "4         0      0      0      0      0      0      0      0      0      0   \n",
      "...     ...    ...    ...    ...    ...    ...    ...    ...    ...    ...   \n",
      "1513      0      0      0      0      0      0      0      0      0      0   \n",
      "1514      0      0      0      0      0      0      0      0      0      0   \n",
      "1515      0      0      0      0      0      0      0      0      0      0   \n",
      "1516      0      0      1      0      0      0      0      0      0      0   \n",
      "1517      0      0      0      0      0      0      0      0      0      0   \n",
      "\n",
      "      ...  T1611  T1612  T1613  T1614  T1615  T1619  T1620  T1621  T1622  \\\n",
      "0     ...      0      0      0      0      0      0      0      0      0   \n",
      "1     ...      0      0      0      0      0      0      0      0      0   \n",
      "2     ...      0      0      0      0      0      0      0      0      0   \n",
      "3     ...      0      0      0      0      0      0      0      0      0   \n",
      "4     ...      0      0      0      0      0      0      0      0      0   \n",
      "...   ...    ...    ...    ...    ...    ...    ...    ...    ...    ...   \n",
      "1513  ...      0      0      0      0      0      0      0      0      0   \n",
      "1514  ...      0      0      0      0      0      0      0      0      0   \n",
      "1515  ...      0      0      0      0      0      0      0      0      0   \n",
      "1516  ...      0      0      0      0      0      0      0      0      0   \n",
      "1517  ...      0      0      0      0      0      0      0      0      0   \n",
      "\n",
      "      T1647  \n",
      "0         0  \n",
      "1         0  \n",
      "2         0  \n",
      "3         0  \n",
      "4         0  \n",
      "...     ...  \n",
      "1513      0  \n",
      "1514      0  \n",
      "1515      0  \n",
      "1516      0  \n",
      "1517      0  \n",
      "\n",
      "[1518 rows x 185 columns]\n"
     ]
    }
   ],
   "source": [
    "print(df_technique_labels)"
   ]
  },
  {
   "cell_type": "code",
   "execution_count": 49,
   "id": "919865c1",
   "metadata": {},
   "outputs": [],
   "source": [
    "df['tactic_label'] = df.apply(lambda x: list(x[TACTIC]), axis=1)\n",
    "df['technique_label'] = df.apply(lambda x: list(x[TECHNIQUE]), axis=1)\n"
   ]
  },
  {
   "cell_type": "markdown",
   "id": "5b7fc8c7",
   "metadata": {},
   "source": [
    "# Data processing"
   ]
  },
  {
   "cell_type": "code",
   "execution_count": 50,
   "id": "5018de80",
   "metadata": {},
   "outputs": [],
   "source": [
    "from nltk.corpus import stopwords\n",
    "from nltk.corpus import wordnet\n",
    "from nltk.tokenize import word_tokenize\n",
    "from nltk.stem import WordNetLemmatizer\n",
    "from nltk import pos_tag\n",
    "import nltk"
   ]
  },
  {
   "cell_type": "code",
   "execution_count": 51,
   "id": "173e00c0",
   "metadata": {},
   "outputs": [
    {
     "name": "stdout",
     "output_type": "stream",
     "text": [
      "punkt ⛔ 未安裝，開始下載...\n",
      "stopwords ⛔ 未安裝，開始下載...\n",
      "wordnet ⛔ 未安裝，開始下載...\n",
      "omw-1.4 ⛔ 未安裝，開始下載...\n",
      "averaged_perceptron_tagger ⛔ 未安裝，開始下載...\n",
      "averaged_perceptron_tagger_eng ⛔ 未安裝，開始下載...\n"
     ]
    },
    {
     "name": "stderr",
     "output_type": "stream",
     "text": [
      "[nltk_data] Downloading package punkt to\n",
      "[nltk_data]     C:\\Users\\user\\AppData\\Roaming\\nltk_data...\n",
      "[nltk_data]   Package punkt is already up-to-date!\n",
      "[nltk_data] Downloading package stopwords to\n",
      "[nltk_data]     C:\\Users\\user\\AppData\\Roaming\\nltk_data...\n",
      "[nltk_data]   Package stopwords is already up-to-date!\n",
      "[nltk_data] Downloading package wordnet to\n",
      "[nltk_data]     C:\\Users\\user\\AppData\\Roaming\\nltk_data...\n",
      "[nltk_data]   Package wordnet is already up-to-date!\n",
      "[nltk_data] Downloading package omw-1.4 to\n",
      "[nltk_data]     C:\\Users\\user\\AppData\\Roaming\\nltk_data...\n",
      "[nltk_data]   Package omw-1.4 is already up-to-date!\n",
      "[nltk_data] Downloading package averaged_perceptron_tagger to\n",
      "[nltk_data]     C:\\Users\\user\\AppData\\Roaming\\nltk_data...\n",
      "[nltk_data]   Package averaged_perceptron_tagger is already up-to-\n",
      "[nltk_data]       date!\n",
      "[nltk_data] Downloading package averaged_perceptron_tagger_eng to\n",
      "[nltk_data]     C:\\Users\\user\\AppData\\Roaming\\nltk_data...\n",
      "[nltk_data]   Package averaged_perceptron_tagger_eng is already up-to-\n",
      "[nltk_data]       date!\n"
     ]
    }
   ],
   "source": [
    "import nltk\n",
    "\n",
    "resources = [\n",
    "    \"punkt\",\n",
    "    \"stopwords\",\n",
    "    \"wordnet\",\n",
    "    \"omw-1.4\",\n",
    "    \"averaged_perceptron_tagger\",\n",
    "    \"averaged_perceptron_tagger_eng\"\n",
    "]\n",
    "\n",
    "for res in resources:\n",
    "    try:\n",
    "        nltk.data.find(res)\n",
    "        print(f\"{res} ✅ 已安裝\")\n",
    "    except LookupError:\n",
    "        print(f\"{res} ⛔ 未安裝，開始下載...\")\n",
    "        nltk.download(res)\n"
   ]
  },
  {
   "cell_type": "code",
   "execution_count": 52,
   "id": "6f7cf101",
   "metadata": {},
   "outputs": [],
   "source": [
    "def get_wordnet_pos(tag):\n",
    "    if tag.startswith('J'):\n",
    "        return wordnet.ADJ\n",
    "    elif tag.startswith('V'):\n",
    "        return wordnet.VERB\n",
    "    elif tag.startswith('N'):\n",
    "        return wordnet.NOUN\n",
    "    elif tag.startswith('R'):\n",
    "        return wordnet.ADV\n",
    "    else:\n",
    "        return 'n'\n",
    "\n",
    "def ioc_sub(text):\n",
    "    def reg_handler(obj):\n",
    "        s = obj.group(1)\n",
    "        s = ' '.join(s.split('\\\\'))\n",
    "        return s\n",
    "\n",
    "    def file_handler(obj):\n",
    "        s = obj.group(2)\n",
    "        s = s.split('\\\\')[-1]\n",
    "        return s\n",
    "    \n",
    "    text = re.sub(r'(?:(?:25[0-5]|2[0-4][0-9]|[01]?[0-9][0-9]?)(\\.|\\[\\.\\])){3}(?:25[0-5]|2[0-4][0-9]|[01]?[0-9][0-9]?)(\\/([0-2][0-9]|3[0-2]|[0-9]))?', 'IPv4', text)\n",
    "    text = re.sub(r'\\b(\\d{1,3}\\.\\d{1,3}\\.\\d{1,3}\\.\\d{1,3})\\b', 'IP', text)\n",
    "    text = re.sub(r'\\b(CVE\\-[0-9]{4}\\-[0-9]{4,6})\\b', 'CVE', text)\n",
    "    text = re.sub(r'CVE-[0-9]{4}-[0-9]{4,6}', 'vulnerability', text)\n",
    "    text = re.sub(r'\\b([a-z][_a-z0-9-.]+@[a-z0-9-]+\\.[a-z]+)\\b', 'email', text)\n",
    "    text = re.sub(r'\\b((HKLM|HKCU|HKCR|HKU|HKCC)\\\\[\\\\A-Za-z0-9-_]+)\\b', reg_handler, text)\n",
    "    text = re.sub(r'\\b([a-zA-Z]{1}:\\\\([0-9a-zA-Z_\\.\\-\\/\\\\]+))\\b', file_handler, text)\n",
    "    text = re.sub(r'\\b([a-f0-9]{32}|[A-F0-9]{32})\\b', 'MD5', text)\n",
    "    text = re.sub(r'\\b([a-f0-9]{40}|[A-F0-9]{40})\\b', 'SHA1', text)\n",
    "    text = re.sub(r'\\b([a-f0-9]{64}|[A-F0-9]{64})\\b', 'SHA256', text)\n",
    "    text = re.sub(r'\\d+:[A-Za-z0-9/+]+:[A-Za-z0-9/+]+', 'ssdeep', text)\n",
    "    text = re.sub(r'\\b[a-fA-F\\d]{32}\\b|\\b[a-fA-F\\d]{40}\\b|\\b[a-fA-F\\d]{64}\\b', 'hash', text)\n",
    "    text = re.sub(r'h[tx][tx]ps?:[\\\\\\/][\\\\\\/](?:[0-9a-zA-Z_\\.\\-\\/\\\\]|\\[\\.\\])+', 'URL', text)\n",
    "    text = re.sub(r'((?:[0-9a-zA-Z_\\-]+\\.)+(?:(?!exe|dll)[a-z]{2,4}))', 'domain', text)\n",
    "    text = re.sub(r'[a-fA-F0-9]{16}', '', text)\n",
    "    text = re.sub(r'[0-9]{8}', '', text)\n",
    "    text = re.sub(r'x[A-Fa-f0-9]{2}', '', text)\n",
    "    \n",
    "    return text\n",
    "\n",
    "def rmstopword_and_lemmatize(text):\n",
    "    token = [word for word in word_tokenize(text.lower()) if word not in stopwords.words('english')]\n",
    "    # tag = pos_tag(token)\n",
    "    tag = nltk.pos_tag(token, lang='eng')\n",
    "    lemmatizer = WordNetLemmatizer()\n",
    "    text = ' '.join(list(map(lambda x: lemmatizer.lemmatize(x[0], pos=get_wordnet_pos(x[1])), tag)))\n",
    "    \n",
    "    return text\n",
    "\n",
    "def preprocess(text):\n",
    "    text = str(text)\n",
    "    #text = text.lower()\n",
    "    text = re.sub(r'etc\\.', '', text)\n",
    "    text = re.sub(r'et al\\.', '', text)\n",
    "    text = re.sub(r'e\\.g\\.', '', text)\n",
    "    text = re.sub(r'i\\.e\\.', '', text)\n",
    "    #text = re.sub(r'\\[.\\]', '.', text)\n",
    "    text = re.sub(r'\\[\\d+\\]', '', text)\n",
    "    \n",
    "    text = ioc_sub(text)\n",
    "    \n",
    "    text = re.sub(r'[^A-Za-z0-9_\\[\\]]', ' ', text)\n",
    "    text = re.sub(r'\\s+', ' ', text)\n",
    "    \n",
    "    text = rmstopword_and_lemmatize(text)\n",
    "    \n",
    "    text = re.sub(r'[\\[\\]]', ' ', text)\n",
    "    text = re.sub(r' [a-z0-9] ', '', text)\n",
    "    \n",
    "    return text\n"
   ]
  },
  {
   "cell_type": "code",
   "execution_count": 53,
   "id": "d0b15fb5",
   "metadata": {},
   "outputs": [],
   "source": [
    "df['text_clean'] = df['Text'].map(lambda t: preprocess(t))"
   ]
  },
  {
   "cell_type": "code",
   "execution_count": 54,
   "id": "a1f45aa4",
   "metadata": {},
   "outputs": [
    {
     "name": "stdout",
     "output_type": "stream",
     "text": [
      "waspthemes visual cs style editor aka yellow pencil visual theme customizer plugin2wordpress allows yp_option_update csrf demonstrate use yp_remote_get obtain admin access\n"
     ]
    }
   ],
   "source": [
    "print(df['text_clean'][0])"
   ]
  },
  {
   "cell_type": "code",
   "execution_count": 55,
   "id": "786ca6fc",
   "metadata": {},
   "outputs": [
    {
     "name": "stdout",
     "output_type": "stream",
     "text": [
      "ID                                                    CVE_2019_11886\n",
      "Text               The WaspThemes Visual CSS Style Editor (aka ye...\n",
      "TA0001                                                             1\n",
      "TA0002                                                             1\n",
      "TA0003                                                             0\n",
      "                                         ...                        \n",
      "T1622                                                              0\n",
      "T1647                                                              0\n",
      "tactic_label              [1, 1, 0, 0, 0, 0, 0, 0, 0, 0, 0, 0, 0, 0]\n",
      "technique_label    [0, 0, 0, 0, 0, 0, 0, 0, 0, 0, 0, 0, 0, 0, 0, ...\n",
      "text_clean         waspthemes visual cs style editor aka yellow p...\n",
      "Name: 0, Length: 204, dtype: object\n"
     ]
    }
   ],
   "source": [
    "print(df.iloc[0])"
   ]
  },
  {
   "cell_type": "markdown",
   "id": "a410a869",
   "metadata": {},
   "source": [
    "# Dataset & Dataloader"
   ]
  },
  {
   "cell_type": "code",
   "execution_count": 56,
   "id": "d1025229",
   "metadata": {},
   "outputs": [],
   "source": [
    "def get_texts(df):\n",
    "    texts = df['text']\n",
    "    texts = texts.values.tolist()\n",
    "    return texts\n",
    "\n",
    "def get_labels(df):\n",
    "    labels = df['labels'].values\n",
    "    return labels\n",
    "\n",
    "def get_ids(df):\n",
    "    ids = df['ID'].values.tolist()"
   ]
  },
  {
   "cell_type": "code",
   "execution_count": 57,
   "id": "75e4f49b",
   "metadata": {},
   "outputs": [],
   "source": [
    "from torch.utils.data import Dataset, DataLoader\n",
    "class TransformerDataset_ta(Dataset):\n",
    "    def __init__(self, df, indices, set_type=None):\n",
    "        super(TransformerDataset_ta, self).__init__()\n",
    "\n",
    "        df = df.iloc[indices]\n",
    "        self.texts = get_texts(df)\n",
    "        self.set_type = set_type\n",
    "        if self.set_type != 'test':\n",
    "            self.labels = get_labels(df)\n",
    "\n",
    "        self.tokenizer = Config().TOKENIZER\n",
    "        self.max_length = Config().MAX_LENGTH\n",
    "\n",
    "    def __len__(self):\n",
    "        return len(self.texts)\n",
    "\n",
    "    def __getitem__(self, index):\n",
    "        tokenized = self.tokenizer.encode_plus(\n",
    "            self.texts[index],\n",
    "            max_length=self.max_length,\n",
    "            pad_to_max_length=True,\n",
    "            truncation=True,\n",
    "            return_attention_mask=True,\n",
    "            return_token_type_ids=False,\n",
    "            return_tensors='pt'\n",
    "        )\n",
    "\n",
    "        input_ids = tokenized['input_ids'].squeeze()\n",
    "        attention_mask = tokenized['attention_mask'].squeeze()\n",
    "\n",
    "        if self.set_type != 'test':\n",
    "            return {\n",
    "                'input_ids': input_ids.long(),\n",
    "                'attention_mask': attention_mask.long(),\n",
    "                'labels': torch.Tensor(self.labels[index]).float(),\n",
    "            }\n",
    "\n",
    "        return {\n",
    "            'input_ids': input_ids.long(),\n",
    "            'attention_mask': attention_mask.long(),\n",
    "        }"
   ]
  },
  {
   "cell_type": "code",
   "execution_count": 58,
   "id": "69f46327",
   "metadata": {},
   "outputs": [],
   "source": [
    "\n",
    "class TransformerDataset_te(Dataset):\n",
    "    def __init__(self, df, indices, set_type=None):\n",
    "        super(TransformerDataset_te, self).__init__()\n",
    "\n",
    "        df = df.iloc[indices]\n",
    "        self.texts = get_texts(df)\n",
    "        self.set_type = set_type\n",
    "        if self.set_type != 'test':\n",
    "            self.labels = get_labels(df)\n",
    "\n",
    "        self.tokenizer = Config().TOKENIZER\n",
    "        self.max_length = Config().MAX_LENGTH\n",
    "\n",
    "    def __len__(self):\n",
    "        return len(self.texts)\n",
    "\n",
    "    def __getitem__(self, index):\n",
    "        tokenized = self.tokenizer.encode_plus(\n",
    "            self.texts[index],\n",
    "            max_length=self.max_length,\n",
    "            pad_to_max_length=True,\n",
    "            truncation=True,\n",
    "            return_attention_mask=True,\n",
    "            return_token_type_ids=False,\n",
    "            return_tensors='pt'\n",
    "        )\n",
    "\n",
    "        input_ids = tokenized['input_ids'].squeeze()\n",
    "        attention_mask = tokenized['attention_mask'].squeeze()\n",
    "\n",
    "        if self.set_type != 'test':\n",
    "            return {\n",
    "                'input_ids': input_ids.long(),\n",
    "                'attention_mask': attention_mask.long(),\n",
    "                'labels': torch.Tensor(self.labels[index]).float(),\n",
    "            }\n",
    "\n",
    "        return {\n",
    "            'input_ids': input_ids.long(),\n",
    "            'attention_mask': attention_mask.long(),\n",
    "        }"
   ]
  },
  {
   "cell_type": "code",
   "execution_count": 59,
   "id": "a445b021",
   "metadata": {},
   "outputs": [],
   "source": [
    "from sklearn.model_selection import train_test_split\n",
    "\n",
    "train, test = train_test_split(df, test_size=0.2, random_state=2222)\n",
    "validation, test = train_test_split(test, test_size=0.5, random_state=2222)"
   ]
  },
  {
   "cell_type": "code",
   "execution_count": 60,
   "id": "0690d557",
   "metadata": {},
   "outputs": [],
   "source": [
    "df_ta_train = train[['text_clean', 'tactic_label']]\n",
    "df_ta_val = validation[['text_clean', 'tactic_label']]\n",
    "df_ta_test = test[['text_clean', 'tactic_label']]\n",
    "df_ta_train = df_ta_train.rename(columns={'text_clean':'text', 'tactic_label':'labels'})\n",
    "df_ta_val = df_ta_val.rename(columns={'text_clean':'text', 'tactic_label':'labels'})\n",
    "df_ta_test = df_ta_test.rename(columns={'text_clean':'text', 'tactic_label':'labels'})\n"
   ]
  },
  {
   "cell_type": "code",
   "execution_count": 61,
   "id": "c0d0cbeb",
   "metadata": {},
   "outputs": [],
   "source": [
    "# df_te_train = df.iloc[train.index][['text_clean', 'technique_label']]\n",
    "# df_te_val = df.iloc[validation.index][['text_clean', 'technique_label']]\n",
    "# df_te_test = df.iloc[test.index][['text_clean', 'technique_label']]\n",
    "# df_te_train = df_te_train.rename(columns={'text_clean':'text', 'technique_label':'labels'})\n",
    "# df_te_val = df_te_val.rename(columns={'text_clean':'text', 'technique_label':'labels'})\n",
    "# df_te_test = df_te_test.rename(columns={'text_clean':'text', 'technique_label':'labels'})"
   ]
  },
  {
   "cell_type": "code",
   "execution_count": 62,
   "id": "47e65de5",
   "metadata": {},
   "outputs": [],
   "source": [
    "train_data_ta = TransformerDataset_ta(df_ta_train, range(len(df_ta_train)))\n",
    "val_data_ta = TransformerDataset_ta(df_ta_val, range(len(df_ta_val)))\n",
    "test_data_ta = TransformerDataset_ta(df_ta_test, range(len(df_ta_test)))"
   ]
  },
  {
   "cell_type": "code",
   "execution_count": 63,
   "id": "c5eaf2da",
   "metadata": {},
   "outputs": [],
   "source": [
    "# train_data_te = TransformerDataset_te(df_ta_train, range(len(df_te_train)))\n",
    "# val_data_te = TransformerDataset_te(df_ta_val, range(len(df_te_val)))\n",
    "# test_data_te = TransformerDataset_te(df_ta_test, range(len(df_te_test)))"
   ]
  },
  {
   "cell_type": "code",
   "execution_count": 64,
   "id": "319cd479",
   "metadata": {},
   "outputs": [],
   "source": [
    "train_dataloader_ta = DataLoader(train_data_ta, batch_size=Config().BATCH_SIZE)\n",
    "val_dataloader_ta = DataLoader(val_data_ta, batch_size=Config().BATCH_SIZE)\n",
    "test_dataloader_ta = DataLoader(test_data_ta, batch_size=Config().BATCH_SIZE)"
   ]
  },
  {
   "cell_type": "code",
   "execution_count": 65,
   "id": "e7c67b51",
   "metadata": {},
   "outputs": [],
   "source": [
    "# train_dataloader_te = DataLoader(train_data_te, batch_size=Config().BATCH_SIZE)\n",
    "# val_dataloader_te = DataLoader(val_data_te, batch_size=Config().BATCH_SIZE)\n",
    "# test_dataloader_te = DataLoader(test_data_te, batch_size=Config().BATCH_SIZE)"
   ]
  },
  {
   "cell_type": "code",
   "execution_count": 66,
   "id": "369e1ce0",
   "metadata": {},
   "outputs": [],
   "source": [
    "train_dataloader = train_dataloader_ta\n",
    "val_dataloader = val_dataloader_ta\n",
    "test_dataloader = test_dataloader_ta"
   ]
  },
  {
   "cell_type": "code",
   "execution_count": 67,
   "id": "b1671d1a",
   "metadata": {},
   "outputs": [
    {
     "name": "stdout",
     "output_type": "stream",
     "text": [
      "input_ids shape: torch.Size([16, 320])\n",
      "attention_mask shape: torch.Size([16, 320])\n",
      "labels shape: torch.Size([16, 14])\n"
     ]
    }
   ],
   "source": [
    "b = next(iter(train_dataloader_ta))\n",
    "for k, v in b.items():\n",
    "    print(f'{k} shape: {v.shape}')"
   ]
  },
  {
   "cell_type": "markdown",
   "id": "00117a96",
   "metadata": {},
   "source": [
    "# Model"
   ]
  },
  {
   "cell_type": "code",
   "execution_count": 68,
   "id": "ff574fa8",
   "metadata": {},
   "outputs": [],
   "source": [
    "class Model(nn.Module):\n",
    "    def __init__(self):\n",
    "        super(Model, self).__init__()\n",
    "\n",
    "        self.transformer_model = AutoModel.from_pretrained(\n",
    "                Config().MODEL_PATH\n",
    "        )\n",
    "        self.dropout = nn.Dropout(0.3)\n",
    "\n",
    "        self.output = nn.Linear(768, Config().NUM_LABELS_TA)\n",
    "\n",
    "    def forward(\n",
    "        self,\n",
    "        input_ids,\n",
    "        attention_mask=None,\n",
    "        token_type_ids=None\n",
    "        ):\n",
    "\n",
    "        _, o2 = self.transformer_model(\n",
    "            input_ids=input_ids,\n",
    "            attention_mask=attention_mask,\n",
    "            token_type_ids=token_type_ids,\n",
    "            return_dict=False\n",
    "        )\n",
    "\n",
    "        x = self.dropout(o2)\n",
    "        out = self.output(x)\n",
    "\n",
    "        return out"
   ]
  },
  {
   "cell_type": "markdown",
   "id": "a5d26a57",
   "metadata": {},
   "source": [
    "# Train and test"
   ]
  },
  {
   "cell_type": "code",
   "execution_count": 69,
   "id": "5fbd1c49",
   "metadata": {},
   "outputs": [],
   "source": [
    "BEST_F1 = 0\n",
    "BEST_TRUE = []\n",
    "BEST_PREDICTED = []"
   ]
  },
  {
   "cell_type": "code",
   "execution_count": 70,
   "id": "b26a3123",
   "metadata": {},
   "outputs": [],
   "source": [
    "metrics_log = [] "
   ]
  },
  {
   "cell_type": "code",
   "execution_count": 71,
   "id": "ecdc1dc1",
   "metadata": {},
   "outputs": [],
   "source": [
    "def val(model, val_dataloader, criterion, is_final_test=False):\n",
    "    global BEST_F1, BEST_TRUE, BEST_PREDICTED, device\n",
    "\n",
    "    val_loss = 0\n",
    "    true, pred = [], []\n",
    "\n",
    "    model.eval()\n",
    "\n",
    "    results = {}\n",
    "\n",
    "    for step, batch in enumerate(val_dataloader):\n",
    "        b_input_ids = batch['input_ids'].to(device)\n",
    "        b_attention_mask = batch['attention_mask'].to(device)\n",
    "        b_labels = batch['labels'].to(device)\n",
    "\n",
    "        with torch.no_grad():\n",
    "            logits = model(input_ids=b_input_ids, attention_mask=b_attention_mask)\n",
    "\n",
    "            loss = criterion(logits, b_labels)\n",
    "            val_loss += loss.item()\n",
    "\n",
    "            logits = torch.sigmoid(logits)\n",
    "            logits = np.round(logits.cpu().numpy())\n",
    "            labels = b_labels.cpu().numpy()\n",
    "\n",
    "            pred.extend(logits)\n",
    "            true.extend(labels)\n",
    "\n",
    "    # avg_val_loss = val_loss / len(val_dataloader)\n",
    "    # print('Val loss:', avg_val_loss)\n",
    "    # print('Val accuracy:', accuracy_score(true, pred))\n",
    "\n",
    "    # print('Val precision:', precision_score(true, pred, average='weighted'))\n",
    "    # print('Val recall:', recall_score(true, pred, average='weighted'))\n",
    "\n",
    "    # val_micro_f1_score = f1_score(true, pred, average='micro')\n",
    "    # print('Val micro f1 score:', val_micro_f1_score)\n",
    "\n",
    "    # val_macro_f1_score = f1_score(true, pred, average='macro')\n",
    "    # print('Val macro f1 score:', val_macro_f1_score)\n",
    "\n",
    "    val_weighted_f1_score = f1_score(true, pred, average='weighted')\n",
    "    # print('Val weighted f1 score:', val_weighted_f1_score)\n",
    "\n",
    "    results.update({\n",
    "        \"f1_sampled\": f1_score(true, pred, average='samples', zero_division=0),\n",
    "        \"f1_micro\": f1_score(true, pred, average='micro', zero_division=0),\n",
    "        \"f1_macro\": f1_score(true, pred, average='macro', zero_division=0),\n",
    "        \"f_05_sample\": fbeta_score(true, pred, average='samples', beta=0.5, zero_division=0),\n",
    "        \"f_05_micro\": fbeta_score(true, pred, average='micro', beta=0.5, zero_division=0),\n",
    "        \"f_05_macro\": fbeta_score(true, pred, average='macro', beta=0.5, zero_division=0),\n",
    "        \"precision_sampled\": precision_score(true, pred, average='samples', zero_division=0),\n",
    "        \"precision_micro\": precision_score(true, pred, average='micro', zero_division=0),\n",
    "        \"precision_macro\": precision_score(true, pred, average='macro', zero_division=0),\n",
    "        \"recall_sampled\": recall_score(true, pred, average='samples', zero_division=0),\n",
    "        \"recall_micro\": recall_score(true, pred, average='micro', zero_division=0),\n",
    "        \"recall_macro\": recall_score(true, pred, average='macro', zero_division=0),\n",
    "        \"accuracy\": accuracy_score(true, pred),\n",
    "        })\n",
    "\n",
    "    labels_float = labels.astype(float)\n",
    "    results.update({\n",
    "        \"coverage_error\": coverage_error(labels_float, logits),\n",
    "        \"label_ranking_loss\": label_ranking_loss(labels_float, logits),\n",
    "        \"lrap\": label_ranking_average_precision_score(labels_float, logits),\n",
    "    })\n",
    "\n",
    "    metrics_log.append(results.copy())\n",
    "\n",
    "    print(results)\n",
    "\n",
    "\n",
    "    if (is_final_test is True):\n",
    "      BEST_F1 = val_weighted_f1_score\n",
    "      BEST_TRUE = true\n",
    "      BEST_PREDICTED = pred\n",
    "    elif (val_weighted_f1_score > BEST_F1):\n",
    "      BEST_F1 = val_weighted_f1_score\n",
    "      BEST_TRUE = true\n",
    "      BEST_PREDICTED = pred\n",
    "\n",
    "    return val_weighted_f1_score\n",
    "\n"
   ]
  },
  {
   "cell_type": "code",
   "execution_count": 72,
   "id": "533523db",
   "metadata": {},
   "outputs": [],
   "source": [
    "def train(model, train_dataloader, val_dataloader, criterion, optimizer, scheduler, epoch):\n",
    "    global device\n",
    "    nv = Config().N_VALIDATE_DUR_TRAIN\n",
    "    temp = len(train_dataloader) // nv\n",
    "    temp = temp - (temp % 100)\n",
    "    validate_at_steps = [temp * x for x in range(1, nv + 1)]\n",
    "\n",
    "    train_loss = 0\n",
    "    train_losses = []\n",
    "\n",
    "    for step, batch in enumerate(tqdm(train_dataloader,\n",
    "                                      desc='Epoch ' + str(epoch))):\n",
    "        model.train()\n",
    "\n",
    "        b_input_ids = batch['input_ids'].to(device)\n",
    "        b_attention_mask = batch['attention_mask'].to(device)\n",
    "        b_labels = batch['labels'].to(device)\n",
    "\n",
    "        optimizer.zero_grad()\n",
    "\n",
    "        logits = model(input_ids=b_input_ids, attention_mask=b_attention_mask)\n",
    "\n",
    "        loss = criterion(logits, b_labels)\n",
    "        train_loss += loss.item()\n",
    "\n",
    "        loss.backward()\n",
    "\n",
    "        optimizer.step()\n",
    "\n",
    "        scheduler.step()\n",
    "\n",
    "        if step in validate_at_steps:\n",
    "            print(f'-- Step: {step}')\n",
    "            _ = val(model, val_dataloader, criterion)\n",
    "\n",
    "\n",
    "    avg_train_loss = train_loss / len(train_dataloader)\n",
    "    print('Training loss:', avg_train_loss)"
   ]
  },
  {
   "cell_type": "code",
   "execution_count": 73,
   "id": "a5ee9825",
   "metadata": {},
   "outputs": [],
   "source": [
    "def run():\n",
    "    global train_data, val_data, test_data, train_dataloader, val_dataloader, test_dataloader, model\n",
    "    torch.manual_seed(Config().SEED)\n",
    "\n",
    "    criterion = nn.BCEWithLogitsLoss()\n",
    "\n",
    "    if Config().FULL_FINETUNING:\n",
    "        param_optimizer = list(model.named_parameters())\n",
    "        no_decay = [\"bias\", \"LayerNorm.bias\", \"LayerNorm.weight\"]\n",
    "        optimizer_parameters = [\n",
    "            {\n",
    "                \"params\": [\n",
    "                    p for n, p in param_optimizer if not any(nd in n for nd in no_decay)\n",
    "                ],\n",
    "                \"weight_decay\": 0.001,\n",
    "            },\n",
    "            {\n",
    "                \"params\": [\n",
    "                    p for n, p in param_optimizer if any(nd in n for nd in no_decay)\n",
    "                ],\n",
    "                \"weight_decay\": 0.0,\n",
    "            },\n",
    "        ]\n",
    "        optimizer = optim.AdamW(optimizer_parameters, lr=Config().LR)\n",
    "\n",
    "    num_training_steps = len(train_dataloader) * Config().EPOCHS\n",
    "    scheduler = get_linear_schedule_with_warmup(\n",
    "        optimizer,\n",
    "        num_warmup_steps=0,\n",
    "        num_training_steps=num_training_steps\n",
    "    )\n",
    "\n",
    "    max_val_weighted_f1_score = float('-inf')\n",
    "    for epoch in range(Config().EPOCHS):\n",
    "        train(model, train_dataloader, val_dataloader, criterion, optimizer, scheduler, epoch)\n",
    "        val_weighted_f1_score = val(model, val_dataloader, criterion)\n",
    "\n",
    "        if Config().SAVE_BEST_ONLY:\n",
    "            if val_weighted_f1_score > max_val_weighted_f1_score:\n",
    "                best_model = copy.deepcopy(model)\n",
    "\n",
    "                model_name = 'scibert_best_model'\n",
    "                torch.save(best_model.state_dict(), model_name + '.pt')\n",
    "\n",
    "                print(f'--- Best Model. Val: {max_val_weighted_f1_score} -> {val_weighted_f1_score}')\n",
    "                max_val_weighted_f1_score = val_weighted_f1_score\n",
    "\n",
    "    return best_model, max_val_weighted_f1_score"
   ]
  },
  {
   "cell_type": "markdown",
   "id": "cb777d10",
   "metadata": {},
   "source": [
    "# Tactic_multi model"
   ]
  },
  {
   "cell_type": "code",
   "execution_count": 74,
   "id": "c0e7fb55",
   "metadata": {},
   "outputs": [],
   "source": [
    "from sklearn.metrics import coverage_error, label_ranking_average_precision_score, label_ranking_loss\n",
    "from sklearn.metrics import hamming_loss, precision_score, recall_score, f1_score, fbeta_score\n",
    "from sklearn.metrics import accuracy_score"
   ]
  },
  {
   "cell_type": "code",
   "execution_count": 75,
   "id": "43a5c244",
   "metadata": {},
   "outputs": [
    {
     "data": {
      "text/plain": [
       "Model(\n",
       "  (transformer_model): BertModel(\n",
       "    (embeddings): BertEmbeddings(\n",
       "      (word_embeddings): Embedding(31090, 768, padding_idx=0)\n",
       "      (position_embeddings): Embedding(512, 768)\n",
       "      (token_type_embeddings): Embedding(2, 768)\n",
       "      (LayerNorm): LayerNorm((768,), eps=1e-12, elementwise_affine=True)\n",
       "      (dropout): Dropout(p=0.1, inplace=False)\n",
       "    )\n",
       "    (encoder): BertEncoder(\n",
       "      (layer): ModuleList(\n",
       "        (0-11): 12 x BertLayer(\n",
       "          (attention): BertAttention(\n",
       "            (self): BertSdpaSelfAttention(\n",
       "              (query): Linear(in_features=768, out_features=768, bias=True)\n",
       "              (key): Linear(in_features=768, out_features=768, bias=True)\n",
       "              (value): Linear(in_features=768, out_features=768, bias=True)\n",
       "              (dropout): Dropout(p=0.1, inplace=False)\n",
       "            )\n",
       "            (output): BertSelfOutput(\n",
       "              (dense): Linear(in_features=768, out_features=768, bias=True)\n",
       "              (LayerNorm): LayerNorm((768,), eps=1e-12, elementwise_affine=True)\n",
       "              (dropout): Dropout(p=0.1, inplace=False)\n",
       "            )\n",
       "          )\n",
       "          (intermediate): BertIntermediate(\n",
       "            (dense): Linear(in_features=768, out_features=3072, bias=True)\n",
       "            (intermediate_act_fn): GELUActivation()\n",
       "          )\n",
       "          (output): BertOutput(\n",
       "            (dense): Linear(in_features=3072, out_features=768, bias=True)\n",
       "            (LayerNorm): LayerNorm((768,), eps=1e-12, elementwise_affine=True)\n",
       "            (dropout): Dropout(p=0.1, inplace=False)\n",
       "          )\n",
       "        )\n",
       "      )\n",
       "    )\n",
       "    (pooler): BertPooler(\n",
       "      (dense): Linear(in_features=768, out_features=768, bias=True)\n",
       "      (activation): Tanh()\n",
       "    )\n",
       "  )\n",
       "  (dropout): Dropout(p=0.3, inplace=False)\n",
       "  (output): Linear(in_features=768, out_features=14, bias=True)\n",
       ")"
      ]
     },
     "execution_count": 75,
     "metadata": {},
     "output_type": "execute_result"
    }
   ],
   "source": [
    "project_dir = './'\n",
    "config = Config()\n",
    "device = Config().DEVICE\n",
    "model = Model()\n",
    "model.to(device)"
   ]
  },
  {
   "cell_type": "code",
   "execution_count": 76,
   "id": "e5534c84",
   "metadata": {},
   "outputs": [
    {
     "name": "stderr",
     "output_type": "stream",
     "text": [
      "Epoch 0:   0%|          | 0/76 [00:00<?, ?it/s]"
     ]
    },
    {
     "name": "stdout",
     "output_type": "stream",
     "text": [
      "-- Step: 0\n"
     ]
    },
    {
     "name": "stderr",
     "output_type": "stream",
     "text": [
      "Epoch 0:   1%|▏         | 1/76 [00:01<01:54,  1.53s/it]"
     ]
    },
    {
     "name": "stdout",
     "output_type": "stream",
     "text": [
      "{'f1_sampled': 0.2866593567251462, 'f1_micro': 0.29985855728429983, 'f1_macro': 0.09383927358261158, 'f_05_sample': 0.25326370721031183, 'f_05_micro': 0.25286259541984735, 'f_05_macro': 0.07084824935322967, 'precision_sampled': 0.23848684210526316, 'precision_micro': 0.22894168466522677, 'precision_macro': 0.061003710219049656, 'recall_sampled': 0.4182017543859649, 'recall_micro': 0.4344262295081967, 'recall_macro': 0.2780906969022227, 'accuracy': 0.019736842105263157, 'coverage_error': np.float64(12.625), 'label_ranking_loss': np.float64(0.7309731934731936), 'lrap': np.float64(0.22371031746031747)}\n"
     ]
    },
    {
     "name": "stderr",
     "output_type": "stream",
     "text": [
      "Epoch 0: 100%|██████████| 76/76 [00:08<00:00,  8.69it/s]\n"
     ]
    },
    {
     "name": "stdout",
     "output_type": "stream",
     "text": [
      "Training loss: 0.33535270824244146\n",
      "{'f1_sampled': 0.0043859649122807015, 'f1_micro': 0.00816326530612245, 'f1_macro': 0.0026455026455026454, 'f_05_sample': 0.005482456140350878, 'f_05_micro': 0.020161290322580645, 'f_05_macro': 0.006265664160401002, 'precision_sampled': 0.006578947368421052, 'precision_micro': 1.0, 'precision_macro': 0.07142857142857142, 'recall_sampled': 0.003289473684210526, 'recall_micro': 0.004098360655737705, 'recall_macro': 0.001347708894878706, 'accuracy': 0.05921052631578947, 'coverage_error': np.float64(14.0), 'label_ranking_loss': np.float64(1.0), 'lrap': np.float64(0.1607142857142857)}\n",
      "--- Best Model. Val: -inf -> 0.008044930176077717\n"
     ]
    },
    {
     "name": "stderr",
     "output_type": "stream",
     "text": [
      "Epoch 1:   0%|          | 0/76 [00:00<?, ?it/s]"
     ]
    },
    {
     "name": "stdout",
     "output_type": "stream",
     "text": [
      "-- Step: 0\n"
     ]
    },
    {
     "name": "stderr",
     "output_type": "stream",
     "text": [
      "Epoch 1:   4%|▍         | 3/76 [00:01<00:26,  2.75it/s]"
     ]
    },
    {
     "name": "stdout",
     "output_type": "stream",
     "text": [
      "{'f1_sampled': 0.046052631578947366, 'f1_micro': 0.06324110671936758, 'f1_macro': 0.018433179723502304, 'f_05_sample': 0.049342105263157895, 'f_05_micro': 0.14285714285714285, 'f_05_macro': 0.03210272873194221, 'precision_sampled': 0.05263157894736842, 'precision_micro': 0.8888888888888888, 'precision_macro': 0.06349206349206349, 'recall_sampled': 0.04276315789473684, 'recall_micro': 0.03278688524590164, 'recall_macro': 0.010781671159029648, 'accuracy': 0.09210526315789473, 'coverage_error': np.float64(14.0), 'label_ranking_loss': np.float64(1.0), 'lrap': np.float64(0.1607142857142857)}\n"
     ]
    },
    {
     "name": "stderr",
     "output_type": "stream",
     "text": [
      "Epoch 1: 100%|██████████| 76/76 [00:08<00:00,  9.12it/s]\n"
     ]
    },
    {
     "name": "stdout",
     "output_type": "stream",
     "text": [
      "Training loss: 0.28163197499356774\n",
      "{'f1_sampled': 0.2777568922305764, 'f1_micro': 0.3780821917808219, 'f1_macro': 0.11280347559417327, 'f_05_sample': 0.2812752853871275, 'f_05_micro': 0.4739010989010989, 'f_05_macro': 0.12487753722178528, 'precision_sampled': 0.29605263157894735, 'precision_micro': 0.5702479338842975, 'precision_macro': 0.14018218623481782, 'recall_sampled': 0.3055921052631579, 'recall_micro': 0.2827868852459016, 'recall_macro': 0.10688649947263565, 'accuracy': 0.14473684210526316, 'coverage_error': np.float64(10.875), 'label_ranking_loss': np.float64(0.6033653846153846), 'lrap': np.float64(0.45982142857142855)}\n",
      "--- Best Model. Val: 0.008044930176077717 -> 0.2853622295864004\n"
     ]
    },
    {
     "name": "stderr",
     "output_type": "stream",
     "text": [
      "Epoch 2:   0%|          | 0/76 [00:00<?, ?it/s]"
     ]
    },
    {
     "name": "stdout",
     "output_type": "stream",
     "text": [
      "-- Step: 0\n"
     ]
    },
    {
     "name": "stderr",
     "output_type": "stream",
     "text": [
      "Epoch 2:   4%|▍         | 3/76 [00:00<00:18,  3.86it/s]"
     ]
    },
    {
     "name": "stdout",
     "output_type": "stream",
     "text": [
      "{'f1_sampled': 0.2652568922305764, 'f1_micro': 0.3657142857142857, 'f1_macro': 0.11178456890002376, 'f_05_sample': 0.2717332010095168, 'f_05_micro': 0.47904191616766467, 'f_05_macro': 0.1265241987245142, 'precision_sampled': 0.28618421052631576, 'precision_micro': 0.6037735849056604, 'precision_macro': 0.1431663574520717, 'recall_sampled': 0.2820175438596491, 'recall_micro': 0.26229508196721313, 'recall_macro': 0.10041713055197468, 'accuracy': 0.17105263157894737, 'coverage_error': np.float64(10.875), 'label_ranking_loss': np.float64(0.6658653846153846), 'lrap': np.float64(0.40624999999999994)}\n"
     ]
    },
    {
     "name": "stderr",
     "output_type": "stream",
     "text": [
      "Epoch 2: 100%|██████████| 76/76 [00:07<00:00,  9.56it/s]\n"
     ]
    },
    {
     "name": "stdout",
     "output_type": "stream",
     "text": [
      "Training loss: 0.2511332174272914\n",
      "{'f1_sampled': 0.3474937343358396, 'f1_micro': 0.43256997455470736, 'f1_macro': 0.13276370789279568, 'f_05_sample': 0.3557643014879857, 'f_05_micro': 0.5059523809523809, 'f_05_macro': 0.13460142216256119, 'precision_sampled': 0.3717105263157895, 'precision_micro': 0.5704697986577181, 'precision_macro': 0.13729862867793902, 'recall_sampled': 0.3620614035087719, 'recall_micro': 0.3483606557377049, 'recall_macro': 0.13675583030587132, 'accuracy': 0.21710526315789475, 'coverage_error': np.float64(10.875), 'label_ranking_loss': np.float64(0.6033653846153846), 'lrap': np.float64(0.45982142857142855)}\n",
      "--- Best Model. Val: 0.2853622295864004 -> 0.32704847493016564\n"
     ]
    },
    {
     "name": "stderr",
     "output_type": "stream",
     "text": [
      "Epoch 3:   0%|          | 0/76 [00:00<?, ?it/s]"
     ]
    },
    {
     "name": "stdout",
     "output_type": "stream",
     "text": [
      "-- Step: 0\n"
     ]
    },
    {
     "name": "stderr",
     "output_type": "stream",
     "text": [
      "Epoch 3:   4%|▍         | 3/76 [00:00<00:16,  4.37it/s]"
     ]
    },
    {
     "name": "stdout",
     "output_type": "stream",
     "text": [
      "{'f1_sampled': 0.3615288220551378, 'f1_micro': 0.43842364532019706, 'f1_macro': 0.13259676284306826, 'f_05_sample': 0.36594600574863734, 'f_05_micro': 0.49887892376681614, 'f_05_macro': 0.13217221412374475, 'precision_sampled': 0.37938596491228066, 'precision_micro': 0.5493827160493827, 'precision_macro': 0.13346683908665305, 'recall_sampled': 0.3850877192982456, 'recall_micro': 0.36475409836065575, 'recall_macro': 0.14235175202156333, 'accuracy': 0.21710526315789475, 'coverage_error': np.float64(11.0), 'label_ranking_loss': np.float64(0.6129807692307692), 'lrap': np.float64(0.39732142857142855)}\n"
     ]
    },
    {
     "name": "stderr",
     "output_type": "stream",
     "text": [
      "Epoch 3: 100%|██████████| 76/76 [00:07<00:00,  9.71it/s]\n"
     ]
    },
    {
     "name": "stdout",
     "output_type": "stream",
     "text": [
      "Training loss: 0.2283568501864609\n",
      "{'f1_sampled': 0.32687969924812027, 'f1_micro': 0.4034090909090909, 'f1_macro': 0.15808354973909047, 'f_05_sample': 0.348514515455305, 'f_05_micro': 0.5251479289940828, 'f_05_macro': 0.18736680326561908, 'precision_sampled': 0.3782894736842105, 'precision_micro': 0.6574074074074074, 'precision_macro': 0.22277466542172425, 'recall_sampled': 0.3196271929824562, 'recall_micro': 0.29098360655737704, 'recall_macro': 0.13113770355388343, 'accuracy': 0.21710526315789475, 'coverage_error': np.float64(12.5), 'label_ranking_loss': np.float64(0.8221153846153846), 'lrap': np.float64(0.2678571428571428)}\n",
      "--- Best Model. Val: 0.32704847493016564 -> 0.340810249451279\n"
     ]
    },
    {
     "name": "stderr",
     "output_type": "stream",
     "text": [
      "Epoch 4:   0%|          | 0/76 [00:00<?, ?it/s]"
     ]
    },
    {
     "name": "stdout",
     "output_type": "stream",
     "text": [
      "-- Step: 0\n"
     ]
    },
    {
     "name": "stderr",
     "output_type": "stream",
     "text": [
      "Epoch 4:   4%|▍         | 3/76 [00:00<00:17,  4.12it/s]"
     ]
    },
    {
     "name": "stdout",
     "output_type": "stream",
     "text": [
      "{'f1_sampled': 0.3385964912280701, 'f1_micro': 0.41304347826086957, 'f1_macro': 0.1545654351070314, 'f_05_sample': 0.35596804511278196, 'f_05_micro': 0.5135135135135135, 'f_05_macro': 0.18043553912660176, 'precision_sampled': 0.3815789473684211, 'precision_micro': 0.6129032258064516, 'precision_macro': 0.21539615846338536, 'recall_sampled': 0.3410087719298246, 'recall_micro': 0.3114754098360656, 'recall_macro': 0.13413485025232216, 'accuracy': 0.20394736842105263, 'coverage_error': np.float64(12.5), 'label_ranking_loss': np.float64(0.7908653846153846), 'lrap': np.float64(0.2901785714285714)}\n"
     ]
    },
    {
     "name": "stderr",
     "output_type": "stream",
     "text": [
      "Epoch 4: 100%|██████████| 76/76 [00:07<00:00,  9.62it/s]\n"
     ]
    },
    {
     "name": "stdout",
     "output_type": "stream",
     "text": [
      "Training loss: 0.20556267880295453\n",
      "{'f1_sampled': 0.3966165413533834, 'f1_micro': 0.4631043256997455, 'f1_macro': 0.20105341097845617, 'f_05_sample': 0.4324075047759259, 'f_05_micro': 0.5416666666666666, 'f_05_macro': 0.22446936907364345, 'precision_sampled': 0.4780701754385964, 'precision_micro': 0.610738255033557, 'precision_macro': 0.2518800195544382, 'recall_sampled': 0.37741228070175437, 'recall_micro': 0.3729508196721312, 'recall_macro': 0.18165106515058477, 'accuracy': 0.21710526315789475, 'coverage_error': np.float64(10.875), 'label_ranking_loss': np.float64(0.5981570512820513), 'lrap': np.float64(0.4389880952380952)}\n",
      "--- Best Model. Val: 0.340810249451279 -> 0.41521833219649823\n"
     ]
    },
    {
     "name": "stderr",
     "output_type": "stream",
     "text": [
      "Epoch 5:   0%|          | 0/76 [00:00<?, ?it/s]"
     ]
    },
    {
     "name": "stdout",
     "output_type": "stream",
     "text": [
      "-- Step: 0\n"
     ]
    },
    {
     "name": "stderr",
     "output_type": "stream",
     "text": [
      "Epoch 5:   4%|▍         | 3/76 [00:00<00:17,  4.23it/s]"
     ]
    },
    {
     "name": "stdout",
     "output_type": "stream",
     "text": [
      "{'f1_sampled': 0.4160714285714286, 'f1_micro': 0.4836272040302267, 'f1_macro': 0.21155638288765224, 'f_05_sample': 0.44895277419948476, 'f_05_micro': 0.5607476635514018, 'f_05_macro': 0.23298922087660628, 'precision_sampled': 0.4934210526315789, 'precision_micro': 0.6274509803921569, 'precision_macro': 0.25603192528658364, 'recall_sampled': 0.40372807017543855, 'recall_micro': 0.39344262295081966, 'recall_macro': 0.19003775451511826, 'accuracy': 0.23684210526315788, 'coverage_error': np.float64(10.875), 'label_ranking_loss': np.float64(0.57069493006993), 'lrap': np.float64(0.4404761904761904)}\n"
     ]
    },
    {
     "name": "stderr",
     "output_type": "stream",
     "text": [
      "Epoch 5: 100%|██████████| 76/76 [00:07<00:00,  9.67it/s]\n"
     ]
    },
    {
     "name": "stdout",
     "output_type": "stream",
     "text": [
      "Training loss: 0.17963985863484835\n",
      "{'f1_sampled': 0.40983709273182956, 'f1_micro': 0.45662100456621, 'f1_macro': 0.20115270487370443, 'f_05_sample': 0.4325996554614976, 'f_05_micro': 0.49019607843137253, 'f_05_macro': 0.21106912309098808, 'precision_sampled': 0.46491228070175433, 'precision_micro': 0.5154639175257731, 'precision_macro': 0.22325998681930884, 'recall_sampled': 0.411951754385965, 'recall_micro': 0.4098360655737705, 'recall_macro': 0.20045025078431133, 'accuracy': 0.20394736842105263, 'coverage_error': np.float64(9.375), 'label_ranking_loss': np.float64(0.49777826340326337), 'lrap': np.float64(0.5044642857142858)}\n"
     ]
    },
    {
     "name": "stderr",
     "output_type": "stream",
     "text": [
      "Epoch 6:   0%|          | 0/76 [00:00<?, ?it/s]"
     ]
    },
    {
     "name": "stdout",
     "output_type": "stream",
     "text": [
      "-- Step: 0\n"
     ]
    },
    {
     "name": "stderr",
     "output_type": "stream",
     "text": [
      "Epoch 6:   4%|▍         | 3/76 [00:00<00:14,  4.97it/s]"
     ]
    },
    {
     "name": "stdout",
     "output_type": "stream",
     "text": [
      "{'f1_sampled': 0.41356516290726814, 'f1_micro': 0.4646924829157175, 'f1_macro': 0.2067593210011594, 'f_05_sample': 0.43355255855255853, 'f_05_micro': 0.498046875, 'f_05_macro': 0.21750574417992471, 'precision_sampled': 0.46271929824561403, 'precision_micro': 0.5230769230769231, 'precision_macro': 0.22950720375969547, 'recall_sampled': 0.42017543859649126, 'recall_micro': 0.4180327868852459, 'recall_macro': 0.2043781337815882, 'accuracy': 0.20394736842105263, 'coverage_error': np.float64(9.375), 'label_ranking_loss': np.float64(0.49777826340326337), 'lrap': np.float64(0.5044642857142858)}\n"
     ]
    },
    {
     "name": "stderr",
     "output_type": "stream",
     "text": [
      "Epoch 6: 100%|██████████| 76/76 [00:07<00:00,  9.77it/s]\n"
     ]
    },
    {
     "name": "stdout",
     "output_type": "stream",
     "text": [
      "Training loss: 0.15822342891050012\n",
      "{'f1_sampled': 0.4381578947368421, 'f1_micro': 0.4830917874396135, 'f1_macro': 0.21777111777111777, 'f_05_sample': 0.469348451256346, 'f_05_micro': 0.5411255411255411, 'f_05_macro': 0.23425481575612087, 'precision_sampled': 0.5098684210526315, 'precision_micro': 0.5882352941176471, 'precision_macro': 0.24789351837532952, 'recall_sampled': 0.425438596491228, 'recall_micro': 0.4098360655737705, 'recall_macro': 0.19744698830471813, 'accuracy': 0.2631578947368421, 'coverage_error': np.float64(10.875), 'label_ranking_loss': np.float64(0.5929487179487178), 'lrap': np.float64(0.4702380952380952)}\n",
      "--- Best Model. Val: 0.41521833219649823 -> 0.4455628160546192\n"
     ]
    },
    {
     "name": "stderr",
     "output_type": "stream",
     "text": [
      "Epoch 7:   0%|          | 0/76 [00:00<?, ?it/s]"
     ]
    },
    {
     "name": "stdout",
     "output_type": "stream",
     "text": [
      "-- Step: 0\n"
     ]
    },
    {
     "name": "stderr",
     "output_type": "stream",
     "text": [
      "Epoch 7:   4%|▍         | 3/76 [00:00<00:17,  4.18it/s]"
     ]
    },
    {
     "name": "stdout",
     "output_type": "stream",
     "text": [
      "{'f1_sampled': 0.44620927318295744, 'f1_micro': 0.49295774647887325, 'f1_macro': 0.2213556255026215, 'f_05_sample': 0.47770422194764295, 'f_05_micro': 0.5401234567901234, 'f_05_macro': 0.2326710946967923, 'precision_sampled': 0.5175438596491228, 'precision_micro': 0.5769230769230769, 'precision_macro': 0.24149666123350336, 'recall_sampled': 0.431140350877193, 'recall_micro': 0.430327868852459, 'recall_macro': 0.20654050541793662, 'accuracy': 0.26973684210526316, 'coverage_error': np.float64(7.875), 'label_ranking_loss': np.float64(0.4679487179487179), 'lrap': np.float64(0.5773809523809524)}\n"
     ]
    },
    {
     "name": "stderr",
     "output_type": "stream",
     "text": [
      "Epoch 7: 100%|██████████| 76/76 [00:07<00:00,  9.58it/s]\n"
     ]
    },
    {
     "name": "stdout",
     "output_type": "stream",
     "text": [
      "Training loss: 0.13715424045528235\n",
      "{'f1_sampled': 0.400125313283208, 'f1_micro': 0.45595854922279794, 'f1_macro': 0.2027480246757088, 'f_05_sample': 0.43599602152233724, 'f_05_micro': 0.541871921182266, 'f_05_macro': 0.23197076603834418, 'precision_sampled': 0.47916666666666674, 'precision_micro': 0.6197183098591549, 'precision_macro': 0.26092740126353575, 'recall_sampled': 0.37467105263157896, 'recall_micro': 0.36065573770491804, 'recall_macro': 0.1722411420557209, 'accuracy': 0.2565789473684211, 'coverage_error': np.float64(10.875), 'label_ranking_loss': np.float64(0.5200320512820513), 'lrap': np.float64(0.5252976190476191)}\n"
     ]
    },
    {
     "name": "stderr",
     "output_type": "stream",
     "text": [
      "Epoch 8:   0%|          | 0/76 [00:00<?, ?it/s]"
     ]
    },
    {
     "name": "stdout",
     "output_type": "stream",
     "text": [
      "-- Step: 0\n"
     ]
    },
    {
     "name": "stderr",
     "output_type": "stream",
     "text": [
      "Epoch 8:   4%|▍         | 3/76 [00:00<00:17,  4.23it/s]"
     ]
    },
    {
     "name": "stdout",
     "output_type": "stream",
     "text": [
      "{'f1_sampled': 0.4066102756892231, 'f1_micro': 0.4580152671755725, 'f1_macro': 0.20566340153438148, 'f_05_sample': 0.4389199981305244, 'f_05_micro': 0.5357142857142857, 'f_05_macro': 0.23086813217946064, 'precision_sampled': 0.47916666666666674, 'precision_micro': 0.6040268456375839, 'precision_macro': 0.25409550766693617, 'recall_sampled': 0.38728070175438595, 'recall_micro': 0.36885245901639346, 'recall_macro': 0.17732068617853822, 'accuracy': 0.2565789473684211, 'coverage_error': np.float64(10.875), 'label_ranking_loss': np.float64(0.5564903846153846), 'lrap': np.float64(0.4717261904761904)}\n"
     ]
    },
    {
     "name": "stderr",
     "output_type": "stream",
     "text": [
      "Epoch 8: 100%|██████████| 76/76 [00:07<00:00,  9.64it/s]\n"
     ]
    },
    {
     "name": "stdout",
     "output_type": "stream",
     "text": [
      "Training loss: 0.12042245386462462\n",
      "{'f1_sampled': 0.36951754385964913, 'f1_micro': 0.425, 'f1_macro': 0.17104909402837093, 'f_05_sample': 0.39840523146444196, 'f_05_micro': 0.48963133640552997, 'f_05_macro': 0.19170985465334892, 'precision_sampled': 0.4342105263157895, 'precision_micro': 0.5448717948717948, 'precision_macro': 0.22374768089053806, 'recall_sampled': 0.35635964912280704, 'recall_micro': 0.3483606557377049, 'recall_macro': 0.16066103973106502, 'accuracy': 0.20394736842105263, 'coverage_error': np.float64(10.875), 'label_ranking_loss': np.float64(0.6770833333333333), 'lrap': np.float64(0.4389880952380952)}\n"
     ]
    },
    {
     "name": "stderr",
     "output_type": "stream",
     "text": [
      "Epoch 9:   0%|          | 0/76 [00:00<?, ?it/s]"
     ]
    },
    {
     "name": "stdout",
     "output_type": "stream",
     "text": [
      "-- Step: 0\n"
     ]
    },
    {
     "name": "stderr",
     "output_type": "stream",
     "text": [
      "Epoch 9:   4%|▍         | 3/76 [00:00<00:16,  4.33it/s]"
     ]
    },
    {
     "name": "stdout",
     "output_type": "stream",
     "text": [
      "{'f1_sampled': 0.3635964912280702, 'f1_micro': 0.42748091603053434, 'f1_macro': 0.17211668568731972, 'f_05_sample': 0.39353510159431215, 'f_05_micro': 0.5, 'f_05_macro': 0.19610120560076602, 'precision_sampled': 0.4309210526315789, 'precision_micro': 0.5637583892617449, 'precision_macro': 0.23312264157334583, 'recall_sampled': 0.34978070175438597, 'recall_micro': 0.3442622950819672, 'recall_macro': 0.1569067078096172, 'accuracy': 0.19736842105263158, 'coverage_error': np.float64(11.0), 'label_ranking_loss': np.float64(0.6866987179487178), 'lrap': np.float64(0.3764880952380952)}\n"
     ]
    },
    {
     "name": "stderr",
     "output_type": "stream",
     "text": [
      "Epoch 9: 100%|██████████| 76/76 [00:07<00:00,  9.64it/s]\n"
     ]
    },
    {
     "name": "stdout",
     "output_type": "stream",
     "text": [
      "Training loss: 0.1040495591434209\n",
      "{'f1_sampled': 0.46604010025062653, 'f1_micro': 0.5110132158590308, 'f1_macro': 0.24067873996445424, 'f_05_sample': 0.48616442037494667, 'f_05_micro': 0.5350553505535055, 'f_05_macro': 0.2503475567781986, 'precision_sampled': 0.5142543859649124, 'precision_micro': 0.5523809523809524, 'precision_macro': 0.27512246895632625, 'recall_sampled': 0.47149122807017535, 'recall_micro': 0.47540983606557374, 'recall_macro': 0.24034080019097112, 'accuracy': 0.2565789473684211, 'coverage_error': np.float64(8.0), 'label_ranking_loss': np.float64(0.44347319347319347), 'lrap': np.float64(0.5198412698412699)}\n",
      "--- Best Model. Val: 0.4455628160546192 -> 0.47436284645301036\n"
     ]
    },
    {
     "name": "stderr",
     "output_type": "stream",
     "text": [
      "Epoch 10:   0%|          | 0/76 [00:00<?, ?it/s]"
     ]
    },
    {
     "name": "stdout",
     "output_type": "stream",
     "text": [
      "-- Step: 0\n"
     ]
    },
    {
     "name": "stderr",
     "output_type": "stream",
     "text": [
      "Epoch 10:   4%|▍         | 3/76 [00:00<00:17,  4.17it/s]"
     ]
    },
    {
     "name": "stdout",
     "output_type": "stream",
     "text": [
      "{'f1_sampled': 0.46406641604010024, 'f1_micro': 0.512249443207127, 'f1_macro': 0.24106216606216607, 'f_05_sample': 0.486050499208394, 'f_05_micro': 0.5404135338345865, 'f_05_macro': 0.2532695553625148, 'precision_sampled': 0.5153508771929824, 'precision_micro': 0.5609756097560976, 'precision_macro': 0.28116481511432884, 'recall_sampled': 0.46710526315789475, 'recall_micro': 0.4713114754098361, 'recall_macro': 0.2397862305370226, 'accuracy': 0.25, 'coverage_error': np.float64(8.0), 'label_ranking_loss': np.float64(0.398018648018648), 'lrap': np.float64(0.5595238095238096)}\n"
     ]
    },
    {
     "name": "stderr",
     "output_type": "stream",
     "text": [
      "Epoch 10: 100%|██████████| 76/76 [00:07<00:00,  9.62it/s]\n"
     ]
    },
    {
     "name": "stdout",
     "output_type": "stream",
     "text": [
      "Training loss: 0.09366270443914752\n",
      "{'f1_sampled': 0.4459586466165413, 'f1_micro': 0.5125858123569794, 'f1_macro': 0.23995593655837064, 'f_05_sample': 0.4695437968464284, 'f_05_micro': 0.5511811023622047, 'f_05_macro': 0.2629065631654754, 'precision_sampled': 0.5043859649122806, 'precision_micro': 0.5803108808290155, 'precision_macro': 0.32843504551579084, 'recall_sampled': 0.449780701754386, 'recall_micro': 0.45901639344262296, 'recall_macro': 0.2210437236217599, 'accuracy': 0.25, 'coverage_error': np.float64(11.0), 'label_ranking_loss': np.float64(0.5646853146853147), 'lrap': np.float64(0.41964285714285715)}\n",
      "--- Best Model. Val: 0.47436284645301036 -> 0.47805672821176765\n"
     ]
    },
    {
     "name": "stderr",
     "output_type": "stream",
     "text": [
      "Epoch 11:   0%|          | 0/76 [00:00<?, ?it/s]"
     ]
    },
    {
     "name": "stdout",
     "output_type": "stream",
     "text": [
      "-- Step: 0\n"
     ]
    },
    {
     "name": "stderr",
     "output_type": "stream",
     "text": [
      "Epoch 11:   4%|▍         | 3/76 [00:00<00:15,  4.72it/s]"
     ]
    },
    {
     "name": "stdout",
     "output_type": "stream",
     "text": [
      "{'f1_sampled': 0.43916040100250625, 'f1_micro': 0.5092592592592593, 'f1_macro': 0.24181450275017727, 'f_05_sample': 0.46072403473719264, 'f_05_micro': 0.5522088353413654, 'f_05_macro': 0.26605763266770005, 'precision_sampled': 0.4912280701754385, 'precision_micro': 0.5851063829787234, 'precision_macro': 0.33246581460867175, 'recall_sampled': 0.4399122807017544, 'recall_micro': 0.45081967213114754, 'recall_macro': 0.2211964337350642, 'accuracy': 0.25, 'coverage_error': np.float64(11.0), 'label_ranking_loss': np.float64(0.5684731934731935), 'lrap': np.float64(0.41269841269841273)}\n"
     ]
    },
    {
     "name": "stderr",
     "output_type": "stream",
     "text": [
      "Epoch 11: 100%|██████████| 76/76 [00:07<00:00,  9.77it/s]\n"
     ]
    },
    {
     "name": "stdout",
     "output_type": "stream",
     "text": [
      "Training loss: 0.07999356404731148\n",
      "{'f1_sampled': 0.4260025062656641, 'f1_micro': 0.5118483412322274, 'f1_macro': 0.2323011188110393, 'f_05_sample': 0.44966336660415607, 'f_05_micro': 0.5648535564853556, 'f_05_macro': 0.2611083527500319, 'precision_sampled': 0.4846491228070175, 'precision_micro': 0.6067415730337079, 'precision_macro': 0.3345113645363111, 'recall_sampled': 0.42894736842105263, 'recall_micro': 0.4426229508196721, 'recall_macro': 0.2093416043470371, 'accuracy': 0.23684210526315788, 'coverage_error': np.float64(11.0), 'label_ranking_loss': np.float64(0.6063519813519813), 'lrap': np.float64(0.3869047619047618)}\n"
     ]
    },
    {
     "name": "stderr",
     "output_type": "stream",
     "text": [
      "Epoch 12:   0%|          | 0/76 [00:00<?, ?it/s]"
     ]
    },
    {
     "name": "stdout",
     "output_type": "stream",
     "text": [
      "-- Step: 0\n"
     ]
    },
    {
     "name": "stderr",
     "output_type": "stream",
     "text": [
      "Epoch 12:   4%|▍         | 3/76 [00:00<00:16,  4.48it/s]"
     ]
    },
    {
     "name": "stdout",
     "output_type": "stream",
     "text": [
      "{'f1_sampled': 0.42929197994987467, 'f1_micro': 0.5141509433962265, 'f1_macro': 0.2336385351335005, 'f_05_sample': 0.45436261472445677, 'f_05_micro': 0.5653526970954357, 'f_05_macro': 0.26146754815233075, 'precision_sampled': 0.4912280701754385, 'precision_micro': 0.6055555555555555, 'precision_macro': 0.33408003258324, 'recall_sampled': 0.431140350877193, 'recall_micro': 0.44672131147540983, 'recall_macro': 0.21189262475520038, 'accuracy': 0.23684210526315788, 'coverage_error': np.float64(11.0), 'label_ranking_loss': np.float64(0.6063519813519813), 'lrap': np.float64(0.3869047619047618)}\n"
     ]
    },
    {
     "name": "stderr",
     "output_type": "stream",
     "text": [
      "Epoch 12: 100%|██████████| 76/76 [00:07<00:00,  9.70it/s]\n"
     ]
    },
    {
     "name": "stdout",
     "output_type": "stream",
     "text": [
      "Training loss: 0.06763291157978146\n",
      "{'f1_sampled': 0.3739035087719298, 'f1_micro': 0.45112781954887216, 'f1_macro': 0.19693136605321956, 'f_05_sample': 0.3944088623364939, 'f_05_micro': 0.5208333333333334, 'f_05_macro': 0.22426499324955523, 'precision_sampled': 0.4221491228070175, 'precision_micro': 0.5806451612903226, 'precision_macro': 0.2742583918813427, 'recall_sampled': 0.3728070175438597, 'recall_micro': 0.36885245901639346, 'recall_macro': 0.17322118345749468, 'accuracy': 0.2236842105263158, 'coverage_error': np.float64(10.875), 'label_ranking_loss': np.float64(0.6630244755244755), 'lrap': np.float64(0.3888888888888888)}\n"
     ]
    },
    {
     "name": "stderr",
     "output_type": "stream",
     "text": [
      "Epoch 13:   0%|          | 0/76 [00:00<?, ?it/s]"
     ]
    },
    {
     "name": "stdout",
     "output_type": "stream",
     "text": [
      "-- Step: 0\n"
     ]
    },
    {
     "name": "stderr",
     "output_type": "stream",
     "text": [
      "Epoch 13:   4%|▍         | 3/76 [00:00<00:15,  4.59it/s]"
     ]
    },
    {
     "name": "stdout",
     "output_type": "stream",
     "text": [
      "{'f1_sampled': 0.37797619047619047, 'f1_micro': 0.45544554455445546, 'f1_macro': 0.19855743715926086, 'f_05_sample': 0.3994977062411273, 'f_05_micro': 0.5203619909502263, 'f_05_macro': 0.22285693609223017, 'precision_sampled': 0.4287280701754385, 'precision_micro': 0.575, 'precision_macro': 0.26515204830980393, 'recall_sampled': 0.37741228070175437, 'recall_micro': 0.3770491803278688, 'recall_macro': 0.1770061213456935, 'accuracy': 0.21710526315789475, 'coverage_error': np.float64(11.0), 'label_ranking_loss': np.float64(0.6726398601398601), 'lrap': np.float64(0.32638888888888884)}\n"
     ]
    },
    {
     "name": "stderr",
     "output_type": "stream",
     "text": [
      "Epoch 13: 100%|██████████| 76/76 [00:07<00:00,  9.73it/s]\n"
     ]
    },
    {
     "name": "stdout",
     "output_type": "stream",
     "text": [
      "Training loss: 0.058906507016600745\n",
      "{'f1_sampled': 0.40968045112781953, 'f1_micro': 0.4867469879518072, 'f1_macro': 0.21424377873355005, 'f_05_sample': 0.4283671660749223, 'f_05_micro': 0.5441810344827587, 'f_05_macro': 0.2408475944470502, 'precision_sampled': 0.4566885964912281, 'precision_micro': 0.5906432748538012, 'precision_macro': 0.314769820971867, 'recall_sampled': 0.4174342105263158, 'recall_micro': 0.4139344262295082, 'recall_macro': 0.1941571620892801, 'accuracy': 0.2236842105263158, 'coverage_error': np.float64(11.0), 'label_ranking_loss': np.float64(0.6451777389277389), 'lrap': np.float64(0.3452380952380952)}\n"
     ]
    },
    {
     "name": "stderr",
     "output_type": "stream",
     "text": [
      "Epoch 14:   0%|          | 0/76 [00:00<?, ?it/s]"
     ]
    },
    {
     "name": "stdout",
     "output_type": "stream",
     "text": [
      "-- Step: 0\n"
     ]
    },
    {
     "name": "stderr",
     "output_type": "stream",
     "text": [
      "Epoch 14:   4%|▍         | 3/76 [00:00<00:16,  4.30it/s]"
     ]
    },
    {
     "name": "stdout",
     "output_type": "stream",
     "text": [
      "{'f1_sampled': 0.41306390977443613, 'f1_micro': 0.4939467312348668, 'f1_macro': 0.21665904749287443, 'f_05_sample': 0.4315202341518131, 'f_05_micro': 0.5543478260869565, 'f_05_macro': 0.24321182242693687, 'precision_sampled': 0.45942982456140347, 'precision_micro': 0.6035502958579881, 'precision_macro': 0.31685114402505704, 'recall_sampled': 0.42072368421052636, 'recall_micro': 0.4180327868852459, 'recall_macro': 0.195709957120336, 'accuracy': 0.23026315789473684, 'coverage_error': np.float64(11.0), 'label_ranking_loss': np.float64(0.6413898601398601), 'lrap': np.float64(0.3487103174603174)}\n"
     ]
    },
    {
     "name": "stderr",
     "output_type": "stream",
     "text": [
      "Epoch 14: 100%|██████████| 76/76 [00:07<00:00,  9.67it/s]\n"
     ]
    },
    {
     "name": "stdout",
     "output_type": "stream",
     "text": [
      "Training loss: 0.05402086925153669\n",
      "{'f1_sampled': 0.4641604010025063, 'f1_micro': 0.509009009009009, 'f1_macro': 0.2422420531743506, 'f_05_sample': 0.4885100568099183, 'f_05_micro': 0.5411877394636015, 'f_05_macro': 0.26355016814842974, 'precision_sampled': 0.524671052631579, 'precision_micro': 0.565, 'precision_macro': 0.3273806531410218, 'recall_sampled': 0.46875, 'recall_micro': 0.46311475409836067, 'recall_macro': 0.22677946540463564, 'accuracy': 0.23684210526315788, 'coverage_error': np.float64(11.0), 'label_ranking_loss': np.float64(0.5826777389277389), 'lrap': np.float64(0.3988095238095238)}\n"
     ]
    },
    {
     "name": "stderr",
     "output_type": "stream",
     "text": [
      "Epoch 15:   0%|          | 0/76 [00:00<?, ?it/s]"
     ]
    },
    {
     "name": "stdout",
     "output_type": "stream",
     "text": [
      "-- Step: 0\n"
     ]
    },
    {
     "name": "stderr",
     "output_type": "stream",
     "text": [
      "Epoch 15:   4%|▍         | 3/76 [00:00<00:15,  4.60it/s]"
     ]
    },
    {
     "name": "stdout",
     "output_type": "stream",
     "text": [
      "{'f1_sampled': 0.46437969924812034, 'f1_micro': 0.5079365079365079, 'f1_macro': 0.24080055349755683, 'f_05_sample': 0.49015242029438705, 'f_05_micro': 0.5426356589147286, 'f_05_macro': 0.26111499425034246, 'precision_sampled': 0.5279605263157895, 'precision_micro': 0.5685279187817259, 'precision_macro': 0.3239277568309826, 'recall_sampled': 0.4665570175438597, 'recall_micro': 0.45901639344262296, 'recall_macro': 0.22543175650975694, 'accuracy': 0.25, 'coverage_error': np.float64(11.0), 'label_ranking_loss': np.float64(0.5826777389277389), 'lrap': np.float64(0.3988095238095238)}\n"
     ]
    },
    {
     "name": "stderr",
     "output_type": "stream",
     "text": [
      "Epoch 15: 100%|██████████| 76/76 [00:07<00:00,  9.71it/s]\n"
     ]
    },
    {
     "name": "stdout",
     "output_type": "stream",
     "text": [
      "Training loss: 0.04857278311331021\n",
      "{'f1_sampled': 0.4358709273182957, 'f1_micro': 0.4943310657596372, 'f1_macro': 0.22710062331539124, 'f_05_sample': 0.4583874641440431, 'f_05_micro': 0.5281007751937985, 'f_05_macro': 0.25361394277954014, 'precision_sampled': 0.4912280701754385, 'precision_micro': 0.5532994923857868, 'precision_macro': 0.3234310160164197, 'recall_sampled': 0.4388157894736842, 'recall_micro': 0.44672131147540983, 'recall_macro': 0.20959841303356794, 'accuracy': 0.2236842105263158, 'coverage_error': np.float64(11.0), 'label_ranking_loss': np.float64(0.6942744755244755), 'lrap': np.float64(0.3487103174603174)}\n"
     ]
    },
    {
     "name": "stderr",
     "output_type": "stream",
     "text": [
      "Epoch 16:   0%|          | 0/76 [00:00<?, ?it/s]"
     ]
    },
    {
     "name": "stdout",
     "output_type": "stream",
     "text": [
      "-- Step: 0\n"
     ]
    },
    {
     "name": "stderr",
     "output_type": "stream",
     "text": [
      "Epoch 16:   4%|▍         | 3/76 [00:00<00:16,  4.34it/s]"
     ]
    },
    {
     "name": "stdout",
     "output_type": "stream",
     "text": [
      "{'f1_sampled': 0.4369674185463659, 'f1_micro': 0.49217002237136465, 'f1_macro': 0.2268454897245544, 'f_05_sample': 0.458359348984349, 'f_05_micro': 0.5208333333333334, 'f_05_macro': 0.2532800962925574, 'precision_sampled': 0.4901315789473684, 'precision_micro': 0.541871921182266, 'precision_macro': 0.32342675706646296, 'recall_sampled': 0.4421052631578948, 'recall_micro': 0.45081967213114754, 'recall_macro': 0.21115120806462384, 'accuracy': 0.23026315789473684, 'coverage_error': np.float64(11.125), 'label_ranking_loss': np.float64(0.7038898601398602), 'lrap': np.float64(0.3278769841269841)}\n"
     ]
    },
    {
     "name": "stderr",
     "output_type": "stream",
     "text": [
      "Epoch 16: 100%|██████████| 76/76 [00:07<00:00,  9.66it/s]\n"
     ]
    },
    {
     "name": "stdout",
     "output_type": "stream",
     "text": [
      "Training loss: 0.0439703369660205\n",
      "{'f1_sampled': 0.4459586466165413, 'f1_micro': 0.510250569476082, 'f1_macro': 0.2386254502744022, 'f_05_sample': 0.46577371824082353, 'f_05_micro': 0.546875, 'f_05_macro': 0.2638390126153019, 'precision_sampled': 0.4967105263157895, 'precision_micro': 0.5743589743589743, 'precision_macro': 0.3319273715808769, 'recall_sampled': 0.45526315789473687, 'recall_micro': 0.45901639344262296, 'recall_macro': 0.21934254823396926, 'accuracy': 0.24342105263157895, 'coverage_error': np.float64(11.0), 'label_ranking_loss': np.float64(0.6726398601398601), 'lrap': np.float64(0.32638888888888884)}\n"
     ]
    },
    {
     "name": "stderr",
     "output_type": "stream",
     "text": [
      "Epoch 17:   0%|          | 0/76 [00:00<?, ?it/s]"
     ]
    },
    {
     "name": "stdout",
     "output_type": "stream",
     "text": [
      "-- Step: 0\n"
     ]
    },
    {
     "name": "stderr",
     "output_type": "stream",
     "text": [
      "Epoch 17:   4%|▍         | 3/76 [00:00<00:15,  4.59it/s]"
     ]
    },
    {
     "name": "stdout",
     "output_type": "stream",
     "text": [
      "{'f1_sampled': 0.43994360902255636, 'f1_micro': 0.5056947608200456, 'f1_macro': 0.2352343017416862, 'f_05_sample': 0.4583153794112935, 'f_05_micro': 0.5419921875, 'f_05_macro': 0.26054167437222386, 'precision_sampled': 0.48739035087719296, 'precision_micro': 0.5692307692307692, 'precision_macro': 0.32843582887700534, 'recall_sampled': 0.4486842105263158, 'recall_micro': 0.45491803278688525, 'recall_macro': 0.21590709386354184, 'accuracy': 0.24342105263157895, 'coverage_error': np.float64(9.5), 'label_ranking_loss': np.float64(0.6139277389277389), 'lrap': np.float64(0.3764880952380952)}\n"
     ]
    },
    {
     "name": "stderr",
     "output_type": "stream",
     "text": [
      "Epoch 17: 100%|██████████| 76/76 [00:07<00:00,  9.72it/s]\n"
     ]
    },
    {
     "name": "stdout",
     "output_type": "stream",
     "text": [
      "Training loss: 0.03969084513128588\n",
      "{'f1_sampled': 0.4409147869674185, 'f1_micro': 0.5117370892018779, 'f1_macro': 0.2558310423242711, 'f_05_sample': 0.4656225536159746, 'f_05_micro': 0.5606995884773662, 'f_05_macro': 0.29646862946744257, 'precision_sampled': 0.5010964912280701, 'precision_micro': 0.5989010989010989, 'precision_macro': 0.3778786818483703, 'recall_sampled': 0.4421052631578948, 'recall_micro': 0.44672131147540983, 'recall_macro': 0.22462883422394822, 'accuracy': 0.2565789473684211, 'coverage_error': np.float64(11.0), 'label_ranking_loss': np.float64(0.6726398601398601), 'lrap': np.float64(0.32638888888888884)}\n",
      "--- Best Model. Val: 0.47805672821176765 -> 0.48232438125991756\n"
     ]
    },
    {
     "name": "stderr",
     "output_type": "stream",
     "text": [
      "Epoch 18:   0%|          | 0/76 [00:00<?, ?it/s]"
     ]
    },
    {
     "name": "stdout",
     "output_type": "stream",
     "text": [
      "-- Step: 0\n"
     ]
    },
    {
     "name": "stderr",
     "output_type": "stream",
     "text": [
      "Epoch 18:   4%|▍         | 3/76 [00:00<00:15,  4.79it/s]"
     ]
    },
    {
     "name": "stdout",
     "output_type": "stream",
     "text": [
      "{'f1_sampled': 0.45093984962406014, 'f1_micro': 0.5150812064965197, 'f1_macro': 0.2604247151948189, 'f_05_sample': 0.4726439448132662, 'f_05_micro': 0.5594758064516129, 'f_05_macro': 0.30010984847743943, 'precision_sampled': 0.5060307017543859, 'precision_micro': 0.5935828877005348, 'precision_macro': 0.3800827149041434, 'recall_sampled': 0.4585526315789474, 'recall_micro': 0.45491803278688525, 'recall_macro': 0.23017570841713017, 'accuracy': 0.2565789473684211, 'coverage_error': np.float64(11.0), 'label_ranking_loss': np.float64(0.6726398601398601), 'lrap': np.float64(0.32638888888888884)}\n"
     ]
    },
    {
     "name": "stderr",
     "output_type": "stream",
     "text": [
      "Epoch 18: 100%|██████████| 76/76 [00:07<00:00,  9.72it/s]\n"
     ]
    },
    {
     "name": "stdout",
     "output_type": "stream",
     "text": [
      "Training loss: 0.03617677947898444\n",
      "{'f1_sampled': 0.40657894736842104, 'f1_micro': 0.4900990099009901, 'f1_macro': 0.23053783532876704, 'f_05_sample': 0.4294652715705347, 'f_05_micro': 0.5599547511312217, 'f_05_macro': 0.2591600079002966, 'precision_sampled': 0.4616228070175438, 'precision_micro': 0.61875, 'precision_macro': 0.30007086271119954, 'recall_sampled': 0.40537280701754386, 'recall_micro': 0.4057377049180328, 'recall_macro': 0.20137290487088633, 'accuracy': 0.26973684210526316, 'coverage_error': np.float64(11.0), 'label_ranking_loss': np.float64(0.6688519813519813), 'lrap': np.float64(0.3333333333333333)}\n"
     ]
    },
    {
     "name": "stderr",
     "output_type": "stream",
     "text": [
      "Epoch 19:   0%|          | 0/76 [00:00<?, ?it/s]"
     ]
    },
    {
     "name": "stdout",
     "output_type": "stream",
     "text": [
      "-- Step: 0\n"
     ]
    },
    {
     "name": "stderr",
     "output_type": "stream",
     "text": [
      "Epoch 19:   1%|▏         | 1/76 [00:00<00:43,  1.71it/s]"
     ]
    },
    {
     "name": "stdout",
     "output_type": "stream",
     "text": [
      "{'f1_sampled': 0.4213972431077694, 'f1_micro': 0.5, 'f1_macro': 0.23324621185789826, 'f_05_sample': 0.444165848771112, 'f_05_micro': 0.5622270742358079, 'f_05_macro': 0.25901987441813507, 'precision_sampled': 0.4758771929824561, 'precision_micro': 0.6130952380952381, 'precision_macro': 0.297764986872492, 'recall_sampled': 0.42182017543859657, 'recall_micro': 0.42213114754098363, 'recall_macro': 0.20796705196368573, 'accuracy': 0.2565789473684211, 'coverage_error': np.float64(11.0), 'label_ranking_loss': np.float64(0.6688519813519813), 'lrap': np.float64(0.3333333333333333)}\n"
     ]
    },
    {
     "name": "stderr",
     "output_type": "stream",
     "text": [
      "Epoch 19: 100%|██████████| 76/76 [00:07<00:00,  9.76it/s]\n"
     ]
    },
    {
     "name": "stdout",
     "output_type": "stream",
     "text": [
      "Training loss: 0.03320467729415549\n",
      "{'f1_sampled': 0.38969298245614037, 'f1_micro': 0.46766169154228854, 'f1_macro': 0.21988973502131398, 'f_05_sample': 0.41368563819221715, 'f_05_micro': 0.5365296803652968, 'f_05_macro': 0.2495943847301301, 'precision_sampled': 0.4462719298245614, 'precision_micro': 0.5949367088607594, 'precision_macro': 0.2916706217370669, 'recall_sampled': 0.38728070175438595, 'recall_micro': 0.38524590163934425, 'recall_macro': 0.19028321162227255, 'accuracy': 0.23026315789473684, 'coverage_error': np.float64(11.0), 'label_ranking_loss': np.float64(0.6688519813519813), 'lrap': np.float64(0.3333333333333333)}\n"
     ]
    },
    {
     "name": "stderr",
     "output_type": "stream",
     "text": [
      "Epoch 20:   0%|          | 0/76 [00:00<?, ?it/s]"
     ]
    },
    {
     "name": "stdout",
     "output_type": "stream",
     "text": [
      "-- Step: 0\n"
     ]
    },
    {
     "name": "stderr",
     "output_type": "stream",
     "text": [
      "Epoch 20:   4%|▍         | 3/76 [00:00<00:15,  4.78it/s]"
     ]
    },
    {
     "name": "stdout",
     "output_type": "stream",
     "text": [
      "{'f1_sampled': 0.39188596491228067, 'f1_micro': 0.4688279301745636, 'f1_macro': 0.22007839625597794, 'f_05_sample': 0.41660961480040426, 'f_05_micro': 0.5389908256880734, 'f_05_macro': 0.24986177222800343, 'precision_sampled': 0.4495614035087719, 'precision_micro': 0.5987261146496815, 'precision_macro': 0.29196660482374764, 'recall_sampled': 0.38728070175438595, 'recall_micro': 0.38524590163934425, 'recall_macro': 0.19028321162227255, 'accuracy': 0.23684210526315788, 'coverage_error': np.float64(11.0), 'label_ranking_loss': np.float64(0.6688519813519813), 'lrap': np.float64(0.3333333333333333)}\n"
     ]
    },
    {
     "name": "stderr",
     "output_type": "stream",
     "text": [
      "Epoch 20: 100%|██████████| 76/76 [00:07<00:00,  9.73it/s]\n"
     ]
    },
    {
     "name": "stdout",
     "output_type": "stream",
     "text": [
      "Training loss: 0.030579477046175224\n",
      "{'f1_sampled': 0.41832706766917294, 'f1_micro': 0.4939467312348668, 'f1_macro': 0.22954462817199378, 'f_05_sample': 0.44833857662805027, 'f_05_micro': 0.5543478260869565, 'f_05_macro': 0.2564004597519801, 'precision_sampled': 0.4879385964912281, 'precision_micro': 0.6035502958579881, 'precision_macro': 0.297438189486871, 'recall_sampled': 0.4130482456140351, 'recall_micro': 0.4180327868852459, 'recall_macro': 0.20399879799543172, 'accuracy': 0.2236842105263158, 'coverage_error': np.float64(11.0), 'label_ranking_loss': np.float64(0.6688519813519813), 'lrap': np.float64(0.3333333333333333)}\n"
     ]
    },
    {
     "name": "stderr",
     "output_type": "stream",
     "text": [
      "Epoch 21:   0%|          | 0/76 [00:00<?, ?it/s]"
     ]
    },
    {
     "name": "stdout",
     "output_type": "stream",
     "text": [
      "-- Step: 0\n"
     ]
    },
    {
     "name": "stderr",
     "output_type": "stream",
     "text": [
      "Epoch 21:   4%|▍         | 3/76 [00:00<00:17,  4.27it/s]"
     ]
    },
    {
     "name": "stdout",
     "output_type": "stream",
     "text": [
      "{'f1_sampled': 0.4139411027568922, 'f1_micro': 0.49148418491484186, 'f1_macro': 0.22867466480203041, 'f_05_sample': 0.4428561204876995, 'f_05_micro': 0.5537280701754386, 'f_05_macro': 0.25624257166305753, 'precision_sampled': 0.48135964912280693, 'precision_micro': 0.6047904191616766, 'precision_macro': 0.2979633995709046, 'recall_sampled': 0.4097587719298246, 'recall_micro': 0.4139344262295082, 'recall_macro': 0.20244600296437584, 'accuracy': 0.2236842105263158, 'coverage_error': np.float64(11.0), 'label_ranking_loss': np.float64(0.6688519813519813), 'lrap': np.float64(0.3333333333333333)}\n"
     ]
    },
    {
     "name": "stderr",
     "output_type": "stream",
     "text": [
      "Epoch 21: 100%|██████████| 76/76 [00:07<00:00,  9.64it/s]\n"
     ]
    },
    {
     "name": "stdout",
     "output_type": "stream",
     "text": [
      "Training loss: 0.027827577359092078\n",
      "{'f1_sampled': 0.4256578947368421, 'f1_micro': 0.5024154589371981, 'f1_macro': 0.23505693754722534, 'f_05_sample': 0.45515924134345187, 'f_05_micro': 0.5627705627705628, 'f_05_macro': 0.2646513832827277, 'precision_sampled': 0.49561403508771934, 'precision_micro': 0.611764705882353, 'precision_macro': 0.30764207057310505, 'recall_sampled': 0.42182017543859646, 'recall_micro': 0.4262295081967213, 'recall_macro': 0.20721462045257694, 'accuracy': 0.23026315789473684, 'coverage_error': np.float64(11.0), 'label_ranking_loss': np.float64(0.6063519813519813), 'lrap': np.float64(0.3869047619047618)}\n"
     ]
    },
    {
     "name": "stderr",
     "output_type": "stream",
     "text": [
      "Epoch 22:   0%|          | 0/76 [00:00<?, ?it/s]"
     ]
    },
    {
     "name": "stdout",
     "output_type": "stream",
     "text": [
      "-- Step: 0\n"
     ]
    },
    {
     "name": "stderr",
     "output_type": "stream",
     "text": [
      "Epoch 22:   4%|▍         | 3/76 [00:00<00:15,  4.59it/s]"
     ]
    },
    {
     "name": "stdout",
     "output_type": "stream",
     "text": [
      "{'f1_sampled': 0.4267543859649122, 'f1_micro': 0.5036319612590799, 'f1_macro': 0.235915641684618, 'f_05_sample': 0.45735222379959223, 'f_05_micro': 0.5652173913043478, 'f_05_macro': 0.2661260722574167, 'precision_sampled': 0.4989035087719299, 'precision_micro': 0.6153846153846154, 'precision_macro': 0.30957732743447025, 'recall_sampled': 0.42182017543859646, 'recall_micro': 0.4262295081967213, 'recall_macro': 0.20721462045257694, 'accuracy': 0.23026315789473684, 'coverage_error': np.float64(11.0), 'label_ranking_loss': np.float64(0.6063519813519813), 'lrap': np.float64(0.3869047619047618)}\n"
     ]
    },
    {
     "name": "stderr",
     "output_type": "stream",
     "text": [
      "Epoch 22: 100%|██████████| 76/76 [00:07<00:00,  9.74it/s]\n"
     ]
    },
    {
     "name": "stdout",
     "output_type": "stream",
     "text": [
      "Training loss: 0.025225446400183597\n",
      "{'f1_sampled': 0.4296052631578947, 'f1_micro': 0.5011820330969267, 'f1_macro': 0.22899308294045137, 'f_05_sample': 0.45444212220528013, 'f_05_micro': 0.5520833333333334, 'f_05_macro': 0.25092163538920315, 'precision_sampled': 0.4901315789473684, 'precision_micro': 0.5921787709497207, 'precision_macro': 0.288745063416116, 'recall_sampled': 0.4305921052631579, 'recall_micro': 0.4344262295081967, 'recall_macro': 0.21174655460422787, 'accuracy': 0.23684210526315788, 'coverage_error': np.float64(11.0), 'label_ranking_loss': np.float64(0.6688519813519813), 'lrap': np.float64(0.3333333333333333)}\n"
     ]
    },
    {
     "name": "stderr",
     "output_type": "stream",
     "text": [
      "Epoch 23:   0%|          | 0/76 [00:00<?, ?it/s]"
     ]
    },
    {
     "name": "stdout",
     "output_type": "stream",
     "text": [
      "-- Step: 0\n"
     ]
    },
    {
     "name": "stderr",
     "output_type": "stream",
     "text": [
      "Epoch 23:   4%|▍         | 3/76 [00:00<00:16,  4.50it/s]"
     ]
    },
    {
     "name": "stdout",
     "output_type": "stream",
     "text": [
      "{'f1_sampled': 0.4307017543859649, 'f1_micro': 0.503562945368171, 'f1_macro': 0.23027156636179194, 'f_05_sample': 0.4566351046614205, 'f_05_micro': 0.5567226890756303, 'f_05_macro': 0.253164575005368, 'precision_sampled': 0.4934210526315789, 'precision_micro': 0.5988700564971752, 'precision_macro': 0.2917692569645031, 'recall_sampled': 0.4305921052631579, 'recall_micro': 0.4344262295081967, 'recall_macro': 0.21174655460422787, 'accuracy': 0.23684210526315788, 'coverage_error': np.float64(11.0), 'label_ranking_loss': np.float64(0.6688519813519813), 'lrap': np.float64(0.3333333333333333)}\n"
     ]
    },
    {
     "name": "stderr",
     "output_type": "stream",
     "text": [
      "Epoch 23: 100%|██████████| 76/76 [00:07<00:00,  9.70it/s]\n"
     ]
    },
    {
     "name": "stdout",
     "output_type": "stream",
     "text": [
      "Training loss: 0.023357717197780545\n",
      "{'f1_sampled': 0.46206140350877195, 'f1_micro': 0.5258215962441315, 'f1_macro': 0.24860196766878792, 'f_05_sample': 0.4899487391263707, 'f_05_micro': 0.5761316872427984, 'f_05_macro': 0.27315782473455574, 'precision_sampled': 0.5307017543859649, 'precision_micro': 0.6153846153846154, 'precision_macro': 0.3097909618392812, 'recall_sampled': 0.4629385964912281, 'recall_micro': 0.45901639344262296, 'recall_macro': 0.22514035888133457, 'accuracy': 0.2565789473684211, 'coverage_error': np.float64(11.0), 'label_ranking_loss': np.float64(0.6063519813519813), 'lrap': np.float64(0.3869047619047618)}\n",
      "--- Best Model. Val: 0.48232438125991756 -> 0.49427478112697576\n"
     ]
    },
    {
     "name": "stderr",
     "output_type": "stream",
     "text": [
      "Epoch 24:   0%|          | 0/76 [00:00<?, ?it/s]"
     ]
    },
    {
     "name": "stdout",
     "output_type": "stream",
     "text": [
      "-- Step: 0\n"
     ]
    },
    {
     "name": "stderr",
     "output_type": "stream",
     "text": [
      "Epoch 24:   4%|▍         | 3/76 [00:00<00:17,  4.24it/s]"
     ]
    },
    {
     "name": "stdout",
     "output_type": "stream",
     "text": [
      "{'f1_sampled': 0.4554824561403509, 'f1_micro': 0.5211267605633803, 'f1_macro': 0.2458972971136825, 'f_05_sample': 0.4833697917579497, 'f_05_micro': 0.5709876543209876, 'f_05_macro': 0.26942440680919943, 'precision_sampled': 0.5241228070175438, 'precision_micro': 0.6098901098901099, 'precision_macro': 0.30467079465014846, 'recall_sampled': 0.4563596491228071, 'recall_micro': 0.45491803278688525, 'recall_macro': 0.22290821602419172, 'accuracy': 0.25, 'coverage_error': np.float64(11.0), 'label_ranking_loss': np.float64(0.6063519813519813), 'lrap': np.float64(0.3869047619047618)}\n"
     ]
    },
    {
     "name": "stderr",
     "output_type": "stream",
     "text": [
      "Epoch 24: 100%|██████████| 76/76 [00:08<00:00,  9.49it/s]\n"
     ]
    },
    {
     "name": "stdout",
     "output_type": "stream",
     "text": [
      "Training loss: 0.02255425685526509\n",
      "{'f1_sampled': 0.4641604010025063, 'f1_micro': 0.5302325581395348, 'f1_macro': 0.2439054888303009, 'f_05_sample': 0.4848550572234783, 'f_05_micro': 0.5769230769230769, 'f_05_macro': 0.2672192010076144, 'precision_sampled': 0.5153508771929826, 'precision_micro': 0.6129032258064516, 'precision_macro': 0.3054613414413777, 'recall_sampled': 0.47116228070175437, 'recall_micro': 0.4672131147540984, 'recall_macro': 0.22478612165166292, 'accuracy': 0.27631578947368424, 'coverage_error': np.float64(11.0), 'label_ranking_loss': np.float64(0.6688519813519813), 'lrap': np.float64(0.3333333333333333)}\n"
     ]
    },
    {
     "name": "stderr",
     "output_type": "stream",
     "text": [
      "Epoch 25:   0%|          | 0/76 [00:00<?, ?it/s]"
     ]
    },
    {
     "name": "stdout",
     "output_type": "stream",
     "text": [
      "-- Step: 0\n"
     ]
    },
    {
     "name": "stderr",
     "output_type": "stream",
     "text": [
      "Epoch 25:   4%|▍         | 3/76 [00:00<00:17,  4.24it/s]"
     ]
    },
    {
     "name": "stdout",
     "output_type": "stream",
     "text": [
      "{'f1_sampled': 0.46196741854636586, 'f1_micro': 0.5268065268065268, 'f1_macro': 0.24267608140468003, 'f_05_sample': 0.4837585659954081, 'f_05_micro': 0.5741869918699187, 'f_05_macro': 0.2662708366571882, 'precision_sampled': 0.5153508771929826, 'precision_micro': 0.6108108108108108, 'precision_macro': 0.3047501038880349, 'recall_sampled': 0.4678728070175438, 'recall_micro': 0.46311475409836067, 'recall_macro': 0.22323332662060702, 'accuracy': 0.26973684210526316, 'coverage_error': np.float64(11.0), 'label_ranking_loss': np.float64(0.6688519813519813), 'lrap': np.float64(0.3333333333333333)}\n"
     ]
    },
    {
     "name": "stderr",
     "output_type": "stream",
     "text": [
      "Epoch 25: 100%|██████████| 76/76 [00:07<00:00,  9.65it/s]\n"
     ]
    },
    {
     "name": "stdout",
     "output_type": "stream",
     "text": [
      "Training loss: 0.021264872391169008\n",
      "{'f1_sampled': 0.45845864661654134, 'f1_micro': 0.5314685314685315, 'f1_macro': 0.2499278236216998, 'f_05_sample': 0.48185157313446786, 'f_05_micro': 0.5792682926829268, 'f_05_macro': 0.2736151426976359, 'precision_sampled': 0.5164473684210527, 'precision_micro': 0.6162162162162163, 'precision_macro': 0.3021307373524122, 'recall_sampled': 0.4629385964912281, 'recall_micro': 0.4672131147540984, 'recall_macro': 0.22715642884500503, 'accuracy': 0.26973684210526316, 'coverage_error': np.float64(11.0), 'label_ranking_loss': np.float64(0.6063519813519813), 'lrap': np.float64(0.3869047619047618)}\n",
      "--- Best Model. Val: 0.49427478112697576 -> 0.49976911219616693\n"
     ]
    },
    {
     "name": "stderr",
     "output_type": "stream",
     "text": [
      "Epoch 26:   0%|          | 0/76 [00:00<?, ?it/s]"
     ]
    },
    {
     "name": "stdout",
     "output_type": "stream",
     "text": [
      "-- Step: 0\n"
     ]
    },
    {
     "name": "stderr",
     "output_type": "stream",
     "text": [
      "Epoch 26:   4%|▍         | 3/76 [00:00<00:16,  4.32it/s]"
     ]
    },
    {
     "name": "stdout",
     "output_type": "stream",
     "text": [
      "{'f1_sampled': 0.45845864661654134, 'f1_micro': 0.5314685314685315, 'f1_macro': 0.2499278236216998, 'f_05_sample': 0.48185157313446786, 'f_05_micro': 0.5792682926829268, 'f_05_macro': 0.2736151426976359, 'precision_sampled': 0.5164473684210527, 'precision_micro': 0.6162162162162163, 'precision_macro': 0.3021307373524122, 'recall_sampled': 0.4629385964912281, 'recall_micro': 0.4672131147540984, 'recall_macro': 0.22715642884500503, 'accuracy': 0.26973684210526316, 'coverage_error': np.float64(11.0), 'label_ranking_loss': np.float64(0.6063519813519813), 'lrap': np.float64(0.3869047619047618)}\n"
     ]
    },
    {
     "name": "stderr",
     "output_type": "stream",
     "text": [
      "Epoch 26: 100%|██████████| 76/76 [00:07<00:00,  9.66it/s]\n"
     ]
    },
    {
     "name": "stdout",
     "output_type": "stream",
     "text": [
      "Training loss: 0.019841400575578996\n",
      "{'f1_sampled': 0.4598684210526316, 'f1_micro': 0.5302325581395348, 'f1_macro': 0.2486801531996298, 'f_05_sample': 0.48120410291462923, 'f_05_micro': 0.5769230769230769, 'f_05_macro': 0.2715823599750486, 'precision_sampled': 0.5142543859649122, 'precision_micro': 0.6129032258064516, 'precision_macro': 0.30712086558761437, 'recall_sampled': 0.4678728070175439, 'recall_micro': 0.4672131147540984, 'recall_macro': 0.2281546542221124, 'accuracy': 0.2565789473684211, 'coverage_error': np.float64(11.0), 'label_ranking_loss': np.float64(0.6063519813519813), 'lrap': np.float64(0.3869047619047618)}\n"
     ]
    },
    {
     "name": "stderr",
     "output_type": "stream",
     "text": [
      "Epoch 27:   0%|          | 0/76 [00:00<?, ?it/s]"
     ]
    },
    {
     "name": "stdout",
     "output_type": "stream",
     "text": [
      "-- Step: 0\n"
     ]
    },
    {
     "name": "stderr",
     "output_type": "stream",
     "text": [
      "Epoch 27:   4%|▍         | 3/76 [00:00<00:16,  4.56it/s]"
     ]
    },
    {
     "name": "stdout",
     "output_type": "stream",
     "text": [
      "{'f1_sampled': 0.4605263157894737, 'f1_micro': 0.5314685314685315, 'f1_macro': 0.2487436587569986, 'f_05_sample': 0.48291292041292033, 'f_05_micro': 0.5792682926829268, 'f_05_macro': 0.27131879851858537, 'precision_sampled': 0.5175438596491228, 'precision_micro': 0.6162162162162163, 'precision_macro': 0.30640605620345013, 'recall_sampled': 0.4678728070175439, 'recall_micro': 0.4672131147540984, 'recall_macro': 0.2281546542221124, 'accuracy': 0.2565789473684211, 'coverage_error': np.float64(11.0), 'label_ranking_loss': np.float64(0.6063519813519813), 'lrap': np.float64(0.3869047619047618)}\n"
     ]
    },
    {
     "name": "stderr",
     "output_type": "stream",
     "text": [
      "Epoch 27: 100%|██████████| 76/76 [00:07<00:00,  9.72it/s]\n"
     ]
    },
    {
     "name": "stdout",
     "output_type": "stream",
     "text": [
      "Training loss: 0.01910991471652922\n",
      "{'f1_sampled': 0.4677631578947368, 'f1_micro': 0.5327102803738317, 'f1_macro': 0.2484491017751796, 'f_05_sample': 0.4914902349112876, 'f_05_micro': 0.5816326530612245, 'f_05_macro': 0.27200844351880393, 'precision_sampled': 0.5263157894736842, 'precision_micro': 0.6195652173913043, 'precision_macro': 0.3088083111003315, 'recall_sampled': 0.47116228070175437, 'recall_micro': 0.4672131147540984, 'recall_macro': 0.2278099514772199, 'accuracy': 0.26973684210526316, 'coverage_error': np.float64(11.0), 'label_ranking_loss': np.float64(0.6063519813519813), 'lrap': np.float64(0.3869047619047618)}\n"
     ]
    },
    {
     "name": "stderr",
     "output_type": "stream",
     "text": [
      "Epoch 28:   0%|          | 0/76 [00:00<?, ?it/s]"
     ]
    },
    {
     "name": "stdout",
     "output_type": "stream",
     "text": [
      "-- Step: 0\n"
     ]
    },
    {
     "name": "stderr",
     "output_type": "stream",
     "text": [
      "Epoch 28:   4%|▍         | 3/76 [00:00<00:16,  4.32it/s]"
     ]
    },
    {
     "name": "stdout",
     "output_type": "stream",
     "text": [
      "{'f1_sampled': 0.46118421052631575, 'f1_micro': 0.5305164319248826, 'f1_macro': 0.2476555360368062, 'f_05_sample': 0.48491128754286655, 'f_05_micro': 0.581275720164609, 'f_05_macro': 0.27276466518575837, 'precision_sampled': 0.5197368421052632, 'precision_micro': 0.6208791208791209, 'precision_macro': 0.31141039411716104, 'recall_sampled': 0.4645833333333333, 'recall_micro': 0.46311475409836067, 'recall_macro': 0.22557780862007706, 'accuracy': 0.2631578947368421, 'coverage_error': np.float64(11.0), 'label_ranking_loss': np.float64(0.6063519813519813), 'lrap': np.float64(0.3869047619047618)}\n"
     ]
    },
    {
     "name": "stderr",
     "output_type": "stream",
     "text": [
      "Epoch 28: 100%|██████████| 76/76 [00:07<00:00,  9.65it/s]\n"
     ]
    },
    {
     "name": "stdout",
     "output_type": "stream",
     "text": [
      "Training loss: 0.01831854975439216\n",
      "{'f1_sampled': 0.46513157894736845, 'f1_micro': 0.5407925407925408, 'f1_macro': 0.2592446498218935, 'f_05_sample': 0.4892718435675092, 'f_05_micro': 0.5894308943089431, 'f_05_macro': 0.28228026507495335, 'precision_sampled': 0.524671052631579, 'precision_micro': 0.6270270270270271, 'precision_macro': 0.31715171810457427, 'recall_sampled': 0.4700657894736842, 'recall_micro': 0.47540983606557374, 'recall_macro': 0.23720650745093375, 'accuracy': 0.26973684210526316, 'coverage_error': np.float64(11.0), 'label_ranking_loss': np.float64(0.6063519813519813), 'lrap': np.float64(0.3869047619047618)}\n",
      "--- Best Model. Val: 0.49976911219616693 -> 0.509015940051485\n"
     ]
    },
    {
     "name": "stderr",
     "output_type": "stream",
     "text": [
      "Epoch 29:   0%|          | 0/76 [00:00<?, ?it/s]"
     ]
    },
    {
     "name": "stdout",
     "output_type": "stream",
     "text": [
      "-- Step: 0\n"
     ]
    },
    {
     "name": "stderr",
     "output_type": "stream",
     "text": [
      "Epoch 29:   4%|▍         | 3/76 [00:00<00:17,  4.25it/s]"
     ]
    },
    {
     "name": "stdout",
     "output_type": "stream",
     "text": [
      "{'f1_sampled': 0.46513157894736845, 'f1_micro': 0.5407925407925408, 'f1_macro': 0.2592446498218935, 'f_05_sample': 0.4892718435675092, 'f_05_micro': 0.5894308943089431, 'f_05_macro': 0.28228026507495335, 'precision_sampled': 0.524671052631579, 'precision_micro': 0.6270270270270271, 'precision_macro': 0.31715171810457427, 'recall_sampled': 0.4700657894736842, 'recall_micro': 0.47540983606557374, 'recall_macro': 0.23720650745093375, 'accuracy': 0.26973684210526316, 'coverage_error': np.float64(11.0), 'label_ranking_loss': np.float64(0.6063519813519813), 'lrap': np.float64(0.3869047619047618)}\n"
     ]
    },
    {
     "name": "stderr",
     "output_type": "stream",
     "text": [
      "Epoch 29: 100%|██████████| 76/76 [00:07<00:00,  9.65it/s]\n"
     ]
    },
    {
     "name": "stdout",
     "output_type": "stream",
     "text": [
      "Training loss: 0.017798708715034944\n",
      "{'f1_sampled': 0.48135964912280704, 'f1_micro': 0.547945205479452, 'f1_macro': 0.26327313929558943, 'f_05_sample': 0.502377524436348, 'f_05_micro': 0.5882352941176471, 'f_05_macro': 0.2824224247368558, 'precision_sampled': 0.5356359649122806, 'precision_micro': 0.6185567010309279, 'precision_macro': 0.31413580094794513, 'recall_sampled': 0.4930921052631579, 'recall_micro': 0.4918032786885246, 'recall_macro': 0.246772833981546, 'accuracy': 0.27631578947368424, 'coverage_error': np.float64(11.0), 'label_ranking_loss': np.float64(0.6063519813519813), 'lrap': np.float64(0.3869047619047618)}\n",
      "--- Best Model. Val: 0.509015940051485 -> 0.5151691834082132\n"
     ]
    },
    {
     "name": "stderr",
     "output_type": "stream",
     "text": [
      "Epoch 30:   0%|          | 0/76 [00:00<?, ?it/s]"
     ]
    },
    {
     "name": "stdout",
     "output_type": "stream",
     "text": [
      "-- Step: 0\n"
     ]
    },
    {
     "name": "stderr",
     "output_type": "stream",
     "text": [
      "Epoch 30:   4%|▍         | 3/76 [00:00<00:15,  4.68it/s]"
     ]
    },
    {
     "name": "stdout",
     "output_type": "stream",
     "text": [
      "{'f1_sampled': 0.48135964912280704, 'f1_micro': 0.5491990846681922, 'f1_macro': 0.26396327042050316, 'f_05_sample': 0.502377524436348, 'f_05_micro': 0.5905511811023622, 'f_05_macro': 0.28400603124231133, 'precision_sampled': 0.5356359649122806, 'precision_micro': 0.6217616580310881, 'precision_macro': 0.31676185136811325, 'recall_sampled': 0.4930921052631579, 'recall_micro': 0.4918032786885246, 'recall_macro': 0.246772833981546, 'accuracy': 0.27631578947368424, 'coverage_error': np.float64(11.0), 'label_ranking_loss': np.float64(0.6063519813519813), 'lrap': np.float64(0.3869047619047618)}\n"
     ]
    },
    {
     "name": "stderr",
     "output_type": "stream",
     "text": [
      "Epoch 30: 100%|██████████| 76/76 [00:07<00:00,  9.69it/s]\n"
     ]
    },
    {
     "name": "stdout",
     "output_type": "stream",
     "text": [
      "Training loss: 0.016893430956100162\n",
      "{'f1_sampled': 0.46293859649122804, 'f1_micro': 0.5302325581395348, 'f1_macro': 0.2527898804447365, 'f_05_sample': 0.48758831145634557, 'f_05_micro': 0.5769230769230769, 'f_05_macro': 0.2750952330854467, 'precision_sampled': 0.524671052631579, 'precision_micro': 0.6129032258064516, 'precision_macro': 0.3091630591630592, 'recall_sampled': 0.46951754385964917, 'recall_micro': 0.4672131147540984, 'recall_macro': 0.2313665809006035, 'accuracy': 0.2565789473684211, 'coverage_error': np.float64(11.0), 'label_ranking_loss': np.float64(0.6063519813519813), 'lrap': np.float64(0.3869047619047618)}\n"
     ]
    },
    {
     "name": "stderr",
     "output_type": "stream",
     "text": [
      "Epoch 31:   0%|          | 0/76 [00:00<?, ?it/s]"
     ]
    },
    {
     "name": "stdout",
     "output_type": "stream",
     "text": [
      "-- Step: 0\n"
     ]
    },
    {
     "name": "stderr",
     "output_type": "stream",
     "text": [
      "Epoch 31:   4%|▍         | 3/76 [00:00<00:15,  4.77it/s]"
     ]
    },
    {
     "name": "stdout",
     "output_type": "stream",
     "text": [
      "{'f1_sampled': 0.46403508771929824, 'f1_micro': 0.5314685314685315, 'f1_macro': 0.253450644287739, 'f_05_sample': 0.48978129391248587, 'f_05_micro': 0.5792682926829268, 'f_05_macro': 0.2765534054122523, 'precision_sampled': 0.5279605263157895, 'precision_micro': 0.6162162162162163, 'precision_macro': 0.3114973262032086, 'recall_sampled': 0.46951754385964917, 'recall_micro': 0.4672131147540984, 'recall_macro': 0.2313665809006035, 'accuracy': 0.2565789473684211, 'coverage_error': np.float64(11.0), 'label_ranking_loss': np.float64(0.6063519813519813), 'lrap': np.float64(0.3869047619047618)}\n"
     ]
    },
    {
     "name": "stderr",
     "output_type": "stream",
     "text": [
      "Epoch 31: 100%|██████████| 76/76 [00:07<00:00,  9.72it/s]\n"
     ]
    },
    {
     "name": "stdout",
     "output_type": "stream",
     "text": [
      "Training loss: 0.016114453472638207\n",
      "{'f1_sampled': 0.46513157894736845, 'f1_micro': 0.5311778290993071, 'f1_macro': 0.25131719387490914, 'f_05_sample': 0.49090590030025016, 'f_05_micro': 0.575, 'f_05_macro': 0.27194249038976326, 'precision_sampled': 0.5290570175438596, 'precision_micro': 0.6084656084656085, 'precision_macro': 0.30457573463200627, 'recall_sampled': 0.46951754385964917, 'recall_micro': 0.4713114754098361, 'recall_macro': 0.2320349419693952, 'accuracy': 0.2565789473684211, 'coverage_error': np.float64(11.0), 'label_ranking_loss': np.float64(0.6063519813519813), 'lrap': np.float64(0.3869047619047618)}\n"
     ]
    },
    {
     "name": "stderr",
     "output_type": "stream",
     "text": [
      "Epoch 32:   0%|          | 0/76 [00:00<?, ?it/s]"
     ]
    },
    {
     "name": "stdout",
     "output_type": "stream",
     "text": [
      "-- Step: 0\n"
     ]
    },
    {
     "name": "stderr",
     "output_type": "stream",
     "text": [
      "Epoch 32:   4%|▍         | 3/76 [00:00<00:16,  4.41it/s]"
     ]
    },
    {
     "name": "stdout",
     "output_type": "stream",
     "text": [
      "{'f1_sampled': 0.46513157894736845, 'f1_micro': 0.5324074074074074, 'f1_macro': 0.25263082277474497, 'f_05_sample': 0.49090590030025016, 'f_05_micro': 0.5773092369477911, 'f_05_macro': 0.2747353964084757, 'precision_sampled': 0.5290570175438596, 'precision_micro': 0.6117021276595744, 'precision_macro': 0.3089047389610106, 'recall_sampled': 0.46951754385964917, 'recall_micro': 0.4713114754098361, 'recall_macro': 0.2320349419693952, 'accuracy': 0.2565789473684211, 'coverage_error': np.float64(11.0), 'label_ranking_loss': np.float64(0.6063519813519813), 'lrap': np.float64(0.3869047619047618)}\n"
     ]
    },
    {
     "name": "stderr",
     "output_type": "stream",
     "text": [
      "Epoch 32: 100%|██████████| 76/76 [00:07<00:00,  9.63it/s]\n"
     ]
    },
    {
     "name": "stdout",
     "output_type": "stream",
     "text": [
      "Training loss: 0.015627895102002902\n",
      "{'f1_sampled': 0.47149122807017535, 'f1_micro': 0.5336426914153132, 'f1_macro': 0.25364203782735645, 'f_05_sample': 0.49814938780689555, 'f_05_micro': 0.5796370967741935, 'f_05_macro': 0.27518679024475146, 'precision_sampled': 0.537828947368421, 'precision_micro': 0.6149732620320856, 'precision_macro': 0.3083333333333333, 'recall_sampled': 0.47609649122807013, 'recall_micro': 0.4713114754098361, 'recall_macro': 0.23262632357451102, 'accuracy': 0.2565789473684211, 'coverage_error': np.float64(11.0), 'label_ranking_loss': np.float64(0.6063519813519813), 'lrap': np.float64(0.3869047619047618)}\n"
     ]
    },
    {
     "name": "stderr",
     "output_type": "stream",
     "text": [
      "Epoch 33:   0%|          | 0/76 [00:00<?, ?it/s]"
     ]
    },
    {
     "name": "stdout",
     "output_type": "stream",
     "text": [
      "-- Step: 0\n"
     ]
    },
    {
     "name": "stderr",
     "output_type": "stream",
     "text": [
      "Epoch 33:   4%|▍         | 3/76 [00:00<00:16,  4.35it/s]"
     ]
    },
    {
     "name": "stdout",
     "output_type": "stream",
     "text": [
      "{'f1_sampled': 0.47039473684210525, 'f1_micro': 0.5324074074074074, 'f1_macro': 0.25364203782735645, 'f_05_sample': 0.49595640535075525, 'f_05_micro': 0.5773092369477911, 'f_05_macro': 0.27518679024475146, 'precision_sampled': 0.5345394736842105, 'precision_micro': 0.6117021276595744, 'precision_macro': 0.3083333333333333, 'recall_sampled': 0.47609649122807013, 'recall_micro': 0.4713114754098361, 'recall_macro': 0.23262632357451102, 'accuracy': 0.2565789473684211, 'coverage_error': np.float64(11.0), 'label_ranking_loss': np.float64(0.6115603146853146), 'lrap': np.float64(0.3556547619047618)}\n"
     ]
    },
    {
     "name": "stderr",
     "output_type": "stream",
     "text": [
      "Epoch 33: 100%|██████████| 76/76 [00:07<00:00,  9.68it/s]\n"
     ]
    },
    {
     "name": "stdout",
     "output_type": "stream",
     "text": [
      "Training loss: 0.01496855753449429\n",
      "{'f1_sampled': 0.46337719298245617, 'f1_micro': 0.5314685314685315, 'f1_macro': 0.25529908957756325, 'f_05_sample': 0.4893632178365151, 'f_05_micro': 0.5792682926829268, 'f_05_macro': 0.277777744143611, 'precision_sampled': 0.5279605263157895, 'precision_micro': 0.6162162162162163, 'precision_macro': 0.3116029745231426, 'recall_sampled': 0.46842105263157896, 'recall_micro': 0.4672131147540984, 'recall_macro': 0.23301472579074342, 'accuracy': 0.2565789473684211, 'coverage_error': np.float64(11.0), 'label_ranking_loss': np.float64(0.6063519813519813), 'lrap': np.float64(0.3869047619047618)}\n"
     ]
    },
    {
     "name": "stderr",
     "output_type": "stream",
     "text": [
      "Epoch 34:   0%|          | 0/76 [00:00<?, ?it/s]"
     ]
    },
    {
     "name": "stdout",
     "output_type": "stream",
     "text": [
      "-- Step: 0\n"
     ]
    },
    {
     "name": "stderr",
     "output_type": "stream",
     "text": [
      "Epoch 34:   4%|▍         | 3/76 [00:00<00:14,  4.89it/s]"
     ]
    },
    {
     "name": "stdout",
     "output_type": "stream",
     "text": [
      "{'f1_sampled': 0.45899122807017545, 'f1_micro': 0.5280373831775701, 'f1_macro': 0.25292033974275424, 'f_05_sample': 0.4857082470762812, 'f_05_micro': 0.576530612244898, 'f_05_macro': 0.275699848577913, 'precision_sampled': 0.524671052631579, 'precision_micro': 0.6141304347826086, 'precision_macro': 0.30996898759503805, 'recall_sampled': 0.4618421052631579, 'recall_micro': 0.46311475409836067, 'recall_macro': 0.23055167160355133, 'accuracy': 0.2565789473684211, 'coverage_error': np.float64(11.0), 'label_ranking_loss': np.float64(0.6063519813519813), 'lrap': np.float64(0.3869047619047618)}\n"
     ]
    },
    {
     "name": "stderr",
     "output_type": "stream",
     "text": [
      "Epoch 34: 100%|██████████| 76/76 [00:07<00:00,  9.82it/s]\n"
     ]
    },
    {
     "name": "stdout",
     "output_type": "stream",
     "text": [
      "Training loss: 0.014892051529482399\n",
      "{'f1_sampled': 0.47346491228070176, 'f1_micro': 0.5348837209302325, 'f1_macro': 0.25601169158109177, 'f_05_sample': 0.5027204746148244, 'f_05_micro': 0.5819838056680162, 'f_05_macro': 0.2784592331556278, 'precision_sampled': 0.5444078947368421, 'precision_micro': 0.6182795698924731, 'precision_macro': 0.31228369596397565, 'recall_sampled': 0.4749999999999999, 'recall_micro': 0.4713114754098361, 'recall_macro': 0.2337674940606965, 'accuracy': 0.25, 'coverage_error': np.float64(11.0), 'label_ranking_loss': np.float64(0.6063519813519813), 'lrap': np.float64(0.3869047619047618)}\n"
     ]
    },
    {
     "name": "stderr",
     "output_type": "stream",
     "text": [
      "Epoch 35:   0%|          | 0/76 [00:00<?, ?it/s]"
     ]
    },
    {
     "name": "stdout",
     "output_type": "stream",
     "text": [
      "-- Step: 0\n"
     ]
    },
    {
     "name": "stderr",
     "output_type": "stream",
     "text": [
      "Epoch 35:   4%|▍         | 3/76 [00:00<00:17,  4.25it/s]"
     ]
    },
    {
     "name": "stdout",
     "output_type": "stream",
     "text": [
      "{'f1_sampled': 0.47346491228070176, 'f1_micro': 0.5348837209302325, 'f1_macro': 0.25601169158109177, 'f_05_sample': 0.5027204746148244, 'f_05_micro': 0.5819838056680162, 'f_05_macro': 0.2784592331556278, 'precision_sampled': 0.5444078947368421, 'precision_micro': 0.6182795698924731, 'precision_macro': 0.31228369596397565, 'recall_sampled': 0.4749999999999999, 'recall_micro': 0.4713114754098361, 'recall_macro': 0.2337674940606965, 'accuracy': 0.25, 'coverage_error': np.float64(11.0), 'label_ranking_loss': np.float64(0.6063519813519813), 'lrap': np.float64(0.3869047619047618)}\n"
     ]
    },
    {
     "name": "stderr",
     "output_type": "stream",
     "text": [
      "Epoch 35: 100%|██████████| 76/76 [00:07<00:00,  9.57it/s]\n"
     ]
    },
    {
     "name": "stdout",
     "output_type": "stream",
     "text": [
      "Training loss: 0.014092832773090586\n",
      "{'f1_sampled': 0.4697368421052632, 'f1_micro': 0.5348837209302325, 'f1_macro': 0.2555236591847992, 'f_05_sample': 0.49740890022430273, 'f_05_micro': 0.5819838056680162, 'f_05_macro': 0.2784051987252551, 'precision_sampled': 0.5367324561403508, 'precision_micro': 0.6182795698924731, 'precision_macro': 0.3126033677142051, 'recall_sampled': 0.4717105263157894, 'recall_micro': 0.4713114754098361, 'recall_macro': 0.23285723490456028, 'accuracy': 0.2565789473684211, 'coverage_error': np.float64(11.0), 'label_ranking_loss': np.float64(0.6063519813519813), 'lrap': np.float64(0.3869047619047618)}\n"
     ]
    },
    {
     "name": "stderr",
     "output_type": "stream",
     "text": [
      "Epoch 36:   0%|          | 0/76 [00:00<?, ?it/s]"
     ]
    },
    {
     "name": "stdout",
     "output_type": "stream",
     "text": [
      "-- Step: 0\n"
     ]
    },
    {
     "name": "stderr",
     "output_type": "stream",
     "text": [
      "Epoch 36:   4%|▍         | 3/76 [00:00<00:17,  4.22it/s]"
     ]
    },
    {
     "name": "stdout",
     "output_type": "stream",
     "text": [
      "{'f1_sampled': 0.4697368421052632, 'f1_micro': 0.5361305361305362, 'f1_macro': 0.2562233676396097, 'f_05_sample': 0.49740890022430273, 'f_05_micro': 0.584349593495935, 'f_05_macro': 0.27979700331589064, 'precision_sampled': 0.5367324561403508, 'precision_micro': 0.6216216216216216, 'precision_macro': 0.31464418404073574, 'recall_sampled': 0.4717105263157894, 'recall_micro': 0.4713114754098361, 'recall_macro': 0.23285723490456028, 'accuracy': 0.2565789473684211, 'coverage_error': np.float64(11.0), 'label_ranking_loss': np.float64(0.6063519813519813), 'lrap': np.float64(0.3869047619047618)}\n"
     ]
    },
    {
     "name": "stderr",
     "output_type": "stream",
     "text": [
      "Epoch 36: 100%|██████████| 76/76 [00:07<00:00,  9.64it/s]\n"
     ]
    },
    {
     "name": "stdout",
     "output_type": "stream",
     "text": [
      "Training loss: 0.013833042050368692\n",
      "{'f1_sampled': 0.4621867167919799, 'f1_micro': 0.5277777777777778, 'f1_macro': 0.25250057797658565, 'f_05_sample': 0.49011831069687106, 'f_05_micro': 0.572289156626506, 'f_05_macro': 0.27281171823647515, 'precision_sampled': 0.5290570175438596, 'precision_micro': 0.6063829787234043, 'precision_macro': 0.3046867504230321, 'recall_sampled': 0.46403508771929824, 'recall_micro': 0.4672131147540984, 'recall_macro': 0.23280963965456625, 'accuracy': 0.25, 'coverage_error': np.float64(11.0), 'label_ranking_loss': np.float64(0.6101398601398601), 'lrap': np.float64(0.3799603174603174)}\n"
     ]
    },
    {
     "name": "stderr",
     "output_type": "stream",
     "text": [
      "Epoch 37:   0%|          | 0/76 [00:00<?, ?it/s]"
     ]
    },
    {
     "name": "stdout",
     "output_type": "stream",
     "text": [
      "-- Step: 0\n"
     ]
    },
    {
     "name": "stderr",
     "output_type": "stream",
     "text": [
      "Epoch 37:   4%|▍         | 3/76 [00:00<00:17,  4.28it/s]"
     ]
    },
    {
     "name": "stdout",
     "output_type": "stream",
     "text": [
      "{'f1_sampled': 0.46021303258145363, 'f1_micro': 0.5253456221198156, 'f1_macro': 0.2510078045468102, 'f_05_sample': 0.4865297939504596, 'f_05_micro': 0.5677290836653387, 'f_05_macro': 0.27031432288193696, 'precision_sampled': 0.5235745614035089, 'precision_micro': 0.6, 'precision_macro': 0.3014587159142095, 'recall_sampled': 0.46403508771929824, 'recall_micro': 0.4672131147540984, 'recall_macro': 0.23280963965456625, 'accuracy': 0.24342105263157895, 'coverage_error': np.float64(11.0), 'label_ranking_loss': np.float64(0.6101398601398601), 'lrap': np.float64(0.3799603174603174)}\n"
     ]
    },
    {
     "name": "stderr",
     "output_type": "stream",
     "text": [
      "Epoch 37: 100%|██████████| 76/76 [00:07<00:00,  9.67it/s]\n"
     ]
    },
    {
     "name": "stdout",
     "output_type": "stream",
     "text": [
      "Training loss: 0.013362173033927224\n",
      "{'f1_sampled': 0.46688596491228074, 'f1_micro': 0.5314685314685315, 'f1_macro': 0.25584653916601885, 'f_05_sample': 0.49526338492089267, 'f_05_micro': 0.5792682926829268, 'f_05_macro': 0.276415100610162, 'precision_sampled': 0.5356359649122806, 'precision_micro': 0.6162162162162163, 'precision_macro': 0.307817513174656, 'recall_sampled': 0.46732456140350875, 'recall_micro': 0.4672131147540984, 'recall_macro': 0.23413007108305686, 'accuracy': 0.2631578947368421, 'coverage_error': np.float64(11.0), 'label_ranking_loss': np.float64(0.6101398601398601), 'lrap': np.float64(0.3799603174603174)}\n"
     ]
    },
    {
     "name": "stderr",
     "output_type": "stream",
     "text": [
      "Epoch 38:   0%|          | 0/76 [00:00<?, ?it/s]"
     ]
    },
    {
     "name": "stdout",
     "output_type": "stream",
     "text": [
      "-- Step: 0\n"
     ]
    },
    {
     "name": "stderr",
     "output_type": "stream",
     "text": [
      "Epoch 38:   4%|▍         | 3/76 [00:00<00:17,  4.27it/s]"
     ]
    },
    {
     "name": "stdout",
     "output_type": "stream",
     "text": [
      "{'f1_sampled': 0.46688596491228074, 'f1_micro': 0.5327102803738317, 'f1_macro': 0.2565188080735818, 'f_05_sample': 0.49526338492089267, 'f_05_micro': 0.5816326530612245, 'f_05_macro': 0.27771173907494207, 'precision_sampled': 0.5356359649122806, 'precision_micro': 0.6195652173913043, 'precision_macro': 0.30967280074422926, 'recall_sampled': 0.46732456140350875, 'recall_micro': 0.4672131147540984, 'recall_macro': 0.23413007108305686, 'accuracy': 0.2631578947368421, 'coverage_error': np.float64(11.0), 'label_ranking_loss': np.float64(0.6101398601398601), 'lrap': np.float64(0.3799603174603174)}\n"
     ]
    },
    {
     "name": "stderr",
     "output_type": "stream",
     "text": [
      "Epoch 38: 100%|██████████| 76/76 [00:07<00:00,  9.65it/s]\n"
     ]
    },
    {
     "name": "stdout",
     "output_type": "stream",
     "text": [
      "Training loss: 0.013205694347178857\n",
      "{'f1_sampled': 0.4616228070175439, 'f1_micro': 0.5283018867924528, 'f1_macro': 0.25390577107569673, 'f_05_sample': 0.4899802908220091, 'f_05_micro': 0.5809128630705395, 'f_05_macro': 0.278193129669147, 'precision_sampled': 0.5301535087719298, 'precision_micro': 0.6222222222222222, 'precision_macro': 0.31325932132383744, 'recall_sampled': 0.46184210526315783, 'recall_micro': 0.45901639344262296, 'recall_macro': 0.22860902208374695, 'accuracy': 0.2565789473684211, 'coverage_error': np.float64(11.0), 'label_ranking_loss': np.float64(0.6063519813519813), 'lrap': np.float64(0.3869047619047618)}\n"
     ]
    },
    {
     "name": "stderr",
     "output_type": "stream",
     "text": [
      "Epoch 39:   0%|          | 0/76 [00:00<?, ?it/s]"
     ]
    },
    {
     "name": "stdout",
     "output_type": "stream",
     "text": [
      "-- Step: 0\n"
     ]
    },
    {
     "name": "stderr",
     "output_type": "stream",
     "text": [
      "Epoch 39:   4%|▍         | 3/76 [00:00<00:16,  4.54it/s]"
     ]
    },
    {
     "name": "stdout",
     "output_type": "stream",
     "text": [
      "{'f1_sampled': 0.4629385964912281, 'f1_micro': 0.5317647058823529, 'f1_macro': 0.2573540469377657, 'f_05_sample': 0.49057837694641104, 'f_05_micro': 0.5836776859504132, 'f_05_macro': 0.2808114790616899, 'precision_sampled': 0.5301535087719298, 'precision_micro': 0.6243093922651933, 'precision_macro': 0.3148826979472141, 'recall_sampled': 0.46403508771929824, 'recall_micro': 0.46311475409836067, 'recall_macro': 0.23257727605200093, 'accuracy': 0.2631578947368421, 'coverage_error': np.float64(11.0), 'label_ranking_loss': np.float64(0.6063519813519813), 'lrap': np.float64(0.3869047619047618)}\n"
     ]
    },
    {
     "name": "stderr",
     "output_type": "stream",
     "text": [
      "Epoch 39: 100%|██████████| 76/76 [00:07<00:00,  9.72it/s]\n"
     ]
    },
    {
     "name": "stdout",
     "output_type": "stream",
     "text": [
      "Training loss: 0.012824155831415402\n",
      "{'f1_sampled': 0.46907894736842115, 'f1_micro': 0.5336426914153132, 'f1_macro': 0.25457579994785073, 'f_05_sample': 0.4964758377587325, 'f_05_micro': 0.5796370967741935, 'f_05_macro': 0.27735732473765823, 'precision_sampled': 0.5361842105263158, 'precision_micro': 0.6149732620320856, 'precision_macro': 0.3113935690111741, 'recall_sampled': 0.4717105263157894, 'recall_micro': 0.4713114754098361, 'recall_macro': 0.23197280094229614, 'accuracy': 0.2565789473684211, 'coverage_error': np.float64(11.0), 'label_ranking_loss': np.float64(0.6063519813519813), 'lrap': np.float64(0.3869047619047618)}\n"
     ]
    },
    {
     "name": "stderr",
     "output_type": "stream",
     "text": [
      "Epoch 40:   0%|          | 0/76 [00:00<?, ?it/s]"
     ]
    },
    {
     "name": "stdout",
     "output_type": "stream",
     "text": [
      "-- Step: 0\n"
     ]
    },
    {
     "name": "stderr",
     "output_type": "stream",
     "text": [
      "Epoch 40:   4%|▍         | 3/76 [00:00<00:17,  4.16it/s]"
     ]
    },
    {
     "name": "stdout",
     "output_type": "stream",
     "text": [
      "{'f1_sampled': 0.46622807017543866, 'f1_micro': 0.5268065268065268, 'f1_macro': 0.25233751354639744, 'f_05_sample': 0.4966114520584335, 'f_05_micro': 0.5741869918699187, 'f_05_macro': 0.27574053825664785, 'precision_sampled': 0.5389254385964911, 'precision_micro': 0.6108108108108108, 'precision_macro': 0.3103696184341346, 'recall_sampled': 0.46513157894736834, 'recall_micro': 0.46311475409836067, 'recall_macro': 0.22907229701636153, 'accuracy': 0.25, 'coverage_error': np.float64(11.0), 'label_ranking_loss': np.float64(0.6063519813519813), 'lrap': np.float64(0.3869047619047618)}\n"
     ]
    },
    {
     "name": "stderr",
     "output_type": "stream",
     "text": [
      "Epoch 40: 100%|██████████| 76/76 [00:07<00:00,  9.64it/s]\n"
     ]
    },
    {
     "name": "stdout",
     "output_type": "stream",
     "text": [
      "Training loss: 0.012714987761635137\n",
      "{'f1_sampled': 0.4635964912280702, 'f1_micro': 0.5258215962441315, 'f1_macro': 0.2517764689708884, 'f_05_sample': 0.49179353605630693, 'f_05_micro': 0.5761316872427984, 'f_05_macro': 0.2755559361344734, 'precision_sampled': 0.53125, 'precision_micro': 0.6153846153846154, 'precision_macro': 0.30984139423794593, 'recall_sampled': 0.46184210526315783, 'recall_micro': 0.45901639344262296, 'recall_macro': 0.22672636274437546, 'accuracy': 0.26973684210526316, 'coverage_error': np.float64(11.0), 'label_ranking_loss': np.float64(0.6101398601398601), 'lrap': np.float64(0.3799603174603174)}\n"
     ]
    },
    {
     "name": "stderr",
     "output_type": "stream",
     "text": [
      "Epoch 41:   0%|          | 0/76 [00:00<?, ?it/s]"
     ]
    },
    {
     "name": "stdout",
     "output_type": "stream",
     "text": [
      "-- Step: 0\n"
     ]
    },
    {
     "name": "stderr",
     "output_type": "stream",
     "text": [
      "Epoch 41:   4%|▍         | 3/76 [00:00<00:15,  4.71it/s]"
     ]
    },
    {
     "name": "stdout",
     "output_type": "stream",
     "text": [
      "{'f1_sampled': 0.46140350877192976, 'f1_micro': 0.5245901639344263, 'f1_macro': 0.25065884485686235, 'f_05_sample': 0.48886955944811983, 'f_05_micro': 0.5737704918032787, 'f_05_macro': 0.2736372304599692, 'precision_sampled': 0.5279605263157895, 'precision_micro': 0.6120218579234973, 'precision_macro': 0.3073388967354485, 'recall_sampled': 0.46184210526315783, 'recall_micro': 0.45901639344262296, 'recall_macro': 0.22672636274437546, 'accuracy': 0.2631578947368421, 'coverage_error': np.float64(11.0), 'label_ranking_loss': np.float64(0.6101398601398601), 'lrap': np.float64(0.3799603174603174)}\n"
     ]
    },
    {
     "name": "stderr",
     "output_type": "stream",
     "text": [
      "Epoch 41: 100%|██████████| 76/76 [00:07<00:00,  9.76it/s]\n"
     ]
    },
    {
     "name": "stdout",
     "output_type": "stream",
     "text": [
      "Training loss: 0.012602219474501908\n",
      "{'f1_sampled': 0.47666040100250623, 'f1_micro': 0.535796766743649, 'f1_macro': 0.25384677725237237, 'f_05_sample': 0.5032762054337132, 'f_05_micro': 0.58, 'f_05_macro': 0.2748611067826494, 'precision_sampled': 0.5411184210526315, 'precision_micro': 0.6137566137566137, 'precision_macro': 0.30691413041643456, 'recall_sampled': 0.47938596491228064, 'recall_micro': 0.47540983606557374, 'recall_macro': 0.23261533681721586, 'accuracy': 0.27631578947368424, 'coverage_error': np.float64(11.0), 'label_ranking_loss': np.float64(0.6101398601398601), 'lrap': np.float64(0.3799603174603174)}\n"
     ]
    },
    {
     "name": "stderr",
     "output_type": "stream",
     "text": [
      "Epoch 42:   0%|          | 0/76 [00:00<?, ?it/s]"
     ]
    },
    {
     "name": "stdout",
     "output_type": "stream",
     "text": [
      "-- Step: 0\n"
     ]
    },
    {
     "name": "stderr",
     "output_type": "stream",
     "text": [
      "Epoch 42:   4%|▍         | 3/76 [00:00<00:16,  4.54it/s]"
     ]
    },
    {
     "name": "stdout",
     "output_type": "stream",
     "text": [
      "{'f1_sampled': 0.47666040100250623, 'f1_micro': 0.5345622119815668, 'f1_macro': 0.2529393362360384, 'f_05_sample': 0.5032762054337132, 'f_05_micro': 0.5776892430278885, 'f_05_macro': 0.273189983787997, 'precision_sampled': 0.5411184210526315, 'precision_micro': 0.6105263157894737, 'precision_macro': 0.3046064381087423, 'recall_sampled': 0.47938596491228064, 'recall_micro': 0.47540983606557374, 'recall_macro': 0.23261533681721586, 'accuracy': 0.27631578947368424, 'coverage_error': np.float64(11.0), 'label_ranking_loss': np.float64(0.6101398601398601), 'lrap': np.float64(0.3799603174603174)}\n"
     ]
    },
    {
     "name": "stderr",
     "output_type": "stream",
     "text": [
      "Epoch 42: 100%|██████████| 76/76 [00:07<00:00,  9.68it/s]\n"
     ]
    },
    {
     "name": "stdout",
     "output_type": "stream",
     "text": [
      "Training loss: 0.011949399492311242\n",
      "{'f1_sampled': 0.4722744360902255, 'f1_micro': 0.5292740046838408, 'f1_macro': 0.2519638157101284, 'f_05_sample': 0.5014487200535962, 'f_05_micro': 0.5788934426229508, 'f_05_macro': 0.27654476983471193, 'precision_sampled': 0.5411184210526315, 'precision_micro': 0.6174863387978142, 'precision_macro': 0.3116866311742088, 'recall_sampled': 0.46951754385964906, 'recall_micro': 0.46311475409836067, 'recall_macro': 0.226484464657031, 'accuracy': 0.27631578947368424, 'coverage_error': np.float64(11.0), 'label_ranking_loss': np.float64(0.6101398601398601), 'lrap': np.float64(0.3799603174603174)}\n"
     ]
    },
    {
     "name": "stderr",
     "output_type": "stream",
     "text": [
      "Epoch 43:   0%|          | 0/76 [00:00<?, ?it/s]"
     ]
    },
    {
     "name": "stdout",
     "output_type": "stream",
     "text": [
      "-- Step: 0\n"
     ]
    },
    {
     "name": "stderr",
     "output_type": "stream",
     "text": [
      "Epoch 43:   4%|▍         | 3/76 [00:00<00:16,  4.31it/s]"
     ]
    },
    {
     "name": "stdout",
     "output_type": "stream",
     "text": [
      "{'f1_sampled': 0.4722744360902255, 'f1_micro': 0.5292740046838408, 'f1_macro': 0.2519638157101284, 'f_05_sample': 0.5014487200535962, 'f_05_micro': 0.5788934426229508, 'f_05_macro': 0.27654476983471193, 'precision_sampled': 0.5411184210526315, 'precision_micro': 0.6174863387978142, 'precision_macro': 0.3116866311742088, 'recall_sampled': 0.46951754385964906, 'recall_micro': 0.46311475409836067, 'recall_macro': 0.226484464657031, 'accuracy': 0.27631578947368424, 'coverage_error': np.float64(11.0), 'label_ranking_loss': np.float64(0.6101398601398601), 'lrap': np.float64(0.3799603174603174)}\n"
     ]
    },
    {
     "name": "stderr",
     "output_type": "stream",
     "text": [
      "Epoch 43: 100%|██████████| 76/76 [00:07<00:00,  9.63it/s]\n"
     ]
    },
    {
     "name": "stdout",
     "output_type": "stream",
     "text": [
      "Training loss: 0.011821316671557724\n",
      "{'f1_sampled': 0.4722744360902255, 'f1_micro': 0.5290023201856149, 'f1_macro': 0.25151747951009035, 'f_05_sample': 0.5010832229775728, 'f_05_micro': 0.5745967741935484, 'f_05_macro': 0.2730176308773547, 'precision_sampled': 0.5411184210526315, 'precision_micro': 0.6096256684491979, 'precision_macro': 0.3056001337229083, 'recall_sampled': 0.4728070175438596, 'recall_micro': 0.4672131147540984, 'recall_macro': 0.2297148328912812, 'accuracy': 0.2631578947368421, 'coverage_error': np.float64(11.0), 'label_ranking_loss': np.float64(0.6101398601398601), 'lrap': np.float64(0.3799603174603174)}\n"
     ]
    },
    {
     "name": "stderr",
     "output_type": "stream",
     "text": [
      "Epoch 44:   0%|          | 0/76 [00:00<?, ?it/s]"
     ]
    },
    {
     "name": "stdout",
     "output_type": "stream",
     "text": [
      "-- Step: 0\n"
     ]
    },
    {
     "name": "stderr",
     "output_type": "stream",
     "text": [
      "Epoch 44:   4%|▍         | 3/76 [00:00<00:15,  4.56it/s]"
     ]
    },
    {
     "name": "stdout",
     "output_type": "stream",
     "text": [
      "{'f1_sampled': 0.4700814536340852, 'f1_micro': 0.5277777777777778, 'f1_macro': 0.25086812886073967, 'f_05_sample': 0.49815924636938574, 'f_05_micro': 0.572289156626506, 'f_05_macro': 0.2719672107092875, 'precision_sampled': 0.537828947368421, 'precision_micro': 0.6063829787234043, 'precision_macro': 0.3042773824001569, 'recall_sampled': 0.4728070175438596, 'recall_micro': 0.4672131147540984, 'recall_macro': 0.2297148328912812, 'accuracy': 0.2565789473684211, 'coverage_error': np.float64(11.0), 'label_ranking_loss': np.float64(0.6101398601398601), 'lrap': np.float64(0.3799603174603174)}\n"
     ]
    },
    {
     "name": "stderr",
     "output_type": "stream",
     "text": [
      "Epoch 44: 100%|██████████| 76/76 [00:07<00:00,  9.71it/s]\n"
     ]
    },
    {
     "name": "stdout",
     "output_type": "stream",
     "text": [
      "Training loss: 0.011761616688760879\n",
      "{'f1_sampled': 0.4722744360902255, 'f1_micro': 0.5277777777777778, 'f1_macro': 0.25108854687508947, 'f_05_sample': 0.5010832229775728, 'f_05_micro': 0.572289156626506, 'f_05_macro': 0.27237653926705063, 'precision_sampled': 0.5411184210526315, 'precision_micro': 0.6063829787234043, 'precision_macro': 0.3048333863459914, 'recall_sampled': 0.4728070175438596, 'recall_micro': 0.4672131147540984, 'recall_macro': 0.2297148328912812, 'accuracy': 0.2631578947368421, 'coverage_error': np.float64(11.0), 'label_ranking_loss': np.float64(0.6101398601398601), 'lrap': np.float64(0.3799603174603174)}\n"
     ]
    },
    {
     "name": "stderr",
     "output_type": "stream",
     "text": [
      "Epoch 45:   0%|          | 0/76 [00:00<?, ?it/s]"
     ]
    },
    {
     "name": "stdout",
     "output_type": "stream",
     "text": [
      "-- Step: 0\n"
     ]
    },
    {
     "name": "stderr",
     "output_type": "stream",
     "text": [
      "Epoch 45:   4%|▍         | 3/76 [00:00<00:16,  4.32it/s]"
     ]
    },
    {
     "name": "stdout",
     "output_type": "stream",
     "text": [
      "{'f1_sampled': 0.4722744360902255, 'f1_micro': 0.5277777777777778, 'f1_macro': 0.25108854687508947, 'f_05_sample': 0.5010832229775728, 'f_05_micro': 0.572289156626506, 'f_05_macro': 0.27237653926705063, 'precision_sampled': 0.5411184210526315, 'precision_micro': 0.6063829787234043, 'precision_macro': 0.3048333863459914, 'recall_sampled': 0.4728070175438596, 'recall_micro': 0.4672131147540984, 'recall_macro': 0.2297148328912812, 'accuracy': 0.2631578947368421, 'coverage_error': np.float64(11.0), 'label_ranking_loss': np.float64(0.6101398601398601), 'lrap': np.float64(0.3799603174603174)}\n"
     ]
    },
    {
     "name": "stderr",
     "output_type": "stream",
     "text": [
      "Epoch 45: 100%|██████████| 76/76 [00:07<00:00,  9.63it/s]\n"
     ]
    },
    {
     "name": "stdout",
     "output_type": "stream",
     "text": [
      "Training loss: 0.011505995674892083\n",
      "{'f1_sampled': 0.4700814536340852, 'f1_micro': 0.5277777777777778, 'f1_macro': 0.2505853704523013, 'f_05_sample': 0.49669725806529214, 'f_05_micro': 0.572289156626506, 'f_05_macro': 0.27220540668246246, 'precision_sampled': 0.5345394736842105, 'precision_micro': 0.6063829787234043, 'precision_macro': 0.3049145299145299, 'recall_sampled': 0.4728070175438596, 'recall_micro': 0.4672131147540984, 'recall_macro': 0.22871660751417386, 'accuracy': 0.26973684210526316, 'coverage_error': np.float64(11.0), 'label_ranking_loss': np.float64(0.6101398601398601), 'lrap': np.float64(0.3799603174603174)}\n"
     ]
    },
    {
     "name": "stderr",
     "output_type": "stream",
     "text": [
      "Epoch 46:   0%|          | 0/76 [00:00<?, ?it/s]"
     ]
    },
    {
     "name": "stdout",
     "output_type": "stream",
     "text": [
      "-- Step: 0\n"
     ]
    },
    {
     "name": "stderr",
     "output_type": "stream",
     "text": [
      "Epoch 46:   4%|▍         | 3/76 [00:00<00:16,  4.48it/s]"
     ]
    },
    {
     "name": "stdout",
     "output_type": "stream",
     "text": [
      "{'f1_sampled': 0.4700814536340852, 'f1_micro': 0.5277777777777778, 'f1_macro': 0.2505853704523013, 'f_05_sample': 0.49669725806529214, 'f_05_micro': 0.572289156626506, 'f_05_macro': 0.27220540668246246, 'precision_sampled': 0.5345394736842105, 'precision_micro': 0.6063829787234043, 'precision_macro': 0.3049145299145299, 'recall_sampled': 0.4728070175438596, 'recall_micro': 0.4672131147540984, 'recall_macro': 0.22871660751417386, 'accuracy': 0.26973684210526316, 'coverage_error': np.float64(11.0), 'label_ranking_loss': np.float64(0.6101398601398601), 'lrap': np.float64(0.3799603174603174)}\n"
     ]
    },
    {
     "name": "stderr",
     "output_type": "stream",
     "text": [
      "Epoch 46: 100%|██████████| 76/76 [00:07<00:00,  9.66it/s]\n"
     ]
    },
    {
     "name": "stdout",
     "output_type": "stream",
     "text": [
      "Training loss: 0.011272116018900354\n",
      "{'f1_sampled': 0.4764411027568922, 'f1_micro': 0.5345622119815668, 'f1_macro': 0.25393387954459895, 'f_05_sample': 0.5035894886417333, 'f_05_micro': 0.5776892430278885, 'f_05_macro': 0.274385841747348, 'precision_sampled': 0.5422149122807017, 'precision_micro': 0.6105263157894737, 'precision_macro': 0.30612244897959184, 'recall_sampled': 0.47938596491228064, 'recall_micro': 0.47540983606557374, 'recall_macro': 0.23349977077947998, 'accuracy': 0.26973684210526316, 'coverage_error': np.float64(11.0), 'label_ranking_loss': np.float64(0.6101398601398601), 'lrap': np.float64(0.3799603174603174)}\n"
     ]
    },
    {
     "name": "stderr",
     "output_type": "stream",
     "text": [
      "Epoch 47:   0%|          | 0/76 [00:00<?, ?it/s]"
     ]
    },
    {
     "name": "stdout",
     "output_type": "stream",
     "text": [
      "-- Step: 0\n"
     ]
    },
    {
     "name": "stderr",
     "output_type": "stream",
     "text": [
      "Epoch 47:   4%|▍         | 3/76 [00:00<00:17,  4.17it/s]"
     ]
    },
    {
     "name": "stdout",
     "output_type": "stream",
     "text": [
      "{'f1_sampled': 0.4764411027568922, 'f1_micro': 0.5345622119815668, 'f1_macro': 0.25393387954459895, 'f_05_sample': 0.5035894886417333, 'f_05_micro': 0.5776892430278885, 'f_05_macro': 0.274385841747348, 'precision_sampled': 0.5422149122807017, 'precision_micro': 0.6105263157894737, 'precision_macro': 0.30612244897959184, 'recall_sampled': 0.47938596491228064, 'recall_micro': 0.47540983606557374, 'recall_macro': 0.23349977077947998, 'accuracy': 0.26973684210526316, 'coverage_error': np.float64(11.0), 'label_ranking_loss': np.float64(0.6101398601398601), 'lrap': np.float64(0.3799603174603174)}\n"
     ]
    },
    {
     "name": "stderr",
     "output_type": "stream",
     "text": [
      "Epoch 47: 100%|██████████| 76/76 [00:07<00:00,  9.60it/s]\n"
     ]
    },
    {
     "name": "stdout",
     "output_type": "stream",
     "text": [
      "Training loss: 0.011167686310057578\n",
      "{'f1_sampled': 0.47973057644110273, 'f1_micro': 0.5412844036697247, 'f1_macro': 0.25619321793015454, 'f_05_sample': 0.5035894886417333, 'f_05_micro': 0.5830039525691699, 'f_05_macro': 0.2763393160817689, 'precision_sampled': 0.5389254385964911, 'precision_micro': 0.6145833333333334, 'precision_macro': 0.3079261345654788, 'recall_sampled': 0.4859649122807017, 'recall_micro': 0.48360655737704916, 'recall_macro': 0.23640027470541458, 'accuracy': 0.28289473684210525, 'coverage_error': np.float64(11.0), 'label_ranking_loss': np.float64(0.6101398601398601), 'lrap': np.float64(0.3799603174603174)}\n"
     ]
    },
    {
     "name": "stderr",
     "output_type": "stream",
     "text": [
      "Epoch 48:   0%|          | 0/76 [00:00<?, ?it/s]"
     ]
    },
    {
     "name": "stdout",
     "output_type": "stream",
     "text": [
      "-- Step: 0\n"
     ]
    },
    {
     "name": "stderr",
     "output_type": "stream",
     "text": [
      "Epoch 48:   4%|▍         | 3/76 [00:00<00:17,  4.16it/s]"
     ]
    },
    {
     "name": "stdout",
     "output_type": "stream",
     "text": [
      "{'f1_sampled': 0.47973057644110273, 'f1_micro': 0.5412844036697247, 'f1_macro': 0.25619321793015454, 'f_05_sample': 0.5035894886417333, 'f_05_micro': 0.5830039525691699, 'f_05_macro': 0.2763393160817689, 'precision_sampled': 0.5389254385964911, 'precision_micro': 0.6145833333333334, 'precision_macro': 0.3079261345654788, 'recall_sampled': 0.4859649122807017, 'recall_micro': 0.48360655737704916, 'recall_macro': 0.23640027470541458, 'accuracy': 0.28289473684210525, 'coverage_error': np.float64(11.0), 'label_ranking_loss': np.float64(0.6101398601398601), 'lrap': np.float64(0.3799603174603174)}\n"
     ]
    },
    {
     "name": "stderr",
     "output_type": "stream",
     "text": [
      "Epoch 48: 100%|██████████| 76/76 [00:07<00:00,  9.63it/s]\n"
     ]
    },
    {
     "name": "stdout",
     "output_type": "stream",
     "text": [
      "Training loss: 0.011186535519204642\n",
      "{'f1_sampled': 0.47973057644110273, 'f1_micro': 0.540045766590389, 'f1_macro': 0.2557219450836666, 'f_05_sample': 0.5035894886417333, 'f_05_micro': 0.5807086614173228, 'f_05_macro': 0.2754839286284433, 'precision_sampled': 0.5389254385964911, 'precision_micro': 0.6113989637305699, 'precision_macro': 0.30675767287070127, 'recall_sampled': 0.4859649122807017, 'recall_micro': 0.48360655737704916, 'recall_macro': 0.23640027470541458, 'accuracy': 0.28289473684210525, 'coverage_error': np.float64(11.0), 'label_ranking_loss': np.float64(0.6101398601398601), 'lrap': np.float64(0.3799603174603174)}\n"
     ]
    },
    {
     "name": "stderr",
     "output_type": "stream",
     "text": [
      "Epoch 49:   0%|          | 0/76 [00:00<?, ?it/s]"
     ]
    },
    {
     "name": "stdout",
     "output_type": "stream",
     "text": [
      "-- Step: 0\n"
     ]
    },
    {
     "name": "stderr",
     "output_type": "stream",
     "text": [
      "Epoch 49:   4%|▍         | 3/76 [00:00<00:17,  4.13it/s]"
     ]
    },
    {
     "name": "stdout",
     "output_type": "stream",
     "text": [
      "{'f1_sampled': 0.47973057644110273, 'f1_micro': 0.540045766590389, 'f1_macro': 0.2557219450836666, 'f_05_sample': 0.5035894886417333, 'f_05_micro': 0.5807086614173228, 'f_05_macro': 0.2754839286284433, 'precision_sampled': 0.5389254385964911, 'precision_micro': 0.6113989637305699, 'precision_macro': 0.30675767287070127, 'recall_sampled': 0.4859649122807017, 'recall_micro': 0.48360655737704916, 'recall_macro': 0.23640027470541458, 'accuracy': 0.28289473684210525, 'coverage_error': np.float64(11.0), 'label_ranking_loss': np.float64(0.6101398601398601), 'lrap': np.float64(0.3799603174603174)}\n"
     ]
    },
    {
     "name": "stderr",
     "output_type": "stream",
     "text": [
      "Epoch 49: 100%|██████████| 76/76 [00:07<00:00,  9.55it/s]\n"
     ]
    },
    {
     "name": "stdout",
     "output_type": "stream",
     "text": [
      "Training loss: 0.011045061983168125\n",
      "{'f1_sampled': 0.47973057644110273, 'f1_micro': 0.540045766590389, 'f1_macro': 0.2557219450836666, 'f_05_sample': 0.5035894886417333, 'f_05_micro': 0.5807086614173228, 'f_05_macro': 0.2754839286284433, 'precision_sampled': 0.5389254385964911, 'precision_micro': 0.6113989637305699, 'precision_macro': 0.30675767287070127, 'recall_sampled': 0.4859649122807017, 'recall_micro': 0.48360655737704916, 'recall_macro': 0.23640027470541458, 'accuracy': 0.28289473684210525, 'coverage_error': np.float64(11.0), 'label_ranking_loss': np.float64(0.6101398601398601), 'lrap': np.float64(0.3799603174603174)}\n"
     ]
    }
   ],
   "source": [
    "best_model_ta, best_val_weighted_f1_score_ta = run()"
   ]
  },
  {
   "cell_type": "code",
   "execution_count": 77,
   "id": "e146a70a",
   "metadata": {},
   "outputs": [],
   "source": [
    "def test(model, val_dataloader, criterion, is_final_test=False):\n",
    "    global device\n",
    "\n",
    "    val_loss = 0\n",
    "    true, pred = [], []\n",
    "\n",
    "    model.eval()\n",
    "\n",
    "    results = {}\n",
    "\n",
    "    for step, batch in enumerate(val_dataloader):\n",
    "        b_input_ids = batch['input_ids'].to(device)\n",
    "        b_attention_mask = batch['attention_mask'].to(device)\n",
    "        b_labels = batch['labels'].to(device)\n",
    "\n",
    "        with torch.no_grad():\n",
    "            logits = model(input_ids=b_input_ids, attention_mask=b_attention_mask)\n",
    "\n",
    "            loss = criterion(logits, b_labels)\n",
    "            val_loss += loss.item()\n",
    "\n",
    "            logits = torch.sigmoid(logits)\n",
    "            logits = np.round(logits.cpu().numpy())\n",
    "            labels = b_labels.cpu().numpy()\n",
    "\n",
    "            pred.extend(logits)\n",
    "            true.extend(labels)\n",
    "\n",
    "    # avg_val_loss = val_loss / len(val_dataloader)\n",
    "    # print('Val loss:', avg_val_loss)\n",
    "    # print('Val accuracy:', accuracy_score(true, pred))\n",
    "\n",
    "    # print('Val precision:', precision_score(true, pred, average='weighted'))\n",
    "    # print('Val recall:', recall_score(true, pred, average='weighted'))\n",
    "\n",
    "    # val_micro_f1_score = f1_score(true, pred, average='micro')\n",
    "    # print('Val micro f1 score:', val_micro_f1_score)\n",
    "\n",
    "    # val_macro_f1_score = f1_score(true, pred, average='macro')\n",
    "    # print('Val macro f1 score:', val_macro_f1_score)\n",
    "\n",
    "    val_weighted_f1_score = f1_score(true, pred, average='weighted')\n",
    "    # print('Val weighted f1 score:', val_weighted_f1_score)\n",
    "\n",
    "    results.update({\n",
    "        \"f1_sampled\": f1_score(true, pred, average='samples', zero_division=0),\n",
    "        \"f1_micro\": f1_score(true, pred, average='micro', zero_division=0),\n",
    "        \"f1_macro\": f1_score(true, pred, average='macro', zero_division=0),\n",
    "        \"f_05_sample\": fbeta_score(true, pred, average='samples', beta=0.5, zero_division=0),\n",
    "        \"f_05_micro\": fbeta_score(true, pred, average='micro', beta=0.5, zero_division=0),\n",
    "        \"f_05_macro\": fbeta_score(true, pred, average='macro', beta=0.5, zero_division=0),\n",
    "        \"precision_sampled\": precision_score(true, pred, average='samples', zero_division=0),\n",
    "        \"precision_micro\": precision_score(true, pred, average='micro', zero_division=0),\n",
    "        \"precision_macro\": precision_score(true, pred, average='macro', zero_division=0),\n",
    "        \"recall_sampled\": recall_score(true, pred, average='samples', zero_division=0),\n",
    "        \"recall_micro\": recall_score(true, pred, average='micro', zero_division=0),\n",
    "        \"recall_macro\": recall_score(true, pred, average='macro', zero_division=0),\n",
    "        \"accuracy\": accuracy_score(true, pred),\n",
    "        })\n",
    "\n",
    "    labels_float = labels.astype(float)\n",
    "    results.update({\n",
    "        \"coverage_error\": coverage_error(labels_float, logits),\n",
    "        \"label_ranking_loss\": label_ranking_loss(labels_float, logits),\n",
    "        \"lrap\": label_ranking_average_precision_score(labels_float, logits),\n",
    "    })\n",
    "\n",
    "    metrics_log.append(results.copy())\n",
    "\n",
    "    print(results)\n",
    "\n",
    "    return results\n"
   ]
  },
  {
   "cell_type": "code",
   "execution_count": 78,
   "id": "f5caffc2",
   "metadata": {},
   "outputs": [
    {
     "name": "stdout",
     "output_type": "stream",
     "text": [
      "{'f1_sampled': 0.5035087719298246, 'f1_micro': 0.5495495495495496, 'f1_macro': 0.2944415813463432, 'f_05_sample': 0.5255419513836697, 'f_05_micro': 0.5792972459639126, 'f_05_macro': 0.3170909720024132, 'precision_sampled': 0.5553728070175438, 'precision_micro': 0.6009852216748769, 'precision_macro': 0.3641162229858684, 'recall_sampled': 0.5060307017543859, 'recall_micro': 0.5062240663900415, 'recall_macro': 0.2822487521245473, 'accuracy': 0.28289473684210525, 'coverage_error': np.float64(9.5), 'label_ranking_loss': np.float64(0.4923878205128205), 'lrap': np.float64(0.47916666666666663)}\n"
     ]
    }
   ],
   "source": [
    "criterion = nn.BCEWithLogitsLoss()\n",
    "results = test(best_model_ta, test_dataloader, criterion, is_final_test=True)"
   ]
  },
  {
   "cell_type": "code",
   "execution_count": 79,
   "id": "4138f077",
   "metadata": {},
   "outputs": [
    {
     "name": "stdout",
     "output_type": "stream",
     "text": [
      "f1_sampled: 0.5035\n",
      "f1_micro: 0.5495\n",
      "f1_macro: 0.2944\n",
      "f_05_sample: 0.5255\n",
      "f_05_micro: 0.5793\n",
      "f_05_macro: 0.3171\n",
      "precision_sampled: 0.5554\n",
      "precision_micro: 0.6010\n",
      "precision_macro: 0.3641\n",
      "recall_sampled: 0.5060\n",
      "recall_micro: 0.5062\n",
      "recall_macro: 0.2822\n",
      "accuracy: 0.2829\n",
      "coverage_error: 9.5000\n",
      "label_ranking_loss: 0.4924\n",
      "lrap: 0.4792\n"
     ]
    }
   ],
   "source": [
    "for k, v in results.items(): \n",
    "    print(f\"{k}: {v:.4f}\")"
   ]
  },
  {
   "cell_type": "markdown",
   "id": "5be5419c",
   "metadata": {},
   "source": [
    "# Metrics log"
   ]
  },
  {
   "cell_type": "code",
   "execution_count": 80,
   "id": "f260906d",
   "metadata": {},
   "outputs": [],
   "source": [
    "metrics_data = {\n",
    "    'f1_sampled': [],\n",
    "    'f1_micro': [],\n",
    "    'f1_macro': [],\n",
    "    'f_05_sample': [],\n",
    "    'f_05_micro': [],\n",
    "    'f_05_macro': [],\n",
    "    'precision_sampled': [],\n",
    "    'precision_micro': [],\n",
    "    'precision_macro': [],\n",
    "    'recall_sampled': [],\n",
    "    'recall_micro': [],\n",
    "    'recall_macro': [],\n",
    "    'accuracy': [],\n",
    "    'coverage_error': [],\n",
    "    'label_ranking_loss': [],\n",
    "    'lrap': []\n",
    "}\n",
    "\n",
    "# 遍歷你的日誌數據，提取數值\n",
    "for log_entry in metrics_log:\n",
    "    for metric_name, value in log_entry.items():\n",
    "        metrics_data[metric_name].append(float(value)) # 確保轉換為 float"
   ]
  },
  {
   "cell_type": "code",
   "execution_count": 81,
   "id": "c8d0eb89",
   "metadata": {},
   "outputs": [
    {
     "name": "stdout",
     "output_type": "stream",
     "text": [
      "{'f1_sampled': [0.2866593567251462, 0.0043859649122807015, 0.046052631578947366, 0.2777568922305764, 0.2652568922305764, 0.3474937343358396, 0.3615288220551378, 0.32687969924812027, 0.3385964912280701, 0.3966165413533834, 0.4160714285714286, 0.40983709273182956, 0.41356516290726814, 0.4381578947368421, 0.44620927318295744, 0.400125313283208, 0.4066102756892231, 0.36951754385964913, 0.3635964912280702, 0.46604010025062653, 0.46406641604010024, 0.4459586466165413, 0.43916040100250625, 0.4260025062656641, 0.42929197994987467, 0.3739035087719298, 0.37797619047619047, 0.40968045112781953, 0.41306390977443613, 0.4641604010025063, 0.46437969924812034, 0.4358709273182957, 0.4369674185463659, 0.4459586466165413, 0.43994360902255636, 0.4409147869674185, 0.45093984962406014, 0.40657894736842104, 0.4213972431077694, 0.38969298245614037, 0.39188596491228067, 0.41832706766917294, 0.4139411027568922, 0.4256578947368421, 0.4267543859649122, 0.4296052631578947, 0.4307017543859649, 0.46206140350877195, 0.4554824561403509, 0.4641604010025063, 0.46196741854636586, 0.45845864661654134, 0.45845864661654134, 0.4598684210526316, 0.4605263157894737, 0.4677631578947368, 0.46118421052631575, 0.46513157894736845, 0.46513157894736845, 0.48135964912280704, 0.48135964912280704, 0.46293859649122804, 0.46403508771929824, 0.46513157894736845, 0.46513157894736845, 0.47149122807017535, 0.47039473684210525, 0.46337719298245617, 0.45899122807017545, 0.47346491228070176, 0.47346491228070176, 0.4697368421052632, 0.4697368421052632, 0.4621867167919799, 0.46021303258145363, 0.46688596491228074, 0.46688596491228074, 0.4616228070175439, 0.4629385964912281, 0.46907894736842115, 0.46622807017543866, 0.4635964912280702, 0.46140350877192976, 0.47666040100250623, 0.47666040100250623, 0.4722744360902255, 0.4722744360902255, 0.4722744360902255, 0.4700814536340852, 0.4722744360902255, 0.4722744360902255, 0.4700814536340852, 0.4700814536340852, 0.4764411027568922, 0.4764411027568922, 0.47973057644110273, 0.47973057644110273, 0.47973057644110273, 0.47973057644110273, 0.47973057644110273, 0.5035087719298246], 'f1_micro': [0.29985855728429983, 0.00816326530612245, 0.06324110671936758, 0.3780821917808219, 0.3657142857142857, 0.43256997455470736, 0.43842364532019706, 0.4034090909090909, 0.41304347826086957, 0.4631043256997455, 0.4836272040302267, 0.45662100456621, 0.4646924829157175, 0.4830917874396135, 0.49295774647887325, 0.45595854922279794, 0.4580152671755725, 0.425, 0.42748091603053434, 0.5110132158590308, 0.512249443207127, 0.5125858123569794, 0.5092592592592593, 0.5118483412322274, 0.5141509433962265, 0.45112781954887216, 0.45544554455445546, 0.4867469879518072, 0.4939467312348668, 0.509009009009009, 0.5079365079365079, 0.4943310657596372, 0.49217002237136465, 0.510250569476082, 0.5056947608200456, 0.5117370892018779, 0.5150812064965197, 0.4900990099009901, 0.5, 0.46766169154228854, 0.4688279301745636, 0.4939467312348668, 0.49148418491484186, 0.5024154589371981, 0.5036319612590799, 0.5011820330969267, 0.503562945368171, 0.5258215962441315, 0.5211267605633803, 0.5302325581395348, 0.5268065268065268, 0.5314685314685315, 0.5314685314685315, 0.5302325581395348, 0.5314685314685315, 0.5327102803738317, 0.5305164319248826, 0.5407925407925408, 0.5407925407925408, 0.547945205479452, 0.5491990846681922, 0.5302325581395348, 0.5314685314685315, 0.5311778290993071, 0.5324074074074074, 0.5336426914153132, 0.5324074074074074, 0.5314685314685315, 0.5280373831775701, 0.5348837209302325, 0.5348837209302325, 0.5348837209302325, 0.5361305361305362, 0.5277777777777778, 0.5253456221198156, 0.5314685314685315, 0.5327102803738317, 0.5283018867924528, 0.5317647058823529, 0.5336426914153132, 0.5268065268065268, 0.5258215962441315, 0.5245901639344263, 0.535796766743649, 0.5345622119815668, 0.5292740046838408, 0.5292740046838408, 0.5290023201856149, 0.5277777777777778, 0.5277777777777778, 0.5277777777777778, 0.5277777777777778, 0.5277777777777778, 0.5345622119815668, 0.5345622119815668, 0.5412844036697247, 0.5412844036697247, 0.540045766590389, 0.540045766590389, 0.540045766590389, 0.5495495495495496], 'f1_macro': [0.09383927358261158, 0.0026455026455026454, 0.018433179723502304, 0.11280347559417327, 0.11178456890002376, 0.13276370789279568, 0.13259676284306826, 0.15808354973909047, 0.1545654351070314, 0.20105341097845617, 0.21155638288765224, 0.20115270487370443, 0.2067593210011594, 0.21777111777111777, 0.2213556255026215, 0.2027480246757088, 0.20566340153438148, 0.17104909402837093, 0.17211668568731972, 0.24067873996445424, 0.24106216606216607, 0.23995593655837064, 0.24181450275017727, 0.2323011188110393, 0.2336385351335005, 0.19693136605321956, 0.19855743715926086, 0.21424377873355005, 0.21665904749287443, 0.2422420531743506, 0.24080055349755683, 0.22710062331539124, 0.2268454897245544, 0.2386254502744022, 0.2352343017416862, 0.2558310423242711, 0.2604247151948189, 0.23053783532876704, 0.23324621185789826, 0.21988973502131398, 0.22007839625597794, 0.22954462817199378, 0.22867466480203041, 0.23505693754722534, 0.235915641684618, 0.22899308294045137, 0.23027156636179194, 0.24860196766878792, 0.2458972971136825, 0.2439054888303009, 0.24267608140468003, 0.2499278236216998, 0.2499278236216998, 0.2486801531996298, 0.2487436587569986, 0.2484491017751796, 0.2476555360368062, 0.2592446498218935, 0.2592446498218935, 0.26327313929558943, 0.26396327042050316, 0.2527898804447365, 0.253450644287739, 0.25131719387490914, 0.25263082277474497, 0.25364203782735645, 0.25364203782735645, 0.25529908957756325, 0.25292033974275424, 0.25601169158109177, 0.25601169158109177, 0.2555236591847992, 0.2562233676396097, 0.25250057797658565, 0.2510078045468102, 0.25584653916601885, 0.2565188080735818, 0.25390577107569673, 0.2573540469377657, 0.25457579994785073, 0.25233751354639744, 0.2517764689708884, 0.25065884485686235, 0.25384677725237237, 0.2529393362360384, 0.2519638157101284, 0.2519638157101284, 0.25151747951009035, 0.25086812886073967, 0.25108854687508947, 0.25108854687508947, 0.2505853704523013, 0.2505853704523013, 0.25393387954459895, 0.25393387954459895, 0.25619321793015454, 0.25619321793015454, 0.2557219450836666, 0.2557219450836666, 0.2557219450836666, 0.2944415813463432], 'f_05_sample': [0.25326370721031183, 0.005482456140350878, 0.049342105263157895, 0.2812752853871275, 0.2717332010095168, 0.3557643014879857, 0.36594600574863734, 0.348514515455305, 0.35596804511278196, 0.4324075047759259, 0.44895277419948476, 0.4325996554614976, 0.43355255855255853, 0.469348451256346, 0.47770422194764295, 0.43599602152233724, 0.4389199981305244, 0.39840523146444196, 0.39353510159431215, 0.48616442037494667, 0.486050499208394, 0.4695437968464284, 0.46072403473719264, 0.44966336660415607, 0.45436261472445677, 0.3944088623364939, 0.3994977062411273, 0.4283671660749223, 0.4315202341518131, 0.4885100568099183, 0.49015242029438705, 0.4583874641440431, 0.458359348984349, 0.46577371824082353, 0.4583153794112935, 0.4656225536159746, 0.4726439448132662, 0.4294652715705347, 0.444165848771112, 0.41368563819221715, 0.41660961480040426, 0.44833857662805027, 0.4428561204876995, 0.45515924134345187, 0.45735222379959223, 0.45444212220528013, 0.4566351046614205, 0.4899487391263707, 0.4833697917579497, 0.4848550572234783, 0.4837585659954081, 0.48185157313446786, 0.48185157313446786, 0.48120410291462923, 0.48291292041292033, 0.4914902349112876, 0.48491128754286655, 0.4892718435675092, 0.4892718435675092, 0.502377524436348, 0.502377524436348, 0.48758831145634557, 0.48978129391248587, 0.49090590030025016, 0.49090590030025016, 0.49814938780689555, 0.49595640535075525, 0.4893632178365151, 0.4857082470762812, 0.5027204746148244, 0.5027204746148244, 0.49740890022430273, 0.49740890022430273, 0.49011831069687106, 0.4865297939504596, 0.49526338492089267, 0.49526338492089267, 0.4899802908220091, 0.49057837694641104, 0.4964758377587325, 0.4966114520584335, 0.49179353605630693, 0.48886955944811983, 0.5032762054337132, 0.5032762054337132, 0.5014487200535962, 0.5014487200535962, 0.5010832229775728, 0.49815924636938574, 0.5010832229775728, 0.5010832229775728, 0.49669725806529214, 0.49669725806529214, 0.5035894886417333, 0.5035894886417333, 0.5035894886417333, 0.5035894886417333, 0.5035894886417333, 0.5035894886417333, 0.5035894886417333, 0.5255419513836697], 'f_05_micro': [0.25286259541984735, 0.020161290322580645, 0.14285714285714285, 0.4739010989010989, 0.47904191616766467, 0.5059523809523809, 0.49887892376681614, 0.5251479289940828, 0.5135135135135135, 0.5416666666666666, 0.5607476635514018, 0.49019607843137253, 0.498046875, 0.5411255411255411, 0.5401234567901234, 0.541871921182266, 0.5357142857142857, 0.48963133640552997, 0.5, 0.5350553505535055, 0.5404135338345865, 0.5511811023622047, 0.5522088353413654, 0.5648535564853556, 0.5653526970954357, 0.5208333333333334, 0.5203619909502263, 0.5441810344827587, 0.5543478260869565, 0.5411877394636015, 0.5426356589147286, 0.5281007751937985, 0.5208333333333334, 0.546875, 0.5419921875, 0.5606995884773662, 0.5594758064516129, 0.5599547511312217, 0.5622270742358079, 0.5365296803652968, 0.5389908256880734, 0.5543478260869565, 0.5537280701754386, 0.5627705627705628, 0.5652173913043478, 0.5520833333333334, 0.5567226890756303, 0.5761316872427984, 0.5709876543209876, 0.5769230769230769, 0.5741869918699187, 0.5792682926829268, 0.5792682926829268, 0.5769230769230769, 0.5792682926829268, 0.5816326530612245, 0.581275720164609, 0.5894308943089431, 0.5894308943089431, 0.5882352941176471, 0.5905511811023622, 0.5769230769230769, 0.5792682926829268, 0.575, 0.5773092369477911, 0.5796370967741935, 0.5773092369477911, 0.5792682926829268, 0.576530612244898, 0.5819838056680162, 0.5819838056680162, 0.5819838056680162, 0.584349593495935, 0.572289156626506, 0.5677290836653387, 0.5792682926829268, 0.5816326530612245, 0.5809128630705395, 0.5836776859504132, 0.5796370967741935, 0.5741869918699187, 0.5761316872427984, 0.5737704918032787, 0.58, 0.5776892430278885, 0.5788934426229508, 0.5788934426229508, 0.5745967741935484, 0.572289156626506, 0.572289156626506, 0.572289156626506, 0.572289156626506, 0.572289156626506, 0.5776892430278885, 0.5776892430278885, 0.5830039525691699, 0.5830039525691699, 0.5807086614173228, 0.5807086614173228, 0.5807086614173228, 0.5792972459639126], 'f_05_macro': [0.07084824935322967, 0.006265664160401002, 0.03210272873194221, 0.12487753722178528, 0.1265241987245142, 0.13460142216256119, 0.13217221412374475, 0.18736680326561908, 0.18043553912660176, 0.22446936907364345, 0.23298922087660628, 0.21106912309098808, 0.21750574417992471, 0.23425481575612087, 0.2326710946967923, 0.23197076603834418, 0.23086813217946064, 0.19170985465334892, 0.19610120560076602, 0.2503475567781986, 0.2532695553625148, 0.2629065631654754, 0.26605763266770005, 0.2611083527500319, 0.26146754815233075, 0.22426499324955523, 0.22285693609223017, 0.2408475944470502, 0.24321182242693687, 0.26355016814842974, 0.26111499425034246, 0.25361394277954014, 0.2532800962925574, 0.2638390126153019, 0.26054167437222386, 0.29646862946744257, 0.30010984847743943, 0.2591600079002966, 0.25901987441813507, 0.2495943847301301, 0.24986177222800343, 0.2564004597519801, 0.25624257166305753, 0.2646513832827277, 0.2661260722574167, 0.25092163538920315, 0.253164575005368, 0.27315782473455574, 0.26942440680919943, 0.2672192010076144, 0.2662708366571882, 0.2736151426976359, 0.2736151426976359, 0.2715823599750486, 0.27131879851858537, 0.27200844351880393, 0.27276466518575837, 0.28228026507495335, 0.28228026507495335, 0.2824224247368558, 0.28400603124231133, 0.2750952330854467, 0.2765534054122523, 0.27194249038976326, 0.2747353964084757, 0.27518679024475146, 0.27518679024475146, 0.277777744143611, 0.275699848577913, 0.2784592331556278, 0.2784592331556278, 0.2784051987252551, 0.27979700331589064, 0.27281171823647515, 0.27031432288193696, 0.276415100610162, 0.27771173907494207, 0.278193129669147, 0.2808114790616899, 0.27735732473765823, 0.27574053825664785, 0.2755559361344734, 0.2736372304599692, 0.2748611067826494, 0.273189983787997, 0.27654476983471193, 0.27654476983471193, 0.2730176308773547, 0.2719672107092875, 0.27237653926705063, 0.27237653926705063, 0.27220540668246246, 0.27220540668246246, 0.274385841747348, 0.274385841747348, 0.2763393160817689, 0.2763393160817689, 0.2754839286284433, 0.2754839286284433, 0.2754839286284433, 0.3170909720024132], 'precision_sampled': [0.23848684210526316, 0.006578947368421052, 0.05263157894736842, 0.29605263157894735, 0.28618421052631576, 0.3717105263157895, 0.37938596491228066, 0.3782894736842105, 0.3815789473684211, 0.4780701754385964, 0.4934210526315789, 0.46491228070175433, 0.46271929824561403, 0.5098684210526315, 0.5175438596491228, 0.47916666666666674, 0.47916666666666674, 0.4342105263157895, 0.4309210526315789, 0.5142543859649124, 0.5153508771929824, 0.5043859649122806, 0.4912280701754385, 0.4846491228070175, 0.4912280701754385, 0.4221491228070175, 0.4287280701754385, 0.4566885964912281, 0.45942982456140347, 0.524671052631579, 0.5279605263157895, 0.4912280701754385, 0.4901315789473684, 0.4967105263157895, 0.48739035087719296, 0.5010964912280701, 0.5060307017543859, 0.4616228070175438, 0.4758771929824561, 0.4462719298245614, 0.4495614035087719, 0.4879385964912281, 0.48135964912280693, 0.49561403508771934, 0.4989035087719299, 0.4901315789473684, 0.4934210526315789, 0.5307017543859649, 0.5241228070175438, 0.5153508771929826, 0.5153508771929826, 0.5164473684210527, 0.5164473684210527, 0.5142543859649122, 0.5175438596491228, 0.5263157894736842, 0.5197368421052632, 0.524671052631579, 0.524671052631579, 0.5356359649122806, 0.5356359649122806, 0.524671052631579, 0.5279605263157895, 0.5290570175438596, 0.5290570175438596, 0.537828947368421, 0.5345394736842105, 0.5279605263157895, 0.524671052631579, 0.5444078947368421, 0.5444078947368421, 0.5367324561403508, 0.5367324561403508, 0.5290570175438596, 0.5235745614035089, 0.5356359649122806, 0.5356359649122806, 0.5301535087719298, 0.5301535087719298, 0.5361842105263158, 0.5389254385964911, 0.53125, 0.5279605263157895, 0.5411184210526315, 0.5411184210526315, 0.5411184210526315, 0.5411184210526315, 0.5411184210526315, 0.537828947368421, 0.5411184210526315, 0.5411184210526315, 0.5345394736842105, 0.5345394736842105, 0.5422149122807017, 0.5422149122807017, 0.5389254385964911, 0.5389254385964911, 0.5389254385964911, 0.5389254385964911, 0.5389254385964911, 0.5553728070175438], 'precision_micro': [0.22894168466522677, 1.0, 0.8888888888888888, 0.5702479338842975, 0.6037735849056604, 0.5704697986577181, 0.5493827160493827, 0.6574074074074074, 0.6129032258064516, 0.610738255033557, 0.6274509803921569, 0.5154639175257731, 0.5230769230769231, 0.5882352941176471, 0.5769230769230769, 0.6197183098591549, 0.6040268456375839, 0.5448717948717948, 0.5637583892617449, 0.5523809523809524, 0.5609756097560976, 0.5803108808290155, 0.5851063829787234, 0.6067415730337079, 0.6055555555555555, 0.5806451612903226, 0.575, 0.5906432748538012, 0.6035502958579881, 0.565, 0.5685279187817259, 0.5532994923857868, 0.541871921182266, 0.5743589743589743, 0.5692307692307692, 0.5989010989010989, 0.5935828877005348, 0.61875, 0.6130952380952381, 0.5949367088607594, 0.5987261146496815, 0.6035502958579881, 0.6047904191616766, 0.611764705882353, 0.6153846153846154, 0.5921787709497207, 0.5988700564971752, 0.6153846153846154, 0.6098901098901099, 0.6129032258064516, 0.6108108108108108, 0.6162162162162163, 0.6162162162162163, 0.6129032258064516, 0.6162162162162163, 0.6195652173913043, 0.6208791208791209, 0.6270270270270271, 0.6270270270270271, 0.6185567010309279, 0.6217616580310881, 0.6129032258064516, 0.6162162162162163, 0.6084656084656085, 0.6117021276595744, 0.6149732620320856, 0.6117021276595744, 0.6162162162162163, 0.6141304347826086, 0.6182795698924731, 0.6182795698924731, 0.6182795698924731, 0.6216216216216216, 0.6063829787234043, 0.6, 0.6162162162162163, 0.6195652173913043, 0.6222222222222222, 0.6243093922651933, 0.6149732620320856, 0.6108108108108108, 0.6153846153846154, 0.6120218579234973, 0.6137566137566137, 0.6105263157894737, 0.6174863387978142, 0.6174863387978142, 0.6096256684491979, 0.6063829787234043, 0.6063829787234043, 0.6063829787234043, 0.6063829787234043, 0.6063829787234043, 0.6105263157894737, 0.6105263157894737, 0.6145833333333334, 0.6145833333333334, 0.6113989637305699, 0.6113989637305699, 0.6113989637305699, 0.6009852216748769], 'precision_macro': [0.061003710219049656, 0.07142857142857142, 0.06349206349206349, 0.14018218623481782, 0.1431663574520717, 0.13729862867793902, 0.13346683908665305, 0.22277466542172425, 0.21539615846338536, 0.2518800195544382, 0.25603192528658364, 0.22325998681930884, 0.22950720375969547, 0.24789351837532952, 0.24149666123350336, 0.26092740126353575, 0.25409550766693617, 0.22374768089053806, 0.23312264157334583, 0.27512246895632625, 0.28116481511432884, 0.32843504551579084, 0.33246581460867175, 0.3345113645363111, 0.33408003258324, 0.2742583918813427, 0.26515204830980393, 0.314769820971867, 0.31685114402505704, 0.3273806531410218, 0.3239277568309826, 0.3234310160164197, 0.32342675706646296, 0.3319273715808769, 0.32843582887700534, 0.3778786818483703, 0.3800827149041434, 0.30007086271119954, 0.297764986872492, 0.2916706217370669, 0.29196660482374764, 0.297438189486871, 0.2979633995709046, 0.30764207057310505, 0.30957732743447025, 0.288745063416116, 0.2917692569645031, 0.3097909618392812, 0.30467079465014846, 0.3054613414413777, 0.3047501038880349, 0.3021307373524122, 0.3021307373524122, 0.30712086558761437, 0.30640605620345013, 0.3088083111003315, 0.31141039411716104, 0.31715171810457427, 0.31715171810457427, 0.31413580094794513, 0.31676185136811325, 0.3091630591630592, 0.3114973262032086, 0.30457573463200627, 0.3089047389610106, 0.3083333333333333, 0.3083333333333333, 0.3116029745231426, 0.30996898759503805, 0.31228369596397565, 0.31228369596397565, 0.3126033677142051, 0.31464418404073574, 0.3046867504230321, 0.3014587159142095, 0.307817513174656, 0.30967280074422926, 0.31325932132383744, 0.3148826979472141, 0.3113935690111741, 0.3103696184341346, 0.30984139423794593, 0.3073388967354485, 0.30691413041643456, 0.3046064381087423, 0.3116866311742088, 0.3116866311742088, 0.3056001337229083, 0.3042773824001569, 0.3048333863459914, 0.3048333863459914, 0.3049145299145299, 0.3049145299145299, 0.30612244897959184, 0.30612244897959184, 0.3079261345654788, 0.3079261345654788, 0.30675767287070127, 0.30675767287070127, 0.30675767287070127, 0.3641162229858684], 'recall_sampled': [0.4182017543859649, 0.003289473684210526, 0.04276315789473684, 0.3055921052631579, 0.2820175438596491, 0.3620614035087719, 0.3850877192982456, 0.3196271929824562, 0.3410087719298246, 0.37741228070175437, 0.40372807017543855, 0.411951754385965, 0.42017543859649126, 0.425438596491228, 0.431140350877193, 0.37467105263157896, 0.38728070175438595, 0.35635964912280704, 0.34978070175438597, 0.47149122807017535, 0.46710526315789475, 0.449780701754386, 0.4399122807017544, 0.42894736842105263, 0.431140350877193, 0.3728070175438597, 0.37741228070175437, 0.4174342105263158, 0.42072368421052636, 0.46875, 0.4665570175438597, 0.4388157894736842, 0.4421052631578948, 0.45526315789473687, 0.4486842105263158, 0.4421052631578948, 0.4585526315789474, 0.40537280701754386, 0.42182017543859657, 0.38728070175438595, 0.38728070175438595, 0.4130482456140351, 0.4097587719298246, 0.42182017543859646, 0.42182017543859646, 0.4305921052631579, 0.4305921052631579, 0.4629385964912281, 0.4563596491228071, 0.47116228070175437, 0.4678728070175438, 0.4629385964912281, 0.4629385964912281, 0.4678728070175439, 0.4678728070175439, 0.47116228070175437, 0.4645833333333333, 0.4700657894736842, 0.4700657894736842, 0.4930921052631579, 0.4930921052631579, 0.46951754385964917, 0.46951754385964917, 0.46951754385964917, 0.46951754385964917, 0.47609649122807013, 0.47609649122807013, 0.46842105263157896, 0.4618421052631579, 0.4749999999999999, 0.4749999999999999, 0.4717105263157894, 0.4717105263157894, 0.46403508771929824, 0.46403508771929824, 0.46732456140350875, 0.46732456140350875, 0.46184210526315783, 0.46403508771929824, 0.4717105263157894, 0.46513157894736834, 0.46184210526315783, 0.46184210526315783, 0.47938596491228064, 0.47938596491228064, 0.46951754385964906, 0.46951754385964906, 0.4728070175438596, 0.4728070175438596, 0.4728070175438596, 0.4728070175438596, 0.4728070175438596, 0.4728070175438596, 0.47938596491228064, 0.47938596491228064, 0.4859649122807017, 0.4859649122807017, 0.4859649122807017, 0.4859649122807017, 0.4859649122807017, 0.5060307017543859], 'recall_micro': [0.4344262295081967, 0.004098360655737705, 0.03278688524590164, 0.2827868852459016, 0.26229508196721313, 0.3483606557377049, 0.36475409836065575, 0.29098360655737704, 0.3114754098360656, 0.3729508196721312, 0.39344262295081966, 0.4098360655737705, 0.4180327868852459, 0.4098360655737705, 0.430327868852459, 0.36065573770491804, 0.36885245901639346, 0.3483606557377049, 0.3442622950819672, 0.47540983606557374, 0.4713114754098361, 0.45901639344262296, 0.45081967213114754, 0.4426229508196721, 0.44672131147540983, 0.36885245901639346, 0.3770491803278688, 0.4139344262295082, 0.4180327868852459, 0.46311475409836067, 0.45901639344262296, 0.44672131147540983, 0.45081967213114754, 0.45901639344262296, 0.45491803278688525, 0.44672131147540983, 0.45491803278688525, 0.4057377049180328, 0.42213114754098363, 0.38524590163934425, 0.38524590163934425, 0.4180327868852459, 0.4139344262295082, 0.4262295081967213, 0.4262295081967213, 0.4344262295081967, 0.4344262295081967, 0.45901639344262296, 0.45491803278688525, 0.4672131147540984, 0.46311475409836067, 0.4672131147540984, 0.4672131147540984, 0.4672131147540984, 0.4672131147540984, 0.4672131147540984, 0.46311475409836067, 0.47540983606557374, 0.47540983606557374, 0.4918032786885246, 0.4918032786885246, 0.4672131147540984, 0.4672131147540984, 0.4713114754098361, 0.4713114754098361, 0.4713114754098361, 0.4713114754098361, 0.4672131147540984, 0.46311475409836067, 0.4713114754098361, 0.4713114754098361, 0.4713114754098361, 0.4713114754098361, 0.4672131147540984, 0.4672131147540984, 0.4672131147540984, 0.4672131147540984, 0.45901639344262296, 0.46311475409836067, 0.4713114754098361, 0.46311475409836067, 0.45901639344262296, 0.45901639344262296, 0.47540983606557374, 0.47540983606557374, 0.46311475409836067, 0.46311475409836067, 0.4672131147540984, 0.4672131147540984, 0.4672131147540984, 0.4672131147540984, 0.4672131147540984, 0.4672131147540984, 0.47540983606557374, 0.47540983606557374, 0.48360655737704916, 0.48360655737704916, 0.48360655737704916, 0.48360655737704916, 0.48360655737704916, 0.5062240663900415], 'recall_macro': [0.2780906969022227, 0.001347708894878706, 0.010781671159029648, 0.10688649947263565, 0.10041713055197468, 0.13675583030587132, 0.14235175202156333, 0.13113770355388343, 0.13413485025232216, 0.18165106515058477, 0.19003775451511826, 0.20045025078431133, 0.2043781337815882, 0.19744698830471813, 0.20654050541793662, 0.1722411420557209, 0.17732068617853822, 0.16066103973106502, 0.1569067078096172, 0.24034080019097112, 0.2397862305370226, 0.2210437236217599, 0.2211964337350642, 0.2093416043470371, 0.21189262475520038, 0.17322118345749468, 0.1770061213456935, 0.1941571620892801, 0.195709957120336, 0.22677946540463564, 0.22543175650975694, 0.20959841303356794, 0.21115120806462384, 0.21934254823396926, 0.21590709386354184, 0.22462883422394822, 0.23017570841713017, 0.20137290487088633, 0.20796705196368573, 0.19028321162227255, 0.19028321162227255, 0.20399879799543172, 0.20244600296437584, 0.20721462045257694, 0.20721462045257694, 0.21174655460422787, 0.21174655460422787, 0.22514035888133457, 0.22290821602419172, 0.22478612165166292, 0.22323332662060702, 0.22715642884500503, 0.22715642884500503, 0.2281546542221124, 0.2281546542221124, 0.2278099514772199, 0.22557780862007706, 0.23720650745093375, 0.23720650745093375, 0.246772833981546, 0.246772833981546, 0.2313665809006035, 0.2313665809006035, 0.2320349419693952, 0.2320349419693952, 0.23262632357451102, 0.23262632357451102, 0.23301472579074342, 0.23055167160355133, 0.2337674940606965, 0.2337674940606965, 0.23285723490456028, 0.23285723490456028, 0.23280963965456625, 0.23280963965456625, 0.23413007108305686, 0.23413007108305686, 0.22860902208374695, 0.23257727605200093, 0.23197280094229614, 0.22907229701636153, 0.22672636274437546, 0.22672636274437546, 0.23261533681721586, 0.23261533681721586, 0.226484464657031, 0.226484464657031, 0.2297148328912812, 0.2297148328912812, 0.2297148328912812, 0.2297148328912812, 0.22871660751417386, 0.22871660751417386, 0.23349977077947998, 0.23349977077947998, 0.23640027470541458, 0.23640027470541458, 0.23640027470541458, 0.23640027470541458, 0.23640027470541458, 0.2822487521245473], 'accuracy': [0.019736842105263157, 0.05921052631578947, 0.09210526315789473, 0.14473684210526316, 0.17105263157894737, 0.21710526315789475, 0.21710526315789475, 0.21710526315789475, 0.20394736842105263, 0.21710526315789475, 0.23684210526315788, 0.20394736842105263, 0.20394736842105263, 0.2631578947368421, 0.26973684210526316, 0.2565789473684211, 0.2565789473684211, 0.20394736842105263, 0.19736842105263158, 0.2565789473684211, 0.25, 0.25, 0.25, 0.23684210526315788, 0.23684210526315788, 0.2236842105263158, 0.21710526315789475, 0.2236842105263158, 0.23026315789473684, 0.23684210526315788, 0.25, 0.2236842105263158, 0.23026315789473684, 0.24342105263157895, 0.24342105263157895, 0.2565789473684211, 0.2565789473684211, 0.26973684210526316, 0.2565789473684211, 0.23026315789473684, 0.23684210526315788, 0.2236842105263158, 0.2236842105263158, 0.23026315789473684, 0.23026315789473684, 0.23684210526315788, 0.23684210526315788, 0.2565789473684211, 0.25, 0.27631578947368424, 0.26973684210526316, 0.26973684210526316, 0.26973684210526316, 0.2565789473684211, 0.2565789473684211, 0.26973684210526316, 0.2631578947368421, 0.26973684210526316, 0.26973684210526316, 0.27631578947368424, 0.27631578947368424, 0.2565789473684211, 0.2565789473684211, 0.2565789473684211, 0.2565789473684211, 0.2565789473684211, 0.2565789473684211, 0.2565789473684211, 0.2565789473684211, 0.25, 0.25, 0.2565789473684211, 0.2565789473684211, 0.25, 0.24342105263157895, 0.2631578947368421, 0.2631578947368421, 0.2565789473684211, 0.2631578947368421, 0.2565789473684211, 0.25, 0.26973684210526316, 0.2631578947368421, 0.27631578947368424, 0.27631578947368424, 0.27631578947368424, 0.27631578947368424, 0.2631578947368421, 0.2565789473684211, 0.2631578947368421, 0.2631578947368421, 0.26973684210526316, 0.26973684210526316, 0.26973684210526316, 0.26973684210526316, 0.28289473684210525, 0.28289473684210525, 0.28289473684210525, 0.28289473684210525, 0.28289473684210525, 0.28289473684210525], 'coverage_error': [12.625, 14.0, 14.0, 10.875, 10.875, 10.875, 11.0, 12.5, 12.5, 10.875, 10.875, 9.375, 9.375, 10.875, 7.875, 10.875, 10.875, 10.875, 11.0, 8.0, 8.0, 11.0, 11.0, 11.0, 11.0, 10.875, 11.0, 11.0, 11.0, 11.0, 11.0, 11.0, 11.125, 11.0, 9.5, 11.0, 11.0, 11.0, 11.0, 11.0, 11.0, 11.0, 11.0, 11.0, 11.0, 11.0, 11.0, 11.0, 11.0, 11.0, 11.0, 11.0, 11.0, 11.0, 11.0, 11.0, 11.0, 11.0, 11.0, 11.0, 11.0, 11.0, 11.0, 11.0, 11.0, 11.0, 11.0, 11.0, 11.0, 11.0, 11.0, 11.0, 11.0, 11.0, 11.0, 11.0, 11.0, 11.0, 11.0, 11.0, 11.0, 11.0, 11.0, 11.0, 11.0, 11.0, 11.0, 11.0, 11.0, 11.0, 11.0, 11.0, 11.0, 11.0, 11.0, 11.0, 11.0, 11.0, 11.0, 11.0, 9.5], 'label_ranking_loss': [0.7309731934731936, 1.0, 1.0, 0.6033653846153846, 0.6658653846153846, 0.6033653846153846, 0.6129807692307692, 0.8221153846153846, 0.7908653846153846, 0.5981570512820513, 0.57069493006993, 0.49777826340326337, 0.49777826340326337, 0.5929487179487178, 0.4679487179487179, 0.5200320512820513, 0.5564903846153846, 0.6770833333333333, 0.6866987179487178, 0.44347319347319347, 0.398018648018648, 0.5646853146853147, 0.5684731934731935, 0.6063519813519813, 0.6063519813519813, 0.6630244755244755, 0.6726398601398601, 0.6451777389277389, 0.6413898601398601, 0.5826777389277389, 0.5826777389277389, 0.6942744755244755, 0.7038898601398602, 0.6726398601398601, 0.6139277389277389, 0.6726398601398601, 0.6726398601398601, 0.6688519813519813, 0.6688519813519813, 0.6688519813519813, 0.6688519813519813, 0.6688519813519813, 0.6688519813519813, 0.6063519813519813, 0.6063519813519813, 0.6688519813519813, 0.6688519813519813, 0.6063519813519813, 0.6063519813519813, 0.6688519813519813, 0.6688519813519813, 0.6063519813519813, 0.6063519813519813, 0.6063519813519813, 0.6063519813519813, 0.6063519813519813, 0.6063519813519813, 0.6063519813519813, 0.6063519813519813, 0.6063519813519813, 0.6063519813519813, 0.6063519813519813, 0.6063519813519813, 0.6063519813519813, 0.6063519813519813, 0.6063519813519813, 0.6115603146853146, 0.6063519813519813, 0.6063519813519813, 0.6063519813519813, 0.6063519813519813, 0.6063519813519813, 0.6063519813519813, 0.6101398601398601, 0.6101398601398601, 0.6101398601398601, 0.6101398601398601, 0.6063519813519813, 0.6063519813519813, 0.6063519813519813, 0.6063519813519813, 0.6101398601398601, 0.6101398601398601, 0.6101398601398601, 0.6101398601398601, 0.6101398601398601, 0.6101398601398601, 0.6101398601398601, 0.6101398601398601, 0.6101398601398601, 0.6101398601398601, 0.6101398601398601, 0.6101398601398601, 0.6101398601398601, 0.6101398601398601, 0.6101398601398601, 0.6101398601398601, 0.6101398601398601, 0.6101398601398601, 0.6101398601398601, 0.4923878205128205], 'lrap': [0.22371031746031747, 0.1607142857142857, 0.1607142857142857, 0.45982142857142855, 0.40624999999999994, 0.45982142857142855, 0.39732142857142855, 0.2678571428571428, 0.2901785714285714, 0.4389880952380952, 0.4404761904761904, 0.5044642857142858, 0.5044642857142858, 0.4702380952380952, 0.5773809523809524, 0.5252976190476191, 0.4717261904761904, 0.4389880952380952, 0.3764880952380952, 0.5198412698412699, 0.5595238095238096, 0.41964285714285715, 0.41269841269841273, 0.3869047619047618, 0.3869047619047618, 0.3888888888888888, 0.32638888888888884, 0.3452380952380952, 0.3487103174603174, 0.3988095238095238, 0.3988095238095238, 0.3487103174603174, 0.3278769841269841, 0.32638888888888884, 0.3764880952380952, 0.32638888888888884, 0.32638888888888884, 0.3333333333333333, 0.3333333333333333, 0.3333333333333333, 0.3333333333333333, 0.3333333333333333, 0.3333333333333333, 0.3869047619047618, 0.3869047619047618, 0.3333333333333333, 0.3333333333333333, 0.3869047619047618, 0.3869047619047618, 0.3333333333333333, 0.3333333333333333, 0.3869047619047618, 0.3869047619047618, 0.3869047619047618, 0.3869047619047618, 0.3869047619047618, 0.3869047619047618, 0.3869047619047618, 0.3869047619047618, 0.3869047619047618, 0.3869047619047618, 0.3869047619047618, 0.3869047619047618, 0.3869047619047618, 0.3869047619047618, 0.3869047619047618, 0.3556547619047618, 0.3869047619047618, 0.3869047619047618, 0.3869047619047618, 0.3869047619047618, 0.3869047619047618, 0.3869047619047618, 0.3799603174603174, 0.3799603174603174, 0.3799603174603174, 0.3799603174603174, 0.3869047619047618, 0.3869047619047618, 0.3869047619047618, 0.3869047619047618, 0.3799603174603174, 0.3799603174603174, 0.3799603174603174, 0.3799603174603174, 0.3799603174603174, 0.3799603174603174, 0.3799603174603174, 0.3799603174603174, 0.3799603174603174, 0.3799603174603174, 0.3799603174603174, 0.3799603174603174, 0.3799603174603174, 0.3799603174603174, 0.3799603174603174, 0.3799603174603174, 0.3799603174603174, 0.3799603174603174, 0.3799603174603174, 0.47916666666666663]}\n"
     ]
    }
   ],
   "source": [
    "print(metrics_data)"
   ]
  },
  {
   "cell_type": "code",
   "execution_count": 82,
   "id": "c3b84004",
   "metadata": {},
   "outputs": [
    {
     "name": "stdout",
     "output_type": "stream",
     "text": [
      "f1_sampled: 101\n",
      "f1_micro: 101\n",
      "f1_macro: 101\n",
      "f_05_sample: 101\n",
      "f_05_micro: 101\n",
      "f_05_macro: 101\n",
      "precision_sampled: 101\n",
      "precision_micro: 101\n",
      "precision_macro: 101\n",
      "recall_sampled: 101\n",
      "recall_micro: 101\n",
      "recall_macro: 101\n",
      "accuracy: 101\n",
      "coverage_error: 101\n",
      "label_ranking_loss: 101\n",
      "lrap: 101\n"
     ]
    },
    {
     "data": {
      "image/png": "[encoded data removed]",
      "text/plain": [
       "<Figure size 1200x700 with 1 Axes>"
      ]
     },
     "metadata": {},
     "output_type": "display_data"
    }
   ],
   "source": [
    "plt.figure(figsize=(12, 7))\n",
    "epochs = range(1, len(metrics_log) + 1)\n",
    "for metric_name, values in metrics_data.items():\n",
    "    print(f\"{metric_name}: {len(values)}\")\n",
    "    if metric_name != 'lrap' and metric_name != 'coverage_error':\n",
    "        plt.plot(epochs, values, label=metric_name)\n",
    "\n",
    "plt.xlabel('Epoch')\n",
    "plt.ylabel('Metric Value')\n",
    "plt.title('Tactic - All Metrics Over Epochs')\n",
    "plt.legend()\n",
    "plt.grid(True)\n",
    "plt.tight_layout()\n",
    "plt.show()"
   ]
  },
  {
   "cell_type": "code",
   "execution_count": 83,
   "id": "b786ee11",
   "metadata": {},
   "outputs": [
    {
     "data": {
      "image/png": "[encoded data removed]",
      "text/plain": [
       "<Figure size 1200x700 with 1 Axes>"
      ]
     },
     "metadata": {},
     "output_type": "display_data"
    }
   ],
   "source": [
    "plt.figure(figsize=(12, 7))\n",
    "epochs = range(1, len(metrics_log) + 1)\n",
    "for metric_name, values in metrics_data.items():\n",
    "    # print(f\"{metric_name}: {len(values)}\")\n",
    "    if metric_name == 'coverage_error':\n",
    "        plt.plot(epochs, values, label=metric_name)\n",
    "\n",
    "plt.xlabel('Epoch')\n",
    "plt.ylabel('Metric Value')\n",
    "plt.title('Tactic -All Metrics Over Epochs')\n",
    "plt.legend()\n",
    "plt.grid(True)\n",
    "plt.tight_layout()\n",
    "plt.show()"
   ]
  },
  {
   "cell_type": "code",
   "execution_count": 84,
   "id": "1ec70b8e",
   "metadata": {},
   "outputs": [
    {
     "data": {
      "image/png": "[encoded data removed]",
      "text/plain": [
       "<Figure size 1200x700 with 1 Axes>"
      ]
     },
     "metadata": {},
     "output_type": "display_data"
    }
   ],
   "source": [
    "plt.figure(figsize=(12, 7))\n",
    "epochs = range(1, len(metrics_log) + 1)\n",
    "for metric_name, values in metrics_data.items():\n",
    "    # print(f\"{metric_name}: {len(values)}\")\n",
    "    if metric_name == 'lrap':\n",
    "        plt.plot(epochs, values, label=metric_name)\n",
    "\n",
    "plt.xlabel('Epoch')\n",
    "plt.ylabel('Metric Value')\n",
    "plt.title('Tactic -All Metrics Over Epochs')\n",
    "plt.legend()\n",
    "plt.grid(True)\n",
    "plt.tight_layout()\n",
    "plt.show()"
   ]
  },
  {
   "cell_type": "code",
   "execution_count": 85,
   "id": "44a17fa5",
   "metadata": {},
   "outputs": [],
   "source": [
    "def print_F1_based_on_distribution(y_true, y_pred, Y, columns):\n",
    "  fig,ax = plt.subplots()\n",
    "\n",
    "  results = pd.DataFrame(columns = columns)\n",
    "  results.loc[len(results)] = f1_score(y_true, y_pred, average=None)\n",
    "\n",
    "\n",
    "  Y_count = Y.apply(np.sum, axis=0)\n",
    "\n",
    "  # print(Y_count[0:14])\n",
    "\n",
    "  Y_count_sorted = Y_count[0:14].sort_values(ascending=False)\n",
    "\n",
    "  ax.bar(Y_count_sorted.index, Y_count_sorted.values)\n",
    "  ax.set_xlabel(\"Tactics\")\n",
    "  ax.set_ylabel(\"Number of CVEs\")\n",
    "  plt.xticks(rotation=90)\n",
    "\n",
    "  ax2=ax.twinx()\n",
    "  ax2.plot(Y_count_sorted.index, results[Y_count_sorted.index].iloc[0], color='red')\n",
    "  ax2.set_ylabel(\"F1 Score\")\n",
    "\n",
    "  ax = plt.gca()\n",
    "  plt.show()"
   ]
  },
  {
   "cell_type": "code",
   "execution_count": 86,
   "id": "ad72bae8",
   "metadata": {},
   "outputs": [],
   "source": [
    "def print_precision_based_on_distribution(y_true, y_pred, Y, columns):\n",
    "  fig,ax = plt.subplots()\n",
    "\n",
    "  results = pd.DataFrame(columns = columns)\n",
    "  results.loc[len(results)] = precision_score(y_true, y_pred, average=None)\n",
    "\n",
    "\n",
    "  Y_count = Y.apply(np.sum, axis=0)\n",
    "\n",
    "  # print(Y_count[0:14])\n",
    "\n",
    "  Y_count_sorted = Y_count[0:14].sort_values(ascending=False)\n",
    "\n",
    "  ax.bar(Y_count_sorted.index, Y_count_sorted.values)\n",
    "  ax.set_xlabel(\"Tactics\")\n",
    "  ax.set_ylabel(\"Number of CVEs\")\n",
    "  plt.xticks(rotation=90)\n",
    "\n",
    "  ax2=ax.twinx()\n",
    "  ax2.plot(Y_count_sorted.index, results[Y_count_sorted.index].iloc[0], color='red')\n",
    "  ax2.set_ylabel(\"Precision Score\")\n",
    "\n",
    "  ax = plt.gca()\n",
    "  plt.show()"
   ]
  },
  {
   "cell_type": "code",
   "execution_count": 87,
   "id": "bfe45ad7",
   "metadata": {},
   "outputs": [],
   "source": [
    "def compute_metrics(predicted_y, true_y, metric_function, columns, limit):\n",
    "  results = pd.DataFrame(columns = columns)\n",
    "  if (metric_function == accuracy_score):\n",
    "    results.loc[len(results)] = metric_function(true_y, predicted_y)\n",
    "  else:\n",
    "    results.loc[len(results)] = metric_function(true_y, predicted_y, average=None)\n",
    "\n",
    "  sorted_results = results.sort_values(by=0, axis=1, ascending=False)\n",
    "\n",
    "  for col in sorted_results.columns[:limit]:\n",
    "        print(f\"{col}: {sorted_results[col].values[0]}\")\n",
    "\n",
    "  return sorted_results.iloc[:, :limit]"
   ]
  },
  {
   "cell_type": "code",
   "execution_count": 88,
   "id": "66e7aebd",
   "metadata": {},
   "outputs": [],
   "source": [
    "df = pd.read_csv('merged_all_columns.csv', encoding='utf-8')\n",
    "# df_attack['tactic_label'] = df_attack.apply(lambda x: list(x[TACTIC]), axis=1)\n",
    "# df_attack['technique_label'] = df_attack.apply(lambda x: list(x[TECHNIQUE]), axis=1)\n",
    "\n",
    "df_tactic_labels = df[TACTIC]\n",
    "df_technique_labels = df[TECHNIQUE]\n",
    "\n",
    "df['tactic_label'] = df.apply(lambda x: list(x[TACTIC]), axis=1)\n",
    "df['technique_label'] = df.apply(lambda x: list(x[TECHNIQUE]), axis=1)\n",
    "\n",
    "df['text_clean'] = df['Text'].map(lambda t: preprocess(t))\n",
    "\n",
    "\n",
    "train, test = train_test_split(df, test_size=0.2, random_state=2222)\n",
    "validation, test = train_test_split(test, test_size=0.5, random_state=2222)\n"
   ]
  },
  {
   "cell_type": "code",
   "execution_count": 89,
   "id": "598b8829",
   "metadata": {},
   "outputs": [
    {
     "name": "stdout",
     "output_type": "stream",
     "text": [
      "------Validation results --------\n",
      "0.5163175163455695\n",
      "F1 scores per class\n",
      "TA0040: 0.7619047619047619\n",
      "TA0002: 0.6851851851851852\n",
      "TA0006: 0.6\n",
      "TA0009: 0.5806451612903226\n",
      "TA0001: 0.5121951219512195\n",
      "TA0004: 0.4444444444444444\n",
      "TA0005: 0.1111111111111111\n",
      "TA0003: 0.0\n",
      "TA0008: 0.0\n",
      "TA0007: 0.0\n",
      "TA0010: 0.0\n",
      "TA0011: 0.0\n",
      "TA0042: 0.0\n",
      "TA0043: 0.0\n",
      "----------------------------------\n",
      "Recall scores per class\n",
      "TA0040: 0.75\n",
      "TA0002: 0.6981132075471698\n",
      "TA0009: 0.6428571428571429\n",
      "TA0006: 0.5\n",
      "TA0001: 0.45652173913043476\n",
      "TA0004: 0.3448275862068966\n",
      "TA0005: 0.0625\n",
      "TA0003: 0.0\n",
      "TA0008: 0.0\n",
      "TA0007: 0.0\n",
      "TA0010: 0.0\n",
      "TA0011: 0.0\n",
      "TA0042: 0.0\n",
      "TA0043: 0.0\n",
      "----------------------------------\n",
      "Precision scores per class\n",
      "TA0040: 0.7741935483870968\n",
      "TA0006: 0.75\n",
      "TA0002: 0.6727272727272727\n",
      "TA0004: 0.625\n",
      "TA0001: 0.5833333333333334\n",
      "TA0009: 0.5294117647058824\n",
      "TA0005: 0.5\n",
      "TA0003: 0.0\n",
      "TA0008: 0.0\n",
      "TA0007: 0.0\n",
      "TA0010: 0.0\n",
      "TA0011: 0.0\n",
      "TA0042: 0.0\n",
      "TA0043: 0.0\n",
      "----------------------------------\n",
      "Accuracy scores per class\n",
      "TA0001: 0.27631578947368424\n",
      "TA0002: 0.27631578947368424\n",
      "TA0003: 0.27631578947368424\n",
      "TA0004: 0.27631578947368424\n",
      "TA0005: 0.27631578947368424\n",
      "TA0006: 0.27631578947368424\n",
      "TA0007: 0.27631578947368424\n",
      "TA0008: 0.27631578947368424\n",
      "TA0009: 0.27631578947368424\n",
      "TA0010: 0.27631578947368424\n",
      "TA0011: 0.27631578947368424\n",
      "TA0040: 0.27631578947368424\n",
      "TA0042: 0.27631578947368424\n",
      "TA0043: 0.27631578947368424\n"
     ]
    }
   ],
   "source": [
    "print(\"------Validation results --------\")\n",
    "print(BEST_F1)\n",
    "\n",
    "print(\"F1 scores per class\")\n",
    "y_train_df = train.drop(train.columns[0:2], axis=1)\n",
    "\n",
    "f1_best_metrics = compute_metrics(BEST_PREDICTED, BEST_TRUE, f1_score, test.columns[2:16], 14)\n",
    "print(\"----------------------------------\")\n",
    "\n",
    "print(\"Recall scores per class\")\n",
    "recall_best_metrics = compute_metrics(BEST_PREDICTED, BEST_TRUE, recall_score, test.columns[2:16], 14)\n",
    "print(\"----------------------------------\")\n",
    "\n",
    "print(\"Precision scores per class\")\n",
    "precision_best_metrics = compute_metrics(BEST_PREDICTED, BEST_TRUE, precision_score, test.columns[2:16], 14)\n",
    "print(\"----------------------------------\")\n",
    "\n",
    "print(\"Accuracy scores per class\")\n",
    "acc_best_metrics = compute_metrics(BEST_PREDICTED, BEST_TRUE, accuracy_score, test.columns[2:16], 14)"
   ]
  },
  {
   "cell_type": "code",
   "execution_count": 90,
   "id": "08b171ec",
   "metadata": {},
   "outputs": [
    {
     "data": {
      "image/png": "[encoded data removed]",
      "text/plain": [
       "<Figure size 640x480 with 2 Axes>"
      ]
     },
     "metadata": {},
     "output_type": "display_data"
    }
   ],
   "source": [
    "print_F1_based_on_distribution(BEST_PREDICTED, BEST_TRUE, y_train_df,  test.columns[2:16])"
   ]
  },
  {
   "cell_type": "code",
   "execution_count": 91,
   "id": "d3edea3d",
   "metadata": {},
   "outputs": [
    {
     "data": {
      "image/png": "[encoded data removed]",
      "text/plain": [
       "<Figure size 640x480 with 2 Axes>"
      ]
     },
     "metadata": {},
     "output_type": "display_data"
    }
   ],
   "source": [
    "print_precision_based_on_distribution(BEST_PREDICTED, BEST_TRUE, y_train_df,  test.columns[2:16])"
   ]
  }
 ],
 "metadata": {
  "kernelspec": {
   "display_name": "dl_final",
   "language": "python",
   "name": "python3"
  },
  "language_info": {
   "codemirror_mode": {
    "name": "ipython",
    "version": 3
   },
   "file_extension": ".py",
   "mimetype": "text/x-python",
   "name": "python",
   "nbconvert_exporter": "python",
   "pygments_lexer": "ipython3",
   "version": "3.12.7"
  }
 },
 "nbformat": 4,
 "nbformat_minor": 5
}
