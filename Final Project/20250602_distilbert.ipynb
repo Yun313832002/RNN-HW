{
 "cells": [
  {
   "cell_type": "code",
   "execution_count": 1,
   "id": "8d95e049",
   "metadata": {},
   "outputs": [],
   "source": [
    "import os\n",
    "os.environ[\"TOKENIZERS_PARALLELISM\"] = \"false\"\n",
    "import pandas as pd\n",
    "import numpy as np\n",
    "import sklearn\n",
    "import re\n",
    "import math\n",
    "import joblib\n",
    "from tqdm.notebook import tqdm\n",
    "import matplotlib.pyplot as plt"
   ]
  },
  {
   "cell_type": "code",
   "execution_count": 2,
   "id": "dac02406",
   "metadata": {},
   "outputs": [],
   "source": [
    "import warnings\n",
    "warnings.filterwarnings(\"ignore\", category=FutureWarning)"
   ]
  },
  {
   "cell_type": "code",
   "execution_count": 3,
   "id": "9b56fa49",
   "metadata": {},
   "outputs": [
    {
     "name": "stdout",
     "output_type": "stream",
     "text": [
      "Time now: 06-02-05-14\n"
     ]
    }
   ],
   "source": [
    "time_now = pd.Timestamp.now().strftime(\"%m-%d-%H-%M\")\n",
    "print(f\"Time now: {time_now}\")"
   ]
  },
  {
   "cell_type": "code",
   "execution_count": 30,
   "id": "d739eb03",
   "metadata": {},
   "outputs": [],
   "source": [
    "TACTIC = ['TA0001', 'TA0002', 'TA0003', 'TA0004', 'TA0005', 'TA0006', 'TA0007', 'TA0008', 'TA0009', 'TA0010', 'TA0011', 'TA0040', 'TA0042', 'TA0043']\n",
    "TECHNIQUE = ['T1001', 'T1003', 'T1005', 'T1006', 'T1007', 'T1008', 'T1010', 'T1011', 'T1012', 'T1014', 'T1016', 'T1018', 'T1020', 'T1021', 'T1025', 'T1027', 'T1029', 'T1030', 'T1033', 'T1036', 'T1037', 'T1039', 'T1040', 'T1041', 'T1046', 'T1047', 'T1048', 'T1049', 'T1052', 'T1053', 'T1055', 'T1056', 'T1057', 'T1059', 'T1068', 'T1069', 'T1071', 'T1072', 'T1074', 'T1078', 'T1080', 'T1082', 'T1083', 'T1087', 'T1090', 'T1091', 'T1092', 'T1095', 'T1098', 'T1102', 'T1104', 'T1105', 'T1106', 'T1110', 'T1111', 'T1112', 'T1113', 'T1114', 'T1115', 'T1119', 'T1120', 'T1123', 'T1124', 'T1125', 'T1127', 'T1129', 'T1132', 'T1133', 'T1134', 'T1135', 'T1136', 'T1137', 'T1140', 'T1176', 'T1185', 'T1187', 'T1189', 'T1190', 'T1195', 'T1197', 'T1199', 'T1200', 'T1201', 'T1202', 'T1203', 'T1204', 'T1205', 'T1207', 'T1210', 'T1211', 'T1212', 'T1213', 'T1216', 'T1218', 'T1220', 'T1221', 'T1222', 'T1480', 'T1482', 'T1485', 'T1486', 'T1489', 'T1490', 'T1491', 'T1495', 'T1496', 'T1497', 'T1498', 'T1499', 'T1505', 'T1518', 'T1525', 'T1526', 'T1528', 'T1529', 'T1531', 'T1534', 'T1535', 'T1537', 'T1538', 'T1539', 'T1542', 'T1543', 'T1546', 'T1547', 'T1548', 'T1550', 'T1552', 'T1553', 'T1555', 'T1556', 'T1557', 'T1558', 'T1559', 'T1560', 'T1561', 'T1562', 'T1563', 'T1564', 'T1565', 'T1566', 'T1567', 'T1568', 'T1569', 'T1570', 'T1571', 'T1572', 'T1573', 'T1574', 'T1578', 'T1580', 'T1583', 'T1584', 'T1585', 'T1586', 'T1587', 'T1588', 'T1589', 'T1590', 'T1591', 'T1592', 'T1593', 'T1594', 'T1595', 'T1596', 'T1597', 'T1598', 'T1599', 'T1600', 'T1601', 'T1602', 'T1606', 'T1608', 'T1609', 'T1610', 'T1611', 'T1612', 'T1613', 'T1614', 'T1615', 'T1619', 'T1620', 'T1621', 'T1622', 'T1647']\n",
    "TACTICS_TECHNIQUES_RELATIONSHIP_DF = {\n",
    "\"TA0001\":pd.Series(['T1078', 'T1091', 'T1133', 'T1189', 'T1190', 'T1195', 'T1199', 'T1200', 'T1566', 'T1659', 'T1669']),\n",
    "\"TA0002\":pd.Series(['T1047', 'T1053', 'T1059', 'T1072', 'T1106', 'T1129', 'T1203', 'T1204', 'T1559', 'T1569', 'T1609', 'T1610', 'T1648', 'T1651', 'T1674', 'T1675']),\n",
    "\"TA0003\":pd.Series(['T1037', 'T1053', 'T1078', 'T1098', 'T1112', 'T1133', 'T1136', 'T1137', 'T1176', 'T1197', 'T1205', 'T1505', 'T1525', 'T1542', 'T1543', 'T1546', 'T1547', 'T1554', 'T1556', 'T1574', 'T1653', 'T1668', 'T1671']),\n",
    "\"TA0004\":pd.Series(['T1037', 'T1053', 'T1055', 'T1068', 'T1078', 'T1098', 'T1134', 'T1484', 'T1543', 'T1546', 'T1547', 'T1548', 'T1574', 'T1611']),\n",
    "\"TA0005\":pd.Series(['T1006', 'T1014', 'T1027', 'T1036', 'T1055', 'T1070', 'T1078', 'T1112', 'T1127', 'T1134', 'T1140', 'T1197', 'T1202', 'T1205', 'T1207', 'T1211', 'T1216', 'T1218', 'T1220', 'T1221', 'T1222', 'T1480', 'T1484', 'T1497', 'T1535', 'T1542', 'T1548', 'T1550', 'T1553', 'T1556', 'T1562', 'T1564', 'T1574', 'T1578', 'T1599', 'T1600', 'T1601', 'T1610', 'T1612', 'T1620', 'T1622', 'T1647', 'T1656', 'T1666', 'T1672']),\n",
    "\"TA0006\":pd.Series(['T1003', 'T1040', 'T1056', 'T1110', 'T1111', 'T1187', 'T1212', 'T1528', 'T1539', 'T1552', 'T1555', 'T1556', 'T1557', 'T1558', 'T1606', 'T1621', 'T1649']),\n",
    "\"TA0007\":pd.Series(['T1007', 'T1010', 'T1012', 'T1016', 'T1018', 'T1033', 'T1040', 'T1046', 'T1049', 'T1057', 'T1069', 'T1082', 'T1083', 'T1087', 'T1120', 'T1124', 'T1135', 'T1201', 'T1217', 'T1482', 'T1497', 'T1518', 'T1526', 'T1538', 'T1580', 'T1613', 'T1614', 'T1615', 'T1619', 'T1622', 'T1652', 'T1654', 'T1673']),\n",
    "\"TA0008\":pd.Series(['T1021', 'T1072', 'T1080', 'T1091', 'T1210', 'T1534', 'T1550', 'T1563', 'T1570']),\n",
    "\"TA0009\":pd.Series(['T1005', 'T1025', 'T1039', 'T1056', 'T1074', 'T1113', 'T1114', 'T1115', 'T1119', 'T1123', 'T1125', 'T1185', 'T1213', 'T1530', 'T1557', 'T1560', 'T1602']),\n",
    "\"TA0010\":pd.Series(['T1011', 'T1020', 'T1029', 'T1030', 'T1041', 'T1048', 'T1052', 'T1537', 'T1567']),\n",
    "\"TA0011\":pd.Series(['T1001', 'T1008', 'T1071', 'T1090', 'T1092', 'T1095', 'T1102', 'T1104', 'T1105', 'T1132', 'T1205', 'T1219', 'T1568', 'T1571', 'T1572', 'T1573', 'T1659', 'T1665']),\n",
    "\"TA0040\":pd.Series(['T1485', 'T1486', 'T1489', 'T1490', 'T1491', 'T1495', 'T1496', 'T1498', 'T1499', 'T1529', 'T1531', 'T1561', 'T1565', 'T1657', 'T1667']),                \n",
    "\"TA0042\":pd.Series(['T1583', 'T1584', 'T1585', 'T1586', 'T1587', 'T1588', 'T1608', 'T1650']),\n",
    "\"TA0043\":pd.Series(['T1589', 'T1590', 'T1591', 'T1592', 'T1593', 'T1594', 'T1595', 'T1596', 'T1597', 'T1598'])\n",
    "}"
   ]
  },
  {
   "cell_type": "code",
   "execution_count": 5,
   "id": "07f6f833",
   "metadata": {},
   "outputs": [],
   "source": [
    "df = pd.read_csv('merged_all_columns.csv', encoding='utf-8')\n",
    "# df_attack['tactic_label'] = df_attack.apply(lambda x: list(x[TACTIC]), axis=1)\n",
    "# df_attack['technique_label'] = df_attack.apply(lambda x: list(x[TECHNIQUE]), axis=1)\n",
    "\n",
    "df_tactic_labels = df[TACTIC]\n",
    "df_technique_labels = df[TECHNIQUE]"
   ]
  },
  {
   "cell_type": "code",
   "execution_count": 6,
   "id": "767f45c3",
   "metadata": {},
   "outputs": [
    {
     "name": "stdout",
     "output_type": "stream",
     "text": [
      "      TA0001  TA0002  TA0003  TA0004  TA0005  TA0006  TA0007  TA0008  TA0009  \\\n",
      "0          1       1       0       0       0       0       0       0       0   \n",
      "1          1       1       0       0       0       0       0       0       0   \n",
      "2          0       1       0       0       0       1       0       0       0   \n",
      "3          1       1       0       0       0       0       0       0       0   \n",
      "4          1       0       0       1       1       0       0       0       0   \n",
      "...      ...     ...     ...     ...     ...     ...     ...     ...     ...   \n",
      "1513       0       1       1       0       0       0       0       0       0   \n",
      "1514       0       0       0       0       0       0       0       0       0   \n",
      "1515       0       0       0       1       0       0       0       0       0   \n",
      "1516       0       1       0       0       0       0       0       0       1   \n",
      "1517       0       0       0       0       0       0       0       0       0   \n",
      "\n",
      "      TA0010  TA0011  TA0040  TA0042  TA0043  \n",
      "0          0       0       0       0       0  \n",
      "1          0       0       0       0       0  \n",
      "2          0       0       0       0       0  \n",
      "3          0       0       0       0       0  \n",
      "4          0       0       0       0       0  \n",
      "...      ...     ...     ...     ...     ...  \n",
      "1513       0       0       0       0       0  \n",
      "1514       0       0       1       0       0  \n",
      "1515       0       0       0       0       0  \n",
      "1516       0       0       0       0       0  \n",
      "1517       0       0       0       1       0  \n",
      "\n",
      "[1518 rows x 14 columns]\n"
     ]
    }
   ],
   "source": [
    "print(df_tactic_labels)"
   ]
  },
  {
   "cell_type": "code",
   "execution_count": 7,
   "id": "7e4b3ee8",
   "metadata": {},
   "outputs": [
    {
     "name": "stdout",
     "output_type": "stream",
     "text": [
      "      T1001  T1003  T1005  T1006  T1007  T1008  T1010  T1011  T1012  T1014  \\\n",
      "0         0      0      0      0      0      0      0      0      0      0   \n",
      "1         0      0      0      0      0      0      0      0      0      0   \n",
      "2         0      1      0      0      0      0      0      0      0      0   \n",
      "3         0      0      0      0      0      0      0      0      0      0   \n",
      "4         0      0      0      0      0      0      0      0      0      0   \n",
      "...     ...    ...    ...    ...    ...    ...    ...    ...    ...    ...   \n",
      "1513      0      0      0      0      0      0      0      0      0      0   \n",
      "1514      0      0      0      0      0      0      0      0      0      0   \n",
      "1515      0      0      0      0      0      0      0      0      0      0   \n",
      "1516      0      0      1      0      0      0      0      0      0      0   \n",
      "1517      0      0      0      0      0      0      0      0      0      0   \n",
      "\n",
      "      ...  T1611  T1612  T1613  T1614  T1615  T1619  T1620  T1621  T1622  \\\n",
      "0     ...      0      0      0      0      0      0      0      0      0   \n",
      "1     ...      0      0      0      0      0      0      0      0      0   \n",
      "2     ...      0      0      0      0      0      0      0      0      0   \n",
      "3     ...      0      0      0      0      0      0      0      0      0   \n",
      "4     ...      0      0      0      0      0      0      0      0      0   \n",
      "...   ...    ...    ...    ...    ...    ...    ...    ...    ...    ...   \n",
      "1513  ...      0      0      0      0      0      0      0      0      0   \n",
      "1514  ...      0      0      0      0      0      0      0      0      0   \n",
      "1515  ...      0      0      0      0      0      0      0      0      0   \n",
      "1516  ...      0      0      0      0      0      0      0      0      0   \n",
      "1517  ...      0      0      0      0      0      0      0      0      0   \n",
      "\n",
      "      T1647  \n",
      "0         0  \n",
      "1         0  \n",
      "2         0  \n",
      "3         0  \n",
      "4         0  \n",
      "...     ...  \n",
      "1513      0  \n",
      "1514      0  \n",
      "1515      0  \n",
      "1516      0  \n",
      "1517      0  \n",
      "\n",
      "[1518 rows x 185 columns]\n"
     ]
    }
   ],
   "source": [
    "print(df_technique_labels)"
   ]
  },
  {
   "cell_type": "code",
   "execution_count": 8,
   "id": "919865c1",
   "metadata": {},
   "outputs": [],
   "source": [
    "df['tactic_label'] = df.apply(lambda x: list(x[TACTIC]), axis=1)\n",
    "df['technique_label'] = df.apply(lambda x: list(x[TECHNIQUE]), axis=1)\n"
   ]
  },
  {
   "cell_type": "markdown",
   "id": "5b7fc8c7",
   "metadata": {},
   "source": [
    "# Data processing"
   ]
  },
  {
   "cell_type": "code",
   "execution_count": 9,
   "id": "5018de80",
   "metadata": {},
   "outputs": [],
   "source": [
    "from nltk.corpus import stopwords\n",
    "from nltk.corpus import wordnet\n",
    "from nltk.tokenize import word_tokenize\n",
    "from nltk.stem import WordNetLemmatizer\n",
    "from nltk import pos_tag\n",
    "import nltk"
   ]
  },
  {
   "cell_type": "code",
   "execution_count": 10,
   "id": "173e00c0",
   "metadata": {},
   "outputs": [
    {
     "name": "stdout",
     "output_type": "stream",
     "text": [
      "punkt ⛔ 未安裝，開始下載...\n",
      "stopwords ⛔ 未安裝，開始下載...\n",
      "wordnet ⛔ 未安裝，開始下載...\n",
      "omw-1.4 ⛔ 未安裝，開始下載...\n",
      "averaged_perceptron_tagger ⛔ 未安裝，開始下載...\n",
      "averaged_perceptron_tagger_eng ⛔ 未安裝，開始下載...\n"
     ]
    },
    {
     "name": "stderr",
     "output_type": "stream",
     "text": [
      "[nltk_data] Downloading package punkt to\n",
      "[nltk_data]     C:\\Users\\user\\AppData\\Roaming\\nltk_data...\n",
      "[nltk_data]   Package punkt is already up-to-date!\n",
      "[nltk_data] Downloading package stopwords to\n",
      "[nltk_data]     C:\\Users\\user\\AppData\\Roaming\\nltk_data...\n",
      "[nltk_data]   Package stopwords is already up-to-date!\n",
      "[nltk_data] Downloading package wordnet to\n",
      "[nltk_data]     C:\\Users\\user\\AppData\\Roaming\\nltk_data...\n",
      "[nltk_data]   Package wordnet is already up-to-date!\n",
      "[nltk_data] Downloading package omw-1.4 to\n",
      "[nltk_data]     C:\\Users\\user\\AppData\\Roaming\\nltk_data...\n",
      "[nltk_data]   Package omw-1.4 is already up-to-date!\n",
      "[nltk_data] Downloading package averaged_perceptron_tagger to\n",
      "[nltk_data]     C:\\Users\\user\\AppData\\Roaming\\nltk_data...\n",
      "[nltk_data]   Package averaged_perceptron_tagger is already up-to-\n",
      "[nltk_data]       date!\n",
      "[nltk_data] Downloading package averaged_perceptron_tagger_eng to\n",
      "[nltk_data]     C:\\Users\\user\\AppData\\Roaming\\nltk_data...\n",
      "[nltk_data]   Package averaged_perceptron_tagger_eng is already up-to-\n",
      "[nltk_data]       date!\n"
     ]
    }
   ],
   "source": [
    "import nltk\n",
    "\n",
    "resources = [\n",
    "    \"punkt\",\n",
    "    \"stopwords\",\n",
    "    \"wordnet\",\n",
    "    \"omw-1.4\",\n",
    "    \"averaged_perceptron_tagger\",\n",
    "    \"averaged_perceptron_tagger_eng\"\n",
    "]\n",
    "\n",
    "for res in resources:\n",
    "    try:\n",
    "        nltk.data.find(res)\n",
    "        print(f\"{res} ✅ 已安裝\")\n",
    "    except LookupError:\n",
    "        print(f\"{res} ⛔ 未安裝，開始下載...\")\n",
    "        nltk.download(res)\n"
   ]
  },
  {
   "cell_type": "code",
   "execution_count": 11,
   "id": "6f7cf101",
   "metadata": {},
   "outputs": [],
   "source": [
    "def get_wordnet_pos(tag):\n",
    "    if tag.startswith('J'):\n",
    "        return wordnet.ADJ\n",
    "    elif tag.startswith('V'):\n",
    "        return wordnet.VERB\n",
    "    elif tag.startswith('N'):\n",
    "        return wordnet.NOUN\n",
    "    elif tag.startswith('R'):\n",
    "        return wordnet.ADV\n",
    "    else:\n",
    "        return 'n'\n",
    "\n",
    "def ioc_sub(text):\n",
    "    def reg_handler(obj):\n",
    "        s = obj.group(1)\n",
    "        s = ' '.join(s.split('\\\\'))\n",
    "        return s\n",
    "\n",
    "    def file_handler(obj):\n",
    "        s = obj.group(2)\n",
    "        s = s.split('\\\\')[-1]\n",
    "        return s\n",
    "    \n",
    "    text = re.sub(r'(?:(?:25[0-5]|2[0-4][0-9]|[01]?[0-9][0-9]?)(\\.|\\[\\.\\])){3}(?:25[0-5]|2[0-4][0-9]|[01]?[0-9][0-9]?)(\\/([0-2][0-9]|3[0-2]|[0-9]))?', 'IPv4', text)\n",
    "    text = re.sub(r'\\b(\\d{1,3}\\.\\d{1,3}\\.\\d{1,3}\\.\\d{1,3})\\b', 'IP', text)\n",
    "    text = re.sub(r'\\b(CVE\\-[0-9]{4}\\-[0-9]{4,6})\\b', 'CVE', text)\n",
    "    text = re.sub(r'CVE-[0-9]{4}-[0-9]{4,6}', 'vulnerability', text)\n",
    "    text = re.sub(r'\\b([a-z][_a-z0-9-.]+@[a-z0-9-]+\\.[a-z]+)\\b', 'email', text)\n",
    "    text = re.sub(r'\\b((HKLM|HKCU|HKCR|HKU|HKCC)\\\\[\\\\A-Za-z0-9-_]+)\\b', reg_handler, text)\n",
    "    text = re.sub(r'\\b([a-zA-Z]{1}:\\\\([0-9a-zA-Z_\\.\\-\\/\\\\]+))\\b', file_handler, text)\n",
    "    text = re.sub(r'\\b([a-f0-9]{32}|[A-F0-9]{32})\\b', 'MD5', text)\n",
    "    text = re.sub(r'\\b([a-f0-9]{40}|[A-F0-9]{40})\\b', 'SHA1', text)\n",
    "    text = re.sub(r'\\b([a-f0-9]{64}|[A-F0-9]{64})\\b', 'SHA256', text)\n",
    "    text = re.sub(r'\\d+:[A-Za-z0-9/+]+:[A-Za-z0-9/+]+', 'ssdeep', text)\n",
    "    text = re.sub(r'\\b[a-fA-F\\d]{32}\\b|\\b[a-fA-F\\d]{40}\\b|\\b[a-fA-F\\d]{64}\\b', 'hash', text)\n",
    "    text = re.sub(r'h[tx][tx]ps?:[\\\\\\/][\\\\\\/](?:[0-9a-zA-Z_\\.\\-\\/\\\\]|\\[\\.\\])+', 'URL', text)\n",
    "    text = re.sub(r'((?:[0-9a-zA-Z_\\-]+\\.)+(?:(?!exe|dll)[a-z]{2,4}))', 'domain', text)\n",
    "    text = re.sub(r'[a-fA-F0-9]{16}', '', text)\n",
    "    text = re.sub(r'[0-9]{8}', '', text)\n",
    "    text = re.sub(r'x[A-Fa-f0-9]{2}', '', text)\n",
    "    \n",
    "    return text\n",
    "\n",
    "def rmstopword_and_lemmatize(text):\n",
    "    token = [word for word in word_tokenize(text.lower()) if word not in stopwords.words('english')]\n",
    "    # tag = pos_tag(token)\n",
    "    tag = nltk.pos_tag(token, lang='eng')\n",
    "    lemmatizer = WordNetLemmatizer()\n",
    "    text = ' '.join(list(map(lambda x: lemmatizer.lemmatize(x[0], pos=get_wordnet_pos(x[1])), tag)))\n",
    "    \n",
    "    return text\n",
    "\n",
    "def preprocess(text):\n",
    "    text = str(text)\n",
    "    #text = text.lower()\n",
    "    text = re.sub(r'etc\\.', '', text)\n",
    "    text = re.sub(r'et al\\.', '', text)\n",
    "    text = re.sub(r'e\\.g\\.', '', text)\n",
    "    text = re.sub(r'i\\.e\\.', '', text)\n",
    "    #text = re.sub(r'\\[.\\]', '.', text)\n",
    "    text = re.sub(r'\\[\\d+\\]', '', text)\n",
    "    \n",
    "    text = ioc_sub(text)\n",
    "    \n",
    "    text = re.sub(r'[^A-Za-z0-9_\\[\\]]', ' ', text)\n",
    "    text = re.sub(r'\\s+', ' ', text)\n",
    "    \n",
    "    text = rmstopword_and_lemmatize(text)\n",
    "    \n",
    "    text = re.sub(r'[\\[\\]]', ' ', text)\n",
    "    text = re.sub(r' [a-z0-9] ', '', text)\n",
    "    \n",
    "    return text\n"
   ]
  },
  {
   "cell_type": "code",
   "execution_count": 12,
   "id": "d0b15fb5",
   "metadata": {},
   "outputs": [],
   "source": [
    "df['text_clean'] = df['Text'].map(lambda t: preprocess(t))"
   ]
  },
  {
   "cell_type": "code",
   "execution_count": 13,
   "id": "a1f45aa4",
   "metadata": {},
   "outputs": [
    {
     "name": "stdout",
     "output_type": "stream",
     "text": [
      "waspthemes visual cs style editor aka yellow pencil visual theme customizer plugin2wordpress allows yp_option_update csrf demonstrate use yp_remote_get obtain admin access\n"
     ]
    }
   ],
   "source": [
    "print(df['text_clean'][0])"
   ]
  },
  {
   "cell_type": "code",
   "execution_count": 14,
   "id": "a445b021",
   "metadata": {},
   "outputs": [],
   "source": [
    "from sklearn.model_selection import train_test_split\n",
    "\n",
    "train, test = train_test_split(df, test_size=0.2, random_state=2222)\n",
    "validation, test = train_test_split(test, test_size=0.5, random_state=2222)"
   ]
  },
  {
   "cell_type": "code",
   "execution_count": 15,
   "id": "c0d0cbeb",
   "metadata": {},
   "outputs": [],
   "source": [
    "df_te_train = df.iloc[train.index][['text_clean', 'technique_label']]\n",
    "df_te_val = df.iloc[validation.index][['text_clean', 'technique_label']]\n",
    "df_te_test = df.iloc[test.index][['text_clean', 'technique_label']]\n",
    "df_te_train = df_te_train.rename(columns={'text_clean':'text', 'technique_label':'labels'})\n",
    "df_te_val = df_te_val.rename(columns={'text_clean':'text', 'technique_label':'labels'})\n",
    "df_te_test = df_te_test.rename(columns={'text_clean':'text', 'technique_label':'labels'})"
   ]
  },
  {
   "cell_type": "code",
   "execution_count": 16,
   "id": "93f5b3be",
   "metadata": {},
   "outputs": [],
   "source": [
    "df_ta_train = train[['text_clean', 'tactic_label']]\n",
    "df_ta_val = validation[['text_clean', 'tactic_label']]\n",
    "df_ta_test = test[['text_clean', 'tactic_label']]\n",
    "df_ta_train = df_ta_train.rename(columns={'text_clean':'text', 'tactic_label':'labels'})\n",
    "df_ta_val = df_ta_val.rename(columns={'text_clean':'text', 'tactic_label':'labels'})\n",
    "df_ta_test = df_ta_test.rename(columns={'text_clean':'text', 'tactic_label':'labels'})\n"
   ]
  },
  {
   "cell_type": "markdown",
   "id": "cb777d10",
   "metadata": {},
   "source": [
    "# Tactic_multi model"
   ]
  },
  {
   "cell_type": "code",
   "execution_count": 17,
   "id": "c0e7fb55",
   "metadata": {},
   "outputs": [],
   "source": [
    "from sklearn.metrics import coverage_error, label_ranking_average_precision_score, label_ranking_loss\n",
    "from sklearn.metrics import hamming_loss, precision_score, recall_score, f1_score, fbeta_score\n",
    "from sklearn.metrics import accuracy_score"
   ]
  },
  {
   "cell_type": "code",
   "execution_count": null,
   "id": "ff1531d8",
   "metadata": {},
   "outputs": [],
   "source": [
    "metrics_log_ta = []  # 全域記錄每個 epoch 的 metrics\n",
    "def multi_label_metrics_ta(labels, preds):\n",
    "    preds_binary = (preds > 0.5).astype(int)\n",
    "\n",
    "    results = {}\n",
    "\n",
    "    # 二值型 metrics（分類）\n",
    "    results.update({\n",
    "        \"hamming_loss\": hamming_loss(labels, preds_binary),\n",
    "        \"f1_sample\": f1_score(labels, preds_binary, average=\"samples\", zero_division=0),\n",
    "        \"f1_micro\": f1_score(labels, preds_binary, average=\"micro\", zero_division=0),\n",
    "        \"f1_macro\": f1_score(labels, preds_binary, average=\"macro\", zero_division=0),\n",
    "        \"f_05_sample\": fbeta_score(labels, preds_binary, beta=0.5, average=\"samples\", zero_division=0),\n",
    "        \"f_05_micro\": fbeta_score(labels, preds_binary, beta=0.5, average=\"micro\", zero_division=0),\n",
    "        \"f_05_macro\": fbeta_score(labels, preds_binary, beta=0.5, average=\"macro\", zero_division=0),\n",
    "        \"precision_samples\": precision_score(labels, preds_binary, average=\"samples\", zero_division=0),\n",
    "        \"precision_micro\": precision_score(labels, preds_binary, average=\"micro\", zero_division=0),\n",
    "        \"precision_macro\": precision_score(labels, preds_binary, average=\"macro\", zero_division=0),\n",
    "        \"recall_samples\": recall_score(labels, preds_binary, average=\"samples\", zero_division=0),\n",
    "        \"recall_micro\": recall_score(labels, preds_binary, average=\"micro\", zero_division=0),\n",
    "        \"recall_macro\": recall_score(labels, preds_binary, average=\"macro\", zero_division=0),\n",
    "        \"accuracy\": accuracy_score(labels, preds_binary),\n",
    "\n",
    "    })\n",
    "\n",
    "    # 連續型 metrics（排序）\n",
    "    labels_float = labels.astype(float)\n",
    "    results.update({\n",
    "        \"coverage_error\": coverage_error(labels_float, preds),\n",
    "        \"label_ranking_loss\": label_ranking_loss(labels_float, preds),\n",
    "        \"lrap\": label_ranking_average_precision_score(labels_float, preds),\n",
    "    })\n",
    "\n",
    "    # print(f\"Metrics: {results}\")\n",
    "\n",
    "    metrics_log_ta.append(results.copy())\n",
    "\n",
    "    return results"
   ]
  },
  {
   "cell_type": "code",
   "execution_count": 19,
   "id": "e5534c84",
   "metadata": {},
   "outputs": [
    {
     "name": "stderr",
     "output_type": "stream",
     "text": [
      "Some weights of DistilBertForMultiLabelSequenceClassification were not initialized from the model checkpoint at distilbert-base-uncased and are newly initialized: ['classifier.bias', 'classifier.weight', 'pre_classifier.bias', 'pre_classifier.weight']\n",
      "You should probably TRAIN this model on a down-stream task to be able to use it for predictions and inference.\n"
     ]
    },
    {
     "data": {
      "application/vnd.jupyter.widget-view+json": {
       "model_id": "02d9b566d7e8422aa28e26eae6ce40b9",
       "version_major": 2,
       "version_minor": 0
      },
      "text/plain": [
       "Epoch:   0%|          | 0/200 [00:00<?, ?it/s]"
      ]
     },
     "metadata": {},
     "output_type": "display_data"
    },
    {
     "data": {
      "application/vnd.jupyter.widget-view+json": {
       "model_id": "41fe5997f78b4c489cdd04835638aba6",
       "version_major": 2,
       "version_minor": 0
      },
      "text/plain": [
       "Running Epoch 1 of 200:   0%|          | 0/76 [00:00<?, ?it/s]"
      ]
     },
     "metadata": {},
     "output_type": "display_data"
    },
    {
     "data": {
      "application/vnd.jupyter.widget-view+json": {
       "model_id": "035c190bb9794289bde9ce00051aa470",
       "version_major": 2,
       "version_minor": 0
      },
      "text/plain": [
       "Running Epoch 2 of 200:   0%|          | 0/76 [00:00<?, ?it/s]"
      ]
     },
     "metadata": {},
     "output_type": "display_data"
    },
    {
     "data": {
      "application/vnd.jupyter.widget-view+json": {
       "model_id": "adefa18f8393483e83d3d1236baffa72",
       "version_major": 2,
       "version_minor": 0
      },
      "text/plain": [
       "Running Epoch 3 of 200:   0%|          | 0/76 [00:00<?, ?it/s]"
      ]
     },
     "metadata": {},
     "output_type": "display_data"
    },
    {
     "data": {
      "application/vnd.jupyter.widget-view+json": {
       "model_id": "528f25c6c79b407bafd65b2c65a017ea",
       "version_major": 2,
       "version_minor": 0
      },
      "text/plain": [
       "Running Epoch 4 of 200:   0%|          | 0/76 [00:00<?, ?it/s]"
      ]
     },
     "metadata": {},
     "output_type": "display_data"
    },
    {
     "data": {
      "application/vnd.jupyter.widget-view+json": {
       "model_id": "b6e8e918967146aea670786ee30ab411",
       "version_major": 2,
       "version_minor": 0
      },
      "text/plain": [
       "Running Epoch 5 of 200:   0%|          | 0/76 [00:00<?, ?it/s]"
      ]
     },
     "metadata": {},
     "output_type": "display_data"
    },
    {
     "data": {
      "application/vnd.jupyter.widget-view+json": {
       "model_id": "827767fa744b4bb39a804dd9929fbe22",
       "version_major": 2,
       "version_minor": 0
      },
      "text/plain": [
       "Running Epoch 6 of 200:   0%|          | 0/76 [00:00<?, ?it/s]"
      ]
     },
     "metadata": {},
     "output_type": "display_data"
    },
    {
     "data": {
      "application/vnd.jupyter.widget-view+json": {
       "model_id": "d748f1fe754146928967b0c8e4f82b8c",
       "version_major": 2,
       "version_minor": 0
      },
      "text/plain": [
       "Running Epoch 7 of 200:   0%|          | 0/76 [00:00<?, ?it/s]"
      ]
     },
     "metadata": {},
     "output_type": "display_data"
    },
    {
     "data": {
      "application/vnd.jupyter.widget-view+json": {
       "model_id": "ef44da4703b04fcc995ce1434c2c447e",
       "version_major": 2,
       "version_minor": 0
      },
      "text/plain": [
       "Running Epoch 8 of 200:   0%|          | 0/76 [00:00<?, ?it/s]"
      ]
     },
     "metadata": {},
     "output_type": "display_data"
    },
    {
     "data": {
      "application/vnd.jupyter.widget-view+json": {
       "model_id": "8391294608dd42bb84c73b045ae75a13",
       "version_major": 2,
       "version_minor": 0
      },
      "text/plain": [
       "Running Epoch 9 of 200:   0%|          | 0/76 [00:00<?, ?it/s]"
      ]
     },
     "metadata": {},
     "output_type": "display_data"
    },
    {
     "data": {
      "application/vnd.jupyter.widget-view+json": {
       "model_id": "26bd2d6a230c4b70b2d63640c24a06cf",
       "version_major": 2,
       "version_minor": 0
      },
      "text/plain": [
       "Running Epoch 10 of 200:   0%|          | 0/76 [00:00<?, ?it/s]"
      ]
     },
     "metadata": {},
     "output_type": "display_data"
    },
    {
     "data": {
      "application/vnd.jupyter.widget-view+json": {
       "model_id": "a00c90c246ea44eb8e7ddeb60bbfc5db",
       "version_major": 2,
       "version_minor": 0
      },
      "text/plain": [
       "Running Epoch 11 of 200:   0%|          | 0/76 [00:00<?, ?it/s]"
      ]
     },
     "metadata": {},
     "output_type": "display_data"
    },
    {
     "data": {
      "application/vnd.jupyter.widget-view+json": {
       "model_id": "3c131df1c6194416a8dd737b03555742",
       "version_major": 2,
       "version_minor": 0
      },
      "text/plain": [
       "Running Epoch 12 of 200:   0%|          | 0/76 [00:00<?, ?it/s]"
      ]
     },
     "metadata": {},
     "output_type": "display_data"
    },
    {
     "data": {
      "application/vnd.jupyter.widget-view+json": {
       "model_id": "8d471a1d68a848739ee5961fa83e1f30",
       "version_major": 2,
       "version_minor": 0
      },
      "text/plain": [
       "Running Epoch 13 of 200:   0%|          | 0/76 [00:00<?, ?it/s]"
      ]
     },
     "metadata": {},
     "output_type": "display_data"
    },
    {
     "data": {
      "application/vnd.jupyter.widget-view+json": {
       "model_id": "edeffc8a5d75485481b6aa72434c2a87",
       "version_major": 2,
       "version_minor": 0
      },
      "text/plain": [
       "Running Epoch 14 of 200:   0%|          | 0/76 [00:00<?, ?it/s]"
      ]
     },
     "metadata": {},
     "output_type": "display_data"
    },
    {
     "data": {
      "application/vnd.jupyter.widget-view+json": {
       "model_id": "291100bf26a741b6b6f3e712ff899d26",
       "version_major": 2,
       "version_minor": 0
      },
      "text/plain": [
       "Running Epoch 15 of 200:   0%|          | 0/76 [00:00<?, ?it/s]"
      ]
     },
     "metadata": {},
     "output_type": "display_data"
    },
    {
     "data": {
      "application/vnd.jupyter.widget-view+json": {
       "model_id": "69fd12311c7542a992d7d50f7927d3de",
       "version_major": 2,
       "version_minor": 0
      },
      "text/plain": [
       "Running Epoch 16 of 200:   0%|          | 0/76 [00:00<?, ?it/s]"
      ]
     },
     "metadata": {},
     "output_type": "display_data"
    },
    {
     "data": {
      "application/vnd.jupyter.widget-view+json": {
       "model_id": "e12b7510e9954d67886c78e37ef02ae1",
       "version_major": 2,
       "version_minor": 0
      },
      "text/plain": [
       "Running Epoch 17 of 200:   0%|          | 0/76 [00:00<?, ?it/s]"
      ]
     },
     "metadata": {},
     "output_type": "display_data"
    },
    {
     "data": {
      "application/vnd.jupyter.widget-view+json": {
       "model_id": "f90c35ac7616496fa735c1ad9b47e921",
       "version_major": 2,
       "version_minor": 0
      },
      "text/plain": [
       "Running Epoch 18 of 200:   0%|          | 0/76 [00:00<?, ?it/s]"
      ]
     },
     "metadata": {},
     "output_type": "display_data"
    },
    {
     "data": {
      "application/vnd.jupyter.widget-view+json": {
       "model_id": "1bebd9d53fea43c5a9d682f9521d1220",
       "version_major": 2,
       "version_minor": 0
      },
      "text/plain": [
       "Running Epoch 19 of 200:   0%|          | 0/76 [00:00<?, ?it/s]"
      ]
     },
     "metadata": {},
     "output_type": "display_data"
    },
    {
     "data": {
      "application/vnd.jupyter.widget-view+json": {
       "model_id": "83e0b1058afa4fc9aa68ba48d53f0461",
       "version_major": 2,
       "version_minor": 0
      },
      "text/plain": [
       "Running Epoch 20 of 200:   0%|          | 0/76 [00:00<?, ?it/s]"
      ]
     },
     "metadata": {},
     "output_type": "display_data"
    },
    {
     "data": {
      "application/vnd.jupyter.widget-view+json": {
       "model_id": "c91ec62a32d94f12914e72095a9dfa85",
       "version_major": 2,
       "version_minor": 0
      },
      "text/plain": [
       "Running Epoch 21 of 200:   0%|          | 0/76 [00:00<?, ?it/s]"
      ]
     },
     "metadata": {},
     "output_type": "display_data"
    },
    {
     "data": {
      "application/vnd.jupyter.widget-view+json": {
       "model_id": "0a64a30de6ad4af58d1447365aa50ecc",
       "version_major": 2,
       "version_minor": 0
      },
      "text/plain": [
       "Running Epoch 22 of 200:   0%|          | 0/76 [00:00<?, ?it/s]"
      ]
     },
     "metadata": {},
     "output_type": "display_data"
    },
    {
     "data": {
      "application/vnd.jupyter.widget-view+json": {
       "model_id": "c0dc3280dcd44c6c82a17f66cb6d4806",
       "version_major": 2,
       "version_minor": 0
      },
      "text/plain": [
       "Running Epoch 23 of 200:   0%|          | 0/76 [00:00<?, ?it/s]"
      ]
     },
     "metadata": {},
     "output_type": "display_data"
    },
    {
     "data": {
      "application/vnd.jupyter.widget-view+json": {
       "model_id": "06bcb075127d45f4968eb41bb201dba3",
       "version_major": 2,
       "version_minor": 0
      },
      "text/plain": [
       "Running Epoch 24 of 200:   0%|          | 0/76 [00:00<?, ?it/s]"
      ]
     },
     "metadata": {},
     "output_type": "display_data"
    },
    {
     "data": {
      "application/vnd.jupyter.widget-view+json": {
       "model_id": "8926a776300147048c5a5a4d7bf4ee6e",
       "version_major": 2,
       "version_minor": 0
      },
      "text/plain": [
       "Running Epoch 25 of 200:   0%|          | 0/76 [00:00<?, ?it/s]"
      ]
     },
     "metadata": {},
     "output_type": "display_data"
    },
    {
     "data": {
      "application/vnd.jupyter.widget-view+json": {
       "model_id": "46ba497ba57f4ac9bea3dab82fad0c35",
       "version_major": 2,
       "version_minor": 0
      },
      "text/plain": [
       "Running Epoch 26 of 200:   0%|          | 0/76 [00:00<?, ?it/s]"
      ]
     },
     "metadata": {},
     "output_type": "display_data"
    },
    {
     "data": {
      "application/vnd.jupyter.widget-view+json": {
       "model_id": "ac131bd25cbb46ec847436f8ff5543d4",
       "version_major": 2,
       "version_minor": 0
      },
      "text/plain": [
       "Running Epoch 27 of 200:   0%|          | 0/76 [00:00<?, ?it/s]"
      ]
     },
     "metadata": {},
     "output_type": "display_data"
    },
    {
     "data": {
      "application/vnd.jupyter.widget-view+json": {
       "model_id": "acb142b118c84ef4ac23ebbf110d4ee0",
       "version_major": 2,
       "version_minor": 0
      },
      "text/plain": [
       "Running Epoch 28 of 200:   0%|          | 0/76 [00:00<?, ?it/s]"
      ]
     },
     "metadata": {},
     "output_type": "display_data"
    },
    {
     "data": {
      "application/vnd.jupyter.widget-view+json": {
       "model_id": "ec09022cbe8f482ea48c354d497cf699",
       "version_major": 2,
       "version_minor": 0
      },
      "text/plain": [
       "Running Epoch 29 of 200:   0%|          | 0/76 [00:00<?, ?it/s]"
      ]
     },
     "metadata": {},
     "output_type": "display_data"
    },
    {
     "data": {
      "application/vnd.jupyter.widget-view+json": {
       "model_id": "311e8769029e42a4b408c1fa3103d992",
       "version_major": 2,
       "version_minor": 0
      },
      "text/plain": [
       "Running Epoch 30 of 200:   0%|          | 0/76 [00:00<?, ?it/s]"
      ]
     },
     "metadata": {},
     "output_type": "display_data"
    },
    {
     "data": {
      "application/vnd.jupyter.widget-view+json": {
       "model_id": "6235ae00f4414a908a010483442fd7a5",
       "version_major": 2,
       "version_minor": 0
      },
      "text/plain": [
       "Running Epoch 31 of 200:   0%|          | 0/76 [00:00<?, ?it/s]"
      ]
     },
     "metadata": {},
     "output_type": "display_data"
    },
    {
     "data": {
      "application/vnd.jupyter.widget-view+json": {
       "model_id": "b40f93401f4646dd8ad35b9a6a9bb098",
       "version_major": 2,
       "version_minor": 0
      },
      "text/plain": [
       "Running Epoch 32 of 200:   0%|          | 0/76 [00:00<?, ?it/s]"
      ]
     },
     "metadata": {},
     "output_type": "display_data"
    },
    {
     "data": {
      "application/vnd.jupyter.widget-view+json": {
       "model_id": "a632fc6e03184620a8ae238ec05aaca9",
       "version_major": 2,
       "version_minor": 0
      },
      "text/plain": [
       "Running Epoch 33 of 200:   0%|          | 0/76 [00:00<?, ?it/s]"
      ]
     },
     "metadata": {},
     "output_type": "display_data"
    },
    {
     "data": {
      "application/vnd.jupyter.widget-view+json": {
       "model_id": "2322ed093177477182e87c04bcb0776f",
       "version_major": 2,
       "version_minor": 0
      },
      "text/plain": [
       "Running Epoch 34 of 200:   0%|          | 0/76 [00:00<?, ?it/s]"
      ]
     },
     "metadata": {},
     "output_type": "display_data"
    },
    {
     "data": {
      "application/vnd.jupyter.widget-view+json": {
       "model_id": "d5f7f893371f43c8bbfbd87a3b558937",
       "version_major": 2,
       "version_minor": 0
      },
      "text/plain": [
       "Running Epoch 35 of 200:   0%|          | 0/76 [00:00<?, ?it/s]"
      ]
     },
     "metadata": {},
     "output_type": "display_data"
    },
    {
     "data": {
      "application/vnd.jupyter.widget-view+json": {
       "model_id": "955c1b2bdc084495830b90917a9f5fa2",
       "version_major": 2,
       "version_minor": 0
      },
      "text/plain": [
       "Running Epoch 36 of 200:   0%|          | 0/76 [00:00<?, ?it/s]"
      ]
     },
     "metadata": {},
     "output_type": "display_data"
    },
    {
     "data": {
      "application/vnd.jupyter.widget-view+json": {
       "model_id": "fbb77d48964c4332a5b861a3ac857d83",
       "version_major": 2,
       "version_minor": 0
      },
      "text/plain": [
       "Running Epoch 37 of 200:   0%|          | 0/76 [00:00<?, ?it/s]"
      ]
     },
     "metadata": {},
     "output_type": "display_data"
    },
    {
     "data": {
      "application/vnd.jupyter.widget-view+json": {
       "model_id": "789b9cee5a384c12b4ed04074a3c9b6d",
       "version_major": 2,
       "version_minor": 0
      },
      "text/plain": [
       "Running Epoch 38 of 200:   0%|          | 0/76 [00:00<?, ?it/s]"
      ]
     },
     "metadata": {},
     "output_type": "display_data"
    },
    {
     "data": {
      "application/vnd.jupyter.widget-view+json": {
       "model_id": "6f5f3d9925334be4ad326c610f3d639a",
       "version_major": 2,
       "version_minor": 0
      },
      "text/plain": [
       "Running Epoch 39 of 200:   0%|          | 0/76 [00:00<?, ?it/s]"
      ]
     },
     "metadata": {},
     "output_type": "display_data"
    },
    {
     "data": {
      "application/vnd.jupyter.widget-view+json": {
       "model_id": "310a92930d9a43b4be298cd2159503d9",
       "version_major": 2,
       "version_minor": 0
      },
      "text/plain": [
       "Running Epoch 40 of 200:   0%|          | 0/76 [00:00<?, ?it/s]"
      ]
     },
     "metadata": {},
     "output_type": "display_data"
    },
    {
     "data": {
      "application/vnd.jupyter.widget-view+json": {
       "model_id": "5f9136d104cb4ef789c0f6cf317cf216",
       "version_major": 2,
       "version_minor": 0
      },
      "text/plain": [
       "Running Epoch 41 of 200:   0%|          | 0/76 [00:00<?, ?it/s]"
      ]
     },
     "metadata": {},
     "output_type": "display_data"
    },
    {
     "data": {
      "application/vnd.jupyter.widget-view+json": {
       "model_id": "d020734a267d45f8a0cc833e850518bc",
       "version_major": 2,
       "version_minor": 0
      },
      "text/plain": [
       "Running Epoch 42 of 200:   0%|          | 0/76 [00:00<?, ?it/s]"
      ]
     },
     "metadata": {},
     "output_type": "display_data"
    },
    {
     "data": {
      "application/vnd.jupyter.widget-view+json": {
       "model_id": "73a993ba76004a2ab5bbe8bdf0838c3f",
       "version_major": 2,
       "version_minor": 0
      },
      "text/plain": [
       "Running Epoch 43 of 200:   0%|          | 0/76 [00:00<?, ?it/s]"
      ]
     },
     "metadata": {},
     "output_type": "display_data"
    },
    {
     "data": {
      "application/vnd.jupyter.widget-view+json": {
       "model_id": "d5304928492c4087843bb03a0dd4c27c",
       "version_major": 2,
       "version_minor": 0
      },
      "text/plain": [
       "Running Epoch 44 of 200:   0%|          | 0/76 [00:00<?, ?it/s]"
      ]
     },
     "metadata": {},
     "output_type": "display_data"
    },
    {
     "data": {
      "application/vnd.jupyter.widget-view+json": {
       "model_id": "bd425ba64bee440fa8272d625006532b",
       "version_major": 2,
       "version_minor": 0
      },
      "text/plain": [
       "Running Epoch 45 of 200:   0%|          | 0/76 [00:00<?, ?it/s]"
      ]
     },
     "metadata": {},
     "output_type": "display_data"
    },
    {
     "data": {
      "application/vnd.jupyter.widget-view+json": {
       "model_id": "6f4eeeb448ef4d3cb72847d40460c1c4",
       "version_major": 2,
       "version_minor": 0
      },
      "text/plain": [
       "Running Epoch 46 of 200:   0%|          | 0/76 [00:00<?, ?it/s]"
      ]
     },
     "metadata": {},
     "output_type": "display_data"
    },
    {
     "data": {
      "application/vnd.jupyter.widget-view+json": {
       "model_id": "0c2b1c7b9d004bb2944609f47183f882",
       "version_major": 2,
       "version_minor": 0
      },
      "text/plain": [
       "Running Epoch 47 of 200:   0%|          | 0/76 [00:00<?, ?it/s]"
      ]
     },
     "metadata": {},
     "output_type": "display_data"
    },
    {
     "data": {
      "application/vnd.jupyter.widget-view+json": {
       "model_id": "6a1c2b5c72cd4e63ab45548415cc6515",
       "version_major": 2,
       "version_minor": 0
      },
      "text/plain": [
       "Running Epoch 48 of 200:   0%|          | 0/76 [00:00<?, ?it/s]"
      ]
     },
     "metadata": {},
     "output_type": "display_data"
    },
    {
     "data": {
      "application/vnd.jupyter.widget-view+json": {
       "model_id": "0cc2e154723c4558824b3be10f3a7264",
       "version_major": 2,
       "version_minor": 0
      },
      "text/plain": [
       "Running Epoch 49 of 200:   0%|          | 0/76 [00:00<?, ?it/s]"
      ]
     },
     "metadata": {},
     "output_type": "display_data"
    },
    {
     "data": {
      "application/vnd.jupyter.widget-view+json": {
       "model_id": "b45e4b3d325a4a61a6987da79a56fdf2",
       "version_major": 2,
       "version_minor": 0
      },
      "text/plain": [
       "Running Epoch 50 of 200:   0%|          | 0/76 [00:00<?, ?it/s]"
      ]
     },
     "metadata": {},
     "output_type": "display_data"
    },
    {
     "data": {
      "application/vnd.jupyter.widget-view+json": {
       "model_id": "4b6c834a9a174ab782b4bfe121451973",
       "version_major": 2,
       "version_minor": 0
      },
      "text/plain": [
       "Running Epoch 51 of 200:   0%|          | 0/76 [00:00<?, ?it/s]"
      ]
     },
     "metadata": {},
     "output_type": "display_data"
    },
    {
     "data": {
      "application/vnd.jupyter.widget-view+json": {
       "model_id": "d3253bdcca4441e3876e14c92fa1a534",
       "version_major": 2,
       "version_minor": 0
      },
      "text/plain": [
       "Running Epoch 52 of 200:   0%|          | 0/76 [00:00<?, ?it/s]"
      ]
     },
     "metadata": {},
     "output_type": "display_data"
    },
    {
     "data": {
      "application/vnd.jupyter.widget-view+json": {
       "model_id": "f3dc737cfdad428c97cfe0c59dcf79fb",
       "version_major": 2,
       "version_minor": 0
      },
      "text/plain": [
       "Running Epoch 53 of 200:   0%|          | 0/76 [00:00<?, ?it/s]"
      ]
     },
     "metadata": {},
     "output_type": "display_data"
    },
    {
     "data": {
      "application/vnd.jupyter.widget-view+json": {
       "model_id": "33432d22ac844889a90d4305fb9bc6fe",
       "version_major": 2,
       "version_minor": 0
      },
      "text/plain": [
       "Running Epoch 54 of 200:   0%|          | 0/76 [00:00<?, ?it/s]"
      ]
     },
     "metadata": {},
     "output_type": "display_data"
    },
    {
     "data": {
      "application/vnd.jupyter.widget-view+json": {
       "model_id": "9dfb7c82968b4331bb541ab5d6ed5c1d",
       "version_major": 2,
       "version_minor": 0
      },
      "text/plain": [
       "Running Epoch 55 of 200:   0%|          | 0/76 [00:00<?, ?it/s]"
      ]
     },
     "metadata": {},
     "output_type": "display_data"
    },
    {
     "data": {
      "application/vnd.jupyter.widget-view+json": {
       "model_id": "693104b3d823475c86d001770c50a95b",
       "version_major": 2,
       "version_minor": 0
      },
      "text/plain": [
       "Running Epoch 56 of 200:   0%|          | 0/76 [00:00<?, ?it/s]"
      ]
     },
     "metadata": {},
     "output_type": "display_data"
    },
    {
     "data": {
      "application/vnd.jupyter.widget-view+json": {
       "model_id": "d8fb8f4e5af54e3f810c72350dd889c6",
       "version_major": 2,
       "version_minor": 0
      },
      "text/plain": [
       "Running Epoch 57 of 200:   0%|          | 0/76 [00:00<?, ?it/s]"
      ]
     },
     "metadata": {},
     "output_type": "display_data"
    },
    {
     "data": {
      "application/vnd.jupyter.widget-view+json": {
       "model_id": "7922afef6aec487ca6b4bcd3d8ea490e",
       "version_major": 2,
       "version_minor": 0
      },
      "text/plain": [
       "Running Epoch 58 of 200:   0%|          | 0/76 [00:00<?, ?it/s]"
      ]
     },
     "metadata": {},
     "output_type": "display_data"
    },
    {
     "data": {
      "application/vnd.jupyter.widget-view+json": {
       "model_id": "3d70beecd87046e7a4a91e8871d8c2e3",
       "version_major": 2,
       "version_minor": 0
      },
      "text/plain": [
       "Running Epoch 59 of 200:   0%|          | 0/76 [00:00<?, ?it/s]"
      ]
     },
     "metadata": {},
     "output_type": "display_data"
    },
    {
     "data": {
      "application/vnd.jupyter.widget-view+json": {
       "model_id": "df45fbc761b445cbb35c43864106099c",
       "version_major": 2,
       "version_minor": 0
      },
      "text/plain": [
       "Running Epoch 60 of 200:   0%|          | 0/76 [00:00<?, ?it/s]"
      ]
     },
     "metadata": {},
     "output_type": "display_data"
    },
    {
     "data": {
      "application/vnd.jupyter.widget-view+json": {
       "model_id": "0f5b77de18ea4733b83e037852c122aa",
       "version_major": 2,
       "version_minor": 0
      },
      "text/plain": [
       "Running Epoch 61 of 200:   0%|          | 0/76 [00:00<?, ?it/s]"
      ]
     },
     "metadata": {},
     "output_type": "display_data"
    },
    {
     "data": {
      "application/vnd.jupyter.widget-view+json": {
       "model_id": "84dc935388c74dabb9a0722f1431f2fb",
       "version_major": 2,
       "version_minor": 0
      },
      "text/plain": [
       "Running Epoch 62 of 200:   0%|          | 0/76 [00:00<?, ?it/s]"
      ]
     },
     "metadata": {},
     "output_type": "display_data"
    },
    {
     "data": {
      "application/vnd.jupyter.widget-view+json": {
       "model_id": "25c3662ae6394c32a564c78ca6df98b6",
       "version_major": 2,
       "version_minor": 0
      },
      "text/plain": [
       "Running Epoch 63 of 200:   0%|          | 0/76 [00:00<?, ?it/s]"
      ]
     },
     "metadata": {},
     "output_type": "display_data"
    },
    {
     "data": {
      "application/vnd.jupyter.widget-view+json": {
       "model_id": "54b3192765e94a49a072c7366fff44ae",
       "version_major": 2,
       "version_minor": 0
      },
      "text/plain": [
       "Running Epoch 64 of 200:   0%|          | 0/76 [00:00<?, ?it/s]"
      ]
     },
     "metadata": {},
     "output_type": "display_data"
    },
    {
     "data": {
      "application/vnd.jupyter.widget-view+json": {
       "model_id": "fa4b29cb11cb4584abb4618e85267343",
       "version_major": 2,
       "version_minor": 0
      },
      "text/plain": [
       "Running Epoch 65 of 200:   0%|          | 0/76 [00:00<?, ?it/s]"
      ]
     },
     "metadata": {},
     "output_type": "display_data"
    },
    {
     "data": {
      "application/vnd.jupyter.widget-view+json": {
       "model_id": "ab9f3f6e18dc4b06ad068265e86dbf30",
       "version_major": 2,
       "version_minor": 0
      },
      "text/plain": [
       "Running Epoch 66 of 200:   0%|          | 0/76 [00:00<?, ?it/s]"
      ]
     },
     "metadata": {},
     "output_type": "display_data"
    },
    {
     "data": {
      "application/vnd.jupyter.widget-view+json": {
       "model_id": "8e8cf7c84e2642c6b05d510bc0671db4",
       "version_major": 2,
       "version_minor": 0
      },
      "text/plain": [
       "Running Epoch 67 of 200:   0%|          | 0/76 [00:00<?, ?it/s]"
      ]
     },
     "metadata": {},
     "output_type": "display_data"
    },
    {
     "data": {
      "application/vnd.jupyter.widget-view+json": {
       "model_id": "e9d1370ff76b40f2add682d703e2ed14",
       "version_major": 2,
       "version_minor": 0
      },
      "text/plain": [
       "Running Epoch 68 of 200:   0%|          | 0/76 [00:00<?, ?it/s]"
      ]
     },
     "metadata": {},
     "output_type": "display_data"
    },
    {
     "data": {
      "application/vnd.jupyter.widget-view+json": {
       "model_id": "d0361aa58c824fba9ac68d525cdfa76f",
       "version_major": 2,
       "version_minor": 0
      },
      "text/plain": [
       "Running Epoch 69 of 200:   0%|          | 0/76 [00:00<?, ?it/s]"
      ]
     },
     "metadata": {},
     "output_type": "display_data"
    },
    {
     "data": {
      "application/vnd.jupyter.widget-view+json": {
       "model_id": "9e308009d5cc4b75b15c2ed61d12b494",
       "version_major": 2,
       "version_minor": 0
      },
      "text/plain": [
       "Running Epoch 70 of 200:   0%|          | 0/76 [00:00<?, ?it/s]"
      ]
     },
     "metadata": {},
     "output_type": "display_data"
    },
    {
     "data": {
      "application/vnd.jupyter.widget-view+json": {
       "model_id": "431bd8655da04e089c89fcbeb72976d6",
       "version_major": 2,
       "version_minor": 0
      },
      "text/plain": [
       "Running Epoch 71 of 200:   0%|          | 0/76 [00:00<?, ?it/s]"
      ]
     },
     "metadata": {},
     "output_type": "display_data"
    },
    {
     "data": {
      "application/vnd.jupyter.widget-view+json": {
       "model_id": "a488bd0e32de4aac96bd7beaec78f389",
       "version_major": 2,
       "version_minor": 0
      },
      "text/plain": [
       "Running Epoch 72 of 200:   0%|          | 0/76 [00:00<?, ?it/s]"
      ]
     },
     "metadata": {},
     "output_type": "display_data"
    },
    {
     "data": {
      "application/vnd.jupyter.widget-view+json": {
       "model_id": "a0a87f9555924764bf8f35a3fc1a560b",
       "version_major": 2,
       "version_minor": 0
      },
      "text/plain": [
       "Running Epoch 73 of 200:   0%|          | 0/76 [00:00<?, ?it/s]"
      ]
     },
     "metadata": {},
     "output_type": "display_data"
    },
    {
     "data": {
      "application/vnd.jupyter.widget-view+json": {
       "model_id": "af041f6ff86740d2a7b3a6e0041d158e",
       "version_major": 2,
       "version_minor": 0
      },
      "text/plain": [
       "Running Epoch 74 of 200:   0%|          | 0/76 [00:00<?, ?it/s]"
      ]
     },
     "metadata": {},
     "output_type": "display_data"
    },
    {
     "data": {
      "application/vnd.jupyter.widget-view+json": {
       "model_id": "b7626c4d9d494a669c4e45e6de4cde47",
       "version_major": 2,
       "version_minor": 0
      },
      "text/plain": [
       "Running Epoch 75 of 200:   0%|          | 0/76 [00:00<?, ?it/s]"
      ]
     },
     "metadata": {},
     "output_type": "display_data"
    },
    {
     "data": {
      "application/vnd.jupyter.widget-view+json": {
       "model_id": "ae6ce959e0b245bcaf8798ccba0975ef",
       "version_major": 2,
       "version_minor": 0
      },
      "text/plain": [
       "Running Epoch 76 of 200:   0%|          | 0/76 [00:00<?, ?it/s]"
      ]
     },
     "metadata": {},
     "output_type": "display_data"
    },
    {
     "data": {
      "application/vnd.jupyter.widget-view+json": {
       "model_id": "ee5337d0741444a7908d197f2b9662a5",
       "version_major": 2,
       "version_minor": 0
      },
      "text/plain": [
       "Running Epoch 77 of 200:   0%|          | 0/76 [00:00<?, ?it/s]"
      ]
     },
     "metadata": {},
     "output_type": "display_data"
    },
    {
     "data": {
      "application/vnd.jupyter.widget-view+json": {
       "model_id": "32d0fbc34b224b68bbc65c54058d3cfa",
       "version_major": 2,
       "version_minor": 0
      },
      "text/plain": [
       "Running Epoch 78 of 200:   0%|          | 0/76 [00:00<?, ?it/s]"
      ]
     },
     "metadata": {},
     "output_type": "display_data"
    },
    {
     "data": {
      "application/vnd.jupyter.widget-view+json": {
       "model_id": "541e6ab16a8b4c85b95ccd3eb74b7d7e",
       "version_major": 2,
       "version_minor": 0
      },
      "text/plain": [
       "Running Epoch 79 of 200:   0%|          | 0/76 [00:00<?, ?it/s]"
      ]
     },
     "metadata": {},
     "output_type": "display_data"
    },
    {
     "data": {
      "application/vnd.jupyter.widget-view+json": {
       "model_id": "470d7058094e4b1cb74570cba73378d6",
       "version_major": 2,
       "version_minor": 0
      },
      "text/plain": [
       "Running Epoch 80 of 200:   0%|          | 0/76 [00:00<?, ?it/s]"
      ]
     },
     "metadata": {},
     "output_type": "display_data"
    },
    {
     "data": {
      "application/vnd.jupyter.widget-view+json": {
       "model_id": "991da240ed0443db9aa422552d7b26b7",
       "version_major": 2,
       "version_minor": 0
      },
      "text/plain": [
       "Running Epoch 81 of 200:   0%|          | 0/76 [00:00<?, ?it/s]"
      ]
     },
     "metadata": {},
     "output_type": "display_data"
    },
    {
     "data": {
      "application/vnd.jupyter.widget-view+json": {
       "model_id": "ab940f27c6764b87b33ecd606dc9e121",
       "version_major": 2,
       "version_minor": 0
      },
      "text/plain": [
       "Running Epoch 82 of 200:   0%|          | 0/76 [00:00<?, ?it/s]"
      ]
     },
     "metadata": {},
     "output_type": "display_data"
    },
    {
     "data": {
      "application/vnd.jupyter.widget-view+json": {
       "model_id": "96be5d87ba234a52a637fcb8b1e84fec",
       "version_major": 2,
       "version_minor": 0
      },
      "text/plain": [
       "Running Epoch 83 of 200:   0%|          | 0/76 [00:00<?, ?it/s]"
      ]
     },
     "metadata": {},
     "output_type": "display_data"
    },
    {
     "data": {
      "application/vnd.jupyter.widget-view+json": {
       "model_id": "639f853050414dcf940ade8c3409bba9",
       "version_major": 2,
       "version_minor": 0
      },
      "text/plain": [
       "Running Epoch 84 of 200:   0%|          | 0/76 [00:00<?, ?it/s]"
      ]
     },
     "metadata": {},
     "output_type": "display_data"
    },
    {
     "data": {
      "application/vnd.jupyter.widget-view+json": {
       "model_id": "cceca2bffd82451083aead233bf23126",
       "version_major": 2,
       "version_minor": 0
      },
      "text/plain": [
       "Running Epoch 85 of 200:   0%|          | 0/76 [00:00<?, ?it/s]"
      ]
     },
     "metadata": {},
     "output_type": "display_data"
    },
    {
     "data": {
      "application/vnd.jupyter.widget-view+json": {
       "model_id": "f9e15081e25540b3aa1b4f764e22039f",
       "version_major": 2,
       "version_minor": 0
      },
      "text/plain": [
       "Running Epoch 86 of 200:   0%|          | 0/76 [00:00<?, ?it/s]"
      ]
     },
     "metadata": {},
     "output_type": "display_data"
    },
    {
     "data": {
      "application/vnd.jupyter.widget-view+json": {
       "model_id": "306153d2a42a48949a5a58c804743127",
       "version_major": 2,
       "version_minor": 0
      },
      "text/plain": [
       "Running Epoch 87 of 200:   0%|          | 0/76 [00:00<?, ?it/s]"
      ]
     },
     "metadata": {},
     "output_type": "display_data"
    },
    {
     "data": {
      "application/vnd.jupyter.widget-view+json": {
       "model_id": "74f0e1603bce4068b2ec3b159cc535a9",
       "version_major": 2,
       "version_minor": 0
      },
      "text/plain": [
       "Running Epoch 88 of 200:   0%|          | 0/76 [00:00<?, ?it/s]"
      ]
     },
     "metadata": {},
     "output_type": "display_data"
    },
    {
     "data": {
      "application/vnd.jupyter.widget-view+json": {
       "model_id": "9667886b458b42b584c37831821a3a0e",
       "version_major": 2,
       "version_minor": 0
      },
      "text/plain": [
       "Running Epoch 89 of 200:   0%|          | 0/76 [00:00<?, ?it/s]"
      ]
     },
     "metadata": {},
     "output_type": "display_data"
    },
    {
     "data": {
      "application/vnd.jupyter.widget-view+json": {
       "model_id": "a86447b026fe418e8fe878cc85c63074",
       "version_major": 2,
       "version_minor": 0
      },
      "text/plain": [
       "Running Epoch 90 of 200:   0%|          | 0/76 [00:00<?, ?it/s]"
      ]
     },
     "metadata": {},
     "output_type": "display_data"
    },
    {
     "data": {
      "application/vnd.jupyter.widget-view+json": {
       "model_id": "65621791bb09485abe8e469ccaa0505e",
       "version_major": 2,
       "version_minor": 0
      },
      "text/plain": [
       "Running Epoch 91 of 200:   0%|          | 0/76 [00:00<?, ?it/s]"
      ]
     },
     "metadata": {},
     "output_type": "display_data"
    },
    {
     "data": {
      "application/vnd.jupyter.widget-view+json": {
       "model_id": "eeeed48c634e402e879c199d34b27141",
       "version_major": 2,
       "version_minor": 0
      },
      "text/plain": [
       "Running Epoch 92 of 200:   0%|          | 0/76 [00:00<?, ?it/s]"
      ]
     },
     "metadata": {},
     "output_type": "display_data"
    },
    {
     "data": {
      "application/vnd.jupyter.widget-view+json": {
       "model_id": "f0b39eae39d149838d108661f198a8a4",
       "version_major": 2,
       "version_minor": 0
      },
      "text/plain": [
       "Running Epoch 93 of 200:   0%|          | 0/76 [00:00<?, ?it/s]"
      ]
     },
     "metadata": {},
     "output_type": "display_data"
    },
    {
     "data": {
      "application/vnd.jupyter.widget-view+json": {
       "model_id": "32c772a97a5943b3aecddfafb9186f3b",
       "version_major": 2,
       "version_minor": 0
      },
      "text/plain": [
       "Running Epoch 94 of 200:   0%|          | 0/76 [00:00<?, ?it/s]"
      ]
     },
     "metadata": {},
     "output_type": "display_data"
    },
    {
     "data": {
      "application/vnd.jupyter.widget-view+json": {
       "model_id": "89fce56aa38244979bfa17ae8846a435",
       "version_major": 2,
       "version_minor": 0
      },
      "text/plain": [
       "Running Epoch 95 of 200:   0%|          | 0/76 [00:00<?, ?it/s]"
      ]
     },
     "metadata": {},
     "output_type": "display_data"
    },
    {
     "data": {
      "application/vnd.jupyter.widget-view+json": {
       "model_id": "a59aca3246ac46ffaee2c8dccdbb3cea",
       "version_major": 2,
       "version_minor": 0
      },
      "text/plain": [
       "Running Epoch 96 of 200:   0%|          | 0/76 [00:00<?, ?it/s]"
      ]
     },
     "metadata": {},
     "output_type": "display_data"
    },
    {
     "data": {
      "application/vnd.jupyter.widget-view+json": {
       "model_id": "6af0278b8cba430b874249c59e5602ea",
       "version_major": 2,
       "version_minor": 0
      },
      "text/plain": [
       "Running Epoch 97 of 200:   0%|          | 0/76 [00:00<?, ?it/s]"
      ]
     },
     "metadata": {},
     "output_type": "display_data"
    },
    {
     "data": {
      "application/vnd.jupyter.widget-view+json": {
       "model_id": "8b27fccd0f6c4d1db12bde7ff76e77b6",
       "version_major": 2,
       "version_minor": 0
      },
      "text/plain": [
       "Running Epoch 98 of 200:   0%|          | 0/76 [00:00<?, ?it/s]"
      ]
     },
     "metadata": {},
     "output_type": "display_data"
    },
    {
     "data": {
      "application/vnd.jupyter.widget-view+json": {
       "model_id": "eecba58a8d5240fe94d6c96819e10898",
       "version_major": 2,
       "version_minor": 0
      },
      "text/plain": [
       "Running Epoch 99 of 200:   0%|          | 0/76 [00:00<?, ?it/s]"
      ]
     },
     "metadata": {},
     "output_type": "display_data"
    },
    {
     "data": {
      "application/vnd.jupyter.widget-view+json": {
       "model_id": "3e49c7c67deb43ca9b6614db91f20760",
       "version_major": 2,
       "version_minor": 0
      },
      "text/plain": [
       "Running Epoch 100 of 200:   0%|          | 0/76 [00:00<?, ?it/s]"
      ]
     },
     "metadata": {},
     "output_type": "display_data"
    },
    {
     "data": {
      "application/vnd.jupyter.widget-view+json": {
       "model_id": "835728ed2d384c11a44d11e13beed678",
       "version_major": 2,
       "version_minor": 0
      },
      "text/plain": [
       "Running Epoch 101 of 200:   0%|          | 0/76 [00:00<?, ?it/s]"
      ]
     },
     "metadata": {},
     "output_type": "display_data"
    },
    {
     "data": {
      "application/vnd.jupyter.widget-view+json": {
       "model_id": "646855e660f148a1ba0d8f97d65d7094",
       "version_major": 2,
       "version_minor": 0
      },
      "text/plain": [
       "Running Epoch 102 of 200:   0%|          | 0/76 [00:00<?, ?it/s]"
      ]
     },
     "metadata": {},
     "output_type": "display_data"
    },
    {
     "data": {
      "application/vnd.jupyter.widget-view+json": {
       "model_id": "ae28c519f4804fbc9fe6a945b12062bd",
       "version_major": 2,
       "version_minor": 0
      },
      "text/plain": [
       "Running Epoch 103 of 200:   0%|          | 0/76 [00:00<?, ?it/s]"
      ]
     },
     "metadata": {},
     "output_type": "display_data"
    },
    {
     "data": {
      "application/vnd.jupyter.widget-view+json": {
       "model_id": "2f28c66944a746668bd3f010b4bf4176",
       "version_major": 2,
       "version_minor": 0
      },
      "text/plain": [
       "Running Epoch 104 of 200:   0%|          | 0/76 [00:00<?, ?it/s]"
      ]
     },
     "metadata": {},
     "output_type": "display_data"
    },
    {
     "data": {
      "application/vnd.jupyter.widget-view+json": {
       "model_id": "888ca38edc344b0287b9c5ca32d71594",
       "version_major": 2,
       "version_minor": 0
      },
      "text/plain": [
       "Running Epoch 105 of 200:   0%|          | 0/76 [00:00<?, ?it/s]"
      ]
     },
     "metadata": {},
     "output_type": "display_data"
    },
    {
     "data": {
      "application/vnd.jupyter.widget-view+json": {
       "model_id": "4bf0ba98621743aba0cd85de34f1ede5",
       "version_major": 2,
       "version_minor": 0
      },
      "text/plain": [
       "Running Epoch 106 of 200:   0%|          | 0/76 [00:00<?, ?it/s]"
      ]
     },
     "metadata": {},
     "output_type": "display_data"
    },
    {
     "data": {
      "application/vnd.jupyter.widget-view+json": {
       "model_id": "e42de4acf8924c0a96b82165fe64017b",
       "version_major": 2,
       "version_minor": 0
      },
      "text/plain": [
       "Running Epoch 107 of 200:   0%|          | 0/76 [00:00<?, ?it/s]"
      ]
     },
     "metadata": {},
     "output_type": "display_data"
    },
    {
     "data": {
      "application/vnd.jupyter.widget-view+json": {
       "model_id": "5007a0a471974655aab5d5bcb7be1cd1",
       "version_major": 2,
       "version_minor": 0
      },
      "text/plain": [
       "Running Epoch 108 of 200:   0%|          | 0/76 [00:00<?, ?it/s]"
      ]
     },
     "metadata": {},
     "output_type": "display_data"
    },
    {
     "data": {
      "application/vnd.jupyter.widget-view+json": {
       "model_id": "67b1dc93d4744e4bab7e9821d99b587d",
       "version_major": 2,
       "version_minor": 0
      },
      "text/plain": [
       "Running Epoch 109 of 200:   0%|          | 0/76 [00:00<?, ?it/s]"
      ]
     },
     "metadata": {},
     "output_type": "display_data"
    },
    {
     "data": {
      "application/vnd.jupyter.widget-view+json": {
       "model_id": "6b5dca2ca64b46c392db0189022e1c77",
       "version_major": 2,
       "version_minor": 0
      },
      "text/plain": [
       "Running Epoch 110 of 200:   0%|          | 0/76 [00:00<?, ?it/s]"
      ]
     },
     "metadata": {},
     "output_type": "display_data"
    },
    {
     "data": {
      "application/vnd.jupyter.widget-view+json": {
       "model_id": "5a004ee58bfe4273b163c398109ac0e9",
       "version_major": 2,
       "version_minor": 0
      },
      "text/plain": [
       "Running Epoch 111 of 200:   0%|          | 0/76 [00:00<?, ?it/s]"
      ]
     },
     "metadata": {},
     "output_type": "display_data"
    },
    {
     "data": {
      "application/vnd.jupyter.widget-view+json": {
       "model_id": "61dd783e89c340c3bc466af114fe7ad7",
       "version_major": 2,
       "version_minor": 0
      },
      "text/plain": [
       "Running Epoch 112 of 200:   0%|          | 0/76 [00:00<?, ?it/s]"
      ]
     },
     "metadata": {},
     "output_type": "display_data"
    },
    {
     "data": {
      "application/vnd.jupyter.widget-view+json": {
       "model_id": "4b939b53c4a64b3c8b3b1e8cb1cdaa77",
       "version_major": 2,
       "version_minor": 0
      },
      "text/plain": [
       "Running Epoch 113 of 200:   0%|          | 0/76 [00:00<?, ?it/s]"
      ]
     },
     "metadata": {},
     "output_type": "display_data"
    },
    {
     "data": {
      "application/vnd.jupyter.widget-view+json": {
       "model_id": "4e568382e55d43fab63a45e0c96ed72a",
       "version_major": 2,
       "version_minor": 0
      },
      "text/plain": [
       "Running Epoch 114 of 200:   0%|          | 0/76 [00:00<?, ?it/s]"
      ]
     },
     "metadata": {},
     "output_type": "display_data"
    },
    {
     "data": {
      "application/vnd.jupyter.widget-view+json": {
       "model_id": "52691b907bee4dc9a3af4ed90f02015e",
       "version_major": 2,
       "version_minor": 0
      },
      "text/plain": [
       "Running Epoch 115 of 200:   0%|          | 0/76 [00:00<?, ?it/s]"
      ]
     },
     "metadata": {},
     "output_type": "display_data"
    },
    {
     "data": {
      "application/vnd.jupyter.widget-view+json": {
       "model_id": "b773820c9aa24302a9dbb7a239749541",
       "version_major": 2,
       "version_minor": 0
      },
      "text/plain": [
       "Running Epoch 116 of 200:   0%|          | 0/76 [00:00<?, ?it/s]"
      ]
     },
     "metadata": {},
     "output_type": "display_data"
    },
    {
     "data": {
      "application/vnd.jupyter.widget-view+json": {
       "model_id": "0a363c03eceb4c8fba029fb420ff5143",
       "version_major": 2,
       "version_minor": 0
      },
      "text/plain": [
       "Running Epoch 117 of 200:   0%|          | 0/76 [00:00<?, ?it/s]"
      ]
     },
     "metadata": {},
     "output_type": "display_data"
    },
    {
     "data": {
      "application/vnd.jupyter.widget-view+json": {
       "model_id": "23702cc27dd643339ae6ec58f4120760",
       "version_major": 2,
       "version_minor": 0
      },
      "text/plain": [
       "Running Epoch 118 of 200:   0%|          | 0/76 [00:00<?, ?it/s]"
      ]
     },
     "metadata": {},
     "output_type": "display_data"
    },
    {
     "data": {
      "application/vnd.jupyter.widget-view+json": {
       "model_id": "9027dcf29bde4f55a0afae92e375f4a1",
       "version_major": 2,
       "version_minor": 0
      },
      "text/plain": [
       "Running Epoch 119 of 200:   0%|          | 0/76 [00:00<?, ?it/s]"
      ]
     },
     "metadata": {},
     "output_type": "display_data"
    },
    {
     "data": {
      "application/vnd.jupyter.widget-view+json": {
       "model_id": "3b955becd75b44e59c0fb1cdcee726ae",
       "version_major": 2,
       "version_minor": 0
      },
      "text/plain": [
       "Running Epoch 120 of 200:   0%|          | 0/76 [00:00<?, ?it/s]"
      ]
     },
     "metadata": {},
     "output_type": "display_data"
    },
    {
     "data": {
      "application/vnd.jupyter.widget-view+json": {
       "model_id": "2865152377f4440db7748a2562ee8312",
       "version_major": 2,
       "version_minor": 0
      },
      "text/plain": [
       "Running Epoch 121 of 200:   0%|          | 0/76 [00:00<?, ?it/s]"
      ]
     },
     "metadata": {},
     "output_type": "display_data"
    },
    {
     "data": {
      "application/vnd.jupyter.widget-view+json": {
       "model_id": "698fe522ea1c4b6f866b0e0f7832370f",
       "version_major": 2,
       "version_minor": 0
      },
      "text/plain": [
       "Running Epoch 122 of 200:   0%|          | 0/76 [00:00<?, ?it/s]"
      ]
     },
     "metadata": {},
     "output_type": "display_data"
    },
    {
     "data": {
      "application/vnd.jupyter.widget-view+json": {
       "model_id": "8515754adf7648d2aca7c6ed7ad73d8e",
       "version_major": 2,
       "version_minor": 0
      },
      "text/plain": [
       "Running Epoch 123 of 200:   0%|          | 0/76 [00:00<?, ?it/s]"
      ]
     },
     "metadata": {},
     "output_type": "display_data"
    },
    {
     "data": {
      "application/vnd.jupyter.widget-view+json": {
       "model_id": "bfbb4db96ef4473db4eecfc53ccacaf0",
       "version_major": 2,
       "version_minor": 0
      },
      "text/plain": [
       "Running Epoch 124 of 200:   0%|          | 0/76 [00:00<?, ?it/s]"
      ]
     },
     "metadata": {},
     "output_type": "display_data"
    },
    {
     "data": {
      "application/vnd.jupyter.widget-view+json": {
       "model_id": "62bda67c0543452d92bcb1cd98117cf0",
       "version_major": 2,
       "version_minor": 0
      },
      "text/plain": [
       "Running Epoch 125 of 200:   0%|          | 0/76 [00:00<?, ?it/s]"
      ]
     },
     "metadata": {},
     "output_type": "display_data"
    },
    {
     "data": {
      "application/vnd.jupyter.widget-view+json": {
       "model_id": "23ffdcab5ede4d5a9d956b94385dd5e2",
       "version_major": 2,
       "version_minor": 0
      },
      "text/plain": [
       "Running Epoch 126 of 200:   0%|          | 0/76 [00:00<?, ?it/s]"
      ]
     },
     "metadata": {},
     "output_type": "display_data"
    },
    {
     "data": {
      "application/vnd.jupyter.widget-view+json": {
       "model_id": "50948a247c244eec9cbbeb8cec4d9675",
       "version_major": 2,
       "version_minor": 0
      },
      "text/plain": [
       "Running Epoch 127 of 200:   0%|          | 0/76 [00:00<?, ?it/s]"
      ]
     },
     "metadata": {},
     "output_type": "display_data"
    },
    {
     "data": {
      "application/vnd.jupyter.widget-view+json": {
       "model_id": "c6dcaa24149f4f3c91b5f5c3797bcb01",
       "version_major": 2,
       "version_minor": 0
      },
      "text/plain": [
       "Running Epoch 128 of 200:   0%|          | 0/76 [00:00<?, ?it/s]"
      ]
     },
     "metadata": {},
     "output_type": "display_data"
    },
    {
     "data": {
      "application/vnd.jupyter.widget-view+json": {
       "model_id": "51c5c9c49bc9472881dc31bb031d1560",
       "version_major": 2,
       "version_minor": 0
      },
      "text/plain": [
       "Running Epoch 129 of 200:   0%|          | 0/76 [00:00<?, ?it/s]"
      ]
     },
     "metadata": {},
     "output_type": "display_data"
    },
    {
     "data": {
      "application/vnd.jupyter.widget-view+json": {
       "model_id": "e24965b40ab54efc8b2ff9c12934ca03",
       "version_major": 2,
       "version_minor": 0
      },
      "text/plain": [
       "Running Epoch 130 of 200:   0%|          | 0/76 [00:00<?, ?it/s]"
      ]
     },
     "metadata": {},
     "output_type": "display_data"
    },
    {
     "data": {
      "application/vnd.jupyter.widget-view+json": {
       "model_id": "5e4772b3471944c3b472cf7de93fdcb2",
       "version_major": 2,
       "version_minor": 0
      },
      "text/plain": [
       "Running Epoch 131 of 200:   0%|          | 0/76 [00:00<?, ?it/s]"
      ]
     },
     "metadata": {},
     "output_type": "display_data"
    },
    {
     "data": {
      "application/vnd.jupyter.widget-view+json": {
       "model_id": "74f30ec03dab453ca6ab4750b42e8d16",
       "version_major": 2,
       "version_minor": 0
      },
      "text/plain": [
       "Running Epoch 132 of 200:   0%|          | 0/76 [00:00<?, ?it/s]"
      ]
     },
     "metadata": {},
     "output_type": "display_data"
    },
    {
     "data": {
      "application/vnd.jupyter.widget-view+json": {
       "model_id": "377bc44f4673477d8be9a2f79e718b13",
       "version_major": 2,
       "version_minor": 0
      },
      "text/plain": [
       "Running Epoch 133 of 200:   0%|          | 0/76 [00:00<?, ?it/s]"
      ]
     },
     "metadata": {},
     "output_type": "display_data"
    },
    {
     "data": {
      "application/vnd.jupyter.widget-view+json": {
       "model_id": "fafc0f2288ed423c981e730674ea56dc",
       "version_major": 2,
       "version_minor": 0
      },
      "text/plain": [
       "Running Epoch 134 of 200:   0%|          | 0/76 [00:00<?, ?it/s]"
      ]
     },
     "metadata": {},
     "output_type": "display_data"
    },
    {
     "data": {
      "application/vnd.jupyter.widget-view+json": {
       "model_id": "9b89c2c8759f459b92ec8555bfd3f0c0",
       "version_major": 2,
       "version_minor": 0
      },
      "text/plain": [
       "Running Epoch 135 of 200:   0%|          | 0/76 [00:00<?, ?it/s]"
      ]
     },
     "metadata": {},
     "output_type": "display_data"
    },
    {
     "data": {
      "application/vnd.jupyter.widget-view+json": {
       "model_id": "247cb36cbe3b44e9856f9e666690518d",
       "version_major": 2,
       "version_minor": 0
      },
      "text/plain": [
       "Running Epoch 136 of 200:   0%|          | 0/76 [00:00<?, ?it/s]"
      ]
     },
     "metadata": {},
     "output_type": "display_data"
    },
    {
     "data": {
      "application/vnd.jupyter.widget-view+json": {
       "model_id": "b48e3d300900438db38631c82bad93a8",
       "version_major": 2,
       "version_minor": 0
      },
      "text/plain": [
       "Running Epoch 137 of 200:   0%|          | 0/76 [00:00<?, ?it/s]"
      ]
     },
     "metadata": {},
     "output_type": "display_data"
    },
    {
     "data": {
      "application/vnd.jupyter.widget-view+json": {
       "model_id": "3654a673c007475dbde4347aeebb77a5",
       "version_major": 2,
       "version_minor": 0
      },
      "text/plain": [
       "Running Epoch 138 of 200:   0%|          | 0/76 [00:00<?, ?it/s]"
      ]
     },
     "metadata": {},
     "output_type": "display_data"
    },
    {
     "data": {
      "application/vnd.jupyter.widget-view+json": {
       "model_id": "19ff0b002f4a40a1908ed29a10089d6e",
       "version_major": 2,
       "version_minor": 0
      },
      "text/plain": [
       "Running Epoch 139 of 200:   0%|          | 0/76 [00:00<?, ?it/s]"
      ]
     },
     "metadata": {},
     "output_type": "display_data"
    },
    {
     "data": {
      "application/vnd.jupyter.widget-view+json": {
       "model_id": "b1621dee082a4ebda6f423d4695ad035",
       "version_major": 2,
       "version_minor": 0
      },
      "text/plain": [
       "Running Epoch 140 of 200:   0%|          | 0/76 [00:00<?, ?it/s]"
      ]
     },
     "metadata": {},
     "output_type": "display_data"
    },
    {
     "data": {
      "application/vnd.jupyter.widget-view+json": {
       "model_id": "0b1ebc7f96924ce486ef272646a9d160",
       "version_major": 2,
       "version_minor": 0
      },
      "text/plain": [
       "Running Epoch 141 of 200:   0%|          | 0/76 [00:00<?, ?it/s]"
      ]
     },
     "metadata": {},
     "output_type": "display_data"
    },
    {
     "data": {
      "application/vnd.jupyter.widget-view+json": {
       "model_id": "ad08aab965d248f09a55a100154b74dc",
       "version_major": 2,
       "version_minor": 0
      },
      "text/plain": [
       "Running Epoch 142 of 200:   0%|          | 0/76 [00:00<?, ?it/s]"
      ]
     },
     "metadata": {},
     "output_type": "display_data"
    },
    {
     "data": {
      "application/vnd.jupyter.widget-view+json": {
       "model_id": "cf931a2e255e460b9764c69e3ef47a89",
       "version_major": 2,
       "version_minor": 0
      },
      "text/plain": [
       "Running Epoch 143 of 200:   0%|          | 0/76 [00:00<?, ?it/s]"
      ]
     },
     "metadata": {},
     "output_type": "display_data"
    },
    {
     "data": {
      "application/vnd.jupyter.widget-view+json": {
       "model_id": "293dda33f6be42d1a70787e98426590d",
       "version_major": 2,
       "version_minor": 0
      },
      "text/plain": [
       "Running Epoch 144 of 200:   0%|          | 0/76 [00:00<?, ?it/s]"
      ]
     },
     "metadata": {},
     "output_type": "display_data"
    },
    {
     "data": {
      "application/vnd.jupyter.widget-view+json": {
       "model_id": "abe92763d3c4414a89d7aa0a54533ea1",
       "version_major": 2,
       "version_minor": 0
      },
      "text/plain": [
       "Running Epoch 145 of 200:   0%|          | 0/76 [00:00<?, ?it/s]"
      ]
     },
     "metadata": {},
     "output_type": "display_data"
    },
    {
     "data": {
      "application/vnd.jupyter.widget-view+json": {
       "model_id": "e02185deeb684644a1ba42015b3b1f5d",
       "version_major": 2,
       "version_minor": 0
      },
      "text/plain": [
       "Running Epoch 146 of 200:   0%|          | 0/76 [00:00<?, ?it/s]"
      ]
     },
     "metadata": {},
     "output_type": "display_data"
    },
    {
     "data": {
      "application/vnd.jupyter.widget-view+json": {
       "model_id": "fc3232cb78354e8d9bee6abadb362b16",
       "version_major": 2,
       "version_minor": 0
      },
      "text/plain": [
       "Running Epoch 147 of 200:   0%|          | 0/76 [00:00<?, ?it/s]"
      ]
     },
     "metadata": {},
     "output_type": "display_data"
    },
    {
     "data": {
      "application/vnd.jupyter.widget-view+json": {
       "model_id": "0e3047ba8da7400d81afda457e9c4065",
       "version_major": 2,
       "version_minor": 0
      },
      "text/plain": [
       "Running Epoch 148 of 200:   0%|          | 0/76 [00:00<?, ?it/s]"
      ]
     },
     "metadata": {},
     "output_type": "display_data"
    },
    {
     "data": {
      "application/vnd.jupyter.widget-view+json": {
       "model_id": "f950189bc89d43899a8e14a123b2b978",
       "version_major": 2,
       "version_minor": 0
      },
      "text/plain": [
       "Running Epoch 149 of 200:   0%|          | 0/76 [00:00<?, ?it/s]"
      ]
     },
     "metadata": {},
     "output_type": "display_data"
    },
    {
     "data": {
      "application/vnd.jupyter.widget-view+json": {
       "model_id": "2199b2c3a26649928f6e5ff68d9c8079",
       "version_major": 2,
       "version_minor": 0
      },
      "text/plain": [
       "Running Epoch 150 of 200:   0%|          | 0/76 [00:00<?, ?it/s]"
      ]
     },
     "metadata": {},
     "output_type": "display_data"
    },
    {
     "data": {
      "application/vnd.jupyter.widget-view+json": {
       "model_id": "ad9cb76b367d4bd3a57362327b22a899",
       "version_major": 2,
       "version_minor": 0
      },
      "text/plain": [
       "Running Epoch 151 of 200:   0%|          | 0/76 [00:00<?, ?it/s]"
      ]
     },
     "metadata": {},
     "output_type": "display_data"
    },
    {
     "data": {
      "application/vnd.jupyter.widget-view+json": {
       "model_id": "b95a04a878b8474ab99894753c4290ce",
       "version_major": 2,
       "version_minor": 0
      },
      "text/plain": [
       "Running Epoch 152 of 200:   0%|          | 0/76 [00:00<?, ?it/s]"
      ]
     },
     "metadata": {},
     "output_type": "display_data"
    },
    {
     "data": {
      "application/vnd.jupyter.widget-view+json": {
       "model_id": "32d73c1b5e9240ed95403a68f3759db4",
       "version_major": 2,
       "version_minor": 0
      },
      "text/plain": [
       "Running Epoch 153 of 200:   0%|          | 0/76 [00:00<?, ?it/s]"
      ]
     },
     "metadata": {},
     "output_type": "display_data"
    },
    {
     "data": {
      "application/vnd.jupyter.widget-view+json": {
       "model_id": "ffa653aba2cc4ba0bdb291db207e0e8d",
       "version_major": 2,
       "version_minor": 0
      },
      "text/plain": [
       "Running Epoch 154 of 200:   0%|          | 0/76 [00:00<?, ?it/s]"
      ]
     },
     "metadata": {},
     "output_type": "display_data"
    },
    {
     "data": {
      "application/vnd.jupyter.widget-view+json": {
       "model_id": "7af447fb90bf4fbb93c40d0fbb20a4c1",
       "version_major": 2,
       "version_minor": 0
      },
      "text/plain": [
       "Running Epoch 155 of 200:   0%|          | 0/76 [00:00<?, ?it/s]"
      ]
     },
     "metadata": {},
     "output_type": "display_data"
    },
    {
     "data": {
      "application/vnd.jupyter.widget-view+json": {
       "model_id": "097bab455e56458faf2231e8d6e89373",
       "version_major": 2,
       "version_minor": 0
      },
      "text/plain": [
       "Running Epoch 156 of 200:   0%|          | 0/76 [00:00<?, ?it/s]"
      ]
     },
     "metadata": {},
     "output_type": "display_data"
    },
    {
     "data": {
      "application/vnd.jupyter.widget-view+json": {
       "model_id": "69663140f0fb496d865515217f87b02d",
       "version_major": 2,
       "version_minor": 0
      },
      "text/plain": [
       "Running Epoch 157 of 200:   0%|          | 0/76 [00:00<?, ?it/s]"
      ]
     },
     "metadata": {},
     "output_type": "display_data"
    },
    {
     "data": {
      "application/vnd.jupyter.widget-view+json": {
       "model_id": "a2ab91c674e745e0b7b259a1a60a4f1f",
       "version_major": 2,
       "version_minor": 0
      },
      "text/plain": [
       "Running Epoch 158 of 200:   0%|          | 0/76 [00:00<?, ?it/s]"
      ]
     },
     "metadata": {},
     "output_type": "display_data"
    },
    {
     "data": {
      "application/vnd.jupyter.widget-view+json": {
       "model_id": "2bb19e282e8e41748385a8f2d800547c",
       "version_major": 2,
       "version_minor": 0
      },
      "text/plain": [
       "Running Epoch 159 of 200:   0%|          | 0/76 [00:00<?, ?it/s]"
      ]
     },
     "metadata": {},
     "output_type": "display_data"
    },
    {
     "data": {
      "application/vnd.jupyter.widget-view+json": {
       "model_id": "ae93cd30e5e649ecad354e582e7e4ffd",
       "version_major": 2,
       "version_minor": 0
      },
      "text/plain": [
       "Running Epoch 160 of 200:   0%|          | 0/76 [00:00<?, ?it/s]"
      ]
     },
     "metadata": {},
     "output_type": "display_data"
    },
    {
     "data": {
      "application/vnd.jupyter.widget-view+json": {
       "model_id": "10dd97f8043246fea4a253878fbf8b54",
       "version_major": 2,
       "version_minor": 0
      },
      "text/plain": [
       "Running Epoch 161 of 200:   0%|          | 0/76 [00:00<?, ?it/s]"
      ]
     },
     "metadata": {},
     "output_type": "display_data"
    },
    {
     "data": {
      "application/vnd.jupyter.widget-view+json": {
       "model_id": "898be8b6260a48b89dacf0cc4138d80e",
       "version_major": 2,
       "version_minor": 0
      },
      "text/plain": [
       "Running Epoch 162 of 200:   0%|          | 0/76 [00:00<?, ?it/s]"
      ]
     },
     "metadata": {},
     "output_type": "display_data"
    },
    {
     "data": {
      "application/vnd.jupyter.widget-view+json": {
       "model_id": "cd526aa8cab1455298fe426e7ad5dd53",
       "version_major": 2,
       "version_minor": 0
      },
      "text/plain": [
       "Running Epoch 163 of 200:   0%|          | 0/76 [00:00<?, ?it/s]"
      ]
     },
     "metadata": {},
     "output_type": "display_data"
    },
    {
     "data": {
      "application/vnd.jupyter.widget-view+json": {
       "model_id": "522da8ac423d4541b6a6695e3f187ff9",
       "version_major": 2,
       "version_minor": 0
      },
      "text/plain": [
       "Running Epoch 164 of 200:   0%|          | 0/76 [00:00<?, ?it/s]"
      ]
     },
     "metadata": {},
     "output_type": "display_data"
    },
    {
     "data": {
      "application/vnd.jupyter.widget-view+json": {
       "model_id": "24cde544883046df835c9d3451d7d179",
       "version_major": 2,
       "version_minor": 0
      },
      "text/plain": [
       "Running Epoch 165 of 200:   0%|          | 0/76 [00:00<?, ?it/s]"
      ]
     },
     "metadata": {},
     "output_type": "display_data"
    },
    {
     "data": {
      "application/vnd.jupyter.widget-view+json": {
       "model_id": "473a16952e094f35b5cee3e65c9ddb19",
       "version_major": 2,
       "version_minor": 0
      },
      "text/plain": [
       "Running Epoch 166 of 200:   0%|          | 0/76 [00:00<?, ?it/s]"
      ]
     },
     "metadata": {},
     "output_type": "display_data"
    },
    {
     "data": {
      "application/vnd.jupyter.widget-view+json": {
       "model_id": "db588377712e4444a1eedfa9fa9aac17",
       "version_major": 2,
       "version_minor": 0
      },
      "text/plain": [
       "Running Epoch 167 of 200:   0%|          | 0/76 [00:00<?, ?it/s]"
      ]
     },
     "metadata": {},
     "output_type": "display_data"
    },
    {
     "data": {
      "application/vnd.jupyter.widget-view+json": {
       "model_id": "a085b1e89623480fa6695a078633e609",
       "version_major": 2,
       "version_minor": 0
      },
      "text/plain": [
       "Running Epoch 168 of 200:   0%|          | 0/76 [00:00<?, ?it/s]"
      ]
     },
     "metadata": {},
     "output_type": "display_data"
    },
    {
     "data": {
      "application/vnd.jupyter.widget-view+json": {
       "model_id": "c079c03666f5496bbfc501c33b3d48c7",
       "version_major": 2,
       "version_minor": 0
      },
      "text/plain": [
       "Running Epoch 169 of 200:   0%|          | 0/76 [00:00<?, ?it/s]"
      ]
     },
     "metadata": {},
     "output_type": "display_data"
    },
    {
     "data": {
      "application/vnd.jupyter.widget-view+json": {
       "model_id": "b8ad085c165242b8bb4a147d974731e2",
       "version_major": 2,
       "version_minor": 0
      },
      "text/plain": [
       "Running Epoch 170 of 200:   0%|          | 0/76 [00:00<?, ?it/s]"
      ]
     },
     "metadata": {},
     "output_type": "display_data"
    },
    {
     "data": {
      "application/vnd.jupyter.widget-view+json": {
       "model_id": "975996bfe8574e61a1c925388e579bad",
       "version_major": 2,
       "version_minor": 0
      },
      "text/plain": [
       "Running Epoch 171 of 200:   0%|          | 0/76 [00:00<?, ?it/s]"
      ]
     },
     "metadata": {},
     "output_type": "display_data"
    },
    {
     "data": {
      "application/vnd.jupyter.widget-view+json": {
       "model_id": "c8b5504893d94cd088b984918931a6d9",
       "version_major": 2,
       "version_minor": 0
      },
      "text/plain": [
       "Running Epoch 172 of 200:   0%|          | 0/76 [00:00<?, ?it/s]"
      ]
     },
     "metadata": {},
     "output_type": "display_data"
    },
    {
     "data": {
      "application/vnd.jupyter.widget-view+json": {
       "model_id": "5dfbe7bfb7964ccb9db18ef624a593a2",
       "version_major": 2,
       "version_minor": 0
      },
      "text/plain": [
       "Running Epoch 173 of 200:   0%|          | 0/76 [00:00<?, ?it/s]"
      ]
     },
     "metadata": {},
     "output_type": "display_data"
    },
    {
     "data": {
      "application/vnd.jupyter.widget-view+json": {
       "model_id": "87b46e1e816f4a8f97269045a65ef3b3",
       "version_major": 2,
       "version_minor": 0
      },
      "text/plain": [
       "Running Epoch 174 of 200:   0%|          | 0/76 [00:00<?, ?it/s]"
      ]
     },
     "metadata": {},
     "output_type": "display_data"
    },
    {
     "data": {
      "application/vnd.jupyter.widget-view+json": {
       "model_id": "4db148c8fcb243bbb0df86afc6372211",
       "version_major": 2,
       "version_minor": 0
      },
      "text/plain": [
       "Running Epoch 175 of 200:   0%|          | 0/76 [00:00<?, ?it/s]"
      ]
     },
     "metadata": {},
     "output_type": "display_data"
    },
    {
     "data": {
      "application/vnd.jupyter.widget-view+json": {
       "model_id": "f6806b980bb2469facdd61da10eb7606",
       "version_major": 2,
       "version_minor": 0
      },
      "text/plain": [
       "Running Epoch 176 of 200:   0%|          | 0/76 [00:00<?, ?it/s]"
      ]
     },
     "metadata": {},
     "output_type": "display_data"
    },
    {
     "data": {
      "application/vnd.jupyter.widget-view+json": {
       "model_id": "c40a4567765b4d888735bb0eab58887d",
       "version_major": 2,
       "version_minor": 0
      },
      "text/plain": [
       "Running Epoch 177 of 200:   0%|          | 0/76 [00:00<?, ?it/s]"
      ]
     },
     "metadata": {},
     "output_type": "display_data"
    },
    {
     "data": {
      "application/vnd.jupyter.widget-view+json": {
       "model_id": "03d8620b02894690bc02f0b897745b7a",
       "version_major": 2,
       "version_minor": 0
      },
      "text/plain": [
       "Running Epoch 178 of 200:   0%|          | 0/76 [00:00<?, ?it/s]"
      ]
     },
     "metadata": {},
     "output_type": "display_data"
    },
    {
     "data": {
      "application/vnd.jupyter.widget-view+json": {
       "model_id": "24a2106e1caa4af1889b90db3da92405",
       "version_major": 2,
       "version_minor": 0
      },
      "text/plain": [
       "Running Epoch 179 of 200:   0%|          | 0/76 [00:00<?, ?it/s]"
      ]
     },
     "metadata": {},
     "output_type": "display_data"
    },
    {
     "data": {
      "application/vnd.jupyter.widget-view+json": {
       "model_id": "fd8c1026b6a04039b5878748b9ce2b68",
       "version_major": 2,
       "version_minor": 0
      },
      "text/plain": [
       "Running Epoch 180 of 200:   0%|          | 0/76 [00:00<?, ?it/s]"
      ]
     },
     "metadata": {},
     "output_type": "display_data"
    },
    {
     "data": {
      "application/vnd.jupyter.widget-view+json": {
       "model_id": "6b73a7c560894fb8adce165e7da89ef3",
       "version_major": 2,
       "version_minor": 0
      },
      "text/plain": [
       "Running Epoch 181 of 200:   0%|          | 0/76 [00:00<?, ?it/s]"
      ]
     },
     "metadata": {},
     "output_type": "display_data"
    },
    {
     "data": {
      "application/vnd.jupyter.widget-view+json": {
       "model_id": "d51585eee06d4a7180411b26a2dc0a42",
       "version_major": 2,
       "version_minor": 0
      },
      "text/plain": [
       "Running Epoch 182 of 200:   0%|          | 0/76 [00:00<?, ?it/s]"
      ]
     },
     "metadata": {},
     "output_type": "display_data"
    },
    {
     "data": {
      "application/vnd.jupyter.widget-view+json": {
       "model_id": "b7a704a86a014f0ab2ad1d384d9c9759",
       "version_major": 2,
       "version_minor": 0
      },
      "text/plain": [
       "Running Epoch 183 of 200:   0%|          | 0/76 [00:00<?, ?it/s]"
      ]
     },
     "metadata": {},
     "output_type": "display_data"
    },
    {
     "data": {
      "application/vnd.jupyter.widget-view+json": {
       "model_id": "07747aa41d744841ae3d7e38880b93e1",
       "version_major": 2,
       "version_minor": 0
      },
      "text/plain": [
       "Running Epoch 184 of 200:   0%|          | 0/76 [00:00<?, ?it/s]"
      ]
     },
     "metadata": {},
     "output_type": "display_data"
    },
    {
     "data": {
      "application/vnd.jupyter.widget-view+json": {
       "model_id": "0d8795da69de422dbb31c847efa3e7b2",
       "version_major": 2,
       "version_minor": 0
      },
      "text/plain": [
       "Running Epoch 185 of 200:   0%|          | 0/76 [00:00<?, ?it/s]"
      ]
     },
     "metadata": {},
     "output_type": "display_data"
    },
    {
     "data": {
      "application/vnd.jupyter.widget-view+json": {
       "model_id": "0f92d241f1dc4a9c9afcf59d52835106",
       "version_major": 2,
       "version_minor": 0
      },
      "text/plain": [
       "Running Epoch 186 of 200:   0%|          | 0/76 [00:00<?, ?it/s]"
      ]
     },
     "metadata": {},
     "output_type": "display_data"
    },
    {
     "data": {
      "application/vnd.jupyter.widget-view+json": {
       "model_id": "91dbeb8ad8414c9b8cca89b93b575af3",
       "version_major": 2,
       "version_minor": 0
      },
      "text/plain": [
       "Running Epoch 187 of 200:   0%|          | 0/76 [00:00<?, ?it/s]"
      ]
     },
     "metadata": {},
     "output_type": "display_data"
    },
    {
     "data": {
      "application/vnd.jupyter.widget-view+json": {
       "model_id": "85b6a94c190846d7b83bf506c6ae54f3",
       "version_major": 2,
       "version_minor": 0
      },
      "text/plain": [
       "Running Epoch 188 of 200:   0%|          | 0/76 [00:00<?, ?it/s]"
      ]
     },
     "metadata": {},
     "output_type": "display_data"
    },
    {
     "data": {
      "application/vnd.jupyter.widget-view+json": {
       "model_id": "d62ce061cb4e45c5a8994acbd3ecb3c9",
       "version_major": 2,
       "version_minor": 0
      },
      "text/plain": [
       "Running Epoch 189 of 200:   0%|          | 0/76 [00:00<?, ?it/s]"
      ]
     },
     "metadata": {},
     "output_type": "display_data"
    },
    {
     "data": {
      "application/vnd.jupyter.widget-view+json": {
       "model_id": "a54815a0dcdb4df9b8280b6d9e1d0f9d",
       "version_major": 2,
       "version_minor": 0
      },
      "text/plain": [
       "Running Epoch 190 of 200:   0%|          | 0/76 [00:00<?, ?it/s]"
      ]
     },
     "metadata": {},
     "output_type": "display_data"
    },
    {
     "data": {
      "application/vnd.jupyter.widget-view+json": {
       "model_id": "df2af478d56145389c4af3ba47beb958",
       "version_major": 2,
       "version_minor": 0
      },
      "text/plain": [
       "Running Epoch 191 of 200:   0%|          | 0/76 [00:00<?, ?it/s]"
      ]
     },
     "metadata": {},
     "output_type": "display_data"
    },
    {
     "data": {
      "application/vnd.jupyter.widget-view+json": {
       "model_id": "4af6710b6a9c4b45beccdd05c34d3056",
       "version_major": 2,
       "version_minor": 0
      },
      "text/plain": [
       "Running Epoch 192 of 200:   0%|          | 0/76 [00:00<?, ?it/s]"
      ]
     },
     "metadata": {},
     "output_type": "display_data"
    },
    {
     "data": {
      "application/vnd.jupyter.widget-view+json": {
       "model_id": "0164f8e0ef4f49b6bbb0b7c24ac27098",
       "version_major": 2,
       "version_minor": 0
      },
      "text/plain": [
       "Running Epoch 193 of 200:   0%|          | 0/76 [00:00<?, ?it/s]"
      ]
     },
     "metadata": {},
     "output_type": "display_data"
    },
    {
     "data": {
      "application/vnd.jupyter.widget-view+json": {
       "model_id": "05b8e29dcf234cee806a7f22d277b17d",
       "version_major": 2,
       "version_minor": 0
      },
      "text/plain": [
       "Running Epoch 194 of 200:   0%|          | 0/76 [00:00<?, ?it/s]"
      ]
     },
     "metadata": {},
     "output_type": "display_data"
    },
    {
     "data": {
      "application/vnd.jupyter.widget-view+json": {
       "model_id": "451082c0189f4c5593ed4a6ae0bb2e0d",
       "version_major": 2,
       "version_minor": 0
      },
      "text/plain": [
       "Running Epoch 195 of 200:   0%|          | 0/76 [00:00<?, ?it/s]"
      ]
     },
     "metadata": {},
     "output_type": "display_data"
    },
    {
     "data": {
      "application/vnd.jupyter.widget-view+json": {
       "model_id": "0cde0ab281e34afd9bf365dac60d7f8b",
       "version_major": 2,
       "version_minor": 0
      },
      "text/plain": [
       "Running Epoch 196 of 200:   0%|          | 0/76 [00:00<?, ?it/s]"
      ]
     },
     "metadata": {},
     "output_type": "display_data"
    },
    {
     "data": {
      "application/vnd.jupyter.widget-view+json": {
       "model_id": "c6b3980d7a534ee28a53a13c107f3dd8",
       "version_major": 2,
       "version_minor": 0
      },
      "text/plain": [
       "Running Epoch 197 of 200:   0%|          | 0/76 [00:00<?, ?it/s]"
      ]
     },
     "metadata": {},
     "output_type": "display_data"
    },
    {
     "data": {
      "application/vnd.jupyter.widget-view+json": {
       "model_id": "2923e5508aa547ca8c246dd771f562a1",
       "version_major": 2,
       "version_minor": 0
      },
      "text/plain": [
       "Running Epoch 198 of 200:   0%|          | 0/76 [00:00<?, ?it/s]"
      ]
     },
     "metadata": {},
     "output_type": "display_data"
    },
    {
     "data": {
      "application/vnd.jupyter.widget-view+json": {
       "model_id": "5314259428ca4ad4b3bfa075081ac028",
       "version_major": 2,
       "version_minor": 0
      },
      "text/plain": [
       "Running Epoch 199 of 200:   0%|          | 0/76 [00:00<?, ?it/s]"
      ]
     },
     "metadata": {},
     "output_type": "display_data"
    },
    {
     "data": {
      "application/vnd.jupyter.widget-view+json": {
       "model_id": "c584ad899b8743b198632495b25cb5d1",
       "version_major": 2,
       "version_minor": 0
      },
      "text/plain": [
       "Running Epoch 200 of 200:   0%|          | 0/76 [00:00<?, ?it/s]"
      ]
     },
     "metadata": {},
     "output_type": "display_data"
    },
    {
     "data": {
      "application/vnd.jupyter.widget-view+json": {
       "model_id": "696fd5657d834a4198b11c896ad69fc3",
       "version_major": 2,
       "version_minor": 0
      },
      "text/plain": [
       "Running Evaluation:   0%|          | 0/10 [00:00<?, ?it/s]"
      ]
     },
     "metadata": {},
     "output_type": "display_data"
    }
   ],
   "source": [
    "from simpletransformers.classification import MultiLabelClassificationModel, MultiLabelClassificationArgs\n",
    "ta_multi_model_args = MultiLabelClassificationArgs()\n",
    "ta_multi_model_args.reprocess_input_data = True\n",
    "ta_multi_model_args.overwrite_output_dir = True\n",
    "ta_multi_model_args.evaluate_during_training = True\n",
    "ta_multi_model_args.manual_seed = 4\n",
    "ta_multi_model_args.use_multiprocessing = False\n",
    "ta_multi_model_args.use_multiprocessing_for_evaluation = False\n",
    "ta_multi_model_args.use_multiprocessed_decoding = False\n",
    "ta_multi_model_args.train_batch_size = 16\n",
    "ta_multi_model_args.eval_batch_size = 16\n",
    "ta_multi_model_args.num_train_epochs = 200\n",
    "ta_multi_model_args.learning_rate = 5e-5\n",
    "ta_multi_model_args.use_early_stopping = True\n",
    "ta_multi_model_args.early_stopping_delta = 0.001\n",
    "ta_multi_model_args.early_stopping_metric = \"eval_loss\"\n",
    "ta_multi_model_args.early_stopping_metric_minimize = True\n",
    "ta_multi_model_args.early_stopping_patience = 6\n",
    "ta_multi_model_args.evaluate_during_training_steps = 1000\n",
    "ta_multi_model_args.output_dir = f'./outputs_distilbert/{time_now}/tactic_multi/'\n",
    "ta_multi_model_args.tensorboard_dir = f\"{time_now}_logs_temp_ta/\"\n",
    "ta_multi_model_args.evaluate_during_training = True\n",
    "ta_multi_model_args.evaluate_during_training_verbose = True  # 顯示所有 metrics\n",
    "ta_multi_model_args.evaluate_each_epoch = True\n",
    "ta_multi_model_args.evaluate_during_training_steps = -1  # 或設一個很大值\n",
    "\n",
    "\n",
    "\n",
    "from sklearn.metrics import coverage_error, label_ranking_loss\n",
    "ta_multi_model = MultiLabelClassificationModel(\n",
    "    'distilbert',\n",
    "    'distilbert-base-uncased',\n",
    "    use_cuda=True,\n",
    "    num_labels=len(TACTIC),\n",
    "    args=ta_multi_model_args,\n",
    ")\n",
    "\n",
    "ta_multi_model.train_model(\n",
    "    df_ta_train, \n",
    "    eval_df=df_ta_test, \n",
    "    coverr=coverage_error, \n",
    "    lrloss=label_ranking_loss,\n",
    "    verbose=True,\n",
    "    **{\n",
    "        \"metric\": multi_label_metrics_ta\n",
    "    }\n",
    "    )\n",
    "ta_result, ta_model_outputs, ta_wrong_predictions = ta_multi_model.eval_model(df_ta_test)\n",
    "\n",
    "\n",
    "ta_multi_model = MultiLabelClassificationModel(\n",
    "    'distilbert',\n",
    "    f'./outputs_distilbert/{time_now}/tactic_multi'\n",
    ")\n",
    "\n"
   ]
  },
  {
   "cell_type": "code",
   "execution_count": 20,
   "id": "fd3cf639",
   "metadata": {},
   "outputs": [
    {
     "data": {
      "application/vnd.jupyter.widget-view+json": {
       "model_id": "d206edec873d41b69d92100655b3871f",
       "version_major": 2,
       "version_minor": 0
      },
      "text/plain": [
       "  0%|          | 0/10 [00:00<?, ?it/s]"
      ]
     },
     "metadata": {},
     "output_type": "display_data"
    },
    {
     "name": "stdout",
     "output_type": "stream",
     "text": [
      "Tactic--------------------------------------------------------\n",
      "Coverage error: 4.006579\n",
      "LRAP: 0.718783\n",
      "Label ranking loss: 0.141385\n",
      "Hamming loss: 0.093985\n",
      "Precision score(samples): 0.506579\n",
      "Precision score(macro): 0.353523\n",
      "Precision score(micro): 0.608466\n",
      "Recall score(samples): 0.476974\n",
      "Recall score(macro): 0.282992\n",
      "Recall score(micro): 0.477178\n",
      "F1 score(samples): 0.466009\n",
      "F1 score(macro): 0.307735\n",
      "F1 score(micro): 0.534884\n",
      "F0.5 score(samples): 0.482342\n",
      "F0.5 score(macro): 0.331006\n",
      "F0.5 score(micro): 0.576730\n",
      "Accuracy score: 0.243421\n"
     ]
    }
   ],
   "source": [
    "ta_model_outputs = ta_multi_model.predict(list(df_ta_test['text']))[1]\n",
    "\n",
    "ta_true = np.array([])\n",
    "ta_true = np.append(ta_true, [row for row in df.iloc[df_ta_test.index]['tactic_label']])\n",
    "ta_true = ta_true.reshape(len(ta_model_outputs), -1)\n",
    "\n",
    "print('Tactic--------------------------------------------------------')\n",
    "print('Coverage error: %f' % coverage_error(ta_true, ta_model_outputs))\n",
    "print('LRAP: %f' % label_ranking_average_precision_score(ta_true, ta_model_outputs))\n",
    "print('Label ranking loss: %f' % label_ranking_loss(ta_true, ta_model_outputs))\n",
    "\n",
    "ta_model_outputs_bi = (ta_model_outputs > 0.5).astype(np.int_)\n",
    "print('Hamming loss: %f' % hamming_loss(ta_true, ta_model_outputs_bi))\n",
    "print('Precision score(samples): %f' % precision_score(ta_true, ta_model_outputs_bi, average='samples', zero_division=0))\n",
    "print('Precision score(macro): %f' % precision_score(ta_true, ta_model_outputs_bi, average='macro', zero_division=0))\n",
    "print('Precision score(micro): %f' % precision_score(ta_true, ta_model_outputs_bi, average='micro', zero_division=0))\n",
    "print('Recall score(samples): %f' % recall_score(ta_true, ta_model_outputs_bi, average='samples', zero_division=0))\n",
    "print('Recall score(macro): %f' % recall_score(ta_true, ta_model_outputs_bi, average='macro', zero_division=0))\n",
    "print('Recall score(micro): %f' % recall_score(ta_true, ta_model_outputs_bi, average='micro', zero_division=0))\n",
    "print('F1 score(samples): %f' % f1_score(ta_true, ta_model_outputs_bi, average='samples', zero_division=0))\n",
    "print('F1 score(macro): %f' % f1_score(ta_true, ta_model_outputs_bi, average='macro', zero_division=0))\n",
    "print('F1 score(micro): %f' % f1_score(ta_true, ta_model_outputs_bi, average='micro', zero_division=0))\n",
    "print('F0.5 score(samples): %f' % fbeta_score(ta_true, ta_model_outputs_bi, beta=0.5, average='samples', zero_division=0))\n",
    "print('F0.5 score(macro): %f' % fbeta_score(ta_true, ta_model_outputs_bi, beta=0.5, average='macro', zero_division=0))\n",
    "print('F0.5 score(micro): %f' % fbeta_score(ta_true, ta_model_outputs_bi, beta=0.5, average='micro', zero_division=0))\n",
    "print('Accuracy score: %f' % accuracy_score(ta_true, ta_model_outputs_bi))"
   ]
  },
  {
   "cell_type": "markdown",
   "id": "3b794886",
   "metadata": {},
   "source": [
    "# Technique_multi model"
   ]
  },
  {
   "cell_type": "code",
   "execution_count": null,
   "id": "8b148c51",
   "metadata": {},
   "outputs": [],
   "source": [
    "metrics_log_te = []  # 全域記錄每個 epoch 的 metrics\n",
    "def multi_label_metrics_te(labels, preds):\n",
    "    preds_binary = (preds > 0.5).astype(int)\n",
    "\n",
    "    results = {}\n",
    "\n",
    "    # 二值型 metrics（分類）\n",
    "    results.update({\n",
    "        \"hamming_loss\": hamming_loss(labels, preds_binary),\n",
    "        \"f1_sample\": f1_score(labels, preds_binary, average=\"samples\", zero_division=0),\n",
    "        \"f1_micro\": f1_score(labels, preds_binary, average=\"micro\", zero_division=0),\n",
    "        \"f1_macro\": f1_score(labels, preds_binary, average=\"macro\", zero_division=0),\n",
    "        \"f_05_sample\": fbeta_score(labels, preds_binary, beta=0.5, average=\"samples\", zero_division=0),\n",
    "        \"f_05_micro\": fbeta_score(labels, preds_binary, beta=0.5, average=\"micro\", zero_division=0),\n",
    "        \"f_05_macro\": fbeta_score(labels, preds_binary, beta=0.5, average=\"macro\", zero_division=0),\n",
    "        \"precision_samples\": precision_score(labels, preds_binary, average=\"samples\", zero_division=0),\n",
    "        \"precision_micro\": precision_score(labels, preds_binary, average=\"micro\", zero_division=0),\n",
    "        \"precision_macro\": precision_score(labels, preds_binary, average=\"macro\", zero_division=0),\n",
    "        \"recall_samples\": recall_score(labels, preds_binary, average=\"samples\", zero_division=0),\n",
    "        \"recall_micro\": recall_score(labels, preds_binary, average=\"micro\", zero_division=0),\n",
    "        \"recall_macro\": recall_score(labels, preds_binary, average=\"macro\", zero_division=0),\n",
    "        \"accuracy\": accuracy_score(labels, preds_binary),\n",
    "\n",
    "    })\n",
    "\n",
    "    # 連續型 metrics（排序）\n",
    "    labels_float = labels.astype(float)\n",
    "    results.update({\n",
    "        \"coverage_error\": coverage_error(labels_float, preds),\n",
    "        \"label_ranking_loss\": label_ranking_loss(labels_float, preds),\n",
    "        \"lrap\": label_ranking_average_precision_score(labels_float, preds),\n",
    "    })\n",
    "\n",
    "    # print(f\"Metrics: {results}\")\n",
    "\n",
    "    metrics_log_te.append(results.copy())\n",
    "\n",
    "    return results"
   ]
  },
  {
   "cell_type": "code",
   "execution_count": null,
   "id": "74496f36",
   "metadata": {},
   "outputs": [
    {
     "name": "stderr",
     "output_type": "stream",
     "text": [
      "Some weights of DistilBertForMultiLabelSequenceClassification were not initialized from the model checkpoint at distilbert-base-uncased and are newly initialized: ['classifier.bias', 'classifier.weight', 'pre_classifier.bias', 'pre_classifier.weight']\n",
      "You should probably TRAIN this model on a down-stream task to be able to use it for predictions and inference.\n"
     ]
    },
    {
     "data": {
      "application/vnd.jupyter.widget-view+json": {
       "model_id": "86a257ed235b44b9bcbe950c615d34fc",
       "version_major": 2,
       "version_minor": 0
      },
      "text/plain": [
       "Epoch:   0%|          | 0/400 [00:00<?, ?it/s]"
      ]
     },
     "metadata": {},
     "output_type": "display_data"
    },
    {
     "data": {
      "application/vnd.jupyter.widget-view+json": {
       "model_id": "3b309d82ff3e4a29b53cbe98b4a42da0",
       "version_major": 2,
       "version_minor": 0
      },
      "text/plain": [
       "Running Epoch 1 of 400:   0%|          | 0/76 [00:00<?, ?it/s]"
      ]
     },
     "metadata": {},
     "output_type": "display_data"
    },
    {
     "data": {
      "application/vnd.jupyter.widget-view+json": {
       "model_id": "f3ee9641b5f2402fb01e768fc2f57eac",
       "version_major": 2,
       "version_minor": 0
      },
      "text/plain": [
       "Running Epoch 2 of 400:   0%|          | 0/76 [00:00<?, ?it/s]"
      ]
     },
     "metadata": {},
     "output_type": "display_data"
    },
    {
     "data": {
      "application/vnd.jupyter.widget-view+json": {
       "model_id": "3498464770534913b326ede81f5b5d8a",
       "version_major": 2,
       "version_minor": 0
      },
      "text/plain": [
       "Running Epoch 3 of 400:   0%|          | 0/76 [00:00<?, ?it/s]"
      ]
     },
     "metadata": {},
     "output_type": "display_data"
    },
    {
     "data": {
      "application/vnd.jupyter.widget-view+json": {
       "model_id": "3a68b9c953934745aa06f9dc0329eaa4",
       "version_major": 2,
       "version_minor": 0
      },
      "text/plain": [
       "Running Epoch 4 of 400:   0%|          | 0/76 [00:00<?, ?it/s]"
      ]
     },
     "metadata": {},
     "output_type": "display_data"
    },
    {
     "data": {
      "application/vnd.jupyter.widget-view+json": {
       "model_id": "fe79a8d6bb474a50a3f35e5adcba3e2d",
       "version_major": 2,
       "version_minor": 0
      },
      "text/plain": [
       "Running Epoch 5 of 400:   0%|          | 0/76 [00:00<?, ?it/s]"
      ]
     },
     "metadata": {},
     "output_type": "display_data"
    },
    {
     "data": {
      "application/vnd.jupyter.widget-view+json": {
       "model_id": "e631cb6b3b444d9eb96cec705377f64a",
       "version_major": 2,
       "version_minor": 0
      },
      "text/plain": [
       "Running Epoch 6 of 400:   0%|          | 0/76 [00:00<?, ?it/s]"
      ]
     },
     "metadata": {},
     "output_type": "display_data"
    },
    {
     "data": {
      "application/vnd.jupyter.widget-view+json": {
       "model_id": "0628084f8e6441c4b7627acd9bd19535",
       "version_major": 2,
       "version_minor": 0
      },
      "text/plain": [
       "Running Epoch 7 of 400:   0%|          | 0/76 [00:00<?, ?it/s]"
      ]
     },
     "metadata": {},
     "output_type": "display_data"
    },
    {
     "data": {
      "application/vnd.jupyter.widget-view+json": {
       "model_id": "212707f63ace4f32b54076f0ea181ae2",
       "version_major": 2,
       "version_minor": 0
      },
      "text/plain": [
       "Running Epoch 8 of 400:   0%|          | 0/76 [00:00<?, ?it/s]"
      ]
     },
     "metadata": {},
     "output_type": "display_data"
    },
    {
     "data": {
      "application/vnd.jupyter.widget-view+json": {
       "model_id": "4601727131f64a9c9cca9f4b1743d6a3",
       "version_major": 2,
       "version_minor": 0
      },
      "text/plain": [
       "Running Epoch 9 of 400:   0%|          | 0/76 [00:00<?, ?it/s]"
      ]
     },
     "metadata": {},
     "output_type": "display_data"
    },
    {
     "data": {
      "application/vnd.jupyter.widget-view+json": {
       "model_id": "00a7319d91be461f8a9ee38932f6621e",
       "version_major": 2,
       "version_minor": 0
      },
      "text/plain": [
       "Running Epoch 10 of 400:   0%|          | 0/76 [00:00<?, ?it/s]"
      ]
     },
     "metadata": {},
     "output_type": "display_data"
    },
    {
     "data": {
      "application/vnd.jupyter.widget-view+json": {
       "model_id": "1253980ab165465aa002da35a216e710",
       "version_major": 2,
       "version_minor": 0
      },
      "text/plain": [
       "Running Epoch 11 of 400:   0%|          | 0/76 [00:00<?, ?it/s]"
      ]
     },
     "metadata": {},
     "output_type": "display_data"
    },
    {
     "data": {
      "application/vnd.jupyter.widget-view+json": {
       "model_id": "cc8913a99c9a4d738331f31fa8ae7a92",
       "version_major": 2,
       "version_minor": 0
      },
      "text/plain": [
       "Running Epoch 12 of 400:   0%|          | 0/76 [00:00<?, ?it/s]"
      ]
     },
     "metadata": {},
     "output_type": "display_data"
    },
    {
     "data": {
      "application/vnd.jupyter.widget-view+json": {
       "model_id": "51b685a73e484346b11c4104eb4932b6",
       "version_major": 2,
       "version_minor": 0
      },
      "text/plain": [
       "Running Epoch 13 of 400:   0%|          | 0/76 [00:00<?, ?it/s]"
      ]
     },
     "metadata": {},
     "output_type": "display_data"
    },
    {
     "data": {
      "application/vnd.jupyter.widget-view+json": {
       "model_id": "6454096812ca413ba89c62f898ed60be",
       "version_major": 2,
       "version_minor": 0
      },
      "text/plain": [
       "Running Epoch 14 of 400:   0%|          | 0/76 [00:00<?, ?it/s]"
      ]
     },
     "metadata": {},
     "output_type": "display_data"
    },
    {
     "data": {
      "application/vnd.jupyter.widget-view+json": {
       "model_id": "4151d7aef856476397e3f475a31da103",
       "version_major": 2,
       "version_minor": 0
      },
      "text/plain": [
       "Running Epoch 15 of 400:   0%|          | 0/76 [00:00<?, ?it/s]"
      ]
     },
     "metadata": {},
     "output_type": "display_data"
    },
    {
     "data": {
      "application/vnd.jupyter.widget-view+json": {
       "model_id": "b2eee21362a34b8888783b690f1cf548",
       "version_major": 2,
       "version_minor": 0
      },
      "text/plain": [
       "Running Epoch 16 of 400:   0%|          | 0/76 [00:00<?, ?it/s]"
      ]
     },
     "metadata": {},
     "output_type": "display_data"
    },
    {
     "data": {
      "application/vnd.jupyter.widget-view+json": {
       "model_id": "c5c9d2a98f1a4603bcb7b57eb8ef8ffa",
       "version_major": 2,
       "version_minor": 0
      },
      "text/plain": [
       "Running Epoch 17 of 400:   0%|          | 0/76 [00:00<?, ?it/s]"
      ]
     },
     "metadata": {},
     "output_type": "display_data"
    },
    {
     "data": {
      "application/vnd.jupyter.widget-view+json": {
       "model_id": "049d50d7c27c46c6b83dcf884f750166",
       "version_major": 2,
       "version_minor": 0
      },
      "text/plain": [
       "Running Epoch 18 of 400:   0%|          | 0/76 [00:00<?, ?it/s]"
      ]
     },
     "metadata": {},
     "output_type": "display_data"
    },
    {
     "data": {
      "application/vnd.jupyter.widget-view+json": {
       "model_id": "563462a185f74081889a3ab0c86274f3",
       "version_major": 2,
       "version_minor": 0
      },
      "text/plain": [
       "Running Epoch 19 of 400:   0%|          | 0/76 [00:00<?, ?it/s]"
      ]
     },
     "metadata": {},
     "output_type": "display_data"
    },
    {
     "data": {
      "application/vnd.jupyter.widget-view+json": {
       "model_id": "8956dc015ebf4f74bcfdd48eed008a58",
       "version_major": 2,
       "version_minor": 0
      },
      "text/plain": [
       "Running Epoch 20 of 400:   0%|          | 0/76 [00:00<?, ?it/s]"
      ]
     },
     "metadata": {},
     "output_type": "display_data"
    },
    {
     "data": {
      "application/vnd.jupyter.widget-view+json": {
       "model_id": "c8e06ce9505746d1b792978f675ed158",
       "version_major": 2,
       "version_minor": 0
      },
      "text/plain": [
       "Running Epoch 21 of 400:   0%|          | 0/76 [00:00<?, ?it/s]"
      ]
     },
     "metadata": {},
     "output_type": "display_data"
    },
    {
     "data": {
      "application/vnd.jupyter.widget-view+json": {
       "model_id": "b544cf32124a42659b4b1976c557e566",
       "version_major": 2,
       "version_minor": 0
      },
      "text/plain": [
       "Running Epoch 22 of 400:   0%|          | 0/76 [00:00<?, ?it/s]"
      ]
     },
     "metadata": {},
     "output_type": "display_data"
    },
    {
     "data": {
      "application/vnd.jupyter.widget-view+json": {
       "model_id": "7f49385de88b496b84d48218445d4d4b",
       "version_major": 2,
       "version_minor": 0
      },
      "text/plain": [
       "Running Epoch 23 of 400:   0%|          | 0/76 [00:00<?, ?it/s]"
      ]
     },
     "metadata": {},
     "output_type": "display_data"
    },
    {
     "data": {
      "application/vnd.jupyter.widget-view+json": {
       "model_id": "3a4aafc57e7944419b02ab68ffa20a19",
       "version_major": 2,
       "version_minor": 0
      },
      "text/plain": [
       "Running Epoch 24 of 400:   0%|          | 0/76 [00:00<?, ?it/s]"
      ]
     },
     "metadata": {},
     "output_type": "display_data"
    },
    {
     "data": {
      "application/vnd.jupyter.widget-view+json": {
       "model_id": "36ea5dc98f544a908662ccb6977b429b",
       "version_major": 2,
       "version_minor": 0
      },
      "text/plain": [
       "Running Epoch 25 of 400:   0%|          | 0/76 [00:00<?, ?it/s]"
      ]
     },
     "metadata": {},
     "output_type": "display_data"
    },
    {
     "data": {
      "application/vnd.jupyter.widget-view+json": {
       "model_id": "4423b06828ae41bd8ccf73687dbb0b11",
       "version_major": 2,
       "version_minor": 0
      },
      "text/plain": [
       "Running Epoch 26 of 400:   0%|          | 0/76 [00:00<?, ?it/s]"
      ]
     },
     "metadata": {},
     "output_type": "display_data"
    },
    {
     "data": {
      "application/vnd.jupyter.widget-view+json": {
       "model_id": "37b88063a6104fe3a587d73942da1d65",
       "version_major": 2,
       "version_minor": 0
      },
      "text/plain": [
       "Running Epoch 27 of 400:   0%|          | 0/76 [00:00<?, ?it/s]"
      ]
     },
     "metadata": {},
     "output_type": "display_data"
    },
    {
     "data": {
      "application/vnd.jupyter.widget-view+json": {
       "model_id": "93b91bbda196491ca84786b93cd6a6dc",
       "version_major": 2,
       "version_minor": 0
      },
      "text/plain": [
       "Running Epoch 28 of 400:   0%|          | 0/76 [00:00<?, ?it/s]"
      ]
     },
     "metadata": {},
     "output_type": "display_data"
    },
    {
     "data": {
      "application/vnd.jupyter.widget-view+json": {
       "model_id": "051c5ab37c2343c48d8307b15cffc8c9",
       "version_major": 2,
       "version_minor": 0
      },
      "text/plain": [
       "Running Epoch 29 of 400:   0%|          | 0/76 [00:00<?, ?it/s]"
      ]
     },
     "metadata": {},
     "output_type": "display_data"
    },
    {
     "data": {
      "application/vnd.jupyter.widget-view+json": {
       "model_id": "5dde4a98d3d748bd8b2fd68436828448",
       "version_major": 2,
       "version_minor": 0
      },
      "text/plain": [
       "Running Epoch 30 of 400:   0%|          | 0/76 [00:00<?, ?it/s]"
      ]
     },
     "metadata": {},
     "output_type": "display_data"
    },
    {
     "data": {
      "application/vnd.jupyter.widget-view+json": {
       "model_id": "bd462c91e0bc41bfacc169332be05f4f",
       "version_major": 2,
       "version_minor": 0
      },
      "text/plain": [
       "Running Epoch 31 of 400:   0%|          | 0/76 [00:00<?, ?it/s]"
      ]
     },
     "metadata": {},
     "output_type": "display_data"
    },
    {
     "data": {
      "application/vnd.jupyter.widget-view+json": {
       "model_id": "cb3050f995a3420fa35465c3d2aada1e",
       "version_major": 2,
       "version_minor": 0
      },
      "text/plain": [
       "Running Epoch 32 of 400:   0%|          | 0/76 [00:00<?, ?it/s]"
      ]
     },
     "metadata": {},
     "output_type": "display_data"
    },
    {
     "data": {
      "application/vnd.jupyter.widget-view+json": {
       "model_id": "d2c333a1ea5c40d4b764348913a8e52f",
       "version_major": 2,
       "version_minor": 0
      },
      "text/plain": [
       "Running Epoch 33 of 400:   0%|          | 0/76 [00:00<?, ?it/s]"
      ]
     },
     "metadata": {},
     "output_type": "display_data"
    },
    {
     "data": {
      "application/vnd.jupyter.widget-view+json": {
       "model_id": "ad08c5bf258a4c6cafde9ad92ae80236",
       "version_major": 2,
       "version_minor": 0
      },
      "text/plain": [
       "Running Epoch 34 of 400:   0%|          | 0/76 [00:00<?, ?it/s]"
      ]
     },
     "metadata": {},
     "output_type": "display_data"
    },
    {
     "data": {
      "application/vnd.jupyter.widget-view+json": {
       "model_id": "a91fb42098634e9995b313c5d4ae0618",
       "version_major": 2,
       "version_minor": 0
      },
      "text/plain": [
       "Running Epoch 35 of 400:   0%|          | 0/76 [00:00<?, ?it/s]"
      ]
     },
     "metadata": {},
     "output_type": "display_data"
    },
    {
     "data": {
      "application/vnd.jupyter.widget-view+json": {
       "model_id": "916aa39a7c024d86a888c921b992caeb",
       "version_major": 2,
       "version_minor": 0
      },
      "text/plain": [
       "Running Epoch 36 of 400:   0%|          | 0/76 [00:00<?, ?it/s]"
      ]
     },
     "metadata": {},
     "output_type": "display_data"
    },
    {
     "data": {
      "application/vnd.jupyter.widget-view+json": {
       "model_id": "11329c15a79a49b2a7ecc1c8333108c1",
       "version_major": 2,
       "version_minor": 0
      },
      "text/plain": [
       "Running Epoch 37 of 400:   0%|          | 0/76 [00:00<?, ?it/s]"
      ]
     },
     "metadata": {},
     "output_type": "display_data"
    },
    {
     "data": {
      "application/vnd.jupyter.widget-view+json": {
       "model_id": "2201c79e6a7d4f55b1e9a0f25dd5986d",
       "version_major": 2,
       "version_minor": 0
      },
      "text/plain": [
       "Running Epoch 38 of 400:   0%|          | 0/76 [00:00<?, ?it/s]"
      ]
     },
     "metadata": {},
     "output_type": "display_data"
    },
    {
     "data": {
      "application/vnd.jupyter.widget-view+json": {
       "model_id": "a160db6e29784b60a4ef3c8f0c2c8398",
       "version_major": 2,
       "version_minor": 0
      },
      "text/plain": [
       "Running Epoch 39 of 400:   0%|          | 0/76 [00:00<?, ?it/s]"
      ]
     },
     "metadata": {},
     "output_type": "display_data"
    },
    {
     "data": {
      "application/vnd.jupyter.widget-view+json": {
       "model_id": "cf55f50bf5ce46e399d45c9576cfa96d",
       "version_major": 2,
       "version_minor": 0
      },
      "text/plain": [
       "Running Epoch 40 of 400:   0%|          | 0/76 [00:00<?, ?it/s]"
      ]
     },
     "metadata": {},
     "output_type": "display_data"
    },
    {
     "data": {
      "application/vnd.jupyter.widget-view+json": {
       "model_id": "0a66cbd063d24d3bb39ad4bf759e3322",
       "version_major": 2,
       "version_minor": 0
      },
      "text/plain": [
       "Running Epoch 41 of 400:   0%|          | 0/76 [00:00<?, ?it/s]"
      ]
     },
     "metadata": {},
     "output_type": "display_data"
    },
    {
     "data": {
      "application/vnd.jupyter.widget-view+json": {
       "model_id": "947d9ba9525a4a999b10978968f07630",
       "version_major": 2,
       "version_minor": 0
      },
      "text/plain": [
       "Running Epoch 42 of 400:   0%|          | 0/76 [00:00<?, ?it/s]"
      ]
     },
     "metadata": {},
     "output_type": "display_data"
    },
    {
     "data": {
      "application/vnd.jupyter.widget-view+json": {
       "model_id": "cec530b424aa42f1b3252059eb2c95c9",
       "version_major": 2,
       "version_minor": 0
      },
      "text/plain": [
       "Running Epoch 43 of 400:   0%|          | 0/76 [00:00<?, ?it/s]"
      ]
     },
     "metadata": {},
     "output_type": "display_data"
    },
    {
     "data": {
      "application/vnd.jupyter.widget-view+json": {
       "model_id": "7b6e95459cfa4a3fa151618ee074f8ac",
       "version_major": 2,
       "version_minor": 0
      },
      "text/plain": [
       "Running Epoch 44 of 400:   0%|          | 0/76 [00:00<?, ?it/s]"
      ]
     },
     "metadata": {},
     "output_type": "display_data"
    },
    {
     "data": {
      "application/vnd.jupyter.widget-view+json": {
       "model_id": "1bb6b841180c49619e02ebc0d17a5384",
       "version_major": 2,
       "version_minor": 0
      },
      "text/plain": [
       "Running Epoch 45 of 400:   0%|          | 0/76 [00:00<?, ?it/s]"
      ]
     },
     "metadata": {},
     "output_type": "display_data"
    },
    {
     "data": {
      "application/vnd.jupyter.widget-view+json": {
       "model_id": "d18b1efeb1424fac95085f288cb6f9be",
       "version_major": 2,
       "version_minor": 0
      },
      "text/plain": [
       "Running Epoch 46 of 400:   0%|          | 0/76 [00:00<?, ?it/s]"
      ]
     },
     "metadata": {},
     "output_type": "display_data"
    },
    {
     "data": {
      "application/vnd.jupyter.widget-view+json": {
       "model_id": "8ee490a887a744f89c71aedf3958d160",
       "version_major": 2,
       "version_minor": 0
      },
      "text/plain": [
       "Running Epoch 47 of 400:   0%|          | 0/76 [00:00<?, ?it/s]"
      ]
     },
     "metadata": {},
     "output_type": "display_data"
    },
    {
     "data": {
      "application/vnd.jupyter.widget-view+json": {
       "model_id": "96eb4a396ffe425e8c4e6e5ad9cdfa4b",
       "version_major": 2,
       "version_minor": 0
      },
      "text/plain": [
       "Running Epoch 48 of 400:   0%|          | 0/76 [00:00<?, ?it/s]"
      ]
     },
     "metadata": {},
     "output_type": "display_data"
    },
    {
     "data": {
      "application/vnd.jupyter.widget-view+json": {
       "model_id": "ae2bc2763a6e43498e1c6aaeddb7b075",
       "version_major": 2,
       "version_minor": 0
      },
      "text/plain": [
       "Running Epoch 49 of 400:   0%|          | 0/76 [00:00<?, ?it/s]"
      ]
     },
     "metadata": {},
     "output_type": "display_data"
    },
    {
     "data": {
      "application/vnd.jupyter.widget-view+json": {
       "model_id": "4077788c29404aa28cb426bdd1467d69",
       "version_major": 2,
       "version_minor": 0
      },
      "text/plain": [
       "Running Epoch 50 of 400:   0%|          | 0/76 [00:00<?, ?it/s]"
      ]
     },
     "metadata": {},
     "output_type": "display_data"
    },
    {
     "data": {
      "application/vnd.jupyter.widget-view+json": {
       "model_id": "69f3027927d0477294cff8ea1ab57183",
       "version_major": 2,
       "version_minor": 0
      },
      "text/plain": [
       "Running Epoch 51 of 400:   0%|          | 0/76 [00:00<?, ?it/s]"
      ]
     },
     "metadata": {},
     "output_type": "display_data"
    },
    {
     "data": {
      "application/vnd.jupyter.widget-view+json": {
       "model_id": "90f1baacd46f48df8e89a35fd0461d6e",
       "version_major": 2,
       "version_minor": 0
      },
      "text/plain": [
       "Running Epoch 52 of 400:   0%|          | 0/76 [00:00<?, ?it/s]"
      ]
     },
     "metadata": {},
     "output_type": "display_data"
    },
    {
     "data": {
      "application/vnd.jupyter.widget-view+json": {
       "model_id": "fadf9ea8711a45cba0c171cc545089a3",
       "version_major": 2,
       "version_minor": 0
      },
      "text/plain": [
       "Running Epoch 53 of 400:   0%|          | 0/76 [00:00<?, ?it/s]"
      ]
     },
     "metadata": {},
     "output_type": "display_data"
    },
    {
     "data": {
      "application/vnd.jupyter.widget-view+json": {
       "model_id": "6b09696813034d95848dc0e10cbd6a61",
       "version_major": 2,
       "version_minor": 0
      },
      "text/plain": [
       "Running Epoch 54 of 400:   0%|          | 0/76 [00:00<?, ?it/s]"
      ]
     },
     "metadata": {},
     "output_type": "display_data"
    },
    {
     "data": {
      "application/vnd.jupyter.widget-view+json": {
       "model_id": "223010db23c64298972a29155b862a4e",
       "version_major": 2,
       "version_minor": 0
      },
      "text/plain": [
       "Running Epoch 55 of 400:   0%|          | 0/76 [00:00<?, ?it/s]"
      ]
     },
     "metadata": {},
     "output_type": "display_data"
    },
    {
     "data": {
      "application/vnd.jupyter.widget-view+json": {
       "model_id": "c0ba630ec66541f9a95e3b857352c16c",
       "version_major": 2,
       "version_minor": 0
      },
      "text/plain": [
       "Running Epoch 56 of 400:   0%|          | 0/76 [00:00<?, ?it/s]"
      ]
     },
     "metadata": {},
     "output_type": "display_data"
    },
    {
     "data": {
      "application/vnd.jupyter.widget-view+json": {
       "model_id": "8191257fe9114f71b08ce2c64a44fa7f",
       "version_major": 2,
       "version_minor": 0
      },
      "text/plain": [
       "Running Epoch 57 of 400:   0%|          | 0/76 [00:00<?, ?it/s]"
      ]
     },
     "metadata": {},
     "output_type": "display_data"
    },
    {
     "data": {
      "application/vnd.jupyter.widget-view+json": {
       "model_id": "0b83bec8ad5746f18f9f7c58393f61ec",
       "version_major": 2,
       "version_minor": 0
      },
      "text/plain": [
       "Running Epoch 58 of 400:   0%|          | 0/76 [00:00<?, ?it/s]"
      ]
     },
     "metadata": {},
     "output_type": "display_data"
    },
    {
     "data": {
      "application/vnd.jupyter.widget-view+json": {
       "model_id": "35cfb42d02454e4fa9c47e6e7ebc434e",
       "version_major": 2,
       "version_minor": 0
      },
      "text/plain": [
       "Running Epoch 59 of 400:   0%|          | 0/76 [00:00<?, ?it/s]"
      ]
     },
     "metadata": {},
     "output_type": "display_data"
    },
    {
     "data": {
      "application/vnd.jupyter.widget-view+json": {
       "model_id": "683e0f712572467eb9ac2cf3d89e5728",
       "version_major": 2,
       "version_minor": 0
      },
      "text/plain": [
       "Running Epoch 60 of 400:   0%|          | 0/76 [00:00<?, ?it/s]"
      ]
     },
     "metadata": {},
     "output_type": "display_data"
    },
    {
     "data": {
      "application/vnd.jupyter.widget-view+json": {
       "model_id": "e80c880c5cc048f6b04722f944de837b",
       "version_major": 2,
       "version_minor": 0
      },
      "text/plain": [
       "Running Epoch 61 of 400:   0%|          | 0/76 [00:00<?, ?it/s]"
      ]
     },
     "metadata": {},
     "output_type": "display_data"
    },
    {
     "data": {
      "application/vnd.jupyter.widget-view+json": {
       "model_id": "91999f55c45b460485bac3ba43e9ba86",
       "version_major": 2,
       "version_minor": 0
      },
      "text/plain": [
       "Running Epoch 62 of 400:   0%|          | 0/76 [00:00<?, ?it/s]"
      ]
     },
     "metadata": {},
     "output_type": "display_data"
    },
    {
     "data": {
      "application/vnd.jupyter.widget-view+json": {
       "model_id": "e37658fc072746e385fc36489815c365",
       "version_major": 2,
       "version_minor": 0
      },
      "text/plain": [
       "Running Epoch 63 of 400:   0%|          | 0/76 [00:00<?, ?it/s]"
      ]
     },
     "metadata": {},
     "output_type": "display_data"
    },
    {
     "data": {
      "application/vnd.jupyter.widget-view+json": {
       "model_id": "26393b2a27184f26bd79a6bfccf6fd7e",
       "version_major": 2,
       "version_minor": 0
      },
      "text/plain": [
       "Running Epoch 64 of 400:   0%|          | 0/76 [00:00<?, ?it/s]"
      ]
     },
     "metadata": {},
     "output_type": "display_data"
    },
    {
     "data": {
      "application/vnd.jupyter.widget-view+json": {
       "model_id": "16f9361600ac4e74bcede358d2a7ae88",
       "version_major": 2,
       "version_minor": 0
      },
      "text/plain": [
       "Running Epoch 65 of 400:   0%|          | 0/76 [00:00<?, ?it/s]"
      ]
     },
     "metadata": {},
     "output_type": "display_data"
    },
    {
     "data": {
      "application/vnd.jupyter.widget-view+json": {
       "model_id": "b36b3548621f410c85ac220bfc3cd266",
       "version_major": 2,
       "version_minor": 0
      },
      "text/plain": [
       "Running Epoch 66 of 400:   0%|          | 0/76 [00:00<?, ?it/s]"
      ]
     },
     "metadata": {},
     "output_type": "display_data"
    },
    {
     "data": {
      "application/vnd.jupyter.widget-view+json": {
       "model_id": "50db17697a854656b5ed9e199ffc6b45",
       "version_major": 2,
       "version_minor": 0
      },
      "text/plain": [
       "Running Epoch 67 of 400:   0%|          | 0/76 [00:00<?, ?it/s]"
      ]
     },
     "metadata": {},
     "output_type": "display_data"
    },
    {
     "data": {
      "application/vnd.jupyter.widget-view+json": {
       "model_id": "b74be27b89444ab09f82cd08f0e09faf",
       "version_major": 2,
       "version_minor": 0
      },
      "text/plain": [
       "Running Epoch 68 of 400:   0%|          | 0/76 [00:00<?, ?it/s]"
      ]
     },
     "metadata": {},
     "output_type": "display_data"
    },
    {
     "data": {
      "application/vnd.jupyter.widget-view+json": {
       "model_id": "51057466e9de4db1b90976ac538cef85",
       "version_major": 2,
       "version_minor": 0
      },
      "text/plain": [
       "Running Epoch 69 of 400:   0%|          | 0/76 [00:00<?, ?it/s]"
      ]
     },
     "metadata": {},
     "output_type": "display_data"
    },
    {
     "data": {
      "application/vnd.jupyter.widget-view+json": {
       "model_id": "90a4da05af114863b6a9a221b99faee4",
       "version_major": 2,
       "version_minor": 0
      },
      "text/plain": [
       "Running Epoch 70 of 400:   0%|          | 0/76 [00:00<?, ?it/s]"
      ]
     },
     "metadata": {},
     "output_type": "display_data"
    },
    {
     "data": {
      "application/vnd.jupyter.widget-view+json": {
       "model_id": "e2248d63669e47aa8b66207c7d5cb55f",
       "version_major": 2,
       "version_minor": 0
      },
      "text/plain": [
       "Running Epoch 71 of 400:   0%|          | 0/76 [00:00<?, ?it/s]"
      ]
     },
     "metadata": {},
     "output_type": "display_data"
    },
    {
     "data": {
      "application/vnd.jupyter.widget-view+json": {
       "model_id": "d2062ca96ddd46bcabd13b0dd3c256be",
       "version_major": 2,
       "version_minor": 0
      },
      "text/plain": [
       "Running Epoch 72 of 400:   0%|          | 0/76 [00:00<?, ?it/s]"
      ]
     },
     "metadata": {},
     "output_type": "display_data"
    },
    {
     "data": {
      "application/vnd.jupyter.widget-view+json": {
       "model_id": "35206b18580b4a05955f19689c639ea9",
       "version_major": 2,
       "version_minor": 0
      },
      "text/plain": [
       "Running Epoch 73 of 400:   0%|          | 0/76 [00:00<?, ?it/s]"
      ]
     },
     "metadata": {},
     "output_type": "display_data"
    },
    {
     "data": {
      "application/vnd.jupyter.widget-view+json": {
       "model_id": "490ae0457e6c41a6abf235eaebf70066",
       "version_major": 2,
       "version_minor": 0
      },
      "text/plain": [
       "Running Epoch 74 of 400:   0%|          | 0/76 [00:00<?, ?it/s]"
      ]
     },
     "metadata": {},
     "output_type": "display_data"
    },
    {
     "data": {
      "application/vnd.jupyter.widget-view+json": {
       "model_id": "71c5cf3e526745d38941365d8dd26f57",
       "version_major": 2,
       "version_minor": 0
      },
      "text/plain": [
       "Running Epoch 75 of 400:   0%|          | 0/76 [00:00<?, ?it/s]"
      ]
     },
     "metadata": {},
     "output_type": "display_data"
    },
    {
     "data": {
      "application/vnd.jupyter.widget-view+json": {
       "model_id": "bf2e5f80234f49c981254624deb4651b",
       "version_major": 2,
       "version_minor": 0
      },
      "text/plain": [
       "Running Epoch 76 of 400:   0%|          | 0/76 [00:00<?, ?it/s]"
      ]
     },
     "metadata": {},
     "output_type": "display_data"
    },
    {
     "data": {
      "application/vnd.jupyter.widget-view+json": {
       "model_id": "6b647722339d4a7598fffc344a7f8ac7",
       "version_major": 2,
       "version_minor": 0
      },
      "text/plain": [
       "Running Epoch 77 of 400:   0%|          | 0/76 [00:00<?, ?it/s]"
      ]
     },
     "metadata": {},
     "output_type": "display_data"
    },
    {
     "data": {
      "application/vnd.jupyter.widget-view+json": {
       "model_id": "af835a111ef844c7a227118809d44d5e",
       "version_major": 2,
       "version_minor": 0
      },
      "text/plain": [
       "Running Epoch 78 of 400:   0%|          | 0/76 [00:00<?, ?it/s]"
      ]
     },
     "metadata": {},
     "output_type": "display_data"
    },
    {
     "data": {
      "application/vnd.jupyter.widget-view+json": {
       "model_id": "4bade001d20e4a81bc8a383c196bb420",
       "version_major": 2,
       "version_minor": 0
      },
      "text/plain": [
       "Running Epoch 79 of 400:   0%|          | 0/76 [00:00<?, ?it/s]"
      ]
     },
     "metadata": {},
     "output_type": "display_data"
    },
    {
     "data": {
      "application/vnd.jupyter.widget-view+json": {
       "model_id": "507cd24d1d4944d3bbedf629e607615e",
       "version_major": 2,
       "version_minor": 0
      },
      "text/plain": [
       "Running Epoch 80 of 400:   0%|          | 0/76 [00:00<?, ?it/s]"
      ]
     },
     "metadata": {},
     "output_type": "display_data"
    },
    {
     "data": {
      "application/vnd.jupyter.widget-view+json": {
       "model_id": "e102a6ca39c34a93b0a17228f69f0e0c",
       "version_major": 2,
       "version_minor": 0
      },
      "text/plain": [
       "Running Epoch 81 of 400:   0%|          | 0/76 [00:00<?, ?it/s]"
      ]
     },
     "metadata": {},
     "output_type": "display_data"
    },
    {
     "data": {
      "application/vnd.jupyter.widget-view+json": {
       "model_id": "fe54b4a486e7487c8556cd4f83586162",
       "version_major": 2,
       "version_minor": 0
      },
      "text/plain": [
       "Running Epoch 82 of 400:   0%|          | 0/76 [00:00<?, ?it/s]"
      ]
     },
     "metadata": {},
     "output_type": "display_data"
    },
    {
     "data": {
      "application/vnd.jupyter.widget-view+json": {
       "model_id": "377fc5bc8f05439e9ae6ba19a7027359",
       "version_major": 2,
       "version_minor": 0
      },
      "text/plain": [
       "Running Epoch 83 of 400:   0%|          | 0/76 [00:00<?, ?it/s]"
      ]
     },
     "metadata": {},
     "output_type": "display_data"
    },
    {
     "data": {
      "application/vnd.jupyter.widget-view+json": {
       "model_id": "27c3a251b8364f6c89efd4bfb6544a83",
       "version_major": 2,
       "version_minor": 0
      },
      "text/plain": [
       "Running Epoch 84 of 400:   0%|          | 0/76 [00:00<?, ?it/s]"
      ]
     },
     "metadata": {},
     "output_type": "display_data"
    },
    {
     "data": {
      "application/vnd.jupyter.widget-view+json": {
       "model_id": "aeb2f9f121f54e99bb8c3b74c4fb1090",
       "version_major": 2,
       "version_minor": 0
      },
      "text/plain": [
       "Running Epoch 85 of 400:   0%|          | 0/76 [00:00<?, ?it/s]"
      ]
     },
     "metadata": {},
     "output_type": "display_data"
    },
    {
     "data": {
      "application/vnd.jupyter.widget-view+json": {
       "model_id": "0c57091d0254440a94206475f3e8fd5a",
       "version_major": 2,
       "version_minor": 0
      },
      "text/plain": [
       "Running Epoch 86 of 400:   0%|          | 0/76 [00:00<?, ?it/s]"
      ]
     },
     "metadata": {},
     "output_type": "display_data"
    },
    {
     "data": {
      "application/vnd.jupyter.widget-view+json": {
       "model_id": "032b00c5e5ed4841bab73becee1e0b88",
       "version_major": 2,
       "version_minor": 0
      },
      "text/plain": [
       "Running Epoch 87 of 400:   0%|          | 0/76 [00:00<?, ?it/s]"
      ]
     },
     "metadata": {},
     "output_type": "display_data"
    },
    {
     "data": {
      "application/vnd.jupyter.widget-view+json": {
       "model_id": "edfd892428ca4926be151f8b78143945",
       "version_major": 2,
       "version_minor": 0
      },
      "text/plain": [
       "Running Epoch 88 of 400:   0%|          | 0/76 [00:00<?, ?it/s]"
      ]
     },
     "metadata": {},
     "output_type": "display_data"
    },
    {
     "data": {
      "application/vnd.jupyter.widget-view+json": {
       "model_id": "4159214f592745aba49e2bfef33f1a1f",
       "version_major": 2,
       "version_minor": 0
      },
      "text/plain": [
       "Running Epoch 89 of 400:   0%|          | 0/76 [00:00<?, ?it/s]"
      ]
     },
     "metadata": {},
     "output_type": "display_data"
    },
    {
     "data": {
      "application/vnd.jupyter.widget-view+json": {
       "model_id": "da57a57a075f4d12aea18f1ed7ad55d9",
       "version_major": 2,
       "version_minor": 0
      },
      "text/plain": [
       "Running Epoch 90 of 400:   0%|          | 0/76 [00:00<?, ?it/s]"
      ]
     },
     "metadata": {},
     "output_type": "display_data"
    },
    {
     "data": {
      "application/vnd.jupyter.widget-view+json": {
       "model_id": "b037e1697be9484291084ceeeb3978e9",
       "version_major": 2,
       "version_minor": 0
      },
      "text/plain": [
       "Running Epoch 91 of 400:   0%|          | 0/76 [00:00<?, ?it/s]"
      ]
     },
     "metadata": {},
     "output_type": "display_data"
    },
    {
     "data": {
      "application/vnd.jupyter.widget-view+json": {
       "model_id": "26e275b880424168bbd0ed1a155e6676",
       "version_major": 2,
       "version_minor": 0
      },
      "text/plain": [
       "Running Epoch 92 of 400:   0%|          | 0/76 [00:00<?, ?it/s]"
      ]
     },
     "metadata": {},
     "output_type": "display_data"
    },
    {
     "data": {
      "application/vnd.jupyter.widget-view+json": {
       "model_id": "f0d7cf8e388e412f8612d28d6e993b9d",
       "version_major": 2,
       "version_minor": 0
      },
      "text/plain": [
       "Running Epoch 93 of 400:   0%|          | 0/76 [00:00<?, ?it/s]"
      ]
     },
     "metadata": {},
     "output_type": "display_data"
    },
    {
     "data": {
      "application/vnd.jupyter.widget-view+json": {
       "model_id": "bdf9a90659ed446dba171d9cd0fe331a",
       "version_major": 2,
       "version_minor": 0
      },
      "text/plain": [
       "Running Epoch 94 of 400:   0%|          | 0/76 [00:00<?, ?it/s]"
      ]
     },
     "metadata": {},
     "output_type": "display_data"
    },
    {
     "data": {
      "application/vnd.jupyter.widget-view+json": {
       "model_id": "485ab97144044cc3820950229915ba38",
       "version_major": 2,
       "version_minor": 0
      },
      "text/plain": [
       "Running Epoch 95 of 400:   0%|          | 0/76 [00:00<?, ?it/s]"
      ]
     },
     "metadata": {},
     "output_type": "display_data"
    },
    {
     "data": {
      "application/vnd.jupyter.widget-view+json": {
       "model_id": "04857752d1ab467c8763c02cfa52c613",
       "version_major": 2,
       "version_minor": 0
      },
      "text/plain": [
       "Running Epoch 96 of 400:   0%|          | 0/76 [00:00<?, ?it/s]"
      ]
     },
     "metadata": {},
     "output_type": "display_data"
    },
    {
     "data": {
      "application/vnd.jupyter.widget-view+json": {
       "model_id": "a8902b54ba574cae9599d455d0c26df1",
       "version_major": 2,
       "version_minor": 0
      },
      "text/plain": [
       "Running Epoch 97 of 400:   0%|          | 0/76 [00:00<?, ?it/s]"
      ]
     },
     "metadata": {},
     "output_type": "display_data"
    },
    {
     "data": {
      "application/vnd.jupyter.widget-view+json": {
       "model_id": "7fa4a59c88d64c39b2ff60b4de0d6592",
       "version_major": 2,
       "version_minor": 0
      },
      "text/plain": [
       "Running Epoch 98 of 400:   0%|          | 0/76 [00:00<?, ?it/s]"
      ]
     },
     "metadata": {},
     "output_type": "display_data"
    },
    {
     "data": {
      "application/vnd.jupyter.widget-view+json": {
       "model_id": "1d2a015b89e24a0f850873595d32edf7",
       "version_major": 2,
       "version_minor": 0
      },
      "text/plain": [
       "Running Epoch 99 of 400:   0%|          | 0/76 [00:00<?, ?it/s]"
      ]
     },
     "metadata": {},
     "output_type": "display_data"
    },
    {
     "data": {
      "application/vnd.jupyter.widget-view+json": {
       "model_id": "05bc7b7b249c40c0b02e8fe2002d4238",
       "version_major": 2,
       "version_minor": 0
      },
      "text/plain": [
       "Running Epoch 100 of 400:   0%|          | 0/76 [00:00<?, ?it/s]"
      ]
     },
     "metadata": {},
     "output_type": "display_data"
    },
    {
     "data": {
      "application/vnd.jupyter.widget-view+json": {
       "model_id": "18f0e35d0d6d496db2c56a94a0a05870",
       "version_major": 2,
       "version_minor": 0
      },
      "text/plain": [
       "Running Epoch 101 of 400:   0%|          | 0/76 [00:00<?, ?it/s]"
      ]
     },
     "metadata": {},
     "output_type": "display_data"
    },
    {
     "data": {
      "application/vnd.jupyter.widget-view+json": {
       "model_id": "cb822aced2de437ebe9d4aac504dd2c2",
       "version_major": 2,
       "version_minor": 0
      },
      "text/plain": [
       "Running Epoch 102 of 400:   0%|          | 0/76 [00:00<?, ?it/s]"
      ]
     },
     "metadata": {},
     "output_type": "display_data"
    },
    {
     "data": {
      "application/vnd.jupyter.widget-view+json": {
       "model_id": "7ca7c2c6800f4c50b73a1f6b857d0928",
       "version_major": 2,
       "version_minor": 0
      },
      "text/plain": [
       "Running Epoch 103 of 400:   0%|          | 0/76 [00:00<?, ?it/s]"
      ]
     },
     "metadata": {},
     "output_type": "display_data"
    },
    {
     "data": {
      "application/vnd.jupyter.widget-view+json": {
       "model_id": "7d195fc6a561439fbcd22e03f82e64d3",
       "version_major": 2,
       "version_minor": 0
      },
      "text/plain": [
       "Running Epoch 104 of 400:   0%|          | 0/76 [00:00<?, ?it/s]"
      ]
     },
     "metadata": {},
     "output_type": "display_data"
    },
    {
     "data": {
      "application/vnd.jupyter.widget-view+json": {
       "model_id": "efbd63f9d05740278f953e6042f5a3b9",
       "version_major": 2,
       "version_minor": 0
      },
      "text/plain": [
       "Running Epoch 105 of 400:   0%|          | 0/76 [00:00<?, ?it/s]"
      ]
     },
     "metadata": {},
     "output_type": "display_data"
    },
    {
     "data": {
      "application/vnd.jupyter.widget-view+json": {
       "model_id": "b8b14cc0f731418c9abed9d5770b470f",
       "version_major": 2,
       "version_minor": 0
      },
      "text/plain": [
       "Running Epoch 106 of 400:   0%|          | 0/76 [00:00<?, ?it/s]"
      ]
     },
     "metadata": {},
     "output_type": "display_data"
    },
    {
     "data": {
      "application/vnd.jupyter.widget-view+json": {
       "model_id": "1f8d69ecc56547c2991710f4d8fe07d9",
       "version_major": 2,
       "version_minor": 0
      },
      "text/plain": [
       "Running Epoch 107 of 400:   0%|          | 0/76 [00:00<?, ?it/s]"
      ]
     },
     "metadata": {},
     "output_type": "display_data"
    },
    {
     "data": {
      "application/vnd.jupyter.widget-view+json": {
       "model_id": "181a826340624b9ba5c13b7f27f1760f",
       "version_major": 2,
       "version_minor": 0
      },
      "text/plain": [
       "Running Epoch 108 of 400:   0%|          | 0/76 [00:00<?, ?it/s]"
      ]
     },
     "metadata": {},
     "output_type": "display_data"
    },
    {
     "data": {
      "application/vnd.jupyter.widget-view+json": {
       "model_id": "0249d6b639f44f6da19e27814bf68604",
       "version_major": 2,
       "version_minor": 0
      },
      "text/plain": [
       "Running Epoch 109 of 400:   0%|          | 0/76 [00:00<?, ?it/s]"
      ]
     },
     "metadata": {},
     "output_type": "display_data"
    },
    {
     "data": {
      "application/vnd.jupyter.widget-view+json": {
       "model_id": "9ef3322ae475444b8f86413c82c57030",
       "version_major": 2,
       "version_minor": 0
      },
      "text/plain": [
       "Running Epoch 110 of 400:   0%|          | 0/76 [00:00<?, ?it/s]"
      ]
     },
     "metadata": {},
     "output_type": "display_data"
    },
    {
     "data": {
      "application/vnd.jupyter.widget-view+json": {
       "model_id": "8bca4724e4e044018ff737dd5dc4450f",
       "version_major": 2,
       "version_minor": 0
      },
      "text/plain": [
       "Running Epoch 111 of 400:   0%|          | 0/76 [00:00<?, ?it/s]"
      ]
     },
     "metadata": {},
     "output_type": "display_data"
    },
    {
     "data": {
      "application/vnd.jupyter.widget-view+json": {
       "model_id": "78e196c3d2d6441aa983f6bf9a87c8f3",
       "version_major": 2,
       "version_minor": 0
      },
      "text/plain": [
       "Running Epoch 112 of 400:   0%|          | 0/76 [00:00<?, ?it/s]"
      ]
     },
     "metadata": {},
     "output_type": "display_data"
    },
    {
     "data": {
      "application/vnd.jupyter.widget-view+json": {
       "model_id": "2deb112842eb496aaba62b6752a94a08",
       "version_major": 2,
       "version_minor": 0
      },
      "text/plain": [
       "Running Epoch 113 of 400:   0%|          | 0/76 [00:00<?, ?it/s]"
      ]
     },
     "metadata": {},
     "output_type": "display_data"
    },
    {
     "data": {
      "application/vnd.jupyter.widget-view+json": {
       "model_id": "53de2b06e77148b5bca5acafafb2c302",
       "version_major": 2,
       "version_minor": 0
      },
      "text/plain": [
       "Running Epoch 114 of 400:   0%|          | 0/76 [00:00<?, ?it/s]"
      ]
     },
     "metadata": {},
     "output_type": "display_data"
    },
    {
     "data": {
      "application/vnd.jupyter.widget-view+json": {
       "model_id": "0aa9c3ab0d874b4abd90884273906e1f",
       "version_major": 2,
       "version_minor": 0
      },
      "text/plain": [
       "Running Epoch 115 of 400:   0%|          | 0/76 [00:00<?, ?it/s]"
      ]
     },
     "metadata": {},
     "output_type": "display_data"
    },
    {
     "data": {
      "application/vnd.jupyter.widget-view+json": {
       "model_id": "f12499f86bfb45cf899690cd0064de2b",
       "version_major": 2,
       "version_minor": 0
      },
      "text/plain": [
       "Running Epoch 116 of 400:   0%|          | 0/76 [00:00<?, ?it/s]"
      ]
     },
     "metadata": {},
     "output_type": "display_data"
    },
    {
     "data": {
      "application/vnd.jupyter.widget-view+json": {
       "model_id": "90f1ca5b06cf46d691bd49be2f69b636",
       "version_major": 2,
       "version_minor": 0
      },
      "text/plain": [
       "Running Epoch 117 of 400:   0%|          | 0/76 [00:00<?, ?it/s]"
      ]
     },
     "metadata": {},
     "output_type": "display_data"
    },
    {
     "data": {
      "application/vnd.jupyter.widget-view+json": {
       "model_id": "5b4572adb3a543cfbffdaf487780cb4e",
       "version_major": 2,
       "version_minor": 0
      },
      "text/plain": [
       "Running Epoch 118 of 400:   0%|          | 0/76 [00:00<?, ?it/s]"
      ]
     },
     "metadata": {},
     "output_type": "display_data"
    },
    {
     "data": {
      "application/vnd.jupyter.widget-view+json": {
       "model_id": "a1b6b248333a4d5e924319652ab4ce7e",
       "version_major": 2,
       "version_minor": 0
      },
      "text/plain": [
       "Running Epoch 119 of 400:   0%|          | 0/76 [00:00<?, ?it/s]"
      ]
     },
     "metadata": {},
     "output_type": "display_data"
    },
    {
     "data": {
      "application/vnd.jupyter.widget-view+json": {
       "model_id": "bc049980ff7d4a319339a80e0ca95fae",
       "version_major": 2,
       "version_minor": 0
      },
      "text/plain": [
       "Running Epoch 120 of 400:   0%|          | 0/76 [00:00<?, ?it/s]"
      ]
     },
     "metadata": {},
     "output_type": "display_data"
    },
    {
     "ename": "RuntimeError",
     "evalue": "[enforce fail at inline_container.cc:603] . unexpected pos 117398528 vs 117398420",
     "output_type": "error",
     "traceback": [
      "\u001b[1;31m---------------------------------------------------------------------------\u001b[0m",
      "\u001b[1;31mRuntimeError\u001b[0m                              Traceback (most recent call last)",
      "File \u001b[1;32mc:\\Users\\user\\anaconda3\\envs\\dl_final\\Lib\\site-packages\\torch\\serialization.py:850\u001b[0m, in \u001b[0;36msave\u001b[1;34m(obj, f, pickle_module, pickle_protocol, _use_new_zipfile_serialization, _disable_byteorder_record)\u001b[0m\n\u001b[0;32m    849\u001b[0m \u001b[38;5;28;01mwith\u001b[39;00m _open_zipfile_writer(f) \u001b[38;5;28;01mas\u001b[39;00m opened_zipfile:\n\u001b[1;32m--> 850\u001b[0m     \u001b[43m_save\u001b[49m\u001b[43m(\u001b[49m\n\u001b[0;32m    851\u001b[0m \u001b[43m        \u001b[49m\u001b[43mobj\u001b[49m\u001b[43m,\u001b[49m\n\u001b[0;32m    852\u001b[0m \u001b[43m        \u001b[49m\u001b[43mopened_zipfile\u001b[49m\u001b[43m,\u001b[49m\n\u001b[0;32m    853\u001b[0m \u001b[43m        \u001b[49m\u001b[43mpickle_module\u001b[49m\u001b[43m,\u001b[49m\n\u001b[0;32m    854\u001b[0m \u001b[43m        \u001b[49m\u001b[43mpickle_protocol\u001b[49m\u001b[43m,\u001b[49m\n\u001b[0;32m    855\u001b[0m \u001b[43m        \u001b[49m\u001b[43m_disable_byteorder_record\u001b[49m\u001b[43m,\u001b[49m\n\u001b[0;32m    856\u001b[0m \u001b[43m    \u001b[49m\u001b[43m)\u001b[49m\n\u001b[0;32m    857\u001b[0m     \u001b[38;5;28;01mreturn\u001b[39;00m\n",
      "File \u001b[1;32mc:\\Users\\user\\anaconda3\\envs\\dl_final\\Lib\\site-packages\\torch\\serialization.py:1114\u001b[0m, in \u001b[0;36m_save\u001b[1;34m(obj, zip_file, pickle_module, pickle_protocol, _disable_byteorder_record)\u001b[0m\n\u001b[0;32m   1113\u001b[0m \u001b[38;5;66;03m# Now that it is on the CPU we can directly copy it into the zip file\u001b[39;00m\n\u001b[1;32m-> 1114\u001b[0m \u001b[43mzip_file\u001b[49m\u001b[38;5;241;43m.\u001b[39;49m\u001b[43mwrite_record\u001b[49m\u001b[43m(\u001b[49m\u001b[43mname\u001b[49m\u001b[43m,\u001b[49m\u001b[43m \u001b[49m\u001b[43mstorage\u001b[49m\u001b[43m,\u001b[49m\u001b[43m \u001b[49m\u001b[43mnum_bytes\u001b[49m\u001b[43m)\u001b[49m\n",
      "\u001b[1;31mRuntimeError\u001b[0m: [enforce fail at inline_container.cc:783] . PytorchStreamWriter failed writing file data/118: file write failed",
      "\nDuring handling of the above exception, another exception occurred:\n",
      "\u001b[1;31mRuntimeError\u001b[0m                              Traceback (most recent call last)",
      "Cell \u001b[1;32mIn[22], line 39\u001b[0m\n\u001b[0;32m     27\u001b[0m \u001b[38;5;28;01mfrom\u001b[39;00m \u001b[38;5;21;01msklearn\u001b[39;00m\u001b[38;5;21;01m.\u001b[39;00m\u001b[38;5;21;01mmetrics\u001b[39;00m \u001b[38;5;28;01mimport\u001b[39;00m coverage_error, label_ranking_loss\n\u001b[0;32m     28\u001b[0m te_multi_model \u001b[38;5;241m=\u001b[39m MultiLabelClassificationModel(\n\u001b[0;32m     29\u001b[0m     \u001b[38;5;124m'\u001b[39m\u001b[38;5;124mdistilbert\u001b[39m\u001b[38;5;124m'\u001b[39m,\n\u001b[0;32m     30\u001b[0m     \u001b[38;5;124m'\u001b[39m\u001b[38;5;124mdistilbert-base-uncased\u001b[39m\u001b[38;5;124m'\u001b[39m,\n\u001b[1;32m   (...)\u001b[0m\n\u001b[0;32m     33\u001b[0m     args\u001b[38;5;241m=\u001b[39mte_multi_model_args,\n\u001b[0;32m     34\u001b[0m )\n\u001b[1;32m---> 39\u001b[0m \u001b[43mte_multi_model\u001b[49m\u001b[38;5;241;43m.\u001b[39;49m\u001b[43mtrain_model\u001b[49m\u001b[43m(\u001b[49m\n\u001b[0;32m     40\u001b[0m \u001b[43m    \u001b[49m\u001b[43mdf_te_train\u001b[49m\u001b[43m,\u001b[49m\u001b[43m \u001b[49m\n\u001b[0;32m     41\u001b[0m \u001b[43m    \u001b[49m\u001b[43meval_df\u001b[49m\u001b[38;5;241;43m=\u001b[39;49m\u001b[43mdf_te_test\u001b[49m\u001b[43m,\u001b[49m\u001b[43m \u001b[49m\n\u001b[0;32m     42\u001b[0m \u001b[43m    \u001b[49m\u001b[43mcoverr\u001b[49m\u001b[38;5;241;43m=\u001b[39;49m\u001b[43mcoverage_error\u001b[49m\u001b[43m,\u001b[49m\u001b[43m \u001b[49m\n\u001b[0;32m     43\u001b[0m \u001b[43m    \u001b[49m\u001b[43mlrloss\u001b[49m\u001b[38;5;241;43m=\u001b[39;49m\u001b[43mlabel_ranking_loss\u001b[49m\u001b[43m,\u001b[49m\n\u001b[0;32m     44\u001b[0m \u001b[43m    \u001b[49m\u001b[43mverbose\u001b[49m\u001b[38;5;241;43m=\u001b[39;49m\u001b[38;5;28;43;01mTrue\u001b[39;49;00m\u001b[43m,\u001b[49m\n\u001b[0;32m     45\u001b[0m \u001b[43m    \u001b[49m\u001b[38;5;241;43m*\u001b[39;49m\u001b[38;5;241;43m*\u001b[39;49m\u001b[43m{\u001b[49m\n\u001b[0;32m     46\u001b[0m \u001b[43m        \u001b[49m\u001b[38;5;124;43m\"\u001b[39;49m\u001b[38;5;124;43mmetric\u001b[39;49m\u001b[38;5;124;43m\"\u001b[39;49m\u001b[43m:\u001b[49m\u001b[43m \u001b[49m\u001b[43mmulti_label_metrics_te\u001b[49m\n\u001b[0;32m     47\u001b[0m \u001b[43m    \u001b[49m\u001b[43m}\u001b[49m\n\u001b[0;32m     48\u001b[0m \u001b[43m    \u001b[49m\u001b[43m)\u001b[49m\n\u001b[0;32m     51\u001b[0m te_result, te_model_outputs, te_wrong_predictions \u001b[38;5;241m=\u001b[39m te_multi_model\u001b[38;5;241m.\u001b[39meval_model(df_te_test)\n\u001b[0;32m     55\u001b[0m te_multi_model \u001b[38;5;241m=\u001b[39m MultiLabelClassificationModel(\n\u001b[0;32m     56\u001b[0m     \u001b[38;5;124m'\u001b[39m\u001b[38;5;124mdistilbert\u001b[39m\u001b[38;5;124m'\u001b[39m,\n\u001b[0;32m     57\u001b[0m     \u001b[38;5;124mf\u001b[39m\u001b[38;5;124m'\u001b[39m\u001b[38;5;124m./outputs_distilbert/\u001b[39m\u001b[38;5;132;01m{\u001b[39;00mtime_now\u001b[38;5;132;01m}\u001b[39;00m\u001b[38;5;124m/technique_multi/\u001b[39m\u001b[38;5;124m'\u001b[39m,\n\u001b[0;32m     58\u001b[0m )\n",
      "File \u001b[1;32mc:\\Users\\user\\anaconda3\\envs\\dl_final\\Lib\\site-packages\\simpletransformers\\classification\\multi_label_classification_model.py:320\u001b[0m, in \u001b[0;36mMultiLabelClassificationModel.train_model\u001b[1;34m(self, train_df, multi_label, eval_df, output_dir, show_running_loss, args, verbose, **kwargs)\u001b[0m\n\u001b[0;32m    309\u001b[0m \u001b[38;5;28;01mdef\u001b[39;00m \u001b[38;5;21mtrain_model\u001b[39m(\n\u001b[0;32m    310\u001b[0m     \u001b[38;5;28mself\u001b[39m,\n\u001b[0;32m    311\u001b[0m     train_df,\n\u001b[1;32m   (...)\u001b[0m\n\u001b[0;32m    318\u001b[0m     \u001b[38;5;241m*\u001b[39m\u001b[38;5;241m*\u001b[39mkwargs,\n\u001b[0;32m    319\u001b[0m ):\n\u001b[1;32m--> 320\u001b[0m     \u001b[38;5;28;01mreturn\u001b[39;00m \u001b[38;5;28;43msuper\u001b[39;49m\u001b[43m(\u001b[49m\u001b[43m)\u001b[49m\u001b[38;5;241;43m.\u001b[39;49m\u001b[43mtrain_model\u001b[49m\u001b[43m(\u001b[49m\n\u001b[0;32m    321\u001b[0m \u001b[43m        \u001b[49m\u001b[43mtrain_df\u001b[49m\u001b[43m,\u001b[49m\n\u001b[0;32m    322\u001b[0m \u001b[43m        \u001b[49m\u001b[43mmulti_label\u001b[49m\u001b[38;5;241;43m=\u001b[39;49m\u001b[43mmulti_label\u001b[49m\u001b[43m,\u001b[49m\n\u001b[0;32m    323\u001b[0m \u001b[43m        \u001b[49m\u001b[43meval_df\u001b[49m\u001b[38;5;241;43m=\u001b[39;49m\u001b[43meval_df\u001b[49m\u001b[43m,\u001b[49m\n\u001b[0;32m    324\u001b[0m \u001b[43m        \u001b[49m\u001b[43moutput_dir\u001b[49m\u001b[38;5;241;43m=\u001b[39;49m\u001b[43moutput_dir\u001b[49m\u001b[43m,\u001b[49m\n\u001b[0;32m    325\u001b[0m \u001b[43m        \u001b[49m\u001b[43mshow_running_loss\u001b[49m\u001b[38;5;241;43m=\u001b[39;49m\u001b[43mshow_running_loss\u001b[49m\u001b[43m,\u001b[49m\n\u001b[0;32m    326\u001b[0m \u001b[43m        \u001b[49m\u001b[43mverbose\u001b[49m\u001b[38;5;241;43m=\u001b[39;49m\u001b[38;5;28;43;01mTrue\u001b[39;49;00m\u001b[43m,\u001b[49m\n\u001b[0;32m    327\u001b[0m \u001b[43m        \u001b[49m\u001b[43margs\u001b[49m\u001b[38;5;241;43m=\u001b[39;49m\u001b[43margs\u001b[49m\u001b[43m,\u001b[49m\n\u001b[0;32m    328\u001b[0m \u001b[43m        \u001b[49m\u001b[38;5;241;43m*\u001b[39;49m\u001b[38;5;241;43m*\u001b[39;49m\u001b[43mkwargs\u001b[49m\u001b[43m,\u001b[49m\n\u001b[0;32m    329\u001b[0m \u001b[43m    \u001b[49m\u001b[43m)\u001b[49m\n",
      "File \u001b[1;32mc:\\Users\\user\\anaconda3\\envs\\dl_final\\Lib\\site-packages\\simpletransformers\\classification\\classification_model.py:630\u001b[0m, in \u001b[0;36mClassificationModel.train_model\u001b[1;34m(self, train_df, multi_label, output_dir, show_running_loss, args, eval_df, verbose, **kwargs)\u001b[0m\n\u001b[0;32m    621\u001b[0m train_dataloader \u001b[38;5;241m=\u001b[39m DataLoader(\n\u001b[0;32m    622\u001b[0m     train_dataset,\n\u001b[0;32m    623\u001b[0m     sampler\u001b[38;5;241m=\u001b[39mtrain_sampler,\n\u001b[0;32m    624\u001b[0m     batch_size\u001b[38;5;241m=\u001b[39m\u001b[38;5;28mself\u001b[39m\u001b[38;5;241m.\u001b[39margs\u001b[38;5;241m.\u001b[39mtrain_batch_size,\n\u001b[0;32m    625\u001b[0m     num_workers\u001b[38;5;241m=\u001b[39m\u001b[38;5;28mself\u001b[39m\u001b[38;5;241m.\u001b[39margs\u001b[38;5;241m.\u001b[39mdataloader_num_workers,\n\u001b[0;32m    626\u001b[0m )\n\u001b[0;32m    628\u001b[0m os\u001b[38;5;241m.\u001b[39mmakedirs(output_dir, exist_ok\u001b[38;5;241m=\u001b[39m\u001b[38;5;28;01mTrue\u001b[39;00m)\n\u001b[1;32m--> 630\u001b[0m global_step, training_details \u001b[38;5;241m=\u001b[39m \u001b[38;5;28;43mself\u001b[39;49m\u001b[38;5;241;43m.\u001b[39;49m\u001b[43mtrain\u001b[49m\u001b[43m(\u001b[49m\n\u001b[0;32m    631\u001b[0m \u001b[43m    \u001b[49m\u001b[43mtrain_dataloader\u001b[49m\u001b[43m,\u001b[49m\n\u001b[0;32m    632\u001b[0m \u001b[43m    \u001b[49m\u001b[43moutput_dir\u001b[49m\u001b[43m,\u001b[49m\n\u001b[0;32m    633\u001b[0m \u001b[43m    \u001b[49m\u001b[43mmulti_label\u001b[49m\u001b[38;5;241;43m=\u001b[39;49m\u001b[43mmulti_label\u001b[49m\u001b[43m,\u001b[49m\n\u001b[0;32m    634\u001b[0m \u001b[43m    \u001b[49m\u001b[43mshow_running_loss\u001b[49m\u001b[38;5;241;43m=\u001b[39;49m\u001b[43mshow_running_loss\u001b[49m\u001b[43m,\u001b[49m\n\u001b[0;32m    635\u001b[0m \u001b[43m    \u001b[49m\u001b[43meval_df\u001b[49m\u001b[38;5;241;43m=\u001b[39;49m\u001b[43meval_df\u001b[49m\u001b[43m,\u001b[49m\n\u001b[0;32m    636\u001b[0m \u001b[43m    \u001b[49m\u001b[43mverbose\u001b[49m\u001b[38;5;241;43m=\u001b[39;49m\u001b[43mverbose\u001b[49m\u001b[43m,\u001b[49m\n\u001b[0;32m    637\u001b[0m \u001b[43m    \u001b[49m\u001b[38;5;241;43m*\u001b[39;49m\u001b[38;5;241;43m*\u001b[39;49m\u001b[43mkwargs\u001b[49m\u001b[43m,\u001b[49m\n\u001b[0;32m    638\u001b[0m \u001b[43m\u001b[49m\u001b[43m)\u001b[49m\n\u001b[0;32m    640\u001b[0m \u001b[38;5;66;03m# model_to_save = self.model.module if hasattr(self.model, \"module\") else self.model\u001b[39;00m\n\u001b[0;32m    641\u001b[0m \u001b[38;5;66;03m# model_to_save.save_pretrained(output_dir)\u001b[39;00m\n\u001b[0;32m    642\u001b[0m \u001b[38;5;66;03m# self.tokenizer.save_pretrained(output_dir)\u001b[39;00m\n\u001b[0;32m    643\u001b[0m \u001b[38;5;66;03m# torch.save(self.args, os.path.join(output_dir, \"training_args.bin\"))\u001b[39;00m\n\u001b[0;32m    644\u001b[0m \u001b[38;5;28mself\u001b[39m\u001b[38;5;241m.\u001b[39msave_model(model\u001b[38;5;241m=\u001b[39m\u001b[38;5;28mself\u001b[39m\u001b[38;5;241m.\u001b[39mmodel)\n",
      "File \u001b[1;32mc:\\Users\\user\\anaconda3\\envs\\dl_final\\Lib\\site-packages\\simpletransformers\\classification\\classification_model.py:1167\u001b[0m, in \u001b[0;36mClassificationModel.train\u001b[1;34m(self, train_dataloader, output_dir, multi_label, show_running_loss, eval_df, test_df, verbose, **kwargs)\u001b[0m\n\u001b[0;32m   1164\u001b[0m     os\u001b[38;5;241m.\u001b[39mmakedirs(output_dir_current, exist_ok\u001b[38;5;241m=\u001b[39m\u001b[38;5;28;01mTrue\u001b[39;00m)\n\u001b[0;32m   1166\u001b[0m \u001b[38;5;28;01mif\u001b[39;00m args\u001b[38;5;241m.\u001b[39msave_model_every_epoch:\n\u001b[1;32m-> 1167\u001b[0m     \u001b[38;5;28;43mself\u001b[39;49m\u001b[38;5;241;43m.\u001b[39;49m\u001b[43msave_model\u001b[49m\u001b[43m(\u001b[49m\u001b[43moutput_dir_current\u001b[49m\u001b[43m,\u001b[49m\u001b[43m \u001b[49m\u001b[43moptimizer\u001b[49m\u001b[43m,\u001b[49m\u001b[43m \u001b[49m\u001b[43mscheduler\u001b[49m\u001b[43m,\u001b[49m\u001b[43m \u001b[49m\u001b[43mmodel\u001b[49m\u001b[38;5;241;43m=\u001b[39;49m\u001b[43mmodel\u001b[49m\u001b[43m)\u001b[49m\n\u001b[0;32m   1169\u001b[0m \u001b[38;5;28;01mif\u001b[39;00m args\u001b[38;5;241m.\u001b[39mevaluate_during_training \u001b[38;5;129;01mand\u001b[39;00m args\u001b[38;5;241m.\u001b[39mevaluate_each_epoch:\n\u001b[0;32m   1170\u001b[0m     results, _, _ \u001b[38;5;241m=\u001b[39m \u001b[38;5;28mself\u001b[39m\u001b[38;5;241m.\u001b[39meval_model(\n\u001b[0;32m   1171\u001b[0m         eval_df,\n\u001b[0;32m   1172\u001b[0m         verbose\u001b[38;5;241m=\u001b[39mverbose \u001b[38;5;129;01mand\u001b[39;00m args\u001b[38;5;241m.\u001b[39mevaluate_during_training_verbose,\n\u001b[1;32m   (...)\u001b[0m\n\u001b[0;32m   1175\u001b[0m         \u001b[38;5;241m*\u001b[39m\u001b[38;5;241m*\u001b[39mkwargs,\n\u001b[0;32m   1176\u001b[0m     )\n",
      "File \u001b[1;32mc:\\Users\\user\\anaconda3\\envs\\dl_final\\Lib\\site-packages\\simpletransformers\\classification\\classification_model.py:2463\u001b[0m, in \u001b[0;36mClassificationModel.save_model\u001b[1;34m(self, output_dir, optimizer, scheduler, model, results)\u001b[0m\n\u001b[0;32m   2461\u001b[0m torch\u001b[38;5;241m.\u001b[39msave(\u001b[38;5;28mself\u001b[39m\u001b[38;5;241m.\u001b[39margs, os\u001b[38;5;241m.\u001b[39mpath\u001b[38;5;241m.\u001b[39mjoin(output_dir, \u001b[38;5;124m\"\u001b[39m\u001b[38;5;124mtraining_args.bin\u001b[39m\u001b[38;5;124m\"\u001b[39m))\n\u001b[0;32m   2462\u001b[0m \u001b[38;5;28;01mif\u001b[39;00m optimizer \u001b[38;5;129;01mand\u001b[39;00m scheduler \u001b[38;5;129;01mand\u001b[39;00m \u001b[38;5;28mself\u001b[39m\u001b[38;5;241m.\u001b[39margs\u001b[38;5;241m.\u001b[39msave_optimizer_and_scheduler:\n\u001b[1;32m-> 2463\u001b[0m     \u001b[43mtorch\u001b[49m\u001b[38;5;241;43m.\u001b[39;49m\u001b[43msave\u001b[49m\u001b[43m(\u001b[49m\n\u001b[0;32m   2464\u001b[0m \u001b[43m        \u001b[49m\u001b[43moptimizer\u001b[49m\u001b[38;5;241;43m.\u001b[39;49m\u001b[43mstate_dict\u001b[49m\u001b[43m(\u001b[49m\u001b[43m)\u001b[49m\u001b[43m,\u001b[49m\u001b[43m \u001b[49m\u001b[43mos\u001b[49m\u001b[38;5;241;43m.\u001b[39;49m\u001b[43mpath\u001b[49m\u001b[38;5;241;43m.\u001b[39;49m\u001b[43mjoin\u001b[49m\u001b[43m(\u001b[49m\u001b[43moutput_dir\u001b[49m\u001b[43m,\u001b[49m\u001b[43m \u001b[49m\u001b[38;5;124;43m\"\u001b[39;49m\u001b[38;5;124;43moptimizer.pt\u001b[39;49m\u001b[38;5;124;43m\"\u001b[39;49m\u001b[43m)\u001b[49m\n\u001b[0;32m   2465\u001b[0m \u001b[43m    \u001b[49m\u001b[43m)\u001b[49m\n\u001b[0;32m   2466\u001b[0m     torch\u001b[38;5;241m.\u001b[39msave(\n\u001b[0;32m   2467\u001b[0m         scheduler\u001b[38;5;241m.\u001b[39mstate_dict(), os\u001b[38;5;241m.\u001b[39mpath\u001b[38;5;241m.\u001b[39mjoin(output_dir, \u001b[38;5;124m\"\u001b[39m\u001b[38;5;124mscheduler.pt\u001b[39m\u001b[38;5;124m\"\u001b[39m)\n\u001b[0;32m   2468\u001b[0m     )\n\u001b[0;32m   2469\u001b[0m \u001b[38;5;28mself\u001b[39m\u001b[38;5;241m.\u001b[39msave_model_args(output_dir)\n",
      "File \u001b[1;32mc:\\Users\\user\\anaconda3\\envs\\dl_final\\Lib\\site-packages\\torch\\serialization.py:849\u001b[0m, in \u001b[0;36msave\u001b[1;34m(obj, f, pickle_module, pickle_protocol, _use_new_zipfile_serialization, _disable_byteorder_record)\u001b[0m\n\u001b[0;32m    846\u001b[0m _check_save_filelike(f)\n\u001b[0;32m    848\u001b[0m \u001b[38;5;28;01mif\u001b[39;00m _use_new_zipfile_serialization:\n\u001b[1;32m--> 849\u001b[0m     \u001b[38;5;28;01mwith\u001b[39;00m _open_zipfile_writer(f) \u001b[38;5;28;01mas\u001b[39;00m opened_zipfile:\n\u001b[0;32m    850\u001b[0m         _save(\n\u001b[0;32m    851\u001b[0m             obj,\n\u001b[0;32m    852\u001b[0m             opened_zipfile,\n\u001b[1;32m   (...)\u001b[0m\n\u001b[0;32m    855\u001b[0m             _disable_byteorder_record,\n\u001b[0;32m    856\u001b[0m         )\n\u001b[0;32m    857\u001b[0m         \u001b[38;5;28;01mreturn\u001b[39;00m\n",
      "File \u001b[1;32mc:\\Users\\user\\anaconda3\\envs\\dl_final\\Lib\\site-packages\\torch\\serialization.py:690\u001b[0m, in \u001b[0;36m_open_zipfile_writer_file.__exit__\u001b[1;34m(self, *args)\u001b[0m\n\u001b[0;32m    689\u001b[0m \u001b[38;5;28;01mdef\u001b[39;00m \u001b[38;5;21m__exit__\u001b[39m(\u001b[38;5;28mself\u001b[39m, \u001b[38;5;241m*\u001b[39margs) \u001b[38;5;241m-\u001b[39m\u001b[38;5;241m>\u001b[39m \u001b[38;5;28;01mNone\u001b[39;00m:\n\u001b[1;32m--> 690\u001b[0m     \u001b[38;5;28;43mself\u001b[39;49m\u001b[38;5;241;43m.\u001b[39;49m\u001b[43mfile_like\u001b[49m\u001b[38;5;241;43m.\u001b[39;49m\u001b[43mwrite_end_of_file\u001b[49m\u001b[43m(\u001b[49m\u001b[43m)\u001b[49m\n\u001b[0;32m    691\u001b[0m     \u001b[38;5;28;01mif\u001b[39;00m \u001b[38;5;28mself\u001b[39m\u001b[38;5;241m.\u001b[39mfile_stream \u001b[38;5;129;01mis\u001b[39;00m \u001b[38;5;129;01mnot\u001b[39;00m \u001b[38;5;28;01mNone\u001b[39;00m:\n\u001b[0;32m    692\u001b[0m         \u001b[38;5;28mself\u001b[39m\u001b[38;5;241m.\u001b[39mfile_stream\u001b[38;5;241m.\u001b[39mclose()\n",
      "\u001b[1;31mRuntimeError\u001b[0m: [enforce fail at inline_container.cc:603] . unexpected pos 117398528 vs 117398420"
     ]
    }
   ],
   "source": [
    "from simpletransformers.classification import MultiLabelClassificationModel, MultiLabelClassificationArgs\n",
    "te_multi_model_args = MultiLabelClassificationArgs()\n",
    "te_multi_model_args.reprocess_input_data = True\n",
    "te_multi_model_args.overwrite_output_dir = True\n",
    "te_multi_model_args.evaluate_during_training = True\n",
    "te_multi_model_args.use_multiprocessing = False\n",
    "te_multi_model_args.use_multiprocessing_for_evaluation = False\n",
    "te_multi_model_args.use_multiprocessed_decoding = False\n",
    "te_multi_model_args.train_batch_size = 16\n",
    "te_multi_model_args.eval_batch_size = 16\n",
    "te_multi_model_args.num_train_epochs = 400\n",
    "te_multi_model_args.use_early_stopping = True\n",
    "te_multi_model_args.early_stopping_delta = 0.001\n",
    "te_multi_model_args.early_stopping_metric = \"eval_loss\"\n",
    "te_multi_model_args.early_stopping_metric_minimize = True\n",
    "te_multi_model_args.early_stopping_patience = 10\n",
    "te_multi_model_args.evaluate_during_training_steps = 1000\n",
    "te_multi_model_args.learning_rate = 3e-5 \n",
    "te_multi_model_args.output_dir = f'./outputs_distilbert/{time_now}/technique_multi/'\n",
    "te_multi_model_args.tensorboard_dir = f\"{time_now}_logs_temp_te\"\n",
    "te_multi_model_args.evaluate_during_training = True\n",
    "te_multi_model_args.evaluate_during_training_verbose = True  # 顯示所有 metrics\n",
    "te_multi_model_args.evaluate_each_epoch = True\n",
    "te_multi_model_args.evaluate_during_training_steps = -1  # 或設一個很大值\n",
    "\n",
    "\n",
    "from sklearn.metrics import coverage_error, label_ranking_loss\n",
    "te_multi_model = MultiLabelClassificationModel(\n",
    "    'distilbert',\n",
    "    'distilbert-base-uncased',\n",
    "    use_cuda=True,\n",
    "    num_labels=len(TECHNIQUE),\n",
    "    args=te_multi_model_args,\n",
    ")\n",
    "\n",
    "\n",
    "\n",
    "\n",
    "te_multi_model.train_model(\n",
    "    df_te_train, \n",
    "    eval_df=df_te_test, \n",
    "    coverr=coverage_error, \n",
    "    lrloss=label_ranking_loss,\n",
    "    verbose=True,\n",
    "    **{\n",
    "        \"metric\": multi_label_metrics_te\n",
    "    }\n",
    "    )\n",
    "\n",
    "\n",
    "\n",
    "\n"
   ]
  },
  {
   "cell_type": "code",
   "execution_count": 27,
   "id": "206f9316",
   "metadata": {},
   "outputs": [
    {
     "data": {
      "application/vnd.jupyter.widget-view+json": {
       "model_id": "1532f479e60c4ba4b268415f78fb753c",
       "version_major": 2,
       "version_minor": 0
      },
      "text/plain": [
       "Running Evaluation:   0%|          | 0/10 [00:00<?, ?it/s]"
      ]
     },
     "metadata": {},
     "output_type": "display_data"
    },
    {
     "data": {
      "application/vnd.jupyter.widget-view+json": {
       "model_id": "e8a71e28235d4036a81d76c28d911b13",
       "version_major": 2,
       "version_minor": 0
      },
      "text/plain": [
       "0it [00:00, ?it/s]"
      ]
     },
     "metadata": {},
     "output_type": "display_data"
    },
    {
     "data": {
      "application/vnd.jupyter.widget-view+json": {
       "model_id": "4c6e5c9b134543cfbf6475882969db06",
       "version_major": 2,
       "version_minor": 0
      },
      "text/plain": [
       "  0%|          | 0/2 [00:00<?, ?it/s]"
      ]
     },
     "metadata": {},
     "output_type": "display_data"
    },
    {
     "name": "stdout",
     "output_type": "stream",
     "text": [
      "Technique------------------------------------------------------\n",
      "Coverage error: 28.940789\n",
      "LRAP: 0.486654\n",
      "Label ranking loss: 0.112168\n",
      "Hamming loss: 0.008535\n",
      "Precision score(samples): 0.304825\n",
      "Precision score(macro): 0.049149\n",
      "Precision score(micro): 0.472973\n",
      "Recall score(samples): 0.275219\n",
      "Recall score(macro): 0.041818\n",
      "Recall score(micro): 0.301724\n",
      "F1 score(samples): 0.272588\n",
      "F1 score(macro): 0.042192\n",
      "F1 score(micro): 0.368421\n",
      "F0.5 score(samples): 0.286185\n",
      "F0.5 score(macro): 0.045229\n",
      "F0.5 score(micro): 0.424757\n",
      "Accuracy score: 0.144737\n"
     ]
    }
   ],
   "source": [
    "# 讀取checkpoint\n",
    "\n",
    "\n",
    "te_result, te_model_outputs, te_wrong_predictions = te_multi_model.eval_model(df_te_test)\n",
    "\n",
    "\n",
    "\n",
    "te_multi_model = MultiLabelClassificationModel(\n",
    "    'distilbert',\n",
    "    # f'./outputs_distilbert/{time_now}/technique_multi/',\n",
    "    \"outputs_distilbert/06-02-05-14/technique_multi/checkpoint-9120-epoch-120\"\n",
    ")\n",
    "\n",
    "te_predictions, te_model_outputs = te_multi_model.predict(list(df_te_test['text']))\n",
    "\n",
    "te_true = np.array([])\n",
    "te_true = np.append(te_true, [row for row in df_te_test['labels']])\n",
    "te_true = te_true.reshape(len(te_model_outputs), -1)\n",
    "\n",
    "print('Technique------------------------------------------------------')\n",
    "print('Coverage error: %f' % coverage_error(te_true, te_model_outputs))\n",
    "print('LRAP: %f' % label_ranking_average_precision_score(te_true, te_model_outputs))\n",
    "print('Label ranking loss: %f' % label_ranking_loss(te_true, te_model_outputs))\n",
    "\n",
    "te_model_outputs_bi = te_predictions\n",
    "print('Hamming loss: %f' % hamming_loss(te_true, te_model_outputs_bi))\n",
    "print('Precision score(samples): %f' % precision_score(te_true, te_model_outputs_bi, average='samples', zero_division=0))\n",
    "print('Precision score(macro): %f' % precision_score(te_true, te_model_outputs_bi, average='macro', zero_division=0))\n",
    "print('Precision score(micro): %f' % precision_score(te_true, te_model_outputs_bi, average='micro', zero_division=0))\n",
    "print('Recall score(samples): %f' % recall_score(te_true, te_model_outputs_bi, average='samples', zero_division=0))\n",
    "print('Recall score(macro): %f' % recall_score(te_true, te_model_outputs_bi, average='macro', zero_division=0))\n",
    "print('Recall score(micro): %f' % recall_score(te_true, te_model_outputs_bi, average='micro', zero_division=0))\n",
    "print('F1 score(samples): %f' % f1_score(te_true, te_model_outputs_bi, average='samples', zero_division=0))\n",
    "print('F1 score(macro): %f' % f1_score(te_true, te_model_outputs_bi, average='macro', zero_division=0))\n",
    "print('F1 score(micro): %f' % f1_score(te_true, te_model_outputs_bi, average='micro', zero_division=0))\n",
    "print('F0.5 score(samples): %f' % fbeta_score(te_true, te_model_outputs_bi, beta=0.5, average='samples', zero_division=0))\n",
    "print('F0.5 score(macro): %f' % fbeta_score(te_true, te_model_outputs_bi, beta=0.5, average='macro', zero_division=0))\n",
    "print('F0.5 score(micro): %f' % fbeta_score(te_true, te_model_outputs_bi, beta=0.5, average='micro', zero_division=0))\n",
    "print('Accuracy score: %f' % accuracy_score(te_true, te_model_outputs_bi))"
   ]
  },
  {
   "cell_type": "markdown",
   "id": "5f524c63",
   "metadata": {},
   "source": [
    "# Post-processing"
   ]
  },
  {
   "cell_type": "code",
   "execution_count": 31,
   "id": "e59ed52f",
   "metadata": {},
   "outputs": [
    {
     "name": "stdout",
     "output_type": "stream",
     "text": [
      "Post-processing-----------------------------------------------------\n",
      "4: TA0004: T1068, ta_real=0 ta_pred=0.00257110595703125, te_real=0 te_mask=0 te_pred=0.708984375 -> true\n",
      "17: TA0002: T1203, ta_real=1 ta_pred=3.5762786865234375e-07, te_real=0 te_mask=0 te_pred=0.36328125 -> true\n",
      "19: TA0002: T1059, ta_real=1 ta_pred=3.790855407714844e-05, te_real=1 te_mask=0 te_pred=0.9130859375 -> false\n",
      "35: TA0007: T1083, ta_real=0 ta_pred=1.1742115020751953e-05, te_real=0 te_mask=0 te_pred=0.50048828125 -> true\n",
      "36: TA0003: T1505, ta_real=0 ta_pred=4.470348358154297e-06, te_real=0 te_mask=0 te_pred=0.560546875 -> true\n",
      "40: TA0040: T1565, ta_real=0 ta_pred=1.8477439880371094e-06, te_real=0 te_mask=0 te_pred=0.8359375 -> true\n",
      "42: TA0001: T1190, ta_real=0 ta_pred=1.430511474609375e-06, te_real=0 te_mask=0 te_pred=0.85205078125 -> true\n",
      "51: TA0001: T1190, ta_real=1 ta_pred=5.7816505432128906e-05, te_real=1 te_mask=0 te_pred=0.377685546875 -> false\n",
      "66: TA0040: T1499, ta_real=1 ta_pred=4.589557647705078e-06, te_real=1 te_mask=0 te_pred=0.44189453125 -> false\n",
      "73: TA0004: T1068, ta_real=0 ta_pred=1.7881393432617188e-07, te_real=0 te_mask=0 te_pred=0.472412109375 -> true\n",
      "73: TA0001: T1190, ta_real=0 ta_pred=3.3974647521972656e-06, te_real=0 te_mask=0 te_pred=0.30078125 -> true\n",
      "73: TA0002: T1203, ta_real=1 ta_pred=0.0012350082397460938, te_real=1 te_mask=0 te_pred=0.36474609375 -> false\n",
      "93: TA0002: T1203, ta_real=0 ta_pred=1.7881393432617188e-07, te_real=0 te_mask=0 te_pred=0.69580078125 -> true\n",
      "99: TA0001: T1190, ta_real=1 ta_pred=0.006511688232421875, te_real=1 te_mask=0 te_pred=0.388671875 -> false\n",
      "102: TA0001: T1190, ta_real=0 ta_pred=9.608268737792969e-05, te_real=0 te_mask=0 te_pred=0.4921875 -> true\n",
      "111: TA0040: T1565, ta_real=0 ta_pred=1.7881393432617188e-07, te_real=0 te_mask=0 te_pred=0.9169921875 -> true\n",
      "116: TA0002: T1203, ta_real=0 ta_pred=4.267692565917969e-05, te_real=0 te_mask=0 te_pred=0.26904296875 -> true\n",
      "120: TA0005: T1211, ta_real=0 ta_pred=0.00051116943359375, te_real=0 te_mask=0 te_pred=0.27001953125 -> true\n",
      "121: TA0001: T1190, ta_real=0 ta_pred=4.410743713378906e-06, te_real=0 te_mask=0 te_pred=0.85546875 -> true\n",
      "143: TA0002: T1059, ta_real=1 ta_pred=0.0008134841918945312, te_real=1 te_mask=0 te_pred=0.26904296875 -> false\n",
      "143: TA0001: T1190, ta_real=1 ta_pred=0.0099334716796875, te_real=1 te_mask=0 te_pred=0.358154296875 -> false\n",
      "143: TA0040: T1565, ta_real=0 ta_pred=5.269050598144531e-05, te_real=0 te_mask=0 te_pred=0.368896484375 -> true\n",
      "Hamming loss: 0.008535 -> 0.008428\n",
      "Precision score(samples): 0.304825 -> 0.338268\n",
      "Precision score(macro): 0.049149 -> 0.054806\n",
      "Precision score(micro): 0.472973 -> 0.483871\n",
      "Recall score(samples): 0.275219 -> 0.297149\n",
      "Recall score(macro): 0.041818 -> 0.048091\n",
      "Recall score(micro): 0.301724 -> 0.323276\n",
      "F1 score(samples): 0.272588 -> 0.298026\n",
      "F1 score(macro): 0.042192 -> 0.048322\n",
      "F1 score(micro): 0.368421 -> 0.387597\n",
      "F0.5 score(samples): 0.286185 -> 0.315456\n",
      "F0.5 score(macro): 0.045229 -> 0.051276\n",
      "F0.5 score(micro): 0.424757 -> 0.440141\n",
      "Accuracy score: 0.144737 -> 0.164474\n"
     ]
    }
   ],
   "source": [
    "print('Post-processing-----------------------------------------------------')\n",
    "ta_correct_true = {}\n",
    "ta_correct_false = {}\n",
    "sub_correct_true = {}\n",
    "sub_correct_false = {}\n",
    "highrate_correct_true = {}\n",
    "highrate_correct_false = {}\n",
    "all_true_mod = 0\n",
    "all_false_mod = 0\n",
    "all_true = 0\n",
    "all_false = 0\n",
    "true_origin = 0\n",
    "false_origin = 0\n",
    "\n",
    "te_modified = []\n",
    "modified_ind = set()\n",
    "for ind in range(len(df_te_test)):\n",
    "    te_tmp = {}\n",
    "    te_mask = {}\n",
    "    te_pred = {}\n",
    "    te_real = {}\n",
    "    ta_real = {}\n",
    "    ta_pred = {}\n",
    "\n",
    "    ta_threshold = 0.01\n",
    "    te_threshold = 0.25\n",
    "    \n",
    "    for i, v in enumerate(ta_model_outputs[ind]):\n",
    "        ta_pred[TACTIC[i]] = v\n",
    "        for te in TACTICS_TECHNIQUES_RELATIONSHIP_DF[TACTIC[i]]:\n",
    "            try:\n",
    "                te_mask[te] |= int(v>ta_threshold)\n",
    "            except KeyError:\n",
    "                te_mask[te] = int(v>ta_threshold)\n",
    "    for te, v in list(zip(TECHNIQUE, te_model_outputs[ind])):\n",
    "        te_pred[te] = v\n",
    "    for te, v in list(zip(TECHNIQUE, te_true[ind])):\n",
    "        te_real[te] = int(v)\n",
    "    for ta, v in list(zip(TACTIC, ta_true[ind])):\n",
    "        ta_real[ta] = int(v)\n",
    "\n",
    "    tp = fp = tn = fn = 0\n",
    "    tp_ = fp_ = tn_ = fn_ = 0\n",
    "    for te in TECHNIQUE:\n",
    "        # if te was set to True by sub-tech then pass\n",
    "        try:\n",
    "            if te_tmp[te]:\n",
    "                continue\n",
    "        except KeyError:\n",
    "            # Te prediction>0.95 then discard correction\n",
    "            if te_pred[te] > 0.95:\n",
    "                te_mask[te] = 1\n",
    "                if te_real[te]:\n",
    "                    try:\n",
    "                        highrate_correct_true[te] += 1\n",
    "                    except KeyError:\n",
    "                        highrate_correct_true[te] = 1\n",
    "                    # print(f'{ind}: {te}, te_real={te_real[te]} te_pred={te_pred[te]} high pred rate -> True')\n",
    "                else:\n",
    "                    try:\n",
    "                        highrate_correct_false[te] += 1\n",
    "                    except KeyError:\n",
    "                        highrate_correct_false[te] = 1\n",
    "                    # print(f'{ind}: {te}, te_real={te_real[te]} te_pred={te_pred[te]} high pred rate -> False')\n",
    "                    \n",
    "            te_tmp[te] = int(te_pred[te]>=te_threshold) & te_mask[te]\n",
    "        \n",
    "        # Te set to True if te_pred>=threshold\n",
    "        if te_pred[te] >= te_threshold:\n",
    "            if te_real[te]:\n",
    "                tp += 1 # real=1 and pred=1 => TP\n",
    "                if te_mask[te]:\n",
    "                    tp_ += 1 # real=1 and pred=1->1 => TP_\n",
    "                    \n",
    "                    # Set parent technique to True if sub-tech is TP_\n",
    "                    if len(te.split('.')) > 1:\n",
    "                        te_parent = te.split('.')[0]\n",
    "                        try:\n",
    "                            if te_tmp[te_parent]:\n",
    "                                pass\n",
    "                            else:\n",
    "                                raise KeyError\n",
    "                        except KeyError:\n",
    "                            te_tmp[te_parent] = 1\n",
    "\n",
    "                            if te_real[te_parent]:\n",
    "                                if te_pred[te_parent] < te_threshold:\n",
    "                                    try:\n",
    "                                        sub_correct_true[te_parent] += 1\n",
    "                                    except KeyError:\n",
    "                                        sub_correct_true[te_parent] = 1\n",
    "                                    status = 'True'\n",
    "                                else:\n",
    "                                    status = 'Useless'\n",
    "                            else:\n",
    "                                try:\n",
    "                                    sub_correct_false[te_parent] += 1\n",
    "                                except KeyError:\n",
    "                                    sub_correct_false[te_parent] = 1\n",
    "                                status = 'False'\n",
    "                            if status != 'Useless':\n",
    "                                print(f'{ind}: {te_parent}: {te}, te_parent_real={te_real[te_parent]} te_parent_pred={te_pred[te_parent]}, te_real={te_real[te]} te_pred={te_pred[te]} -> {status}')\n",
    "                        \n",
    "                else:\n",
    "                    fn_ += 1 # real=1 and pred=1->0 => FN_\n",
    "                    \n",
    "                    for ta in TACTICS_TECHNIQUES_RELATIONSHIP_DF:\n",
    "                        if te in TACTICS_TECHNIQUES_RELATIONSHIP_DF[ta].unique():\n",
    "                            print(f'{ind}: {ta}: {te}, ta_real={ta_real[ta]} ta_pred={ta_pred[ta]}, te_real={te_real[te]} te_mask={te_mask[te]} te_pred={te_pred[te]} -> false')\n",
    "                            break\n",
    "                    try:\n",
    "                        ta_correct_false[te] += 1\n",
    "                    except KeyError:\n",
    "                        ta_correct_false[te] = 1\n",
    "            else:\n",
    "                fp += 1 # real=0 and pred=1 => FP\n",
    "                if te_mask[te]:\n",
    "                    fp_ += 1 # real=0 and pred=1->1 => FP_\n",
    "                else:\n",
    "                    tn_ += 1 # real=0 and pred=1->0 => TN_\n",
    "                    \n",
    "                    for ta in TACTICS_TECHNIQUES_RELATIONSHIP_DF:\n",
    "                        if te in TACTICS_TECHNIQUES_RELATIONSHIP_DF[ta].unique():\n",
    "                            print(f'{ind}: {ta}: {te}, ta_real={ta_real[ta]} ta_pred={ta_pred[ta]}, te_real={te_real[te]} te_mask={te_mask[te]} te_pred={te_pred[te]} -> true')\n",
    "                            break\n",
    "                    try:\n",
    "                        ta_correct_true[te] += 1\n",
    "                    except KeyError:\n",
    "                        ta_correct_true[te] = 1\n",
    "                        \n",
    "        # Te set to False if te_pred<threshold\n",
    "        else:\n",
    "            if te_real[te]:\n",
    "                fn += 1 # real=1 and pred=0 => FN\n",
    "                fn_ += 1 # real=1 and pred=0->0 => FN_\n",
    "            else:\n",
    "                tn += 1 # real=0 and pred=0 => TN\n",
    "                tn_ += 1 # real=0 and pred=0->0 =>TN_\n",
    "    \n",
    "    true_mod = 0\n",
    "    false_mod = 0\n",
    "    true = 0\n",
    "    false = 0\n",
    "    true_ori = 0\n",
    "    false_ori = 0\n",
    "    for te in TECHNIQUE:\n",
    "        if te_real[te]:\n",
    "            if te_pred[te]>=0.5:\n",
    "                true_ori += 1\n",
    "                if te_tmp[te]:\n",
    "                    true += 1\n",
    "                else:\n",
    "                    false += 1\n",
    "                    false_mod += 1\n",
    "            else:\n",
    "                false_ori += 1\n",
    "                if te_tmp[te]:\n",
    "                    true += 1\n",
    "                    true_mod += 1\n",
    "                else:\n",
    "                    false += 1\n",
    "        # else:\n",
    "        #     if te_pred[te]>=0.5:\n",
    "        #         false_ori += 1\n",
    "        #         if te_tmp[te]:\n",
    "        #             false += 1\n",
    "        #         else:\n",
    "        #             true += 1\n",
    "        #             true_mod += 1\n",
    "        #     else:\n",
    "        #         true_ori += 1\n",
    "        #         if te_tmp[te]:\n",
    "        #             false += 1\n",
    "        #             false_mod += 1\n",
    "        #         else:\n",
    "        #             true += 1\n",
    "            \n",
    "    all_true_mod += true_mod\n",
    "    all_false_mod += false_mod\n",
    "    all_true += true\n",
    "    all_false += false\n",
    "    true_origin += true_ori\n",
    "    false_origin += false_ori\n",
    "    # print(f'{ind}: true modified {true}, false modified {false}')\n",
    "\n",
    "    te_tmp = [te_tmp[te] for te in TECHNIQUE]\n",
    "    te_modified.append(te_tmp)\n",
    "    # print([[tp, fn],     #        [fp, tn]], '\\n', \n",
    "    #      [[tp_, fn_],     #       [fp_, tn_]])\n",
    "\n",
    "te_model_outputs_bi = (te_model_outputs > 0.5).astype(np.int_)\n",
    "print('Hamming loss: %f -> %f' % (hamming_loss(te_true, te_model_outputs_bi), hamming_loss(te_true, te_modified)))\n",
    "print('Precision score(samples): %f -> %f' % (precision_score(te_true, te_model_outputs_bi, average='samples', zero_division=0), precision_score(te_true, te_modified, average='samples', zero_division=0)))\n",
    "print('Precision score(macro): %f -> %f' % (precision_score(te_true, te_model_outputs_bi, average='macro', zero_division=0), precision_score(te_true, te_modified, average='macro', zero_division=0)))\n",
    "print('Precision score(micro): %f -> %f' % (precision_score(te_true, te_model_outputs_bi, average='micro', zero_division=0), precision_score(te_true, te_modified, average='micro', zero_division=0)))\n",
    "\n",
    "print('Recall score(samples): %f -> %f' % (recall_score(te_true, te_model_outputs_bi, average='samples', zero_division=0), recall_score(te_true, te_modified, average='samples', zero_division=0)))\n",
    "print('Recall score(macro): %f -> %f' % (recall_score(te_true, te_model_outputs_bi, average='macro', zero_division=0), recall_score(te_true, te_modified, average='macro', zero_division=0)))\n",
    "print('Recall score(micro): %f -> %f' % (recall_score(te_true, te_model_outputs_bi, average='micro', zero_division=0), recall_score(te_true, te_modified, average='micro', zero_division=0)))\n",
    "\n",
    "print('F1 score(samples): %f -> %f' % (f1_score(te_true, te_model_outputs_bi, average='samples', zero_division=0), f1_score(te_true, te_modified, average='samples', zero_division=0)))\n",
    "print('F1 score(macro): %f -> %f' % (f1_score(te_true, te_model_outputs_bi, average='macro', zero_division=0), f1_score(te_true, te_modified, average='macro', zero_division=0)))\n",
    "print('F1 score(micro): %f -> %f' % (f1_score(te_true, te_model_outputs_bi, average='micro', zero_division=0), f1_score(te_true, te_modified, average='micro', zero_division=0)))\n",
    "\n",
    "print('F0.5 score(samples): %f -> %f' % (fbeta_score(te_true, te_model_outputs_bi, beta=0.5, average='samples', zero_division=0), fbeta_score(te_true, te_modified, beta=0.5, average='samples', zero_division=0)))\n",
    "print('F0.5 score(macro): %f -> %f' % (fbeta_score(te_true, te_model_outputs_bi, beta=0.5, average='macro', zero_division=0), fbeta_score(te_true, te_modified, beta=0.5, average='macro', zero_division=0)))\n",
    "print('F0.5 score(micro): %f -> %f' % (fbeta_score(te_true, te_model_outputs_bi, beta=0.5, average='micro', zero_division=0), fbeta_score(te_true, te_modified, beta=0.5, average='micro', zero_division=0)))\n",
    "\n",
    "print('Accuracy score: %f -> %f' % (accuracy_score(te_true, te_model_outputs_bi), accuracy_score(te_true, te_modified)))"
   ]
  },
  {
   "cell_type": "markdown",
   "id": "e3ba1324",
   "metadata": {},
   "source": [
    "# Metrics log"
   ]
  },
  {
   "cell_type": "code",
   "execution_count": null,
   "id": "4f0ee797",
   "metadata": {},
   "outputs": [],
   "source": [
    "metrics_data_ta = {\n",
    "    'hamming_loss': [],\n",
    "    'f1_sample': [],\n",
    "    'f1_micro': [],\n",
    "    'f1_macro': [],\n",
    "    'f_05_sample': [],\n",
    "    'f_05_micro': [],\n",
    "    'f_05_macro': [],\n",
    "    'precision_samples': [],\n",
    "    'precision_micro': [],\n",
    "    'precision_macro': [],\n",
    "    'recall_samples': [],\n",
    "    'recall_micro': [],\n",
    "    'recall_macro': [],\n",
    "    'accuracy': [],\n",
    "    'coverage_error': [],\n",
    "    'label_ranking_loss': [],\n",
    "    'lrap': []\n",
    "}\n",
    "\n",
    "# 遍歷你的日誌數據，提取數值\n",
    "for log_entry in metrics_log_ta:\n",
    "    for metric_name, value in log_entry.items():\n",
    "        metrics_data_ta[metric_name].append(float(value)) # 確保轉換為 float"
   ]
  },
  {
   "cell_type": "code",
   "execution_count": null,
   "id": "a93c0eb3",
   "metadata": {},
   "outputs": [
    {
     "data": {
      "image/png": "[encoded data removed]",
      "text/plain": [
       "<Figure size 1200x700 with 1 Axes>"
      ]
     },
     "metadata": {},
     "output_type": "display_data"
    }
   ],
   "source": [
    "plt.figure(figsize=(12, 7))\n",
    "epochs = range(1, len(metrics_log_ta) + 1)\n",
    "for metric_name, values in metrics_data_ta.items():\n",
    "    # print(f\"{metric_name}: {len(values)}\")\n",
    "    if metric_name != 'lrap' and metric_name != 'coverage_error':\n",
    "        plt.plot(epochs, values, label=metric_name)\n",
    "        i+=1\n",
    "\n",
    "plt.xlabel('Epoch')\n",
    "plt.ylabel('Metric Value')\n",
    "plt.title('Tactic - All Metrics Over Epochs')\n",
    "plt.legend()\n",
    "plt.grid(True)\n",
    "plt.tight_layout()\n",
    "plt.show()"
   ]
  },
  {
   "cell_type": "code",
   "execution_count": null,
   "id": "d3a87434",
   "metadata": {},
   "outputs": [
    {
     "data": {
      "image/png": "[encoded data removed]",
      "text/plain": [
       "<Figure size 1200x700 with 1 Axes>"
      ]
     },
     "metadata": {},
     "output_type": "display_data"
    }
   ],
   "source": [
    "plt.figure(figsize=(12, 7))\n",
    "epochs = range(1, len(metrics_log_ta) + 1)\n",
    "for metric_name, values in metrics_data_ta.items():\n",
    "    # print(f\"{metric_name}: {len(values)}\")\n",
    "    if metric_name == 'coverage_error':\n",
    "        plt.plot(epochs, values, label=metric_name)\n",
    "        i+=1\n",
    "\n",
    "plt.xlabel('Epoch')\n",
    "plt.ylabel('Metric Value')\n",
    "plt.title('Tactic -All Metrics Over Epochs')\n",
    "plt.legend()\n",
    "plt.grid(True)\n",
    "plt.tight_layout()\n",
    "plt.show()"
   ]
  },
  {
   "cell_type": "code",
   "execution_count": null,
   "id": "de16ca50",
   "metadata": {},
   "outputs": [
    {
     "data": {
      "image/png": "[encoded data removed]",
      "text/plain": [
       "<Figure size 1200x700 with 1 Axes>"
      ]
     },
     "metadata": {},
     "output_type": "display_data"
    }
   ],
   "source": [
    "plt.figure(figsize=(12, 7))\n",
    "epochs = range(1, len(metrics_log_ta) + 1)\n",
    "for metric_name, values in metrics_data_ta.items():\n",
    "    # print(f\"{metric_name}: {len(values)}\")\n",
    "    if metric_name == 'lrap':\n",
    "        plt.plot(epochs, values, label=metric_name)\n",
    "        i+=1\n",
    "\n",
    "plt.xlabel('Epoch')\n",
    "plt.ylabel('Metric Value')\n",
    "plt.title('Tactic -All Metrics Over Epochs')\n",
    "plt.legend()\n",
    "plt.grid(True)\n",
    "plt.tight_layout()\n",
    "plt.show()"
   ]
  },
  {
   "cell_type": "markdown",
   "id": "abd631c6",
   "metadata": {},
   "source": [
    "### Technique"
   ]
  },
  {
   "cell_type": "code",
   "execution_count": null,
   "id": "88370265",
   "metadata": {},
   "outputs": [],
   "source": [
    "metrics_data_te = {\n",
    "    'hamming_loss': [],\n",
    "    'f1_sample': [],\n",
    "    'f1_micro': [],\n",
    "    'f1_macro': [],\n",
    "    'f_05_sample': [],\n",
    "    'f_05_micro': [],\n",
    "    'f_05_macro': [],\n",
    "    'precision_samples': [],\n",
    "    'precision_micro': [],\n",
    "    'precision_macro': [],\n",
    "    'recall_samples': [],\n",
    "    'recall_micro': [],\n",
    "    'recall_macro': [],\n",
    "    'accuracy': [],\n",
    "    'coverage_error': [],\n",
    "    'label_ranking_loss': [],\n",
    "    'lrap': []\n",
    "}\n",
    "\n",
    "# 遍歷你的日誌數據，提取數值\n",
    "for log_entry in metrics_log_te:\n",
    "    for metric_name, value in log_entry.items():\n",
    "        metrics_data_te[metric_name].append(float(value)) # 確保轉換為 float"
   ]
  },
  {
   "cell_type": "code",
   "execution_count": null,
   "id": "07949ffe",
   "metadata": {},
   "outputs": [
    {
     "data": {
      "image/png": "[encoded data removed]",
      "text/plain": [
       "<Figure size 1200x700 with 1 Axes>"
      ]
     },
     "metadata": {},
     "output_type": "display_data"
    }
   ],
   "source": [
    "plt.figure(figsize=(12, 7))\n",
    "epochs = range(1, len(metrics_log_te) + 1)\n",
    "for metric_name, values in metrics_data_te.items():\n",
    "    # print(f\"{metric_name}: {len(values)}\")\n",
    "    if metric_name != 'lrap' and metric_name != 'coverage_error':\n",
    "        plt.plot(epochs, values, label=metric_name)\n",
    "        i+=1\n",
    "\n",
    "plt.xlabel('Epoch')\n",
    "plt.ylabel('Metric Value')\n",
    "plt.title('Technique - All Metrics Over Epochs')\n",
    "plt.legend()\n",
    "plt.grid(True)\n",
    "plt.tight_layout()\n",
    "plt.show()"
   ]
  },
  {
   "cell_type": "code",
   "execution_count": null,
   "id": "4ef6baf8",
   "metadata": {},
   "outputs": [
    {
     "data": {
      "image/png": "[encoded data removed]",
      "text/plain": [
       "<Figure size 1200x700 with 1 Axes>"
      ]
     },
     "metadata": {},
     "output_type": "display_data"
    }
   ],
   "source": [
    "plt.figure(figsize=(12, 7))\n",
    "epochs = range(1, len(metrics_log_te) + 1)\n",
    "for metric_name, values in metrics_data_te.items():\n",
    "    # print(f\"{metric_name}: {len(values)}\")\n",
    "    if metric_name == 'coverage_error':\n",
    "        plt.plot(epochs, values, label=metric_name)\n",
    "        i+=1\n",
    "\n",
    "plt.xlabel('Epoch')\n",
    "plt.ylabel('Metric Value')\n",
    "plt.title('Technique - All Metrics Over Epochs')\n",
    "plt.legend()\n",
    "plt.grid(True)\n",
    "plt.tight_layout()\n",
    "plt.show()"
   ]
  },
  {
   "cell_type": "code",
   "execution_count": null,
   "id": "59f993d6",
   "metadata": {},
   "outputs": [
    {
     "data": {
      "image/png": "[encoded data removed]",
      "text/plain": [
       "<Figure size 1200x700 with 1 Axes>"
      ]
     },
     "metadata": {},
     "output_type": "display_data"
    }
   ],
   "source": [
    "plt.figure(figsize=(12, 7))\n",
    "epochs = range(1, len(metrics_log_te) + 1)\n",
    "for metric_name, values in metrics_data_te.items():\n",
    "    # print(f\"{metric_name}: {len(values)}\")\n",
    "    if metric_name == 'lrap':\n",
    "        plt.plot(epochs, values, label=metric_name)\n",
    "        i+=1\n",
    "\n",
    "plt.xlabel('Epoch')\n",
    "plt.ylabel('Metric Value')\n",
    "plt.title('Technique - All Metrics Over Epochs')\n",
    "plt.legend()\n",
    "plt.grid(True)\n",
    "plt.tight_layout()\n",
    "plt.show()"
   ]
  }
 ],
 "metadata": {
  "kernelspec": {
   "display_name": "dl_final",
   "language": "python",
   "name": "python3"
  },
  "language_info": {
   "codemirror_mode": {
    "name": "ipython",
    "version": 3
   },
   "file_extension": ".py",
   "mimetype": "text/x-python",
   "name": "python",
   "nbconvert_exporter": "python",
   "pygments_lexer": "ipython3",
   "version": "3.12.7"
  }
 },
 "nbformat": 4,
 "nbformat_minor": 5
}
