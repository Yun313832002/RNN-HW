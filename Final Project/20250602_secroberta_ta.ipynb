{
 "cells": [
  {
   "cell_type": "code",
   "execution_count": 94,
   "id": "8d95e049",
   "metadata": {},
   "outputs": [],
   "source": [
    "import os\n",
    "os.environ[\"TOKENIZERS_PARALLELISM\"] = \"false\"\n",
    "import pandas as pd\n",
    "import numpy as np\n",
    "import sklearn\n",
    "import re\n",
    "import math\n",
    "import joblib\n",
    "from tqdm.notebook import tqdm\n",
    "import matplotlib.pyplot as plt"
   ]
  },
  {
   "cell_type": "code",
   "execution_count": 95,
   "id": "0db3d77a",
   "metadata": {},
   "outputs": [],
   "source": [
    "import pandas as pd\n",
    "import numpy as np\n",
    "import pickle\n",
    "import matplotlib.pyplot as plt\n",
    "import seaborn as sns\n",
    "import re\n",
    "import copy\n",
    "from tqdm import tqdm\n",
    "import gc\n",
    "\n",
    "import torch\n",
    "import torch.nn as nn\n",
    "import torch.nn.functional as F\n",
    "from torch import optim\n",
    "from torch.utils.data import Dataset, DataLoader\n",
    "\n",
    "from sklearn.model_selection import train_test_split\n",
    "\n",
    "from sklearn.metrics import (\n",
    "    accuracy_score,\n",
    "    f1_score,\n",
    "    precision_score,\n",
    "    recall_score,\n",
    "    classification_report\n",
    ")\n",
    "\n",
    "from transformers import (\n",
    "    AutoTokenizer,\n",
    "    AutoModel,\n",
    "    get_linear_schedule_with_warmup\n",
    ")\n",
    "\n",
    "import nltk\n",
    "import re\n",
    "from nltk.corpus import stopwords\n",
    "from nltk.stem import PorterStemmer, WordNetLemmatizer\n",
    "from nltk.tokenize import word_tokenize\n",
    "\n",
    "from transformers import BertTokenizer, BertForMaskedLM\n",
    "\n",
    "from sklearn.metrics import (\n",
    "    recall_score,\n",
    "    precision_score\n",
    "  )\n",
    "\n",
    "from sklearn.metrics import multilabel_confusion_matrix"
   ]
  },
  {
   "cell_type": "code",
   "execution_count": 96,
   "id": "a757780c",
   "metadata": {},
   "outputs": [],
   "source": [
    "from nltk.corpus import stopwords\n",
    "from nltk.corpus import wordnet\n",
    "from nltk.tokenize import word_tokenize\n",
    "from nltk.stem import WordNetLemmatizer\n",
    "from nltk import pos_tag\n",
    "import nltk"
   ]
  },
  {
   "cell_type": "code",
   "execution_count": 97,
   "id": "dac02406",
   "metadata": {},
   "outputs": [],
   "source": [
    "import warnings\n",
    "from sklearn.exceptions import UndefinedMetricWarning\n",
    "warnings.filterwarnings(\"ignore\", category=FutureWarning)\n",
    "warnings.filterwarnings(\"ignore\", category=UndefinedMetricWarning)"
   ]
  },
  {
   "cell_type": "code",
   "execution_count": 98,
   "id": "9b56fa49",
   "metadata": {},
   "outputs": [
    {
     "name": "stdout",
     "output_type": "stream",
     "text": [
      "Time now: 06-02-22-48\n"
     ]
    }
   ],
   "source": [
    "time_now = pd.Timestamp.now().strftime(\"%m-%d-%H-%M\")\n",
    "print(f\"Time now: {time_now}\")"
   ]
  },
  {
   "cell_type": "markdown",
   "id": "886c73dc",
   "metadata": {},
   "source": [
    "# Config"
   ]
  },
  {
   "cell_type": "code",
   "execution_count": 99,
   "id": "10e0995a",
   "metadata": {},
   "outputs": [],
   "source": [
    "class Config:\n",
    "    def __init__(self):\n",
    "        super(Config, self).__init__()\n",
    "\n",
    "        self.SEED = 42\n",
    "        self.MODEL_PATH = 'jackaduma/SecRoBERTa'\n",
    "        self.NUM_LABELS_TA = 14\n",
    "        self.NUM_LABELS_TE = 185\n",
    "\n",
    "        self.TOKENIZER = AutoTokenizer.from_pretrained(self.MODEL_PATH)\n",
    "        self.MAX_LENGTH = 320\n",
    "        self.BATCH_SIZE = 16\n",
    "\n",
    "        self.DEVICE = torch.device('cuda' if torch.cuda.is_available() else 'cpu')\n",
    "        self.FULL_FINETUNING = True\n",
    "        self.LR = 3e-5\n",
    "        self.OPTIMIZER = 'AdamW'\n",
    "        self.CRITERION = 'BCEWithLogitsLoss'\n",
    "        self.N_VALIDATE_DUR_TRAIN = 3\n",
    "        self.N_WARMUP = 0\n",
    "        self.SAVE_BEST_ONLY = True\n",
    "        self.EPOCHS = 50"
   ]
  },
  {
   "cell_type": "code",
   "execution_count": 100,
   "id": "d739eb03",
   "metadata": {},
   "outputs": [],
   "source": [
    "TACTIC = ['TA0001', 'TA0002', 'TA0003', 'TA0004', 'TA0005', 'TA0006', 'TA0007', 'TA0008', 'TA0009', 'TA0010', 'TA0011', 'TA0040', 'TA0042', 'TA0043']\n",
    "TECHNIQUE = ['T1001', 'T1003', 'T1005', 'T1006', 'T1007', 'T1008', 'T1010', 'T1011', 'T1012', 'T1014', 'T1016', 'T1018', 'T1020', 'T1021', 'T1025', 'T1027', 'T1029', 'T1030', 'T1033', 'T1036', 'T1037', 'T1039', 'T1040', 'T1041', 'T1046', 'T1047', 'T1048', 'T1049', 'T1052', 'T1053', 'T1055', 'T1056', 'T1057', 'T1059', 'T1068', 'T1069', 'T1071', 'T1072', 'T1074', 'T1078', 'T1080', 'T1082', 'T1083', 'T1087', 'T1090', 'T1091', 'T1092', 'T1095', 'T1098', 'T1102', 'T1104', 'T1105', 'T1106', 'T1110', 'T1111', 'T1112', 'T1113', 'T1114', 'T1115', 'T1119', 'T1120', 'T1123', 'T1124', 'T1125', 'T1127', 'T1129', 'T1132', 'T1133', 'T1134', 'T1135', 'T1136', 'T1137', 'T1140', 'T1176', 'T1185', 'T1187', 'T1189', 'T1190', 'T1195', 'T1197', 'T1199', 'T1200', 'T1201', 'T1202', 'T1203', 'T1204', 'T1205', 'T1207', 'T1210', 'T1211', 'T1212', 'T1213', 'T1216', 'T1218', 'T1220', 'T1221', 'T1222', 'T1480', 'T1482', 'T1485', 'T1486', 'T1489', 'T1490', 'T1491', 'T1495', 'T1496', 'T1497', 'T1498', 'T1499', 'T1505', 'T1518', 'T1525', 'T1526', 'T1528', 'T1529', 'T1531', 'T1534', 'T1535', 'T1537', 'T1538', 'T1539', 'T1542', 'T1543', 'T1546', 'T1547', 'T1548', 'T1550', 'T1552', 'T1553', 'T1555', 'T1556', 'T1557', 'T1558', 'T1559', 'T1560', 'T1561', 'T1562', 'T1563', 'T1564', 'T1565', 'T1566', 'T1567', 'T1568', 'T1569', 'T1570', 'T1571', 'T1572', 'T1573', 'T1574', 'T1578', 'T1580', 'T1583', 'T1584', 'T1585', 'T1586', 'T1587', 'T1588', 'T1589', 'T1590', 'T1591', 'T1592', 'T1593', 'T1594', 'T1595', 'T1596', 'T1597', 'T1598', 'T1599', 'T1600', 'T1601', 'T1602', 'T1606', 'T1608', 'T1609', 'T1610', 'T1611', 'T1612', 'T1613', 'T1614', 'T1615', 'T1619', 'T1620', 'T1621', 'T1622', 'T1647']\n",
    "TACTICS_TECHNIQUES_RELATIONSHIP_DF = {\n",
    "\"TA0001\":pd.Series(['T1078', 'T1091', 'T1133', 'T1189', 'T1190', 'T1195', 'T1199', 'T1200', 'T1566', 'T1659', 'T1669']),\n",
    "\"TA0002\":pd.Series(['T1047', 'T1053', 'T1059', 'T1072', 'T1106', 'T1129', 'T1203', 'T1204', 'T1559', 'T1569', 'T1609', 'T1610', 'T1648', 'T1651', 'T1674', 'T1675']),\n",
    "\"TA0003\":pd.Series(['T1037', 'T1053', 'T1078', 'T1098', 'T1112', 'T1133', 'T1136', 'T1137', 'T1176', 'T1197', 'T1205', 'T1505', 'T1525', 'T1542', 'T1543', 'T1546', 'T1547', 'T1554', 'T1556', 'T1574', 'T1653', 'T1668', 'T1671']),\n",
    "\"TA0004\":pd.Series(['T1037', 'T1053', 'T1055', 'T1068', 'T1078', 'T1098', 'T1134', 'T1484', 'T1543', 'T1546', 'T1547', 'T1548', 'T1574', 'T1611']),\n",
    "\"TA0005\":pd.Series(['T1006', 'T1014', 'T1027', 'T1036', 'T1055', 'T1070', 'T1078', 'T1112', 'T1127', 'T1134', 'T1140', 'T1197', 'T1202', 'T1205', 'T1207', 'T1211', 'T1216', 'T1218', 'T1220', 'T1221', 'T1222', 'T1480', 'T1484', 'T1497', 'T1535', 'T1542', 'T1548', 'T1550', 'T1553', 'T1556', 'T1562', 'T1564', 'T1574', 'T1578', 'T1599', 'T1600', 'T1601', 'T1610', 'T1612', 'T1620', 'T1622', 'T1647', 'T1656', 'T1666', 'T1672']),\n",
    "\"TA0006\":pd.Series(['T1003', 'T1040', 'T1056', 'T1110', 'T1111', 'T1187', 'T1212', 'T1528', 'T1539', 'T1552', 'T1555', 'T1556', 'T1557', 'T1558', 'T1606', 'T1621', 'T1649']),\n",
    "\"TA0007\":pd.Series(['T1007', 'T1010', 'T1012', 'T1016', 'T1018', 'T1033', 'T1040', 'T1046', 'T1049', 'T1057', 'T1069', 'T1082', 'T1083', 'T1087', 'T1120', 'T1124', 'T1135', 'T1201', 'T1217', 'T1482', 'T1497', 'T1518', 'T1526', 'T1538', 'T1580', 'T1613', 'T1614', 'T1615', 'T1619', 'T1622', 'T1652', 'T1654', 'T1673']),\n",
    "\"TA0008\":pd.Series(['T1021', 'T1072', 'T1080', 'T1091', 'T1210', 'T1534', 'T1550', 'T1563', 'T1570']),\n",
    "\"TA0009\":pd.Series(['T1005', 'T1025', 'T1039', 'T1056', 'T1074', 'T1113', 'T1114', 'T1115', 'T1119', 'T1123', 'T1125', 'T1185', 'T1213', 'T1530', 'T1557', 'T1560', 'T1602']),\n",
    "\"TA0010\":pd.Series(['T1011', 'T1020', 'T1029', 'T1030', 'T1041', 'T1048', 'T1052', 'T1537', 'T1567']),\n",
    "\"TA0011\":pd.Series(['T1001', 'T1008', 'T1071', 'T1090', 'T1092', 'T1095', 'T1102', 'T1104', 'T1105', 'T1132', 'T1205', 'T1219', 'T1568', 'T1571', 'T1572', 'T1573', 'T1659', 'T1665']),\n",
    "\"TA0040\":pd.Series(['T1485', 'T1486', 'T1489', 'T1490', 'T1491', 'T1495', 'T1496', 'T1498', 'T1499', 'T1529', 'T1531', 'T1561', 'T1565', 'T1657', 'T1667']),                \n",
    "\"TA0042\":pd.Series(['T1583', 'T1584', 'T1585', 'T1586', 'T1587', 'T1588', 'T1608', 'T1650']),\n",
    "\"TA0043\":pd.Series(['T1589', 'T1590', 'T1591', 'T1592', 'T1593', 'T1594', 'T1595', 'T1596', 'T1597', 'T1598'])\n",
    "}"
   ]
  },
  {
   "cell_type": "code",
   "execution_count": 101,
   "id": "07f6f833",
   "metadata": {},
   "outputs": [],
   "source": [
    "df = pd.read_csv('merged_all_columns.csv', encoding='utf-8')\n",
    "# df_attack['tactic_label'] = df_attack.apply(lambda x: list(x[TACTIC]), axis=1)\n",
    "# df_attack['technique_label'] = df_attack.apply(lambda x: list(x[TECHNIQUE]), axis=1)\n",
    "\n",
    "df_tactic_labels = df[TACTIC]\n",
    "df_technique_labels = df[TECHNIQUE]"
   ]
  },
  {
   "cell_type": "code",
   "execution_count": 102,
   "id": "767f45c3",
   "metadata": {},
   "outputs": [
    {
     "name": "stdout",
     "output_type": "stream",
     "text": [
      "      TA0001  TA0002  TA0003  TA0004  TA0005  TA0006  TA0007  TA0008  TA0009  \\\n",
      "0          1       1       0       0       0       0       0       0       0   \n",
      "1          1       1       0       0       0       0       0       0       0   \n",
      "2          0       1       0       0       0       1       0       0       0   \n",
      "3          1       1       0       0       0       0       0       0       0   \n",
      "4          1       0       0       1       1       0       0       0       0   \n",
      "...      ...     ...     ...     ...     ...     ...     ...     ...     ...   \n",
      "1513       0       1       1       0       0       0       0       0       0   \n",
      "1514       0       0       0       0       0       0       0       0       0   \n",
      "1515       0       0       0       1       0       0       0       0       0   \n",
      "1516       0       1       0       0       0       0       0       0       1   \n",
      "1517       0       0       0       0       0       0       0       0       0   \n",
      "\n",
      "      TA0010  TA0011  TA0040  TA0042  TA0043  \n",
      "0          0       0       0       0       0  \n",
      "1          0       0       0       0       0  \n",
      "2          0       0       0       0       0  \n",
      "3          0       0       0       0       0  \n",
      "4          0       0       0       0       0  \n",
      "...      ...     ...     ...     ...     ...  \n",
      "1513       0       0       0       0       0  \n",
      "1514       0       0       1       0       0  \n",
      "1515       0       0       0       0       0  \n",
      "1516       0       0       0       0       0  \n",
      "1517       0       0       0       1       0  \n",
      "\n",
      "[1518 rows x 14 columns]\n"
     ]
    }
   ],
   "source": [
    "print(df_tactic_labels)"
   ]
  },
  {
   "cell_type": "code",
   "execution_count": 103,
   "id": "7e4b3ee8",
   "metadata": {},
   "outputs": [
    {
     "name": "stdout",
     "output_type": "stream",
     "text": [
      "      T1001  T1003  T1005  T1006  T1007  T1008  T1010  T1011  T1012  T1014  \\\n",
      "0         0      0      0      0      0      0      0      0      0      0   \n",
      "1         0      0      0      0      0      0      0      0      0      0   \n",
      "2         0      1      0      0      0      0      0      0      0      0   \n",
      "3         0      0      0      0      0      0      0      0      0      0   \n",
      "4         0      0      0      0      0      0      0      0      0      0   \n",
      "...     ...    ...    ...    ...    ...    ...    ...    ...    ...    ...   \n",
      "1513      0      0      0      0      0      0      0      0      0      0   \n",
      "1514      0      0      0      0      0      0      0      0      0      0   \n",
      "1515      0      0      0      0      0      0      0      0      0      0   \n",
      "1516      0      0      1      0      0      0      0      0      0      0   \n",
      "1517      0      0      0      0      0      0      0      0      0      0   \n",
      "\n",
      "      ...  T1611  T1612  T1613  T1614  T1615  T1619  T1620  T1621  T1622  \\\n",
      "0     ...      0      0      0      0      0      0      0      0      0   \n",
      "1     ...      0      0      0      0      0      0      0      0      0   \n",
      "2     ...      0      0      0      0      0      0      0      0      0   \n",
      "3     ...      0      0      0      0      0      0      0      0      0   \n",
      "4     ...      0      0      0      0      0      0      0      0      0   \n",
      "...   ...    ...    ...    ...    ...    ...    ...    ...    ...    ...   \n",
      "1513  ...      0      0      0      0      0      0      0      0      0   \n",
      "1514  ...      0      0      0      0      0      0      0      0      0   \n",
      "1515  ...      0      0      0      0      0      0      0      0      0   \n",
      "1516  ...      0      0      0      0      0      0      0      0      0   \n",
      "1517  ...      0      0      0      0      0      0      0      0      0   \n",
      "\n",
      "      T1647  \n",
      "0         0  \n",
      "1         0  \n",
      "2         0  \n",
      "3         0  \n",
      "4         0  \n",
      "...     ...  \n",
      "1513      0  \n",
      "1514      0  \n",
      "1515      0  \n",
      "1516      0  \n",
      "1517      0  \n",
      "\n",
      "[1518 rows x 185 columns]\n"
     ]
    }
   ],
   "source": [
    "print(df_technique_labels)"
   ]
  },
  {
   "cell_type": "code",
   "execution_count": 104,
   "id": "919865c1",
   "metadata": {},
   "outputs": [],
   "source": [
    "df['tactic_label'] = df.apply(lambda x: list(x[TACTIC]), axis=1)\n",
    "df['technique_label'] = df.apply(lambda x: list(x[TECHNIQUE]), axis=1)\n"
   ]
  },
  {
   "cell_type": "markdown",
   "id": "5b7fc8c7",
   "metadata": {},
   "source": [
    "# Data processing"
   ]
  },
  {
   "cell_type": "code",
   "execution_count": 105,
   "id": "5018de80",
   "metadata": {},
   "outputs": [],
   "source": [
    "from nltk.corpus import stopwords\n",
    "from nltk.corpus import wordnet\n",
    "from nltk.tokenize import word_tokenize\n",
    "from nltk.stem import WordNetLemmatizer\n",
    "from nltk import pos_tag\n",
    "import nltk"
   ]
  },
  {
   "cell_type": "code",
   "execution_count": 106,
   "id": "173e00c0",
   "metadata": {},
   "outputs": [
    {
     "name": "stdout",
     "output_type": "stream",
     "text": [
      "punkt ⛔ 未安裝，開始下載...\n",
      "stopwords ⛔ 未安裝，開始下載...\n",
      "wordnet ⛔ 未安裝，開始下載...\n",
      "omw-1.4 ⛔ 未安裝，開始下載...\n",
      "averaged_perceptron_tagger ⛔ 未安裝，開始下載...\n",
      "averaged_perceptron_tagger_eng ⛔ 未安裝，開始下載...\n"
     ]
    },
    {
     "name": "stderr",
     "output_type": "stream",
     "text": [
      "[nltk_data] Downloading package punkt to\n",
      "[nltk_data]     C:\\Users\\user\\AppData\\Roaming\\nltk_data...\n",
      "[nltk_data]   Package punkt is already up-to-date!\n",
      "[nltk_data] Downloading package stopwords to\n",
      "[nltk_data]     C:\\Users\\user\\AppData\\Roaming\\nltk_data...\n",
      "[nltk_data]   Package stopwords is already up-to-date!\n",
      "[nltk_data] Downloading package wordnet to\n",
      "[nltk_data]     C:\\Users\\user\\AppData\\Roaming\\nltk_data...\n",
      "[nltk_data]   Package wordnet is already up-to-date!\n",
      "[nltk_data] Downloading package omw-1.4 to\n",
      "[nltk_data]     C:\\Users\\user\\AppData\\Roaming\\nltk_data...\n",
      "[nltk_data]   Package omw-1.4 is already up-to-date!\n",
      "[nltk_data] Downloading package averaged_perceptron_tagger to\n",
      "[nltk_data]     C:\\Users\\user\\AppData\\Roaming\\nltk_data...\n",
      "[nltk_data]   Package averaged_perceptron_tagger is already up-to-\n",
      "[nltk_data]       date!\n",
      "[nltk_data] Downloading package averaged_perceptron_tagger_eng to\n",
      "[nltk_data]     C:\\Users\\user\\AppData\\Roaming\\nltk_data...\n",
      "[nltk_data]   Package averaged_perceptron_tagger_eng is already up-to-\n",
      "[nltk_data]       date!\n"
     ]
    }
   ],
   "source": [
    "import nltk\n",
    "\n",
    "resources = [\n",
    "    \"punkt\",\n",
    "    \"stopwords\",\n",
    "    \"wordnet\",\n",
    "    \"omw-1.4\",\n",
    "    \"averaged_perceptron_tagger\",\n",
    "    \"averaged_perceptron_tagger_eng\"\n",
    "]\n",
    "\n",
    "for res in resources:\n",
    "    try:\n",
    "        nltk.data.find(res)\n",
    "        print(f\"{res} ✅ 已安裝\")\n",
    "    except LookupError:\n",
    "        print(f\"{res} ⛔ 未安裝，開始下載...\")\n",
    "        nltk.download(res)\n"
   ]
  },
  {
   "cell_type": "code",
   "execution_count": 107,
   "id": "6f7cf101",
   "metadata": {},
   "outputs": [],
   "source": [
    "def get_wordnet_pos(tag):\n",
    "    if tag.startswith('J'):\n",
    "        return wordnet.ADJ\n",
    "    elif tag.startswith('V'):\n",
    "        return wordnet.VERB\n",
    "    elif tag.startswith('N'):\n",
    "        return wordnet.NOUN\n",
    "    elif tag.startswith('R'):\n",
    "        return wordnet.ADV\n",
    "    else:\n",
    "        return 'n'\n",
    "\n",
    "def ioc_sub(text):\n",
    "    def reg_handler(obj):\n",
    "        s = obj.group(1)\n",
    "        s = ' '.join(s.split('\\\\'))\n",
    "        return s\n",
    "\n",
    "    def file_handler(obj):\n",
    "        s = obj.group(2)\n",
    "        s = s.split('\\\\')[-1]\n",
    "        return s\n",
    "    \n",
    "    text = re.sub(r'(?:(?:25[0-5]|2[0-4][0-9]|[01]?[0-9][0-9]?)(\\.|\\[\\.\\])){3}(?:25[0-5]|2[0-4][0-9]|[01]?[0-9][0-9]?)(\\/([0-2][0-9]|3[0-2]|[0-9]))?', 'IPv4', text)\n",
    "    text = re.sub(r'\\b(\\d{1,3}\\.\\d{1,3}\\.\\d{1,3}\\.\\d{1,3})\\b', 'IP', text)\n",
    "    text = re.sub(r'\\b(CVE\\-[0-9]{4}\\-[0-9]{4,6})\\b', 'CVE', text)\n",
    "    text = re.sub(r'CVE-[0-9]{4}-[0-9]{4,6}', 'vulnerability', text)\n",
    "    text = re.sub(r'\\b([a-z][_a-z0-9-.]+@[a-z0-9-]+\\.[a-z]+)\\b', 'email', text)\n",
    "    text = re.sub(r'\\b((HKLM|HKCU|HKCR|HKU|HKCC)\\\\[\\\\A-Za-z0-9-_]+)\\b', reg_handler, text)\n",
    "    text = re.sub(r'\\b([a-zA-Z]{1}:\\\\([0-9a-zA-Z_\\.\\-\\/\\\\]+))\\b', file_handler, text)\n",
    "    text = re.sub(r'\\b([a-f0-9]{32}|[A-F0-9]{32})\\b', 'MD5', text)\n",
    "    text = re.sub(r'\\b([a-f0-9]{40}|[A-F0-9]{40})\\b', 'SHA1', text)\n",
    "    text = re.sub(r'\\b([a-f0-9]{64}|[A-F0-9]{64})\\b', 'SHA256', text)\n",
    "    text = re.sub(r'\\d+:[A-Za-z0-9/+]+:[A-Za-z0-9/+]+', 'ssdeep', text)\n",
    "    text = re.sub(r'\\b[a-fA-F\\d]{32}\\b|\\b[a-fA-F\\d]{40}\\b|\\b[a-fA-F\\d]{64}\\b', 'hash', text)\n",
    "    text = re.sub(r'h[tx][tx]ps?:[\\\\\\/][\\\\\\/](?:[0-9a-zA-Z_\\.\\-\\/\\\\]|\\[\\.\\])+', 'URL', text)\n",
    "    text = re.sub(r'((?:[0-9a-zA-Z_\\-]+\\.)+(?:(?!exe|dll)[a-z]{2,4}))', 'domain', text)\n",
    "    text = re.sub(r'[a-fA-F0-9]{16}', '', text)\n",
    "    text = re.sub(r'[0-9]{8}', '', text)\n",
    "    text = re.sub(r'x[A-Fa-f0-9]{2}', '', text)\n",
    "    \n",
    "    return text\n",
    "\n",
    "def rmstopword_and_lemmatize(text):\n",
    "    token = [word for word in word_tokenize(text.lower()) if word not in stopwords.words('english')]\n",
    "    # tag = pos_tag(token)\n",
    "    tag = nltk.pos_tag(token, lang='eng')\n",
    "    lemmatizer = WordNetLemmatizer()\n",
    "    text = ' '.join(list(map(lambda x: lemmatizer.lemmatize(x[0], pos=get_wordnet_pos(x[1])), tag)))\n",
    "    \n",
    "    return text\n",
    "\n",
    "def preprocess(text):\n",
    "    text = str(text)\n",
    "    #text = text.lower()\n",
    "    text = re.sub(r'etc\\.', '', text)\n",
    "    text = re.sub(r'et al\\.', '', text)\n",
    "    text = re.sub(r'e\\.g\\.', '', text)\n",
    "    text = re.sub(r'i\\.e\\.', '', text)\n",
    "    #text = re.sub(r'\\[.\\]', '.', text)\n",
    "    text = re.sub(r'\\[\\d+\\]', '', text)\n",
    "    \n",
    "    text = ioc_sub(text)\n",
    "    \n",
    "    text = re.sub(r'[^A-Za-z0-9_\\[\\]]', ' ', text)\n",
    "    text = re.sub(r'\\s+', ' ', text)\n",
    "    \n",
    "    text = rmstopword_and_lemmatize(text)\n",
    "    \n",
    "    text = re.sub(r'[\\[\\]]', ' ', text)\n",
    "    text = re.sub(r' [a-z0-9] ', '', text)\n",
    "    \n",
    "    return text\n"
   ]
  },
  {
   "cell_type": "code",
   "execution_count": 108,
   "id": "d0b15fb5",
   "metadata": {},
   "outputs": [],
   "source": [
    "df['text_clean'] = df['Text'].map(lambda t: preprocess(t))"
   ]
  },
  {
   "cell_type": "code",
   "execution_count": 109,
   "id": "a1f45aa4",
   "metadata": {},
   "outputs": [
    {
     "name": "stdout",
     "output_type": "stream",
     "text": [
      "waspthemes visual cs style editor aka yellow pencil visual theme customizer plugin2wordpress allows yp_option_update csrf demonstrate use yp_remote_get obtain admin access\n"
     ]
    }
   ],
   "source": [
    "print(df['text_clean'][0])"
   ]
  },
  {
   "cell_type": "code",
   "execution_count": 110,
   "id": "786ca6fc",
   "metadata": {},
   "outputs": [
    {
     "name": "stdout",
     "output_type": "stream",
     "text": [
      "ID                                                    CVE_2019_11886\n",
      "Text               The WaspThemes Visual CSS Style Editor (aka ye...\n",
      "TA0001                                                             1\n",
      "TA0002                                                             1\n",
      "TA0003                                                             0\n",
      "                                         ...                        \n",
      "T1622                                                              0\n",
      "T1647                                                              0\n",
      "tactic_label              [1, 1, 0, 0, 0, 0, 0, 0, 0, 0, 0, 0, 0, 0]\n",
      "technique_label    [0, 0, 0, 0, 0, 0, 0, 0, 0, 0, 0, 0, 0, 0, 0, ...\n",
      "text_clean         waspthemes visual cs style editor aka yellow p...\n",
      "Name: 0, Length: 204, dtype: object\n"
     ]
    }
   ],
   "source": [
    "print(df.iloc[0])"
   ]
  },
  {
   "cell_type": "markdown",
   "id": "a410a869",
   "metadata": {},
   "source": [
    "# Dataset & Dataloader"
   ]
  },
  {
   "cell_type": "code",
   "execution_count": 111,
   "id": "d1025229",
   "metadata": {},
   "outputs": [],
   "source": [
    "def get_texts(df):\n",
    "    texts = df['text']\n",
    "    texts = texts.values.tolist()\n",
    "    return texts\n",
    "\n",
    "def get_labels(df):\n",
    "    labels = df['labels'].values\n",
    "    return labels\n",
    "\n",
    "def get_ids(df):\n",
    "    ids = df['ID'].values.tolist()"
   ]
  },
  {
   "cell_type": "code",
   "execution_count": 112,
   "id": "75e4f49b",
   "metadata": {},
   "outputs": [],
   "source": [
    "from torch.utils.data import Dataset, DataLoader\n",
    "class TransformerDataset_ta(Dataset):\n",
    "    def __init__(self, df, indices, set_type=None):\n",
    "        super(TransformerDataset_ta, self).__init__()\n",
    "\n",
    "        df = df.iloc[indices]\n",
    "        self.texts = get_texts(df)\n",
    "        self.set_type = set_type\n",
    "        if self.set_type != 'test':\n",
    "            self.labels = get_labels(df)\n",
    "\n",
    "        self.tokenizer = Config().TOKENIZER\n",
    "        self.max_length = Config().MAX_LENGTH\n",
    "\n",
    "    def __len__(self):\n",
    "        return len(self.texts)\n",
    "\n",
    "    def __getitem__(self, index):\n",
    "        tokenized = self.tokenizer.encode_plus(\n",
    "            self.texts[index],\n",
    "            max_length=self.max_length,\n",
    "            pad_to_max_length=True,\n",
    "            truncation=True,\n",
    "            return_attention_mask=True,\n",
    "            return_token_type_ids=False,\n",
    "            return_tensors='pt'\n",
    "        )\n",
    "\n",
    "        input_ids = tokenized['input_ids'].squeeze()\n",
    "        attention_mask = tokenized['attention_mask'].squeeze()\n",
    "\n",
    "        if self.set_type != 'test':\n",
    "            return {\n",
    "                'input_ids': input_ids.long(),\n",
    "                'attention_mask': attention_mask.long(),\n",
    "                'labels': torch.Tensor(self.labels[index]).float(),\n",
    "            }\n",
    "\n",
    "        return {\n",
    "            'input_ids': input_ids.long(),\n",
    "            'attention_mask': attention_mask.long(),\n",
    "        }"
   ]
  },
  {
   "cell_type": "code",
   "execution_count": 113,
   "id": "69f46327",
   "metadata": {},
   "outputs": [],
   "source": [
    "\n",
    "class TransformerDataset_te(Dataset):\n",
    "    def __init__(self, df, indices, set_type=None):\n",
    "        super(TransformerDataset_te, self).__init__()\n",
    "\n",
    "        df = df.iloc[indices]\n",
    "        self.texts = get_texts(df)\n",
    "        self.set_type = set_type\n",
    "        if self.set_type != 'test':\n",
    "            self.labels = get_labels(df)\n",
    "\n",
    "        self.tokenizer = Config().TOKENIZER\n",
    "        self.max_length = Config().MAX_LENGTH\n",
    "\n",
    "    def __len__(self):\n",
    "        return len(self.texts)\n",
    "\n",
    "    def __getitem__(self, index):\n",
    "        tokenized = self.tokenizer.encode_plus(\n",
    "            self.texts[index],\n",
    "            max_length=self.max_length,\n",
    "            pad_to_max_length=True,\n",
    "            truncation=True,\n",
    "            return_attention_mask=True,\n",
    "            return_token_type_ids=False,\n",
    "            return_tensors='pt'\n",
    "        )\n",
    "\n",
    "        input_ids = tokenized['input_ids'].squeeze()\n",
    "        attention_mask = tokenized['attention_mask'].squeeze()\n",
    "\n",
    "        if self.set_type != 'test':\n",
    "            return {\n",
    "                'input_ids': input_ids.long(),\n",
    "                'attention_mask': attention_mask.long(),\n",
    "                'labels': torch.Tensor(self.labels[index]).float(),\n",
    "            }\n",
    "\n",
    "        return {\n",
    "            'input_ids': input_ids.long(),\n",
    "            'attention_mask': attention_mask.long(),\n",
    "        }"
   ]
  },
  {
   "cell_type": "code",
   "execution_count": 114,
   "id": "a445b021",
   "metadata": {},
   "outputs": [],
   "source": [
    "from sklearn.model_selection import train_test_split\n",
    "\n",
    "train, test = train_test_split(df, test_size=0.2, random_state=2222)\n",
    "validation, test = train_test_split(test, test_size=0.5, random_state=2222)"
   ]
  },
  {
   "cell_type": "code",
   "execution_count": 115,
   "id": "0690d557",
   "metadata": {},
   "outputs": [],
   "source": [
    "df_ta_train = train[['text_clean', 'tactic_label']]\n",
    "df_ta_val = validation[['text_clean', 'tactic_label']]\n",
    "df_ta_test = test[['text_clean', 'tactic_label']]\n",
    "df_ta_train = df_ta_train.rename(columns={'text_clean':'text', 'tactic_label':'labels'})\n",
    "df_ta_val = df_ta_val.rename(columns={'text_clean':'text', 'tactic_label':'labels'})\n",
    "df_ta_test = df_ta_test.rename(columns={'text_clean':'text', 'tactic_label':'labels'})\n"
   ]
  },
  {
   "cell_type": "code",
   "execution_count": 116,
   "id": "c0d0cbeb",
   "metadata": {},
   "outputs": [],
   "source": [
    "# df_te_train = df.iloc[train.index][['text_clean', 'technique_label']]\n",
    "# df_te_val = df.iloc[validation.index][['text_clean', 'technique_label']]\n",
    "# df_te_test = df.iloc[test.index][['text_clean', 'technique_label']]\n",
    "# df_te_train = df_te_train.rename(columns={'text_clean':'text', 'technique_label':'labels'})\n",
    "# df_te_val = df_te_val.rename(columns={'text_clean':'text', 'technique_label':'labels'})\n",
    "# df_te_test = df_te_test.rename(columns={'text_clean':'text', 'technique_label':'labels'})"
   ]
  },
  {
   "cell_type": "code",
   "execution_count": 117,
   "id": "47e65de5",
   "metadata": {},
   "outputs": [],
   "source": [
    "train_data_ta = TransformerDataset_ta(df_ta_train, range(len(df_ta_train)))\n",
    "val_data_ta = TransformerDataset_ta(df_ta_val, range(len(df_ta_val)))\n",
    "test_data_ta = TransformerDataset_ta(df_ta_test, range(len(df_ta_test)))"
   ]
  },
  {
   "cell_type": "code",
   "execution_count": 118,
   "id": "c5eaf2da",
   "metadata": {},
   "outputs": [],
   "source": [
    "# train_data_te = TransformerDataset_te(df_ta_train, range(len(df_te_train)))\n",
    "# val_data_te = TransformerDataset_te(df_ta_val, range(len(df_te_val)))\n",
    "# test_data_te = TransformerDataset_te(df_ta_test, range(len(df_te_test)))"
   ]
  },
  {
   "cell_type": "code",
   "execution_count": 119,
   "id": "319cd479",
   "metadata": {},
   "outputs": [],
   "source": [
    "train_dataloader_ta = DataLoader(train_data_ta, batch_size=Config().BATCH_SIZE)\n",
    "val_dataloader_ta = DataLoader(val_data_ta, batch_size=Config().BATCH_SIZE)\n",
    "test_dataloader_ta = DataLoader(test_data_ta, batch_size=Config().BATCH_SIZE)"
   ]
  },
  {
   "cell_type": "code",
   "execution_count": 120,
   "id": "e7c67b51",
   "metadata": {},
   "outputs": [],
   "source": [
    "# train_dataloader_te = DataLoader(train_data_te, batch_size=Config().BATCH_SIZE)\n",
    "# val_dataloader_te = DataLoader(val_data_te, batch_size=Config().BATCH_SIZE)\n",
    "# test_dataloader_te = DataLoader(test_data_te, batch_size=Config().BATCH_SIZE)"
   ]
  },
  {
   "cell_type": "code",
   "execution_count": 121,
   "id": "369e1ce0",
   "metadata": {},
   "outputs": [],
   "source": [
    "train_dataloader = train_dataloader_ta\n",
    "val_dataloader = val_dataloader_ta\n",
    "test_dataloader = test_dataloader_ta"
   ]
  },
  {
   "cell_type": "code",
   "execution_count": 122,
   "id": "b1671d1a",
   "metadata": {},
   "outputs": [
    {
     "name": "stdout",
     "output_type": "stream",
     "text": [
      "input_ids shape: torch.Size([16, 320])\n",
      "attention_mask shape: torch.Size([16, 320])\n",
      "labels shape: torch.Size([16, 14])\n"
     ]
    }
   ],
   "source": [
    "b = next(iter(train_dataloader_ta))\n",
    "for k, v in b.items():\n",
    "    print(f'{k} shape: {v.shape}')"
   ]
  },
  {
   "cell_type": "markdown",
   "id": "00117a96",
   "metadata": {},
   "source": [
    "# Model"
   ]
  },
  {
   "cell_type": "code",
   "execution_count": 123,
   "id": "ff574fa8",
   "metadata": {},
   "outputs": [],
   "source": [
    "class Model(nn.Module):\n",
    "    def __init__(self):\n",
    "        super(Model, self).__init__()\n",
    "\n",
    "        self.transformer_model = AutoModel.from_pretrained(\n",
    "                Config().MODEL_PATH\n",
    "        )\n",
    "        self.dropout = nn.Dropout(0.3)\n",
    "\n",
    "        self.output = nn.Linear(768, Config().NUM_LABELS_TA)\n",
    "\n",
    "    def forward(\n",
    "        self,\n",
    "        input_ids,\n",
    "        attention_mask=None,\n",
    "        token_type_ids=None\n",
    "        ):\n",
    "\n",
    "        _, o2 = self.transformer_model(\n",
    "            input_ids=input_ids,\n",
    "            attention_mask=attention_mask,\n",
    "            token_type_ids=token_type_ids,\n",
    "            return_dict=False\n",
    "        )\n",
    "\n",
    "        x = self.dropout(o2)\n",
    "        out = self.output(x)\n",
    "\n",
    "        return out"
   ]
  },
  {
   "cell_type": "markdown",
   "id": "a5d26a57",
   "metadata": {},
   "source": [
    "# Train and test"
   ]
  },
  {
   "cell_type": "code",
   "execution_count": 124,
   "id": "5fbd1c49",
   "metadata": {},
   "outputs": [],
   "source": [
    "BEST_F1 = 0\n",
    "BEST_TRUE = []\n",
    "BEST_PREDICTED = []"
   ]
  },
  {
   "cell_type": "code",
   "execution_count": 125,
   "id": "b26a3123",
   "metadata": {},
   "outputs": [],
   "source": [
    "metrics_log = [] "
   ]
  },
  {
   "cell_type": "code",
   "execution_count": 126,
   "id": "ecdc1dc1",
   "metadata": {},
   "outputs": [],
   "source": [
    "def val(model, val_dataloader, criterion, is_final_test=False):\n",
    "    global BEST_F1, BEST_TRUE, BEST_PREDICTED, device\n",
    "\n",
    "    val_loss = 0\n",
    "    true, pred = [], []\n",
    "\n",
    "    model.eval()\n",
    "\n",
    "    results = {}\n",
    "\n",
    "    for step, batch in enumerate(val_dataloader):\n",
    "        b_input_ids = batch['input_ids'].to(device)\n",
    "        b_attention_mask = batch['attention_mask'].to(device)\n",
    "        b_labels = batch['labels'].to(device)\n",
    "\n",
    "        with torch.no_grad():\n",
    "            logits = model(input_ids=b_input_ids, attention_mask=b_attention_mask)\n",
    "\n",
    "            loss = criterion(logits, b_labels)\n",
    "            val_loss += loss.item()\n",
    "\n",
    "            logits = torch.sigmoid(logits)\n",
    "            logits = np.round(logits.cpu().numpy())\n",
    "            labels = b_labels.cpu().numpy()\n",
    "\n",
    "            pred.extend(logits)\n",
    "            true.extend(labels)\n",
    "\n",
    "    # avg_val_loss = val_loss / len(val_dataloader)\n",
    "    # print('Val loss:', avg_val_loss)\n",
    "    # print('Val accuracy:', accuracy_score(true, pred))\n",
    "\n",
    "    # print('Val precision:', precision_score(true, pred, average='weighted'))\n",
    "    # print('Val recall:', recall_score(true, pred, average='weighted'))\n",
    "\n",
    "    # val_micro_f1_score = f1_score(true, pred, average='micro')\n",
    "    # print('Val micro f1 score:', val_micro_f1_score)\n",
    "\n",
    "    # val_macro_f1_score = f1_score(true, pred, average='macro')\n",
    "    # print('Val macro f1 score:', val_macro_f1_score)\n",
    "\n",
    "    val_weighted_f1_score = f1_score(true, pred, average='weighted')\n",
    "    # print('Val weighted f1 score:', val_weighted_f1_score)\n",
    "\n",
    "    results.update({\n",
    "        \"f1_sampled\": f1_score(true, pred, average='samples', zero_division=0),\n",
    "        \"f1_micro\": f1_score(true, pred, average='micro', zero_division=0),\n",
    "        \"f1_macro\": f1_score(true, pred, average='macro', zero_division=0),\n",
    "        \"f_05_sample\": fbeta_score(true, pred, average='samples', beta=0.5, zero_division=0),\n",
    "        \"f_05_micro\": fbeta_score(true, pred, average='micro', beta=0.5, zero_division=0),\n",
    "        \"f_05_macro\": fbeta_score(true, pred, average='macro', beta=0.5, zero_division=0),\n",
    "        \"precision_sampled\": precision_score(true, pred, average='samples', zero_division=0),\n",
    "        \"precision_micro\": precision_score(true, pred, average='micro', zero_division=0),\n",
    "        \"precision_macro\": precision_score(true, pred, average='macro', zero_division=0),\n",
    "        \"recall_sampled\": recall_score(true, pred, average='samples', zero_division=0),\n",
    "        \"recall_micro\": recall_score(true, pred, average='micro', zero_division=0),\n",
    "        \"recall_macro\": recall_score(true, pred, average='macro', zero_division=0),\n",
    "        \"accuracy\": accuracy_score(true, pred),\n",
    "        })\n",
    "\n",
    "    labels_float = labels.astype(float)\n",
    "    results.update({\n",
    "        \"coverage_error\": coverage_error(labels_float, logits),\n",
    "        \"label_ranking_loss\": label_ranking_loss(labels_float, logits),\n",
    "        \"lrap\": label_ranking_average_precision_score(labels_float, logits),\n",
    "    })\n",
    "\n",
    "    metrics_log.append(results.copy())\n",
    "\n",
    "    print(results)\n",
    "\n",
    "\n",
    "    if (is_final_test is True):\n",
    "      BEST_F1 = val_weighted_f1_score\n",
    "      BEST_TRUE = true\n",
    "      BEST_PREDICTED = pred\n",
    "    elif (val_weighted_f1_score > BEST_F1):\n",
    "      BEST_F1 = val_weighted_f1_score\n",
    "      BEST_TRUE = true\n",
    "      BEST_PREDICTED = pred\n",
    "\n",
    "    return val_weighted_f1_score\n",
    "\n"
   ]
  },
  {
   "cell_type": "code",
   "execution_count": 127,
   "id": "533523db",
   "metadata": {},
   "outputs": [],
   "source": [
    "def train(model, train_dataloader, val_dataloader, criterion, optimizer, scheduler, epoch):\n",
    "    global device\n",
    "    nv = Config().N_VALIDATE_DUR_TRAIN\n",
    "    temp = len(train_dataloader) // nv\n",
    "    temp = temp - (temp % 100)\n",
    "    validate_at_steps = [temp * x for x in range(1, nv + 1)]\n",
    "\n",
    "    train_loss = 0\n",
    "    train_losses = []\n",
    "\n",
    "    for step, batch in enumerate(tqdm(train_dataloader,\n",
    "                                      desc='Epoch ' + str(epoch))):\n",
    "        model.train()\n",
    "\n",
    "        b_input_ids = batch['input_ids'].to(device)\n",
    "        b_attention_mask = batch['attention_mask'].to(device)\n",
    "        b_labels = batch['labels'].to(device)\n",
    "\n",
    "        optimizer.zero_grad()\n",
    "\n",
    "        logits = model(input_ids=b_input_ids, attention_mask=b_attention_mask)\n",
    "\n",
    "        loss = criterion(logits, b_labels)\n",
    "        train_loss += loss.item()\n",
    "\n",
    "        loss.backward()\n",
    "\n",
    "        optimizer.step()\n",
    "\n",
    "        scheduler.step()\n",
    "\n",
    "        if step in validate_at_steps:\n",
    "            print(f'-- Step: {step}')\n",
    "            _ = val(model, val_dataloader, criterion)\n",
    "\n",
    "\n",
    "    avg_train_loss = train_loss / len(train_dataloader)\n",
    "    print('Training loss:', avg_train_loss)"
   ]
  },
  {
   "cell_type": "code",
   "execution_count": 128,
   "id": "a5ee9825",
   "metadata": {},
   "outputs": [],
   "source": [
    "def run():\n",
    "    global train_data, val_data, test_data, train_dataloader, val_dataloader, test_dataloader, model\n",
    "    torch.manual_seed(Config().SEED)\n",
    "\n",
    "    criterion = nn.BCEWithLogitsLoss()\n",
    "\n",
    "    if Config().FULL_FINETUNING:\n",
    "        param_optimizer = list(model.named_parameters())\n",
    "        no_decay = [\"bias\", \"LayerNorm.bias\", \"LayerNorm.weight\"]\n",
    "        optimizer_parameters = [\n",
    "            {\n",
    "                \"params\": [\n",
    "                    p for n, p in param_optimizer if not any(nd in n for nd in no_decay)\n",
    "                ],\n",
    "                \"weight_decay\": 0.001,\n",
    "            },\n",
    "            {\n",
    "                \"params\": [\n",
    "                    p for n, p in param_optimizer if any(nd in n for nd in no_decay)\n",
    "                ],\n",
    "                \"weight_decay\": 0.0,\n",
    "            },\n",
    "        ]\n",
    "        optimizer = optim.AdamW(optimizer_parameters, lr=Config().LR)\n",
    "\n",
    "    num_training_steps = len(train_dataloader) * Config().EPOCHS\n",
    "    scheduler = get_linear_schedule_with_warmup(\n",
    "        optimizer,\n",
    "        num_warmup_steps=0,\n",
    "        num_training_steps=num_training_steps\n",
    "    )\n",
    "\n",
    "    max_val_weighted_f1_score = float('-inf')\n",
    "    for epoch in range(Config().EPOCHS):\n",
    "        train(model, train_dataloader, val_dataloader, criterion, optimizer, scheduler, epoch)\n",
    "        val_weighted_f1_score = val(model, val_dataloader, criterion)\n",
    "\n",
    "        if Config().SAVE_BEST_ONLY:\n",
    "            if val_weighted_f1_score > max_val_weighted_f1_score:\n",
    "                best_model = copy.deepcopy(model)\n",
    "\n",
    "                model_name = 'secroberta_best_model'\n",
    "                torch.save(best_model.state_dict(), model_name + '.pt')\n",
    "\n",
    "                print(f'--- Best Model. Val: {max_val_weighted_f1_score} -> {val_weighted_f1_score}')\n",
    "                max_val_weighted_f1_score = val_weighted_f1_score\n",
    "\n",
    "    return best_model, max_val_weighted_f1_score"
   ]
  },
  {
   "cell_type": "markdown",
   "id": "cb777d10",
   "metadata": {},
   "source": [
    "# Tactic_multi model"
   ]
  },
  {
   "cell_type": "code",
   "execution_count": 129,
   "id": "c0e7fb55",
   "metadata": {},
   "outputs": [],
   "source": [
    "from sklearn.metrics import coverage_error, label_ranking_average_precision_score, label_ranking_loss\n",
    "from sklearn.metrics import hamming_loss, precision_score, recall_score, f1_score, fbeta_score\n",
    "from sklearn.metrics import accuracy_score"
   ]
  },
  {
   "cell_type": "code",
   "execution_count": 130,
   "id": "43a5c244",
   "metadata": {},
   "outputs": [
    {
     "data": {
      "text/plain": [
       "Model(\n",
       "  (transformer_model): RobertaModel(\n",
       "    (embeddings): RobertaEmbeddings(\n",
       "      (word_embeddings): Embedding(52000, 768, padding_idx=1)\n",
       "      (position_embeddings): Embedding(514, 768, padding_idx=1)\n",
       "      (token_type_embeddings): Embedding(1, 768)\n",
       "      (LayerNorm): LayerNorm((768,), eps=1e-12, elementwise_affine=True)\n",
       "      (dropout): Dropout(p=0.1, inplace=False)\n",
       "    )\n",
       "    (encoder): RobertaEncoder(\n",
       "      (layer): ModuleList(\n",
       "        (0-5): 6 x RobertaLayer(\n",
       "          (attention): RobertaAttention(\n",
       "            (self): RobertaSdpaSelfAttention(\n",
       "              (query): Linear(in_features=768, out_features=768, bias=True)\n",
       "              (key): Linear(in_features=768, out_features=768, bias=True)\n",
       "              (value): Linear(in_features=768, out_features=768, bias=True)\n",
       "              (dropout): Dropout(p=0.1, inplace=False)\n",
       "            )\n",
       "            (output): RobertaSelfOutput(\n",
       "              (dense): Linear(in_features=768, out_features=768, bias=True)\n",
       "              (LayerNorm): LayerNorm((768,), eps=1e-12, elementwise_affine=True)\n",
       "              (dropout): Dropout(p=0.1, inplace=False)\n",
       "            )\n",
       "          )\n",
       "          (intermediate): RobertaIntermediate(\n",
       "            (dense): Linear(in_features=768, out_features=3072, bias=True)\n",
       "            (intermediate_act_fn): GELUActivation()\n",
       "          )\n",
       "          (output): RobertaOutput(\n",
       "            (dense): Linear(in_features=3072, out_features=768, bias=True)\n",
       "            (LayerNorm): LayerNorm((768,), eps=1e-12, elementwise_affine=True)\n",
       "            (dropout): Dropout(p=0.1, inplace=False)\n",
       "          )\n",
       "        )\n",
       "      )\n",
       "    )\n",
       "    (pooler): RobertaPooler(\n",
       "      (dense): Linear(in_features=768, out_features=768, bias=True)\n",
       "      (activation): Tanh()\n",
       "    )\n",
       "  )\n",
       "  (dropout): Dropout(p=0.3, inplace=False)\n",
       "  (output): Linear(in_features=768, out_features=14, bias=True)\n",
       ")"
      ]
     },
     "execution_count": 130,
     "metadata": {},
     "output_type": "execute_result"
    }
   ],
   "source": [
    "project_dir = './'\n",
    "config = Config()\n",
    "device = Config().DEVICE\n",
    "model = Model()\n",
    "model.to(device)"
   ]
  },
  {
   "cell_type": "code",
   "execution_count": 131,
   "id": "e5534c84",
   "metadata": {},
   "outputs": [
    {
     "name": "stderr",
     "output_type": "stream",
     "text": [
      "Epoch 0:   0%|          | 0/76 [00:00<?, ?it/s]"
     ]
    },
    {
     "name": "stdout",
     "output_type": "stream",
     "text": [
      "-- Step: 0\n"
     ]
    },
    {
     "name": "stderr",
     "output_type": "stream",
     "text": [
      "Epoch 0:   1%|▏         | 1/76 [00:00<00:43,  1.72it/s]"
     ]
    },
    {
     "name": "stdout",
     "output_type": "stream",
     "text": [
      "{'f1_sampled': 0.26651144907723856, 'f1_micro': 0.2832618025751073, 'f1_macro': 0.1372033023004777, 'f_05_sample': 0.21686264486099258, 'f_05_micro': 0.22029372496662217, 'f_05_macro': 0.10794893007977609, 'precision_sampled': 0.19532424812030072, 'precision_micro': 0.19186046511627908, 'precision_macro': 0.09471658478649723, 'recall_sampled': 0.5342105263157894, 'recall_micro': 0.5409836065573771, 'recall_macro': 0.2723533525080612, 'accuracy': 0.0, 'coverage_error': np.float64(10.75), 'label_ranking_loss': np.float64(0.5708187645687646), 'lrap': np.float64(0.25431547619047623)}\n"
     ]
    },
    {
     "name": "stderr",
     "output_type": "stream",
     "text": [
      "Epoch 0: 100%|██████████| 76/76 [00:04<00:00, 16.21it/s]\n"
     ]
    },
    {
     "name": "stdout",
     "output_type": "stream",
     "text": [
      "Training loss: 0.326834429839724\n",
      "{'f1_sampled': 0.12039473684210525, 'f1_micro': 0.17266187050359713, 'f1_macro': 0.04124549374425673, 'f_05_sample': 0.13463345864661655, 'f_05_micro': 0.3157894736842105, 'f_05_macro': 0.05154440154440154, 'precision_sampled': 0.1513157894736842, 'precision_micro': 0.7058823529411765, 'precision_macro': 0.12121212121212122, 'recall_sampled': 0.10745614035087718, 'recall_micro': 0.09836065573770492, 'recall_macro': 0.032550099613266145, 'accuracy': 0.13157894736842105, 'coverage_error': np.float64(14.0), 'label_ranking_loss': np.float64(1.0), 'lrap': np.float64(0.1607142857142857)}\n",
      "--- Best Model. Val: -inf -> 0.12420608204021706\n"
     ]
    },
    {
     "name": "stderr",
     "output_type": "stream",
     "text": [
      "Epoch 1:   0%|          | 0/76 [00:00<?, ?it/s]"
     ]
    },
    {
     "name": "stdout",
     "output_type": "stream",
     "text": [
      "-- Step: 0\n"
     ]
    },
    {
     "name": "stderr",
     "output_type": "stream",
     "text": [
      "Epoch 1:   1%|▏         | 1/76 [00:00<00:36,  2.07it/s]"
     ]
    },
    {
     "name": "stdout",
     "output_type": "stream",
     "text": [
      "{'f1_sampled': 0.15592105263157893, 'f1_micro': 0.21379310344827587, 'f1_macro': 0.046771292103467525, 'f_05_sample': 0.1749295112781955, 'f_05_micro': 0.3621495327102804, 'f_05_macro': 0.053126916002452486, 'precision_sampled': 0.19736842105263158, 'precision_micro': 0.6739130434782609, 'precision_macro': 0.11904761904761904, 'recall_sampled': 0.1387061403508772, 'recall_micro': 0.12704918032786885, 'recall_macro': 0.041984061877417087, 'accuracy': 0.14473684210526316, 'coverage_error': np.float64(14.0), 'label_ranking_loss': np.float64(1.0), 'lrap': np.float64(0.1607142857142857)}\n"
     ]
    },
    {
     "name": "stderr",
     "output_type": "stream",
     "text": [
      "Epoch 1: 100%|██████████| 76/76 [00:04<00:00, 17.35it/s]\n"
     ]
    },
    {
     "name": "stdout",
     "output_type": "stream",
     "text": [
      "Training loss: 0.2647015519048038\n",
      "{'f1_sampled': 0.26265664160401003, 'f1_micro': 0.3560830860534125, 'f1_macro': 0.10904045828857858, 'f_05_sample': 0.2755260547201337, 'f_05_micro': 0.487012987012987, 'f_05_macro': 0.12142515051997808, 'precision_sampled': 0.29276315789473684, 'precision_micro': 0.6451612903225806, 'precision_macro': 0.1406272299129442, 'recall_sampled': 0.2609649122807018, 'recall_micro': 0.2459016393442623, 'recall_macro': 0.0991023819289816, 'accuracy': 0.19078947368421054, 'coverage_error': np.float64(12.375), 'label_ranking_loss': np.float64(0.8125), 'lrap': np.float64(0.3303571428571428)}\n",
      "--- Best Model. Val: 0.12420608204021706 -> 0.2700357451004561\n"
     ]
    },
    {
     "name": "stderr",
     "output_type": "stream",
     "text": [
      "Epoch 2:   0%|          | 0/76 [00:00<?, ?it/s]"
     ]
    },
    {
     "name": "stdout",
     "output_type": "stream",
     "text": [
      "-- Step: 0\n"
     ]
    },
    {
     "name": "stderr",
     "output_type": "stream",
     "text": [
      "Epoch 2:   5%|▌         | 4/76 [00:00<00:08,  8.54it/s]"
     ]
    },
    {
     "name": "stdout",
     "output_type": "stream",
     "text": [
      "{'f1_sampled': 0.27910401002506263, 'f1_micro': 0.3710144927536232, 'f1_macro': 0.11008080188866189, 'f_05_sample': 0.2934354114452799, 'f_05_micro': 0.49382716049382713, 'f_05_macro': 0.11994606747166474, 'precision_sampled': 0.3125, 'precision_micro': 0.6336633663366337, 'precision_macro': 0.13749067024929093, 'recall_sampled': 0.27741228070175444, 'recall_micro': 0.26229508196721313, 'recall_macro': 0.10449321750849642, 'accuracy': 0.19078947368421054, 'coverage_error': np.float64(12.5), 'label_ranking_loss': np.float64(0.8221153846153846), 'lrap': np.float64(0.26785714285714285)}\n"
     ]
    },
    {
     "name": "stderr",
     "output_type": "stream",
     "text": [
      "Epoch 2: 100%|██████████| 76/76 [00:04<00:00, 18.10it/s]\n"
     ]
    },
    {
     "name": "stdout",
     "output_type": "stream",
     "text": [
      "Training loss: 0.22742333086697678\n",
      "{'f1_sampled': 0.3081766917293233, 'f1_micro': 0.39215686274509803, 'f1_macro': 0.15990407346928898, 'f_05_sample': 0.3341361215538847, 'f_05_micro': 0.5028735632183908, 'f_05_macro': 0.19485103621843466, 'precision_sampled': 0.3684210526315789, 'precision_micro': 0.6194690265486725, 'precision_macro': 0.2559002528214351, 'recall_sampled': 0.293859649122807, 'recall_micro': 0.28688524590163933, 'recall_macro': 0.134781165643914, 'accuracy': 0.18421052631578946, 'coverage_error': np.float64(12.5), 'label_ranking_loss': np.float64(0.780448717948718), 'lrap': np.float64(0.300595238095238)}\n",
      "--- Best Model. Val: 0.2700357451004561 -> 0.329160708726211\n"
     ]
    },
    {
     "name": "stderr",
     "output_type": "stream",
     "text": [
      "Epoch 3:   0%|          | 0/76 [00:00<?, ?it/s]"
     ]
    },
    {
     "name": "stdout",
     "output_type": "stream",
     "text": [
      "-- Step: 0\n"
     ]
    },
    {
     "name": "stderr",
     "output_type": "stream",
     "text": [
      "Epoch 3:   5%|▌         | 4/76 [00:00<00:08,  8.72it/s]"
     ]
    },
    {
     "name": "stdout",
     "output_type": "stream",
     "text": [
      "{'f1_sampled': 0.31146616541353384, 'f1_micro': 0.38904109589041097, 'f1_macro': 0.15806806794475886, 'f_05_sample': 0.33742559523809523, 'f_05_micro': 0.4876373626373626, 'f_05_macro': 0.18708751898765175, 'precision_sampled': 0.3717105263157895, 'precision_micro': 0.5867768595041323, 'precision_macro': 0.23772589844018416, 'recall_sampled': 0.29714912280701755, 'recall_micro': 0.29098360655737704, 'recall_macro': 0.13733218605207728, 'accuracy': 0.18421052631578946, 'coverage_error': np.float64(12.5), 'label_ranking_loss': np.float64(0.780448717948718), 'lrap': np.float64(0.300595238095238)}\n"
     ]
    },
    {
     "name": "stderr",
     "output_type": "stream",
     "text": [
      "Epoch 3: 100%|██████████| 76/76 [00:04<00:00, 18.04it/s]\n"
     ]
    },
    {
     "name": "stdout",
     "output_type": "stream",
     "text": [
      "Training loss: 0.18788234144449234\n",
      "{'f1_sampled': 0.3478070175438596, 'f1_micro': 0.4368421052631579, 'f1_macro': 0.18924917297300764, 'f_05_sample': 0.36900964532543484, 'f_05_micro': 0.5266497461928934, 'f_05_macro': 0.2199418158457244, 'precision_sampled': 0.3980263157894737, 'precision_micro': 0.6102941176470589, 'precision_macro': 0.2567755239747721, 'recall_sampled': 0.34484649122807015, 'recall_micro': 0.3401639344262295, 'recall_macro': 0.1617827052652598, 'accuracy': 0.19078947368421054, 'coverage_error': np.float64(11.0), 'label_ranking_loss': np.float64(0.6025641025641025), 'lrap': np.float64(0.4077380952380952)}\n",
      "--- Best Model. Val: 0.329160708726211 -> 0.38662413004472757\n"
     ]
    },
    {
     "name": "stderr",
     "output_type": "stream",
     "text": [
      "Epoch 4:   0%|          | 0/76 [00:00<?, ?it/s]"
     ]
    },
    {
     "name": "stdout",
     "output_type": "stream",
     "text": [
      "-- Step: 0\n"
     ]
    },
    {
     "name": "stderr",
     "output_type": "stream",
     "text": [
      "Epoch 4:   5%|▌         | 4/76 [00:00<00:08,  8.46it/s]"
     ]
    },
    {
     "name": "stdout",
     "output_type": "stream",
     "text": [
      "{'f1_sampled': 0.3507832080200501, 'f1_micro': 0.4368421052631579, 'f1_macro': 0.18854916157718823, 'f_05_sample': 0.3716203387256019, 'f_05_micro': 0.5266497461928934, 'f_05_macro': 0.21772660568261934, 'precision_sampled': 0.40131578947368424, 'precision_micro': 0.6102941176470589, 'precision_macro': 0.2532760472610097, 'recall_sampled': 0.3470394736842105, 'recall_micro': 0.3401639344262295, 'recall_macro': 0.16266713922752393, 'accuracy': 0.20394736842105263, 'coverage_error': np.float64(11.0), 'label_ranking_loss': np.float64(0.6025641025641025), 'lrap': np.float64(0.4077380952380952)}\n"
     ]
    },
    {
     "name": "stderr",
     "output_type": "stream",
     "text": [
      "Epoch 4: 100%|██████████| 76/76 [00:04<00:00, 17.98it/s]\n"
     ]
    },
    {
     "name": "stdout",
     "output_type": "stream",
     "text": [
      "Training loss: 0.15316002610090532\n",
      "{'f1_sampled': 0.3734962406015037, 'f1_micro': 0.43309002433090027, 'f1_macro': 0.18410925732950637, 'f_05_sample': 0.3890949145883356, 'f_05_micro': 0.48793859649122806, 'f_05_macro': 0.207042261873923, 'precision_sampled': 0.41118421052631576, 'precision_micro': 0.5329341317365269, 'precision_macro': 0.23121838478981335, 'recall_sampled': 0.3793859649122807, 'recall_micro': 0.36475409836065575, 'recall_macro': 0.16568075403480392, 'accuracy': 0.21052631578947367, 'coverage_error': np.float64(12.5), 'label_ranking_loss': np.float64(0.7179487179487178), 'lrap': np.float64(0.3541666666666667)}\n",
      "--- Best Model. Val: 0.38662413004472757 -> 0.38763339908796945\n"
     ]
    },
    {
     "name": "stderr",
     "output_type": "stream",
     "text": [
      "Epoch 5:   0%|          | 0/76 [00:00<?, ?it/s]"
     ]
    },
    {
     "name": "stdout",
     "output_type": "stream",
     "text": [
      "-- Step: 0\n"
     ]
    },
    {
     "name": "stderr",
     "output_type": "stream",
     "text": [
      "Epoch 5:   5%|▌         | 4/76 [00:00<00:08,  8.24it/s]"
     ]
    },
    {
     "name": "stdout",
     "output_type": "stream",
     "text": [
      "{'f1_sampled': 0.38270676691729316, 'f1_micro': 0.44552058111380144, 'f1_macro': 0.19259160606810904, 'f_05_sample': 0.3968368071986493, 'f_05_micro': 0.5, 'f_05_macro': 0.2154130422614696, 'precision_sampled': 0.41776315789473684, 'precision_micro': 0.5443786982248521, 'precision_macro': 0.23820788999360426, 'recall_sampled': 0.39144736842105265, 'recall_micro': 0.3770491803278688, 'recall_macro': 0.1730149377082733, 'accuracy': 0.21710526315789475, 'coverage_error': np.float64(12.5), 'label_ranking_loss': np.float64(0.7179487179487178), 'lrap': np.float64(0.3541666666666667)}\n"
     ]
    },
    {
     "name": "stderr",
     "output_type": "stream",
     "text": [
      "Epoch 5: 100%|██████████| 76/76 [00:04<00:00, 17.96it/s]\n"
     ]
    },
    {
     "name": "stdout",
     "output_type": "stream",
     "text": [
      "Training loss: 0.13059766414134125\n",
      "{'f1_sampled': 0.3429824561403509, 'f1_micro': 0.41711229946524064, 'f1_macro': 0.1823922384202948, 'f_05_sample': 0.3687604427736007, 'f_05_micro': 0.5104712041884817, 'f_05_macro': 0.21497253573061417, 'precision_sampled': 0.40131578947368424, 'precision_micro': 0.6, 'precision_macro': 0.2539971617206548, 'recall_sampled': 0.33114035087719296, 'recall_micro': 0.319672131147541, 'recall_macro': 0.1528445281915582, 'accuracy': 0.20394736842105263, 'coverage_error': np.float64(14.0), 'label_ranking_loss': np.float64(0.8333333333333333), 'lrap': np.float64(0.3005952380952381)}\n"
     ]
    },
    {
     "name": "stderr",
     "output_type": "stream",
     "text": [
      "Epoch 6:   0%|          | 0/76 [00:00<?, ?it/s]"
     ]
    },
    {
     "name": "stdout",
     "output_type": "stream",
     "text": [
      "-- Step: 0\n"
     ]
    },
    {
     "name": "stderr",
     "output_type": "stream",
     "text": [
      "Epoch 6:   5%|▌         | 4/76 [00:00<00:08,  8.99it/s]"
     ]
    },
    {
     "name": "stdout",
     "output_type": "stream",
     "text": [
      "{'f1_sampled': 0.3539473684210526, 'f1_micro': 0.42744063324538256, 'f1_macro': 0.18638186719304364, 'f_05_sample': 0.3789943609022557, 'f_05_micro': 0.5165816326530612, 'f_05_macro': 0.21750250676048774, 'precision_sampled': 0.41118421052631576, 'precision_micro': 0.6, 'precision_macro': 0.25574277956796754, 'recall_sampled': 0.3442982456140351, 'recall_micro': 0.3319672131147541, 'recall_macro': 0.15950819994956955, 'accuracy': 0.21052631578947367, 'coverage_error': np.float64(14.0), 'label_ranking_loss': np.float64(0.8333333333333333), 'lrap': np.float64(0.3005952380952381)}\n"
     ]
    },
    {
     "name": "stderr",
     "output_type": "stream",
     "text": [
      "Epoch 6: 100%|██████████| 76/76 [00:04<00:00, 18.15it/s]\n"
     ]
    },
    {
     "name": "stdout",
     "output_type": "stream",
     "text": [
      "Training loss: 0.10353240321733449\n",
      "{'f1_sampled': 0.3834586466165413, 'f1_micro': 0.46153846153846156, 'f1_macro': 0.20113760828622115, 'f_05_sample': 0.4076447127433969, 'f_05_micro': 0.5284090909090909, 'f_05_macro': 0.23645838742577535, 'precision_sampled': 0.44188596491228066, 'precision_micro': 0.5849056603773585, 'precision_macro': 0.3329838856813273, 'recall_sampled': 0.3807017543859649, 'recall_micro': 0.38114754098360654, 'recall_macro': 0.178567113848736, 'accuracy': 0.21710526315789475, 'coverage_error': np.float64(11.0), 'label_ranking_loss': np.float64(0.6025641025641025), 'lrap': np.float64(0.4077380952380952)}\n",
      "--- Best Model. Val: 0.38763339908796945 -> 0.4149339230011876\n"
     ]
    },
    {
     "name": "stderr",
     "output_type": "stream",
     "text": [
      "Epoch 7:   0%|          | 0/76 [00:00<?, ?it/s]"
     ]
    },
    {
     "name": "stdout",
     "output_type": "stream",
     "text": [
      "-- Step: 0\n"
     ]
    },
    {
     "name": "stderr",
     "output_type": "stream",
     "text": [
      "Epoch 7:   5%|▌         | 4/76 [00:00<00:08,  8.65it/s]"
     ]
    },
    {
     "name": "stdout",
     "output_type": "stream",
     "text": [
      "{'f1_sampled': 0.39442355889724307, 'f1_micro': 0.47, 'f1_macro': 0.21168935017318763, 'f_05_sample': 0.42153360163228587, 'f_05_micro': 0.5414746543778802, 'f_05_macro': 0.2503452401626704, 'precision_sampled': 0.45833333333333326, 'precision_micro': 0.6025641025641025, 'precision_macro': 0.3448425897641863, 'recall_sampled': 0.38728070175438595, 'recall_micro': 0.38524590163934425, 'recall_macro': 0.18474574061801086, 'accuracy': 0.2236842105263158, 'coverage_error': np.float64(11.0), 'label_ranking_loss': np.float64(0.6025641025641025), 'lrap': np.float64(0.4077380952380952)}\n"
     ]
    },
    {
     "name": "stderr",
     "output_type": "stream",
     "text": [
      "Epoch 7: 100%|██████████| 76/76 [00:04<00:00, 18.05it/s]\n"
     ]
    },
    {
     "name": "stdout",
     "output_type": "stream",
     "text": [
      "Training loss: 0.0844117702033959\n",
      "{'f1_sampled': 0.3854323308270676, 'f1_micro': 0.458628841607565, 'f1_macro': 0.20519428401238096, 'f_05_sample': 0.39402793843583317, 'f_05_micro': 0.5052083333333334, 'f_05_macro': 0.2388611113169741, 'precision_sampled': 0.4144736842105263, 'precision_micro': 0.5418994413407822, 'precision_macro': 0.32655706727135303, 'recall_sampled': 0.41250000000000003, 'recall_micro': 0.3975409836065574, 'recall_macro': 0.18198154183882262, 'accuracy': 0.19078947368421054, 'coverage_error': np.float64(11.0), 'label_ranking_loss': np.float64(0.6077724358974359), 'lrap': np.float64(0.3764880952380952)}\n",
      "--- Best Model. Val: 0.4149339230011876 -> 0.4232508050381357\n"
     ]
    },
    {
     "name": "stderr",
     "output_type": "stream",
     "text": [
      "Epoch 8:   0%|          | 0/76 [00:00<?, ?it/s]"
     ]
    },
    {
     "name": "stdout",
     "output_type": "stream",
     "text": [
      "-- Step: 0\n"
     ]
    },
    {
     "name": "stderr",
     "output_type": "stream",
     "text": [
      "Epoch 8:   5%|▌         | 4/76 [00:00<00:08,  8.56it/s]"
     ]
    },
    {
     "name": "stdout",
     "output_type": "stream",
     "text": [
      "{'f1_sampled': 0.3920112781954887, 'f1_micro': 0.4597156398104265, 'f1_macro': 0.20406676227109663, 'f_05_sample': 0.4024343711843712, 'f_05_micro': 0.5073221757322176, 'f_05_macro': 0.23607245840095853, 'precision_sampled': 0.4243421052631579, 'precision_micro': 0.5449438202247191, 'precision_macro': 0.32159585145533626, 'recall_sampled': 0.41578947368421054, 'recall_micro': 0.3975409836065574, 'recall_macro': 0.18177645570264542, 'accuracy': 0.19736842105263158, 'coverage_error': np.float64(11.0), 'label_ranking_loss': np.float64(0.6077724358974359), 'lrap': np.float64(0.3764880952380952)}\n"
     ]
    },
    {
     "name": "stderr",
     "output_type": "stream",
     "text": [
      "Epoch 8: 100%|██████████| 76/76 [00:04<00:00, 18.04it/s]\n"
     ]
    },
    {
     "name": "stdout",
     "output_type": "stream",
     "text": [
      "Training loss: 0.07257016395267687\n",
      "{'f1_sampled': 0.36547619047619045, 'f1_micro': 0.4444444444444444, 'f1_macro': 0.1966169134976267, 'f_05_sample': 0.3818098933230512, 'f_05_micro': 0.5067567567567568, 'f_05_macro': 0.2361773252686512, 'precision_sampled': 0.40789473684210525, 'precision_micro': 0.5590062111801242, 'precision_macro': 0.2888142816935387, 'recall_sampled': 0.37521929824561406, 'recall_micro': 0.36885245901639346, 'recall_macro': 0.16614690544921354, 'accuracy': 0.19736842105263158, 'coverage_error': np.float64(12.5), 'label_ranking_loss': np.float64(0.7804487179487178), 'lrap': np.float64(0.3005952380952381)}\n"
     ]
    },
    {
     "name": "stderr",
     "output_type": "stream",
     "text": [
      "Epoch 9:   0%|          | 0/76 [00:00<?, ?it/s]"
     ]
    },
    {
     "name": "stdout",
     "output_type": "stream",
     "text": [
      "-- Step: 0\n"
     ]
    },
    {
     "name": "stderr",
     "output_type": "stream",
     "text": [
      "Epoch 9:   5%|▌         | 4/76 [00:00<00:08,  8.94it/s]"
     ]
    },
    {
     "name": "stdout",
     "output_type": "stream",
     "text": [
      "{'f1_sampled': 0.3731516290726817, 'f1_micro': 0.44768856447688565, 'f1_macro': 0.1978988829921457, 'f_05_sample': 0.38692685238737873, 'f_05_micro': 0.5043859649122807, 'f_05_macro': 0.2339911889488957, 'precision_sampled': 0.41118421052631576, 'precision_micro': 0.5508982035928144, 'precision_macro': 0.28163030178812104, 'recall_sampled': 0.38837719298245615, 'recall_micro': 0.3770491803278688, 'recall_macro': 0.16993184333741226, 'accuracy': 0.19736842105263158, 'coverage_error': np.float64(12.5), 'label_ranking_loss': np.float64(0.7804487179487178), 'lrap': np.float64(0.3005952380952381)}\n"
     ]
    },
    {
     "name": "stderr",
     "output_type": "stream",
     "text": [
      "Epoch 9: 100%|██████████| 76/76 [00:04<00:00, 18.23it/s]\n"
     ]
    },
    {
     "name": "stdout",
     "output_type": "stream",
     "text": [
      "Training loss: 0.06049745569103643\n",
      "{'f1_sampled': 0.34407894736842104, 'f1_micro': 0.42487046632124353, 'f1_macro': 0.18862946587085538, 'f_05_sample': 0.3624907621618148, 'f_05_micro': 0.5049261083743842, 'f_05_macro': 0.23257348682481313, 'precision_sampled': 0.3892543859649123, 'precision_micro': 0.5774647887323944, 'precision_macro': 0.2901708410636982, 'recall_sampled': 0.34758771929824556, 'recall_micro': 0.3360655737704918, 'recall_macro': 0.153640137999605, 'accuracy': 0.19736842105263158, 'coverage_error': np.float64(12.5), 'label_ranking_loss': np.float64(0.7804487179487178), 'lrap': np.float64(0.3005952380952381)}\n"
     ]
    },
    {
     "name": "stderr",
     "output_type": "stream",
     "text": [
      "Epoch 10:   0%|          | 0/76 [00:00<?, ?it/s]"
     ]
    },
    {
     "name": "stdout",
     "output_type": "stream",
     "text": [
      "-- Step: 0\n"
     ]
    },
    {
     "name": "stderr",
     "output_type": "stream",
     "text": [
      "Epoch 10:   5%|▌         | 4/76 [00:00<00:07,  9.14it/s]"
     ]
    },
    {
     "name": "stdout",
     "output_type": "stream",
     "text": [
      "{'f1_sampled': 0.34157268170426064, 'f1_micro': 0.4213197969543147, 'f1_macro': 0.1874555206698064, 'f_05_sample': 0.3577111850138166, 'f_05_micro': 0.49170616113744076, 'f_05_macro': 0.22752906129018283, 'precision_sampled': 0.3826754385964913, 'precision_micro': 0.5533333333333333, 'precision_macro': 0.27974735313579885, 'recall_sampled': 0.3489035087719298, 'recall_micro': 0.3401639344262295, 'recall_macro': 0.15519293303066087, 'accuracy': 0.19078947368421054, 'coverage_error': np.float64(12.5), 'label_ranking_loss': np.float64(0.7804487179487178), 'lrap': np.float64(0.3005952380952381)}\n"
     ]
    },
    {
     "name": "stderr",
     "output_type": "stream",
     "text": [
      "Epoch 10: 100%|██████████| 76/76 [00:04<00:00, 18.20it/s]\n"
     ]
    },
    {
     "name": "stdout",
     "output_type": "stream",
     "text": [
      "Training loss: 0.04968125118236793\n",
      "{'f1_sampled': 0.3580200501253133, 'f1_micro': 0.4496124031007752, 'f1_macro': 0.19602020255604397, 'f_05_sample': 0.37418666859456334, 'f_05_micro': 0.5330882352941176, 'f_05_macro': 0.23462359563365007, 'precision_sampled': 0.40021929824561403, 'precision_micro': 0.6083916083916084, 'precision_macro': 0.2856575963718821, 'recall_sampled': 0.368640350877193, 'recall_micro': 0.35655737704918034, 'recall_macro': 0.16353012285411653, 'accuracy': 0.19736842105263158, 'coverage_error': np.float64(11.0), 'label_ranking_loss': np.float64(0.6650641025641025), 'lrap': np.float64(0.35416666666666663)}\n"
     ]
    },
    {
     "name": "stderr",
     "output_type": "stream",
     "text": [
      "Epoch 11:   0%|          | 0/76 [00:00<?, ?it/s]"
     ]
    },
    {
     "name": "stdout",
     "output_type": "stream",
     "text": [
      "-- Step: 0\n"
     ]
    },
    {
     "name": "stderr",
     "output_type": "stream",
     "text": [
      "Epoch 11:   5%|▌         | 4/76 [00:00<00:08,  8.86it/s]"
     ]
    },
    {
     "name": "stdout",
     "output_type": "stream",
     "text": [
      "{'f1_sampled': 0.3624060150375939, 'f1_micro': 0.4536082474226804, 'f1_macro': 0.1974873840232254, 'f_05_sample': 0.378259350298824, 'f_05_micro': 0.5365853658536586, 'f_05_macro': 0.23587937220588237, 'precision_sampled': 0.40350877192982454, 'precision_micro': 0.6111111111111112, 'precision_macro': 0.28662522480256475, 'recall_sampled': 0.3730263157894737, 'recall_micro': 0.36065573770491804, 'recall_macro': 0.16508291788517243, 'accuracy': 0.20394736842105263, 'coverage_error': np.float64(11.0), 'label_ranking_loss': np.float64(0.6650641025641025), 'lrap': np.float64(0.35416666666666663)}\n"
     ]
    },
    {
     "name": "stderr",
     "output_type": "stream",
     "text": [
      "Epoch 11: 100%|██████████| 76/76 [00:04<00:00, 18.17it/s]\n"
     ]
    },
    {
     "name": "stdout",
     "output_type": "stream",
     "text": [
      "Training loss: 0.042840812845449695\n",
      "{'f1_sampled': 0.33793859649122804, 'f1_micro': 0.42934782608695654, 'f1_macro': 0.17895878447072608, 'f_05_sample': 0.36109604941841783, 'f_05_micro': 0.5337837837837838, 'f_05_macro': 0.2336443741727255, 'precision_sampled': 0.39364035087719296, 'precision_micro': 0.6370967741935484, 'precision_macro': 0.35447282980177713, 'recall_sampled': 0.33497807017543857, 'recall_micro': 0.3237704918032787, 'recall_macro': 0.1427424373825794, 'accuracy': 0.21052631578947367, 'coverage_error': np.float64(12.5), 'label_ranking_loss': np.float64(0.7804487179487178), 'lrap': np.float64(0.3005952380952381)}\n"
     ]
    },
    {
     "name": "stderr",
     "output_type": "stream",
     "text": [
      "Epoch 12:   0%|          | 0/76 [00:00<?, ?it/s]"
     ]
    },
    {
     "name": "stdout",
     "output_type": "stream",
     "text": [
      "-- Step: 0\n"
     ]
    },
    {
     "name": "stderr",
     "output_type": "stream",
     "text": [
      "Epoch 12:   5%|▌         | 4/76 [00:00<00:08,  8.36it/s]"
     ]
    },
    {
     "name": "stdout",
     "output_type": "stream",
     "text": [
      "{'f1_sampled': 0.3368421052631579, 'f1_micro': 0.42702702702702705, 'f1_macro': 0.17822377676729867, 'f_05_sample': 0.35890306696227753, 'f_05_micro': 0.5280748663101604, 'f_05_macro': 0.23239621243048442, 'precision_sampled': 0.39035087719298245, 'precision_micro': 0.626984126984127, 'precision_macro': 0.35315662334585574, 'recall_sampled': 0.33497807017543857, 'recall_micro': 0.3237704918032787, 'recall_macro': 0.1427424373825794, 'accuracy': 0.21052631578947367, 'coverage_error': np.float64(12.5), 'label_ranking_loss': np.float64(0.7804487179487178), 'lrap': np.float64(0.3005952380952381)}\n"
     ]
    },
    {
     "name": "stderr",
     "output_type": "stream",
     "text": [
      "Epoch 12: 100%|██████████| 76/76 [00:04<00:00, 18.00it/s]\n"
     ]
    },
    {
     "name": "stdout",
     "output_type": "stream",
     "text": [
      "Training loss: 0.037812428597949053\n",
      "{'f1_sampled': 0.3396929824561403, 'f1_micro': 0.42276422764227645, 'f1_macro': 0.18663548311420255, 'f_05_sample': 0.3628843743975323, 'f_05_micro': 0.5241935483870968, 'f_05_macro': 0.2344277684686173, 'precision_sampled': 0.393640350877193, 'precision_micro': 0.624, 'precision_macro': 0.2985036892931629, 'recall_sampled': 0.33442982456140347, 'recall_micro': 0.319672131147541, 'recall_macro': 0.14741656294494263, 'accuracy': 0.21052631578947367, 'coverage_error': np.float64(12.5), 'label_ranking_loss': np.float64(0.7179487179487178), 'lrap': np.float64(0.35416666666666663)}\n"
     ]
    },
    {
     "name": "stderr",
     "output_type": "stream",
     "text": [
      "Epoch 13:   0%|          | 0/76 [00:00<?, ?it/s]"
     ]
    },
    {
     "name": "stdout",
     "output_type": "stream",
     "text": [
      "-- Step: 0\n"
     ]
    },
    {
     "name": "stderr",
     "output_type": "stream",
     "text": [
      "Epoch 13:   5%|▌         | 4/76 [00:00<00:06, 11.56it/s]"
     ]
    },
    {
     "name": "stdout",
     "output_type": "stream",
     "text": [
      "{'f1_sampled': 0.33201754385964916, 'f1_micro': 0.41621621621621624, 'f1_macro': 0.18283205979858413, 'f_05_sample': 0.35518082064134693, 'f_05_micro': 0.5147058823529411, 'f_05_macro': 0.23006969716800058, 'precision_sampled': 0.38596491228070173, 'precision_micro': 0.6111111111111112, 'precision_macro': 0.2941615402141718, 'recall_sampled': 0.32785087719298245, 'recall_micro': 0.3155737704918033, 'recall_macro': 0.14486554253677936, 'accuracy': 0.20394736842105263, 'coverage_error': np.float64(12.5), 'label_ranking_loss': np.float64(0.7179487179487178), 'lrap': np.float64(0.35416666666666663)}\n"
     ]
    },
    {
     "name": "stderr",
     "output_type": "stream",
     "text": [
      "Epoch 13: 100%|██████████| 76/76 [00:04<00:00, 18.71it/s]\n"
     ]
    },
    {
     "name": "stdout",
     "output_type": "stream",
     "text": [
      "Training loss: 0.03528195416162673\n",
      "{'f1_sampled': 0.3517543859649123, 'f1_micro': 0.4289544235924933, 'f1_macro': 0.18926823735943565, 'f_05_sample': 0.370953425229741, 'f_05_micro': 0.5263157894736842, 'f_05_macro': 0.23457081407088762, 'precision_sampled': 0.3980263157894737, 'precision_micro': 0.6201550387596899, 'precision_macro': 0.2916559446745205, 'recall_sampled': 0.3508771929824561, 'recall_micro': 0.32786885245901637, 'recall_macro': 0.15141542287994753, 'accuracy': 0.2236842105263158, 'coverage_error': np.float64(11.0), 'label_ranking_loss': np.float64(0.6650641025641025), 'lrap': np.float64(0.35416666666666663)}\n"
     ]
    },
    {
     "name": "stderr",
     "output_type": "stream",
     "text": [
      "Epoch 14:   0%|          | 0/76 [00:00<?, ?it/s]"
     ]
    },
    {
     "name": "stdout",
     "output_type": "stream",
     "text": [
      "-- Step: 0\n"
     ]
    },
    {
     "name": "stderr",
     "output_type": "stream",
     "text": [
      "Epoch 14:   5%|▌         | 4/76 [00:00<00:07,  9.66it/s]"
     ]
    },
    {
     "name": "stdout",
     "output_type": "stream",
     "text": [
      "{'f1_sampled': 0.34188596491228074, 'f1_micro': 0.41935483870967744, 'f1_macro': 0.18554251096089822, 'f_05_sample': 0.3625188773215089, 'f_05_micro': 0.5158730158730159, 'f_05_macro': 0.23204649172954456, 'precision_sampled': 0.39035087719298245, 'precision_micro': 0.609375, 'precision_macro': 0.2913288453542691, 'recall_sampled': 0.33771929824561403, 'recall_micro': 0.319672131147541, 'recall_macro': 0.14763048499174877, 'accuracy': 0.2236842105263158, 'coverage_error': np.float64(14.0), 'label_ranking_loss': np.float64(0.8958333333333333), 'lrap': np.float64(0.24702380952380948)}\n"
     ]
    },
    {
     "name": "stderr",
     "output_type": "stream",
     "text": [
      "Epoch 14: 100%|██████████| 76/76 [00:04<00:00, 18.32it/s]\n"
     ]
    },
    {
     "name": "stdout",
     "output_type": "stream",
     "text": [
      "Training loss: 0.03132971207072076\n",
      "{'f1_sampled': 0.3719298245614035, 'f1_micro': 0.44675324675324674, 'f1_macro': 0.1992106941834219, 'f_05_sample': 0.39048141186299085, 'f_05_micro': 0.5321782178217822, 'f_05_macro': 0.23558732943513436, 'precision_sampled': 0.4166666666666667, 'precision_micro': 0.6099290780141844, 'precision_macro': 0.27589820543602056, 'recall_sampled': 0.3706140350877193, 'recall_micro': 0.3524590163934426, 'recall_macro': 0.16429242560884877, 'accuracy': 0.24342105263157895, 'coverage_error': np.float64(11.0), 'label_ranking_loss': np.float64(0.6025641025641025), 'lrap': np.float64(0.40773809523809523)}\n"
     ]
    },
    {
     "name": "stderr",
     "output_type": "stream",
     "text": [
      "Epoch 15:   0%|          | 0/76 [00:00<?, ?it/s]"
     ]
    },
    {
     "name": "stdout",
     "output_type": "stream",
     "text": [
      "-- Step: 0\n"
     ]
    },
    {
     "name": "stderr",
     "output_type": "stream",
     "text": [
      "Epoch 15:   5%|▌         | 4/76 [00:00<00:08,  8.49it/s]"
     ]
    },
    {
     "name": "stdout",
     "output_type": "stream",
     "text": [
      "{'f1_sampled': 0.3660087719298245, 'f1_micro': 0.44386422976501305, 'f1_macro': 0.19886873695952464, 'f_05_sample': 0.3848423141186299, 'f_05_micro': 0.53125, 'f_05_macro': 0.23815591586472062, 'precision_sampled': 0.41118421052631576, 'precision_micro': 0.6115107913669064, 'precision_macro': 0.28209264280692853, 'recall_sampled': 0.3640350877192982, 'recall_micro': 0.3483606557377049, 'recall_macro': 0.16206028275170592, 'accuracy': 0.23684210526315788, 'coverage_error': np.float64(11.0), 'label_ranking_loss': np.float64(0.6025641025641025), 'lrap': np.float64(0.40773809523809523)}\n"
     ]
    },
    {
     "name": "stderr",
     "output_type": "stream",
     "text": [
      "Epoch 15: 100%|██████████| 76/76 [00:04<00:00, 18.03it/s]\n"
     ]
    },
    {
     "name": "stdout",
     "output_type": "stream",
     "text": [
      "Training loss: 0.028963126548516908\n",
      "{'f1_sampled': 0.38947368421052636, 'f1_micro': 0.45524296675191817, 'f1_macro': 0.21017232979419684, 'f_05_sample': 0.410531537176274, 'f_05_micro': 0.5348557692307693, 'f_05_macro': 0.24454519425546797, 'precision_sampled': 0.4396929824561404, 'precision_micro': 0.6054421768707483, 'precision_macro': 0.2790484419794765, 'recall_sampled': 0.38596491228070173, 'recall_micro': 0.36475409836065575, 'recall_macro': 0.1749298306821432, 'accuracy': 0.2565789473684211, 'coverage_error': np.float64(11.0), 'label_ranking_loss': np.float64(0.6025641025641025), 'lrap': np.float64(0.40773809523809523)}\n",
      "--- Best Model. Val: 0.4232508050381357 -> 0.4304413350449882\n"
     ]
    },
    {
     "name": "stderr",
     "output_type": "stream",
     "text": [
      "Epoch 16:   0%|          | 0/76 [00:00<?, ?it/s]"
     ]
    },
    {
     "name": "stdout",
     "output_type": "stream",
     "text": [
      "-- Step: 0\n"
     ]
    },
    {
     "name": "stderr",
     "output_type": "stream",
     "text": [
      "Epoch 16:   5%|▌         | 4/76 [00:00<00:07,  9.73it/s]"
     ]
    },
    {
     "name": "stdout",
     "output_type": "stream",
     "text": [
      "{'f1_sampled': 0.39166666666666666, 'f1_micro': 0.45758354755784064, 'f1_macro': 0.2111963770389191, 'f_05_sample': 0.4134555137844612, 'f_05_micro': 0.5400485436893204, 'f_05_macro': 0.24712812127869352, 'precision_sampled': 0.4429824561403509, 'precision_micro': 0.6137931034482759, 'precision_macro': 0.28374850382239547, 'recall_sampled': 0.38596491228070173, 'recall_micro': 0.36475409836065575, 'recall_macro': 0.1749298306821432, 'accuracy': 0.2631578947368421, 'coverage_error': np.float64(11.0), 'label_ranking_loss': np.float64(0.6025641025641025), 'lrap': np.float64(0.40773809523809523)}\n"
     ]
    },
    {
     "name": "stderr",
     "output_type": "stream",
     "text": [
      "Epoch 16: 100%|██████████| 76/76 [00:04<00:00, 18.34it/s]\n"
     ]
    },
    {
     "name": "stdout",
     "output_type": "stream",
     "text": [
      "Training loss: 0.02656756032650408\n",
      "{'f1_sampled': 0.3852130325814536, 'f1_micro': 0.4494949494949495, 'f1_macro': 0.21486850635664814, 'f_05_sample': 0.4046163083992031, 'f_05_micro': 0.5223004694835681, 'f_05_macro': 0.2460824682074493, 'precision_sampled': 0.4353070175438597, 'precision_micro': 0.5855263157894737, 'precision_macro': 0.27695196996612464, 'recall_sampled': 0.3881578947368421, 'recall_micro': 0.36475409836065575, 'recall_macro': 0.18146219856314943, 'accuracy': 0.24342105263157895, 'coverage_error': np.float64(11.0), 'label_ranking_loss': np.float64(0.6650641025641025), 'lrap': np.float64(0.35416666666666663)}\n",
      "--- Best Model. Val: 0.4304413350449882 -> 0.43182490208410007\n"
     ]
    },
    {
     "name": "stderr",
     "output_type": "stream",
     "text": [
      "Epoch 17:   0%|          | 0/76 [00:00<?, ?it/s]"
     ]
    },
    {
     "name": "stdout",
     "output_type": "stream",
     "text": [
      "-- Step: 0\n"
     ]
    },
    {
     "name": "stderr",
     "output_type": "stream",
     "text": [
      "Epoch 17:   5%|▌         | 4/76 [00:00<00:07,  9.37it/s]"
     ]
    },
    {
     "name": "stdout",
     "output_type": "stream",
     "text": [
      "{'f1_sampled': 0.38302005012531326, 'f1_micro': 0.44556962025316454, 'f1_macro': 0.2133462581130884, 'f_05_sample': 0.40351981717113294, 'f_05_micro': 0.5188679245283019, 'f_05_macro': 0.24507699845197956, 'precision_sampled': 0.4353070175438597, 'precision_micro': 0.5827814569536424, 'precision_macro': 0.2763362064193266, 'recall_sampled': 0.3848684210526316, 'recall_micro': 0.36065573770491804, 'recall_macro': 0.17923005570600656, 'accuracy': 0.23684210526315788, 'coverage_error': np.float64(11.0), 'label_ranking_loss': np.float64(0.6650641025641025), 'lrap': np.float64(0.35416666666666663)}\n"
     ]
    },
    {
     "name": "stderr",
     "output_type": "stream",
     "text": [
      "Epoch 17: 100%|██████████| 76/76 [00:04<00:00, 18.32it/s]\n"
     ]
    },
    {
     "name": "stdout",
     "output_type": "stream",
     "text": [
      "Training loss: 0.02467949279142838\n",
      "{'f1_sampled': 0.3932017543859649, 'f1_micro': 0.4744897959183674, 'f1_macro': 0.21841845781446764, 'f_05_sample': 0.41768401554585766, 'f_05_micro': 0.55622009569378, 'f_05_macro': 0.254401520250907, 'precision_sampled': 0.45285087719298245, 'precision_micro': 0.6283783783783784, 'precision_macro': 0.3030137965482793, 'recall_sampled': 0.39057017543859657, 'recall_micro': 0.38114754098360654, 'recall_macro': 0.18286495750648615, 'accuracy': 0.23684210526315788, 'coverage_error': np.float64(11.0), 'label_ranking_loss': np.float64(0.6650641025641025), 'lrap': np.float64(0.35416666666666663)}\n",
      "--- Best Model. Val: 0.43182490208410007 -> 0.4451913822175956\n"
     ]
    },
    {
     "name": "stderr",
     "output_type": "stream",
     "text": [
      "Epoch 18:   0%|          | 0/76 [00:00<?, ?it/s]"
     ]
    },
    {
     "name": "stdout",
     "output_type": "stream",
     "text": [
      "-- Step: 0\n"
     ]
    },
    {
     "name": "stderr",
     "output_type": "stream",
     "text": [
      "Epoch 18:   5%|▌         | 4/76 [00:00<00:07,  9.62it/s]"
     ]
    },
    {
     "name": "stdout",
     "output_type": "stream",
     "text": [
      "{'f1_sampled': 0.3899122807017544, 'f1_micro': 0.4730077120822622, 'f1_macro': 0.2170986438163452, 'f_05_sample': 0.4143945418616471, 'f_05_micro': 0.558252427184466, 'f_05_macro': 0.2543141268782158, 'precision_sampled': 0.449561403508772, 'precision_micro': 0.6344827586206897, 'precision_macro': 0.30410460248500115, 'recall_sampled': 0.387280701754386, 'recall_micro': 0.3770491803278688, 'recall_macro': 0.18031393709832289, 'accuracy': 0.23684210526315788, 'coverage_error': np.float64(11.0), 'label_ranking_loss': np.float64(0.6650641025641025), 'lrap': np.float64(0.35416666666666663)}\n"
     ]
    },
    {
     "name": "stderr",
     "output_type": "stream",
     "text": [
      "Epoch 18: 100%|██████████| 76/76 [00:04<00:00, 18.40it/s]\n"
     ]
    },
    {
     "name": "stdout",
     "output_type": "stream",
     "text": [
      "Training loss: 0.023027853684891995\n",
      "{'f1_sampled': 0.39385964912280697, 'f1_micro': 0.47474747474747475, 'f1_macro': 0.2160445910612718, 'f_05_sample': 0.4157378622839149, 'f_05_micro': 0.5516431924882629, 'f_05_macro': 0.25145887874103356, 'precision_sampled': 0.4495614035087719, 'precision_micro': 0.618421052631579, 'precision_macro': 0.3008989542286635, 'recall_sampled': 0.3971491228070176, 'recall_micro': 0.38524590163934425, 'recall_macro': 0.1828042687519031, 'accuracy': 0.23026315789473684, 'coverage_error': np.float64(11.0), 'label_ranking_loss': np.float64(0.6650641025641025), 'lrap': np.float64(0.35416666666666663)}\n"
     ]
    },
    {
     "name": "stderr",
     "output_type": "stream",
     "text": [
      "Epoch 19:   0%|          | 0/76 [00:00<?, ?it/s]"
     ]
    },
    {
     "name": "stdout",
     "output_type": "stream",
     "text": [
      "-- Step: 0\n"
     ]
    },
    {
     "name": "stderr",
     "output_type": "stream",
     "text": [
      "Epoch 19:   5%|▌         | 4/76 [00:00<00:07,  9.65it/s]"
     ]
    },
    {
     "name": "stdout",
     "output_type": "stream",
     "text": [
      "{'f1_sampled': 0.3932017543859649, 'f1_micro': 0.473551637279597, 'f1_macro': 0.2146413927192867, 'f_05_sample': 0.41402904478562375, 'f_05_micro': 0.5490654205607477, 'f_05_macro': 0.24803568484119354, 'precision_sampled': 0.4462719298245614, 'precision_micro': 0.6143790849673203, 'precision_macro': 0.29481074648951233, 'recall_sampled': 0.3971491228070176, 'recall_micro': 0.38524590163934425, 'recall_macro': 0.1828042687519031, 'accuracy': 0.23684210526315788, 'coverage_error': np.float64(11.0), 'label_ranking_loss': np.float64(0.6650641025641025), 'lrap': np.float64(0.35416666666666663)}\n"
     ]
    },
    {
     "name": "stderr",
     "output_type": "stream",
     "text": [
      "Epoch 19: 100%|██████████| 76/76 [00:04<00:00, 18.49it/s]\n"
     ]
    },
    {
     "name": "stdout",
     "output_type": "stream",
     "text": [
      "Training loss: 0.02156868612540788\n",
      "{'f1_sampled': 0.40635964912280703, 'f1_micro': 0.47665847665847666, 'f1_macro': 0.21673618527428087, 'f_05_sample': 0.42348057644110276, 'f_05_micro': 0.5412946428571429, 'f_05_macro': 0.24847382960422218, 'precision_sampled': 0.45175438596491224, 'precision_micro': 0.5950920245398773, 'precision_macro': 0.28371810262566566, 'recall_sampled': 0.41359649122807024, 'recall_micro': 0.3975409836065574, 'recall_macro': 0.18546620309085604, 'accuracy': 0.24342105263157895, 'coverage_error': np.float64(11.0), 'label_ranking_loss': np.float64(0.6650641025641025), 'lrap': np.float64(0.35416666666666663)}\n",
      "--- Best Model. Val: 0.4451913822175956 -> 0.4460844214085951\n"
     ]
    },
    {
     "name": "stderr",
     "output_type": "stream",
     "text": [
      "Epoch 20:   0%|          | 0/76 [00:00<?, ?it/s]"
     ]
    },
    {
     "name": "stdout",
     "output_type": "stream",
     "text": [
      "-- Step: 0\n"
     ]
    },
    {
     "name": "stderr",
     "output_type": "stream",
     "text": [
      "Epoch 20:   5%|▌         | 4/76 [00:00<00:08,  8.56it/s]"
     ]
    },
    {
     "name": "stdout",
     "output_type": "stream",
     "text": [
      "{'f1_sampled': 0.4103070175438596, 'f1_micro': 0.48292682926829267, 'f1_macro': 0.22371327547299388, 'f_05_sample': 0.4287130084827453, 'f_05_micro': 0.5451541850220264, 'f_05_macro': 0.2547263927223776, 'precision_sampled': 0.4594298245614036, 'precision_micro': 0.5963855421686747, 'precision_macro': 0.2872259319627741, 'recall_sampled': 0.418530701754386, 'recall_micro': 0.4057377049180328, 'recall_macro': 0.1919854774672733, 'accuracy': 0.24342105263157895, 'coverage_error': np.float64(11.0), 'label_ranking_loss': np.float64(0.6650641025641025), 'lrap': np.float64(0.35416666666666663)}\n"
     ]
    },
    {
     "name": "stderr",
     "output_type": "stream",
     "text": [
      "Epoch 20: 100%|██████████| 76/76 [00:04<00:00, 18.07it/s]\n"
     ]
    },
    {
     "name": "stdout",
     "output_type": "stream",
     "text": [
      "Training loss: 0.01971556548960507\n",
      "{'f1_sampled': 0.3890350877192982, 'f1_micro': 0.46851385390428213, 'f1_macro': 0.2092965909136771, 'f_05_sample': 0.40640664160401, 'f_05_micro': 0.5432242990654206, 'f_05_macro': 0.24776775685892266, 'precision_sampled': 0.4342105263157895, 'precision_micro': 0.6078431372549019, 'precision_macro': 0.2990414347557205, 'recall_sampled': 0.3949561403508772, 'recall_micro': 0.38114754098360654, 'recall_macro': 0.175841338652327, 'accuracy': 0.24342105263157895, 'coverage_error': np.float64(11.0), 'label_ranking_loss': np.float64(0.6650641025641025), 'lrap': np.float64(0.35416666666666663)}\n"
     ]
    },
    {
     "name": "stderr",
     "output_type": "stream",
     "text": [
      "Epoch 21:   0%|          | 0/76 [00:00<?, ?it/s]"
     ]
    },
    {
     "name": "stdout",
     "output_type": "stream",
     "text": [
      "-- Step: 0\n"
     ]
    },
    {
     "name": "stderr",
     "output_type": "stream",
     "text": [
      "Epoch 21:   5%|▌         | 4/76 [00:00<00:07,  9.34it/s]"
     ]
    },
    {
     "name": "stdout",
     "output_type": "stream",
     "text": [
      "{'f1_sampled': 0.39561403508771925, 'f1_micro': 0.4723618090452261, 'f1_macro': 0.21421377517868745, 'f_05_sample': 0.4129855889724311, 'f_05_micro': 0.5465116279069767, 'f_05_macro': 0.25269077869923773, 'precision_sampled': 0.4407894736842105, 'precision_micro': 0.6103896103896104, 'precision_macro': 0.30142238713667285, 'recall_sampled': 0.4015350877192983, 'recall_micro': 0.38524590163934425, 'recall_macro': 0.179809592620581, 'accuracy': 0.25, 'coverage_error': np.float64(11.0), 'label_ranking_loss': np.float64(0.6650641025641025), 'lrap': np.float64(0.35416666666666663)}\n"
     ]
    },
    {
     "name": "stderr",
     "output_type": "stream",
     "text": [
      "Epoch 21: 100%|██████████| 76/76 [00:04<00:00, 18.19it/s]\n"
     ]
    },
    {
     "name": "stdout",
     "output_type": "stream",
     "text": [
      "Training loss: 0.018731954127648158\n",
      "{'f1_sampled': 0.381359649122807, 'f1_micro': 0.4623115577889447, 'f1_macro': 0.21025510799488425, 'f_05_sample': 0.39651010539168435, 'f_05_micro': 0.5348837209302325, 'f_05_macro': 0.24644052595695884, 'precision_sampled': 0.4232456140350877, 'precision_micro': 0.5974025974025974, 'precision_macro': 0.28771525588163954, 'recall_sampled': 0.3949561403508772, 'recall_micro': 0.3770491803278688, 'recall_macro': 0.1767040025584692, 'accuracy': 0.21710526315789475, 'coverage_error': np.float64(11.0), 'label_ranking_loss': np.float64(0.6650641025641025), 'lrap': np.float64(0.35416666666666663)}\n"
     ]
    },
    {
     "name": "stderr",
     "output_type": "stream",
     "text": [
      "Epoch 22:   0%|          | 0/76 [00:00<?, ?it/s]"
     ]
    },
    {
     "name": "stdout",
     "output_type": "stream",
     "text": [
      "-- Step: 0\n"
     ]
    },
    {
     "name": "stderr",
     "output_type": "stream",
     "text": [
      "Epoch 22:   5%|▌         | 4/76 [00:00<00:07,  9.07it/s]"
     ]
    },
    {
     "name": "stdout",
     "output_type": "stream",
     "text": [
      "{'f1_sampled': 0.38355263157894737, 'f1_micro': 0.46464646464646464, 'f1_macro': 0.21119477025699004, 'f_05_sample': 0.39943408199987146, 'f_05_micro': 0.539906103286385, 'f_05_macro': 0.24860778787524795, 'precision_sampled': 0.4265350877192982, 'precision_micro': 0.6052631578947368, 'precision_macro': 0.2917452171484429, 'recall_sampled': 0.3949561403508772, 'recall_micro': 0.3770491803278688, 'recall_macro': 0.1767040025584692, 'accuracy': 0.2236842105263158, 'coverage_error': np.float64(11.0), 'label_ranking_loss': np.float64(0.6650641025641025), 'lrap': np.float64(0.35416666666666663)}\n"
     ]
    },
    {
     "name": "stderr",
     "output_type": "stream",
     "text": [
      "Epoch 22: 100%|██████████| 76/76 [00:04<00:00, 18.16it/s]\n"
     ]
    },
    {
     "name": "stdout",
     "output_type": "stream",
     "text": [
      "Training loss: 0.017313917375806915\n",
      "{'f1_sampled': 0.3846491228070176, 'f1_micro': 0.46511627906976744, 'f1_macro': 0.2094959621275411, 'f_05_sample': 0.40379594820384296, 'f_05_micro': 0.5514705882352942, 'f_05_macro': 0.24868642801085583, 'precision_sampled': 0.4342105263157895, 'precision_micro': 0.6293706293706294, 'precision_macro': 0.29605870320156036, 'recall_sampled': 0.39057017543859657, 'recall_micro': 0.36885245901639346, 'recall_macro': 0.17359841249635738, 'accuracy': 0.23026315789473684, 'coverage_error': np.float64(11.0), 'label_ranking_loss': np.float64(0.6650641025641025), 'lrap': np.float64(0.35416666666666663)}\n"
     ]
    },
    {
     "name": "stderr",
     "output_type": "stream",
     "text": [
      "Epoch 23:   0%|          | 0/76 [00:00<?, ?it/s]"
     ]
    },
    {
     "name": "stdout",
     "output_type": "stream",
     "text": [
      "-- Step: 0\n"
     ]
    },
    {
     "name": "stderr",
     "output_type": "stream",
     "text": [
      "Epoch 23:   5%|▌         | 4/76 [00:00<00:07,  9.79it/s]"
     ]
    },
    {
     "name": "stdout",
     "output_type": "stream",
     "text": [
      "{'f1_sampled': 0.3846491228070176, 'f1_micro': 0.46632124352331605, 'f1_macro': 0.21004541267699164, 'f_05_sample': 0.40379594820384296, 'f_05_micro': 0.5541871921182266, 'f_05_macro': 0.2503881211955746, 'precision_sampled': 0.4342105263157895, 'precision_micro': 0.6338028169014085, 'precision_macro': 0.29995480709766426, 'recall_sampled': 0.39057017543859657, 'recall_micro': 0.36885245901639346, 'recall_macro': 0.17359841249635738, 'accuracy': 0.23684210526315788, 'coverage_error': np.float64(11.0), 'label_ranking_loss': np.float64(0.6650641025641025), 'lrap': np.float64(0.35416666666666663)}\n"
     ]
    },
    {
     "name": "stderr",
     "output_type": "stream",
     "text": [
      "Epoch 23: 100%|██████████| 76/76 [00:04<00:00, 18.42it/s]\n"
     ]
    },
    {
     "name": "stdout",
     "output_type": "stream",
     "text": [
      "Training loss: 0.016288472057663296\n",
      "{'f1_sampled': 0.38574561403508767, 'f1_micro': 0.46938775510204084, 'f1_macro': 0.21223259694900043, 'f_05_sample': 0.40128968253968256, 'f_05_micro': 0.5502392344497608, 'f_05_macro': 0.25023826126027215, 'precision_sampled': 0.4276315789473684, 'precision_micro': 0.6216216216216216, 'precision_macro': 0.29326361469218615, 'recall_sampled': 0.3949561403508772, 'recall_micro': 0.3770491803278688, 'recall_macro': 0.1767040025584692, 'accuracy': 0.23684210526315788, 'coverage_error': np.float64(11.0), 'label_ranking_loss': np.float64(0.6650641025641025), 'lrap': np.float64(0.35416666666666663)}\n"
     ]
    },
    {
     "name": "stderr",
     "output_type": "stream",
     "text": [
      "Epoch 24:   0%|          | 0/76 [00:00<?, ?it/s]"
     ]
    },
    {
     "name": "stdout",
     "output_type": "stream",
     "text": [
      "-- Step: 0\n"
     ]
    },
    {
     "name": "stderr",
     "output_type": "stream",
     "text": [
      "Epoch 24:   5%|▌         | 4/76 [00:00<00:07,  9.74it/s]"
     ]
    },
    {
     "name": "stdout",
     "output_type": "stream",
     "text": [
      "{'f1_sampled': 0.381359649122807, 'f1_micro': 0.4642857142857143, 'f1_macro': 0.21046933759193526, 'f_05_sample': 0.3972692147034252, 'f_05_micro': 0.5442583732057417, 'f_05_macro': 0.24816427286169065, 'precision_sampled': 0.4243421052631579, 'precision_micro': 0.6148648648648649, 'precision_macro': 0.2906181120466835, 'recall_sampled': 0.3916666666666667, 'recall_micro': 0.3729508196721312, 'recall_macro': 0.17515120752741328, 'accuracy': 0.2236842105263158, 'coverage_error': np.float64(11.0), 'label_ranking_loss': np.float64(0.6650641025641025), 'lrap': np.float64(0.35416666666666663)}\n"
     ]
    },
    {
     "name": "stderr",
     "output_type": "stream",
     "text": [
      "Epoch 24: 100%|██████████| 76/76 [00:04<00:00, 18.35it/s]\n"
     ]
    },
    {
     "name": "stdout",
     "output_type": "stream",
     "text": [
      "Training loss: 0.016087742749062415\n",
      "{'f1_sampled': 0.3824561403508772, 'f1_micro': 0.45685279187817257, 'f1_macro': 0.20918604048063405, 'f_05_sample': 0.40047835935993836, 'f_05_micro': 0.533175355450237, 'f_05_macro': 0.2503281416092804, 'precision_sampled': 0.4298245614035087, 'precision_micro': 0.6, 'precision_macro': 0.30924426450742243, 'recall_sampled': 0.39057017543859657, 'recall_micro': 0.36885245901639346, 'recall_macro': 0.17359841249635738, 'accuracy': 0.23026315789473684, 'coverage_error': np.float64(11.0), 'label_ranking_loss': np.float64(0.6650641025641025), 'lrap': np.float64(0.35416666666666663)}\n"
     ]
    },
    {
     "name": "stderr",
     "output_type": "stream",
     "text": [
      "Epoch 25:   0%|          | 0/76 [00:00<?, ?it/s]"
     ]
    },
    {
     "name": "stdout",
     "output_type": "stream",
     "text": [
      "-- Step: 0\n"
     ]
    },
    {
     "name": "stderr",
     "output_type": "stream",
     "text": [
      "Epoch 25:   5%|▌         | 4/76 [00:00<00:08,  8.54it/s]"
     ]
    },
    {
     "name": "stdout",
     "output_type": "stream",
     "text": [
      "{'f1_sampled': 0.3857456140350878, 'f1_micro': 0.4631043256997455, 'f1_macro': 0.21242690058479535, 'f_05_sample': 0.4054125698862541, 'f_05_micro': 0.5416666666666666, 'f_05_macro': 0.2544998452141075, 'precision_sampled': 0.4364035087719298, 'precision_micro': 0.610738255033557, 'precision_macro': 0.314871970135128, 'recall_sampled': 0.3922149122807018, 'recall_micro': 0.3729508196721312, 'recall_macro': 0.17614943290452062, 'accuracy': 0.23026315789473684, 'coverage_error': np.float64(11.0), 'label_ranking_loss': np.float64(0.6650641025641025), 'lrap': np.float64(0.35416666666666663)}\n"
     ]
    },
    {
     "name": "stderr",
     "output_type": "stream",
     "text": [
      "Epoch 25: 100%|██████████| 76/76 [00:04<00:00, 18.01it/s]\n"
     ]
    },
    {
     "name": "stdout",
     "output_type": "stream",
     "text": [
      "Training loss: 0.015504833794885167\n",
      "{'f1_sampled': 0.38245614035087716, 'f1_micro': 0.4639175257731959, 'f1_macro': 0.20936210661465582, 'f_05_sample': 0.40235805860805857, 'f_05_micro': 0.5487804878048781, 'f_05_macro': 0.24891688951363872, 'precision_sampled': 0.4331140350877193, 'precision_micro': 0.625, 'precision_macro': 0.2964809661238233, 'recall_sampled': 0.38837719298245615, 'recall_micro': 0.36885245901639346, 'recall_macro': 0.17291906467027043, 'accuracy': 0.2236842105263158, 'coverage_error': np.float64(11.0), 'label_ranking_loss': np.float64(0.6650641025641025), 'lrap': np.float64(0.35416666666666663)}\n"
     ]
    },
    {
     "name": "stderr",
     "output_type": "stream",
     "text": [
      "Epoch 26:   0%|          | 0/76 [00:00<?, ?it/s]"
     ]
    },
    {
     "name": "stdout",
     "output_type": "stream",
     "text": [
      "-- Step: 0\n"
     ]
    },
    {
     "name": "stderr",
     "output_type": "stream",
     "text": [
      "Epoch 26:   5%|▌         | 4/76 [00:00<00:08,  8.48it/s]"
     ]
    },
    {
     "name": "stdout",
     "output_type": "stream",
     "text": [
      "{'f1_sampled': 0.3846491228070175, 'f1_micro': 0.46786632390745503, 'f1_macro': 0.21101803214276177, 'f_05_sample': 0.4034545498361288, 'f_05_micro': 0.5521844660194175, 'f_05_macro': 0.25001605076905, 'precision_sampled': 0.4331140350877193, 'precision_micro': 0.6275862068965518, 'precision_macro': 0.29707620421906134, 'recall_sampled': 0.3916666666666667, 'recall_micro': 0.3729508196721312, 'recall_macro': 0.17515120752741328, 'accuracy': 0.23026315789473684, 'coverage_error': np.float64(11.0), 'label_ranking_loss': np.float64(0.6650641025641025), 'lrap': np.float64(0.35416666666666663)}\n"
     ]
    },
    {
     "name": "stderr",
     "output_type": "stream",
     "text": [
      "Epoch 26: 100%|██████████| 76/76 [00:04<00:00, 18.02it/s]\n"
     ]
    },
    {
     "name": "stdout",
     "output_type": "stream",
     "text": [
      "Training loss: 0.014702513176751765\n",
      "{'f1_sampled': 0.3791666666666666, 'f1_micro': 0.46153846153846156, 'f1_macro': 0.20660699432169174, 'f_05_sample': 0.39760659661975456, 'f_05_micro': 0.5434782608695652, 'f_05_macro': 0.24506715207523833, 'precision_sampled': 0.4265350877192982, 'precision_micro': 0.6164383561643836, 'precision_macro': 0.29214335629429966, 'recall_sampled': 0.38508771929824565, 'recall_micro': 0.36885245901639346, 'recall_macro': 0.17118295355915933, 'accuracy': 0.23684210526315788, 'coverage_error': np.float64(11.0), 'label_ranking_loss': np.float64(0.6650641025641025), 'lrap': np.float64(0.35416666666666663)}\n"
     ]
    },
    {
     "name": "stderr",
     "output_type": "stream",
     "text": [
      "Epoch 27:   0%|          | 0/76 [00:00<?, ?it/s]"
     ]
    },
    {
     "name": "stdout",
     "output_type": "stream",
     "text": [
      "-- Step: 0\n"
     ]
    },
    {
     "name": "stderr",
     "output_type": "stream",
     "text": [
      "Epoch 27:   5%|▌         | 4/76 [00:00<00:07,  9.47it/s]"
     ]
    },
    {
     "name": "stdout",
     "output_type": "stream",
     "text": [
      "{'f1_sampled': 0.3791666666666666, 'f1_micro': 0.46153846153846156, 'f1_macro': 0.20660699432169174, 'f_05_sample': 0.39760659661975456, 'f_05_micro': 0.5434782608695652, 'f_05_macro': 0.24506715207523833, 'precision_sampled': 0.4265350877192982, 'precision_micro': 0.6164383561643836, 'precision_macro': 0.29214335629429966, 'recall_sampled': 0.38508771929824565, 'recall_micro': 0.36885245901639346, 'recall_macro': 0.17118295355915933, 'accuracy': 0.23684210526315788, 'coverage_error': np.float64(11.0), 'label_ranking_loss': np.float64(0.6650641025641025), 'lrap': np.float64(0.35416666666666663)}\n"
     ]
    },
    {
     "name": "stderr",
     "output_type": "stream",
     "text": [
      "Epoch 27: 100%|██████████| 76/76 [00:04<00:00, 18.34it/s]\n"
     ]
    },
    {
     "name": "stdout",
     "output_type": "stream",
     "text": [
      "Training loss: 0.014006516075153885\n",
      "{'f1_sampled': 0.38245614035087716, 'f1_micro': 0.46511627906976744, 'f1_macro': 0.20943314173270525, 'f_05_sample': 0.40235805860805857, 'f_05_micro': 0.5514705882352942, 'f_05_macro': 0.2516023829374503, 'precision_sampled': 0.4331140350877193, 'precision_micro': 0.6293706293706294, 'precision_macro': 0.33961930926216644, 'recall_sampled': 0.38837719298245615, 'recall_micro': 0.36885245901639346, 'recall_macro': 0.17359841249635738, 'accuracy': 0.2236842105263158, 'coverage_error': np.float64(11.0), 'label_ranking_loss': np.float64(0.6650641025641025), 'lrap': np.float64(0.35416666666666663)}\n"
     ]
    },
    {
     "name": "stderr",
     "output_type": "stream",
     "text": [
      "Epoch 28:   0%|          | 0/76 [00:00<?, ?it/s]"
     ]
    },
    {
     "name": "stdout",
     "output_type": "stream",
     "text": [
      "-- Step: 0\n"
     ]
    },
    {
     "name": "stderr",
     "output_type": "stream",
     "text": [
      "Epoch 28:   5%|▌         | 4/76 [00:00<00:06, 11.56it/s]"
     ]
    },
    {
     "name": "stdout",
     "output_type": "stream",
     "text": [
      "{'f1_sampled': 0.38245614035087716, 'f1_micro': 0.46511627906976744, 'f1_macro': 0.20943314173270525, 'f_05_sample': 0.40235805860805857, 'f_05_micro': 0.5514705882352942, 'f_05_macro': 0.2516023829374503, 'precision_sampled': 0.4331140350877193, 'precision_micro': 0.6293706293706294, 'precision_macro': 0.33961930926216644, 'recall_sampled': 0.38837719298245615, 'recall_micro': 0.36885245901639346, 'recall_macro': 0.17359841249635738, 'accuracy': 0.2236842105263158, 'coverage_error': np.float64(11.0), 'label_ranking_loss': np.float64(0.6650641025641025), 'lrap': np.float64(0.35416666666666663)}\n"
     ]
    },
    {
     "name": "stderr",
     "output_type": "stream",
     "text": [
      "Epoch 28: 100%|██████████| 76/76 [00:04<00:00, 18.75it/s]\n"
     ]
    },
    {
     "name": "stdout",
     "output_type": "stream",
     "text": [
      "Training loss: 0.01390294865459988\n",
      "{'f1_sampled': 0.381359649122807, 'f1_micro': 0.46596858638743455, 'f1_macro': 0.21010542428353457, 'f_05_sample': 0.400582787095945, 'f_05_micro': 0.5590452261306532, 'f_05_macro': 0.254757683436034, 'precision_sampled': 0.4298245614035087, 'precision_micro': 0.644927536231884, 'precision_macro': 0.345205389848247, 'recall_sampled': 0.3861842105263158, 'recall_micro': 0.36475409836065575, 'recall_macro': 0.1713662696392145, 'accuracy': 0.23684210526315788, 'coverage_error': np.float64(11.0), 'label_ranking_loss': np.float64(0.6650641025641025), 'lrap': np.float64(0.35416666666666663)}\n"
     ]
    },
    {
     "name": "stderr",
     "output_type": "stream",
     "text": [
      "Epoch 29:   0%|          | 0/76 [00:00<?, ?it/s]"
     ]
    },
    {
     "name": "stdout",
     "output_type": "stream",
     "text": [
      "-- Step: 0\n"
     ]
    },
    {
     "name": "stderr",
     "output_type": "stream",
     "text": [
      "Epoch 29:   5%|▌         | 4/76 [00:00<00:07,  9.32it/s]"
     ]
    },
    {
     "name": "stdout",
     "output_type": "stream",
     "text": [
      "{'f1_sampled': 0.381359649122807, 'f1_micro': 0.46475195822454307, 'f1_macro': 0.2095247041906194, 'f_05_sample': 0.400582787095945, 'f_05_micro': 0.55625, 'f_05_macro': 0.2532695881979387, 'precision_sampled': 0.4298245614035087, 'precision_micro': 0.6402877697841727, 'precision_macro': 0.34245813710099426, 'recall_sampled': 0.3861842105263158, 'recall_micro': 0.36475409836065575, 'recall_macro': 0.1713662696392145, 'accuracy': 0.23684210526315788, 'coverage_error': np.float64(11.0), 'label_ranking_loss': np.float64(0.6650641025641025), 'lrap': np.float64(0.35416666666666663)}\n"
     ]
    },
    {
     "name": "stderr",
     "output_type": "stream",
     "text": [
      "Epoch 29: 100%|██████████| 76/76 [00:04<00:00, 18.32it/s]\n"
     ]
    },
    {
     "name": "stdout",
     "output_type": "stream",
     "text": [
      "Training loss: 0.013111209754194868\n",
      "{'f1_sampled': 0.38355263157894737, 'f1_micro': 0.4607594936708861, 'f1_macro': 0.20881397735207297, 'f_05_sample': 0.40126156737998847, 'f_05_micro': 0.5365566037735849, 'f_05_macro': 0.24684400724183725, 'precision_sampled': 0.4298245614035087, 'precision_micro': 0.6026490066225165, 'precision_macro': 0.3285044320758606, 'recall_sampled': 0.3916666666666667, 'recall_micro': 0.3729508196721312, 'recall_macro': 0.17515120752741328, 'accuracy': 0.23026315789473684, 'coverage_error': np.float64(11.0), 'label_ranking_loss': np.float64(0.6650641025641025), 'lrap': np.float64(0.35416666666666663)}\n"
     ]
    },
    {
     "name": "stderr",
     "output_type": "stream",
     "text": [
      "Epoch 30:   0%|          | 0/76 [00:00<?, ?it/s]"
     ]
    },
    {
     "name": "stdout",
     "output_type": "stream",
     "text": [
      "-- Step: 0\n"
     ]
    },
    {
     "name": "stderr",
     "output_type": "stream",
     "text": [
      "Epoch 30:   5%|▌         | 4/76 [00:00<00:07,  9.57it/s]"
     ]
    },
    {
     "name": "stdout",
     "output_type": "stream",
     "text": [
      "{'f1_sampled': 0.3846491228070176, 'f1_micro': 0.4580152671755725, 'f1_macro': 0.2077392747986865, 'f_05_sample': 0.40340233596812547, 'f_05_micro': 0.5357142857142857, 'f_05_macro': 0.24620385122243857, 'precision_sampled': 0.4331140350877193, 'precision_micro': 0.6040268456375839, 'precision_macro': 0.3283068783068783, 'recall_sampled': 0.39057017543859657, 'recall_micro': 0.36885245901639346, 'recall_macro': 0.17359841249635738, 'accuracy': 0.23684210526315788, 'coverage_error': np.float64(11.0), 'label_ranking_loss': np.float64(0.6650641025641025), 'lrap': np.float64(0.35416666666666663)}\n"
     ]
    },
    {
     "name": "stderr",
     "output_type": "stream",
     "text": [
      "Epoch 30: 100%|██████████| 76/76 [00:04<00:00, 18.33it/s]\n"
     ]
    },
    {
     "name": "stdout",
     "output_type": "stream",
     "text": [
      "Training loss: 0.012768751206366639\n",
      "{'f1_sampled': 0.3879385964912281, 'f1_micro': 0.47643979057591623, 'f1_macro': 0.21419051649373583, 'f_05_sample': 0.4093306182121972, 'f_05_micro': 0.571608040201005, 'f_05_macro': 0.2583955499069143, 'precision_sampled': 0.4407894736842105, 'precision_micro': 0.6594202898550725, 'precision_macro': 0.32191717957024085, 'recall_sampled': 0.38837719298245615, 'recall_micro': 0.3729508196721312, 'recall_macro': 0.17476135303866486, 'accuracy': 0.25, 'coverage_error': np.float64(11.0), 'label_ranking_loss': np.float64(0.6025641025641025), 'lrap': np.float64(0.40773809523809523)}\n"
     ]
    },
    {
     "name": "stderr",
     "output_type": "stream",
     "text": [
      "Epoch 31:   0%|          | 0/76 [00:00<?, ?it/s]"
     ]
    },
    {
     "name": "stdout",
     "output_type": "stream",
     "text": [
      "-- Step: 0\n"
     ]
    },
    {
     "name": "stderr",
     "output_type": "stream",
     "text": [
      "Epoch 31:   5%|▌         | 4/76 [00:00<00:08,  8.35it/s]"
     ]
    },
    {
     "name": "stdout",
     "output_type": "stream",
     "text": [
      "{'f1_sampled': 0.3879385964912281, 'f1_micro': 0.4789473684210526, 'f1_macro': 0.21523457047896627, 'f_05_sample': 0.4093306182121972, 'f_05_micro': 0.5774111675126904, 'f_05_macro': 0.2627525029092098, 'precision_sampled': 0.4407894736842105, 'precision_micro': 0.6691176470588235, 'precision_macro': 0.36001241766547887, 'recall_sampled': 0.38837719298245615, 'recall_micro': 0.3729508196721312, 'recall_macro': 0.17476135303866486, 'accuracy': 0.25, 'coverage_error': np.float64(11.0), 'label_ranking_loss': np.float64(0.6025641025641025), 'lrap': np.float64(0.40773809523809523)}\n"
     ]
    },
    {
     "name": "stderr",
     "output_type": "stream",
     "text": [
      "Epoch 31: 100%|██████████| 76/76 [00:04<00:00, 17.91it/s]\n"
     ]
    },
    {
     "name": "stdout",
     "output_type": "stream",
     "text": [
      "Training loss: 0.012314772570358687\n",
      "{'f1_sampled': 0.3857456140350877, 'f1_micro': 0.4666666666666667, 'f1_macro': 0.21263234396694314, 'f_05_sample': 0.4060130293682926, 'f_05_micro': 0.5495169082125604, 'f_05_macro': 0.2487895593310952, 'precision_sampled': 0.4364035087719298, 'precision_micro': 0.6232876712328768, 'precision_macro': 0.2893469720000332, 'recall_sampled': 0.38837719298245615, 'recall_micro': 0.3729508196721312, 'recall_macro': 0.1762665528197267, 'accuracy': 0.24342105263157895, 'coverage_error': np.float64(11.0), 'label_ranking_loss': np.float64(0.6025641025641025), 'lrap': np.float64(0.40773809523809523)}\n"
     ]
    },
    {
     "name": "stderr",
     "output_type": "stream",
     "text": [
      "Epoch 32:   0%|          | 0/76 [00:00<?, ?it/s]"
     ]
    },
    {
     "name": "stdout",
     "output_type": "stream",
     "text": [
      "-- Step: 0\n"
     ]
    },
    {
     "name": "stderr",
     "output_type": "stream",
     "text": [
      "Epoch 32:   5%|▌         | 4/76 [00:00<00:07,  9.58it/s]"
     ]
    },
    {
     "name": "stdout",
     "output_type": "stream",
     "text": [
      "{'f1_sampled': 0.3857456140350877, 'f1_micro': 0.4666666666666667, 'f1_macro': 0.21263234396694314, 'f_05_sample': 0.4060130293682926, 'f_05_micro': 0.5495169082125604, 'f_05_macro': 0.2487895593310952, 'precision_sampled': 0.4364035087719298, 'precision_micro': 0.6232876712328768, 'precision_macro': 0.2893469720000332, 'recall_sampled': 0.38837719298245615, 'recall_micro': 0.3729508196721312, 'recall_macro': 0.1762665528197267, 'accuracy': 0.24342105263157895, 'coverage_error': np.float64(11.0), 'label_ranking_loss': np.float64(0.6025641025641025), 'lrap': np.float64(0.40773809523809523)}\n"
     ]
    },
    {
     "name": "stderr",
     "output_type": "stream",
     "text": [
      "Epoch 32: 100%|██████████| 76/76 [00:04<00:00, 18.30it/s]\n"
     ]
    },
    {
     "name": "stdout",
     "output_type": "stream",
     "text": [
      "Training loss: 0.012030972988883915\n",
      "{'f1_sampled': 0.37807017543859645, 'f1_micro': 0.4635416666666667, 'f1_macro': 0.21177034698021652, 'f_05_sample': 0.3980524227234754, 'f_05_micro': 0.5534825870646766, 'f_05_macro': 0.25659059429810444, 'precision_sampled': 0.4276315789473684, 'precision_micro': 0.6357142857142857, 'precision_macro': 0.318146139574711, 'recall_sampled': 0.3796052631578948, 'recall_micro': 0.36475409836065575, 'recall_macro': 0.17112291927935402, 'accuracy': 0.23684210526315788, 'coverage_error': np.float64(12.5), 'label_ranking_loss': np.float64(0.7179487179487178), 'lrap': np.float64(0.35416666666666663)}\n"
     ]
    },
    {
     "name": "stderr",
     "output_type": "stream",
     "text": [
      "Epoch 33:   0%|          | 0/76 [00:00<?, ?it/s]"
     ]
    },
    {
     "name": "stdout",
     "output_type": "stream",
     "text": [
      "-- Step: 0\n"
     ]
    },
    {
     "name": "stderr",
     "output_type": "stream",
     "text": [
      "Epoch 33:   5%|▌         | 4/76 [00:00<00:07,  9.33it/s]"
     ]
    },
    {
     "name": "stdout",
     "output_type": "stream",
     "text": [
      "{'f1_sampled': 0.38574561403508767, 'f1_micro': 0.47150259067357514, 'f1_macro': 0.21526618976177359, 'f_05_sample': 0.40640664160401, 'f_05_micro': 0.5603448275862069, 'f_05_macro': 0.2590087490600092, 'precision_sampled': 0.4375, 'precision_micro': 0.6408450704225352, 'precision_macro': 0.3194989534275249, 'recall_sampled': 0.38837719298245615, 'recall_micro': 0.3729508196721312, 'recall_macro': 0.17558720499363975, 'accuracy': 0.23684210526315788, 'coverage_error': np.float64(11.0), 'label_ranking_loss': np.float64(0.6025641025641025), 'lrap': np.float64(0.40773809523809523)}\n"
     ]
    },
    {
     "name": "stderr",
     "output_type": "stream",
     "text": [
      "Epoch 33: 100%|██████████| 76/76 [00:04<00:00, 18.18it/s]\n"
     ]
    },
    {
     "name": "stdout",
     "output_type": "stream",
     "text": [
      "Training loss: 0.011634730280524022\n",
      "{'f1_sampled': 0.3956140350877193, 'f1_micro': 0.4717948717948718, 'f1_macro': 0.21691281178133823, 'f_05_sample': 0.4148652882205514, 'f_05_micro': 0.5555555555555556, 'f_05_macro': 0.25730140088064896, 'precision_sampled': 0.4440789473684211, 'precision_micro': 0.6301369863013698, 'precision_macro': 0.311300935089755, 'recall_sampled': 0.3993421052631579, 'recall_micro': 0.3770491803278688, 'recall_macro': 0.17828117051088113, 'accuracy': 0.24342105263157895, 'coverage_error': np.float64(11.0), 'label_ranking_loss': np.float64(0.6025641025641025), 'lrap': np.float64(0.40773809523809523)}\n"
     ]
    },
    {
     "name": "stderr",
     "output_type": "stream",
     "text": [
      "Epoch 34:   0%|          | 0/76 [00:00<?, ?it/s]"
     ]
    },
    {
     "name": "stdout",
     "output_type": "stream",
     "text": [
      "-- Step: 0\n"
     ]
    },
    {
     "name": "stderr",
     "output_type": "stream",
     "text": [
      "Epoch 34:   5%|▌         | 4/76 [00:00<00:08,  8.50it/s]"
     ]
    },
    {
     "name": "stdout",
     "output_type": "stream",
     "text": [
      "{'f1_sampled': 0.3956140350877193, 'f1_micro': 0.47058823529411764, 'f1_macro': 0.21581391068243713, 'f_05_sample': 0.4148652882205514, 'f_05_micro': 0.5528846153846154, 'f_05_macro': 0.2541958108185371, 'precision_sampled': 0.4440789473684211, 'precision_micro': 0.6258503401360545, 'precision_macro': 0.30492338406934677, 'recall_sampled': 0.3993421052631579, 'recall_micro': 0.3770491803278688, 'recall_macro': 0.17828117051088113, 'accuracy': 0.24342105263157895, 'coverage_error': np.float64(11.0), 'label_ranking_loss': np.float64(0.6025641025641025), 'lrap': np.float64(0.40773809523809523)}\n"
     ]
    },
    {
     "name": "stderr",
     "output_type": "stream",
     "text": [
      "Epoch 34: 100%|██████████| 76/76 [00:04<00:00, 18.03it/s]\n"
     ]
    },
    {
     "name": "stdout",
     "output_type": "stream",
     "text": [
      "Training loss: 0.011603502538300267\n",
      "{'f1_sampled': 0.39671052631578946, 'f1_micro': 0.46733668341708545, 'f1_macro': 0.21407887921045818, 'f_05_sample': 0.4134032999164578, 'f_05_micro': 0.5406976744186046, 'f_05_macro': 0.2504594175022553, 'precision_sampled': 0.4407894736842105, 'precision_micro': 0.6038961038961039, 'precision_macro': 0.30007070541967573, 'recall_sampled': 0.40592105263157896, 'recall_micro': 0.38114754098360654, 'recall_macro': 0.17962887940575983, 'accuracy': 0.23684210526315788, 'coverage_error': np.float64(11.0), 'label_ranking_loss': np.float64(0.6025641025641025), 'lrap': np.float64(0.40773809523809523)}\n"
     ]
    },
    {
     "name": "stderr",
     "output_type": "stream",
     "text": [
      "Epoch 35:   0%|          | 0/76 [00:00<?, ?it/s]"
     ]
    },
    {
     "name": "stdout",
     "output_type": "stream",
     "text": [
      "-- Step: 0\n"
     ]
    },
    {
     "name": "stderr",
     "output_type": "stream",
     "text": [
      "Epoch 35:   5%|▌         | 4/76 [00:00<00:05, 12.58it/s]"
     ]
    },
    {
     "name": "stdout",
     "output_type": "stream",
     "text": [
      "{'f1_sampled': 0.4021929824561403, 'f1_micro': 0.4759493670886076, 'f1_macro': 0.21837827840867355, 'f_05_sample': 0.41961675020885547, 'f_05_micro': 0.5542452830188679, 'f_05_macro': 0.25790827561700114, 'precision_sampled': 0.4473684210526316, 'precision_micro': 0.6225165562913907, 'precision_macro': 0.3120361781076067, 'recall_sampled': 0.40921052631578947, 'recall_micro': 0.38524590163934425, 'recall_macro': 0.18186102226290268, 'accuracy': 0.25, 'coverage_error': np.float64(11.0), 'label_ranking_loss': np.float64(0.6025641025641025), 'lrap': np.float64(0.40773809523809523)}\n"
     ]
    },
    {
     "name": "stderr",
     "output_type": "stream",
     "text": [
      "Epoch 35: 100%|██████████| 76/76 [00:04<00:00, 18.92it/s]\n"
     ]
    },
    {
     "name": "stdout",
     "output_type": "stream",
     "text": [
      "Training loss: 0.011050560462631677\n",
      "{'f1_sampled': 0.40657894736842104, 'f1_micro': 0.48081841432225064, 'f1_macro': 0.21873349562790553, 'f_05_sample': 0.42546470342522974, 'f_05_micro': 0.5649038461538461, 'f_05_macro': 0.25721559391019616, 'precision_sampled': 0.45394736842105265, 'precision_micro': 0.6394557823129252, 'precision_macro': 0.30879845306822995, 'recall_sampled': 0.40921052631578947, 'recall_micro': 0.38524590163934425, 'recall_macro': 0.18186102226290268, 'accuracy': 0.2631578947368421, 'coverage_error': np.float64(11.0), 'label_ranking_loss': np.float64(0.6025641025641025), 'lrap': np.float64(0.40773809523809523)}\n",
      "--- Best Model. Val: 0.4460844214085951 -> 0.44662417965340273\n"
     ]
    },
    {
     "name": "stderr",
     "output_type": "stream",
     "text": [
      "Epoch 36:   0%|          | 0/76 [00:00<?, ?it/s]"
     ]
    },
    {
     "name": "stdout",
     "output_type": "stream",
     "text": [
      "-- Step: 0\n"
     ]
    },
    {
     "name": "stderr",
     "output_type": "stream",
     "text": [
      "Epoch 36:   5%|▌         | 4/76 [00:00<00:08,  8.28it/s]"
     ]
    },
    {
     "name": "stdout",
     "output_type": "stream",
     "text": [
      "{'f1_sampled': 0.39999999999999997, 'f1_micro': 0.4781491002570694, 'f1_macro': 0.21663788592360023, 'f_05_sample': 0.4188857560568087, 'f_05_micro': 0.5643203883495146, 'f_05_macro': 0.2555460059785829, 'precision_sampled': 0.4473684210526316, 'precision_micro': 0.6413793103448275, 'precision_macro': 0.3076402974983097, 'recall_sampled': 0.40263157894736845, 'recall_micro': 0.38114754098360654, 'recall_macro': 0.17939796807571057, 'accuracy': 0.2565789473684211, 'coverage_error': np.float64(11.0), 'label_ranking_loss': np.float64(0.6025641025641025), 'lrap': np.float64(0.40773809523809523)}\n"
     ]
    },
    {
     "name": "stderr",
     "output_type": "stream",
     "text": [
      "Epoch 36: 100%|██████████| 76/76 [00:04<00:00, 17.96it/s]\n"
     ]
    },
    {
     "name": "stdout",
     "output_type": "stream",
     "text": [
      "Training loss: 0.010769185793929194\n",
      "{'f1_sampled': 0.4076754385964912, 'f1_micro': 0.47146401985111663, 'f1_macro': 0.21652088274537254, 'f_05_sample': 0.42363721804511273, 'f_05_micro': 0.5397727272727273, 'f_05_macro': 0.2522696159188397, 'precision_sampled': 0.4506578947368421, 'precision_micro': 0.5974842767295597, 'precision_macro': 0.3015572268345247, 'recall_sampled': 0.41907894736842105, 'recall_micro': 0.38934426229508196, 'recall_macro': 0.18343964248783065, 'accuracy': 0.23684210526315788, 'coverage_error': np.float64(11.0), 'label_ranking_loss': np.float64(0.6025641025641025), 'lrap': np.float64(0.40773809523809523)}\n"
     ]
    },
    {
     "name": "stderr",
     "output_type": "stream",
     "text": [
      "Epoch 37:   0%|          | 0/76 [00:00<?, ?it/s]"
     ]
    },
    {
     "name": "stdout",
     "output_type": "stream",
     "text": [
      "-- Step: 0\n"
     ]
    },
    {
     "name": "stderr",
     "output_type": "stream",
     "text": [
      "Epoch 37:   5%|▌         | 4/76 [00:00<00:07,  9.55it/s]"
     ]
    },
    {
     "name": "stdout",
     "output_type": "stream",
     "text": [
      "{'f1_sampled': 0.40986842105263155, 'f1_micro': 0.47642679900744417, 'f1_macro': 0.21870034421054832, 'f_05_sample': 0.42473370927318294, 'f_05_micro': 0.5454545454545454, 'f_05_macro': 0.2544443120614181, 'precision_sampled': 0.4506578947368421, 'precision_micro': 0.6037735849056604, 'precision_macro': 0.3037876167416119, 'recall_sampled': 0.4223684210526316, 'recall_micro': 0.39344262295081966, 'recall_macro': 0.1856717853449735, 'accuracy': 0.24342105263157895, 'coverage_error': np.float64(11.0), 'label_ranking_loss': np.float64(0.6025641025641025), 'lrap': np.float64(0.40773809523809523)}\n"
     ]
    },
    {
     "name": "stderr",
     "output_type": "stream",
     "text": [
      "Epoch 37: 100%|██████████| 76/76 [00:04<00:00, 18.32it/s]\n"
     ]
    },
    {
     "name": "stdout",
     "output_type": "stream",
     "text": [
      "Training loss: 0.010588719215440122\n",
      "{'f1_sampled': 0.38574561403508767, 'f1_micro': 0.46115288220551376, 'f1_macro': 0.20965485470480724, 'f_05_sample': 0.4020447754000385, 'f_05_micro': 0.5324074074074074, 'f_05_macro': 0.24726803557765012, 'precision_sampled': 0.4298245614035087, 'precision_micro': 0.5935483870967742, 'precision_macro': 0.2995390976007191, 'recall_sampled': 0.3993421052631579, 'recall_micro': 0.3770491803278688, 'recall_macro': 0.1760504799262543, 'accuracy': 0.21052631578947367, 'coverage_error': np.float64(11.0), 'label_ranking_loss': np.float64(0.6025641025641025), 'lrap': np.float64(0.40773809523809523)}\n"
     ]
    },
    {
     "name": "stderr",
     "output_type": "stream",
     "text": [
      "Epoch 38:   0%|          | 0/76 [00:00<?, ?it/s]"
     ]
    },
    {
     "name": "stdout",
     "output_type": "stream",
     "text": [
      "-- Step: 0\n"
     ]
    },
    {
     "name": "stderr",
     "output_type": "stream",
     "text": [
      "Epoch 38:   5%|▌         | 4/76 [00:00<00:07,  9.34it/s]"
     ]
    },
    {
     "name": "stdout",
     "output_type": "stream",
     "text": [
      "{'f1_sampled': 0.3879385964912281, 'f1_micro': 0.46384039900249374, 'f1_macro': 0.21050519484086166, 'f_05_sample': 0.40314126662810873, 'f_05_micro': 0.533256880733945, 'f_05_macro': 0.2467099998633644, 'precision_sampled': 0.4298245614035087, 'precision_micro': 0.5923566878980892, 'precision_macro': 0.2976451582067797, 'recall_sampled': 0.40263157894736845, 'recall_micro': 0.38114754098360654, 'recall_macro': 0.17828262278339715, 'accuracy': 0.21710526315789475, 'coverage_error': np.float64(11.0), 'label_ranking_loss': np.float64(0.6025641025641025), 'lrap': np.float64(0.40773809523809523)}\n"
     ]
    },
    {
     "name": "stderr",
     "output_type": "stream",
     "text": [
      "Epoch 38: 100%|██████████| 76/76 [00:04<00:00, 18.25it/s]\n"
     ]
    },
    {
     "name": "stdout",
     "output_type": "stream",
     "text": [
      "Training loss: 0.010377905300916418\n",
      "{'f1_sampled': 0.3901315789473684, 'f1_micro': 0.46, 'f1_macro': 0.2082721827576736, 'f_05_sample': 0.40460325493220234, 'f_05_micro': 0.5299539170506913, 'f_05_macro': 0.24515087914838643, 'precision_sampled': 0.4298245614035087, 'precision_micro': 0.5897435897435898, 'precision_macro': 0.2963454700061843, 'recall_sampled': 0.40263157894736845, 'recall_micro': 0.3770491803278688, 'recall_macro': 0.17514022077011807, 'accuracy': 0.23026315789473684, 'coverage_error': np.float64(11.0), 'label_ranking_loss': np.float64(0.6650641025641025), 'lrap': np.float64(0.35416666666666663)}\n"
     ]
    },
    {
     "name": "stderr",
     "output_type": "stream",
     "text": [
      "Epoch 39:   0%|          | 0/76 [00:00<?, ?it/s]"
     ]
    },
    {
     "name": "stdout",
     "output_type": "stream",
     "text": [
      "-- Step: 0\n"
     ]
    },
    {
     "name": "stderr",
     "output_type": "stream",
     "text": [
      "Epoch 39:   5%|▌         | 4/76 [00:00<00:07, 10.09it/s]"
     ]
    },
    {
     "name": "stdout",
     "output_type": "stream",
     "text": [
      "{'f1_sampled': 0.3846491228070176, 'f1_micro': 0.455, 'f1_macro': 0.20585132319395688, 'f_05_sample': 0.39982367778420413, 'f_05_micro': 0.5241935483870968, 'f_05_macro': 0.2413221445894287, 'precision_sampled': 0.425438596491228, 'precision_micro': 0.5833333333333334, 'precision_macro': 0.2904490926380327, 'recall_sampled': 0.3960526315789474, 'recall_micro': 0.3729508196721312, 'recall_macro': 0.1735874257390622, 'accuracy': 0.23026315789473684, 'coverage_error': np.float64(11.0), 'label_ranking_loss': np.float64(0.6650641025641025), 'lrap': np.float64(0.35416666666666663)}\n"
     ]
    },
    {
     "name": "stderr",
     "output_type": "stream",
     "text": [
      "Epoch 39: 100%|██████████| 76/76 [00:04<00:00, 18.41it/s]\n"
     ]
    },
    {
     "name": "stdout",
     "output_type": "stream",
     "text": [
      "Training loss: 0.01037981209198111\n",
      "{'f1_sampled': 0.3890350877192982, 'f1_micro': 0.46115288220551376, 'f1_macro': 0.2094792355952043, 'f_05_sample': 0.4046313700918964, 'f_05_micro': 0.5324074074074074, 'f_05_macro': 0.24638616713228248, 'precision_sampled': 0.4309210526315789, 'precision_micro': 0.5935483870967742, 'precision_macro': 0.29672083355888773, 'recall_sampled': 0.3993421052631579, 'recall_micro': 0.3770491803278688, 'recall_macro': 0.17537113210016736, 'accuracy': 0.2236842105263158, 'coverage_error': np.float64(12.5), 'label_ranking_loss': np.float64(0.7179487179487178), 'lrap': np.float64(0.35416666666666663)}\n"
     ]
    },
    {
     "name": "stderr",
     "output_type": "stream",
     "text": [
      "Epoch 40:   0%|          | 0/76 [00:00<?, ?it/s]"
     ]
    },
    {
     "name": "stdout",
     "output_type": "stream",
     "text": [
      "-- Step: 0\n"
     ]
    },
    {
     "name": "stderr",
     "output_type": "stream",
     "text": [
      "Epoch 40:   5%|▌         | 4/76 [00:00<00:07,  9.18it/s]"
     ]
    },
    {
     "name": "stdout",
     "output_type": "stream",
     "text": [
      "{'f1_sampled': 0.3868421052631579, 'f1_micro': 0.46115288220551376, 'f1_macro': 0.2098728222421602, 'f_05_sample': 0.40207289055973267, 'f_05_micro': 0.5324074074074074, 'f_05_macro': 0.2464344623124235, 'precision_sampled': 0.4276315789473684, 'precision_micro': 0.5935483870967742, 'precision_macro': 0.2964032028409114, 'recall_sampled': 0.3960526315789474, 'recall_micro': 0.3770491803278688, 'recall_macro': 0.1760504799262543, 'accuracy': 0.23026315789473684, 'coverage_error': np.float64(12.5), 'label_ranking_loss': np.float64(0.7179487179487178), 'lrap': np.float64(0.35416666666666663)}\n"
     ]
    },
    {
     "name": "stderr",
     "output_type": "stream",
     "text": [
      "Epoch 40: 100%|██████████| 76/76 [00:04<00:00, 18.24it/s]\n"
     ]
    },
    {
     "name": "stdout",
     "output_type": "stream",
     "text": [
      "Training loss: 0.009874098560478734\n",
      "{'f1_sampled': 0.3857456140350877, 'f1_micro': 0.4623115577889447, 'f1_macro': 0.2096626143648488, 'f_05_sample': 0.3991207987918514, 'f_05_micro': 0.5348837209302325, 'f_05_macro': 0.2454205843860777, 'precision_sampled': 0.4232456140350877, 'precision_micro': 0.5974025974025974, 'precision_macro': 0.2942532669916962, 'recall_sampled': 0.3993421052631579, 'recall_micro': 0.3770491803278688, 'recall_macro': 0.17602465473238224, 'accuracy': 0.23684210526315788, 'coverage_error': np.float64(11.0), 'label_ranking_loss': np.float64(0.6650641025641025), 'lrap': np.float64(0.35416666666666663)}\n"
     ]
    },
    {
     "name": "stderr",
     "output_type": "stream",
     "text": [
      "Epoch 41:   0%|          | 0/76 [00:00<?, ?it/s]"
     ]
    },
    {
     "name": "stdout",
     "output_type": "stream",
     "text": [
      "-- Step: 0\n"
     ]
    },
    {
     "name": "stderr",
     "output_type": "stream",
     "text": [
      "Epoch 41:   5%|▌         | 4/76 [00:00<00:06, 10.68it/s]"
     ]
    },
    {
     "name": "stdout",
     "output_type": "stream",
     "text": [
      "{'f1_sampled': 0.3901315789473684, 'f1_micro': 0.46616541353383456, 'f1_macro': 0.21381983280778152, 'f_05_sample': 0.4046032549322023, 'f_05_micro': 0.5381944444444444, 'f_05_macro': 0.2492976141251764, 'precision_sampled': 0.4298245614035087, 'precision_micro': 0.6, 'precision_macro': 0.29742787016629935, 'recall_sampled': 0.40263157894736845, 'recall_micro': 0.38114754098360654, 'recall_macro': 0.1799929087006362, 'accuracy': 0.23684210526315788, 'coverage_error': np.float64(11.0), 'label_ranking_loss': np.float64(0.6650641025641025), 'lrap': np.float64(0.35416666666666663)}\n"
     ]
    },
    {
     "name": "stderr",
     "output_type": "stream",
     "text": [
      "Epoch 41: 100%|██████████| 76/76 [00:04<00:00, 18.57it/s]\n"
     ]
    },
    {
     "name": "stdout",
     "output_type": "stream",
     "text": [
      "Training loss: 0.010010903829855746\n",
      "{'f1_sampled': 0.369298245614035, 'f1_micro': 0.4472361809045226, 'f1_macro': 0.20269034789620194, 'f_05_sample': 0.3837418064391749, 'f_05_micro': 0.5174418604651163, 'f_05_macro': 0.2380892326707401, 'precision_sampled': 0.40899122807017535, 'precision_micro': 0.577922077922078, 'precision_macro': 0.278968253968254, 'recall_sampled': 0.3828947368421053, 'recall_micro': 0.36475409836065575, 'recall_macro': 0.16932822616095367, 'accuracy': 0.21052631578947367, 'coverage_error': np.float64(12.5), 'label_ranking_loss': np.float64(0.7804487179487178), 'lrap': np.float64(0.3005952380952381)}\n"
     ]
    },
    {
     "name": "stderr",
     "output_type": "stream",
     "text": [
      "Epoch 42:   0%|          | 0/76 [00:00<?, ?it/s]"
     ]
    },
    {
     "name": "stdout",
     "output_type": "stream",
     "text": [
      "-- Step: 0\n"
     ]
    },
    {
     "name": "stderr",
     "output_type": "stream",
     "text": [
      "Epoch 42:   5%|▌         | 4/76 [00:00<00:08,  8.83it/s]"
     ]
    },
    {
     "name": "stdout",
     "output_type": "stream",
     "text": [
      "{'f1_sampled': 0.3660087719298245, 'f1_micro': 0.4444444444444444, 'f1_macro': 0.20172509693095098, 'f_05_sample': 0.3822798181350813, 'f_05_micro': 0.5164319248826291, 'f_05_macro': 0.2378985967091723, 'precision_sampled': 0.40899122807017535, 'precision_micro': 0.5789473684210527, 'precision_macro': 0.2796485260770975, 'recall_sampled': 0.3763157894736842, 'recall_micro': 0.36065573770491804, 'recall_macro': 0.16777543112989776, 'accuracy': 0.21052631578947367, 'coverage_error': np.float64(12.5), 'label_ranking_loss': np.float64(0.7804487179487178), 'lrap': np.float64(0.3005952380952381)}\n"
     ]
    },
    {
     "name": "stderr",
     "output_type": "stream",
     "text": [
      "Epoch 42: 100%|██████████| 76/76 [00:04<00:00, 18.09it/s]\n"
     ]
    },
    {
     "name": "stdout",
     "output_type": "stream",
     "text": [
      "Training loss: 0.009859638325379868\n",
      "{'f1_sampled': 0.381359649122807, 'f1_micro': 0.4577114427860697, 'f1_macro': 0.20677994989462947, 'f_05_sample': 0.39434122164385316, 'f_05_micro': 0.5251141552511416, 'f_05_macro': 0.24185691718547883, 'precision_sampled': 0.41885964912280693, 'precision_micro': 0.5822784810126582, 'precision_macro': 0.2905204114881534, 'recall_sampled': 0.3993421052631579, 'recall_micro': 0.3770491803278688, 'recall_macro': 0.17514022077011807, 'accuracy': 0.21710526315789475, 'coverage_error': np.float64(12.5), 'label_ranking_loss': np.float64(0.7804487179487178), 'lrap': np.float64(0.3005952380952381)}\n"
     ]
    },
    {
     "name": "stderr",
     "output_type": "stream",
     "text": [
      "Epoch 43:   0%|          | 0/76 [00:00<?, ?it/s]"
     ]
    },
    {
     "name": "stdout",
     "output_type": "stream",
     "text": [
      "-- Step: 0\n"
     ]
    },
    {
     "name": "stderr",
     "output_type": "stream",
     "text": [
      "Epoch 43:   5%|▌         | 4/76 [00:00<00:08,  8.70it/s]"
     ]
    },
    {
     "name": "stdout",
     "output_type": "stream",
     "text": [
      "{'f1_sampled': 0.381359649122807, 'f1_micro': 0.456575682382134, 'f1_macro': 0.20630534144659912, 'f_05_sample': 0.39434122164385316, 'f_05_micro': 0.5227272727272727, 'f_05_macro': 0.24061197476406584, 'precision_sampled': 0.41885964912280693, 'precision_micro': 0.5786163522012578, 'precision_macro': 0.28816562341907964, 'recall_sampled': 0.3993421052631579, 'recall_micro': 0.3770491803278688, 'recall_macro': 0.17514022077011807, 'accuracy': 0.21710526315789475, 'coverage_error': np.float64(12.5), 'label_ranking_loss': np.float64(0.7804487179487178), 'lrap': np.float64(0.3005952380952381)}\n"
     ]
    },
    {
     "name": "stderr",
     "output_type": "stream",
     "text": [
      "Epoch 43: 100%|██████████| 76/76 [00:04<00:00, 18.08it/s]\n"
     ]
    },
    {
     "name": "stdout",
     "output_type": "stream",
     "text": [
      "Training loss: 0.009565185602313201\n",
      "{'f1_sampled': 0.387938596491228, 'f1_micro': 0.4603960396039604, 'f1_macro': 0.2100561246027875, 'f_05_sample': 0.4042096426964848, 'f_05_micro': 0.5260180995475113, 'f_05_macro': 0.24471486435935463, 'precision_sampled': 0.4320175438596491, 'precision_micro': 0.58125, 'precision_macro': 0.29258782691962415, 'recall_sampled': 0.40263157894736845, 'recall_micro': 0.38114754098360654, 'recall_macro': 0.17842912691228507, 'accuracy': 0.21052631578947367, 'coverage_error': np.float64(12.5), 'label_ranking_loss': np.float64(0.7804487179487178), 'lrap': np.float64(0.3005952380952381)}\n"
     ]
    },
    {
     "name": "stderr",
     "output_type": "stream",
     "text": [
      "Epoch 44:   0%|          | 0/76 [00:00<?, ?it/s]"
     ]
    },
    {
     "name": "stdout",
     "output_type": "stream",
     "text": [
      "-- Step: 0\n"
     ]
    },
    {
     "name": "stderr",
     "output_type": "stream",
     "text": [
      "Epoch 44:   5%|▌         | 4/76 [00:00<00:07,  9.55it/s]"
     ]
    },
    {
     "name": "stdout",
     "output_type": "stream",
     "text": [
      "{'f1_sampled': 0.387938596491228, 'f1_micro': 0.4603960396039604, 'f1_macro': 0.2100561246027875, 'f_05_sample': 0.4042096426964848, 'f_05_micro': 0.5260180995475113, 'f_05_macro': 0.24471486435935463, 'precision_sampled': 0.4320175438596491, 'precision_micro': 0.58125, 'precision_macro': 0.29258782691962415, 'recall_sampled': 0.40263157894736845, 'recall_micro': 0.38114754098360654, 'recall_macro': 0.17842912691228507, 'accuracy': 0.21052631578947367, 'coverage_error': np.float64(12.5), 'label_ranking_loss': np.float64(0.7804487179487178), 'lrap': np.float64(0.3005952380952381)}\n"
     ]
    },
    {
     "name": "stderr",
     "output_type": "stream",
     "text": [
      "Epoch 44: 100%|██████████| 76/76 [00:04<00:00, 18.27it/s]\n"
     ]
    },
    {
     "name": "stdout",
     "output_type": "stream",
     "text": [
      "Training loss: 0.00955562653804296\n",
      "{'f1_sampled': 0.39232456140350874, 'f1_micro': 0.46534653465346537, 'f1_macro': 0.20974435785596787, 'f_05_sample': 0.40640262515262515, 'f_05_micro': 0.5316742081447964, 'f_05_macro': 0.24314276634454995, 'precision_sampled': 0.4320175438596491, 'precision_micro': 0.5875, 'precision_macro': 0.2896240060836334, 'recall_sampled': 0.40921052631578947, 'recall_micro': 0.38524590163934425, 'recall_macro': 0.17892515865831685, 'accuracy': 0.2236842105263158, 'coverage_error': np.float64(11.0), 'label_ranking_loss': np.float64(0.6650641025641025), 'lrap': np.float64(0.35416666666666663)}\n"
     ]
    },
    {
     "name": "stderr",
     "output_type": "stream",
     "text": [
      "Epoch 45:   0%|          | 0/76 [00:00<?, ?it/s]"
     ]
    },
    {
     "name": "stdout",
     "output_type": "stream",
     "text": [
      "-- Step: 0\n"
     ]
    },
    {
     "name": "stderr",
     "output_type": "stream",
     "text": [
      "Epoch 45:   5%|▌         | 4/76 [00:00<00:07,  9.81it/s]"
     ]
    },
    {
     "name": "stdout",
     "output_type": "stream",
     "text": [
      "{'f1_sampled': 0.39232456140350874, 'f1_micro': 0.46534653465346537, 'f1_macro': 0.20974435785596787, 'f_05_sample': 0.40640262515262515, 'f_05_micro': 0.5316742081447964, 'f_05_macro': 0.24314276634454995, 'precision_sampled': 0.4320175438596491, 'precision_micro': 0.5875, 'precision_macro': 0.2896240060836334, 'recall_sampled': 0.40921052631578947, 'recall_micro': 0.38524590163934425, 'recall_macro': 0.17892515865831685, 'accuracy': 0.2236842105263158, 'coverage_error': np.float64(11.0), 'label_ranking_loss': np.float64(0.6650641025641025), 'lrap': np.float64(0.35416666666666663)}\n"
     ]
    },
    {
     "name": "stderr",
     "output_type": "stream",
     "text": [
      "Epoch 45: 100%|██████████| 76/76 [00:04<00:00, 18.35it/s]\n"
     ]
    },
    {
     "name": "stdout",
     "output_type": "stream",
     "text": [
      "Training loss: 0.0092241689133899\n",
      "{'f1_sampled': 0.38903508771929823, 'f1_micro': 0.46384039900249374, 'f1_macro': 0.20863102898297434, 'f_05_sample': 0.40387226078015553, 'f_05_micro': 0.533256880733945, 'f_05_macro': 0.2440452049052512, 'precision_sampled': 0.4298245614035087, 'precision_micro': 0.5923566878980892, 'precision_macro': 0.29331709469297296, 'recall_sampled': 0.40263157894736845, 'recall_micro': 0.38114754098360654, 'recall_macro': 0.17669301580117397, 'accuracy': 0.2236842105263158, 'coverage_error': np.float64(12.5), 'label_ranking_loss': np.float64(0.7804487179487178), 'lrap': np.float64(0.3005952380952381)}\n"
     ]
    },
    {
     "name": "stderr",
     "output_type": "stream",
     "text": [
      "Epoch 46:   0%|          | 0/76 [00:00<?, ?it/s]"
     ]
    },
    {
     "name": "stdout",
     "output_type": "stream",
     "text": [
      "-- Step: 0\n"
     ]
    },
    {
     "name": "stderr",
     "output_type": "stream",
     "text": [
      "Epoch 46:   5%|▌         | 4/76 [00:00<00:07,  9.40it/s]"
     ]
    },
    {
     "name": "stdout",
     "output_type": "stream",
     "text": [
      "{'f1_sampled': 0.38903508771929823, 'f1_micro': 0.46384039900249374, 'f1_macro': 0.20899480023282155, 'f_05_sample': 0.4020447754000385, 'f_05_micro': 0.533256880733945, 'f_05_macro': 0.2440672256869175, 'precision_sampled': 0.4265350877192982, 'precision_micro': 0.5923566878980892, 'precision_macro': 0.2930024184272097, 'recall_sampled': 0.40592105263157896, 'recall_micro': 0.38114754098360654, 'recall_macro': 0.17737236362726091, 'accuracy': 0.2236842105263158, 'coverage_error': np.float64(11.0), 'label_ranking_loss': np.float64(0.6650641025641025), 'lrap': np.float64(0.35416666666666663)}\n"
     ]
    },
    {
     "name": "stderr",
     "output_type": "stream",
     "text": [
      "Epoch 46: 100%|██████████| 76/76 [00:04<00:00, 18.24it/s]\n"
     ]
    },
    {
     "name": "stdout",
     "output_type": "stream",
     "text": [
      "Training loss: 0.009237679616106968\n",
      "{'f1_sampled': 0.3846491228070176, 'f1_micro': 0.4623115577889447, 'f1_macro': 0.208137035108143, 'f_05_sample': 0.3983898046398046, 'f_05_micro': 0.5348837209302325, 'f_05_macro': 0.24475108472769413, 'precision_sampled': 0.4232456140350877, 'precision_micro': 0.5974025974025974, 'precision_macro': 0.2954951298701299, 'recall_sampled': 0.3993421052631579, 'recall_micro': 0.3770491803278688, 'recall_macro': 0.17514022077011807, 'accuracy': 0.23026315789473684, 'coverage_error': np.float64(12.5), 'label_ranking_loss': np.float64(0.7804487179487178), 'lrap': np.float64(0.3005952380952381)}\n"
     ]
    },
    {
     "name": "stderr",
     "output_type": "stream",
     "text": [
      "Epoch 47:   0%|          | 0/76 [00:00<?, ?it/s]"
     ]
    },
    {
     "name": "stdout",
     "output_type": "stream",
     "text": [
      "-- Step: 0\n"
     ]
    },
    {
     "name": "stderr",
     "output_type": "stream",
     "text": [
      "Epoch 47:   5%|▌         | 4/76 [00:00<00:07,  9.44it/s]"
     ]
    },
    {
     "name": "stdout",
     "output_type": "stream",
     "text": [
      "{'f1_sampled': 0.3846491228070176, 'f1_micro': 0.4623115577889447, 'f1_macro': 0.208137035108143, 'f_05_sample': 0.3983898046398046, 'f_05_micro': 0.5348837209302325, 'f_05_macro': 0.24475108472769413, 'precision_sampled': 0.4232456140350877, 'precision_micro': 0.5974025974025974, 'precision_macro': 0.2954951298701299, 'recall_sampled': 0.3993421052631579, 'recall_micro': 0.3770491803278688, 'recall_macro': 0.17514022077011807, 'accuracy': 0.23026315789473684, 'coverage_error': np.float64(12.5), 'label_ranking_loss': np.float64(0.7804487179487178), 'lrap': np.float64(0.3005952380952381)}\n"
     ]
    },
    {
     "name": "stderr",
     "output_type": "stream",
     "text": [
      "Epoch 47: 100%|██████████| 76/76 [00:04<00:00, 18.25it/s]\n"
     ]
    },
    {
     "name": "stdout",
     "output_type": "stream",
     "text": [
      "Training loss: 0.00903864974450124\n",
      "{'f1_sampled': 0.3868421052631579, 'f1_micro': 0.46582278481012657, 'f1_macro': 0.20940900034976687, 'f_05_sample': 0.4013137812479918, 'f_05_micro': 0.5424528301886793, 'f_05_macro': 0.24690044146313497, 'precision_sampled': 0.4265350877192982, 'precision_micro': 0.609271523178808, 'precision_macro': 0.2983410499400488, 'recall_sampled': 0.3993421052631579, 'recall_micro': 0.3770491803278688, 'recall_macro': 0.17514022077011807, 'accuracy': 0.23684210526315788, 'coverage_error': np.float64(12.5), 'label_ranking_loss': np.float64(0.7804487179487178), 'lrap': np.float64(0.3005952380952381)}\n"
     ]
    },
    {
     "name": "stderr",
     "output_type": "stream",
     "text": [
      "Epoch 48:   0%|          | 0/76 [00:00<?, ?it/s]"
     ]
    },
    {
     "name": "stdout",
     "output_type": "stream",
     "text": [
      "-- Step: 0\n"
     ]
    },
    {
     "name": "stderr",
     "output_type": "stream",
     "text": [
      "Epoch 48:   5%|▌         | 4/76 [00:00<00:07,  9.51it/s]"
     ]
    },
    {
     "name": "stdout",
     "output_type": "stream",
     "text": [
      "{'f1_sampled': 0.3868421052631579, 'f1_micro': 0.46582278481012657, 'f1_macro': 0.20940900034976687, 'f_05_sample': 0.4013137812479918, 'f_05_micro': 0.5424528301886793, 'f_05_macro': 0.24690044146313497, 'precision_sampled': 0.4265350877192982, 'precision_micro': 0.609271523178808, 'precision_macro': 0.2983410499400488, 'recall_sampled': 0.3993421052631579, 'recall_micro': 0.3770491803278688, 'recall_macro': 0.17514022077011807, 'accuracy': 0.23684210526315788, 'coverage_error': np.float64(12.5), 'label_ranking_loss': np.float64(0.7804487179487178), 'lrap': np.float64(0.3005952380952381)}\n"
     ]
    },
    {
     "name": "stderr",
     "output_type": "stream",
     "text": [
      "Epoch 48: 100%|██████████| 76/76 [00:04<00:00, 18.26it/s]\n"
     ]
    },
    {
     "name": "stdout",
     "output_type": "stream",
     "text": [
      "Training loss: 0.009094941681005844\n",
      "{'f1_sampled': 0.3846491228070176, 'f1_micro': 0.4623115577889447, 'f1_macro': 0.20858896413150058, 'f_05_sample': 0.3983898046398046, 'f_05_micro': 0.5348837209302325, 'f_05_macro': 0.24566869315037354, 'precision_sampled': 0.4232456140350877, 'precision_micro': 0.5974025974025974, 'precision_macro': 0.2968632174277336, 'recall_sampled': 0.3993421052631579, 'recall_micro': 0.3770491803278688, 'recall_macro': 0.17514022077011807, 'accuracy': 0.23026315789473684, 'coverage_error': np.float64(12.5), 'label_ranking_loss': np.float64(0.7804487179487178), 'lrap': np.float64(0.3005952380952381)}\n"
     ]
    },
    {
     "name": "stderr",
     "output_type": "stream",
     "text": [
      "Epoch 49:   0%|          | 0/76 [00:00<?, ?it/s]"
     ]
    },
    {
     "name": "stdout",
     "output_type": "stream",
     "text": [
      "-- Step: 0\n"
     ]
    },
    {
     "name": "stderr",
     "output_type": "stream",
     "text": [
      "Epoch 49:   5%|▌         | 4/76 [00:00<00:07,  9.94it/s]"
     ]
    },
    {
     "name": "stdout",
     "output_type": "stream",
     "text": [
      "{'f1_sampled': 0.3846491228070176, 'f1_micro': 0.4623115577889447, 'f1_macro': 0.20858896413150058, 'f_05_sample': 0.3983898046398046, 'f_05_micro': 0.5348837209302325, 'f_05_macro': 0.24566869315037354, 'precision_sampled': 0.4232456140350877, 'precision_micro': 0.5974025974025974, 'precision_macro': 0.2968632174277336, 'recall_sampled': 0.3993421052631579, 'recall_micro': 0.3770491803278688, 'recall_macro': 0.17514022077011807, 'accuracy': 0.23026315789473684, 'coverage_error': np.float64(12.5), 'label_ranking_loss': np.float64(0.7804487179487178), 'lrap': np.float64(0.3005952380952381)}\n"
     ]
    },
    {
     "name": "stderr",
     "output_type": "stream",
     "text": [
      "Epoch 49: 100%|██████████| 76/76 [00:04<00:00, 18.42it/s]\n"
     ]
    },
    {
     "name": "stdout",
     "output_type": "stream",
     "text": [
      "Training loss: 0.008786085453864775\n",
      "{'f1_sampled': 0.3868421052631579, 'f1_micro': 0.4634760705289673, 'f1_macro': 0.20899532136465934, 'f_05_sample': 0.4013137812479918, 'f_05_micro': 0.5373831775700935, 'f_05_macro': 0.24627604309697734, 'precision_sampled': 0.4265350877192982, 'precision_micro': 0.6013071895424836, 'precision_macro': 0.2975896096795495, 'recall_sampled': 0.3993421052631579, 'recall_micro': 0.3770491803278688, 'recall_macro': 0.17514022077011807, 'accuracy': 0.23684210526315788, 'coverage_error': np.float64(12.5), 'label_ranking_loss': np.float64(0.7804487179487178), 'lrap': np.float64(0.3005952380952381)}\n"
     ]
    }
   ],
   "source": [
    "best_model_ta, best_val_weighted_f1_score_ta = run()"
   ]
  },
  {
   "cell_type": "code",
   "execution_count": 132,
   "id": "e146a70a",
   "metadata": {},
   "outputs": [],
   "source": [
    "def test(model, val_dataloader, criterion, is_final_test=False):\n",
    "    global device\n",
    "\n",
    "    val_loss = 0\n",
    "    true, pred = [], []\n",
    "\n",
    "    model.eval()\n",
    "\n",
    "    results = {}\n",
    "\n",
    "    for step, batch in enumerate(val_dataloader):\n",
    "        b_input_ids = batch['input_ids'].to(device)\n",
    "        b_attention_mask = batch['attention_mask'].to(device)\n",
    "        b_labels = batch['labels'].to(device)\n",
    "\n",
    "        with torch.no_grad():\n",
    "            logits = model(input_ids=b_input_ids, attention_mask=b_attention_mask)\n",
    "\n",
    "            loss = criterion(logits, b_labels)\n",
    "            val_loss += loss.item()\n",
    "\n",
    "            logits = torch.sigmoid(logits)\n",
    "            logits = np.round(logits.cpu().numpy())\n",
    "            labels = b_labels.cpu().numpy()\n",
    "\n",
    "            pred.extend(logits)\n",
    "            true.extend(labels)\n",
    "\n",
    "    # avg_val_loss = val_loss / len(val_dataloader)\n",
    "    # print('Val loss:', avg_val_loss)\n",
    "    # print('Val accuracy:', accuracy_score(true, pred))\n",
    "\n",
    "    # print('Val precision:', precision_score(true, pred, average='weighted'))\n",
    "    # print('Val recall:', recall_score(true, pred, average='weighted'))\n",
    "\n",
    "    # val_micro_f1_score = f1_score(true, pred, average='micro')\n",
    "    # print('Val micro f1 score:', val_micro_f1_score)\n",
    "\n",
    "    # val_macro_f1_score = f1_score(true, pred, average='macro')\n",
    "    # print('Val macro f1 score:', val_macro_f1_score)\n",
    "\n",
    "    val_weighted_f1_score = f1_score(true, pred, average='weighted')\n",
    "    # print('Val weighted f1 score:', val_weighted_f1_score)\n",
    "\n",
    "    results.update({\n",
    "        \"f1_sampled\": f1_score(true, pred, average='samples', zero_division=0),\n",
    "        \"f1_micro\": f1_score(true, pred, average='micro', zero_division=0),\n",
    "        \"f1_macro\": f1_score(true, pred, average='macro', zero_division=0),\n",
    "        \"f_05_sample\": fbeta_score(true, pred, average='samples', beta=0.5, zero_division=0),\n",
    "        \"f_05_micro\": fbeta_score(true, pred, average='micro', beta=0.5, zero_division=0),\n",
    "        \"f_05_macro\": fbeta_score(true, pred, average='macro', beta=0.5, zero_division=0),\n",
    "        \"precision_sampled\": precision_score(true, pred, average='samples', zero_division=0),\n",
    "        \"precision_micro\": precision_score(true, pred, average='micro', zero_division=0),\n",
    "        \"precision_macro\": precision_score(true, pred, average='macro', zero_division=0),\n",
    "        \"recall_sampled\": recall_score(true, pred, average='samples', zero_division=0),\n",
    "        \"recall_micro\": recall_score(true, pred, average='micro', zero_division=0),\n",
    "        \"recall_macro\": recall_score(true, pred, average='macro', zero_division=0),\n",
    "        \"accuracy\": accuracy_score(true, pred),\n",
    "        })\n",
    "\n",
    "    labels_float = labels.astype(float)\n",
    "    results.update({\n",
    "        \"coverage_error\": coverage_error(labels_float, logits),\n",
    "        \"label_ranking_loss\": label_ranking_loss(labels_float, logits),\n",
    "        \"lrap\": label_ranking_average_precision_score(labels_float, logits),\n",
    "    })\n",
    "\n",
    "    metrics_log.append(results.copy())\n",
    "\n",
    "    print(results)\n",
    "\n",
    "    return results\n"
   ]
  },
  {
   "cell_type": "code",
   "execution_count": 133,
   "id": "f5caffc2",
   "metadata": {},
   "outputs": [
    {
     "name": "stdout",
     "output_type": "stream",
     "text": [
      "{'f1_sampled': 0.4383771929824561, 'f1_micro': 0.51, 'f1_macro': 0.24845182064466328, 'f_05_sample': 0.4649216828493145, 'f_05_micro': 0.5815279361459521, 'f_05_macro': 0.29232726573292156, 'precision_sampled': 0.5010964912280701, 'precision_micro': 0.6415094339622641, 'precision_macro': 0.36269669483955197, 'recall_sampled': 0.43475877192982465, 'recall_micro': 0.42323651452282157, 'recall_macro': 0.2108965730174268, 'accuracy': 0.28289473684210525, 'coverage_error': np.float64(9.25), 'label_ranking_loss': np.float64(0.5625), 'lrap': np.float64(0.5089285714285715)}\n"
     ]
    }
   ],
   "source": [
    "criterion = nn.BCEWithLogitsLoss()\n",
    "results = test(best_model_ta, test_dataloader, criterion, is_final_test=True)"
   ]
  },
  {
   "cell_type": "code",
   "execution_count": 134,
   "id": "4138f077",
   "metadata": {},
   "outputs": [
    {
     "name": "stdout",
     "output_type": "stream",
     "text": [
      "f1_sampled: 0.4384\n",
      "f1_micro: 0.5100\n",
      "f1_macro: 0.2485\n",
      "f_05_sample: 0.4649\n",
      "f_05_micro: 0.5815\n",
      "f_05_macro: 0.2923\n",
      "precision_sampled: 0.5011\n",
      "precision_micro: 0.6415\n",
      "precision_macro: 0.3627\n",
      "recall_sampled: 0.4348\n",
      "recall_micro: 0.4232\n",
      "recall_macro: 0.2109\n",
      "accuracy: 0.2829\n",
      "coverage_error: 9.2500\n",
      "label_ranking_loss: 0.5625\n",
      "lrap: 0.5089\n"
     ]
    }
   ],
   "source": [
    "for k, v in results.items(): \n",
    "    print(f\"{k}: {v:.4f}\")"
   ]
  },
  {
   "cell_type": "markdown",
   "id": "5be5419c",
   "metadata": {},
   "source": [
    "# Metrics log"
   ]
  },
  {
   "cell_type": "code",
   "execution_count": 135,
   "id": "f260906d",
   "metadata": {},
   "outputs": [],
   "source": [
    "metrics_data = {\n",
    "    'f1_sampled': [],\n",
    "    'f1_micro': [],\n",
    "    'f1_macro': [],\n",
    "    'f_05_sample': [],\n",
    "    'f_05_micro': [],\n",
    "    'f_05_macro': [],\n",
    "    'precision_sampled': [],\n",
    "    'precision_micro': [],\n",
    "    'precision_macro': [],\n",
    "    'recall_sampled': [],\n",
    "    'recall_micro': [],\n",
    "    'recall_macro': [],\n",
    "    'accuracy': [],\n",
    "    'coverage_error': [],\n",
    "    'label_ranking_loss': [],\n",
    "    'lrap': []\n",
    "}\n",
    "\n",
    "# 遍歷你的日誌數據，提取數值\n",
    "for log_entry in metrics_log:\n",
    "    for metric_name, value in log_entry.items():\n",
    "        metrics_data[metric_name].append(float(value)) # 確保轉換為 float"
   ]
  },
  {
   "cell_type": "code",
   "execution_count": 136,
   "id": "c8d0eb89",
   "metadata": {},
   "outputs": [
    {
     "name": "stdout",
     "output_type": "stream",
     "text": [
      "{'f1_sampled': [0.26651144907723856, 0.12039473684210525, 0.15592105263157893, 0.26265664160401003, 0.27910401002506263, 0.3081766917293233, 0.31146616541353384, 0.3478070175438596, 0.3507832080200501, 0.3734962406015037, 0.38270676691729316, 0.3429824561403509, 0.3539473684210526, 0.3834586466165413, 0.39442355889724307, 0.3854323308270676, 0.3920112781954887, 0.36547619047619045, 0.3731516290726817, 0.34407894736842104, 0.34157268170426064, 0.3580200501253133, 0.3624060150375939, 0.33793859649122804, 0.3368421052631579, 0.3396929824561403, 0.33201754385964916, 0.3517543859649123, 0.34188596491228074, 0.3719298245614035, 0.3660087719298245, 0.38947368421052636, 0.39166666666666666, 0.3852130325814536, 0.38302005012531326, 0.3932017543859649, 0.3899122807017544, 0.39385964912280697, 0.3932017543859649, 0.40635964912280703, 0.4103070175438596, 0.3890350877192982, 0.39561403508771925, 0.381359649122807, 0.38355263157894737, 0.3846491228070176, 0.3846491228070176, 0.38574561403508767, 0.381359649122807, 0.3824561403508772, 0.3857456140350878, 0.38245614035087716, 0.3846491228070175, 0.3791666666666666, 0.3791666666666666, 0.38245614035087716, 0.38245614035087716, 0.381359649122807, 0.381359649122807, 0.38355263157894737, 0.3846491228070176, 0.3879385964912281, 0.3879385964912281, 0.3857456140350877, 0.3857456140350877, 0.37807017543859645, 0.38574561403508767, 0.3956140350877193, 0.3956140350877193, 0.39671052631578946, 0.4021929824561403, 0.40657894736842104, 0.39999999999999997, 0.4076754385964912, 0.40986842105263155, 0.38574561403508767, 0.3879385964912281, 0.3901315789473684, 0.3846491228070176, 0.3890350877192982, 0.3868421052631579, 0.3857456140350877, 0.3901315789473684, 0.369298245614035, 0.3660087719298245, 0.381359649122807, 0.381359649122807, 0.387938596491228, 0.387938596491228, 0.39232456140350874, 0.39232456140350874, 0.38903508771929823, 0.38903508771929823, 0.3846491228070176, 0.3846491228070176, 0.3868421052631579, 0.3868421052631579, 0.3846491228070176, 0.3846491228070176, 0.3868421052631579, 0.4383771929824561], 'f1_micro': [0.2832618025751073, 0.17266187050359713, 0.21379310344827587, 0.3560830860534125, 0.3710144927536232, 0.39215686274509803, 0.38904109589041097, 0.4368421052631579, 0.4368421052631579, 0.43309002433090027, 0.44552058111380144, 0.41711229946524064, 0.42744063324538256, 0.46153846153846156, 0.47, 0.458628841607565, 0.4597156398104265, 0.4444444444444444, 0.44768856447688565, 0.42487046632124353, 0.4213197969543147, 0.4496124031007752, 0.4536082474226804, 0.42934782608695654, 0.42702702702702705, 0.42276422764227645, 0.41621621621621624, 0.4289544235924933, 0.41935483870967744, 0.44675324675324674, 0.44386422976501305, 0.45524296675191817, 0.45758354755784064, 0.4494949494949495, 0.44556962025316454, 0.4744897959183674, 0.4730077120822622, 0.47474747474747475, 0.473551637279597, 0.47665847665847666, 0.48292682926829267, 0.46851385390428213, 0.4723618090452261, 0.4623115577889447, 0.46464646464646464, 0.46511627906976744, 0.46632124352331605, 0.46938775510204084, 0.4642857142857143, 0.45685279187817257, 0.4631043256997455, 0.4639175257731959, 0.46786632390745503, 0.46153846153846156, 0.46153846153846156, 0.46511627906976744, 0.46511627906976744, 0.46596858638743455, 0.46475195822454307, 0.4607594936708861, 0.4580152671755725, 0.47643979057591623, 0.4789473684210526, 0.4666666666666667, 0.4666666666666667, 0.4635416666666667, 0.47150259067357514, 0.4717948717948718, 0.47058823529411764, 0.46733668341708545, 0.4759493670886076, 0.48081841432225064, 0.4781491002570694, 0.47146401985111663, 0.47642679900744417, 0.46115288220551376, 0.46384039900249374, 0.46, 0.455, 0.46115288220551376, 0.46115288220551376, 0.4623115577889447, 0.46616541353383456, 0.4472361809045226, 0.4444444444444444, 0.4577114427860697, 0.456575682382134, 0.4603960396039604, 0.4603960396039604, 0.46534653465346537, 0.46534653465346537, 0.46384039900249374, 0.46384039900249374, 0.4623115577889447, 0.4623115577889447, 0.46582278481012657, 0.46582278481012657, 0.4623115577889447, 0.4623115577889447, 0.4634760705289673, 0.51], 'f1_macro': [0.1372033023004777, 0.04124549374425673, 0.046771292103467525, 0.10904045828857858, 0.11008080188866189, 0.15990407346928898, 0.15806806794475886, 0.18924917297300764, 0.18854916157718823, 0.18410925732950637, 0.19259160606810904, 0.1823922384202948, 0.18638186719304364, 0.20113760828622115, 0.21168935017318763, 0.20519428401238096, 0.20406676227109663, 0.1966169134976267, 0.1978988829921457, 0.18862946587085538, 0.1874555206698064, 0.19602020255604397, 0.1974873840232254, 0.17895878447072608, 0.17822377676729867, 0.18663548311420255, 0.18283205979858413, 0.18926823735943565, 0.18554251096089822, 0.1992106941834219, 0.19886873695952464, 0.21017232979419684, 0.2111963770389191, 0.21486850635664814, 0.2133462581130884, 0.21841845781446764, 0.2170986438163452, 0.2160445910612718, 0.2146413927192867, 0.21673618527428087, 0.22371327547299388, 0.2092965909136771, 0.21421377517868745, 0.21025510799488425, 0.21119477025699004, 0.2094959621275411, 0.21004541267699164, 0.21223259694900043, 0.21046933759193526, 0.20918604048063405, 0.21242690058479535, 0.20936210661465582, 0.21101803214276177, 0.20660699432169174, 0.20660699432169174, 0.20943314173270525, 0.20943314173270525, 0.21010542428353457, 0.2095247041906194, 0.20881397735207297, 0.2077392747986865, 0.21419051649373583, 0.21523457047896627, 0.21263234396694314, 0.21263234396694314, 0.21177034698021652, 0.21526618976177359, 0.21691281178133823, 0.21581391068243713, 0.21407887921045818, 0.21837827840867355, 0.21873349562790553, 0.21663788592360023, 0.21652088274537254, 0.21870034421054832, 0.20965485470480724, 0.21050519484086166, 0.2082721827576736, 0.20585132319395688, 0.2094792355952043, 0.2098728222421602, 0.2096626143648488, 0.21381983280778152, 0.20269034789620194, 0.20172509693095098, 0.20677994989462947, 0.20630534144659912, 0.2100561246027875, 0.2100561246027875, 0.20974435785596787, 0.20974435785596787, 0.20863102898297434, 0.20899480023282155, 0.208137035108143, 0.208137035108143, 0.20940900034976687, 0.20940900034976687, 0.20858896413150058, 0.20858896413150058, 0.20899532136465934, 0.24845182064466328], 'f_05_sample': [0.21686264486099258, 0.13463345864661655, 0.1749295112781955, 0.2755260547201337, 0.2934354114452799, 0.3341361215538847, 0.33742559523809523, 0.36900964532543484, 0.3716203387256019, 0.3890949145883356, 0.3968368071986493, 0.3687604427736007, 0.3789943609022557, 0.4076447127433969, 0.42153360163228587, 0.39402793843583317, 0.4024343711843712, 0.3818098933230512, 0.38692685238737873, 0.3624907621618148, 0.3577111850138166, 0.37418666859456334, 0.378259350298824, 0.36109604941841783, 0.35890306696227753, 0.3628843743975323, 0.35518082064134693, 0.370953425229741, 0.3625188773215089, 0.39048141186299085, 0.3848423141186299, 0.410531537176274, 0.4134555137844612, 0.4046163083992031, 0.40351981717113294, 0.41768401554585766, 0.4143945418616471, 0.4157378622839149, 0.41402904478562375, 0.42348057644110276, 0.4287130084827453, 0.40640664160401, 0.4129855889724311, 0.39651010539168435, 0.39943408199987146, 0.40379594820384296, 0.40379594820384296, 0.40128968253968256, 0.3972692147034252, 0.40047835935993836, 0.4054125698862541, 0.40235805860805857, 0.4034545498361288, 0.39760659661975456, 0.39760659661975456, 0.40235805860805857, 0.40235805860805857, 0.400582787095945, 0.400582787095945, 0.40126156737998847, 0.40340233596812547, 0.4093306182121972, 0.4093306182121972, 0.4060130293682926, 0.4060130293682926, 0.3980524227234754, 0.40640664160401, 0.4148652882205514, 0.4148652882205514, 0.4134032999164578, 0.41961675020885547, 0.42546470342522974, 0.4188857560568087, 0.42363721804511273, 0.42473370927318294, 0.4020447754000385, 0.40314126662810873, 0.40460325493220234, 0.39982367778420413, 0.4046313700918964, 0.40207289055973267, 0.3991207987918514, 0.4046032549322023, 0.3837418064391749, 0.3822798181350813, 0.39434122164385316, 0.39434122164385316, 0.4042096426964848, 0.4042096426964848, 0.40640262515262515, 0.40640262515262515, 0.40387226078015553, 0.4020447754000385, 0.3983898046398046, 0.3983898046398046, 0.4013137812479918, 0.4013137812479918, 0.3983898046398046, 0.3983898046398046, 0.4013137812479918, 0.4649216828493145], 'f_05_micro': [0.22029372496662217, 0.3157894736842105, 0.3621495327102804, 0.487012987012987, 0.49382716049382713, 0.5028735632183908, 0.4876373626373626, 0.5266497461928934, 0.5266497461928934, 0.48793859649122806, 0.5, 0.5104712041884817, 0.5165816326530612, 0.5284090909090909, 0.5414746543778802, 0.5052083333333334, 0.5073221757322176, 0.5067567567567568, 0.5043859649122807, 0.5049261083743842, 0.49170616113744076, 0.5330882352941176, 0.5365853658536586, 0.5337837837837838, 0.5280748663101604, 0.5241935483870968, 0.5147058823529411, 0.5263157894736842, 0.5158730158730159, 0.5321782178217822, 0.53125, 0.5348557692307693, 0.5400485436893204, 0.5223004694835681, 0.5188679245283019, 0.55622009569378, 0.558252427184466, 0.5516431924882629, 0.5490654205607477, 0.5412946428571429, 0.5451541850220264, 0.5432242990654206, 0.5465116279069767, 0.5348837209302325, 0.539906103286385, 0.5514705882352942, 0.5541871921182266, 0.5502392344497608, 0.5442583732057417, 0.533175355450237, 0.5416666666666666, 0.5487804878048781, 0.5521844660194175, 0.5434782608695652, 0.5434782608695652, 0.5514705882352942, 0.5514705882352942, 0.5590452261306532, 0.55625, 0.5365566037735849, 0.5357142857142857, 0.571608040201005, 0.5774111675126904, 0.5495169082125604, 0.5495169082125604, 0.5534825870646766, 0.5603448275862069, 0.5555555555555556, 0.5528846153846154, 0.5406976744186046, 0.5542452830188679, 0.5649038461538461, 0.5643203883495146, 0.5397727272727273, 0.5454545454545454, 0.5324074074074074, 0.533256880733945, 0.5299539170506913, 0.5241935483870968, 0.5324074074074074, 0.5324074074074074, 0.5348837209302325, 0.5381944444444444, 0.5174418604651163, 0.5164319248826291, 0.5251141552511416, 0.5227272727272727, 0.5260180995475113, 0.5260180995475113, 0.5316742081447964, 0.5316742081447964, 0.533256880733945, 0.533256880733945, 0.5348837209302325, 0.5348837209302325, 0.5424528301886793, 0.5424528301886793, 0.5348837209302325, 0.5348837209302325, 0.5373831775700935, 0.5815279361459521], 'f_05_macro': [0.10794893007977609, 0.05154440154440154, 0.053126916002452486, 0.12142515051997808, 0.11994606747166474, 0.19485103621843466, 0.18708751898765175, 0.2199418158457244, 0.21772660568261934, 0.207042261873923, 0.2154130422614696, 0.21497253573061417, 0.21750250676048774, 0.23645838742577535, 0.2503452401626704, 0.2388611113169741, 0.23607245840095853, 0.2361773252686512, 0.2339911889488957, 0.23257348682481313, 0.22752906129018283, 0.23462359563365007, 0.23587937220588237, 0.2336443741727255, 0.23239621243048442, 0.2344277684686173, 0.23006969716800058, 0.23457081407088762, 0.23204649172954456, 0.23558732943513436, 0.23815591586472062, 0.24454519425546797, 0.24712812127869352, 0.2460824682074493, 0.24507699845197956, 0.254401520250907, 0.2543141268782158, 0.25145887874103356, 0.24803568484119354, 0.24847382960422218, 0.2547263927223776, 0.24776775685892266, 0.25269077869923773, 0.24644052595695884, 0.24860778787524795, 0.24868642801085583, 0.2503881211955746, 0.25023826126027215, 0.24816427286169065, 0.2503281416092804, 0.2544998452141075, 0.24891688951363872, 0.25001605076905, 0.24506715207523833, 0.24506715207523833, 0.2516023829374503, 0.2516023829374503, 0.254757683436034, 0.2532695881979387, 0.24684400724183725, 0.24620385122243857, 0.2583955499069143, 0.2627525029092098, 0.2487895593310952, 0.2487895593310952, 0.25659059429810444, 0.2590087490600092, 0.25730140088064896, 0.2541958108185371, 0.2504594175022553, 0.25790827561700114, 0.25721559391019616, 0.2555460059785829, 0.2522696159188397, 0.2544443120614181, 0.24726803557765012, 0.2467099998633644, 0.24515087914838643, 0.2413221445894287, 0.24638616713228248, 0.2464344623124235, 0.2454205843860777, 0.2492976141251764, 0.2380892326707401, 0.2378985967091723, 0.24185691718547883, 0.24061197476406584, 0.24471486435935463, 0.24471486435935463, 0.24314276634454995, 0.24314276634454995, 0.2440452049052512, 0.2440672256869175, 0.24475108472769413, 0.24475108472769413, 0.24690044146313497, 0.24690044146313497, 0.24566869315037354, 0.24566869315037354, 0.24627604309697734, 0.29232726573292156], 'precision_sampled': [0.19532424812030072, 0.1513157894736842, 0.19736842105263158, 0.29276315789473684, 0.3125, 0.3684210526315789, 0.3717105263157895, 0.3980263157894737, 0.40131578947368424, 0.41118421052631576, 0.41776315789473684, 0.40131578947368424, 0.41118421052631576, 0.44188596491228066, 0.45833333333333326, 0.4144736842105263, 0.4243421052631579, 0.40789473684210525, 0.41118421052631576, 0.3892543859649123, 0.3826754385964913, 0.40021929824561403, 0.40350877192982454, 0.39364035087719296, 0.39035087719298245, 0.393640350877193, 0.38596491228070173, 0.3980263157894737, 0.39035087719298245, 0.4166666666666667, 0.41118421052631576, 0.4396929824561404, 0.4429824561403509, 0.4353070175438597, 0.4353070175438597, 0.45285087719298245, 0.449561403508772, 0.4495614035087719, 0.4462719298245614, 0.45175438596491224, 0.4594298245614036, 0.4342105263157895, 0.4407894736842105, 0.4232456140350877, 0.4265350877192982, 0.4342105263157895, 0.4342105263157895, 0.4276315789473684, 0.4243421052631579, 0.4298245614035087, 0.4364035087719298, 0.4331140350877193, 0.4331140350877193, 0.4265350877192982, 0.4265350877192982, 0.4331140350877193, 0.4331140350877193, 0.4298245614035087, 0.4298245614035087, 0.4298245614035087, 0.4331140350877193, 0.4407894736842105, 0.4407894736842105, 0.4364035087719298, 0.4364035087719298, 0.4276315789473684, 0.4375, 0.4440789473684211, 0.4440789473684211, 0.4407894736842105, 0.4473684210526316, 0.45394736842105265, 0.4473684210526316, 0.4506578947368421, 0.4506578947368421, 0.4298245614035087, 0.4298245614035087, 0.4298245614035087, 0.425438596491228, 0.4309210526315789, 0.4276315789473684, 0.4232456140350877, 0.4298245614035087, 0.40899122807017535, 0.40899122807017535, 0.41885964912280693, 0.41885964912280693, 0.4320175438596491, 0.4320175438596491, 0.4320175438596491, 0.4320175438596491, 0.4298245614035087, 0.4265350877192982, 0.4232456140350877, 0.4232456140350877, 0.4265350877192982, 0.4265350877192982, 0.4232456140350877, 0.4232456140350877, 0.4265350877192982, 0.5010964912280701], 'precision_micro': [0.19186046511627908, 0.7058823529411765, 0.6739130434782609, 0.6451612903225806, 0.6336633663366337, 0.6194690265486725, 0.5867768595041323, 0.6102941176470589, 0.6102941176470589, 0.5329341317365269, 0.5443786982248521, 0.6, 0.6, 0.5849056603773585, 0.6025641025641025, 0.5418994413407822, 0.5449438202247191, 0.5590062111801242, 0.5508982035928144, 0.5774647887323944, 0.5533333333333333, 0.6083916083916084, 0.6111111111111112, 0.6370967741935484, 0.626984126984127, 0.624, 0.6111111111111112, 0.6201550387596899, 0.609375, 0.6099290780141844, 0.6115107913669064, 0.6054421768707483, 0.6137931034482759, 0.5855263157894737, 0.5827814569536424, 0.6283783783783784, 0.6344827586206897, 0.618421052631579, 0.6143790849673203, 0.5950920245398773, 0.5963855421686747, 0.6078431372549019, 0.6103896103896104, 0.5974025974025974, 0.6052631578947368, 0.6293706293706294, 0.6338028169014085, 0.6216216216216216, 0.6148648648648649, 0.6, 0.610738255033557, 0.625, 0.6275862068965518, 0.6164383561643836, 0.6164383561643836, 0.6293706293706294, 0.6293706293706294, 0.644927536231884, 0.6402877697841727, 0.6026490066225165, 0.6040268456375839, 0.6594202898550725, 0.6691176470588235, 0.6232876712328768, 0.6232876712328768, 0.6357142857142857, 0.6408450704225352, 0.6301369863013698, 0.6258503401360545, 0.6038961038961039, 0.6225165562913907, 0.6394557823129252, 0.6413793103448275, 0.5974842767295597, 0.6037735849056604, 0.5935483870967742, 0.5923566878980892, 0.5897435897435898, 0.5833333333333334, 0.5935483870967742, 0.5935483870967742, 0.5974025974025974, 0.6, 0.577922077922078, 0.5789473684210527, 0.5822784810126582, 0.5786163522012578, 0.58125, 0.58125, 0.5875, 0.5875, 0.5923566878980892, 0.5923566878980892, 0.5974025974025974, 0.5974025974025974, 0.609271523178808, 0.609271523178808, 0.5974025974025974, 0.5974025974025974, 0.6013071895424836, 0.6415094339622641], 'precision_macro': [0.09471658478649723, 0.12121212121212122, 0.11904761904761904, 0.1406272299129442, 0.13749067024929093, 0.2559002528214351, 0.23772589844018416, 0.2567755239747721, 0.2532760472610097, 0.23121838478981335, 0.23820788999360426, 0.2539971617206548, 0.25574277956796754, 0.3329838856813273, 0.3448425897641863, 0.32655706727135303, 0.32159585145533626, 0.2888142816935387, 0.28163030178812104, 0.2901708410636982, 0.27974735313579885, 0.2856575963718821, 0.28662522480256475, 0.35447282980177713, 0.35315662334585574, 0.2985036892931629, 0.2941615402141718, 0.2916559446745205, 0.2913288453542691, 0.27589820543602056, 0.28209264280692853, 0.2790484419794765, 0.28374850382239547, 0.27695196996612464, 0.2763362064193266, 0.3030137965482793, 0.30410460248500115, 0.3008989542286635, 0.29481074648951233, 0.28371810262566566, 0.2872259319627741, 0.2990414347557205, 0.30142238713667285, 0.28771525588163954, 0.2917452171484429, 0.29605870320156036, 0.29995480709766426, 0.29326361469218615, 0.2906181120466835, 0.30924426450742243, 0.314871970135128, 0.2964809661238233, 0.29707620421906134, 0.29214335629429966, 0.29214335629429966, 0.33961930926216644, 0.33961930926216644, 0.345205389848247, 0.34245813710099426, 0.3285044320758606, 0.3283068783068783, 0.32191717957024085, 0.36001241766547887, 0.2893469720000332, 0.2893469720000332, 0.318146139574711, 0.3194989534275249, 0.311300935089755, 0.30492338406934677, 0.30007070541967573, 0.3120361781076067, 0.30879845306822995, 0.3076402974983097, 0.3015572268345247, 0.3037876167416119, 0.2995390976007191, 0.2976451582067797, 0.2963454700061843, 0.2904490926380327, 0.29672083355888773, 0.2964032028409114, 0.2942532669916962, 0.29742787016629935, 0.278968253968254, 0.2796485260770975, 0.2905204114881534, 0.28816562341907964, 0.29258782691962415, 0.29258782691962415, 0.2896240060836334, 0.2896240060836334, 0.29331709469297296, 0.2930024184272097, 0.2954951298701299, 0.2954951298701299, 0.2983410499400488, 0.2983410499400488, 0.2968632174277336, 0.2968632174277336, 0.2975896096795495, 0.36269669483955197], 'recall_sampled': [0.5342105263157894, 0.10745614035087718, 0.1387061403508772, 0.2609649122807018, 0.27741228070175444, 0.293859649122807, 0.29714912280701755, 0.34484649122807015, 0.3470394736842105, 0.3793859649122807, 0.39144736842105265, 0.33114035087719296, 0.3442982456140351, 0.3807017543859649, 0.38728070175438595, 0.41250000000000003, 0.41578947368421054, 0.37521929824561406, 0.38837719298245615, 0.34758771929824556, 0.3489035087719298, 0.368640350877193, 0.3730263157894737, 0.33497807017543857, 0.33497807017543857, 0.33442982456140347, 0.32785087719298245, 0.3508771929824561, 0.33771929824561403, 0.3706140350877193, 0.3640350877192982, 0.38596491228070173, 0.38596491228070173, 0.3881578947368421, 0.3848684210526316, 0.39057017543859657, 0.387280701754386, 0.3971491228070176, 0.3971491228070176, 0.41359649122807024, 0.418530701754386, 0.3949561403508772, 0.4015350877192983, 0.3949561403508772, 0.3949561403508772, 0.39057017543859657, 0.39057017543859657, 0.3949561403508772, 0.3916666666666667, 0.39057017543859657, 0.3922149122807018, 0.38837719298245615, 0.3916666666666667, 0.38508771929824565, 0.38508771929824565, 0.38837719298245615, 0.38837719298245615, 0.3861842105263158, 0.3861842105263158, 0.3916666666666667, 0.39057017543859657, 0.38837719298245615, 0.38837719298245615, 0.38837719298245615, 0.38837719298245615, 0.3796052631578948, 0.38837719298245615, 0.3993421052631579, 0.3993421052631579, 0.40592105263157896, 0.40921052631578947, 0.40921052631578947, 0.40263157894736845, 0.41907894736842105, 0.4223684210526316, 0.3993421052631579, 0.40263157894736845, 0.40263157894736845, 0.3960526315789474, 0.3993421052631579, 0.3960526315789474, 0.3993421052631579, 0.40263157894736845, 0.3828947368421053, 0.3763157894736842, 0.3993421052631579, 0.3993421052631579, 0.40263157894736845, 0.40263157894736845, 0.40921052631578947, 0.40921052631578947, 0.40263157894736845, 0.40592105263157896, 0.3993421052631579, 0.3993421052631579, 0.3993421052631579, 0.3993421052631579, 0.3993421052631579, 0.3993421052631579, 0.3993421052631579, 0.43475877192982465], 'recall_micro': [0.5409836065573771, 0.09836065573770492, 0.12704918032786885, 0.2459016393442623, 0.26229508196721313, 0.28688524590163933, 0.29098360655737704, 0.3401639344262295, 0.3401639344262295, 0.36475409836065575, 0.3770491803278688, 0.319672131147541, 0.3319672131147541, 0.38114754098360654, 0.38524590163934425, 0.3975409836065574, 0.3975409836065574, 0.36885245901639346, 0.3770491803278688, 0.3360655737704918, 0.3401639344262295, 0.35655737704918034, 0.36065573770491804, 0.3237704918032787, 0.3237704918032787, 0.319672131147541, 0.3155737704918033, 0.32786885245901637, 0.319672131147541, 0.3524590163934426, 0.3483606557377049, 0.36475409836065575, 0.36475409836065575, 0.36475409836065575, 0.36065573770491804, 0.38114754098360654, 0.3770491803278688, 0.38524590163934425, 0.38524590163934425, 0.3975409836065574, 0.4057377049180328, 0.38114754098360654, 0.38524590163934425, 0.3770491803278688, 0.3770491803278688, 0.36885245901639346, 0.36885245901639346, 0.3770491803278688, 0.3729508196721312, 0.36885245901639346, 0.3729508196721312, 0.36885245901639346, 0.3729508196721312, 0.36885245901639346, 0.36885245901639346, 0.36885245901639346, 0.36885245901639346, 0.36475409836065575, 0.36475409836065575, 0.3729508196721312, 0.36885245901639346, 0.3729508196721312, 0.3729508196721312, 0.3729508196721312, 0.3729508196721312, 0.36475409836065575, 0.3729508196721312, 0.3770491803278688, 0.3770491803278688, 0.38114754098360654, 0.38524590163934425, 0.38524590163934425, 0.38114754098360654, 0.38934426229508196, 0.39344262295081966, 0.3770491803278688, 0.38114754098360654, 0.3770491803278688, 0.3729508196721312, 0.3770491803278688, 0.3770491803278688, 0.3770491803278688, 0.38114754098360654, 0.36475409836065575, 0.36065573770491804, 0.3770491803278688, 0.3770491803278688, 0.38114754098360654, 0.38114754098360654, 0.38524590163934425, 0.38524590163934425, 0.38114754098360654, 0.38114754098360654, 0.3770491803278688, 0.3770491803278688, 0.3770491803278688, 0.3770491803278688, 0.3770491803278688, 0.3770491803278688, 0.3770491803278688, 0.42323651452282157], 'recall_macro': [0.2723533525080612, 0.032550099613266145, 0.041984061877417087, 0.0991023819289816, 0.10449321750849642, 0.134781165643914, 0.13733218605207728, 0.1617827052652598, 0.16266713922752393, 0.16568075403480392, 0.1730149377082733, 0.1528445281915582, 0.15950819994956955, 0.178567113848736, 0.18474574061801086, 0.18198154183882262, 0.18177645570264542, 0.16614690544921354, 0.16993184333741226, 0.153640137999605, 0.15519293303066087, 0.16353012285411653, 0.16508291788517243, 0.1427424373825794, 0.1427424373825794, 0.14741656294494263, 0.14486554253677936, 0.15141542287994753, 0.14763048499174877, 0.16429242560884877, 0.16206028275170592, 0.1749298306821432, 0.1749298306821432, 0.18146219856314943, 0.17923005570600656, 0.18286495750648615, 0.18031393709832289, 0.1828042687519031, 0.1828042687519031, 0.18546620309085604, 0.1919854774672733, 0.175841338652327, 0.179809592620581, 0.1767040025584692, 0.1767040025584692, 0.17359841249635738, 0.17359841249635738, 0.1767040025584692, 0.17515120752741328, 0.17359841249635738, 0.17614943290452062, 0.17291906467027043, 0.17515120752741328, 0.17118295355915933, 0.17118295355915933, 0.17359841249635738, 0.17359841249635738, 0.1713662696392145, 0.1713662696392145, 0.17515120752741328, 0.17359841249635738, 0.17476135303866486, 0.17476135303866486, 0.1762665528197267, 0.1762665528197267, 0.17112291927935402, 0.17558720499363975, 0.17828117051088113, 0.17828117051088113, 0.17962887940575983, 0.18186102226290268, 0.18186102226290268, 0.17939796807571057, 0.18343964248783065, 0.1856717853449735, 0.1760504799262543, 0.17828262278339715, 0.17514022077011807, 0.1735874257390622, 0.17537113210016736, 0.1760504799262543, 0.17602465473238224, 0.1799929087006362, 0.16932822616095367, 0.16777543112989776, 0.17514022077011807, 0.17514022077011807, 0.17842912691228507, 0.17842912691228507, 0.17892515865831685, 0.17892515865831685, 0.17669301580117397, 0.17737236362726091, 0.17514022077011807, 0.17514022077011807, 0.17514022077011807, 0.17514022077011807, 0.17514022077011807, 0.17514022077011807, 0.17514022077011807, 0.2108965730174268], 'accuracy': [0.0, 0.13157894736842105, 0.14473684210526316, 0.19078947368421054, 0.19078947368421054, 0.18421052631578946, 0.18421052631578946, 0.19078947368421054, 0.20394736842105263, 0.21052631578947367, 0.21710526315789475, 0.20394736842105263, 0.21052631578947367, 0.21710526315789475, 0.2236842105263158, 0.19078947368421054, 0.19736842105263158, 0.19736842105263158, 0.19736842105263158, 0.19736842105263158, 0.19078947368421054, 0.19736842105263158, 0.20394736842105263, 0.21052631578947367, 0.21052631578947367, 0.21052631578947367, 0.20394736842105263, 0.2236842105263158, 0.2236842105263158, 0.24342105263157895, 0.23684210526315788, 0.2565789473684211, 0.2631578947368421, 0.24342105263157895, 0.23684210526315788, 0.23684210526315788, 0.23684210526315788, 0.23026315789473684, 0.23684210526315788, 0.24342105263157895, 0.24342105263157895, 0.24342105263157895, 0.25, 0.21710526315789475, 0.2236842105263158, 0.23026315789473684, 0.23684210526315788, 0.23684210526315788, 0.2236842105263158, 0.23026315789473684, 0.23026315789473684, 0.2236842105263158, 0.23026315789473684, 0.23684210526315788, 0.23684210526315788, 0.2236842105263158, 0.2236842105263158, 0.23684210526315788, 0.23684210526315788, 0.23026315789473684, 0.23684210526315788, 0.25, 0.25, 0.24342105263157895, 0.24342105263157895, 0.23684210526315788, 0.23684210526315788, 0.24342105263157895, 0.24342105263157895, 0.23684210526315788, 0.25, 0.2631578947368421, 0.2565789473684211, 0.23684210526315788, 0.24342105263157895, 0.21052631578947367, 0.21710526315789475, 0.23026315789473684, 0.23026315789473684, 0.2236842105263158, 0.23026315789473684, 0.23684210526315788, 0.23684210526315788, 0.21052631578947367, 0.21052631578947367, 0.21710526315789475, 0.21710526315789475, 0.21052631578947367, 0.21052631578947367, 0.2236842105263158, 0.2236842105263158, 0.2236842105263158, 0.2236842105263158, 0.23026315789473684, 0.23026315789473684, 0.23684210526315788, 0.23684210526315788, 0.23026315789473684, 0.23026315789473684, 0.23684210526315788, 0.28289473684210525], 'coverage_error': [10.75, 14.0, 14.0, 12.375, 12.5, 12.5, 12.5, 11.0, 11.0, 12.5, 12.5, 14.0, 14.0, 11.0, 11.0, 11.0, 11.0, 12.5, 12.5, 12.5, 12.5, 11.0, 11.0, 12.5, 12.5, 12.5, 12.5, 11.0, 14.0, 11.0, 11.0, 11.0, 11.0, 11.0, 11.0, 11.0, 11.0, 11.0, 11.0, 11.0, 11.0, 11.0, 11.0, 11.0, 11.0, 11.0, 11.0, 11.0, 11.0, 11.0, 11.0, 11.0, 11.0, 11.0, 11.0, 11.0, 11.0, 11.0, 11.0, 11.0, 11.0, 11.0, 11.0, 11.0, 11.0, 12.5, 11.0, 11.0, 11.0, 11.0, 11.0, 11.0, 11.0, 11.0, 11.0, 11.0, 11.0, 11.0, 11.0, 12.5, 12.5, 11.0, 11.0, 12.5, 12.5, 12.5, 12.5, 12.5, 12.5, 11.0, 11.0, 12.5, 11.0, 12.5, 12.5, 12.5, 12.5, 12.5, 12.5, 12.5, 9.25], 'label_ranking_loss': [0.5708187645687646, 1.0, 1.0, 0.8125, 0.8221153846153846, 0.780448717948718, 0.780448717948718, 0.6025641025641025, 0.6025641025641025, 0.7179487179487178, 0.7179487179487178, 0.8333333333333333, 0.8333333333333333, 0.6025641025641025, 0.6025641025641025, 0.6077724358974359, 0.6077724358974359, 0.7804487179487178, 0.7804487179487178, 0.7804487179487178, 0.7804487179487178, 0.6650641025641025, 0.6650641025641025, 0.7804487179487178, 0.7804487179487178, 0.7179487179487178, 0.7179487179487178, 0.6650641025641025, 0.8958333333333333, 0.6025641025641025, 0.6025641025641025, 0.6025641025641025, 0.6025641025641025, 0.6650641025641025, 0.6650641025641025, 0.6650641025641025, 0.6650641025641025, 0.6650641025641025, 0.6650641025641025, 0.6650641025641025, 0.6650641025641025, 0.6650641025641025, 0.6650641025641025, 0.6650641025641025, 0.6650641025641025, 0.6650641025641025, 0.6650641025641025, 0.6650641025641025, 0.6650641025641025, 0.6650641025641025, 0.6650641025641025, 0.6650641025641025, 0.6650641025641025, 0.6650641025641025, 0.6650641025641025, 0.6650641025641025, 0.6650641025641025, 0.6650641025641025, 0.6650641025641025, 0.6650641025641025, 0.6650641025641025, 0.6025641025641025, 0.6025641025641025, 0.6025641025641025, 0.6025641025641025, 0.7179487179487178, 0.6025641025641025, 0.6025641025641025, 0.6025641025641025, 0.6025641025641025, 0.6025641025641025, 0.6025641025641025, 0.6025641025641025, 0.6025641025641025, 0.6025641025641025, 0.6025641025641025, 0.6025641025641025, 0.6650641025641025, 0.6650641025641025, 0.7179487179487178, 0.7179487179487178, 0.6650641025641025, 0.6650641025641025, 0.7804487179487178, 0.7804487179487178, 0.7804487179487178, 0.7804487179487178, 0.7804487179487178, 0.7804487179487178, 0.6650641025641025, 0.6650641025641025, 0.7804487179487178, 0.6650641025641025, 0.7804487179487178, 0.7804487179487178, 0.7804487179487178, 0.7804487179487178, 0.7804487179487178, 0.7804487179487178, 0.7804487179487178, 0.5625], 'lrap': [0.25431547619047623, 0.1607142857142857, 0.1607142857142857, 0.3303571428571428, 0.26785714285714285, 0.300595238095238, 0.300595238095238, 0.4077380952380952, 0.4077380952380952, 0.3541666666666667, 0.3541666666666667, 0.3005952380952381, 0.3005952380952381, 0.4077380952380952, 0.4077380952380952, 0.3764880952380952, 0.3764880952380952, 0.3005952380952381, 0.3005952380952381, 0.3005952380952381, 0.3005952380952381, 0.35416666666666663, 0.35416666666666663, 0.3005952380952381, 0.3005952380952381, 0.35416666666666663, 0.35416666666666663, 0.35416666666666663, 0.24702380952380948, 0.40773809523809523, 0.40773809523809523, 0.40773809523809523, 0.40773809523809523, 0.35416666666666663, 0.35416666666666663, 0.35416666666666663, 0.35416666666666663, 0.35416666666666663, 0.35416666666666663, 0.35416666666666663, 0.35416666666666663, 0.35416666666666663, 0.35416666666666663, 0.35416666666666663, 0.35416666666666663, 0.35416666666666663, 0.35416666666666663, 0.35416666666666663, 0.35416666666666663, 0.35416666666666663, 0.35416666666666663, 0.35416666666666663, 0.35416666666666663, 0.35416666666666663, 0.35416666666666663, 0.35416666666666663, 0.35416666666666663, 0.35416666666666663, 0.35416666666666663, 0.35416666666666663, 0.35416666666666663, 0.40773809523809523, 0.40773809523809523, 0.40773809523809523, 0.40773809523809523, 0.35416666666666663, 0.40773809523809523, 0.40773809523809523, 0.40773809523809523, 0.40773809523809523, 0.40773809523809523, 0.40773809523809523, 0.40773809523809523, 0.40773809523809523, 0.40773809523809523, 0.40773809523809523, 0.40773809523809523, 0.35416666666666663, 0.35416666666666663, 0.35416666666666663, 0.35416666666666663, 0.35416666666666663, 0.35416666666666663, 0.3005952380952381, 0.3005952380952381, 0.3005952380952381, 0.3005952380952381, 0.3005952380952381, 0.3005952380952381, 0.35416666666666663, 0.35416666666666663, 0.3005952380952381, 0.35416666666666663, 0.3005952380952381, 0.3005952380952381, 0.3005952380952381, 0.3005952380952381, 0.3005952380952381, 0.3005952380952381, 0.3005952380952381, 0.5089285714285715]}\n"
     ]
    }
   ],
   "source": [
    "print(metrics_data)"
   ]
  },
  {
   "cell_type": "code",
   "execution_count": 137,
   "id": "c3b84004",
   "metadata": {},
   "outputs": [
    {
     "data": {
      "image/png": "[encoded data removed]",
      "text/plain": [
       "<Figure size 1200x700 with 1 Axes>"
      ]
     },
     "metadata": {},
     "output_type": "display_data"
    }
   ],
   "source": [
    "plt.figure(figsize=(12, 7))\n",
    "epochs = range(1, len(metrics_log) + 1)\n",
    "for metric_name, values in metrics_data.items():\n",
    "    if metric_name != 'lrap' and metric_name != 'coverage_error':\n",
    "        plt.plot(epochs, values, label=metric_name)\n",
    "\n",
    "plt.xlabel('Epoch')\n",
    "plt.ylabel('Metric Value')\n",
    "plt.title('Tactic - All Metrics Over Epochs')\n",
    "plt.legend()\n",
    "plt.grid(True)\n",
    "plt.tight_layout()\n",
    "plt.show()"
   ]
  },
  {
   "cell_type": "code",
   "execution_count": 138,
   "id": "b786ee11",
   "metadata": {},
   "outputs": [
    {
     "data": {
      "image/png": "[encoded data removed]",
      "text/plain": [
       "<Figure size 1200x700 with 1 Axes>"
      ]
     },
     "metadata": {},
     "output_type": "display_data"
    }
   ],
   "source": [
    "plt.figure(figsize=(12, 7))\n",
    "epochs = range(1, len(metrics_log) + 1)\n",
    "for metric_name, values in metrics_data.items():\n",
    "    # print(f\"{metric_name}: {len(values)}\")\n",
    "    if metric_name == 'coverage_error':\n",
    "        plt.plot(epochs, values, label=metric_name)\n",
    "\n",
    "plt.xlabel('Epoch')\n",
    "plt.ylabel('Metric Value')\n",
    "plt.title('Tactic -All Metrics Over Epochs')\n",
    "plt.legend()\n",
    "plt.grid(True)\n",
    "plt.tight_layout()\n",
    "plt.show()"
   ]
  },
  {
   "cell_type": "code",
   "execution_count": 139,
   "id": "1ec70b8e",
   "metadata": {},
   "outputs": [
    {
     "data": {
      "image/png": "[encoded data removed]",
      "text/plain": [
       "<Figure size 1200x700 with 1 Axes>"
      ]
     },
     "metadata": {},
     "output_type": "display_data"
    }
   ],
   "source": [
    "plt.figure(figsize=(12, 7))\n",
    "epochs = range(1, len(metrics_log) + 1)\n",
    "for metric_name, values in metrics_data.items():\n",
    "    # print(f\"{metric_name}: {len(values)}\")\n",
    "    if metric_name == 'lrap':\n",
    "        plt.plot(epochs, values, label=metric_name)\n",
    "\n",
    "plt.xlabel('Epoch')\n",
    "plt.ylabel('Metric Value')\n",
    "plt.title('Tactic -All Metrics Over Epochs')\n",
    "plt.legend()\n",
    "plt.grid(True)\n",
    "plt.tight_layout()\n",
    "plt.show()"
   ]
  },
  {
   "cell_type": "code",
   "execution_count": 140,
   "id": "44a17fa5",
   "metadata": {},
   "outputs": [],
   "source": [
    "def print_F1_based_on_distribution(y_true, y_pred, Y, columns):\n",
    "  fig,ax = plt.subplots()\n",
    "\n",
    "  results = pd.DataFrame(columns = columns)\n",
    "  results.loc[len(results)] = f1_score(y_true, y_pred, average=None)\n",
    "\n",
    "\n",
    "  Y_count = Y.apply(np.sum, axis=0)\n",
    "\n",
    "  # print(Y_count[0:14])\n",
    "\n",
    "  Y_count_sorted = Y_count[0:14].sort_values(ascending=False)\n",
    "\n",
    "  ax.bar(Y_count_sorted.index, Y_count_sorted.values)\n",
    "  ax.set_xlabel(\"Tactics\")\n",
    "  ax.set_ylabel(\"Number of CVEs\")\n",
    "  plt.xticks(rotation=90)\n",
    "\n",
    "  ax2=ax.twinx()\n",
    "  ax2.plot(Y_count_sorted.index, results[Y_count_sorted.index].iloc[0], color='red')\n",
    "  ax2.set_ylabel(\"F1 Score\")\n",
    "\n",
    "  ax = plt.gca()\n",
    "  plt.show()"
   ]
  },
  {
   "cell_type": "code",
   "execution_count": 141,
   "id": "ad72bae8",
   "metadata": {},
   "outputs": [],
   "source": [
    "def print_precision_based_on_distribution(y_true, y_pred, Y, columns):\n",
    "  fig,ax = plt.subplots()\n",
    "\n",
    "  results = pd.DataFrame(columns = columns)\n",
    "  results.loc[len(results)] = precision_score(y_true, y_pred, average=None)\n",
    "\n",
    "\n",
    "  Y_count = Y.apply(np.sum, axis=0)\n",
    "\n",
    "  # print(Y_count[0:14])\n",
    "\n",
    "  Y_count_sorted = Y_count[0:14].sort_values(ascending=False)\n",
    "\n",
    "  ax.bar(Y_count_sorted.index, Y_count_sorted.values)\n",
    "  ax.set_xlabel(\"Tactics\")\n",
    "  ax.set_ylabel(\"Number of CVEs\")\n",
    "  plt.xticks(rotation=90)\n",
    "\n",
    "  ax2=ax.twinx()\n",
    "  ax2.plot(Y_count_sorted.index, results[Y_count_sorted.index].iloc[0], color='red')\n",
    "  ax2.set_ylabel(\"Precision Score\")\n",
    "\n",
    "  ax = plt.gca()\n",
    "  plt.show()"
   ]
  },
  {
   "cell_type": "code",
   "execution_count": 142,
   "id": "bfe45ad7",
   "metadata": {},
   "outputs": [],
   "source": [
    "def compute_metrics(predicted_y, true_y, metric_function, columns, limit):\n",
    "  results = pd.DataFrame(columns = columns)\n",
    "  if (metric_function == accuracy_score):\n",
    "    results.loc[len(results)] = metric_function(true_y, predicted_y)\n",
    "  else:\n",
    "    results.loc[len(results)] = metric_function(true_y, predicted_y, average=None)\n",
    "\n",
    "  sorted_results = results.sort_values(by=0, axis=1, ascending=False)\n",
    "\n",
    "  for col in sorted_results.columns[:limit]:\n",
    "        print(f\"{col}: {sorted_results[col].values[0]}\")\n",
    "\n",
    "  return sorted_results.iloc[:, :limit]"
   ]
  },
  {
   "cell_type": "code",
   "execution_count": 143,
   "id": "0e90fd95",
   "metadata": {},
   "outputs": [],
   "source": [
    "df = pd.read_csv('merged_all_columns.csv', encoding='utf-8')\n",
    "# df_attack['tactic_label'] = df_attack.apply(lambda x: list(x[TACTIC]), axis=1)\n",
    "# df_attack['technique_label'] = df_attack.apply(lambda x: list(x[TECHNIQUE]), axis=1)\n",
    "\n",
    "df_tactic_labels = df[TACTIC]\n",
    "df_technique_labels = df[TECHNIQUE]\n",
    "\n",
    "df['tactic_label'] = df.apply(lambda x: list(x[TACTIC]), axis=1)\n",
    "df['technique_label'] = df.apply(lambda x: list(x[TECHNIQUE]), axis=1)\n",
    "\n",
    "df['text_clean'] = df['Text'].map(lambda t: preprocess(t))\n",
    "\n",
    "\n",
    "train, test = train_test_split(df, test_size=0.2, random_state=2222)\n",
    "validation, test = train_test_split(test, test_size=0.5, random_state=2222)\n"
   ]
  },
  {
   "cell_type": "code",
   "execution_count": 144,
   "id": "598b8829",
   "metadata": {},
   "outputs": [
    {
     "name": "stdout",
     "output_type": "stream",
     "text": [
      "------Validation results --------\n",
      "0.45549023715684256\n",
      "F1 scores per class\n",
      "TA0040: 0.7017543859649122\n",
      "TA0002: 0.6666666666666666\n",
      "TA0001: 0.5238095238095238\n",
      "TA0006: 0.46153846153846156\n",
      "TA0009: 0.3829787234042553\n",
      "TA0004: 0.3\n",
      "TA0005: 0.09523809523809523\n",
      "TA0003: 0.0\n",
      "TA0008: 0.0\n",
      "TA0007: 0.0\n",
      "TA0010: 0.0\n",
      "TA0011: 0.0\n",
      "TA0042: 0.0\n",
      "TA0043: 0.0\n",
      "----------------------------------\n",
      "Recall scores per class\n",
      "TA0002: 0.660377358490566\n",
      "TA0040: 0.625\n",
      "TA0001: 0.4782608695652174\n",
      "TA0006: 0.3333333333333333\n",
      "TA0009: 0.32142857142857145\n",
      "TA0004: 0.20689655172413793\n",
      "TA0005: 0.0625\n",
      "TA0003: 0.0\n",
      "TA0008: 0.0\n",
      "TA0007: 0.0\n",
      "TA0010: 0.0\n",
      "TA0011: 0.0\n",
      "TA0042: 0.0\n",
      "TA0043: 0.0\n",
      "----------------------------------\n",
      "Precision scores per class\n",
      "TA0040: 0.8\n",
      "TA0006: 0.75\n",
      "TA0002: 0.6730769230769231\n",
      "TA0001: 0.5789473684210527\n",
      "TA0004: 0.5454545454545454\n",
      "TA0009: 0.47368421052631576\n",
      "TA0005: 0.2\n",
      "TA0003: 0.0\n",
      "TA0008: 0.0\n",
      "TA0007: 0.0\n",
      "TA0010: 0.0\n",
      "TA0011: 0.0\n",
      "TA0042: 0.0\n",
      "TA0043: 0.0\n",
      "----------------------------------\n",
      "Accuracy scores per class\n",
      "TA0001: 0.24342105263157895\n",
      "TA0002: 0.24342105263157895\n",
      "TA0003: 0.24342105263157895\n",
      "TA0004: 0.24342105263157895\n",
      "TA0005: 0.24342105263157895\n",
      "TA0006: 0.24342105263157895\n",
      "TA0007: 0.24342105263157895\n",
      "TA0008: 0.24342105263157895\n",
      "TA0009: 0.24342105263157895\n",
      "TA0010: 0.24342105263157895\n",
      "TA0011: 0.24342105263157895\n",
      "TA0040: 0.24342105263157895\n",
      "TA0042: 0.24342105263157895\n",
      "TA0043: 0.24342105263157895\n"
     ]
    }
   ],
   "source": [
    "print(\"------Validation results --------\")\n",
    "print(BEST_F1)\n",
    "\n",
    "print(\"F1 scores per class\")\n",
    "y_train_df = train.drop(train.columns[0:2], axis=1)\n",
    "\n",
    "f1_best_metrics = compute_metrics(BEST_PREDICTED, BEST_TRUE, f1_score, test.columns[2:16], 14)\n",
    "print(\"----------------------------------\")\n",
    "\n",
    "print(\"Recall scores per class\")\n",
    "recall_best_metrics = compute_metrics(BEST_PREDICTED, BEST_TRUE, recall_score, test.columns[2:16], 14)\n",
    "print(\"----------------------------------\")\n",
    "\n",
    "print(\"Precision scores per class\")\n",
    "precision_best_metrics = compute_metrics(BEST_PREDICTED, BEST_TRUE, precision_score, test.columns[2:16], 14)\n",
    "print(\"----------------------------------\")\n",
    "\n",
    "print(\"Accuracy scores per class\")\n",
    "acc_best_metrics = compute_metrics(BEST_PREDICTED, BEST_TRUE, accuracy_score, test.columns[2:16], 14)"
   ]
  },
  {
   "cell_type": "code",
   "execution_count": 145,
   "id": "08b171ec",
   "metadata": {},
   "outputs": [
    {
     "data": {
      "image/png": "[encoded data removed]",
      "text/plain": [
       "<Figure size 640x480 with 2 Axes>"
      ]
     },
     "metadata": {},
     "output_type": "display_data"
    }
   ],
   "source": [
    "print_F1_based_on_distribution(BEST_PREDICTED, BEST_TRUE, y_train_df,  test.columns[2:16])"
   ]
  },
  {
   "cell_type": "code",
   "execution_count": 146,
   "id": "d3edea3d",
   "metadata": {},
   "outputs": [
    {
     "data": {
      "image/png": "[encoded data removed]",
      "text/plain": [
       "<Figure size 640x480 with 2 Axes>"
      ]
     },
     "metadata": {},
     "output_type": "display_data"
    }
   ],
   "source": [
    "print_precision_based_on_distribution(BEST_PREDICTED, BEST_TRUE, y_train_df,  test.columns[2:16])"
   ]
  }
 ],
 "metadata": {
  "kernelspec": {
   "display_name": "dl_final",
   "language": "python",
   "name": "python3"
  },
  "language_info": {
   "codemirror_mode": {
    "name": "ipython",
    "version": 3
   },
   "file_extension": ".py",
   "mimetype": "text/x-python",
   "name": "python",
   "nbconvert_exporter": "python",
   "pygments_lexer": "ipython3",
   "version": "3.12.7"
  }
 },
 "nbformat": 4,
 "nbformat_minor": 5
}
