{
 "cells": [
  {
   "cell_type": "code",
   "execution_count": 1,
   "id": "8d95e049",
   "metadata": {},
   "outputs": [],
   "source": [
    "import os\n",
    "os.environ[\"TOKENIZERS_PARALLELISM\"] = \"false\"\n",
    "import pandas as pd\n",
    "import numpy as np\n",
    "import sklearn\n",
    "import re\n",
    "import math\n",
    "import joblib\n",
    "from tqdm.notebook import tqdm\n",
    "import matplotlib.pyplot as plt"
   ]
  },
  {
   "cell_type": "code",
   "execution_count": 2,
   "id": "0db3d77a",
   "metadata": {},
   "outputs": [],
   "source": [
    "import pandas as pd\n",
    "import numpy as np\n",
    "import pickle\n",
    "import matplotlib.pyplot as plt\n",
    "import seaborn as sns\n",
    "import re\n",
    "import copy\n",
    "from tqdm import tqdm\n",
    "import gc\n",
    "\n",
    "import torch\n",
    "import torch.nn as nn\n",
    "import torch.nn.functional as F\n",
    "from torch import optim\n",
    "from torch.utils.data import Dataset, DataLoader\n",
    "\n",
    "from sklearn.model_selection import train_test_split\n",
    "\n",
    "from sklearn.metrics import (\n",
    "    accuracy_score,\n",
    "    f1_score,\n",
    "    precision_score,\n",
    "    recall_score,\n",
    "    classification_report\n",
    ")\n",
    "\n",
    "from transformers import (\n",
    "    AutoTokenizer,\n",
    "    AutoModel,\n",
    "    get_linear_schedule_with_warmup\n",
    ")\n",
    "\n",
    "import nltk\n",
    "import re\n",
    "from nltk.corpus import stopwords\n",
    "from nltk.stem import PorterStemmer, WordNetLemmatizer\n",
    "from nltk.tokenize import word_tokenize\n",
    "\n",
    "from transformers import BertTokenizer, BertForMaskedLM\n",
    "\n",
    "from sklearn.metrics import (\n",
    "    recall_score,\n",
    "    precision_score\n",
    "  )\n",
    "\n",
    "from sklearn.metrics import multilabel_confusion_matrix"
   ]
  },
  {
   "cell_type": "code",
   "execution_count": 3,
   "id": "a757780c",
   "metadata": {},
   "outputs": [],
   "source": [
    "from nltk.corpus import stopwords\n",
    "from nltk.corpus import wordnet\n",
    "from nltk.tokenize import word_tokenize\n",
    "from nltk.stem import WordNetLemmatizer\n",
    "from nltk import pos_tag\n",
    "import nltk"
   ]
  },
  {
   "cell_type": "code",
   "execution_count": 4,
   "id": "dac02406",
   "metadata": {},
   "outputs": [],
   "source": [
    "import warnings\n",
    "from sklearn.exceptions import UndefinedMetricWarning\n",
    "warnings.filterwarnings(\"ignore\", category=FutureWarning)\n",
    "warnings.filterwarnings(\"ignore\", category=UndefinedMetricWarning)"
   ]
  },
  {
   "cell_type": "code",
   "execution_count": 5,
   "id": "9b56fa49",
   "metadata": {},
   "outputs": [
    {
     "name": "stdout",
     "output_type": "stream",
     "text": [
      "Time now: 06-02-23-03\n"
     ]
    }
   ],
   "source": [
    "time_now = pd.Timestamp.now().strftime(\"%m-%d-%H-%M\")\n",
    "print(f\"Time now: {time_now}\")"
   ]
  },
  {
   "cell_type": "markdown",
   "id": "886c73dc",
   "metadata": {},
   "source": [
    "# Config"
   ]
  },
  {
   "cell_type": "code",
   "execution_count": 6,
   "id": "10e0995a",
   "metadata": {},
   "outputs": [],
   "source": [
    "class Config:\n",
    "    def __init__(self):\n",
    "        super(Config, self).__init__()\n",
    "\n",
    "        self.SEED = 42\n",
    "        self.MODEL_PATH = 'bert-base-uncased'\n",
    "        self.NUM_LABELS_TA = 14\n",
    "        self.NUM_LABELS_TE = 185\n",
    "\n",
    "        self.TOKENIZER = BertTokenizer.from_pretrained(self.MODEL_PATH)\n",
    "        self.MAX_LENGTH = 320\n",
    "        self.BATCH_SIZE = 16\n",
    "\n",
    "        self.DEVICE = torch.device('cuda' if torch.cuda.is_available() else 'cpu')\n",
    "        self.FULL_FINETUNING = True\n",
    "        self.LR = 3e-5\n",
    "        self.OPTIMIZER = 'AdamW'\n",
    "        self.CRITERION = 'BCEWithLogitsLoss'\n",
    "        self.N_VALIDATE_DUR_TRAIN = 3\n",
    "        self.N_WARMUP = 0\n",
    "        self.SAVE_BEST_ONLY = True\n",
    "        self.EPOCHS = 50"
   ]
  },
  {
   "cell_type": "code",
   "execution_count": 7,
   "id": "d739eb03",
   "metadata": {},
   "outputs": [],
   "source": [
    "TACTIC = ['TA0001', 'TA0002', 'TA0003', 'TA0004', 'TA0005', 'TA0006', 'TA0007', 'TA0008', 'TA0009', 'TA0010', 'TA0011', 'TA0040', 'TA0042', 'TA0043']\n",
    "TECHNIQUE = ['T1001', 'T1003', 'T1005', 'T1006', 'T1007', 'T1008', 'T1010', 'T1011', 'T1012', 'T1014', 'T1016', 'T1018', 'T1020', 'T1021', 'T1025', 'T1027', 'T1029', 'T1030', 'T1033', 'T1036', 'T1037', 'T1039', 'T1040', 'T1041', 'T1046', 'T1047', 'T1048', 'T1049', 'T1052', 'T1053', 'T1055', 'T1056', 'T1057', 'T1059', 'T1068', 'T1069', 'T1071', 'T1072', 'T1074', 'T1078', 'T1080', 'T1082', 'T1083', 'T1087', 'T1090', 'T1091', 'T1092', 'T1095', 'T1098', 'T1102', 'T1104', 'T1105', 'T1106', 'T1110', 'T1111', 'T1112', 'T1113', 'T1114', 'T1115', 'T1119', 'T1120', 'T1123', 'T1124', 'T1125', 'T1127', 'T1129', 'T1132', 'T1133', 'T1134', 'T1135', 'T1136', 'T1137', 'T1140', 'T1176', 'T1185', 'T1187', 'T1189', 'T1190', 'T1195', 'T1197', 'T1199', 'T1200', 'T1201', 'T1202', 'T1203', 'T1204', 'T1205', 'T1207', 'T1210', 'T1211', 'T1212', 'T1213', 'T1216', 'T1218', 'T1220', 'T1221', 'T1222', 'T1480', 'T1482', 'T1485', 'T1486', 'T1489', 'T1490', 'T1491', 'T1495', 'T1496', 'T1497', 'T1498', 'T1499', 'T1505', 'T1518', 'T1525', 'T1526', 'T1528', 'T1529', 'T1531', 'T1534', 'T1535', 'T1537', 'T1538', 'T1539', 'T1542', 'T1543', 'T1546', 'T1547', 'T1548', 'T1550', 'T1552', 'T1553', 'T1555', 'T1556', 'T1557', 'T1558', 'T1559', 'T1560', 'T1561', 'T1562', 'T1563', 'T1564', 'T1565', 'T1566', 'T1567', 'T1568', 'T1569', 'T1570', 'T1571', 'T1572', 'T1573', 'T1574', 'T1578', 'T1580', 'T1583', 'T1584', 'T1585', 'T1586', 'T1587', 'T1588', 'T1589', 'T1590', 'T1591', 'T1592', 'T1593', 'T1594', 'T1595', 'T1596', 'T1597', 'T1598', 'T1599', 'T1600', 'T1601', 'T1602', 'T1606', 'T1608', 'T1609', 'T1610', 'T1611', 'T1612', 'T1613', 'T1614', 'T1615', 'T1619', 'T1620', 'T1621', 'T1622', 'T1647']\n",
    "TACTICS_TECHNIQUES_RELATIONSHIP_DF = {\n",
    "\"TA0001\":pd.Series(['T1078', 'T1091', 'T1133', 'T1189', 'T1190', 'T1195', 'T1199', 'T1200', 'T1566', 'T1659', 'T1669']),\n",
    "\"TA0002\":pd.Series(['T1047', 'T1053', 'T1059', 'T1072', 'T1106', 'T1129', 'T1203', 'T1204', 'T1559', 'T1569', 'T1609', 'T1610', 'T1648', 'T1651', 'T1674', 'T1675']),\n",
    "\"TA0003\":pd.Series(['T1037', 'T1053', 'T1078', 'T1098', 'T1112', 'T1133', 'T1136', 'T1137', 'T1176', 'T1197', 'T1205', 'T1505', 'T1525', 'T1542', 'T1543', 'T1546', 'T1547', 'T1554', 'T1556', 'T1574', 'T1653', 'T1668', 'T1671']),\n",
    "\"TA0004\":pd.Series(['T1037', 'T1053', 'T1055', 'T1068', 'T1078', 'T1098', 'T1134', 'T1484', 'T1543', 'T1546', 'T1547', 'T1548', 'T1574', 'T1611']),\n",
    "\"TA0005\":pd.Series(['T1006', 'T1014', 'T1027', 'T1036', 'T1055', 'T1070', 'T1078', 'T1112', 'T1127', 'T1134', 'T1140', 'T1197', 'T1202', 'T1205', 'T1207', 'T1211', 'T1216', 'T1218', 'T1220', 'T1221', 'T1222', 'T1480', 'T1484', 'T1497', 'T1535', 'T1542', 'T1548', 'T1550', 'T1553', 'T1556', 'T1562', 'T1564', 'T1574', 'T1578', 'T1599', 'T1600', 'T1601', 'T1610', 'T1612', 'T1620', 'T1622', 'T1647', 'T1656', 'T1666', 'T1672']),\n",
    "\"TA0006\":pd.Series(['T1003', 'T1040', 'T1056', 'T1110', 'T1111', 'T1187', 'T1212', 'T1528', 'T1539', 'T1552', 'T1555', 'T1556', 'T1557', 'T1558', 'T1606', 'T1621', 'T1649']),\n",
    "\"TA0007\":pd.Series(['T1007', 'T1010', 'T1012', 'T1016', 'T1018', 'T1033', 'T1040', 'T1046', 'T1049', 'T1057', 'T1069', 'T1082', 'T1083', 'T1087', 'T1120', 'T1124', 'T1135', 'T1201', 'T1217', 'T1482', 'T1497', 'T1518', 'T1526', 'T1538', 'T1580', 'T1613', 'T1614', 'T1615', 'T1619', 'T1622', 'T1652', 'T1654', 'T1673']),\n",
    "\"TA0008\":pd.Series(['T1021', 'T1072', 'T1080', 'T1091', 'T1210', 'T1534', 'T1550', 'T1563', 'T1570']),\n",
    "\"TA0009\":pd.Series(['T1005', 'T1025', 'T1039', 'T1056', 'T1074', 'T1113', 'T1114', 'T1115', 'T1119', 'T1123', 'T1125', 'T1185', 'T1213', 'T1530', 'T1557', 'T1560', 'T1602']),\n",
    "\"TA0010\":pd.Series(['T1011', 'T1020', 'T1029', 'T1030', 'T1041', 'T1048', 'T1052', 'T1537', 'T1567']),\n",
    "\"TA0011\":pd.Series(['T1001', 'T1008', 'T1071', 'T1090', 'T1092', 'T1095', 'T1102', 'T1104', 'T1105', 'T1132', 'T1205', 'T1219', 'T1568', 'T1571', 'T1572', 'T1573', 'T1659', 'T1665']),\n",
    "\"TA0040\":pd.Series(['T1485', 'T1486', 'T1489', 'T1490', 'T1491', 'T1495', 'T1496', 'T1498', 'T1499', 'T1529', 'T1531', 'T1561', 'T1565', 'T1657', 'T1667']),                \n",
    "\"TA0042\":pd.Series(['T1583', 'T1584', 'T1585', 'T1586', 'T1587', 'T1588', 'T1608', 'T1650']),\n",
    "\"TA0043\":pd.Series(['T1589', 'T1590', 'T1591', 'T1592', 'T1593', 'T1594', 'T1595', 'T1596', 'T1597', 'T1598'])\n",
    "}"
   ]
  },
  {
   "cell_type": "code",
   "execution_count": 8,
   "id": "07f6f833",
   "metadata": {},
   "outputs": [],
   "source": [
    "df = pd.read_csv('merged_all_columns.csv', encoding='utf-8')\n",
    "# df_attack['tactic_label'] = df_attack.apply(lambda x: list(x[TACTIC]), axis=1)\n",
    "# df_attack['technique_label'] = df_attack.apply(lambda x: list(x[TECHNIQUE]), axis=1)\n",
    "\n",
    "df_tactic_labels = df[TACTIC]\n",
    "df_technique_labels = df[TECHNIQUE]"
   ]
  },
  {
   "cell_type": "code",
   "execution_count": 9,
   "id": "767f45c3",
   "metadata": {},
   "outputs": [
    {
     "name": "stdout",
     "output_type": "stream",
     "text": [
      "      TA0001  TA0002  TA0003  TA0004  TA0005  TA0006  TA0007  TA0008  TA0009  \\\n",
      "0          1       1       0       0       0       0       0       0       0   \n",
      "1          1       1       0       0       0       0       0       0       0   \n",
      "2          0       1       0       0       0       1       0       0       0   \n",
      "3          1       1       0       0       0       0       0       0       0   \n",
      "4          1       0       0       1       1       0       0       0       0   \n",
      "...      ...     ...     ...     ...     ...     ...     ...     ...     ...   \n",
      "1513       0       1       1       0       0       0       0       0       0   \n",
      "1514       0       0       0       0       0       0       0       0       0   \n",
      "1515       0       0       0       1       0       0       0       0       0   \n",
      "1516       0       1       0       0       0       0       0       0       1   \n",
      "1517       0       0       0       0       0       0       0       0       0   \n",
      "\n",
      "      TA0010  TA0011  TA0040  TA0042  TA0043  \n",
      "0          0       0       0       0       0  \n",
      "1          0       0       0       0       0  \n",
      "2          0       0       0       0       0  \n",
      "3          0       0       0       0       0  \n",
      "4          0       0       0       0       0  \n",
      "...      ...     ...     ...     ...     ...  \n",
      "1513       0       0       0       0       0  \n",
      "1514       0       0       1       0       0  \n",
      "1515       0       0       0       0       0  \n",
      "1516       0       0       0       0       0  \n",
      "1517       0       0       0       1       0  \n",
      "\n",
      "[1518 rows x 14 columns]\n"
     ]
    }
   ],
   "source": [
    "print(df_tactic_labels)"
   ]
  },
  {
   "cell_type": "code",
   "execution_count": 10,
   "id": "7e4b3ee8",
   "metadata": {},
   "outputs": [
    {
     "name": "stdout",
     "output_type": "stream",
     "text": [
      "      T1001  T1003  T1005  T1006  T1007  T1008  T1010  T1011  T1012  T1014  \\\n",
      "0         0      0      0      0      0      0      0      0      0      0   \n",
      "1         0      0      0      0      0      0      0      0      0      0   \n",
      "2         0      1      0      0      0      0      0      0      0      0   \n",
      "3         0      0      0      0      0      0      0      0      0      0   \n",
      "4         0      0      0      0      0      0      0      0      0      0   \n",
      "...     ...    ...    ...    ...    ...    ...    ...    ...    ...    ...   \n",
      "1513      0      0      0      0      0      0      0      0      0      0   \n",
      "1514      0      0      0      0      0      0      0      0      0      0   \n",
      "1515      0      0      0      0      0      0      0      0      0      0   \n",
      "1516      0      0      1      0      0      0      0      0      0      0   \n",
      "1517      0      0      0      0      0      0      0      0      0      0   \n",
      "\n",
      "      ...  T1611  T1612  T1613  T1614  T1615  T1619  T1620  T1621  T1622  \\\n",
      "0     ...      0      0      0      0      0      0      0      0      0   \n",
      "1     ...      0      0      0      0      0      0      0      0      0   \n",
      "2     ...      0      0      0      0      0      0      0      0      0   \n",
      "3     ...      0      0      0      0      0      0      0      0      0   \n",
      "4     ...      0      0      0      0      0      0      0      0      0   \n",
      "...   ...    ...    ...    ...    ...    ...    ...    ...    ...    ...   \n",
      "1513  ...      0      0      0      0      0      0      0      0      0   \n",
      "1514  ...      0      0      0      0      0      0      0      0      0   \n",
      "1515  ...      0      0      0      0      0      0      0      0      0   \n",
      "1516  ...      0      0      0      0      0      0      0      0      0   \n",
      "1517  ...      0      0      0      0      0      0      0      0      0   \n",
      "\n",
      "      T1647  \n",
      "0         0  \n",
      "1         0  \n",
      "2         0  \n",
      "3         0  \n",
      "4         0  \n",
      "...     ...  \n",
      "1513      0  \n",
      "1514      0  \n",
      "1515      0  \n",
      "1516      0  \n",
      "1517      0  \n",
      "\n",
      "[1518 rows x 185 columns]\n"
     ]
    }
   ],
   "source": [
    "print(df_technique_labels)"
   ]
  },
  {
   "cell_type": "code",
   "execution_count": 11,
   "id": "919865c1",
   "metadata": {},
   "outputs": [],
   "source": [
    "df['tactic_label'] = df.apply(lambda x: list(x[TACTIC]), axis=1)\n",
    "df['technique_label'] = df.apply(lambda x: list(x[TECHNIQUE]), axis=1)\n"
   ]
  },
  {
   "cell_type": "markdown",
   "id": "5b7fc8c7",
   "metadata": {},
   "source": [
    "# Data processing"
   ]
  },
  {
   "cell_type": "code",
   "execution_count": 12,
   "id": "5018de80",
   "metadata": {},
   "outputs": [],
   "source": [
    "from nltk.corpus import stopwords\n",
    "from nltk.corpus import wordnet\n",
    "from nltk.tokenize import word_tokenize\n",
    "from nltk.stem import WordNetLemmatizer\n",
    "from nltk import pos_tag\n",
    "import nltk"
   ]
  },
  {
   "cell_type": "code",
   "execution_count": 13,
   "id": "173e00c0",
   "metadata": {},
   "outputs": [
    {
     "name": "stdout",
     "output_type": "stream",
     "text": [
      "punkt ⛔ 未安裝，開始下載...\n",
      "stopwords ⛔ 未安裝，開始下載...\n",
      "wordnet ⛔ 未安裝，開始下載...\n",
      "omw-1.4 ⛔ 未安裝，開始下載...\n",
      "averaged_perceptron_tagger ⛔ 未安裝，開始下載...\n",
      "averaged_perceptron_tagger_eng ⛔ 未安裝，開始下載...\n"
     ]
    },
    {
     "name": "stderr",
     "output_type": "stream",
     "text": [
      "[nltk_data] Downloading package punkt to\n",
      "[nltk_data]     C:\\Users\\user\\AppData\\Roaming\\nltk_data...\n",
      "[nltk_data]   Package punkt is already up-to-date!\n",
      "[nltk_data] Downloading package stopwords to\n",
      "[nltk_data]     C:\\Users\\user\\AppData\\Roaming\\nltk_data...\n",
      "[nltk_data]   Package stopwords is already up-to-date!\n",
      "[nltk_data] Downloading package wordnet to\n",
      "[nltk_data]     C:\\Users\\user\\AppData\\Roaming\\nltk_data...\n",
      "[nltk_data]   Package wordnet is already up-to-date!\n",
      "[nltk_data] Downloading package omw-1.4 to\n",
      "[nltk_data]     C:\\Users\\user\\AppData\\Roaming\\nltk_data...\n",
      "[nltk_data]   Package omw-1.4 is already up-to-date!\n",
      "[nltk_data] Downloading package averaged_perceptron_tagger to\n",
      "[nltk_data]     C:\\Users\\user\\AppData\\Roaming\\nltk_data...\n",
      "[nltk_data]   Package averaged_perceptron_tagger is already up-to-\n",
      "[nltk_data]       date!\n",
      "[nltk_data] Downloading package averaged_perceptron_tagger_eng to\n",
      "[nltk_data]     C:\\Users\\user\\AppData\\Roaming\\nltk_data...\n",
      "[nltk_data]   Package averaged_perceptron_tagger_eng is already up-to-\n",
      "[nltk_data]       date!\n"
     ]
    }
   ],
   "source": [
    "import nltk\n",
    "\n",
    "resources = [\n",
    "    \"punkt\",\n",
    "    \"stopwords\",\n",
    "    \"wordnet\",\n",
    "    \"omw-1.4\",\n",
    "    \"averaged_perceptron_tagger\",\n",
    "    \"averaged_perceptron_tagger_eng\"\n",
    "]\n",
    "\n",
    "for res in resources:\n",
    "    try:\n",
    "        nltk.data.find(res)\n",
    "        print(f\"{res} ✅ 已安裝\")\n",
    "    except LookupError:\n",
    "        print(f\"{res} ⛔ 未安裝，開始下載...\")\n",
    "        nltk.download(res)\n"
   ]
  },
  {
   "cell_type": "code",
   "execution_count": 14,
   "id": "6f7cf101",
   "metadata": {},
   "outputs": [],
   "source": [
    "def get_wordnet_pos(tag):\n",
    "    if tag.startswith('J'):\n",
    "        return wordnet.ADJ\n",
    "    elif tag.startswith('V'):\n",
    "        return wordnet.VERB\n",
    "    elif tag.startswith('N'):\n",
    "        return wordnet.NOUN\n",
    "    elif tag.startswith('R'):\n",
    "        return wordnet.ADV\n",
    "    else:\n",
    "        return 'n'\n",
    "\n",
    "def ioc_sub(text):\n",
    "    def reg_handler(obj):\n",
    "        s = obj.group(1)\n",
    "        s = ' '.join(s.split('\\\\'))\n",
    "        return s\n",
    "\n",
    "    def file_handler(obj):\n",
    "        s = obj.group(2)\n",
    "        s = s.split('\\\\')[-1]\n",
    "        return s\n",
    "    \n",
    "    text = re.sub(r'(?:(?:25[0-5]|2[0-4][0-9]|[01]?[0-9][0-9]?)(\\.|\\[\\.\\])){3}(?:25[0-5]|2[0-4][0-9]|[01]?[0-9][0-9]?)(\\/([0-2][0-9]|3[0-2]|[0-9]))?', 'IPv4', text)\n",
    "    text = re.sub(r'\\b(\\d{1,3}\\.\\d{1,3}\\.\\d{1,3}\\.\\d{1,3})\\b', 'IP', text)\n",
    "    text = re.sub(r'\\b(CVE\\-[0-9]{4}\\-[0-9]{4,6})\\b', 'CVE', text)\n",
    "    text = re.sub(r'CVE-[0-9]{4}-[0-9]{4,6}', 'vulnerability', text)\n",
    "    text = re.sub(r'\\b([a-z][_a-z0-9-.]+@[a-z0-9-]+\\.[a-z]+)\\b', 'email', text)\n",
    "    text = re.sub(r'\\b((HKLM|HKCU|HKCR|HKU|HKCC)\\\\[\\\\A-Za-z0-9-_]+)\\b', reg_handler, text)\n",
    "    text = re.sub(r'\\b([a-zA-Z]{1}:\\\\([0-9a-zA-Z_\\.\\-\\/\\\\]+))\\b', file_handler, text)\n",
    "    text = re.sub(r'\\b([a-f0-9]{32}|[A-F0-9]{32})\\b', 'MD5', text)\n",
    "    text = re.sub(r'\\b([a-f0-9]{40}|[A-F0-9]{40})\\b', 'SHA1', text)\n",
    "    text = re.sub(r'\\b([a-f0-9]{64}|[A-F0-9]{64})\\b', 'SHA256', text)\n",
    "    text = re.sub(r'\\d+:[A-Za-z0-9/+]+:[A-Za-z0-9/+]+', 'ssdeep', text)\n",
    "    text = re.sub(r'\\b[a-fA-F\\d]{32}\\b|\\b[a-fA-F\\d]{40}\\b|\\b[a-fA-F\\d]{64}\\b', 'hash', text)\n",
    "    text = re.sub(r'h[tx][tx]ps?:[\\\\\\/][\\\\\\/](?:[0-9a-zA-Z_\\.\\-\\/\\\\]|\\[\\.\\])+', 'URL', text)\n",
    "    text = re.sub(r'((?:[0-9a-zA-Z_\\-]+\\.)+(?:(?!exe|dll)[a-z]{2,4}))', 'domain', text)\n",
    "    text = re.sub(r'[a-fA-F0-9]{16}', '', text)\n",
    "    text = re.sub(r'[0-9]{8}', '', text)\n",
    "    text = re.sub(r'x[A-Fa-f0-9]{2}', '', text)\n",
    "    \n",
    "    return text\n",
    "\n",
    "def rmstopword_and_lemmatize(text):\n",
    "    token = [word for word in word_tokenize(text.lower()) if word not in stopwords.words('english')]\n",
    "    # tag = pos_tag(token)\n",
    "    tag = nltk.pos_tag(token, lang='eng')\n",
    "    lemmatizer = WordNetLemmatizer()\n",
    "    text = ' '.join(list(map(lambda x: lemmatizer.lemmatize(x[0], pos=get_wordnet_pos(x[1])), tag)))\n",
    "    \n",
    "    return text\n",
    "\n",
    "def preprocess(text):\n",
    "    text = str(text)\n",
    "    #text = text.lower()\n",
    "    text = re.sub(r'etc\\.', '', text)\n",
    "    text = re.sub(r'et al\\.', '', text)\n",
    "    text = re.sub(r'e\\.g\\.', '', text)\n",
    "    text = re.sub(r'i\\.e\\.', '', text)\n",
    "    #text = re.sub(r'\\[.\\]', '.', text)\n",
    "    text = re.sub(r'\\[\\d+\\]', '', text)\n",
    "    \n",
    "    text = ioc_sub(text)\n",
    "    \n",
    "    text = re.sub(r'[^A-Za-z0-9_\\[\\]]', ' ', text)\n",
    "    text = re.sub(r'\\s+', ' ', text)\n",
    "    \n",
    "    text = rmstopword_and_lemmatize(text)\n",
    "    \n",
    "    text = re.sub(r'[\\[\\]]', ' ', text)\n",
    "    text = re.sub(r' [a-z0-9] ', '', text)\n",
    "    \n",
    "    return text\n"
   ]
  },
  {
   "cell_type": "code",
   "execution_count": 15,
   "id": "d0b15fb5",
   "metadata": {},
   "outputs": [],
   "source": [
    "df['text_clean'] = df['Text'].map(lambda t: preprocess(t))"
   ]
  },
  {
   "cell_type": "code",
   "execution_count": 16,
   "id": "a1f45aa4",
   "metadata": {},
   "outputs": [
    {
     "name": "stdout",
     "output_type": "stream",
     "text": [
      "waspthemes visual cs style editor aka yellow pencil visual theme customizer plugin2wordpress allows yp_option_update csrf demonstrate use yp_remote_get obtain admin access\n"
     ]
    }
   ],
   "source": [
    "print(df['text_clean'][0])"
   ]
  },
  {
   "cell_type": "code",
   "execution_count": 17,
   "id": "786ca6fc",
   "metadata": {},
   "outputs": [
    {
     "name": "stdout",
     "output_type": "stream",
     "text": [
      "ID                                                    CVE_2019_11886\n",
      "Text               The WaspThemes Visual CSS Style Editor (aka ye...\n",
      "TA0001                                                             1\n",
      "TA0002                                                             1\n",
      "TA0003                                                             0\n",
      "                                         ...                        \n",
      "T1622                                                              0\n",
      "T1647                                                              0\n",
      "tactic_label              [1, 1, 0, 0, 0, 0, 0, 0, 0, 0, 0, 0, 0, 0]\n",
      "technique_label    [0, 0, 0, 0, 0, 0, 0, 0, 0, 0, 0, 0, 0, 0, 0, ...\n",
      "text_clean         waspthemes visual cs style editor aka yellow p...\n",
      "Name: 0, Length: 204, dtype: object\n"
     ]
    }
   ],
   "source": [
    "print(df.iloc[0])"
   ]
  },
  {
   "cell_type": "markdown",
   "id": "a410a869",
   "metadata": {},
   "source": [
    "# Dataset & Dataloader"
   ]
  },
  {
   "cell_type": "code",
   "execution_count": 18,
   "id": "d1025229",
   "metadata": {},
   "outputs": [],
   "source": [
    "def get_texts(df):\n",
    "    texts = df['text']\n",
    "    texts = texts.values.tolist()\n",
    "    return texts\n",
    "\n",
    "def get_labels(df):\n",
    "    labels = df['labels'].values\n",
    "    return labels\n",
    "\n",
    "def get_ids(df):\n",
    "    ids = df['ID'].values.tolist()"
   ]
  },
  {
   "cell_type": "code",
   "execution_count": 19,
   "id": "75e4f49b",
   "metadata": {},
   "outputs": [],
   "source": [
    "from torch.utils.data import Dataset, DataLoader\n",
    "class TransformerDataset_ta(Dataset):\n",
    "    def __init__(self, df, indices, set_type=None):\n",
    "        super(TransformerDataset_ta, self).__init__()\n",
    "\n",
    "        df = df.iloc[indices]\n",
    "        self.texts = get_texts(df)\n",
    "        self.set_type = set_type\n",
    "        if self.set_type != 'test':\n",
    "            self.labels = get_labels(df)\n",
    "\n",
    "        self.tokenizer = Config().TOKENIZER\n",
    "        self.max_length = Config().MAX_LENGTH\n",
    "\n",
    "    def __len__(self):\n",
    "        return len(self.texts)\n",
    "\n",
    "    def __getitem__(self, index):\n",
    "        tokenized = self.tokenizer.encode_plus(\n",
    "            self.texts[index],\n",
    "            max_length=self.max_length,\n",
    "            pad_to_max_length=True,\n",
    "            truncation=True,\n",
    "            return_attention_mask=True,\n",
    "            return_token_type_ids=False,\n",
    "            return_tensors='pt'\n",
    "        )\n",
    "\n",
    "        input_ids = tokenized['input_ids'].squeeze()\n",
    "        attention_mask = tokenized['attention_mask'].squeeze()\n",
    "\n",
    "        if self.set_type != 'test':\n",
    "            return {\n",
    "                'input_ids': input_ids.long(),\n",
    "                'attention_mask': attention_mask.long(),\n",
    "                'labels': torch.Tensor(self.labels[index]).float(),\n",
    "            }\n",
    "\n",
    "        return {\n",
    "            'input_ids': input_ids.long(),\n",
    "            'attention_mask': attention_mask.long(),\n",
    "        }"
   ]
  },
  {
   "cell_type": "code",
   "execution_count": 20,
   "id": "69f46327",
   "metadata": {},
   "outputs": [],
   "source": [
    "\n",
    "class TransformerDataset_te(Dataset):\n",
    "    def __init__(self, df, indices, set_type=None):\n",
    "        super(TransformerDataset_te, self).__init__()\n",
    "\n",
    "        df = df.iloc[indices]\n",
    "        self.texts = get_texts(df)\n",
    "        self.set_type = set_type\n",
    "        if self.set_type != 'test':\n",
    "            self.labels = get_labels(df)\n",
    "\n",
    "        self.tokenizer = Config().TOKENIZER\n",
    "        self.max_length = Config().MAX_LENGTH\n",
    "\n",
    "    def __len__(self):\n",
    "        return len(self.texts)\n",
    "\n",
    "    def __getitem__(self, index):\n",
    "        tokenized = self.tokenizer.encode_plus(\n",
    "            self.texts[index],\n",
    "            max_length=self.max_length,\n",
    "            pad_to_max_length=True,\n",
    "            truncation=True,\n",
    "            return_attention_mask=True,\n",
    "            return_token_type_ids=False,\n",
    "            return_tensors='pt'\n",
    "        )\n",
    "\n",
    "        input_ids = tokenized['input_ids'].squeeze()\n",
    "        attention_mask = tokenized['attention_mask'].squeeze()\n",
    "\n",
    "        if self.set_type != 'test':\n",
    "            return {\n",
    "                'input_ids': input_ids.long(),\n",
    "                'attention_mask': attention_mask.long(),\n",
    "                'labels': torch.Tensor(self.labels[index]).float(),\n",
    "            }\n",
    "\n",
    "        return {\n",
    "            'input_ids': input_ids.long(),\n",
    "            'attention_mask': attention_mask.long(),\n",
    "        }"
   ]
  },
  {
   "cell_type": "code",
   "execution_count": 21,
   "id": "a445b021",
   "metadata": {},
   "outputs": [],
   "source": [
    "from sklearn.model_selection import train_test_split\n",
    "\n",
    "train, test = train_test_split(df, test_size=0.2, random_state=2222)\n",
    "validation, test = train_test_split(test, test_size=0.5, random_state=2222)"
   ]
  },
  {
   "cell_type": "code",
   "execution_count": 22,
   "id": "0690d557",
   "metadata": {},
   "outputs": [],
   "source": [
    "df_ta_train = train[['text_clean', 'tactic_label']]\n",
    "df_ta_val = validation[['text_clean', 'tactic_label']]\n",
    "df_ta_test = test[['text_clean', 'tactic_label']]\n",
    "df_ta_train = df_ta_train.rename(columns={'text_clean':'text', 'tactic_label':'labels'})\n",
    "df_ta_val = df_ta_val.rename(columns={'text_clean':'text', 'tactic_label':'labels'})\n",
    "df_ta_test = df_ta_test.rename(columns={'text_clean':'text', 'tactic_label':'labels'})\n"
   ]
  },
  {
   "cell_type": "code",
   "execution_count": 23,
   "id": "c0d0cbeb",
   "metadata": {},
   "outputs": [],
   "source": [
    "# df_te_train = df.iloc[train.index][['text_clean', 'technique_label']]\n",
    "# df_te_val = df.iloc[validation.index][['text_clean', 'technique_label']]\n",
    "# df_te_test = df.iloc[test.index][['text_clean', 'technique_label']]\n",
    "# df_te_train = df_te_train.rename(columns={'text_clean':'text', 'technique_label':'labels'})\n",
    "# df_te_val = df_te_val.rename(columns={'text_clean':'text', 'technique_label':'labels'})\n",
    "# df_te_test = df_te_test.rename(columns={'text_clean':'text', 'technique_label':'labels'})"
   ]
  },
  {
   "cell_type": "code",
   "execution_count": 24,
   "id": "47e65de5",
   "metadata": {},
   "outputs": [
    {
     "data": {
      "application/vnd.jupyter.widget-view+json": {
       "model_id": "ccfded42220549e6b3aeaaf7635c419d",
       "version_major": 2,
       "version_minor": 0
      },
      "text/plain": [
       "tokenizer_config.json:   0%|          | 0.00/48.0 [00:00<?, ?B/s]"
      ]
     },
     "metadata": {},
     "output_type": "display_data"
    },
    {
     "name": "stderr",
     "output_type": "stream",
     "text": [
      "c:\\Users\\user\\anaconda3\\envs\\dl_final\\Lib\\site-packages\\huggingface_hub\\file_download.py:144: UserWarning: `huggingface_hub` cache-system uses symlinks by default to efficiently store duplicated files but your machine does not support them in C:\\Users\\user\\.cache\\huggingface\\hub\\models--bert-base-uncased. Caching files will still work but in a degraded version that might require more space on your disk. This warning can be disabled by setting the `HF_HUB_DISABLE_SYMLINKS_WARNING` environment variable. For more details, see https://huggingface.co/docs/huggingface_hub/how-to-cache#limitations.\n",
      "To support symlinks on Windows, you either need to activate Developer Mode or to run Python as an administrator. In order to activate developer mode, see this article: https://docs.microsoft.com/en-us/windows/apps/get-started/enable-your-device-for-development\n",
      "  warnings.warn(message)\n"
     ]
    },
    {
     "data": {
      "application/vnd.jupyter.widget-view+json": {
       "model_id": "eeed615a9f8a4aa98a21eed26acd5e06",
       "version_major": 2,
       "version_minor": 0
      },
      "text/plain": [
       "vocab.txt:   0%|          | 0.00/232k [00:00<?, ?B/s]"
      ]
     },
     "metadata": {},
     "output_type": "display_data"
    },
    {
     "data": {
      "application/vnd.jupyter.widget-view+json": {
       "model_id": "05aabfdaffdf417498eab2f078580ee4",
       "version_major": 2,
       "version_minor": 0
      },
      "text/plain": [
       "tokenizer.json:   0%|          | 0.00/466k [00:00<?, ?B/s]"
      ]
     },
     "metadata": {},
     "output_type": "display_data"
    },
    {
     "data": {
      "application/vnd.jupyter.widget-view+json": {
       "model_id": "d12de718bf10443b9fd218dda7e30d3d",
       "version_major": 2,
       "version_minor": 0
      },
      "text/plain": [
       "config.json:   0%|          | 0.00/570 [00:00<?, ?B/s]"
      ]
     },
     "metadata": {},
     "output_type": "display_data"
    }
   ],
   "source": [
    "train_data_ta = TransformerDataset_ta(df_ta_train, range(len(df_ta_train)))\n",
    "val_data_ta = TransformerDataset_ta(df_ta_val, range(len(df_ta_val)))\n",
    "test_data_ta = TransformerDataset_ta(df_ta_test, range(len(df_ta_test)))"
   ]
  },
  {
   "cell_type": "code",
   "execution_count": 25,
   "id": "c5eaf2da",
   "metadata": {},
   "outputs": [],
   "source": [
    "# train_data_te = TransformerDataset_te(df_ta_train, range(len(df_te_train)))\n",
    "# val_data_te = TransformerDataset_te(df_ta_val, range(len(df_te_val)))\n",
    "# test_data_te = TransformerDataset_te(df_ta_test, range(len(df_te_test)))"
   ]
  },
  {
   "cell_type": "code",
   "execution_count": 26,
   "id": "319cd479",
   "metadata": {},
   "outputs": [],
   "source": [
    "train_dataloader_ta = DataLoader(train_data_ta, batch_size=Config().BATCH_SIZE)\n",
    "val_dataloader_ta = DataLoader(val_data_ta, batch_size=Config().BATCH_SIZE)\n",
    "test_dataloader_ta = DataLoader(test_data_ta, batch_size=Config().BATCH_SIZE)"
   ]
  },
  {
   "cell_type": "code",
   "execution_count": 27,
   "id": "e7c67b51",
   "metadata": {},
   "outputs": [],
   "source": [
    "# train_dataloader_te = DataLoader(train_data_te, batch_size=Config().BATCH_SIZE)\n",
    "# val_dataloader_te = DataLoader(val_data_te, batch_size=Config().BATCH_SIZE)\n",
    "# test_dataloader_te = DataLoader(test_data_te, batch_size=Config().BATCH_SIZE)"
   ]
  },
  {
   "cell_type": "code",
   "execution_count": 28,
   "id": "369e1ce0",
   "metadata": {},
   "outputs": [],
   "source": [
    "train_dataloader = train_dataloader_ta\n",
    "val_dataloader = val_dataloader_ta\n",
    "test_dataloader = test_dataloader_ta"
   ]
  },
  {
   "cell_type": "code",
   "execution_count": 29,
   "id": "b1671d1a",
   "metadata": {},
   "outputs": [
    {
     "name": "stdout",
     "output_type": "stream",
     "text": [
      "input_ids shape: torch.Size([16, 320])\n",
      "attention_mask shape: torch.Size([16, 320])\n",
      "labels shape: torch.Size([16, 14])\n"
     ]
    }
   ],
   "source": [
    "b = next(iter(train_dataloader_ta))\n",
    "for k, v in b.items():\n",
    "    print(f'{k} shape: {v.shape}')"
   ]
  },
  {
   "cell_type": "markdown",
   "id": "00117a96",
   "metadata": {},
   "source": [
    "# Model"
   ]
  },
  {
   "cell_type": "code",
   "execution_count": 30,
   "id": "ff574fa8",
   "metadata": {},
   "outputs": [],
   "source": [
    "class Model(nn.Module):\n",
    "    def __init__(self):\n",
    "        super(Model, self).__init__()\n",
    "\n",
    "        self.transformer_model = AutoModel.from_pretrained(\n",
    "                Config().MODEL_PATH\n",
    "        )\n",
    "        self.dropout = nn.Dropout(0.3)\n",
    "\n",
    "        self.output = nn.Linear(768, Config().NUM_LABELS_TA)\n",
    "\n",
    "    def forward(\n",
    "        self,\n",
    "        input_ids,\n",
    "        attention_mask=None,\n",
    "        token_type_ids=None\n",
    "        ):\n",
    "\n",
    "        _, o2 = self.transformer_model(\n",
    "            input_ids=input_ids,\n",
    "            attention_mask=attention_mask,\n",
    "            token_type_ids=token_type_ids,\n",
    "            return_dict=False\n",
    "        )\n",
    "\n",
    "        x = self.dropout(o2)\n",
    "        out = self.output(x)\n",
    "\n",
    "        return out"
   ]
  },
  {
   "cell_type": "markdown",
   "id": "a5d26a57",
   "metadata": {},
   "source": [
    "# Train and test"
   ]
  },
  {
   "cell_type": "code",
   "execution_count": 31,
   "id": "5fbd1c49",
   "metadata": {},
   "outputs": [],
   "source": [
    "BEST_F1 = 0\n",
    "BEST_TRUE = []\n",
    "BEST_PREDICTED = []"
   ]
  },
  {
   "cell_type": "code",
   "execution_count": 32,
   "id": "b26a3123",
   "metadata": {},
   "outputs": [],
   "source": [
    "metrics_log = [] "
   ]
  },
  {
   "cell_type": "code",
   "execution_count": 33,
   "id": "ecdc1dc1",
   "metadata": {},
   "outputs": [],
   "source": [
    "def val(model, val_dataloader, criterion, is_final_test=False):\n",
    "    global BEST_F1, BEST_TRUE, BEST_PREDICTED, device\n",
    "\n",
    "    val_loss = 0\n",
    "    true, pred = [], []\n",
    "\n",
    "    model.eval()\n",
    "\n",
    "    results = {}\n",
    "\n",
    "    for step, batch in enumerate(val_dataloader):\n",
    "        b_input_ids = batch['input_ids'].to(device)\n",
    "        b_attention_mask = batch['attention_mask'].to(device)\n",
    "        b_labels = batch['labels'].to(device)\n",
    "\n",
    "        with torch.no_grad():\n",
    "            logits = model(input_ids=b_input_ids, attention_mask=b_attention_mask)\n",
    "\n",
    "            loss = criterion(logits, b_labels)\n",
    "            val_loss += loss.item()\n",
    "\n",
    "            logits = torch.sigmoid(logits)\n",
    "            logits = np.round(logits.cpu().numpy())\n",
    "            labels = b_labels.cpu().numpy()\n",
    "\n",
    "            pred.extend(logits)\n",
    "            true.extend(labels)\n",
    "\n",
    "    # avg_val_loss = val_loss / len(val_dataloader)\n",
    "    # print('Val loss:', avg_val_loss)\n",
    "    # print('Val accuracy:', accuracy_score(true, pred))\n",
    "\n",
    "    # print('Val precision:', precision_score(true, pred, average='weighted'))\n",
    "    # print('Val recall:', recall_score(true, pred, average='weighted'))\n",
    "\n",
    "    # val_micro_f1_score = f1_score(true, pred, average='micro')\n",
    "    # print('Val micro f1 score:', val_micro_f1_score)\n",
    "\n",
    "    # val_macro_f1_score = f1_score(true, pred, average='macro')\n",
    "    # print('Val macro f1 score:', val_macro_f1_score)\n",
    "\n",
    "    val_weighted_f1_score = f1_score(true, pred, average='weighted')\n",
    "    # print('Val weighted f1 score:', val_weighted_f1_score)\n",
    "\n",
    "    results.update({\n",
    "        \"f1_sampled\": f1_score(true, pred, average='samples', zero_division=0),\n",
    "        \"f1_micro\": f1_score(true, pred, average='micro', zero_division=0),\n",
    "        \"f1_macro\": f1_score(true, pred, average='macro', zero_division=0),\n",
    "        \"f_05_sample\": fbeta_score(true, pred, average='samples', beta=0.5, zero_division=0),\n",
    "        \"f_05_micro\": fbeta_score(true, pred, average='micro', beta=0.5, zero_division=0),\n",
    "        \"f_05_macro\": fbeta_score(true, pred, average='macro', beta=0.5, zero_division=0),\n",
    "        \"precision_sampled\": precision_score(true, pred, average='samples', zero_division=0),\n",
    "        \"precision_micro\": precision_score(true, pred, average='micro', zero_division=0),\n",
    "        \"precision_macro\": precision_score(true, pred, average='macro', zero_division=0),\n",
    "        \"recall_sampled\": recall_score(true, pred, average='samples', zero_division=0),\n",
    "        \"recall_micro\": recall_score(true, pred, average='micro', zero_division=0),\n",
    "        \"recall_macro\": recall_score(true, pred, average='macro', zero_division=0),\n",
    "        \"accuracy\": accuracy_score(true, pred),\n",
    "        })\n",
    "\n",
    "    labels_float = labels.astype(float)\n",
    "    results.update({\n",
    "        \"coverage_error\": coverage_error(labels_float, logits),\n",
    "        \"label_ranking_loss\": label_ranking_loss(labels_float, logits),\n",
    "        \"lrap\": label_ranking_average_precision_score(labels_float, logits),\n",
    "    })\n",
    "\n",
    "    metrics_log.append(results.copy())\n",
    "\n",
    "    print(results)\n",
    "\n",
    "\n",
    "    if (is_final_test is True):\n",
    "      BEST_F1 = val_weighted_f1_score\n",
    "      BEST_TRUE = true\n",
    "      BEST_PREDICTED = pred\n",
    "    elif (val_weighted_f1_score > BEST_F1):\n",
    "      BEST_F1 = val_weighted_f1_score\n",
    "      BEST_TRUE = true\n",
    "      BEST_PREDICTED = pred\n",
    "\n",
    "    return val_weighted_f1_score\n",
    "\n"
   ]
  },
  {
   "cell_type": "code",
   "execution_count": 34,
   "id": "533523db",
   "metadata": {},
   "outputs": [],
   "source": [
    "def train(model, train_dataloader, val_dataloader, criterion, optimizer, scheduler, epoch):\n",
    "    global device\n",
    "    nv = Config().N_VALIDATE_DUR_TRAIN\n",
    "    temp = len(train_dataloader) // nv\n",
    "    temp = temp - (temp % 100)\n",
    "    validate_at_steps = [temp * x for x in range(1, nv + 1)]\n",
    "\n",
    "    train_loss = 0\n",
    "    train_losses = []\n",
    "\n",
    "    for step, batch in enumerate(tqdm(train_dataloader,\n",
    "                                      desc='Epoch ' + str(epoch))):\n",
    "        model.train()\n",
    "\n",
    "        b_input_ids = batch['input_ids'].to(device)\n",
    "        b_attention_mask = batch['attention_mask'].to(device)\n",
    "        b_labels = batch['labels'].to(device)\n",
    "\n",
    "        optimizer.zero_grad()\n",
    "\n",
    "        logits = model(input_ids=b_input_ids, attention_mask=b_attention_mask)\n",
    "\n",
    "        loss = criterion(logits, b_labels)\n",
    "        train_loss += loss.item()\n",
    "\n",
    "        loss.backward()\n",
    "\n",
    "        optimizer.step()\n",
    "\n",
    "        scheduler.step()\n",
    "\n",
    "        if step in validate_at_steps:\n",
    "            print(f'-- Step: {step}')\n",
    "            _ = val(model, val_dataloader, criterion)\n",
    "\n",
    "\n",
    "    avg_train_loss = train_loss / len(train_dataloader)\n",
    "    print('Training loss:', avg_train_loss)"
   ]
  },
  {
   "cell_type": "code",
   "execution_count": 35,
   "id": "a5ee9825",
   "metadata": {},
   "outputs": [],
   "source": [
    "def run():\n",
    "    global train_data, val_data, test_data, train_dataloader, val_dataloader, test_dataloader, model\n",
    "    torch.manual_seed(Config().SEED)\n",
    "\n",
    "    criterion = nn.BCEWithLogitsLoss()\n",
    "\n",
    "    if Config().FULL_FINETUNING:\n",
    "        param_optimizer = list(model.named_parameters())\n",
    "        no_decay = [\"bias\", \"LayerNorm.bias\", \"LayerNorm.weight\"]\n",
    "        optimizer_parameters = [\n",
    "            {\n",
    "                \"params\": [\n",
    "                    p for n, p in param_optimizer if not any(nd in n for nd in no_decay)\n",
    "                ],\n",
    "                \"weight_decay\": 0.001,\n",
    "            },\n",
    "            {\n",
    "                \"params\": [\n",
    "                    p for n, p in param_optimizer if any(nd in n for nd in no_decay)\n",
    "                ],\n",
    "                \"weight_decay\": 0.0,\n",
    "            },\n",
    "        ]\n",
    "        optimizer = optim.AdamW(optimizer_parameters, lr=Config().LR)\n",
    "\n",
    "    num_training_steps = len(train_dataloader) * Config().EPOCHS\n",
    "    scheduler = get_linear_schedule_with_warmup(\n",
    "        optimizer,\n",
    "        num_warmup_steps=0,\n",
    "        num_training_steps=num_training_steps\n",
    "    )\n",
    "\n",
    "    max_val_weighted_f1_score = float('-inf')\n",
    "    for epoch in range(Config().EPOCHS):\n",
    "        train(model, train_dataloader, val_dataloader, criterion, optimizer, scheduler, epoch)\n",
    "        val_weighted_f1_score = val(model, val_dataloader, criterion)\n",
    "\n",
    "        if Config().SAVE_BEST_ONLY:\n",
    "            if val_weighted_f1_score > max_val_weighted_f1_score:\n",
    "                best_model = copy.deepcopy(model)\n",
    "\n",
    "                model_name = 'secroberta_best_model'\n",
    "                torch.save(best_model.state_dict(), model_name + '.pt')\n",
    "\n",
    "                print(f'--- Best Model. Val: {max_val_weighted_f1_score} -> {val_weighted_f1_score}')\n",
    "                max_val_weighted_f1_score = val_weighted_f1_score\n",
    "\n",
    "    return best_model, max_val_weighted_f1_score"
   ]
  },
  {
   "cell_type": "markdown",
   "id": "cb777d10",
   "metadata": {},
   "source": [
    "# Tactic_multi model"
   ]
  },
  {
   "cell_type": "code",
   "execution_count": 36,
   "id": "c0e7fb55",
   "metadata": {},
   "outputs": [],
   "source": [
    "from sklearn.metrics import coverage_error, label_ranking_average_precision_score, label_ranking_loss\n",
    "from sklearn.metrics import hamming_loss, precision_score, recall_score, f1_score, fbeta_score\n",
    "from sklearn.metrics import accuracy_score"
   ]
  },
  {
   "cell_type": "code",
   "execution_count": 37,
   "id": "43a5c244",
   "metadata": {},
   "outputs": [
    {
     "name": "stderr",
     "output_type": "stream",
     "text": [
      "Xet Storage is enabled for this repo, but the 'hf_xet' package is not installed. Falling back to regular HTTP download. For better performance, install the package with: `pip install huggingface_hub[hf_xet]` or `pip install hf_xet`\n"
     ]
    },
    {
     "data": {
      "application/vnd.jupyter.widget-view+json": {
       "model_id": "dac8ee2928324d2a8611206a62170103",
       "version_major": 2,
       "version_minor": 0
      },
      "text/plain": [
       "model.safetensors:   0%|          | 0.00/440M [00:00<?, ?B/s]"
      ]
     },
     "metadata": {},
     "output_type": "display_data"
    },
    {
     "data": {
      "text/plain": [
       "Model(\n",
       "  (transformer_model): BertModel(\n",
       "    (embeddings): BertEmbeddings(\n",
       "      (word_embeddings): Embedding(30522, 768, padding_idx=0)\n",
       "      (position_embeddings): Embedding(512, 768)\n",
       "      (token_type_embeddings): Embedding(2, 768)\n",
       "      (LayerNorm): LayerNorm((768,), eps=1e-12, elementwise_affine=True)\n",
       "      (dropout): Dropout(p=0.1, inplace=False)\n",
       "    )\n",
       "    (encoder): BertEncoder(\n",
       "      (layer): ModuleList(\n",
       "        (0-11): 12 x BertLayer(\n",
       "          (attention): BertAttention(\n",
       "            (self): BertSdpaSelfAttention(\n",
       "              (query): Linear(in_features=768, out_features=768, bias=True)\n",
       "              (key): Linear(in_features=768, out_features=768, bias=True)\n",
       "              (value): Linear(in_features=768, out_features=768, bias=True)\n",
       "              (dropout): Dropout(p=0.1, inplace=False)\n",
       "            )\n",
       "            (output): BertSelfOutput(\n",
       "              (dense): Linear(in_features=768, out_features=768, bias=True)\n",
       "              (LayerNorm): LayerNorm((768,), eps=1e-12, elementwise_affine=True)\n",
       "              (dropout): Dropout(p=0.1, inplace=False)\n",
       "            )\n",
       "          )\n",
       "          (intermediate): BertIntermediate(\n",
       "            (dense): Linear(in_features=768, out_features=3072, bias=True)\n",
       "            (intermediate_act_fn): GELUActivation()\n",
       "          )\n",
       "          (output): BertOutput(\n",
       "            (dense): Linear(in_features=3072, out_features=768, bias=True)\n",
       "            (LayerNorm): LayerNorm((768,), eps=1e-12, elementwise_affine=True)\n",
       "            (dropout): Dropout(p=0.1, inplace=False)\n",
       "          )\n",
       "        )\n",
       "      )\n",
       "    )\n",
       "    (pooler): BertPooler(\n",
       "      (dense): Linear(in_features=768, out_features=768, bias=True)\n",
       "      (activation): Tanh()\n",
       "    )\n",
       "  )\n",
       "  (dropout): Dropout(p=0.3, inplace=False)\n",
       "  (output): Linear(in_features=768, out_features=14, bias=True)\n",
       ")"
      ]
     },
     "execution_count": 37,
     "metadata": {},
     "output_type": "execute_result"
    }
   ],
   "source": [
    "project_dir = './'\n",
    "config = Config()\n",
    "device = Config().DEVICE\n",
    "model = Model()\n",
    "model.to(device)"
   ]
  },
  {
   "cell_type": "code",
   "execution_count": 38,
   "id": "e5534c84",
   "metadata": {},
   "outputs": [
    {
     "name": "stderr",
     "output_type": "stream",
     "text": [
      "Epoch 0:   0%|          | 0/76 [00:00<?, ?it/s]"
     ]
    },
    {
     "name": "stdout",
     "output_type": "stream",
     "text": [
      "-- Step: 0\n"
     ]
    },
    {
     "name": "stderr",
     "output_type": "stream",
     "text": [
      "Epoch 0:   1%|▏         | 1/76 [00:04<05:46,  4.62s/it]"
     ]
    },
    {
     "name": "stdout",
     "output_type": "stream",
     "text": [
      "{'f1_sampled': 0.207720532391585, 'f1_micro': 0.22700587084148727, 'f1_macro': 0.12198549115504297, 'f_05_sample': 0.16612840385552088, 'f_05_micro': 0.1728247914183552, 'f_05_macro': 0.10213858952702962, 'precision_sampled': 0.1481516290726817, 'precision_micro': 0.14910025706940874, 'precision_macro': 0.09698613286831799, 'recall_sampled': 0.43410087719298246, 'recall_micro': 0.47540983606557374, 'recall_macro': 0.3146799993582339, 'accuracy': 0.0, 'coverage_error': np.float64(10.625), 'label_ranking_loss': np.float64(0.6470425407925408), 'lrap': np.float64(0.23015873015873012)}\n"
     ]
    },
    {
     "name": "stderr",
     "output_type": "stream",
     "text": [
      "Epoch 0: 100%|██████████| 76/76 [00:27<00:00,  2.80it/s]\n"
     ]
    },
    {
     "name": "stdout",
     "output_type": "stream",
     "text": [
      "Training loss: 0.39446987407772166\n",
      "{'f1_sampled': 0.0, 'f1_micro': 0.0, 'f1_macro': 0.0, 'f_05_sample': 0.0, 'f_05_micro': 0.0, 'f_05_macro': 0.0, 'precision_sampled': 0.0, 'precision_micro': 0.0, 'precision_macro': 0.0, 'recall_sampled': 0.0, 'recall_micro': 0.0, 'recall_macro': 0.0, 'accuracy': 0.05921052631578947, 'coverage_error': np.float64(14.0), 'label_ranking_loss': np.float64(1.0), 'lrap': np.float64(0.1607142857142857)}\n",
      "--- Best Model. Val: -inf -> 0.0\n"
     ]
    },
    {
     "name": "stderr",
     "output_type": "stream",
     "text": [
      "Epoch 1:   0%|          | 0/76 [00:00<?, ?it/s]"
     ]
    },
    {
     "name": "stdout",
     "output_type": "stream",
     "text": [
      "-- Step: 0\n"
     ]
    },
    {
     "name": "stderr",
     "output_type": "stream",
     "text": [
      "Epoch 1:   1%|▏         | 1/76 [00:02<03:36,  2.88s/it]"
     ]
    },
    {
     "name": "stdout",
     "output_type": "stream",
     "text": [
      "{'f1_sampled': 0.0, 'f1_micro': 0.0, 'f1_macro': 0.0, 'f_05_sample': 0.0, 'f_05_micro': 0.0, 'f_05_macro': 0.0, 'precision_sampled': 0.0, 'precision_micro': 0.0, 'precision_macro': 0.0, 'recall_sampled': 0.0, 'recall_micro': 0.0, 'recall_macro': 0.0, 'accuracy': 0.05921052631578947, 'coverage_error': np.float64(14.0), 'label_ranking_loss': np.float64(1.0), 'lrap': np.float64(0.1607142857142857)}\n"
     ]
    },
    {
     "name": "stderr",
     "output_type": "stream",
     "text": [
      "Epoch 1: 100%|██████████| 76/76 [01:20<00:00,  1.06s/it]\n"
     ]
    },
    {
     "name": "stdout",
     "output_type": "stream",
     "text": [
      "Training loss: 0.2967533482924888\n",
      "{'f1_sampled': 0.0, 'f1_micro': 0.0, 'f1_macro': 0.0, 'f_05_sample': 0.0, 'f_05_micro': 0.0, 'f_05_macro': 0.0, 'precision_sampled': 0.0, 'precision_micro': 0.0, 'precision_macro': 0.0, 'recall_sampled': 0.0, 'recall_micro': 0.0, 'recall_macro': 0.0, 'accuracy': 0.05921052631578947, 'coverage_error': np.float64(14.0), 'label_ranking_loss': np.float64(1.0), 'lrap': np.float64(0.1607142857142857)}\n"
     ]
    },
    {
     "name": "stderr",
     "output_type": "stream",
     "text": [
      "Epoch 2:   0%|          | 0/76 [00:00<?, ?it/s]"
     ]
    },
    {
     "name": "stdout",
     "output_type": "stream",
     "text": [
      "-- Step: 0\n"
     ]
    },
    {
     "name": "stderr",
     "output_type": "stream",
     "text": [
      "Epoch 2:   1%|▏         | 1/76 [00:02<03:22,  2.70s/it]"
     ]
    },
    {
     "name": "stdout",
     "output_type": "stream",
     "text": [
      "{'f1_sampled': 0.0, 'f1_micro': 0.0, 'f1_macro': 0.0, 'f_05_sample': 0.0, 'f_05_micro': 0.0, 'f_05_macro': 0.0, 'precision_sampled': 0.0, 'precision_micro': 0.0, 'precision_macro': 0.0, 'recall_sampled': 0.0, 'recall_micro': 0.0, 'recall_macro': 0.0, 'accuracy': 0.05921052631578947, 'coverage_error': np.float64(14.0), 'label_ranking_loss': np.float64(1.0), 'lrap': np.float64(0.1607142857142857)}\n"
     ]
    },
    {
     "name": "stderr",
     "output_type": "stream",
     "text": [
      "Epoch 2: 100%|██████████| 76/76 [01:19<00:00,  1.05s/it]\n"
     ]
    },
    {
     "name": "stdout",
     "output_type": "stream",
     "text": [
      "Training loss: 0.2841561575861354\n",
      "{'f1_sampled': 0.21425438596491225, 'f1_micro': 0.2857142857142857, 'f1_macro': 0.08204876452299133, 'f_05_sample': 0.23578477443609022, 'f_05_micro': 0.4555084745762712, 'f_05_macro': 0.09667513293527018, 'precision_sampled': 0.2598684210526316, 'precision_micro': 0.7543859649122807, 'precision_macro': 0.11238761238761238, 'recall_sampled': 0.19791666666666669, 'recall_micro': 0.1762295081967213, 'recall_macro': 0.06768025606469003, 'accuracy': 0.16447368421052633, 'coverage_error': np.float64(14.0), 'label_ranking_loss': np.float64(1.0), 'lrap': np.float64(0.1607142857142857)}\n",
      "--- Best Model. Val: 0.0 -> 0.2074324451204627\n"
     ]
    },
    {
     "name": "stderr",
     "output_type": "stream",
     "text": [
      "Epoch 3:   0%|          | 0/76 [00:00<?, ?it/s]"
     ]
    },
    {
     "name": "stdout",
     "output_type": "stream",
     "text": [
      "-- Step: 0\n"
     ]
    },
    {
     "name": "stderr",
     "output_type": "stream",
     "text": [
      "Epoch 3:   1%|▏         | 1/76 [00:02<03:07,  2.50s/it]"
     ]
    },
    {
     "name": "stdout",
     "output_type": "stream",
     "text": [
      "{'f1_sampled': 0.1989035087719298, 'f1_micro': 0.2702702702702703, 'f1_macro': 0.07912638739706408, 'f_05_sample': 0.21824091478696744, 'f_05_micro': 0.4424778761061947, 'f_05_macro': 0.09808410543704661, 'precision_sampled': 0.24013157894736842, 'precision_micro': 0.7692307692307693, 'precision_macro': 0.12244897959183675, 'recall_sampled': 0.18475877192982457, 'recall_micro': 0.16393442622950818, 'recall_macro': 0.06275269541778976, 'accuracy': 0.15789473684210525, 'coverage_error': np.float64(14.0), 'label_ranking_loss': np.float64(1.0), 'lrap': np.float64(0.1607142857142857)}\n"
     ]
    },
    {
     "name": "stderr",
     "output_type": "stream",
     "text": [
      "Epoch 3: 100%|██████████| 76/76 [01:03<00:00,  1.19it/s]\n"
     ]
    },
    {
     "name": "stdout",
     "output_type": "stream",
     "text": [
      "Training loss: 0.2640937868701784\n",
      "{'f1_sampled': 0.34849624060150375, 'f1_micro': 0.42777777777777776, 'f1_macro': 0.14185674269707885, 'f_05_sample': 0.372661421181158, 'f_05_micro': 0.5437853107344632, 'f_05_macro': 0.16369355580678654, 'precision_sampled': 0.40460526315789475, 'precision_micro': 0.6637931034482759, 'precision_macro': 0.21348850274573108, 'recall_sampled': 0.3384868421052632, 'recall_micro': 0.3155737704918033, 'recall_macro': 0.1313898457250004, 'accuracy': 0.23026315789473684, 'coverage_error': np.float64(12.5), 'label_ranking_loss': np.float64(0.6919070512820513), 'lrap': np.float64(0.3452380952380953)}\n",
      "--- Best Model. Val: 0.2074324451204627 -> 0.33661948385911744\n"
     ]
    },
    {
     "name": "stderr",
     "output_type": "stream",
     "text": [
      "Epoch 4:   0%|          | 0/76 [00:00<?, ?it/s]"
     ]
    },
    {
     "name": "stdout",
     "output_type": "stream",
     "text": [
      "-- Step: 0\n"
     ]
    },
    {
     "name": "stderr",
     "output_type": "stream",
     "text": [
      "Epoch 4:   1%|▏         | 1/76 [00:02<02:58,  2.37s/it]"
     ]
    },
    {
     "name": "stdout",
     "output_type": "stream",
     "text": [
      "{'f1_sampled': 0.3511278195488722, 'f1_micro': 0.43010752688172044, 'f1_macro': 0.14338415207980423, 'f_05_sample': 0.3727527954501639, 'f_05_micro': 0.5291005291005291, 'f_05_macro': 0.16341316351370744, 'precision_sampled': 0.40460526315789475, 'precision_micro': 0.625, 'precision_macro': 0.2054157175916799, 'recall_sampled': 0.35000000000000003, 'recall_micro': 0.32786885245901637, 'recall_macro': 0.13595693609683415, 'accuracy': 0.21710526315789475, 'coverage_error': np.float64(12.5), 'label_ranking_loss': np.float64(0.6919070512820513), 'lrap': np.float64(0.3452380952380953)}\n"
     ]
    },
    {
     "name": "stderr",
     "output_type": "stream",
     "text": [
      "Epoch 4: 100%|██████████| 76/76 [00:57<00:00,  1.31it/s]\n"
     ]
    },
    {
     "name": "stdout",
     "output_type": "stream",
     "text": [
      "Training loss: 0.23800126816097059\n",
      "{'f1_sampled': 0.31920426065162905, 'f1_micro': 0.3942857142857143, 'f1_macro': 0.1276697648499128, 'f_05_sample': 0.3438674812030075, 'f_05_micro': 0.5164670658682635, 'f_05_macro': 0.1493948069423848, 'precision_sampled': 0.375, 'precision_micro': 0.6509433962264151, 'precision_macro': 0.2107844486022452, 'recall_sampled': 0.3053728070175439, 'recall_micro': 0.2827868852459016, 'recall_macro': 0.11749499840953607, 'accuracy': 0.19736842105263158, 'coverage_error': np.float64(12.5), 'label_ranking_loss': np.float64(0.7335737179487178), 'lrap': np.float64(0.31249999999999994)}\n"
     ]
    },
    {
     "name": "stderr",
     "output_type": "stream",
     "text": [
      "Epoch 5:   0%|          | 0/76 [00:00<?, ?it/s]"
     ]
    },
    {
     "name": "stdout",
     "output_type": "stream",
     "text": [
      "-- Step: 0\n"
     ]
    },
    {
     "name": "stderr",
     "output_type": "stream",
     "text": [
      "Epoch 5:   1%|▏         | 1/76 [00:02<03:01,  2.43s/it]"
     ]
    },
    {
     "name": "stdout",
     "output_type": "stream",
     "text": [
      "{'f1_sampled': 0.3419172932330827, 'f1_micro': 0.41509433962264153, 'f1_macro': 0.13670256835128416, 'f_05_sample': 0.3646204855086434, 'f_05_micro': 0.511968085106383, 'f_05_macro': 0.15565176083434887, 'precision_sampled': 0.39473684210526316, 'precision_micro': 0.6062992125984252, 'precision_macro': 0.19348118122105332, 'recall_sampled': 0.33190789473684207, 'recall_micro': 0.3155737704918033, 'recall_macro': 0.13129855100366644, 'accuracy': 0.20394736842105263, 'coverage_error': np.float64(12.5), 'label_ranking_loss': np.float64(0.6919070512820513), 'lrap': np.float64(0.3452380952380953)}\n"
     ]
    },
    {
     "name": "stderr",
     "output_type": "stream",
     "text": [
      "Epoch 5: 100%|██████████| 76/76 [00:58<00:00,  1.30it/s]\n"
     ]
    },
    {
     "name": "stdout",
     "output_type": "stream",
     "text": [
      "Training loss: 0.2124036466212649\n",
      "{'f1_sampled': 0.39902882205513784, 'f1_micro': 0.46831955922865015, 'f1_macro': 0.1982109172490787, 'f_05_sample': 0.43020311194653305, 'f_05_micro': 0.5902777777777778, 'f_05_macro': 0.24651837745825608, 'precision_sampled': 0.47039473684210525, 'precision_micro': 0.7142857142857143, 'precision_macro': 0.3125059457745362, 'recall_sampled': 0.37883771929824556, 'recall_micro': 0.3483606557377049, 'recall_macro': 0.15900228793958818, 'accuracy': 0.28289473684210525, 'coverage_error': np.float64(12.5), 'label_ranking_loss': np.float64(0.717948717948718), 'lrap': np.float64(0.3541666666666667)}\n",
      "--- Best Model. Val: 0.33661948385911744 -> 0.4183418201968676\n"
     ]
    },
    {
     "name": "stderr",
     "output_type": "stream",
     "text": [
      "Epoch 6:   0%|          | 0/76 [00:00<?, ?it/s]"
     ]
    },
    {
     "name": "stdout",
     "output_type": "stream",
     "text": [
      "-- Step: 0\n"
     ]
    },
    {
     "name": "stderr",
     "output_type": "stream",
     "text": [
      "Epoch 6:   1%|▏         | 1/76 [00:02<03:03,  2.44s/it]"
     ]
    },
    {
     "name": "stdout",
     "output_type": "stream",
     "text": [
      "{'f1_sampled': 0.4154761904761905, 'f1_micro': 0.4838709677419355, 'f1_macro': 0.2033041009447543, 'f_05_sample': 0.4466504803675856, 'f_05_micro': 0.5952380952380952, 'f_05_macro': 0.24853991675268805, 'precision_sampled': 0.4868421052631579, 'precision_micro': 0.703125, 'precision_macro': 0.30989414396855414, 'recall_sampled': 0.3952850877192982, 'recall_micro': 0.36885245901639346, 'recall_macro': 0.16706126384247227, 'accuracy': 0.29605263157894735, 'coverage_error': np.float64(12.5), 'label_ranking_loss': np.float64(0.686698717948718), 'lrap': np.float64(0.3764880952380953)}\n"
     ]
    },
    {
     "name": "stderr",
     "output_type": "stream",
     "text": [
      "Epoch 6: 100%|██████████| 76/76 [01:03<00:00,  1.21it/s]\n"
     ]
    },
    {
     "name": "stdout",
     "output_type": "stream",
     "text": [
      "Training loss: 0.1941729017386311\n",
      "{'f1_sampled': 0.37493734335839596, 'f1_micro': 0.45194805194805193, 'f1_macro': 0.17153385971051918, 'f_05_sample': 0.403828581871345, 'f_05_micro': 0.5383663366336634, 'f_05_macro': 0.21099498296171487, 'precision_sampled': 0.4407894736842105, 'precision_micro': 0.6170212765957447, 'precision_macro': 0.3409612074672315, 'recall_sampled': 0.3607456140350877, 'recall_micro': 0.35655737704918034, 'recall_macro': 0.15004515715605168, 'accuracy': 0.2236842105263158, 'coverage_error': np.float64(12.5), 'label_ranking_loss': np.float64(0.6898237179487179), 'lrap': np.float64(0.3608630952380953)}\n"
     ]
    },
    {
     "name": "stderr",
     "output_type": "stream",
     "text": [
      "Epoch 7:   0%|          | 0/76 [00:00<?, ?it/s]"
     ]
    },
    {
     "name": "stdout",
     "output_type": "stream",
     "text": [
      "-- Step: 0\n"
     ]
    },
    {
     "name": "stderr",
     "output_type": "stream",
     "text": [
      "Epoch 7:   1%|▏         | 1/76 [00:02<03:04,  2.45s/it]"
     ]
    },
    {
     "name": "stdout",
     "output_type": "stream",
     "text": [
      "{'f1_sampled': 0.38195488721804505, 'f1_micro': 0.46113989637305697, 'f1_macro': 0.18794839042797656, 'f_05_sample': 0.4101856203007519, 'f_05_micro': 0.5480295566502463, 'f_05_macro': 0.23333394872552277, 'precision_sampled': 0.4473684210526316, 'precision_micro': 0.6267605633802817, 'precision_macro': 0.30677655677655674, 'recall_sampled': 0.37006578947368424, 'recall_micro': 0.36475409836065575, 'recall_macro': 0.15802780807003763, 'accuracy': 0.23026315789473684, 'coverage_error': np.float64(12.5), 'label_ranking_loss': np.float64(0.6898237179487179), 'lrap': np.float64(0.3608630952380953)}\n"
     ]
    },
    {
     "name": "stderr",
     "output_type": "stream",
     "text": [
      "Epoch 7: 100%|██████████| 76/76 [01:03<00:00,  1.20it/s]\n"
     ]
    },
    {
     "name": "stdout",
     "output_type": "stream",
     "text": [
      "Training loss: 0.18201037623772495\n",
      "{'f1_sampled': 0.4283208020050125, 'f1_micro': 0.4876847290640394, 'f1_macro': 0.20703393777784826, 'f_05_sample': 0.45969007235454606, 'f_05_micro': 0.554932735426009, 'f_05_macro': 0.22635009916373505, 'precision_sampled': 0.5021929824561403, 'precision_micro': 0.6111111111111112, 'precision_macro': 0.26017569818625125, 'recall_sampled': 0.4141447368421053, 'recall_micro': 0.4057377049180328, 'recall_macro': 0.1962274392020393, 'accuracy': 0.26973684210526316, 'coverage_error': np.float64(10.875), 'label_ranking_loss': np.float64(0.5512820512820513), 'lrap': np.float64(0.5029761904761905)}\n",
      "--- Best Model. Val: 0.4183418201968676 -> 0.4280196833834365\n"
     ]
    },
    {
     "name": "stderr",
     "output_type": "stream",
     "text": [
      "Epoch 8:   0%|          | 0/76 [00:00<?, ?it/s]"
     ]
    },
    {
     "name": "stdout",
     "output_type": "stream",
     "text": [
      "-- Step: 0\n"
     ]
    },
    {
     "name": "stderr",
     "output_type": "stream",
     "text": [
      "Epoch 8:   1%|▏         | 1/76 [00:02<03:15,  2.60s/it]"
     ]
    },
    {
     "name": "stdout",
     "output_type": "stream",
     "text": [
      "{'f1_sampled': 0.4384085213032582, 'f1_micro': 0.4975369458128079, 'f1_macro': 0.21283800416864931, 'f_05_sample': 0.4707071985032511, 'f_05_micro': 0.5661434977578476, 'f_05_macro': 0.23771829478191514, 'precision_sampled': 0.5142543859649122, 'precision_micro': 0.6234567901234568, 'precision_macro': 0.2973964310999125, 'recall_sampled': 0.42401315789473676, 'recall_micro': 0.4139344262295082, 'recall_macro': 0.20003820228411012, 'accuracy': 0.27631578947368424, 'coverage_error': np.float64(11.0), 'label_ranking_loss': np.float64(0.5608974358974359), 'lrap': np.float64(0.4404761904761904)}\n"
     ]
    },
    {
     "name": "stderr",
     "output_type": "stream",
     "text": [
      "Epoch 8: 100%|██████████| 76/76 [01:09<00:00,  1.09it/s]\n"
     ]
    },
    {
     "name": "stdout",
     "output_type": "stream",
     "text": [
      "Training loss: 0.16431864203983232\n",
      "{'f1_sampled': 0.4543546365914787, 'f1_micro': 0.5124378109452736, 'f1_macro': 0.23181317886050845, 'f_05_sample': 0.4827751287455234, 'f_05_micro': 0.5878995433789954, 'f_05_macro': 0.2562272182229685, 'precision_sampled': 0.5197368421052632, 'precision_micro': 0.6518987341772152, 'precision_macro': 0.2788349077822762, 'recall_sampled': 0.44046052631578947, 'recall_micro': 0.42213114754098363, 'recall_macro': 0.20448977434976515, 'accuracy': 0.29605263157894735, 'coverage_error': np.float64(12.5), 'label_ranking_loss': np.float64(0.6762820512820513), 'lrap': np.float64(0.3869047619047619)}\n",
      "--- Best Model. Val: 0.4280196833834365 -> 0.47014144607696856\n"
     ]
    },
    {
     "name": "stderr",
     "output_type": "stream",
     "text": [
      "Epoch 9:   0%|          | 0/76 [00:00<?, ?it/s]"
     ]
    },
    {
     "name": "stdout",
     "output_type": "stream",
     "text": [
      "-- Step: 0\n"
     ]
    },
    {
     "name": "stderr",
     "output_type": "stream",
     "text": [
      "Epoch 9:   1%|▏         | 1/76 [00:02<02:49,  2.27s/it]"
     ]
    },
    {
     "name": "stdout",
     "output_type": "stream",
     "text": [
      "{'f1_sampled': 0.456547619047619, 'f1_micro': 0.5135802469135803, 'f1_macro': 0.23060897130524985, 'f_05_sample': 0.48493999604196975, 'f_05_micro': 0.5855855855855856, 'f_05_macro': 0.2563661355093875, 'precision_sampled': 0.5219298245614035, 'precision_micro': 0.6459627329192547, 'precision_macro': 0.28384665221399913, 'recall_sampled': 0.44375000000000003, 'recall_micro': 0.4262295081967213, 'recall_macro': 0.20472213795233046, 'accuracy': 0.3026315789473684, 'coverage_error': np.float64(12.5), 'label_ranking_loss': np.float64(0.6762820512820513), 'lrap': np.float64(0.3869047619047619)}\n"
     ]
    },
    {
     "name": "stderr",
     "output_type": "stream",
     "text": [
      "Epoch 9: 100%|██████████| 76/76 [00:55<00:00,  1.38it/s]\n"
     ]
    },
    {
     "name": "stdout",
     "output_type": "stream",
     "text": [
      "Training loss: 0.1422507080592607\n",
      "{'f1_sampled': 0.46284461152882206, 'f1_micro': 0.5147058823529411, 'f1_macro': 0.25422762441779023, 'f_05_sample': 0.49569390770048666, 'f_05_micro': 0.5833333333333334, 'f_05_macro': 0.28400411133267994, 'precision_sampled': 0.5339912280701754, 'precision_micro': 0.6402439024390244, 'precision_macro': 0.33910173647015757, 'recall_sampled': 0.43881578947368416, 'recall_micro': 0.430327868852459, 'recall_macro': 0.227908035497397, 'accuracy': 0.3026315789473684, 'coverage_error': np.float64(12.5), 'label_ranking_loss': np.float64(0.68006993006993), 'lrap': np.float64(0.36607142857142855)}\n",
      "--- Best Model. Val: 0.47014144607696856 -> 0.48255840806227546\n"
     ]
    },
    {
     "name": "stderr",
     "output_type": "stream",
     "text": [
      "Epoch 10:   0%|          | 0/76 [00:00<?, ?it/s]"
     ]
    },
    {
     "name": "stdout",
     "output_type": "stream",
     "text": [
      "-- Step: 0\n"
     ]
    },
    {
     "name": "stderr",
     "output_type": "stream",
     "text": [
      "Epoch 10:   1%|▏         | 1/76 [00:02<03:03,  2.45s/it]"
     ]
    },
    {
     "name": "stdout",
     "output_type": "stream",
     "text": [
      "{'f1_sampled': 0.4661340852130326, 'f1_micro': 0.5194174757281553, 'f1_macro': 0.2561478604450344, 'f_05_sample': 0.49856567044067046, 'f_05_micro': 0.584061135371179, 'f_05_macro': 0.2842395677251451, 'precision_sampled': 0.5372807017543859, 'precision_micro': 0.6369047619047619, 'precision_macro': 0.33716640289220934, 'recall_sampled': 0.4442982456140351, 'recall_micro': 0.4385245901639344, 'recall_macro': 0.2308085394233316, 'accuracy': 0.3026315789473684, 'coverage_error': np.float64(11.0), 'label_ranking_loss': np.float64(0.61756993006993), 'lrap': np.float64(0.41964285714285715)}\n"
     ]
    },
    {
     "name": "stderr",
     "output_type": "stream",
     "text": [
      "Epoch 10: 100%|██████████| 76/76 [01:01<00:00,  1.23it/s]\n"
     ]
    },
    {
     "name": "stdout",
     "output_type": "stream",
     "text": [
      "Training loss: 0.1281209711573626\n",
      "{'f1_sampled': 0.5020989974937343, 'f1_micro': 0.5370370370370371, 'f1_macro': 0.25061894237562327, 'f_05_sample': 0.5319077851972589, 'f_05_micro': 0.5823293172690763, 'f_05_macro': 0.25804717497264085, 'precision_sampled': 0.569078947368421, 'precision_micro': 0.6170212765957447, 'precision_macro': 0.2640577705283587, 'recall_sampled': 0.4876096491228071, 'recall_micro': 0.47540983606557374, 'recall_macro': 0.24164611856406543, 'accuracy': 0.3223684210526316, 'coverage_error': np.float64(9.375), 'label_ranking_loss': np.float64(0.43006993006993005), 'lrap': np.float64(0.5892857142857143)}\n",
      "--- Best Model. Val: 0.48255840806227546 -> 0.4936580327626234\n"
     ]
    },
    {
     "name": "stderr",
     "output_type": "stream",
     "text": [
      "Epoch 11:   0%|          | 0/76 [00:00<?, ?it/s]"
     ]
    },
    {
     "name": "stdout",
     "output_type": "stream",
     "text": [
      "-- Step: 0\n"
     ]
    },
    {
     "name": "stderr",
     "output_type": "stream",
     "text": [
      "Epoch 11:   1%|▏         | 1/76 [00:02<02:56,  2.35s/it]"
     ]
    },
    {
     "name": "stdout",
     "output_type": "stream",
     "text": [
      "{'f1_sampled': 0.493327067669173, 'f1_micro': 0.5287356321839081, 'f1_macro': 0.24640495821173064, 'f_05_sample': 0.5224048612206506, 'f_05_micro': 0.5704365079365079, 'f_05_macro': 0.25284950289759833, 'precision_sampled': 0.5592105263157895, 'precision_micro': 0.6020942408376964, 'precision_macro': 0.25822240607954894, 'recall_sampled': 0.481030701754386, 'recall_micro': 0.4713114754098361, 'recall_macro': 0.2391830643768733, 'accuracy': 0.3092105263157895, 'coverage_error': np.float64(9.375), 'label_ranking_loss': np.float64(0.43006993006993005), 'lrap': np.float64(0.5892857142857143)}\n"
     ]
    },
    {
     "name": "stderr",
     "output_type": "stream",
     "text": [
      "Epoch 11: 100%|██████████| 76/76 [01:03<00:00,  1.20it/s]\n"
     ]
    },
    {
     "name": "stdout",
     "output_type": "stream",
     "text": [
      "Training loss: 0.11493452314875628\n",
      "{'f1_sampled': 0.43236215538847117, 'f1_micro': 0.4925373134328358, 'f1_macro': 0.22561496250715843, 'f_05_sample': 0.45431323062902007, 'f_05_micro': 0.565068493150685, 'f_05_macro': 0.24688405067636277, 'precision_sampled': 0.48245614035087714, 'precision_micro': 0.6265822784810127, 'precision_macro': 0.26533979450059675, 'recall_sampled': 0.4251096491228071, 'recall_micro': 0.4057377049180328, 'recall_macro': 0.2000075431976606, 'accuracy': 0.2894736842105263, 'coverage_error': np.float64(9.375), 'label_ranking_loss': np.float64(0.4473994755244755), 'lrap': np.float64(0.5562996031746031)}\n"
     ]
    },
    {
     "name": "stderr",
     "output_type": "stream",
     "text": [
      "Epoch 12:   0%|          | 0/76 [00:00<?, ?it/s]"
     ]
    },
    {
     "name": "stdout",
     "output_type": "stream",
     "text": [
      "-- Step: 0\n"
     ]
    },
    {
     "name": "stderr",
     "output_type": "stream",
     "text": [
      "Epoch 12:   1%|▏         | 1/76 [00:02<02:56,  2.35s/it]"
     ]
    },
    {
     "name": "stdout",
     "output_type": "stream",
     "text": [
      "{'f1_sampled': 0.47402882205513786, 'f1_micro': 0.5202863961813843, 'f1_macro': 0.24159012194729318, 'f_05_sample': 0.5019844921160711, 'f_05_micro': 0.5773305084745762, 'f_05_macro': 0.25440521881425127, 'precision_sampled': 0.5383771929824561, 'precision_micro': 0.6228571428571429, 'precision_macro': 0.26445887445887445, 'recall_sampled': 0.4634868421052631, 'recall_micro': 0.44672131147540983, 'recall_macro': 0.22477836517340097, 'accuracy': 0.3092105263157895, 'coverage_error': np.float64(9.375), 'label_ranking_loss': np.float64(0.4057328088578088), 'lrap': np.float64(0.5890376984126984)}\n"
     ]
    },
    {
     "name": "stderr",
     "output_type": "stream",
     "text": [
      "Epoch 12: 100%|██████████| 76/76 [01:03<00:00,  1.20it/s]\n"
     ]
    },
    {
     "name": "stdout",
     "output_type": "stream",
     "text": [
      "Training loss: 0.10465837691567446\n",
      "{'f1_sampled': 0.4317042606516291, 'f1_micro': 0.48936170212765956, 'f1_macro': 0.22471571056476716, 'f_05_sample': 0.46975630363788257, 'f_05_micro': 0.5958549222797928, 'f_05_macro': 0.26370978302858206, 'precision_sampled': 0.5164473684210527, 'precision_micro': 0.696969696969697, 'precision_macro': 0.3054464553116844, 'recall_sampled': 0.4029605263157895, 'recall_micro': 0.3770491803278688, 'recall_macro': 0.18589689760754327, 'accuracy': 0.28289473684210525, 'coverage_error': np.float64(11.0), 'label_ranking_loss': np.float64(0.6311115967365968), 'lrap': np.float64(0.3936011904761905)}\n"
     ]
    },
    {
     "name": "stderr",
     "output_type": "stream",
     "text": [
      "Epoch 13:   0%|          | 0/76 [00:00<?, ?it/s]"
     ]
    },
    {
     "name": "stdout",
     "output_type": "stream",
     "text": [
      "-- Step: 0\n"
     ]
    },
    {
     "name": "stderr",
     "output_type": "stream",
     "text": [
      "Epoch 13:   1%|▏         | 1/76 [00:02<02:56,  2.35s/it]"
     ]
    },
    {
     "name": "stdout",
     "output_type": "stream",
     "text": [
      "{'f1_sampled': 0.4338972431077694, 'f1_micro': 0.49214659685863876, 'f1_macro': 0.22590542426608, 'f_05_sample': 0.47048729778992937, 'f_05_micro': 0.5904522613065326, 'f_05_macro': 0.2619543364369901, 'precision_sampled': 0.5164473684210527, 'precision_micro': 0.6811594202898551, 'precision_macro': 0.2998972645711776, 'recall_sampled': 0.4095394736842105, 'recall_micro': 0.38524590163934425, 'recall_macro': 0.18968183549574205, 'accuracy': 0.27631578947368424, 'coverage_error': np.float64(11.0), 'label_ranking_loss': np.float64(0.6311115967365968), 'lrap': np.float64(0.3936011904761905)}\n"
     ]
    },
    {
     "name": "stderr",
     "output_type": "stream",
     "text": [
      "Epoch 13: 100%|██████████| 76/76 [01:03<00:00,  1.20it/s]\n"
     ]
    },
    {
     "name": "stdout",
     "output_type": "stream",
     "text": [
      "Training loss: 0.09632360322498962\n",
      "{'f1_sampled': 0.35451127819548867, 'f1_micro': 0.42528735632183906, 'f1_macro': 0.18801161882794534, 'f_05_sample': 0.39690371762740184, 'f_05_micro': 0.5606060606060606, 'f_05_macro': 0.23582541748685376, 'precision_sampled': 0.4473684210526316, 'precision_micro': 0.7115384615384616, 'precision_macro': 0.29744897959183675, 'recall_sampled': 0.31743421052631576, 'recall_micro': 0.30327868852459017, 'recall_macro': 0.1458244853956028, 'accuracy': 0.21710526315789475, 'coverage_error': np.float64(14.0), 'label_ranking_loss': np.float64(0.8052083333333333), 'lrap': np.float64(0.3072916666666667)}\n"
     ]
    },
    {
     "name": "stderr",
     "output_type": "stream",
     "text": [
      "Epoch 14:   0%|          | 0/76 [00:00<?, ?it/s]"
     ]
    },
    {
     "name": "stdout",
     "output_type": "stream",
     "text": [
      "-- Step: 0\n"
     ]
    },
    {
     "name": "stderr",
     "output_type": "stream",
     "text": [
      "Epoch 14:   1%|▏         | 1/76 [00:02<02:58,  2.38s/it]"
     ]
    },
    {
     "name": "stdout",
     "output_type": "stream",
     "text": [
      "{'f1_sampled': 0.36109022556390974, 'f1_micro': 0.4297994269340974, 'f1_macro': 0.19126299050036968, 'f_05_sample': 0.4034826649958229, 'f_05_micro': 0.5647590361445783, 'f_05_macro': 0.23951844577004597, 'precision_sampled': 0.45394736842105265, 'precision_micro': 0.7142857142857143, 'precision_macro': 0.3004251700680272, 'recall_sampled': 0.32401315789473684, 'recall_micro': 0.3073770491803279, 'recall_macro': 0.14828753958279492, 'accuracy': 0.2236842105263158, 'coverage_error': np.float64(14.0), 'label_ranking_loss': np.float64(0.8052083333333333), 'lrap': np.float64(0.3072916666666667)}\n"
     ]
    },
    {
     "name": "stderr",
     "output_type": "stream",
     "text": [
      "Epoch 14: 100%|██████████| 76/76 [01:03<00:00,  1.20it/s]\n"
     ]
    },
    {
     "name": "stdout",
     "output_type": "stream",
     "text": [
      "Training loss: 0.09159299427349317\n",
      "{'f1_sampled': 0.39025689223057647, 'f1_micro': 0.4648648648648649, 'f1_macro': 0.2036365142990856, 'f_05_sample': 0.42448688007898533, 'f_05_micro': 0.5748663101604278, 'f_05_macro': 0.24392902537320185, 'precision_sampled': 0.46710526315789475, 'precision_micro': 0.6825396825396826, 'precision_macro': 0.29101644088166995, 'recall_sampled': 0.3675438596491228, 'recall_micro': 0.3524590163934426, 'recall_macro': 0.16606890769093696, 'accuracy': 0.23684210526315788, 'coverage_error': np.float64(12.5), 'label_ranking_loss': np.float64(0.6936115967365968), 'lrap': np.float64(0.3400297619047619)}\n"
     ]
    },
    {
     "name": "stderr",
     "output_type": "stream",
     "text": [
      "Epoch 15:   0%|          | 0/76 [00:00<?, ?it/s]"
     ]
    },
    {
     "name": "stdout",
     "output_type": "stream",
     "text": [
      "-- Step: 0\n"
     ]
    },
    {
     "name": "stderr",
     "output_type": "stream",
     "text": [
      "Epoch 15:   1%|▏         | 1/76 [00:02<02:59,  2.39s/it]"
     ]
    },
    {
     "name": "stdout",
     "output_type": "stream",
     "text": [
      "{'f1_sampled': 0.3924498746867167, 'f1_micro': 0.46070460704607047, 'f1_macro': 0.20464446691994143, 'f_05_sample': 0.42741085668717244, 'f_05_micro': 0.571236559139785, 'f_05_macro': 0.24554172925789006, 'precision_sampled': 0.47039473684210525, 'precision_micro': 0.68, 'precision_macro': 0.2912715429224863, 'recall_sampled': 0.3675438596491228, 'recall_micro': 0.3483606557377049, 'recall_macro': 0.16633663097215348, 'accuracy': 0.24342105263157895, 'coverage_error': np.float64(14.0), 'label_ranking_loss': np.float64(0.8089962121212121), 'lrap': np.float64(0.2864583333333333)}\n"
     ]
    },
    {
     "name": "stderr",
     "output_type": "stream",
     "text": [
      "Epoch 15: 100%|██████████| 76/76 [01:03<00:00,  1.20it/s]\n"
     ]
    },
    {
     "name": "stdout",
     "output_type": "stream",
     "text": [
      "Training loss: 0.08185663348750065\n",
      "{'f1_sampled': 0.40548245614035083, 'f1_micro': 0.493573264781491, 'f1_macro': 0.22971915842928325, 'f_05_sample': 0.43251156737998847, 'f_05_micro': 0.5825242718446602, 'f_05_macro': 0.2738362712969811, 'precision_sampled': 0.46820175438596484, 'precision_micro': 0.6620689655172414, 'precision_macro': 0.3424789245841877, 'recall_sampled': 0.3955043859649122, 'recall_micro': 0.39344262295081966, 'recall_macro': 0.19086478412378974, 'accuracy': 0.2565789473684211, 'coverage_error': np.float64(12.5), 'label_ranking_loss': np.float64(0.6838578088578089), 'lrap': np.float64(0.35912698412698413)}\n"
     ]
    },
    {
     "name": "stderr",
     "output_type": "stream",
     "text": [
      "Epoch 16:   0%|          | 0/76 [00:00<?, ?it/s]"
     ]
    },
    {
     "name": "stdout",
     "output_type": "stream",
     "text": [
      "-- Step: 0\n"
     ]
    },
    {
     "name": "stderr",
     "output_type": "stream",
     "text": [
      "Epoch 16:   1%|▏         | 1/76 [00:02<03:02,  2.43s/it]"
     ]
    },
    {
     "name": "stdout",
     "output_type": "stream",
     "text": [
      "{'f1_sampled': 0.4186403508771929, 'f1_micro': 0.5012787723785166, 'f1_macro': 0.23363892749453427, 'f_05_sample': 0.44566946211683056, 'f_05_micro': 0.5889423076923077, 'f_05_macro': 0.27542815403072685, 'precision_sampled': 0.48135964912280693, 'precision_micro': 0.6666666666666666, 'precision_macro': 0.34066766566766565, 'recall_sampled': 0.40866228070175437, 'recall_micro': 0.4016393442622951, 'recall_macro': 0.1961807469869224, 'accuracy': 0.27631578947368424, 'coverage_error': np.float64(12.5), 'label_ranking_loss': np.float64(0.6838578088578089), 'lrap': np.float64(0.35912698412698413)}\n"
     ]
    },
    {
     "name": "stderr",
     "output_type": "stream",
     "text": [
      "Epoch 16: 100%|██████████| 76/76 [01:03<00:00,  1.19it/s]\n"
     ]
    },
    {
     "name": "stdout",
     "output_type": "stream",
     "text": [
      "Training loss: 0.0728695522993803\n",
      "{'f1_sampled': 0.4070175438596491, 'f1_micro': 0.4909560723514212, 'f1_macro': 0.2167146384181911, 'f_05_sample': 0.43255392268550164, 'f_05_micro': 0.5821078431372549, 'f_05_macro': 0.2575067733447372, 'precision_sampled': 0.46710526315789475, 'precision_micro': 0.6643356643356644, 'precision_macro': 0.3470263105242097, 'recall_sampled': 0.39769736842105263, 'recall_micro': 0.38934426229508196, 'recall_macro': 0.18200707437322286, 'accuracy': 0.26973684210526316, 'coverage_error': np.float64(12.5), 'label_ranking_loss': np.float64(0.7217365967365967), 'lrap': np.float64(0.3333333333333333)}\n"
     ]
    },
    {
     "name": "stderr",
     "output_type": "stream",
     "text": [
      "Epoch 17:   0%|          | 0/76 [00:00<?, ?it/s]"
     ]
    },
    {
     "name": "stdout",
     "output_type": "stream",
     "text": [
      "-- Step: 0\n"
     ]
    },
    {
     "name": "stderr",
     "output_type": "stream",
     "text": [
      "Epoch 17:   1%|▏         | 1/76 [00:02<02:58,  2.37s/it]"
     ]
    },
    {
     "name": "stdout",
     "output_type": "stream",
     "text": [
      "{'f1_sampled': 0.4070175438596491, 'f1_micro': 0.4935064935064935, 'f1_macro': 0.2199887486458319, 'f_05_sample': 0.43255392268550164, 'f_05_micro': 0.5878712871287128, 'f_05_macro': 0.263371454215183, 'precision_sampled': 0.46710526315789475, 'precision_micro': 0.6737588652482269, 'precision_macro': 0.3542509311416874, 'recall_sampled': 0.39769736842105263, 'recall_micro': 0.38934426229508196, 'recall_macro': 0.1822379857032721, 'accuracy': 0.26973684210526316, 'coverage_error': np.float64(12.5), 'label_ranking_loss': np.float64(0.7217365967365967), 'lrap': np.float64(0.3333333333333333)}\n"
     ]
    },
    {
     "name": "stderr",
     "output_type": "stream",
     "text": [
      "Epoch 17: 100%|██████████| 76/76 [01:03<00:00,  1.19it/s]\n"
     ]
    },
    {
     "name": "stdout",
     "output_type": "stream",
     "text": [
      "Training loss: 0.06886600286356713\n",
      "{'f1_sampled': 0.43161027568922306, 'f1_micro': 0.5012658227848101, 'f1_macro': 0.23425408843723453, 'f_05_sample': 0.4633540801303959, 'f_05_micro': 0.5837264150943396, 'f_05_macro': 0.2786776900236753, 'precision_sampled': 0.5043859649122806, 'precision_micro': 0.6556291390728477, 'precision_macro': 0.3684311720026005, 'recall_sampled': 0.41688596491228064, 'recall_micro': 0.4057377049180328, 'recall_macro': 0.19545081216932286, 'accuracy': 0.27631578947368424, 'coverage_error': np.float64(12.5), 'label_ranking_loss': np.float64(0.65194493006993), 'lrap': np.float64(0.37276785714285715)}\n"
     ]
    },
    {
     "name": "stderr",
     "output_type": "stream",
     "text": [
      "Epoch 18:   0%|          | 0/76 [00:00<?, ?it/s]"
     ]
    },
    {
     "name": "stdout",
     "output_type": "stream",
     "text": [
      "-- Step: 0\n"
     ]
    },
    {
     "name": "stderr",
     "output_type": "stream",
     "text": [
      "Epoch 18:   1%|▏         | 1/76 [00:02<02:56,  2.36s/it]"
     ]
    },
    {
     "name": "stdout",
     "output_type": "stream",
     "text": [
      "{'f1_sampled': 0.4272243107769423, 'f1_micro': 0.4987146529562982, 'f1_macro': 0.23124286274319558, 'f_05_sample': 0.45844798476377424, 'f_05_micro': 0.5885922330097088, 'f_05_macro': 0.2763863665340791, 'precision_sampled': 0.4989035087719298, 'precision_micro': 0.6689655172413793, 'precision_macro': 0.3679090333225671, 'recall_sampled': 0.4119517543859649, 'recall_micro': 0.3975409836065574, 'recall_macro': 0.19164004908725205, 'accuracy': 0.27631578947368424, 'coverage_error': np.float64(12.5), 'label_ranking_loss': np.float64(0.68006993006993), 'lrap': np.float64(0.36607142857142855)}\n"
     ]
    },
    {
     "name": "stderr",
     "output_type": "stream",
     "text": [
      "Epoch 18: 100%|██████████| 76/76 [01:03<00:00,  1.20it/s]\n"
     ]
    },
    {
     "name": "stdout",
     "output_type": "stream",
     "text": [
      "Training loss: 0.0650618172397739\n",
      "{'f1_sampled': 0.45617167919799495, 'f1_micro': 0.5128205128205128, 'f1_macro': 0.24756964368852916, 'f_05_sample': 0.480601968121318, 'f_05_micro': 0.5589430894308943, 'f_05_macro': 0.27315612791713595, 'precision_sampled': 0.5169956140350878, 'precision_micro': 0.5945945945945946, 'precision_macro': 0.3400551300551301, 'recall_sampled': 0.4607456140350877, 'recall_micro': 0.45081967213114754, 'recall_macro': 0.22391382503941198, 'accuracy': 0.2631578947368421, 'coverage_error': np.float64(11.0), 'label_ranking_loss': np.float64(0.5932328088578088), 'lrap': np.float64(0.41939484126984133)}\n"
     ]
    },
    {
     "name": "stderr",
     "output_type": "stream",
     "text": [
      "Epoch 19:   0%|          | 0/76 [00:00<?, ?it/s]"
     ]
    },
    {
     "name": "stdout",
     "output_type": "stream",
     "text": [
      "-- Step: 0\n"
     ]
    },
    {
     "name": "stderr",
     "output_type": "stream",
     "text": [
      "Epoch 19:   1%|▏         | 1/76 [00:02<02:58,  2.39s/it]"
     ]
    },
    {
     "name": "stdout",
     "output_type": "stream",
     "text": [
      "{'f1_sampled': 0.4484962406015038, 'f1_micro': 0.5106382978723404, 'f1_macro': 0.24737845104678519, 'f_05_sample': 0.47094441076639215, 'f_05_micro': 0.5625, 'f_05_macro': 0.27534820622602596, 'precision_sampled': 0.5049342105263158, 'precision_micro': 0.6033519553072626, 'precision_macro': 0.3441301135838951, 'recall_sampled': 0.4525219298245614, 'recall_micro': 0.4426229508196721, 'recall_macro': 0.22022018187254724, 'accuracy': 0.26973684210526316, 'coverage_error': np.float64(11.0), 'label_ranking_loss': np.float64(0.6213578088578089), 'lrap': np.float64(0.41269841269841273)}\n"
     ]
    },
    {
     "name": "stderr",
     "output_type": "stream",
     "text": [
      "Epoch 19: 100%|██████████| 76/76 [01:03<00:00,  1.20it/s]\n"
     ]
    },
    {
     "name": "stdout",
     "output_type": "stream",
     "text": [
      "Training loss: 0.06115075012080764\n",
      "{'f1_sampled': 0.44586466165413535, 'f1_micro': 0.5097087378640777, 'f1_macro': 0.2483207725474213, 'f_05_sample': 0.473349019401651, 'f_05_micro': 0.5731441048034934, 'f_05_macro': 0.28437271432649447, 'precision_sampled': 0.5120614035087719, 'precision_micro': 0.625, 'precision_macro': 0.36323079956620324, 'recall_sampled': 0.44484649122807024, 'recall_micro': 0.430327868852459, 'recall_macro': 0.21515851202719777, 'accuracy': 0.26973684210526316, 'coverage_error': np.float64(12.5), 'label_ranking_loss': np.float64(0.68006993006993), 'lrap': np.float64(0.36607142857142855)}\n"
     ]
    },
    {
     "name": "stderr",
     "output_type": "stream",
     "text": [
      "Epoch 20:   0%|          | 0/76 [00:00<?, ?it/s]"
     ]
    },
    {
     "name": "stdout",
     "output_type": "stream",
     "text": [
      "-- Step: 0\n"
     ]
    },
    {
     "name": "stderr",
     "output_type": "stream",
     "text": [
      "Epoch 20:   1%|▏         | 1/76 [00:02<02:59,  2.40s/it]"
     ]
    },
    {
     "name": "stdout",
     "output_type": "stream",
     "text": [
      "{'f1_sampled': 0.44257518796992484, 'f1_micro': 0.5060240963855421, 'f1_macro': 0.2478271023984179, 'f_05_sample': 0.4682320603373235, 'f_05_micro': 0.5657327586206896, 'f_05_macro': 0.2832545680568127, 'precision_sampled': 0.5054824561403508, 'precision_micro': 0.6140350877192983, 'precision_macro': 0.36137542853789995, 'recall_sampled': 0.44484649122807024, 'recall_micro': 0.430327868852459, 'recall_macro': 0.21515851202719777, 'accuracy': 0.2631578947368421, 'coverage_error': np.float64(12.5), 'label_ranking_loss': np.float64(0.68006993006993), 'lrap': np.float64(0.36607142857142855)}\n"
     ]
    },
    {
     "name": "stderr",
     "output_type": "stream",
     "text": [
      "Epoch 20: 100%|██████████| 76/76 [01:03<00:00,  1.19it/s]\n"
     ]
    },
    {
     "name": "stdout",
     "output_type": "stream",
     "text": [
      "Training loss: 0.0559019332163428\n",
      "{'f1_sampled': 0.45494987468671677, 'f1_micro': 0.5084745762711864, 'f1_macro': 0.24484146419627928, 'f_05_sample': 0.48739655812024235, 'f_05_micro': 0.5706521739130435, 'f_05_macro': 0.27669106440077457, 'precision_sampled': 0.5285087719298246, 'precision_micro': 0.621301775147929, 'precision_macro': 0.35238541674995716, 'recall_sampled': 0.4432017543859649, 'recall_micro': 0.430327868852459, 'recall_macro': 0.21736888482821867, 'accuracy': 0.26973684210526316, 'coverage_error': np.float64(12.5), 'label_ranking_loss': np.float64(0.6557328088578088), 'lrap': np.float64(0.36582341269841273)}\n"
     ]
    },
    {
     "name": "stderr",
     "output_type": "stream",
     "text": [
      "Epoch 21:   0%|          | 0/76 [00:00<?, ?it/s]"
     ]
    },
    {
     "name": "stdout",
     "output_type": "stream",
     "text": [
      "-- Step: 0\n"
     ]
    },
    {
     "name": "stderr",
     "output_type": "stream",
     "text": [
      "Epoch 21:   1%|▏         | 1/76 [00:02<02:57,  2.36s/it]"
     ]
    },
    {
     "name": "stdout",
     "output_type": "stream",
     "text": [
      "{'f1_sampled': 0.46130952380952384, 'f1_micro': 0.5155131264916468, 'f1_macro': 0.24990759793888362, 'f_05_sample': 0.4905056566240777, 'f_05_micro': 0.5720338983050848, 'f_05_macro': 0.28005290396347193, 'precision_sampled': 0.5285087719298246, 'precision_micro': 0.6171428571428571, 'precision_macro': 0.3541528352729829, 'recall_sampled': 0.45526315789473687, 'recall_micro': 0.4426229508196721, 'recall_macro': 0.22444272885858443, 'accuracy': 0.26973684210526316, 'coverage_error': np.float64(12.5), 'label_ranking_loss': np.float64(0.6557328088578088), 'lrap': np.float64(0.36582341269841273)}\n"
     ]
    },
    {
     "name": "stderr",
     "output_type": "stream",
     "text": [
      "Epoch 21: 100%|██████████| 76/76 [01:03<00:00,  1.21it/s]\n"
     ]
    },
    {
     "name": "stdout",
     "output_type": "stream",
     "text": [
      "Training loss: 0.052274636679181925\n",
      "{'f1_sampled': 0.4470551378446116, 'f1_micro': 0.4975609756097561, 'f1_macro': 0.24249984573099734, 'f_05_sample': 0.4793861109650583, 'f_05_micro': 0.5616740088105727, 'f_05_macro': 0.27432804667572824, 'precision_sampled': 0.5197368421052632, 'precision_micro': 0.6144578313253012, 'precision_macro': 0.35208705127072476, 'recall_sampled': 0.43388157894736834, 'recall_micro': 0.4180327868852459, 'recall_macro': 0.21685656237309403, 'accuracy': 0.2631578947368421, 'coverage_error': np.float64(12.5), 'label_ranking_loss': np.float64(0.6838578088578089), 'lrap': np.float64(0.35912698412698413)}\n"
     ]
    },
    {
     "name": "stderr",
     "output_type": "stream",
     "text": [
      "Epoch 22:   0%|          | 0/76 [00:00<?, ?it/s]"
     ]
    },
    {
     "name": "stdout",
     "output_type": "stream",
     "text": [
      "-- Step: 0\n"
     ]
    },
    {
     "name": "stderr",
     "output_type": "stream",
     "text": [
      "Epoch 22:   1%|▏         | 1/76 [00:02<02:56,  2.35s/it]"
     ]
    },
    {
     "name": "stdout",
     "output_type": "stream",
     "text": [
      "{'f1_sampled': 0.45144110275689225, 'f1_micro': 0.5012165450121655, 'f1_macro': 0.24331535415535474, 'f_05_sample': 0.4830410817252922, 'f_05_micro': 0.5646929824561403, 'f_05_macro': 0.2736385000626303, 'precision_sampled': 0.5230263157894737, 'precision_micro': 0.6167664670658682, 'precision_macro': 0.3486210317460317, 'recall_sampled': 0.4404605263157894, 'recall_micro': 0.42213114754098363, 'recall_macro': 0.21820427126797273, 'accuracy': 0.2631578947368421, 'coverage_error': np.float64(12.5), 'label_ranking_loss': np.float64(0.6838578088578089), 'lrap': np.float64(0.35912698412698413)}\n"
     ]
    },
    {
     "name": "stderr",
     "output_type": "stream",
     "text": [
      "Epoch 22: 100%|██████████| 76/76 [01:03<00:00,  1.20it/s]\n"
     ]
    },
    {
     "name": "stdout",
     "output_type": "stream",
     "text": [
      "Training loss: 0.04811929977547966\n",
      "{'f1_sampled': 0.4560463659147869, 'f1_micro': 0.5036319612590799, 'f1_macro': 0.24486451923426714, 'f_05_sample': 0.4868764276659013, 'f_05_micro': 0.5652173913043478, 'f_05_macro': 0.2723339324034255, 'precision_sampled': 0.5263157894736842, 'precision_micro': 0.6153846153846154, 'precision_macro': 0.34317827817625907, 'recall_sampled': 0.44484649122807013, 'recall_micro': 0.4262295081967213, 'recall_macro': 0.22243619337969317, 'accuracy': 0.28289473684210525, 'coverage_error': np.float64(9.375), 'label_ranking_loss': np.float64(0.49635780885780884), 'lrap': np.float64(0.5287698412698413)}\n"
     ]
    },
    {
     "name": "stderr",
     "output_type": "stream",
     "text": [
      "Epoch 23:   0%|          | 0/76 [00:00<?, ?it/s]"
     ]
    },
    {
     "name": "stdout",
     "output_type": "stream",
     "text": [
      "-- Step: 0\n"
     ]
    },
    {
     "name": "stderr",
     "output_type": "stream",
     "text": [
      "Epoch 23:   1%|▏         | 1/76 [00:02<02:56,  2.36s/it]"
     ]
    },
    {
     "name": "stdout",
     "output_type": "stream",
     "text": [
      "{'f1_sampled': 0.4538533834586467, 'f1_micro': 0.5024154589371981, 'f1_macro': 0.24338426593379014, 'f_05_sample': 0.48395245105771423, 'f_05_micro': 0.5627705627705628, 'f_05_macro': 0.2704505496071358, 'precision_sampled': 0.5230263157894737, 'precision_micro': 0.611764705882353, 'precision_macro': 0.34119132385847767, 'recall_sampled': 0.44484649122807013, 'recall_micro': 0.4262295081967213, 'recall_macro': 0.22152593422355693, 'accuracy': 0.27631578947368424, 'coverage_error': np.float64(9.375), 'label_ranking_loss': np.float64(0.49635780885780884), 'lrap': np.float64(0.5287698412698413)}\n"
     ]
    },
    {
     "name": "stderr",
     "output_type": "stream",
     "text": [
      "Epoch 23: 100%|██████████| 76/76 [01:03<00:00,  1.19it/s]\n"
     ]
    },
    {
     "name": "stdout",
     "output_type": "stream",
     "text": [
      "Training loss: 0.04562967096602446\n",
      "{'f1_sampled': 0.44880952380952377, 'f1_micro': 0.5012165450121655, 'f1_macro': 0.24278102815740157, 'f_05_sample': 0.4815166558587611, 'f_05_micro': 0.5646929824561403, 'f_05_macro': 0.2720743492131991, 'precision_sampled': 0.5219298245614035, 'precision_micro': 0.6167664670658682, 'precision_macro': 0.3447991294419866, 'recall_sampled': 0.43059210526315783, 'recall_micro': 0.42213114754098363, 'recall_macro': 0.2176093306430471, 'accuracy': 0.26973684210526316, 'coverage_error': np.float64(11.0), 'label_ranking_loss': np.float64(0.5588578088578089), 'lrap': np.float64(0.4662698412698413)}\n"
     ]
    },
    {
     "name": "stderr",
     "output_type": "stream",
     "text": [
      "Epoch 24:   0%|          | 0/76 [00:00<?, ?it/s]"
     ]
    },
    {
     "name": "stdout",
     "output_type": "stream",
     "text": [
      "-- Step: 0\n"
     ]
    },
    {
     "name": "stderr",
     "output_type": "stream",
     "text": [
      "Epoch 24:   1%|▏         | 1/76 [00:02<03:00,  2.40s/it]"
     ]
    },
    {
     "name": "stdout",
     "output_type": "stream",
     "text": [
      "{'f1_sampled': 0.44223057644110275, 'f1_micro': 0.4938875305623472, 'f1_macro': 0.2321279785166638, 'f_05_sample': 0.47493770849034006, 'f_05_micro': 0.5586283185840708, 'f_05_macro': 0.25326389426804247, 'precision_sampled': 0.5153508771929824, 'precision_micro': 0.6121212121212121, 'precision_macro': 0.2745846800258565, 'recall_sampled': 0.42401315789473676, 'recall_micro': 0.4139344262295082, 'recall_macro': 0.2106819907415693, 'accuracy': 0.26973684210526316, 'coverage_error': np.float64(12.5), 'label_ranking_loss': np.float64(0.6213578088578089), 'lrap': np.float64(0.4126984126984127)}\n"
     ]
    },
    {
     "name": "stderr",
     "output_type": "stream",
     "text": [
      "Epoch 24: 100%|██████████| 76/76 [01:03<00:00,  1.20it/s]\n"
     ]
    },
    {
     "name": "stdout",
     "output_type": "stream",
     "text": [
      "Training loss: 0.04356276033152091\n",
      "{'f1_sampled': 0.44552005012531326, 'f1_micro': 0.4963144963144963, 'f1_macro': 0.23978299842065567, 'f_05_sample': 0.4785645640908799, 'f_05_micro': 0.5636160714285714, 'f_05_macro': 0.2717937079922273, 'precision_sampled': 0.5186403508771931, 'precision_micro': 0.6196319018404908, 'precision_macro': 0.3470541363398506, 'recall_sampled': 0.42510964912280697, 'recall_micro': 0.4139344262295082, 'recall_macro': 0.21165917169768345, 'accuracy': 0.2894736842105263, 'coverage_error': np.float64(10.875), 'label_ranking_loss': np.float64(0.49256993006993005), 'lrap': np.float64(0.5357142857142857)}\n"
     ]
    },
    {
     "name": "stderr",
     "output_type": "stream",
     "text": [
      "Epoch 25:   0%|          | 0/76 [00:00<?, ?it/s]"
     ]
    },
    {
     "name": "stdout",
     "output_type": "stream",
     "text": [
      "-- Step: 0\n"
     ]
    },
    {
     "name": "stderr",
     "output_type": "stream",
     "text": [
      "Epoch 25:   1%|▏         | 1/76 [00:02<03:00,  2.41s/it]"
     ]
    },
    {
     "name": "stdout",
     "output_type": "stream",
     "text": [
      "{'f1_sampled': 0.4450814536340852, 'f1_micro': 0.4938875305623472, 'f1_macro': 0.23804389067419654, 'f_05_sample': 0.47776711592501064, 'f_05_micro': 0.5586283185840708, 'f_05_macro': 0.26873018033801116, 'precision_sampled': 0.5175438596491228, 'precision_micro': 0.6121212121212121, 'precision_macro': 0.342959619745334, 'recall_sampled': 0.42510964912280697, 'recall_micro': 0.4139344262295082, 'recall_macro': 0.21165917169768345, 'accuracy': 0.2894736842105263, 'coverage_error': np.float64(10.875), 'label_ranking_loss': np.float64(0.49635780885780884), 'lrap': np.float64(0.5287698412698413)}\n"
     ]
    },
    {
     "name": "stderr",
     "output_type": "stream",
     "text": [
      "Epoch 25: 100%|██████████| 76/76 [01:03<00:00,  1.20it/s]\n"
     ]
    },
    {
     "name": "stdout",
     "output_type": "stream",
     "text": [
      "Training loss: 0.040595361105117356\n",
      "{'f1_sampled': 0.45003132832080195, 'f1_micro': 0.5061425061425061, 'f1_macro': 0.2476106464536847, 'f_05_sample': 0.480088989957411, 'f_05_micro': 0.5747767857142857, 'f_05_macro': 0.2815393034511716, 'precision_sampled': 0.5197368421052632, 'precision_micro': 0.6319018404907976, 'precision_macro': 0.3573117071100942, 'recall_sampled': 0.43936403508771926, 'recall_micro': 0.42213114754098363, 'recall_macro': 0.2155870546949603, 'accuracy': 0.2894736842105263, 'coverage_error': np.float64(10.875), 'label_ranking_loss': np.float64(0.49256993006993005), 'lrap': np.float64(0.5357142857142857)}\n"
     ]
    },
    {
     "name": "stderr",
     "output_type": "stream",
     "text": [
      "Epoch 26:   0%|          | 0/76 [00:00<?, ?it/s]"
     ]
    },
    {
     "name": "stdout",
     "output_type": "stream",
     "text": [
      "-- Step: 0\n"
     ]
    },
    {
     "name": "stderr",
     "output_type": "stream",
     "text": [
      "Epoch 26:   1%|▏         | 1/76 [00:02<02:56,  2.35s/it]"
     ]
    },
    {
     "name": "stdout",
     "output_type": "stream",
     "text": [
      "{'f1_sampled': 0.456610275689223, 'f1_micro': 0.5110565110565111, 'f1_macro': 0.2500617343670183, 'f_05_sample': 0.4866679373258321, 'f_05_micro': 0.5803571428571429, 'f_05_macro': 0.28342491339827175, 'precision_sampled': 0.5263157894736842, 'precision_micro': 0.6380368098159509, 'precision_macro': 0.3581665358451072, 'recall_sampled': 0.44594298245614034, 'recall_micro': 0.4262295081967213, 'recall_macro': 0.21805010888215245, 'accuracy': 0.29605263157894735, 'coverage_error': np.float64(10.875), 'label_ranking_loss': np.float64(0.49256993006993005), 'lrap': np.float64(0.5357142857142857)}\n"
     ]
    },
    {
     "name": "stderr",
     "output_type": "stream",
     "text": [
      "Epoch 26: 100%|██████████| 76/76 [01:03<00:00,  1.20it/s]\n"
     ]
    },
    {
     "name": "stdout",
     "output_type": "stream",
     "text": [
      "Training loss: 0.0381731182875994\n",
      "{'f1_sampled': 0.4272243107769423, 'f1_micro': 0.4876847290640394, 'f1_macro': 0.2290835258167008, 'f_05_sample': 0.4515557541873332, 'f_05_micro': 0.554932735426009, 'f_05_macro': 0.2633150538767158, 'precision_sampled': 0.4857456140350877, 'precision_micro': 0.6111111111111112, 'precision_macro': 0.34083710096942, 'recall_sampled': 0.42291666666666666, 'recall_micro': 0.4057377049180328, 'recall_macro': 0.1985142863284697, 'accuracy': 0.27631578947368424, 'coverage_error': np.float64(12.5), 'label_ranking_loss': np.float64(0.6592365967365967), 'lrap': np.float64(0.38690476190476186)}\n"
     ]
    },
    {
     "name": "stderr",
     "output_type": "stream",
     "text": [
      "Epoch 27:   0%|          | 0/76 [00:00<?, ?it/s]"
     ]
    },
    {
     "name": "stdout",
     "output_type": "stream",
     "text": [
      "-- Step: 0\n"
     ]
    },
    {
     "name": "stderr",
     "output_type": "stream",
     "text": [
      "Epoch 27:   1%|▏         | 1/76 [00:02<02:48,  2.25s/it]"
     ]
    },
    {
     "name": "stdout",
     "output_type": "stream",
     "text": [
      "{'f1_sampled': 0.4381892230576441, 'f1_micro': 0.4950980392156863, 'f1_macro': 0.23140898522124184, 'f_05_sample': 0.46178967231598816, 'f_05_micro': 0.5611111111111111, 'f_05_macro': 0.2642350339377057, 'precision_sampled': 0.4956140350877193, 'precision_micro': 0.6158536585365854, 'precision_macro': 0.340735355725868, 'recall_sampled': 0.43607456140350875, 'recall_micro': 0.4139344262295082, 'recall_macro': 0.20297857204275543, 'accuracy': 0.28289473684210525, 'coverage_error': np.float64(11.0), 'label_ranking_loss': np.float64(0.5438519813519813), 'lrap': np.float64(0.44047619047619035)}\n"
     ]
    },
    {
     "name": "stderr",
     "output_type": "stream",
     "text": [
      "Epoch 27: 100%|██████████| 76/76 [01:03<00:00,  1.20it/s]\n"
     ]
    },
    {
     "name": "stdout",
     "output_type": "stream",
     "text": [
      "Training loss: 0.03551357127971163\n",
      "{'f1_sampled': 0.4228383458646617, 'f1_micro': 0.48120300751879697, 'f1_macro': 0.23017614707751946, 'f_05_sample': 0.4465432228590123, 'f_05_micro': 0.5555555555555556, 'f_05_macro': 0.26511809966298877, 'precision_sampled': 0.47916666666666663, 'precision_micro': 0.6193548387096774, 'precision_macro': 0.30315675854695817, 'recall_sampled': 0.418530701754386, 'recall_micro': 0.39344262295081966, 'recall_macro': 0.19329367332442107, 'accuracy': 0.26973684210526316, 'coverage_error': np.float64(12.5), 'label_ranking_loss': np.float64(0.6592365967365967), 'lrap': np.float64(0.38690476190476186)}\n"
     ]
    },
    {
     "name": "stderr",
     "output_type": "stream",
     "text": [
      "Epoch 28:   0%|          | 0/76 [00:00<?, ?it/s]"
     ]
    },
    {
     "name": "stdout",
     "output_type": "stream",
     "text": [
      "-- Step: 0\n"
     ]
    },
    {
     "name": "stderr",
     "output_type": "stream",
     "text": [
      "Epoch 28:   1%|▏         | 1/76 [00:02<02:57,  2.36s/it]"
     ]
    },
    {
     "name": "stdout",
     "output_type": "stream",
     "text": [
      "{'f1_sampled': 0.4217418546365915, 'f1_micro': 0.48120300751879697, 'f1_macro': 0.23222995989728318, 'f_05_sample': 0.44758750021907917, 'f_05_micro': 0.5555555555555556, 'f_05_macro': 0.266254448131882, 'precision_sampled': 0.48245614035087714, 'precision_micro': 0.6193548387096774, 'precision_macro': 0.3027891156462585, 'recall_sampled': 0.4141447368421053, 'recall_micro': 0.39344262295081966, 'recall_macro': 0.19570913226161915, 'accuracy': 0.2631578947368421, 'coverage_error': np.float64(12.5), 'label_ranking_loss': np.float64(0.6592365967365967), 'lrap': np.float64(0.38690476190476186)}\n"
     ]
    },
    {
     "name": "stderr",
     "output_type": "stream",
     "text": [
      "Epoch 28: 100%|██████████| 76/76 [01:03<00:00,  1.19it/s]\n"
     ]
    },
    {
     "name": "stdout",
     "output_type": "stream",
     "text": [
      "Training loss: 0.03431728291080186\n",
      "{'f1_sampled': 0.44520676691729316, 'f1_micro': 0.4891041162227603, 'f1_macro': 0.23219780934575768, 'f_05_sample': 0.47179063626432055, 'f_05_micro': 0.5489130434782609, 'f_05_macro': 0.2611621749386651, 'precision_sampled': 0.5087719298245613, 'precision_micro': 0.5976331360946746, 'precision_macro': 0.30289721912088535, 'recall_sampled': 0.43826754385964917, 'recall_micro': 0.4139344262295082, 'recall_macro': 0.20509214271217618, 'accuracy': 0.28289473684210525, 'coverage_error': np.float64(12.5), 'label_ranking_loss': np.float64(0.7217365967365967), 'lrap': np.float64(0.3333333333333333)}\n"
     ]
    },
    {
     "name": "stderr",
     "output_type": "stream",
     "text": [
      "Epoch 29:   0%|          | 0/76 [00:00<?, ?it/s]"
     ]
    },
    {
     "name": "stdout",
     "output_type": "stream",
     "text": [
      "-- Step: 0\n"
     ]
    },
    {
     "name": "stderr",
     "output_type": "stream",
     "text": [
      "Epoch 29:   1%|▏         | 1/76 [00:02<02:57,  2.37s/it]"
     ]
    },
    {
     "name": "stdout",
     "output_type": "stream",
     "text": [
      "{'f1_sampled': 0.44586466165413535, 'f1_micro': 0.4891041162227603, 'f1_macro': 0.23175933692708725, 'f_05_sample': 0.4727304858883807, 'f_05_micro': 0.5489130434782609, 'f_05_macro': 0.26041214167106047, 'precision_sampled': 0.5098684210526315, 'precision_micro': 0.5976331360946746, 'precision_macro': 0.30191570949575874, 'recall_sampled': 0.43826754385964917, 'recall_micro': 0.4139344262295082, 'recall_macro': 0.20509214271217618, 'accuracy': 0.28289473684210525, 'coverage_error': np.float64(12.5), 'label_ranking_loss': np.float64(0.7217365967365967), 'lrap': np.float64(0.3333333333333333)}\n"
     ]
    },
    {
     "name": "stderr",
     "output_type": "stream",
     "text": [
      "Epoch 29: 100%|██████████| 76/76 [01:03<00:00,  1.20it/s]\n"
     ]
    },
    {
     "name": "stdout",
     "output_type": "stream",
     "text": [
      "Training loss: 0.03256325953100857\n",
      "{'f1_sampled': 0.43862781954887214, 'f1_micro': 0.4889975550122249, 'f1_macro': 0.23240619685820837, 'f_05_sample': 0.47245636308136313, 'f_05_micro': 0.5530973451327433, 'f_05_macro': 0.2624864927390021, 'precision_sampled': 0.5164473684210527, 'precision_micro': 0.6060606060606061, 'precision_macro': 0.2974130036630037, 'recall_sampled': 0.42017543859649126, 'recall_micro': 0.4098360655737705, 'recall_macro': 0.20275986922307038, 'accuracy': 0.27631578947368424, 'coverage_error': np.float64(12.5), 'label_ranking_loss': np.float64(0.6592365967365967), 'lrap': np.float64(0.38690476190476186)}\n"
     ]
    },
    {
     "name": "stderr",
     "output_type": "stream",
     "text": [
      "Epoch 30:   0%|          | 0/76 [00:00<?, ?it/s]"
     ]
    },
    {
     "name": "stdout",
     "output_type": "stream",
     "text": [
      "-- Step: 0\n"
     ]
    },
    {
     "name": "stderr",
     "output_type": "stream",
     "text": [
      "Epoch 30:   1%|▏         | 1/76 [00:02<03:00,  2.41s/it]"
     ]
    },
    {
     "name": "stdout",
     "output_type": "stream",
     "text": [
      "{'f1_sampled': 0.43862781954887214, 'f1_micro': 0.4889975550122249, 'f1_macro': 0.23240619685820837, 'f_05_sample': 0.47245636308136313, 'f_05_micro': 0.5530973451327433, 'f_05_macro': 0.2624864927390021, 'precision_sampled': 0.5164473684210527, 'precision_micro': 0.6060606060606061, 'precision_macro': 0.2974130036630037, 'recall_sampled': 0.42017543859649126, 'recall_micro': 0.4098360655737705, 'recall_macro': 0.20275986922307038, 'accuracy': 0.27631578947368424, 'coverage_error': np.float64(12.5), 'label_ranking_loss': np.float64(0.6592365967365967), 'lrap': np.float64(0.38690476190476186)}\n"
     ]
    },
    {
     "name": "stderr",
     "output_type": "stream",
     "text": [
      "Epoch 30: 100%|██████████| 76/76 [01:03<00:00,  1.19it/s]\n"
     ]
    },
    {
     "name": "stdout",
     "output_type": "stream",
     "text": [
      "Training loss: 0.030188796600620998\n",
      "{'f1_sampled': 0.4401629072681705, 'f1_micro': 0.48426150121065376, 'f1_macro': 0.23365763198553255, 'f_05_sample': 0.47001655143102516, 'f_05_micro': 0.5434782608695652, 'f_05_macro': 0.26301815630843667, 'precision_sampled': 0.5098684210526315, 'precision_micro': 0.591715976331361, 'precision_macro': 0.3043063186813187, 'recall_sampled': 0.42675438596491233, 'recall_micro': 0.4098360655737705, 'recall_macro': 0.20499939571832618, 'accuracy': 0.28289473684210525, 'coverage_error': np.float64(11.0), 'label_ranking_loss': np.float64(0.5967365967365967), 'lrap': np.float64(0.44047619047619047)}\n"
     ]
    },
    {
     "name": "stderr",
     "output_type": "stream",
     "text": [
      "Epoch 31:   0%|          | 0/76 [00:00<?, ?it/s]"
     ]
    },
    {
     "name": "stdout",
     "output_type": "stream",
     "text": [
      "-- Step: 0\n"
     ]
    },
    {
     "name": "stderr",
     "output_type": "stream",
     "text": [
      "Epoch 31:   1%|▏         | 1/76 [00:02<03:03,  2.45s/it]"
     ]
    },
    {
     "name": "stdout",
     "output_type": "stream",
     "text": [
      "{'f1_sampled': 0.44082080200501256, 'f1_micro': 0.48661800486618007, 'f1_macro': 0.23440167960458017, 'f_05_sample': 0.4717253689293163, 'f_05_micro': 0.5482456140350878, 'f_05_macro': 0.2642200793853598, 'precision_sampled': 0.5131578947368421, 'precision_micro': 0.5988023952095808, 'precision_macro': 0.30581841545551225, 'recall_sampled': 0.42675438596491233, 'recall_micro': 0.4098360655737705, 'recall_macro': 0.20499939571832618, 'accuracy': 0.28289473684210525, 'coverage_error': np.float64(11.0), 'label_ranking_loss': np.float64(0.5967365967365967), 'lrap': np.float64(0.44047619047619047)}\n"
     ]
    },
    {
     "name": "stderr",
     "output_type": "stream",
     "text": [
      "Epoch 31: 100%|██████████| 76/76 [01:03<00:00,  1.20it/s]\n"
     ]
    },
    {
     "name": "stdout",
     "output_type": "stream",
     "text": [
      "Training loss: 0.029406192087519326\n",
      "{'f1_sampled': 0.4360902255639097, 'f1_micro': 0.4975369458128079, 'f1_macro': 0.23759782636629925, 'f_05_sample': 0.46054092106723693, 'f_05_micro': 0.5661434977578476, 'f_05_macro': 0.2707011653384288, 'precision_sampled': 0.49561403508771934, 'precision_micro': 0.6234567901234568, 'precision_macro': 0.3147346313107183, 'recall_sampled': 0.4316885964912281, 'recall_micro': 0.4139344262295082, 'recall_macro': 0.20305409923391532, 'accuracy': 0.28289473684210525, 'coverage_error': np.float64(12.5), 'label_ranking_loss': np.float64(0.6592365967365967), 'lrap': np.float64(0.38690476190476186)}\n"
     ]
    },
    {
     "name": "stderr",
     "output_type": "stream",
     "text": [
      "Epoch 32:   0%|          | 0/76 [00:00<?, ?it/s]"
     ]
    },
    {
     "name": "stdout",
     "output_type": "stream",
     "text": [
      "-- Step: 0\n"
     ]
    },
    {
     "name": "stderr",
     "output_type": "stream",
     "text": [
      "Epoch 32:   1%|▏         | 1/76 [00:02<03:00,  2.41s/it]"
     ]
    },
    {
     "name": "stdout",
     "output_type": "stream",
     "text": [
      "{'f1_sampled': 0.4349937343358395, 'f1_micro': 0.49504950495049505, 'f1_macro': 0.23626582503429794, 'f_05_sample': 0.460569036226931, 'f_05_micro': 0.5656108597285068, 'f_05_macro': 0.26966281896539684, 'precision_sampled': 0.4967105263157895, 'precision_micro': 0.625, 'precision_macro': 0.314014585227769, 'recall_sampled': 0.4283991228070176, 'recall_micro': 0.4098360655737705, 'recall_macro': 0.20150130420285942, 'accuracy': 0.27631578947368424, 'coverage_error': np.float64(12.5), 'label_ranking_loss': np.float64(0.6592365967365967), 'lrap': np.float64(0.38690476190476186)}\n"
     ]
    },
    {
     "name": "stderr",
     "output_type": "stream",
     "text": [
      "Epoch 32: 100%|██████████| 76/76 [01:03<00:00,  1.19it/s]\n"
     ]
    },
    {
     "name": "stdout",
     "output_type": "stream",
     "text": [
      "Training loss: 0.027702582963301164\n",
      "{'f1_sampled': 0.46394110275689227, 'f1_micro': 0.5145631067961165, 'f1_macro': 0.24755724846812774, 'f_05_sample': 0.49710569036226926, 'f_05_micro': 0.5786026200873362, 'f_05_macro': 0.27605084198161345, 'precision_sampled': 0.5427631578947368, 'precision_micro': 0.6309523809523809, 'precision_macro': 0.3158815141812123, 'recall_sampled': 0.45087719298245615, 'recall_micro': 0.4344262295081967, 'recall_macro': 0.21849716426602514, 'accuracy': 0.2894736842105263, 'coverage_error': np.float64(10.875), 'label_ranking_loss': np.float64(0.49256993006993005), 'lrap': np.float64(0.5357142857142857)}\n"
     ]
    },
    {
     "name": "stderr",
     "output_type": "stream",
     "text": [
      "Epoch 33:   0%|          | 0/76 [00:00<?, ?it/s]"
     ]
    },
    {
     "name": "stdout",
     "output_type": "stream",
     "text": [
      "-- Step: 0\n"
     ]
    },
    {
     "name": "stderr",
     "output_type": "stream",
     "text": [
      "Epoch 33:   1%|▏         | 1/76 [00:02<02:57,  2.36s/it]"
     ]
    },
    {
     "name": "stdout",
     "output_type": "stream",
     "text": [
      "{'f1_sampled': 0.45867794486215535, 'f1_micro': 0.5060827250608273, 'f1_macro': 0.24484554199641279, 'f_05_sample': 0.4939684766987399, 'f_05_micro': 0.5701754385964912, 'f_05_macro': 0.27438093180882844, 'precision_sampled': 0.5416666666666667, 'precision_micro': 0.6227544910179641, 'precision_macro': 0.3156113727542299, 'recall_sampled': 0.4421052631578948, 'recall_micro': 0.4262295081967213, 'recall_macro': 0.21539157420391333, 'accuracy': 0.2894736842105263, 'coverage_error': np.float64(10.875), 'label_ranking_loss': np.float64(0.49256993006993005), 'lrap': np.float64(0.5357142857142857)}\n"
     ]
    },
    {
     "name": "stderr",
     "output_type": "stream",
     "text": [
      "Epoch 33: 100%|██████████| 76/76 [01:03<00:00,  1.20it/s]\n"
     ]
    },
    {
     "name": "stdout",
     "output_type": "stream",
     "text": [
      "Training loss: 0.02685447952612058\n",
      "{'f1_sampled': 0.45319548872180443, 'f1_micro': 0.5049019607843137, 'f1_macro': 0.24072324241116444, 'f_05_sample': 0.486345251970252, 'f_05_micro': 0.5722222222222222, 'f_05_macro': 0.2736487610811591, 'precision_sampled': 0.5317982456140351, 'precision_micro': 0.6280487804878049, 'precision_macro': 0.3190550133096717, 'recall_sampled': 0.4399122807017544, 'recall_micro': 0.42213114754098363, 'recall_macro': 0.2090078612984613, 'accuracy': 0.2894736842105263, 'coverage_error': np.float64(10.875), 'label_ranking_loss': np.float64(0.5342365967365967), 'lrap': np.float64(0.5029761904761904)}\n"
     ]
    },
    {
     "name": "stderr",
     "output_type": "stream",
     "text": [
      "Epoch 34:   0%|          | 0/76 [00:00<?, ?it/s]"
     ]
    },
    {
     "name": "stdout",
     "output_type": "stream",
     "text": [
      "-- Step: 0\n"
     ]
    },
    {
     "name": "stderr",
     "output_type": "stream",
     "text": [
      "Epoch 34:   1%|▏         | 1/76 [00:02<02:51,  2.28s/it]"
     ]
    },
    {
     "name": "stdout",
     "output_type": "stream",
     "text": [
      "{'f1_sampled': 0.45758145363408526, 'f1_micro': 0.508557457212714, 'f1_macro': 0.2446914963794184, 'f_05_sample': 0.490000222730486, 'f_05_micro': 0.5752212389380531, 'f_05_macro': 0.2770696696744815, 'precision_sampled': 0.5350877192982457, 'precision_micro': 0.6303030303030303, 'precision_macro': 0.3214359656906241, 'recall_sampled': 0.4464912280701755, 'recall_micro': 0.4262295081967213, 'recall_macro': 0.21297611526671525, 'accuracy': 0.2894736842105263, 'coverage_error': np.float64(10.875), 'label_ranking_loss': np.float64(0.5342365967365967), 'lrap': np.float64(0.5029761904761904)}\n"
     ]
    },
    {
     "name": "stderr",
     "output_type": "stream",
     "text": [
      "Epoch 34: 100%|██████████| 76/76 [01:03<00:00,  1.20it/s]\n"
     ]
    },
    {
     "name": "stdout",
     "output_type": "stream",
     "text": [
      "Training loss: 0.02610986200651448\n",
      "{'f1_sampled': 0.46087092731829576, 'f1_micro': 0.5204819277108433, 'f1_macro': 0.254899539522638, 'f_05_sample': 0.490000222730486, 'f_05_micro': 0.5818965517241379, 'f_05_macro': 0.2825821167974574, 'precision_sampled': 0.5317982456140351, 'precision_micro': 0.631578947368421, 'precision_macro': 0.31269008769008766, 'recall_sampled': 0.45307017543859657, 'recall_micro': 0.4426229508196721, 'recall_macro': 0.22424912459538424, 'accuracy': 0.29605263157894735, 'coverage_error': np.float64(11.0), 'label_ranking_loss': np.float64(0.55506993006993), 'lrap': np.float64(0.4732142857142857)}\n",
      "--- Best Model. Val: 0.4936580327626234 -> 0.4989650381508861\n"
     ]
    },
    {
     "name": "stderr",
     "output_type": "stream",
     "text": [
      "Epoch 35:   0%|          | 0/76 [00:00<?, ?it/s]"
     ]
    },
    {
     "name": "stdout",
     "output_type": "stream",
     "text": [
      "-- Step: 0\n"
     ]
    },
    {
     "name": "stderr",
     "output_type": "stream",
     "text": [
      "Epoch 35:   1%|▏         | 1/76 [00:02<02:55,  2.35s/it]"
     ]
    },
    {
     "name": "stdout",
     "output_type": "stream",
     "text": [
      "{'f1_sampled': 0.462844611528822, 'f1_micro': 0.5227817745803357, 'f1_macro': 0.25680580835928657, 'f_05_sample': 0.49128183585420426, 'f_05_micro': 0.5822649572649573, 'f_05_macro': 0.2835977738479097, 'precision_sampled': 0.5317982456140351, 'precision_micro': 0.630057803468208, 'precision_macro': 0.31254366548484197, 'recall_sampled': 0.45526315789473687, 'recall_micro': 0.44672131147540983, 'recall_macro': 0.22671217878257635, 'accuracy': 0.29605263157894735, 'coverage_error': np.float64(11.0), 'label_ranking_loss': np.float64(0.55506993006993), 'lrap': np.float64(0.4732142857142857)}\n"
     ]
    },
    {
     "name": "stderr",
     "output_type": "stream",
     "text": [
      "Epoch 35: 100%|██████████| 76/76 [01:01<00:00,  1.23it/s]\n"
     ]
    },
    {
     "name": "stdout",
     "output_type": "stream",
     "text": [
      "Training loss: 0.024920922618261294\n",
      "{'f1_sampled': 0.44880952380952377, 'f1_micro': 0.5061425061425061, 'f1_macro': 0.24616464556187098, 'f_05_sample': 0.4808627958299011, 'f_05_micro': 0.5747767857142857, 'f_05_macro': 0.2835514357891314, 'precision_sampled': 0.5252192982456141, 'precision_micro': 0.6319018404907976, 'precision_macro': 0.36281070120355835, 'recall_sampled': 0.4366228070175438, 'recall_micro': 0.42213114754098363, 'recall_macro': 0.21097488373962164, 'accuracy': 0.28289473684210525, 'coverage_error': np.float64(11.0), 'label_ranking_loss': np.float64(0.55506993006993), 'lrap': np.float64(0.4732142857142857)}\n"
     ]
    },
    {
     "name": "stderr",
     "output_type": "stream",
     "text": [
      "Epoch 36:   0%|          | 0/76 [00:00<?, ?it/s]"
     ]
    },
    {
     "name": "stdout",
     "output_type": "stream",
     "text": [
      "-- Step: 0\n"
     ]
    },
    {
     "name": "stderr",
     "output_type": "stream",
     "text": [
      "Epoch 36:   1%|▏         | 1/76 [00:02<03:03,  2.44s/it]"
     ]
    },
    {
     "name": "stdout",
     "output_type": "stream",
     "text": [
      "{'f1_sampled': 0.44880952380952377, 'f1_micro': 0.5049019607843137, 'f1_macro': 0.245329711939094, 'f_05_sample': 0.4808627958299011, 'f_05_micro': 0.5722222222222222, 'f_05_macro': 0.2820508355490354, 'precision_sampled': 0.5252192982456141, 'precision_micro': 0.6280487804878049, 'precision_macro': 0.3607756991685563, 'recall_sampled': 0.4366228070175438, 'recall_micro': 0.42213114754098363, 'recall_macro': 0.21097488373962164, 'accuracy': 0.28289473684210525, 'coverage_error': np.float64(11.0), 'label_ranking_loss': np.float64(0.55506993006993), 'lrap': np.float64(0.4732142857142857)}\n"
     ]
    },
    {
     "name": "stderr",
     "output_type": "stream",
     "text": [
      "Epoch 36: 100%|██████████| 76/76 [01:01<00:00,  1.23it/s]\n"
     ]
    },
    {
     "name": "stdout",
     "output_type": "stream",
     "text": [
      "Training loss: 0.024171110708266497\n",
      "{'f1_sampled': 0.4290726817042606, 'f1_micro': 0.49872773536895676, 'f1_macro': 0.23995621788079483, 'f_05_sample': 0.46331893618077824, 'f_05_micro': 0.5833333333333334, 'f_05_macro': 0.2817368037159402, 'precision_sampled': 0.5087719298245614, 'precision_micro': 0.6577181208053692, 'precision_macro': 0.3661302982731554, 'recall_sampled': 0.4103070175438596, 'recall_micro': 0.4016393442622951, 'recall_macro': 0.20059725103113954, 'accuracy': 0.27631578947368424, 'coverage_error': np.float64(12.5), 'label_ranking_loss': np.float64(0.61756993006993), 'lrap': np.float64(0.4196428571428571)}\n"
     ]
    },
    {
     "name": "stderr",
     "output_type": "stream",
     "text": [
      "Epoch 37:   0%|          | 0/76 [00:00<?, ?it/s]"
     ]
    },
    {
     "name": "stdout",
     "output_type": "stream",
     "text": [
      "-- Step: 0\n"
     ]
    },
    {
     "name": "stderr",
     "output_type": "stream",
     "text": [
      "Epoch 37:   1%|▏         | 1/76 [00:02<03:07,  2.50s/it]"
     ]
    },
    {
     "name": "stdout",
     "output_type": "stream",
     "text": [
      "{'f1_sampled': 0.4334586466165414, 'f1_micro': 0.5, 'f1_macro': 0.24079862762731416, 'f_05_sample': 0.46697390694101226, 'f_05_micro': 0.5809859154929577, 'f_05_macro': 0.28190823592518754, 'precision_sampled': 0.5120614035087719, 'precision_micro': 0.6513157894736842, 'precision_macro': 0.3656215477644049, 'recall_sampled': 0.41688596491228064, 'recall_micro': 0.4057377049180328, 'recall_macro': 0.20215004606219544, 'accuracy': 0.27631578947368424, 'coverage_error': np.float64(12.5), 'label_ranking_loss': np.float64(0.61756993006993), 'lrap': np.float64(0.4196428571428571)}\n"
     ]
    },
    {
     "name": "stderr",
     "output_type": "stream",
     "text": [
      "Epoch 37: 100%|██████████| 76/76 [01:01<00:00,  1.23it/s]\n"
     ]
    },
    {
     "name": "stdout",
     "output_type": "stream",
     "text": [
      "Training loss: 0.023143232481456118\n",
      "{'f1_sampled': 0.41043233082706765, 'f1_micro': 0.48578811369509045, 'f1_macro': 0.2268009092225549, 'f_05_sample': 0.44107582841135473, 'f_05_micro': 0.5759803921568627, 'f_05_macro': 0.2711240393135451, 'precision_sampled': 0.48245614035087725, 'precision_micro': 0.6573426573426573, 'precision_macro': 0.3597438200339275, 'recall_sampled': 0.39495614035087717, 'recall_micro': 0.38524590163934425, 'recall_macro': 0.18614146871821438, 'accuracy': 0.26973684210526316, 'coverage_error': np.float64(12.5), 'label_ranking_loss': np.float64(0.6592365967365967), 'lrap': np.float64(0.38690476190476186)}\n"
     ]
    },
    {
     "name": "stderr",
     "output_type": "stream",
     "text": [
      "Epoch 38:   0%|          | 0/76 [00:00<?, ?it/s]"
     ]
    },
    {
     "name": "stdout",
     "output_type": "stream",
     "text": [
      "-- Step: 0\n"
     ]
    },
    {
     "name": "stderr",
     "output_type": "stream",
     "text": [
      "Epoch 38:   1%|▏         | 1/76 [00:02<03:05,  2.48s/it]"
     ]
    },
    {
     "name": "stdout",
     "output_type": "stream",
     "text": [
      "{'f1_sampled': 0.41043233082706765, 'f1_micro': 0.4832904884318766, 'f1_macro': 0.2253195631886596, 'f_05_sample': 0.44107582841135473, 'f_05_micro': 0.5703883495145631, 'f_05_macro': 0.2684713653407302, 'precision_sampled': 0.48245614035087725, 'precision_micro': 0.6482758620689655, 'precision_macro': 0.35615602296786963, 'recall_sampled': 0.39495614035087717, 'recall_micro': 0.38524590163934425, 'recall_macro': 0.18614146871821438, 'accuracy': 0.26973684210526316, 'coverage_error': np.float64(12.5), 'label_ranking_loss': np.float64(0.6592365967365967), 'lrap': np.float64(0.38690476190476186)}\n"
     ]
    },
    {
     "name": "stderr",
     "output_type": "stream",
     "text": [
      "Epoch 38: 100%|██████████| 76/76 [01:01<00:00,  1.23it/s]\n"
     ]
    },
    {
     "name": "stdout",
     "output_type": "stream",
     "text": [
      "Training loss: 0.022520707393261164\n",
      "{'f1_sampled': 0.4378446115288221, 'f1_micro': 0.5012531328320802, 'f1_macro': 0.2401521204128845, 'f_05_sample': 0.47099437477726963, 'f_05_micro': 0.5787037037037037, 'f_05_macro': 0.2785818447712491, 'precision_sampled': 0.5153508771929826, 'precision_micro': 0.6451612903225806, 'precision_macro': 0.3588661338661338, 'recall_sampled': 0.42017543859649126, 'recall_micro': 0.4098360655737705, 'recall_macro': 0.20378724829441267, 'accuracy': 0.2894736842105263, 'coverage_error': np.float64(11.0), 'label_ranking_loss': np.float64(0.5967365967365967), 'lrap': np.float64(0.44047619047619047)}\n"
     ]
    },
    {
     "name": "stderr",
     "output_type": "stream",
     "text": [
      "Epoch 39:   0%|          | 0/76 [00:00<?, ?it/s]"
     ]
    },
    {
     "name": "stdout",
     "output_type": "stream",
     "text": [
      "-- Step: 0\n"
     ]
    },
    {
     "name": "stderr",
     "output_type": "stream",
     "text": [
      "Epoch 39:   1%|▏         | 1/76 [00:02<02:54,  2.33s/it]"
     ]
    },
    {
     "name": "stdout",
     "output_type": "stream",
     "text": [
      "{'f1_sampled': 0.4378446115288221, 'f1_micro': 0.5012531328320802, 'f1_macro': 0.2401521204128845, 'f_05_sample': 0.47099437477726963, 'f_05_micro': 0.5787037037037037, 'f_05_macro': 0.2785818447712491, 'precision_sampled': 0.5153508771929826, 'precision_micro': 0.6451612903225806, 'precision_macro': 0.3588661338661338, 'recall_sampled': 0.42017543859649126, 'recall_micro': 0.4098360655737705, 'recall_macro': 0.20378724829441267, 'accuracy': 0.2894736842105263, 'coverage_error': np.float64(11.0), 'label_ranking_loss': np.float64(0.5967365967365967), 'lrap': np.float64(0.44047619047619047)}\n"
     ]
    },
    {
     "name": "stderr",
     "output_type": "stream",
     "text": [
      "Epoch 39: 100%|██████████| 76/76 [01:01<00:00,  1.23it/s]\n"
     ]
    },
    {
     "name": "stdout",
     "output_type": "stream",
     "text": [
      "Training loss: 0.02210041506853151\n",
      "{'f1_sampled': 0.430952380952381, 'f1_micro': 0.4987405541561713, 'f1_macro': 0.24192795555052077, 'f_05_sample': 0.46146333564096725, 'f_05_micro': 0.5782710280373832, 'f_05_macro': 0.28154808145880017, 'precision_sampled': 0.5021929824561403, 'precision_micro': 0.6470588235294118, 'precision_macro': 0.36192179913110145, 'recall_sampled': 0.41688596491228064, 'recall_micro': 0.4057377049180328, 'recall_macro': 0.2029723389973605, 'accuracy': 0.28289473684210525, 'coverage_error': np.float64(11.0), 'label_ranking_loss': np.float64(0.55506993006993), 'lrap': np.float64(0.4732142857142857)}\n"
     ]
    },
    {
     "name": "stderr",
     "output_type": "stream",
     "text": [
      "Epoch 40:   0%|          | 0/76 [00:00<?, ?it/s]"
     ]
    },
    {
     "name": "stdout",
     "output_type": "stream",
     "text": [
      "-- Step: 0\n"
     ]
    },
    {
     "name": "stderr",
     "output_type": "stream",
     "text": [
      "Epoch 40:   1%|▏         | 1/76 [00:02<03:02,  2.44s/it]"
     ]
    },
    {
     "name": "stdout",
     "output_type": "stream",
     "text": [
      "{'f1_sampled': 0.4353383458646617, 'f1_micro': 0.5, 'f1_macro': 0.24289222133437421, 'f_05_sample': 0.4669457917813181, 'f_05_micro': 0.576036866359447, 'f_05_macro': 0.2813272558928555, 'precision_sampled': 0.5087719298245613, 'precision_micro': 0.6410256410256411, 'precision_macro': 0.3607892107892107, 'recall_sampled': 0.4201754385964912, 'recall_micro': 0.4098360655737705, 'recall_macro': 0.20552335940552377, 'accuracy': 0.28289473684210525, 'coverage_error': np.float64(11.0), 'label_ranking_loss': np.float64(0.55506993006993), 'lrap': np.float64(0.4732142857142857)}\n"
     ]
    },
    {
     "name": "stderr",
     "output_type": "stream",
     "text": [
      "Epoch 40: 100%|██████████| 76/76 [01:01<00:00,  1.23it/s]\n"
     ]
    },
    {
     "name": "stdout",
     "output_type": "stream",
     "text": [
      "Training loss: 0.02155686433329002\n",
      "{'f1_sampled': 0.437406015037594, 'f1_micro': 0.5025380710659898, 'f1_macro': 0.24332420434849703, 'f_05_sample': 0.46980650928019346, 'f_05_micro': 0.5864928909952607, 'f_05_macro': 0.2845951942496549, 'precision_sampled': 0.5120614035087719, 'precision_micro': 0.66, 'precision_macro': 0.3667965367965368, 'recall_sampled': 0.41853070175438595, 'recall_micro': 0.4057377049180328, 'recall_macro': 0.2029723389973605, 'accuracy': 0.29605263157894735, 'coverage_error': np.float64(11.0), 'label_ranking_loss': np.float64(0.55506993006993), 'lrap': np.float64(0.4732142857142857)}\n"
     ]
    },
    {
     "name": "stderr",
     "output_type": "stream",
     "text": [
      "Epoch 41:   0%|          | 0/76 [00:00<?, ?it/s]"
     ]
    },
    {
     "name": "stdout",
     "output_type": "stream",
     "text": [
      "-- Step: 0\n"
     ]
    },
    {
     "name": "stderr",
     "output_type": "stream",
     "text": [
      "Epoch 41:   1%|▏         | 1/76 [00:02<03:06,  2.49s/it]"
     ]
    },
    {
     "name": "stdout",
     "output_type": "stream",
     "text": [
      "{'f1_sampled': 0.4400375939849624, 'f1_micro': 0.5063291139240507, 'f1_macro': 0.2453976026483104, 'f_05_sample': 0.4739183513854566, 'f_05_micro': 0.589622641509434, 'f_05_macro': 0.2863053036966595, 'precision_sampled': 0.5186403508771931, 'precision_micro': 0.6622516556291391, 'precision_macro': 0.36822510822510823, 'recall_sampled': 0.4201754385964912, 'recall_micro': 0.4098360655737705, 'recall_macro': 0.20552335940552377, 'accuracy': 0.29605263157894735, 'coverage_error': np.float64(11.0), 'label_ranking_loss': np.float64(0.55506993006993), 'lrap': np.float64(0.4732142857142857)}\n"
     ]
    },
    {
     "name": "stderr",
     "output_type": "stream",
     "text": [
      "Epoch 41: 100%|██████████| 76/76 [01:01<00:00,  1.23it/s]\n"
     ]
    },
    {
     "name": "stdout",
     "output_type": "stream",
     "text": [
      "Training loss: 0.02103871167147238\n",
      "{'f1_sampled': 0.4286340852130326, 'f1_micro': 0.4948453608247423, 'f1_macro': 0.23570025325532615, 'f_05_sample': 0.45748403643140484, 'f_05_micro': 0.5853658536585366, 'f_05_macro': 0.2805184301416856, 'precision_sampled': 0.49561403508771934, 'precision_micro': 0.6666666666666666, 'precision_macro': 0.36743081479923584, 'recall_sampled': 0.4141447368421053, 'recall_micro': 0.39344262295081966, 'recall_macro': 0.1929917850566438, 'accuracy': 0.2894736842105263, 'coverage_error': np.float64(12.5), 'label_ranking_loss': np.float64(0.6592365967365967), 'lrap': np.float64(0.38690476190476186)}\n"
     ]
    },
    {
     "name": "stderr",
     "output_type": "stream",
     "text": [
      "Epoch 42:   0%|          | 0/76 [00:00<?, ?it/s]"
     ]
    },
    {
     "name": "stdout",
     "output_type": "stream",
     "text": [
      "-- Step: 0\n"
     ]
    },
    {
     "name": "stderr",
     "output_type": "stream",
     "text": [
      "Epoch 42:   1%|▏         | 1/76 [00:02<03:03,  2.44s/it]"
     ]
    },
    {
     "name": "stdout",
     "output_type": "stream",
     "text": [
      "{'f1_sampled': 0.4286340852130326, 'f1_micro': 0.4948453608247423, 'f1_macro': 0.23570025325532615, 'f_05_sample': 0.45748403643140484, 'f_05_micro': 0.5853658536585366, 'f_05_macro': 0.2805184301416856, 'precision_sampled': 0.49561403508771934, 'precision_micro': 0.6666666666666666, 'precision_macro': 0.36743081479923584, 'recall_sampled': 0.4141447368421053, 'recall_micro': 0.39344262295081966, 'recall_macro': 0.1929917850566438, 'accuracy': 0.2894736842105263, 'coverage_error': np.float64(12.5), 'label_ranking_loss': np.float64(0.6592365967365967), 'lrap': np.float64(0.38690476190476186)}\n"
     ]
    },
    {
     "name": "stderr",
     "output_type": "stream",
     "text": [
      "Epoch 42: 100%|██████████| 76/76 [01:01<00:00,  1.23it/s]\n"
     ]
    },
    {
     "name": "stdout",
     "output_type": "stream",
     "text": [
      "Training loss: 0.02070771723887638\n",
      "{'f1_sampled': 0.4345551378446116, 'f1_micro': 0.5025380710659898, 'f1_macro': 0.24234644117448584, 'f_05_sample': 0.46446764127685186, 'f_05_micro': 0.5864928909952607, 'f_05_macro': 0.2831719740130915, 'precision_sampled': 0.5054824561403509, 'precision_micro': 0.66, 'precision_macro': 0.3645673017766041, 'recall_sampled': 0.4212719298245614, 'recall_micro': 0.4057377049180328, 'recall_macro': 0.20197411362025314, 'accuracy': 0.2894736842105263, 'coverage_error': np.float64(11.0), 'label_ranking_loss': np.float64(0.55506993006993), 'lrap': np.float64(0.4732142857142857)}\n"
     ]
    },
    {
     "name": "stderr",
     "output_type": "stream",
     "text": [
      "Epoch 43:   0%|          | 0/76 [00:00<?, ?it/s]"
     ]
    },
    {
     "name": "stdout",
     "output_type": "stream",
     "text": [
      "-- Step: 0\n"
     ]
    },
    {
     "name": "stderr",
     "output_type": "stream",
     "text": [
      "Epoch 43:   1%|▏         | 1/76 [00:02<02:55,  2.35s/it]"
     ]
    },
    {
     "name": "stdout",
     "output_type": "stream",
     "text": [
      "{'f1_sampled': 0.4345551378446116, 'f1_micro': 0.5025380710659898, 'f1_macro': 0.24234644117448584, 'f_05_sample': 0.46446764127685186, 'f_05_micro': 0.5864928909952607, 'f_05_macro': 0.2831719740130915, 'precision_sampled': 0.5054824561403509, 'precision_micro': 0.66, 'precision_macro': 0.3645673017766041, 'recall_sampled': 0.4212719298245614, 'recall_micro': 0.4057377049180328, 'recall_macro': 0.20197411362025314, 'accuracy': 0.2894736842105263, 'coverage_error': np.float64(11.0), 'label_ranking_loss': np.float64(0.55506993006993), 'lrap': np.float64(0.4732142857142857)}\n"
     ]
    },
    {
     "name": "stderr",
     "output_type": "stream",
     "text": [
      "Epoch 43: 100%|██████████| 76/76 [01:01<00:00,  1.23it/s]\n"
     ]
    },
    {
     "name": "stdout",
     "output_type": "stream",
     "text": [
      "Training loss: 0.020619517449583662\n",
      "{'f1_sampled': 0.44082080200501256, 'f1_micro': 0.5012658227848101, 'f1_macro': 0.24139464236398783, 'f_05_sample': 0.4735769530177425, 'f_05_micro': 0.5837264150943396, 'f_05_macro': 0.28279279736865803, 'precision_sampled': 0.5153508771929826, 'precision_micro': 0.6556291390728477, 'precision_macro': 0.3652077001013171, 'recall_sampled': 0.4212719298245614, 'recall_micro': 0.4057377049180328, 'recall_macro': 0.201089679657989, 'accuracy': 0.29605263157894735, 'coverage_error': np.float64(11.0), 'label_ranking_loss': np.float64(0.55506993006993), 'lrap': np.float64(0.4732142857142857)}\n"
     ]
    },
    {
     "name": "stderr",
     "output_type": "stream",
     "text": [
      "Epoch 44:   0%|          | 0/76 [00:00<?, ?it/s]"
     ]
    },
    {
     "name": "stdout",
     "output_type": "stream",
     "text": [
      "-- Step: 0\n"
     ]
    },
    {
     "name": "stderr",
     "output_type": "stream",
     "text": [
      "Epoch 44:   1%|▏         | 1/76 [00:02<03:03,  2.45s/it]"
     ]
    },
    {
     "name": "stdout",
     "output_type": "stream",
     "text": [
      "{'f1_sampled': 0.44082080200501256, 'f1_micro': 0.5037783375314862, 'f1_macro': 0.24250571492965003, 'f_05_sample': 0.4717494676376255, 'f_05_micro': 0.5841121495327103, 'f_05_macro': 0.2826674794955561, 'precision_sampled': 0.5120614035087719, 'precision_micro': 0.6535947712418301, 'precision_macro': 0.3637791286727457, 'recall_sampled': 0.4245614035087719, 'recall_micro': 0.4098360655737705, 'recall_macro': 0.20332182251513184, 'accuracy': 0.29605263157894735, 'coverage_error': np.float64(11.0), 'label_ranking_loss': np.float64(0.55506993006993), 'lrap': np.float64(0.4732142857142857)}\n"
     ]
    },
    {
     "name": "stderr",
     "output_type": "stream",
     "text": [
      "Epoch 44: 100%|██████████| 76/76 [01:01<00:00,  1.23it/s]\n"
     ]
    },
    {
     "name": "stdout",
     "output_type": "stream",
     "text": [
      "Training loss: 0.020058248939580824\n",
      "{'f1_sampled': 0.43687343358395986, 'f1_micro': 0.5012658227848101, 'f1_macro': 0.24200073323978202, 'f_05_sample': 0.4656297649718703, 'f_05_micro': 0.5837264150943396, 'f_05_macro': 0.28185123504971726, 'precision_sampled': 0.5021929824561404, 'precision_micro': 0.6556291390728477, 'precision_macro': 0.3617975261453522, 'recall_sampled': 0.42182017543859646, 'recall_micro': 0.4057377049180328, 'recall_macro': 0.20211705872933125, 'accuracy': 0.28289473684210525, 'coverage_error': np.float64(11.0), 'label_ranking_loss': np.float64(0.55506993006993), 'lrap': np.float64(0.4732142857142857)}\n"
     ]
    },
    {
     "name": "stderr",
     "output_type": "stream",
     "text": [
      "Epoch 45:   0%|          | 0/76 [00:00<?, ?it/s]"
     ]
    },
    {
     "name": "stdout",
     "output_type": "stream",
     "text": [
      "-- Step: 0\n"
     ]
    },
    {
     "name": "stderr",
     "output_type": "stream",
     "text": [
      "Epoch 45:   1%|▏         | 1/76 [00:02<03:02,  2.44s/it]"
     ]
    },
    {
     "name": "stdout",
     "output_type": "stream",
     "text": [
      "{'f1_sampled': 0.43687343358395986, 'f1_micro': 0.5025380710659898, 'f1_macro': 0.2428597262356853, 'f_05_sample': 0.4656297649718703, 'f_05_micro': 0.5864928909952607, 'f_05_macro': 0.28374685907456454, 'precision_sampled': 0.5021929824561404, 'precision_micro': 0.66, 'precision_macro': 0.3648320732975464, 'recall_sampled': 0.42182017543859646, 'recall_micro': 0.4057377049180328, 'recall_macro': 0.20211705872933125, 'accuracy': 0.2894736842105263, 'coverage_error': np.float64(11.0), 'label_ranking_loss': np.float64(0.55506993006993), 'lrap': np.float64(0.4732142857142857)}\n"
     ]
    },
    {
     "name": "stderr",
     "output_type": "stream",
     "text": [
      "Epoch 45: 100%|██████████| 76/76 [01:01<00:00,  1.23it/s]\n"
     ]
    },
    {
     "name": "stdout",
     "output_type": "stream",
     "text": [
      "Training loss: 0.019916665630022947\n",
      "{'f1_sampled': 0.45617167919799495, 'f1_micro': 0.5148514851485149, 'f1_macro': 0.24762617375717408, 'f_05_sample': 0.4881165070309807, 'f_05_micro': 0.5882352941176471, 'f_05_macro': 0.28511193637127213, 'precision_sampled': 0.5307017543859649, 'precision_micro': 0.65, 'precision_macro': 0.3635704110704111, 'recall_sampled': 0.4432017543859649, 'recall_micro': 0.4262295081967213, 'recall_macro': 0.21135019245126505, 'accuracy': 0.29605263157894735, 'coverage_error': np.float64(11.0), 'label_ranking_loss': np.float64(0.55506993006993), 'lrap': np.float64(0.4732142857142857)}\n"
     ]
    },
    {
     "name": "stderr",
     "output_type": "stream",
     "text": [
      "Epoch 46:   0%|          | 0/76 [00:00<?, ?it/s]"
     ]
    },
    {
     "name": "stdout",
     "output_type": "stream",
     "text": [
      "-- Step: 0\n"
     ]
    },
    {
     "name": "stderr",
     "output_type": "stream",
     "text": [
      "Epoch 46:   1%|▏         | 1/76 [00:02<03:06,  2.49s/it]"
     ]
    },
    {
     "name": "stdout",
     "output_type": "stream",
     "text": [
      "{'f1_sampled': 0.45617167919799495, 'f1_micro': 0.5148514851485149, 'f1_macro': 0.24762617375717408, 'f_05_sample': 0.4881165070309807, 'f_05_micro': 0.5882352941176471, 'f_05_macro': 0.28511193637127213, 'precision_sampled': 0.5307017543859649, 'precision_micro': 0.65, 'precision_macro': 0.3635704110704111, 'recall_sampled': 0.4432017543859649, 'recall_micro': 0.4262295081967213, 'recall_macro': 0.21135019245126505, 'accuracy': 0.29605263157894735, 'coverage_error': np.float64(11.0), 'label_ranking_loss': np.float64(0.55506993006993), 'lrap': np.float64(0.4732142857142857)}\n"
     ]
    },
    {
     "name": "stderr",
     "output_type": "stream",
     "text": [
      "Epoch 46: 100%|██████████| 76/76 [01:01<00:00,  1.23it/s]\n"
     ]
    },
    {
     "name": "stdout",
     "output_type": "stream",
     "text": [
      "Training loss: 0.019588080161300144\n",
      "{'f1_sampled': 0.44915413533834586, 'f1_micro': 0.504950495049505, 'f1_macro': 0.24193721927419376, 'f_05_sample': 0.4785222087853667, 'f_05_micro': 0.5769230769230769, 'f_05_macro': 0.2784143361705814, 'precision_sampled': 0.5175438596491228, 'precision_micro': 0.6375, 'precision_macro': 0.35548724311527546, 'recall_sampled': 0.43826754385964906, 'recall_micro': 0.4180327868852459, 'recall_macro': 0.20624815163493854, 'accuracy': 0.2894736842105263, 'coverage_error': np.float64(11.0), 'label_ranking_loss': np.float64(0.55506993006993), 'lrap': np.float64(0.4732142857142857)}\n"
     ]
    },
    {
     "name": "stderr",
     "output_type": "stream",
     "text": [
      "Epoch 47:   0%|          | 0/76 [00:00<?, ?it/s]"
     ]
    },
    {
     "name": "stdout",
     "output_type": "stream",
     "text": [
      "-- Step: 0\n"
     ]
    },
    {
     "name": "stderr",
     "output_type": "stream",
     "text": [
      "Epoch 47:   1%|▏         | 1/76 [00:02<03:05,  2.48s/it]"
     ]
    },
    {
     "name": "stdout",
     "output_type": "stream",
     "text": [
      "{'f1_sampled': 0.44915413533834586, 'f1_micro': 0.5062034739454094, 'f1_macro': 0.24273013588579678, 'f_05_sample': 0.4785222087853667, 'f_05_micro': 0.5795454545454546, 'f_05_macro': 0.28016414296274816, 'precision_sampled': 0.5175438596491228, 'precision_micro': 0.6415094339622641, 'precision_macro': 0.3582883635634547, 'recall_sampled': 0.43826754385964906, 'recall_micro': 0.4180327868852459, 'recall_macro': 0.20624815163493854, 'accuracy': 0.29605263157894735, 'coverage_error': np.float64(11.0), 'label_ranking_loss': np.float64(0.55506993006993), 'lrap': np.float64(0.4732142857142857)}\n"
     ]
    },
    {
     "name": "stderr",
     "output_type": "stream",
     "text": [
      "Epoch 47: 100%|██████████| 76/76 [01:01<00:00,  1.23it/s]\n"
     ]
    },
    {
     "name": "stdout",
     "output_type": "stream",
     "text": [
      "Training loss: 0.019174925970697875\n",
      "{'f1_sampled': 0.44959273182957393, 'f1_micro': 0.5061425061425061, 'f1_macro': 0.2456217458745485, 'f_05_sample': 0.4797100742824427, 'f_05_micro': 0.5747767857142857, 'f_05_macro': 0.28184148112849966, 'precision_sampled': 0.5208333333333333, 'precision_micro': 0.6319018404907976, 'precision_macro': 0.35877550506036965, 'recall_sampled': 0.43991228070175437, 'recall_micro': 0.42213114754098363, 'recall_macro': 0.21030437182416364, 'accuracy': 0.2894736842105263, 'coverage_error': np.float64(11.0), 'label_ranking_loss': np.float64(0.55506993006993), 'lrap': np.float64(0.4732142857142857)}\n"
     ]
    },
    {
     "name": "stderr",
     "output_type": "stream",
     "text": [
      "Epoch 48:   0%|          | 0/76 [00:00<?, ?it/s]"
     ]
    },
    {
     "name": "stdout",
     "output_type": "stream",
     "text": [
      "-- Step: 0\n"
     ]
    },
    {
     "name": "stderr",
     "output_type": "stream",
     "text": [
      "Epoch 48:   1%|▏         | 1/76 [00:02<03:05,  2.48s/it]"
     ]
    },
    {
     "name": "stdout",
     "output_type": "stream",
     "text": [
      "{'f1_sampled': 0.44959273182957393, 'f1_micro': 0.5061425061425061, 'f1_macro': 0.2456217458745485, 'f_05_sample': 0.4797100742824427, 'f_05_micro': 0.5747767857142857, 'f_05_macro': 0.28184148112849966, 'precision_sampled': 0.5208333333333333, 'precision_micro': 0.6319018404907976, 'precision_macro': 0.35877550506036965, 'recall_sampled': 0.43991228070175437, 'recall_micro': 0.42213114754098363, 'recall_macro': 0.21030437182416364, 'accuracy': 0.2894736842105263, 'coverage_error': np.float64(11.0), 'label_ranking_loss': np.float64(0.55506993006993), 'lrap': np.float64(0.4732142857142857)}\n"
     ]
    },
    {
     "name": "stderr",
     "output_type": "stream",
     "text": [
      "Epoch 48: 100%|██████████| 76/76 [01:01<00:00,  1.23it/s]\n"
     ]
    },
    {
     "name": "stdout",
     "output_type": "stream",
     "text": [
      "Training loss: 0.019015893242076823\n",
      "{'f1_sampled': 0.45397869674185465, 'f1_micro': 0.5098039215686274, 'f1_macro': 0.24772258621068294, 'f_05_sample': 0.4851925304227937, 'f_05_micro': 0.5777777777777777, 'f_05_macro': 0.283569591727578, 'precision_sampled': 0.5274122807017543, 'precision_micro': 0.6341463414634146, 'precision_macro': 0.3601989005055043, 'recall_sampled': 0.4432017543859649, 'recall_micro': 0.4262295081967213, 'recall_macro': 0.21285539223232688, 'accuracy': 0.2894736842105263, 'coverage_error': np.float64(11.0), 'label_ranking_loss': np.float64(0.55506993006993), 'lrap': np.float64(0.4732142857142857)}\n"
     ]
    },
    {
     "name": "stderr",
     "output_type": "stream",
     "text": [
      "Epoch 49:   0%|          | 0/76 [00:00<?, ?it/s]"
     ]
    },
    {
     "name": "stdout",
     "output_type": "stream",
     "text": [
      "-- Step: 0\n"
     ]
    },
    {
     "name": "stderr",
     "output_type": "stream",
     "text": [
      "Epoch 49:   1%|▏         | 1/76 [00:02<03:06,  2.49s/it]"
     ]
    },
    {
     "name": "stdout",
     "output_type": "stream",
     "text": [
      "{'f1_sampled': 0.45397869674185465, 'f1_micro': 0.5098039215686274, 'f1_macro': 0.24772258621068294, 'f_05_sample': 0.4851925304227937, 'f_05_micro': 0.5777777777777777, 'f_05_macro': 0.283569591727578, 'precision_sampled': 0.5274122807017543, 'precision_micro': 0.6341463414634146, 'precision_macro': 0.3601989005055043, 'recall_sampled': 0.4432017543859649, 'recall_micro': 0.4262295081967213, 'recall_macro': 0.21285539223232688, 'accuracy': 0.2894736842105263, 'coverage_error': np.float64(11.0), 'label_ranking_loss': np.float64(0.55506993006993), 'lrap': np.float64(0.4732142857142857)}\n"
     ]
    },
    {
     "name": "stderr",
     "output_type": "stream",
     "text": [
      "Epoch 49: 100%|██████████| 76/76 [01:02<00:00,  1.22it/s]\n"
     ]
    },
    {
     "name": "stdout",
     "output_type": "stream",
     "text": [
      "Training loss: 0.018685865252719897\n",
      "{'f1_sampled': 0.45397869674185465, 'f1_micro': 0.5098039215686274, 'f1_macro': 0.24772258621068294, 'f_05_sample': 0.4851925304227937, 'f_05_micro': 0.5777777777777777, 'f_05_macro': 0.283569591727578, 'precision_sampled': 0.5274122807017543, 'precision_micro': 0.6341463414634146, 'precision_macro': 0.3601989005055043, 'recall_sampled': 0.4432017543859649, 'recall_micro': 0.4262295081967213, 'recall_macro': 0.21285539223232688, 'accuracy': 0.2894736842105263, 'coverage_error': np.float64(11.0), 'label_ranking_loss': np.float64(0.55506993006993), 'lrap': np.float64(0.4732142857142857)}\n"
     ]
    }
   ],
   "source": [
    "best_model_ta, best_val_weighted_f1_score_ta = run()"
   ]
  },
  {
   "cell_type": "code",
   "execution_count": 39,
   "id": "e146a70a",
   "metadata": {},
   "outputs": [],
   "source": [
    "def test(model, val_dataloader, criterion, is_final_test=False):\n",
    "    global device\n",
    "\n",
    "    val_loss = 0\n",
    "    true, pred = [], []\n",
    "\n",
    "    model.eval()\n",
    "\n",
    "    results = {}\n",
    "\n",
    "    for step, batch in enumerate(val_dataloader):\n",
    "        b_input_ids = batch['input_ids'].to(device)\n",
    "        b_attention_mask = batch['attention_mask'].to(device)\n",
    "        b_labels = batch['labels'].to(device)\n",
    "\n",
    "        with torch.no_grad():\n",
    "            logits = model(input_ids=b_input_ids, attention_mask=b_attention_mask)\n",
    "\n",
    "            loss = criterion(logits, b_labels)\n",
    "            val_loss += loss.item()\n",
    "\n",
    "            logits = torch.sigmoid(logits)\n",
    "            logits = np.round(logits.cpu().numpy())\n",
    "            labels = b_labels.cpu().numpy()\n",
    "\n",
    "            pred.extend(logits)\n",
    "            true.extend(labels)\n",
    "\n",
    "    # avg_val_loss = val_loss / len(val_dataloader)\n",
    "    # print('Val loss:', avg_val_loss)\n",
    "    # print('Val accuracy:', accuracy_score(true, pred))\n",
    "\n",
    "    # print('Val precision:', precision_score(true, pred, average='weighted'))\n",
    "    # print('Val recall:', recall_score(true, pred, average='weighted'))\n",
    "\n",
    "    # val_micro_f1_score = f1_score(true, pred, average='micro')\n",
    "    # print('Val micro f1 score:', val_micro_f1_score)\n",
    "\n",
    "    # val_macro_f1_score = f1_score(true, pred, average='macro')\n",
    "    # print('Val macro f1 score:', val_macro_f1_score)\n",
    "\n",
    "    val_weighted_f1_score = f1_score(true, pred, average='weighted')\n",
    "    # print('Val weighted f1 score:', val_weighted_f1_score)\n",
    "\n",
    "    results.update({\n",
    "        \"f1_sampled\": f1_score(true, pred, average='samples', zero_division=0),\n",
    "        \"f1_micro\": f1_score(true, pred, average='micro', zero_division=0),\n",
    "        \"f1_macro\": f1_score(true, pred, average='macro', zero_division=0),\n",
    "        \"f_05_sample\": fbeta_score(true, pred, average='samples', beta=0.5, zero_division=0),\n",
    "        \"f_05_micro\": fbeta_score(true, pred, average='micro', beta=0.5, zero_division=0),\n",
    "        \"f_05_macro\": fbeta_score(true, pred, average='macro', beta=0.5, zero_division=0),\n",
    "        \"precision_sampled\": precision_score(true, pred, average='samples', zero_division=0),\n",
    "        \"precision_micro\": precision_score(true, pred, average='micro', zero_division=0),\n",
    "        \"precision_macro\": precision_score(true, pred, average='macro', zero_division=0),\n",
    "        \"recall_sampled\": recall_score(true, pred, average='samples', zero_division=0),\n",
    "        \"recall_micro\": recall_score(true, pred, average='micro', zero_division=0),\n",
    "        \"recall_macro\": recall_score(true, pred, average='macro', zero_division=0),\n",
    "        \"accuracy\": accuracy_score(true, pred),\n",
    "        })\n",
    "\n",
    "    labels_float = labels.astype(float)\n",
    "    results.update({\n",
    "        \"coverage_error\": coverage_error(labels_float, logits),\n",
    "        \"label_ranking_loss\": label_ranking_loss(labels_float, logits),\n",
    "        \"lrap\": label_ranking_average_precision_score(labels_float, logits),\n",
    "    })\n",
    "\n",
    "    metrics_log.append(results.copy())\n",
    "\n",
    "    print(results)\n",
    "\n",
    "    return results\n"
   ]
  },
  {
   "cell_type": "code",
   "execution_count": 40,
   "id": "f5caffc2",
   "metadata": {},
   "outputs": [
    {
     "name": "stdout",
     "output_type": "stream",
     "text": [
      "{'f1_sampled': 0.4778508771929824, 'f1_micro': 0.5407925407925408, 'f1_macro': 0.30982419835803293, 'f_05_sample': 0.49869109326346167, 'f_05_micro': 0.5840886203423967, 'f_05_macro': 0.3394434967160963, 'precision_sampled': 0.5274122807017543, 'precision_micro': 0.6170212765957447, 'precision_macro': 0.37083580833580837, 'recall_sampled': 0.4797149122807017, 'recall_micro': 0.48132780082987553, 'recall_macro': 0.28527484213876475, 'accuracy': 0.24342105263157895, 'coverage_error': np.float64(10.75), 'label_ranking_loss': np.float64(0.5833333333333333), 'lrap': np.float64(0.488095238095238)}\n"
     ]
    }
   ],
   "source": [
    "criterion = nn.BCEWithLogitsLoss()\n",
    "results = test(best_model_ta, test_dataloader, criterion, is_final_test=True)"
   ]
  },
  {
   "cell_type": "code",
   "execution_count": 41,
   "id": "4138f077",
   "metadata": {},
   "outputs": [
    {
     "name": "stdout",
     "output_type": "stream",
     "text": [
      "f1_sampled: 0.4779\n",
      "f1_micro: 0.5408\n",
      "f1_macro: 0.3098\n",
      "f_05_sample: 0.4987\n",
      "f_05_micro: 0.5841\n",
      "f_05_macro: 0.3394\n",
      "precision_sampled: 0.5274\n",
      "precision_micro: 0.6170\n",
      "precision_macro: 0.3708\n",
      "recall_sampled: 0.4797\n",
      "recall_micro: 0.4813\n",
      "recall_macro: 0.2853\n",
      "accuracy: 0.2434\n",
      "coverage_error: 10.7500\n",
      "label_ranking_loss: 0.5833\n",
      "lrap: 0.4881\n"
     ]
    }
   ],
   "source": [
    "for k, v in results.items(): \n",
    "    print(f\"{k}: {v:.4f}\")"
   ]
  },
  {
   "cell_type": "code",
   "execution_count": null,
   "id": "a4624360",
   "metadata": {},
   "outputs": [],
   "source": [
    "criterion = nn.BCEWithLogitsLoss()\n",
    "results_val = test(best_model_ta, val_dataloader, criterion, is_final_test=True)"
   ]
  },
  {
   "cell_type": "code",
   "execution_count": null,
   "id": "6224f5d4",
   "metadata": {},
   "outputs": [],
   "source": [
    "for k, v in results_val.items(): \n",
    "    print(f\"{k}: {v:.4f}\")"
   ]
  },
  {
   "cell_type": "markdown",
   "id": "5be5419c",
   "metadata": {},
   "source": [
    "# Metrics log"
   ]
  },
  {
   "cell_type": "code",
   "execution_count": 42,
   "id": "f260906d",
   "metadata": {},
   "outputs": [],
   "source": [
    "metrics_data = {\n",
    "    'f1_sampled': [],\n",
    "    'f1_micro': [],\n",
    "    'f1_macro': [],\n",
    "    'f_05_sample': [],\n",
    "    'f_05_micro': [],\n",
    "    'f_05_macro': [],\n",
    "    'precision_sampled': [],\n",
    "    'precision_micro': [],\n",
    "    'precision_macro': [],\n",
    "    'recall_sampled': [],\n",
    "    'recall_micro': [],\n",
    "    'recall_macro': [],\n",
    "    'accuracy': [],\n",
    "    'coverage_error': [],\n",
    "    'label_ranking_loss': [],\n",
    "    'lrap': []\n",
    "}\n",
    "\n",
    "# 遍歷你的日誌數據，提取數值\n",
    "for log_entry in metrics_log:\n",
    "    for metric_name, value in log_entry.items():\n",
    "        metrics_data[metric_name].append(float(value)) # 確保轉換為 float"
   ]
  },
  {
   "cell_type": "code",
   "execution_count": 43,
   "id": "c8d0eb89",
   "metadata": {},
   "outputs": [
    {
     "name": "stdout",
     "output_type": "stream",
     "text": [
      "{'f1_sampled': [0.207720532391585, 0.0, 0.0, 0.0, 0.0, 0.21425438596491225, 0.1989035087719298, 0.34849624060150375, 0.3511278195488722, 0.31920426065162905, 0.3419172932330827, 0.39902882205513784, 0.4154761904761905, 0.37493734335839596, 0.38195488721804505, 0.4283208020050125, 0.4384085213032582, 0.4543546365914787, 0.456547619047619, 0.46284461152882206, 0.4661340852130326, 0.5020989974937343, 0.493327067669173, 0.43236215538847117, 0.47402882205513786, 0.4317042606516291, 0.4338972431077694, 0.35451127819548867, 0.36109022556390974, 0.39025689223057647, 0.3924498746867167, 0.40548245614035083, 0.4186403508771929, 0.4070175438596491, 0.4070175438596491, 0.43161027568922306, 0.4272243107769423, 0.45617167919799495, 0.4484962406015038, 0.44586466165413535, 0.44257518796992484, 0.45494987468671677, 0.46130952380952384, 0.4470551378446116, 0.45144110275689225, 0.4560463659147869, 0.4538533834586467, 0.44880952380952377, 0.44223057644110275, 0.44552005012531326, 0.4450814536340852, 0.45003132832080195, 0.456610275689223, 0.4272243107769423, 0.4381892230576441, 0.4228383458646617, 0.4217418546365915, 0.44520676691729316, 0.44586466165413535, 0.43862781954887214, 0.43862781954887214, 0.4401629072681705, 0.44082080200501256, 0.4360902255639097, 0.4349937343358395, 0.46394110275689227, 0.45867794486215535, 0.45319548872180443, 0.45758145363408526, 0.46087092731829576, 0.462844611528822, 0.44880952380952377, 0.44880952380952377, 0.4290726817042606, 0.4334586466165414, 0.41043233082706765, 0.41043233082706765, 0.4378446115288221, 0.4378446115288221, 0.430952380952381, 0.4353383458646617, 0.437406015037594, 0.4400375939849624, 0.4286340852130326, 0.4286340852130326, 0.4345551378446116, 0.4345551378446116, 0.44082080200501256, 0.44082080200501256, 0.43687343358395986, 0.43687343358395986, 0.45617167919799495, 0.45617167919799495, 0.44915413533834586, 0.44915413533834586, 0.44959273182957393, 0.44959273182957393, 0.45397869674185465, 0.45397869674185465, 0.45397869674185465, 0.4778508771929824], 'f1_micro': [0.22700587084148727, 0.0, 0.0, 0.0, 0.0, 0.2857142857142857, 0.2702702702702703, 0.42777777777777776, 0.43010752688172044, 0.3942857142857143, 0.41509433962264153, 0.46831955922865015, 0.4838709677419355, 0.45194805194805193, 0.46113989637305697, 0.4876847290640394, 0.4975369458128079, 0.5124378109452736, 0.5135802469135803, 0.5147058823529411, 0.5194174757281553, 0.5370370370370371, 0.5287356321839081, 0.4925373134328358, 0.5202863961813843, 0.48936170212765956, 0.49214659685863876, 0.42528735632183906, 0.4297994269340974, 0.4648648648648649, 0.46070460704607047, 0.493573264781491, 0.5012787723785166, 0.4909560723514212, 0.4935064935064935, 0.5012658227848101, 0.4987146529562982, 0.5128205128205128, 0.5106382978723404, 0.5097087378640777, 0.5060240963855421, 0.5084745762711864, 0.5155131264916468, 0.4975609756097561, 0.5012165450121655, 0.5036319612590799, 0.5024154589371981, 0.5012165450121655, 0.4938875305623472, 0.4963144963144963, 0.4938875305623472, 0.5061425061425061, 0.5110565110565111, 0.4876847290640394, 0.4950980392156863, 0.48120300751879697, 0.48120300751879697, 0.4891041162227603, 0.4891041162227603, 0.4889975550122249, 0.4889975550122249, 0.48426150121065376, 0.48661800486618007, 0.4975369458128079, 0.49504950495049505, 0.5145631067961165, 0.5060827250608273, 0.5049019607843137, 0.508557457212714, 0.5204819277108433, 0.5227817745803357, 0.5061425061425061, 0.5049019607843137, 0.49872773536895676, 0.5, 0.48578811369509045, 0.4832904884318766, 0.5012531328320802, 0.5012531328320802, 0.4987405541561713, 0.5, 0.5025380710659898, 0.5063291139240507, 0.4948453608247423, 0.4948453608247423, 0.5025380710659898, 0.5025380710659898, 0.5012658227848101, 0.5037783375314862, 0.5012658227848101, 0.5025380710659898, 0.5148514851485149, 0.5148514851485149, 0.504950495049505, 0.5062034739454094, 0.5061425061425061, 0.5061425061425061, 0.5098039215686274, 0.5098039215686274, 0.5098039215686274, 0.5407925407925408], 'f1_macro': [0.12198549115504297, 0.0, 0.0, 0.0, 0.0, 0.08204876452299133, 0.07912638739706408, 0.14185674269707885, 0.14338415207980423, 0.1276697648499128, 0.13670256835128416, 0.1982109172490787, 0.2033041009447543, 0.17153385971051918, 0.18794839042797656, 0.20703393777784826, 0.21283800416864931, 0.23181317886050845, 0.23060897130524985, 0.25422762441779023, 0.2561478604450344, 0.25061894237562327, 0.24640495821173064, 0.22561496250715843, 0.24159012194729318, 0.22471571056476716, 0.22590542426608, 0.18801161882794534, 0.19126299050036968, 0.2036365142990856, 0.20464446691994143, 0.22971915842928325, 0.23363892749453427, 0.2167146384181911, 0.2199887486458319, 0.23425408843723453, 0.23124286274319558, 0.24756964368852916, 0.24737845104678519, 0.2483207725474213, 0.2478271023984179, 0.24484146419627928, 0.24990759793888362, 0.24249984573099734, 0.24331535415535474, 0.24486451923426714, 0.24338426593379014, 0.24278102815740157, 0.2321279785166638, 0.23978299842065567, 0.23804389067419654, 0.2476106464536847, 0.2500617343670183, 0.2290835258167008, 0.23140898522124184, 0.23017614707751946, 0.23222995989728318, 0.23219780934575768, 0.23175933692708725, 0.23240619685820837, 0.23240619685820837, 0.23365763198553255, 0.23440167960458017, 0.23759782636629925, 0.23626582503429794, 0.24755724846812774, 0.24484554199641279, 0.24072324241116444, 0.2446914963794184, 0.254899539522638, 0.25680580835928657, 0.24616464556187098, 0.245329711939094, 0.23995621788079483, 0.24079862762731416, 0.2268009092225549, 0.2253195631886596, 0.2401521204128845, 0.2401521204128845, 0.24192795555052077, 0.24289222133437421, 0.24332420434849703, 0.2453976026483104, 0.23570025325532615, 0.23570025325532615, 0.24234644117448584, 0.24234644117448584, 0.24139464236398783, 0.24250571492965003, 0.24200073323978202, 0.2428597262356853, 0.24762617375717408, 0.24762617375717408, 0.24193721927419376, 0.24273013588579678, 0.2456217458745485, 0.2456217458745485, 0.24772258621068294, 0.24772258621068294, 0.24772258621068294, 0.30982419835803293], 'f_05_sample': [0.16612840385552088, 0.0, 0.0, 0.0, 0.0, 0.23578477443609022, 0.21824091478696744, 0.372661421181158, 0.3727527954501639, 0.3438674812030075, 0.3646204855086434, 0.43020311194653305, 0.4466504803675856, 0.403828581871345, 0.4101856203007519, 0.45969007235454606, 0.4707071985032511, 0.4827751287455234, 0.48493999604196975, 0.49569390770048666, 0.49856567044067046, 0.5319077851972589, 0.5224048612206506, 0.45431323062902007, 0.5019844921160711, 0.46975630363788257, 0.47048729778992937, 0.39690371762740184, 0.4034826649958229, 0.42448688007898533, 0.42741085668717244, 0.43251156737998847, 0.44566946211683056, 0.43255392268550164, 0.43255392268550164, 0.4633540801303959, 0.45844798476377424, 0.480601968121318, 0.47094441076639215, 0.473349019401651, 0.4682320603373235, 0.48739655812024235, 0.4905056566240777, 0.4793861109650583, 0.4830410817252922, 0.4868764276659013, 0.48395245105771423, 0.4815166558587611, 0.47493770849034006, 0.4785645640908799, 0.47776711592501064, 0.480088989957411, 0.4866679373258321, 0.4515557541873332, 0.46178967231598816, 0.4465432228590123, 0.44758750021907917, 0.47179063626432055, 0.4727304858883807, 0.47245636308136313, 0.47245636308136313, 0.47001655143102516, 0.4717253689293163, 0.46054092106723693, 0.460569036226931, 0.49710569036226926, 0.4939684766987399, 0.486345251970252, 0.490000222730486, 0.490000222730486, 0.49128183585420426, 0.4808627958299011, 0.4808627958299011, 0.46331893618077824, 0.46697390694101226, 0.44107582841135473, 0.44107582841135473, 0.47099437477726963, 0.47099437477726963, 0.46146333564096725, 0.4669457917813181, 0.46980650928019346, 0.4739183513854566, 0.45748403643140484, 0.45748403643140484, 0.46446764127685186, 0.46446764127685186, 0.4735769530177425, 0.4717494676376255, 0.4656297649718703, 0.4656297649718703, 0.4881165070309807, 0.4881165070309807, 0.4785222087853667, 0.4785222087853667, 0.4797100742824427, 0.4797100742824427, 0.4851925304227937, 0.4851925304227937, 0.4851925304227937, 0.49869109326346167], 'f_05_micro': [0.1728247914183552, 0.0, 0.0, 0.0, 0.0, 0.4555084745762712, 0.4424778761061947, 0.5437853107344632, 0.5291005291005291, 0.5164670658682635, 0.511968085106383, 0.5902777777777778, 0.5952380952380952, 0.5383663366336634, 0.5480295566502463, 0.554932735426009, 0.5661434977578476, 0.5878995433789954, 0.5855855855855856, 0.5833333333333334, 0.584061135371179, 0.5823293172690763, 0.5704365079365079, 0.565068493150685, 0.5773305084745762, 0.5958549222797928, 0.5904522613065326, 0.5606060606060606, 0.5647590361445783, 0.5748663101604278, 0.571236559139785, 0.5825242718446602, 0.5889423076923077, 0.5821078431372549, 0.5878712871287128, 0.5837264150943396, 0.5885922330097088, 0.5589430894308943, 0.5625, 0.5731441048034934, 0.5657327586206896, 0.5706521739130435, 0.5720338983050848, 0.5616740088105727, 0.5646929824561403, 0.5652173913043478, 0.5627705627705628, 0.5646929824561403, 0.5586283185840708, 0.5636160714285714, 0.5586283185840708, 0.5747767857142857, 0.5803571428571429, 0.554932735426009, 0.5611111111111111, 0.5555555555555556, 0.5555555555555556, 0.5489130434782609, 0.5489130434782609, 0.5530973451327433, 0.5530973451327433, 0.5434782608695652, 0.5482456140350878, 0.5661434977578476, 0.5656108597285068, 0.5786026200873362, 0.5701754385964912, 0.5722222222222222, 0.5752212389380531, 0.5818965517241379, 0.5822649572649573, 0.5747767857142857, 0.5722222222222222, 0.5833333333333334, 0.5809859154929577, 0.5759803921568627, 0.5703883495145631, 0.5787037037037037, 0.5787037037037037, 0.5782710280373832, 0.576036866359447, 0.5864928909952607, 0.589622641509434, 0.5853658536585366, 0.5853658536585366, 0.5864928909952607, 0.5864928909952607, 0.5837264150943396, 0.5841121495327103, 0.5837264150943396, 0.5864928909952607, 0.5882352941176471, 0.5882352941176471, 0.5769230769230769, 0.5795454545454546, 0.5747767857142857, 0.5747767857142857, 0.5777777777777777, 0.5777777777777777, 0.5777777777777777, 0.5840886203423967], 'f_05_macro': [0.10213858952702962, 0.0, 0.0, 0.0, 0.0, 0.09667513293527018, 0.09808410543704661, 0.16369355580678654, 0.16341316351370744, 0.1493948069423848, 0.15565176083434887, 0.24651837745825608, 0.24853991675268805, 0.21099498296171487, 0.23333394872552277, 0.22635009916373505, 0.23771829478191514, 0.2562272182229685, 0.2563661355093875, 0.28400411133267994, 0.2842395677251451, 0.25804717497264085, 0.25284950289759833, 0.24688405067636277, 0.25440521881425127, 0.26370978302858206, 0.2619543364369901, 0.23582541748685376, 0.23951844577004597, 0.24392902537320185, 0.24554172925789006, 0.2738362712969811, 0.27542815403072685, 0.2575067733447372, 0.263371454215183, 0.2786776900236753, 0.2763863665340791, 0.27315612791713595, 0.27534820622602596, 0.28437271432649447, 0.2832545680568127, 0.27669106440077457, 0.28005290396347193, 0.27432804667572824, 0.2736385000626303, 0.2723339324034255, 0.2704505496071358, 0.2720743492131991, 0.25326389426804247, 0.2717937079922273, 0.26873018033801116, 0.2815393034511716, 0.28342491339827175, 0.2633150538767158, 0.2642350339377057, 0.26511809966298877, 0.266254448131882, 0.2611621749386651, 0.26041214167106047, 0.2624864927390021, 0.2624864927390021, 0.26301815630843667, 0.2642200793853598, 0.2707011653384288, 0.26966281896539684, 0.27605084198161345, 0.27438093180882844, 0.2736487610811591, 0.2770696696744815, 0.2825821167974574, 0.2835977738479097, 0.2835514357891314, 0.2820508355490354, 0.2817368037159402, 0.28190823592518754, 0.2711240393135451, 0.2684713653407302, 0.2785818447712491, 0.2785818447712491, 0.28154808145880017, 0.2813272558928555, 0.2845951942496549, 0.2863053036966595, 0.2805184301416856, 0.2805184301416856, 0.2831719740130915, 0.2831719740130915, 0.28279279736865803, 0.2826674794955561, 0.28185123504971726, 0.28374685907456454, 0.28511193637127213, 0.28511193637127213, 0.2784143361705814, 0.28016414296274816, 0.28184148112849966, 0.28184148112849966, 0.283569591727578, 0.283569591727578, 0.283569591727578, 0.3394434967160963], 'precision_sampled': [0.1481516290726817, 0.0, 0.0, 0.0, 0.0, 0.2598684210526316, 0.24013157894736842, 0.40460526315789475, 0.40460526315789475, 0.375, 0.39473684210526316, 0.47039473684210525, 0.4868421052631579, 0.4407894736842105, 0.4473684210526316, 0.5021929824561403, 0.5142543859649122, 0.5197368421052632, 0.5219298245614035, 0.5339912280701754, 0.5372807017543859, 0.569078947368421, 0.5592105263157895, 0.48245614035087714, 0.5383771929824561, 0.5164473684210527, 0.5164473684210527, 0.4473684210526316, 0.45394736842105265, 0.46710526315789475, 0.47039473684210525, 0.46820175438596484, 0.48135964912280693, 0.46710526315789475, 0.46710526315789475, 0.5043859649122806, 0.4989035087719298, 0.5169956140350878, 0.5049342105263158, 0.5120614035087719, 0.5054824561403508, 0.5285087719298246, 0.5285087719298246, 0.5197368421052632, 0.5230263157894737, 0.5263157894736842, 0.5230263157894737, 0.5219298245614035, 0.5153508771929824, 0.5186403508771931, 0.5175438596491228, 0.5197368421052632, 0.5263157894736842, 0.4857456140350877, 0.4956140350877193, 0.47916666666666663, 0.48245614035087714, 0.5087719298245613, 0.5098684210526315, 0.5164473684210527, 0.5164473684210527, 0.5098684210526315, 0.5131578947368421, 0.49561403508771934, 0.4967105263157895, 0.5427631578947368, 0.5416666666666667, 0.5317982456140351, 0.5350877192982457, 0.5317982456140351, 0.5317982456140351, 0.5252192982456141, 0.5252192982456141, 0.5087719298245614, 0.5120614035087719, 0.48245614035087725, 0.48245614035087725, 0.5153508771929826, 0.5153508771929826, 0.5021929824561403, 0.5087719298245613, 0.5120614035087719, 0.5186403508771931, 0.49561403508771934, 0.49561403508771934, 0.5054824561403509, 0.5054824561403509, 0.5153508771929826, 0.5120614035087719, 0.5021929824561404, 0.5021929824561404, 0.5307017543859649, 0.5307017543859649, 0.5175438596491228, 0.5175438596491228, 0.5208333333333333, 0.5208333333333333, 0.5274122807017543, 0.5274122807017543, 0.5274122807017543, 0.5274122807017543], 'precision_micro': [0.14910025706940874, 0.0, 0.0, 0.0, 0.0, 0.7543859649122807, 0.7692307692307693, 0.6637931034482759, 0.625, 0.6509433962264151, 0.6062992125984252, 0.7142857142857143, 0.703125, 0.6170212765957447, 0.6267605633802817, 0.6111111111111112, 0.6234567901234568, 0.6518987341772152, 0.6459627329192547, 0.6402439024390244, 0.6369047619047619, 0.6170212765957447, 0.6020942408376964, 0.6265822784810127, 0.6228571428571429, 0.696969696969697, 0.6811594202898551, 0.7115384615384616, 0.7142857142857143, 0.6825396825396826, 0.68, 0.6620689655172414, 0.6666666666666666, 0.6643356643356644, 0.6737588652482269, 0.6556291390728477, 0.6689655172413793, 0.5945945945945946, 0.6033519553072626, 0.625, 0.6140350877192983, 0.621301775147929, 0.6171428571428571, 0.6144578313253012, 0.6167664670658682, 0.6153846153846154, 0.611764705882353, 0.6167664670658682, 0.6121212121212121, 0.6196319018404908, 0.6121212121212121, 0.6319018404907976, 0.6380368098159509, 0.6111111111111112, 0.6158536585365854, 0.6193548387096774, 0.6193548387096774, 0.5976331360946746, 0.5976331360946746, 0.6060606060606061, 0.6060606060606061, 0.591715976331361, 0.5988023952095808, 0.6234567901234568, 0.625, 0.6309523809523809, 0.6227544910179641, 0.6280487804878049, 0.6303030303030303, 0.631578947368421, 0.630057803468208, 0.6319018404907976, 0.6280487804878049, 0.6577181208053692, 0.6513157894736842, 0.6573426573426573, 0.6482758620689655, 0.6451612903225806, 0.6451612903225806, 0.6470588235294118, 0.6410256410256411, 0.66, 0.6622516556291391, 0.6666666666666666, 0.6666666666666666, 0.66, 0.66, 0.6556291390728477, 0.6535947712418301, 0.6556291390728477, 0.66, 0.65, 0.65, 0.6375, 0.6415094339622641, 0.6319018404907976, 0.6319018404907976, 0.6341463414634146, 0.6341463414634146, 0.6341463414634146, 0.6170212765957447], 'precision_macro': [0.09698613286831799, 0.0, 0.0, 0.0, 0.0, 0.11238761238761238, 0.12244897959183675, 0.21348850274573108, 0.2054157175916799, 0.2107844486022452, 0.19348118122105332, 0.3125059457745362, 0.30989414396855414, 0.3409612074672315, 0.30677655677655674, 0.26017569818625125, 0.2973964310999125, 0.2788349077822762, 0.28384665221399913, 0.33910173647015757, 0.33716640289220934, 0.2640577705283587, 0.25822240607954894, 0.26533979450059675, 0.26445887445887445, 0.3054464553116844, 0.2998972645711776, 0.29744897959183675, 0.3004251700680272, 0.29101644088166995, 0.2912715429224863, 0.3424789245841877, 0.34066766566766565, 0.3470263105242097, 0.3542509311416874, 0.3684311720026005, 0.3679090333225671, 0.3400551300551301, 0.3441301135838951, 0.36323079956620324, 0.36137542853789995, 0.35238541674995716, 0.3541528352729829, 0.35208705127072476, 0.3486210317460317, 0.34317827817625907, 0.34119132385847767, 0.3447991294419866, 0.2745846800258565, 0.3470541363398506, 0.342959619745334, 0.3573117071100942, 0.3581665358451072, 0.34083710096942, 0.340735355725868, 0.30315675854695817, 0.3027891156462585, 0.30289721912088535, 0.30191570949575874, 0.2974130036630037, 0.2974130036630037, 0.3043063186813187, 0.30581841545551225, 0.3147346313107183, 0.314014585227769, 0.3158815141812123, 0.3156113727542299, 0.3190550133096717, 0.3214359656906241, 0.31269008769008766, 0.31254366548484197, 0.36281070120355835, 0.3607756991685563, 0.3661302982731554, 0.3656215477644049, 0.3597438200339275, 0.35615602296786963, 0.3588661338661338, 0.3588661338661338, 0.36192179913110145, 0.3607892107892107, 0.3667965367965368, 0.36822510822510823, 0.36743081479923584, 0.36743081479923584, 0.3645673017766041, 0.3645673017766041, 0.3652077001013171, 0.3637791286727457, 0.3617975261453522, 0.3648320732975464, 0.3635704110704111, 0.3635704110704111, 0.35548724311527546, 0.3582883635634547, 0.35877550506036965, 0.35877550506036965, 0.3601989005055043, 0.3601989005055043, 0.3601989005055043, 0.37083580833580837], 'recall_sampled': [0.43410087719298246, 0.0, 0.0, 0.0, 0.0, 0.19791666666666669, 0.18475877192982457, 0.3384868421052632, 0.35000000000000003, 0.3053728070175439, 0.33190789473684207, 0.37883771929824556, 0.3952850877192982, 0.3607456140350877, 0.37006578947368424, 0.4141447368421053, 0.42401315789473676, 0.44046052631578947, 0.44375000000000003, 0.43881578947368416, 0.4442982456140351, 0.4876096491228071, 0.481030701754386, 0.4251096491228071, 0.4634868421052631, 0.4029605263157895, 0.4095394736842105, 0.31743421052631576, 0.32401315789473684, 0.3675438596491228, 0.3675438596491228, 0.3955043859649122, 0.40866228070175437, 0.39769736842105263, 0.39769736842105263, 0.41688596491228064, 0.4119517543859649, 0.4607456140350877, 0.4525219298245614, 0.44484649122807024, 0.44484649122807024, 0.4432017543859649, 0.45526315789473687, 0.43388157894736834, 0.4404605263157894, 0.44484649122807013, 0.44484649122807013, 0.43059210526315783, 0.42401315789473676, 0.42510964912280697, 0.42510964912280697, 0.43936403508771926, 0.44594298245614034, 0.42291666666666666, 0.43607456140350875, 0.418530701754386, 0.4141447368421053, 0.43826754385964917, 0.43826754385964917, 0.42017543859649126, 0.42017543859649126, 0.42675438596491233, 0.42675438596491233, 0.4316885964912281, 0.4283991228070176, 0.45087719298245615, 0.4421052631578948, 0.4399122807017544, 0.4464912280701755, 0.45307017543859657, 0.45526315789473687, 0.4366228070175438, 0.4366228070175438, 0.4103070175438596, 0.41688596491228064, 0.39495614035087717, 0.39495614035087717, 0.42017543859649126, 0.42017543859649126, 0.41688596491228064, 0.4201754385964912, 0.41853070175438595, 0.4201754385964912, 0.4141447368421053, 0.4141447368421053, 0.4212719298245614, 0.4212719298245614, 0.4212719298245614, 0.4245614035087719, 0.42182017543859646, 0.42182017543859646, 0.4432017543859649, 0.4432017543859649, 0.43826754385964906, 0.43826754385964906, 0.43991228070175437, 0.43991228070175437, 0.4432017543859649, 0.4432017543859649, 0.4432017543859649, 0.4797149122807017], 'recall_micro': [0.47540983606557374, 0.0, 0.0, 0.0, 0.0, 0.1762295081967213, 0.16393442622950818, 0.3155737704918033, 0.32786885245901637, 0.2827868852459016, 0.3155737704918033, 0.3483606557377049, 0.36885245901639346, 0.35655737704918034, 0.36475409836065575, 0.4057377049180328, 0.4139344262295082, 0.42213114754098363, 0.4262295081967213, 0.430327868852459, 0.4385245901639344, 0.47540983606557374, 0.4713114754098361, 0.4057377049180328, 0.44672131147540983, 0.3770491803278688, 0.38524590163934425, 0.30327868852459017, 0.3073770491803279, 0.3524590163934426, 0.3483606557377049, 0.39344262295081966, 0.4016393442622951, 0.38934426229508196, 0.38934426229508196, 0.4057377049180328, 0.3975409836065574, 0.45081967213114754, 0.4426229508196721, 0.430327868852459, 0.430327868852459, 0.430327868852459, 0.4426229508196721, 0.4180327868852459, 0.42213114754098363, 0.4262295081967213, 0.4262295081967213, 0.42213114754098363, 0.4139344262295082, 0.4139344262295082, 0.4139344262295082, 0.42213114754098363, 0.4262295081967213, 0.4057377049180328, 0.4139344262295082, 0.39344262295081966, 0.39344262295081966, 0.4139344262295082, 0.4139344262295082, 0.4098360655737705, 0.4098360655737705, 0.4098360655737705, 0.4098360655737705, 0.4139344262295082, 0.4098360655737705, 0.4344262295081967, 0.4262295081967213, 0.42213114754098363, 0.4262295081967213, 0.4426229508196721, 0.44672131147540983, 0.42213114754098363, 0.42213114754098363, 0.4016393442622951, 0.4057377049180328, 0.38524590163934425, 0.38524590163934425, 0.4098360655737705, 0.4098360655737705, 0.4057377049180328, 0.4098360655737705, 0.4057377049180328, 0.4098360655737705, 0.39344262295081966, 0.39344262295081966, 0.4057377049180328, 0.4057377049180328, 0.4057377049180328, 0.4098360655737705, 0.4057377049180328, 0.4057377049180328, 0.4262295081967213, 0.4262295081967213, 0.4180327868852459, 0.4180327868852459, 0.42213114754098363, 0.42213114754098363, 0.4262295081967213, 0.4262295081967213, 0.4262295081967213, 0.48132780082987553], 'recall_macro': [0.3146799993582339, 0.0, 0.0, 0.0, 0.0, 0.06768025606469003, 0.06275269541778976, 0.1313898457250004, 0.13595693609683415, 0.11749499840953607, 0.13129855100366644, 0.15900228793958818, 0.16706126384247227, 0.15004515715605168, 0.15802780807003763, 0.1962274392020393, 0.20003820228411012, 0.20448977434976515, 0.20472213795233046, 0.227908035497397, 0.2308085394233316, 0.24164611856406543, 0.2391830643768733, 0.2000075431976606, 0.22477836517340097, 0.18589689760754327, 0.18968183549574205, 0.1458244853956028, 0.14828753958279492, 0.16606890769093696, 0.16633663097215348, 0.19086478412378974, 0.1961807469869224, 0.18200707437322286, 0.1822379857032721, 0.19545081216932286, 0.19164004908725205, 0.22391382503941198, 0.22022018187254724, 0.21515851202719777, 0.21515851202719777, 0.21736888482821867, 0.22444272885858443, 0.21685656237309403, 0.21820427126797273, 0.22243619337969317, 0.22152593422355693, 0.2176093306430471, 0.2106819907415693, 0.21165917169768345, 0.21165917169768345, 0.2155870546949603, 0.21805010888215245, 0.1985142863284697, 0.20297857204275543, 0.19329367332442107, 0.19570913226161915, 0.20509214271217618, 0.20509214271217618, 0.20275986922307038, 0.20275986922307038, 0.20499939571832618, 0.20499939571832618, 0.20305409923391532, 0.20150130420285942, 0.21849716426602514, 0.21539157420391333, 0.2090078612984613, 0.21297611526671525, 0.22424912459538424, 0.22671217878257635, 0.21097488373962164, 0.21097488373962164, 0.20059725103113954, 0.20215004606219544, 0.18614146871821438, 0.18614146871821438, 0.20378724829441267, 0.20378724829441267, 0.2029723389973605, 0.20552335940552377, 0.2029723389973605, 0.20552335940552377, 0.1929917850566438, 0.1929917850566438, 0.20197411362025314, 0.20197411362025314, 0.201089679657989, 0.20332182251513184, 0.20211705872933125, 0.20211705872933125, 0.21135019245126505, 0.21135019245126505, 0.20624815163493854, 0.20624815163493854, 0.21030437182416364, 0.21030437182416364, 0.21285539223232688, 0.21285539223232688, 0.21285539223232688, 0.28527484213876475], 'accuracy': [0.0, 0.05921052631578947, 0.05921052631578947, 0.05921052631578947, 0.05921052631578947, 0.16447368421052633, 0.15789473684210525, 0.23026315789473684, 0.21710526315789475, 0.19736842105263158, 0.20394736842105263, 0.28289473684210525, 0.29605263157894735, 0.2236842105263158, 0.23026315789473684, 0.26973684210526316, 0.27631578947368424, 0.29605263157894735, 0.3026315789473684, 0.3026315789473684, 0.3026315789473684, 0.3223684210526316, 0.3092105263157895, 0.2894736842105263, 0.3092105263157895, 0.28289473684210525, 0.27631578947368424, 0.21710526315789475, 0.2236842105263158, 0.23684210526315788, 0.24342105263157895, 0.2565789473684211, 0.27631578947368424, 0.26973684210526316, 0.26973684210526316, 0.27631578947368424, 0.27631578947368424, 0.2631578947368421, 0.26973684210526316, 0.26973684210526316, 0.2631578947368421, 0.26973684210526316, 0.26973684210526316, 0.2631578947368421, 0.2631578947368421, 0.28289473684210525, 0.27631578947368424, 0.26973684210526316, 0.26973684210526316, 0.2894736842105263, 0.2894736842105263, 0.2894736842105263, 0.29605263157894735, 0.27631578947368424, 0.28289473684210525, 0.26973684210526316, 0.2631578947368421, 0.28289473684210525, 0.28289473684210525, 0.27631578947368424, 0.27631578947368424, 0.28289473684210525, 0.28289473684210525, 0.28289473684210525, 0.27631578947368424, 0.2894736842105263, 0.2894736842105263, 0.2894736842105263, 0.2894736842105263, 0.29605263157894735, 0.29605263157894735, 0.28289473684210525, 0.28289473684210525, 0.27631578947368424, 0.27631578947368424, 0.26973684210526316, 0.26973684210526316, 0.2894736842105263, 0.2894736842105263, 0.28289473684210525, 0.28289473684210525, 0.29605263157894735, 0.29605263157894735, 0.2894736842105263, 0.2894736842105263, 0.2894736842105263, 0.2894736842105263, 0.29605263157894735, 0.29605263157894735, 0.28289473684210525, 0.2894736842105263, 0.29605263157894735, 0.29605263157894735, 0.2894736842105263, 0.29605263157894735, 0.2894736842105263, 0.2894736842105263, 0.2894736842105263, 0.2894736842105263, 0.2894736842105263, 0.24342105263157895], 'coverage_error': [10.625, 14.0, 14.0, 14.0, 14.0, 14.0, 14.0, 12.5, 12.5, 12.5, 12.5, 12.5, 12.5, 12.5, 12.5, 10.875, 11.0, 12.5, 12.5, 12.5, 11.0, 9.375, 9.375, 9.375, 9.375, 11.0, 11.0, 14.0, 14.0, 12.5, 14.0, 12.5, 12.5, 12.5, 12.5, 12.5, 12.5, 11.0, 11.0, 12.5, 12.5, 12.5, 12.5, 12.5, 12.5, 9.375, 9.375, 11.0, 12.5, 10.875, 10.875, 10.875, 10.875, 12.5, 11.0, 12.5, 12.5, 12.5, 12.5, 12.5, 12.5, 11.0, 11.0, 12.5, 12.5, 10.875, 10.875, 10.875, 10.875, 11.0, 11.0, 11.0, 11.0, 12.5, 12.5, 12.5, 12.5, 11.0, 11.0, 11.0, 11.0, 11.0, 11.0, 12.5, 12.5, 11.0, 11.0, 11.0, 11.0, 11.0, 11.0, 11.0, 11.0, 11.0, 11.0, 11.0, 11.0, 11.0, 11.0, 11.0, 10.75], 'label_ranking_loss': [0.6470425407925408, 1.0, 1.0, 1.0, 1.0, 1.0, 1.0, 0.6919070512820513, 0.6919070512820513, 0.7335737179487178, 0.6919070512820513, 0.717948717948718, 0.686698717948718, 0.6898237179487179, 0.6898237179487179, 0.5512820512820513, 0.5608974358974359, 0.6762820512820513, 0.6762820512820513, 0.68006993006993, 0.61756993006993, 0.43006993006993005, 0.43006993006993005, 0.4473994755244755, 0.4057328088578088, 0.6311115967365968, 0.6311115967365968, 0.8052083333333333, 0.8052083333333333, 0.6936115967365968, 0.8089962121212121, 0.6838578088578089, 0.6838578088578089, 0.7217365967365967, 0.7217365967365967, 0.65194493006993, 0.68006993006993, 0.5932328088578088, 0.6213578088578089, 0.68006993006993, 0.68006993006993, 0.6557328088578088, 0.6557328088578088, 0.6838578088578089, 0.6838578088578089, 0.49635780885780884, 0.49635780885780884, 0.5588578088578089, 0.6213578088578089, 0.49256993006993005, 0.49635780885780884, 0.49256993006993005, 0.49256993006993005, 0.6592365967365967, 0.5438519813519813, 0.6592365967365967, 0.6592365967365967, 0.7217365967365967, 0.7217365967365967, 0.6592365967365967, 0.6592365967365967, 0.5967365967365967, 0.5967365967365967, 0.6592365967365967, 0.6592365967365967, 0.49256993006993005, 0.49256993006993005, 0.5342365967365967, 0.5342365967365967, 0.55506993006993, 0.55506993006993, 0.55506993006993, 0.55506993006993, 0.61756993006993, 0.61756993006993, 0.6592365967365967, 0.6592365967365967, 0.5967365967365967, 0.5967365967365967, 0.55506993006993, 0.55506993006993, 0.55506993006993, 0.55506993006993, 0.6592365967365967, 0.6592365967365967, 0.55506993006993, 0.55506993006993, 0.55506993006993, 0.55506993006993, 0.55506993006993, 0.55506993006993, 0.55506993006993, 0.55506993006993, 0.55506993006993, 0.55506993006993, 0.55506993006993, 0.55506993006993, 0.55506993006993, 0.55506993006993, 0.55506993006993, 0.5833333333333333], 'lrap': [0.23015873015873012, 0.1607142857142857, 0.1607142857142857, 0.1607142857142857, 0.1607142857142857, 0.1607142857142857, 0.1607142857142857, 0.3452380952380953, 0.3452380952380953, 0.31249999999999994, 0.3452380952380953, 0.3541666666666667, 0.3764880952380953, 0.3608630952380953, 0.3608630952380953, 0.5029761904761905, 0.4404761904761904, 0.3869047619047619, 0.3869047619047619, 0.36607142857142855, 0.41964285714285715, 0.5892857142857143, 0.5892857142857143, 0.5562996031746031, 0.5890376984126984, 0.3936011904761905, 0.3936011904761905, 0.3072916666666667, 0.3072916666666667, 0.3400297619047619, 0.2864583333333333, 0.35912698412698413, 0.35912698412698413, 0.3333333333333333, 0.3333333333333333, 0.37276785714285715, 0.36607142857142855, 0.41939484126984133, 0.41269841269841273, 0.36607142857142855, 0.36607142857142855, 0.36582341269841273, 0.36582341269841273, 0.35912698412698413, 0.35912698412698413, 0.5287698412698413, 0.5287698412698413, 0.4662698412698413, 0.4126984126984127, 0.5357142857142857, 0.5287698412698413, 0.5357142857142857, 0.5357142857142857, 0.38690476190476186, 0.44047619047619035, 0.38690476190476186, 0.38690476190476186, 0.3333333333333333, 0.3333333333333333, 0.38690476190476186, 0.38690476190476186, 0.44047619047619047, 0.44047619047619047, 0.38690476190476186, 0.38690476190476186, 0.5357142857142857, 0.5357142857142857, 0.5029761904761904, 0.5029761904761904, 0.4732142857142857, 0.4732142857142857, 0.4732142857142857, 0.4732142857142857, 0.4196428571428571, 0.4196428571428571, 0.38690476190476186, 0.38690476190476186, 0.44047619047619047, 0.44047619047619047, 0.4732142857142857, 0.4732142857142857, 0.4732142857142857, 0.4732142857142857, 0.38690476190476186, 0.38690476190476186, 0.4732142857142857, 0.4732142857142857, 0.4732142857142857, 0.4732142857142857, 0.4732142857142857, 0.4732142857142857, 0.4732142857142857, 0.4732142857142857, 0.4732142857142857, 0.4732142857142857, 0.4732142857142857, 0.4732142857142857, 0.4732142857142857, 0.4732142857142857, 0.4732142857142857, 0.488095238095238]}\n"
     ]
    }
   ],
   "source": [
    "print(metrics_data)"
   ]
  },
  {
   "cell_type": "code",
   "execution_count": 44,
   "id": "c3b84004",
   "metadata": {},
   "outputs": [
    {
     "data": {
      "image/png": "[encoded data removed]",
      "text/plain": [
       "<Figure size 1200x700 with 1 Axes>"
      ]
     },
     "metadata": {},
     "output_type": "display_data"
    }
   ],
   "source": [
    "plt.figure(figsize=(12, 7))\n",
    "epochs = range(1, len(metrics_log) + 1)\n",
    "for metric_name, values in metrics_data.items():\n",
    "    if metric_name != 'lrap' and metric_name != 'coverage_error':\n",
    "        plt.plot(epochs, values, label=metric_name)\n",
    "\n",
    "plt.xlabel('Epoch')\n",
    "plt.ylabel('Metric Value')\n",
    "plt.title('Tactic - All Metrics Over Epochs')\n",
    "plt.legend()\n",
    "plt.grid(True)\n",
    "plt.tight_layout()\n",
    "plt.show()"
   ]
  },
  {
   "cell_type": "code",
   "execution_count": 45,
   "id": "b786ee11",
   "metadata": {},
   "outputs": [
    {
     "data": {
      "image/png": "[encoded data removed]",
      "text/plain": [
       "<Figure size 1200x700 with 1 Axes>"
      ]
     },
     "metadata": {},
     "output_type": "display_data"
    }
   ],
   "source": [
    "plt.figure(figsize=(12, 7))\n",
    "epochs = range(1, len(metrics_log) + 1)\n",
    "for metric_name, values in metrics_data.items():\n",
    "    # print(f\"{metric_name}: {len(values)}\")\n",
    "    if metric_name == 'coverage_error':\n",
    "        plt.plot(epochs, values, label=metric_name)\n",
    "\n",
    "plt.xlabel('Epoch')\n",
    "plt.ylabel('Metric Value')\n",
    "plt.title('Tactic -All Metrics Over Epochs')\n",
    "plt.legend()\n",
    "plt.grid(True)\n",
    "plt.tight_layout()\n",
    "plt.show()"
   ]
  },
  {
   "cell_type": "code",
   "execution_count": 46,
   "id": "1ec70b8e",
   "metadata": {},
   "outputs": [
    {
     "data": {
      "image/png": "[encoded data removed]",
      "text/plain": [
       "<Figure size 1200x700 with 1 Axes>"
      ]
     },
     "metadata": {},
     "output_type": "display_data"
    }
   ],
   "source": [
    "plt.figure(figsize=(12, 7))\n",
    "epochs = range(1, len(metrics_log) + 1)\n",
    "for metric_name, values in metrics_data.items():\n",
    "    # print(f\"{metric_name}: {len(values)}\")\n",
    "    if metric_name == 'lrap':\n",
    "        plt.plot(epochs, values, label=metric_name)\n",
    "\n",
    "plt.xlabel('Epoch')\n",
    "plt.ylabel('Metric Value')\n",
    "plt.title('Tactic -All Metrics Over Epochs')\n",
    "plt.legend()\n",
    "plt.grid(True)\n",
    "plt.tight_layout()\n",
    "plt.show()"
   ]
  },
  {
   "cell_type": "code",
   "execution_count": 47,
   "id": "44a17fa5",
   "metadata": {},
   "outputs": [],
   "source": [
    "def print_F1_based_on_distribution(y_true, y_pred, Y, columns):\n",
    "  fig,ax = plt.subplots()\n",
    "\n",
    "  results = pd.DataFrame(columns = columns)\n",
    "  results.loc[len(results)] = f1_score(y_true, y_pred, average=None)\n",
    "\n",
    "\n",
    "  Y_count = Y.apply(np.sum, axis=0)\n",
    "\n",
    "  # print(Y_count[0:14])\n",
    "\n",
    "  Y_count_sorted = Y_count[0:14].sort_values(ascending=False)\n",
    "\n",
    "  ax.bar(Y_count_sorted.index, Y_count_sorted.values)\n",
    "  ax.set_xlabel(\"Tactics\")\n",
    "  ax.set_ylabel(\"Number of CVEs\")\n",
    "  plt.xticks(rotation=90)\n",
    "\n",
    "  ax2=ax.twinx()\n",
    "  ax2.plot(Y_count_sorted.index, results[Y_count_sorted.index].iloc[0], color='red')\n",
    "  ax2.set_ylabel(\"F1 Score\")\n",
    "\n",
    "  ax = plt.gca()\n",
    "  plt.show()"
   ]
  },
  {
   "cell_type": "code",
   "execution_count": 65,
   "id": "ad72bae8",
   "metadata": {},
   "outputs": [],
   "source": [
    "def print_precision_based_on_distribution(y_true, y_pred, Y, columns):\n",
    "  fig,ax = plt.subplots()\n",
    "\n",
    "  results = pd.DataFrame(columns = columns)\n",
    "  results.loc[len(results)] = precision_score(y_true, y_pred, average=None)\n",
    "\n",
    "\n",
    "  Y_count = Y.apply(np.sum, axis=0)\n",
    "\n",
    "  # print(Y_count[0:14])\n",
    "\n",
    "  Y_count_sorted = Y_count[0:14].sort_values(ascending=False)\n",
    "  # print(Y_count_sorted)\n",
    "\n",
    "  ax.bar(Y_count_sorted.index, Y_count_sorted.values)\n",
    "  ax.set_xlabel(\"Tactics\")\n",
    "  ax.set_ylabel(\"Number of CVEs\")\n",
    "  plt.xticks(rotation=90)\n",
    "\n",
    "  ax2=ax.twinx()\n",
    "  ax2.plot(Y_count_sorted.index, results[Y_count_sorted.index].iloc[0], color='red')\n",
    "  ax2.set_ylabel(\"Precision Score\")\n",
    "\n",
    "  ax = plt.gca()\n",
    "  plt.show()"
   ]
  },
  {
   "cell_type": "code",
   "execution_count": 49,
   "id": "bfe45ad7",
   "metadata": {},
   "outputs": [],
   "source": [
    "def compute_metrics(predicted_y, true_y, metric_function, columns, limit):\n",
    "  results = pd.DataFrame(columns = columns)\n",
    "  if (metric_function == accuracy_score):\n",
    "    results.loc[len(results)] = metric_function(true_y, predicted_y)\n",
    "  else:\n",
    "    results.loc[len(results)] = metric_function(true_y, predicted_y, average=None)\n",
    "\n",
    "  sorted_results = results.sort_values(by=0, axis=1, ascending=False)\n",
    "\n",
    "  for col in sorted_results.columns[:limit]:\n",
    "        print(f\"{col}: {sorted_results[col].values[0]}\")\n",
    "\n",
    "  return sorted_results.iloc[:, :limit]"
   ]
  },
  {
   "cell_type": "code",
   "execution_count": 50,
   "id": "0e90fd95",
   "metadata": {},
   "outputs": [],
   "source": [
    "df = pd.read_csv('merged_all_columns.csv', encoding='utf-8')\n",
    "# df_attack['tactic_label'] = df_attack.apply(lambda x: list(x[TACTIC]), axis=1)\n",
    "# df_attack['technique_label'] = df_attack.apply(lambda x: list(x[TECHNIQUE]), axis=1)\n",
    "\n",
    "df_tactic_labels = df[TACTIC]\n",
    "df_technique_labels = df[TECHNIQUE]\n",
    "\n",
    "df['tactic_label'] = df.apply(lambda x: list(x[TACTIC]), axis=1)\n",
    "df['technique_label'] = df.apply(lambda x: list(x[TECHNIQUE]), axis=1)\n",
    "\n",
    "df['text_clean'] = df['Text'].map(lambda t: preprocess(t))\n",
    "\n",
    "\n",
    "train, test = train_test_split(df, test_size=0.2, random_state=2222)\n",
    "validation, test = train_test_split(test, test_size=0.5, random_state=2222)\n"
   ]
  },
  {
   "cell_type": "code",
   "execution_count": 51,
   "id": "598b8829",
   "metadata": {},
   "outputs": [
    {
     "name": "stdout",
     "output_type": "stream",
     "text": [
      "------Validation results --------\n",
      "0.5016739334957018\n",
      "F1 scores per class\n",
      "TA0040: 0.711864406779661\n",
      "TA0002: 0.6391752577319587\n",
      "TA0006: 0.5806451612903226\n",
      "TA0004: 0.5333333333333333\n",
      "TA0001: 0.525\n",
      "TA0009: 0.5\n",
      "TA0005: 0.10526315789473684\n",
      "TA0003: 0.0\n",
      "TA0008: 0.0\n",
      "TA0007: 0.0\n",
      "TA0010: 0.0\n",
      "TA0011: 0.0\n",
      "TA0042: 0.0\n",
      "TA0043: 0.0\n",
      "----------------------------------\n",
      "Recall scores per class\n",
      "TA0040: 0.65625\n",
      "TA0002: 0.5849056603773585\n",
      "TA0009: 0.5\n",
      "TA0006: 0.5\n",
      "TA0001: 0.45652173913043476\n",
      "TA0004: 0.41379310344827586\n",
      "TA0005: 0.0625\n",
      "TA0003: 0.0\n",
      "TA0008: 0.0\n",
      "TA0007: 0.0\n",
      "TA0010: 0.0\n",
      "TA0011: 0.0\n",
      "TA0042: 0.0\n",
      "TA0043: 0.0\n",
      "----------------------------------\n",
      "Precision scores per class\n",
      "TA0040: 0.7777777777777778\n",
      "TA0004: 0.75\n",
      "TA0002: 0.7045454545454546\n",
      "TA0006: 0.6923076923076923\n",
      "TA0001: 0.6176470588235294\n",
      "TA0009: 0.5\n",
      "TA0005: 0.3333333333333333\n",
      "TA0003: 0.0\n",
      "TA0008: 0.0\n",
      "TA0007: 0.0\n",
      "TA0010: 0.0\n",
      "TA0011: 0.0\n",
      "TA0042: 0.0\n",
      "TA0043: 0.0\n",
      "----------------------------------\n",
      "Accuracy scores per class\n",
      "TA0001: 0.29605263157894735\n",
      "TA0002: 0.29605263157894735\n",
      "TA0003: 0.29605263157894735\n",
      "TA0004: 0.29605263157894735\n",
      "TA0005: 0.29605263157894735\n",
      "TA0006: 0.29605263157894735\n",
      "TA0007: 0.29605263157894735\n",
      "TA0008: 0.29605263157894735\n",
      "TA0009: 0.29605263157894735\n",
      "TA0010: 0.29605263157894735\n",
      "TA0011: 0.29605263157894735\n",
      "TA0040: 0.29605263157894735\n",
      "TA0042: 0.29605263157894735\n",
      "TA0043: 0.29605263157894735\n"
     ]
    }
   ],
   "source": [
    "print(\"------Validation results --------\")\n",
    "print(BEST_F1)\n",
    "\n",
    "print(\"F1 scores per class\")\n",
    "y_train_df = train.drop(train.columns[0:2], axis=1)\n",
    "\n",
    "f1_best_metrics = compute_metrics(BEST_PREDICTED, BEST_TRUE, f1_score, test.columns[2:16], 14)\n",
    "print(\"----------------------------------\")\n",
    "\n",
    "print(\"Recall scores per class\")\n",
    "recall_best_metrics = compute_metrics(BEST_PREDICTED, BEST_TRUE, recall_score, test.columns[2:16], 14)\n",
    "print(\"----------------------------------\")\n",
    "\n",
    "print(\"Precision scores per class\")\n",
    "precision_best_metrics = compute_metrics(BEST_PREDICTED, BEST_TRUE, precision_score, test.columns[2:16], 14)\n",
    "print(\"----------------------------------\")\n",
    "\n",
    "print(\"Accuracy scores per class\")\n",
    "acc_best_metrics = compute_metrics(BEST_PREDICTED, BEST_TRUE, accuracy_score, test.columns[2:16], 14)"
   ]
  },
  {
   "cell_type": "code",
   "execution_count": 52,
   "id": "08b171ec",
   "metadata": {},
   "outputs": [
    {
     "data": {
      "image/png": "[encoded data removed]",
      "text/plain": [
       "<Figure size 640x480 with 2 Axes>"
      ]
     },
     "metadata": {},
     "output_type": "display_data"
    }
   ],
   "source": [
    "print_F1_based_on_distribution(BEST_PREDICTED, BEST_TRUE, y_train_df,  test.columns[2:16])"
   ]
  },
  {
   "cell_type": "code",
   "execution_count": 66,
   "id": "d3edea3d",
   "metadata": {},
   "outputs": [
    {
     "data": {
      "image/png": "[encoded data removed]",
      "text/plain": [
       "<Figure size 640x480 with 2 Axes>"
      ]
     },
     "metadata": {},
     "output_type": "display_data"
    }
   ],
   "source": [
    "print_precision_based_on_distribution(BEST_PREDICTED, BEST_TRUE, y_train_df,  test.columns[2:16])"
   ]
  },
  {
   "cell_type": "code",
   "execution_count": null,
   "id": "26d3cb72",
   "metadata": {},
   "outputs": [
    {
     "name": "stdout",
     "output_type": "stream",
     "text": [
      "TA0002    514\n",
      "TA0001    350\n",
      "TA0040    276\n",
      "TA0004    202\n",
      "TA0009    187\n",
      "TA0006    129\n",
      "TA0005     78\n",
      "TA0007     57\n",
      "TA0003     43\n",
      "TA0008     38\n",
      "TA0042     32\n",
      "TA0043     20\n",
      "TA0010      7\n",
      "TA0011      6\n",
      "dtype: object\n"
     ]
    }
   ],
   "source": [
    "y_train_df = train.drop(train.columns[0:2], axis=1)\n",
    "Y_count = y_train_df.apply(np.sum, axis=0)\n",
    "Y_count_sorted = Y_count[0:14].sort_values(ascending=False)\n",
    "\n",
    "print(Y_count_sorted)"
   ]
  },
  {
   "cell_type": "code",
   "execution_count": 70,
   "id": "9bb4cfb7",
   "metadata": {},
   "outputs": [
    {
     "name": "stdout",
     "output_type": "stream",
     "text": [
      "TA0002    53\n",
      "TA0001    46\n",
      "TA0040    32\n",
      "TA0004    29\n",
      "TA0009    28\n",
      "TA0006    18\n",
      "TA0005    16\n",
      "TA0003     8\n",
      "TA0043     4\n",
      "TA0007     3\n",
      "TA0008     3\n",
      "TA0010     3\n",
      "TA0042     1\n",
      "TA0011     0\n",
      "dtype: object\n"
     ]
    }
   ],
   "source": [
    "y_validation_df = validation.drop(validation.columns[0:2], axis=1)\n",
    "Y_count_val = y_validation_df.apply(np.sum, axis=0)\n",
    "Y_count_val_sorted = Y_count_val[0:14].sort_values(ascending=False)\n",
    "print(Y_count_val_sorted)"
   ]
  },
  {
   "cell_type": "code",
   "execution_count": 72,
   "id": "5e630c8c",
   "metadata": {},
   "outputs": [
    {
     "name": "stdout",
     "output_type": "stream",
     "text": [
      "TA0002    70\n",
      "TA0001    47\n",
      "TA0040    31\n",
      "TA0009    22\n",
      "TA0004    20\n",
      "TA0006    17\n",
      "TA0003     8\n",
      "TA0005     8\n",
      "TA0008     7\n",
      "TA0007     5\n",
      "TA0042     4\n",
      "TA0043     2\n",
      "TA0010     0\n",
      "TA0011     0\n",
      "dtype: object\n"
     ]
    }
   ],
   "source": [
    "y_test_df = test.drop(test.columns[0:2], axis=1)\n",
    "Y_count_test = y_test_df.apply(np.sum, axis=0)\n",
    "Y_count_test_sorted = Y_count_test[0:14].sort_values(ascending=False)\n",
    "print(Y_count_test_sorted)"
   ]
  },
  {
   "cell_type": "code",
   "execution_count": null,
   "id": "85e7af63",
   "metadata": {},
   "outputs": [],
   "source": []
  }
 ],
 "metadata": {
  "kernelspec": {
   "display_name": "dl_final",
   "language": "python",
   "name": "python3"
  },
  "language_info": {
   "codemirror_mode": {
    "name": "ipython",
    "version": 3
   },
   "file_extension": ".py",
   "mimetype": "text/x-python",
   "name": "python",
   "nbconvert_exporter": "python",
   "pygments_lexer": "ipython3",
   "version": "3.12.7"
  }
 },
 "nbformat": 4,
 "nbformat_minor": 5
}
