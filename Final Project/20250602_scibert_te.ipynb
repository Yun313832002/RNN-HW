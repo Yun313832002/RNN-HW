{
 "cells": [
  {
   "cell_type": "code",
   "execution_count": 1,
   "id": "8d95e049",
   "metadata": {},
   "outputs": [],
   "source": [
    "import os\n",
    "os.environ[\"TOKENIZERS_PARALLELISM\"] = \"false\"\n",
    "import pandas as pd\n",
    "import numpy as np\n",
    "import sklearn\n",
    "import re\n",
    "import math\n",
    "import joblib\n",
    "from tqdm.notebook import tqdm\n",
    "import matplotlib.pyplot as plt"
   ]
  },
  {
   "cell_type": "code",
   "execution_count": 2,
   "id": "0db3d77a",
   "metadata": {},
   "outputs": [],
   "source": [
    "import pandas as pd\n",
    "import numpy as np\n",
    "import pickle\n",
    "import matplotlib.pyplot as plt\n",
    "import seaborn as sns\n",
    "import re\n",
    "import copy\n",
    "from tqdm import tqdm\n",
    "import gc\n",
    "\n",
    "import torch\n",
    "import torch.nn as nn\n",
    "import torch.nn.functional as F\n",
    "from torch import optim\n",
    "from torch.utils.data import Dataset, DataLoader\n",
    "\n",
    "from sklearn.model_selection import train_test_split\n",
    "\n",
    "from sklearn.metrics import (\n",
    "    accuracy_score,\n",
    "    f1_score,\n",
    "    precision_score,\n",
    "    recall_score,\n",
    "    classification_report\n",
    ")\n",
    "\n",
    "from transformers import (\n",
    "    AutoTokenizer,\n",
    "    AutoModel,\n",
    "    get_linear_schedule_with_warmup\n",
    ")\n",
    "\n",
    "import nltk\n",
    "import re\n",
    "from nltk.corpus import stopwords\n",
    "from nltk.stem import PorterStemmer, WordNetLemmatizer\n",
    "from nltk.tokenize import word_tokenize\n",
    "\n",
    "from transformers import BertTokenizer, BertForMaskedLM\n",
    "\n",
    "from sklearn.metrics import (\n",
    "    recall_score,\n",
    "    precision_score\n",
    "  )\n",
    "\n",
    "from sklearn.metrics import multilabel_confusion_matrix"
   ]
  },
  {
   "cell_type": "code",
   "execution_count": 3,
   "id": "a757780c",
   "metadata": {},
   "outputs": [],
   "source": [
    "from nltk.corpus import stopwords\n",
    "from nltk.corpus import wordnet\n",
    "from nltk.tokenize import word_tokenize\n",
    "from nltk.stem import WordNetLemmatizer\n",
    "from nltk import pos_tag\n",
    "import nltk"
   ]
  },
  {
   "cell_type": "code",
   "execution_count": 4,
   "id": "dac02406",
   "metadata": {},
   "outputs": [],
   "source": [
    "import warnings\n",
    "from sklearn.exceptions import UndefinedMetricWarning\n",
    "warnings.filterwarnings(\"ignore\", category=FutureWarning)\n",
    "warnings.filterwarnings(\"ignore\", category=UndefinedMetricWarning)"
   ]
  },
  {
   "cell_type": "code",
   "execution_count": 5,
   "id": "9b56fa49",
   "metadata": {},
   "outputs": [
    {
     "name": "stdout",
     "output_type": "stream",
     "text": [
      "Time now: 06-03-01-26\n"
     ]
    }
   ],
   "source": [
    "time_now = pd.Timestamp.now().strftime(\"%m-%d-%H-%M\")\n",
    "print(f\"Time now: {time_now}\")"
   ]
  },
  {
   "cell_type": "markdown",
   "id": "886c73dc",
   "metadata": {},
   "source": [
    "# Config"
   ]
  },
  {
   "cell_type": "code",
   "execution_count": 6,
   "id": "10e0995a",
   "metadata": {},
   "outputs": [],
   "source": [
    "class Config:\n",
    "    def __init__(self):\n",
    "        super(Config, self).__init__()\n",
    "\n",
    "        self.SEED = 42\n",
    "        self.MODEL_PATH = 'allenai/scibert_scivocab_uncased'\n",
    "        self.NUM_LABELS_TA = 14\n",
    "        self.NUM_LABELS_TE = 185\n",
    "\n",
    "        self.TOKENIZER = AutoTokenizer.from_pretrained(self.MODEL_PATH)\n",
    "        self.MAX_LENGTH = 320\n",
    "        self.BATCH_SIZE = 16\n",
    "\n",
    "        self.DEVICE = torch.device('cuda' if torch.cuda.is_available() else 'cpu')\n",
    "        self.FULL_FINETUNING = True\n",
    "        self.LR = 3e-5\n",
    "        self.OPTIMIZER = 'AdamW'\n",
    "        self.CRITERION = 'BCEWithLogitsLoss'\n",
    "        self.N_VALIDATE_DUR_TRAIN = 3\n",
    "        self.N_WARMUP = 0\n",
    "        self.SAVE_BEST_ONLY = True\n",
    "        self.EPOCHS = 50"
   ]
  },
  {
   "cell_type": "code",
   "execution_count": 7,
   "id": "d739eb03",
   "metadata": {},
   "outputs": [],
   "source": [
    "TACTIC = ['TA0001', 'TA0002', 'TA0003', 'TA0004', 'TA0005', 'TA0006', 'TA0007', 'TA0008', 'TA0009', 'TA0010', 'TA0011', 'TA0040', 'TA0042', 'TA0043']\n",
    "TECHNIQUE = ['T1001', 'T1003', 'T1005', 'T1006', 'T1007', 'T1008', 'T1010', 'T1011', 'T1012', 'T1014', 'T1016', 'T1018', 'T1020', 'T1021', 'T1025', 'T1027', 'T1029', 'T1030', 'T1033', 'T1036', 'T1037', 'T1039', 'T1040', 'T1041', 'T1046', 'T1047', 'T1048', 'T1049', 'T1052', 'T1053', 'T1055', 'T1056', 'T1057', 'T1059', 'T1068', 'T1069', 'T1071', 'T1072', 'T1074', 'T1078', 'T1080', 'T1082', 'T1083', 'T1087', 'T1090', 'T1091', 'T1092', 'T1095', 'T1098', 'T1102', 'T1104', 'T1105', 'T1106', 'T1110', 'T1111', 'T1112', 'T1113', 'T1114', 'T1115', 'T1119', 'T1120', 'T1123', 'T1124', 'T1125', 'T1127', 'T1129', 'T1132', 'T1133', 'T1134', 'T1135', 'T1136', 'T1137', 'T1140', 'T1176', 'T1185', 'T1187', 'T1189', 'T1190', 'T1195', 'T1197', 'T1199', 'T1200', 'T1201', 'T1202', 'T1203', 'T1204', 'T1205', 'T1207', 'T1210', 'T1211', 'T1212', 'T1213', 'T1216', 'T1218', 'T1220', 'T1221', 'T1222', 'T1480', 'T1482', 'T1485', 'T1486', 'T1489', 'T1490', 'T1491', 'T1495', 'T1496', 'T1497', 'T1498', 'T1499', 'T1505', 'T1518', 'T1525', 'T1526', 'T1528', 'T1529', 'T1531', 'T1534', 'T1535', 'T1537', 'T1538', 'T1539', 'T1542', 'T1543', 'T1546', 'T1547', 'T1548', 'T1550', 'T1552', 'T1553', 'T1555', 'T1556', 'T1557', 'T1558', 'T1559', 'T1560', 'T1561', 'T1562', 'T1563', 'T1564', 'T1565', 'T1566', 'T1567', 'T1568', 'T1569', 'T1570', 'T1571', 'T1572', 'T1573', 'T1574', 'T1578', 'T1580', 'T1583', 'T1584', 'T1585', 'T1586', 'T1587', 'T1588', 'T1589', 'T1590', 'T1591', 'T1592', 'T1593', 'T1594', 'T1595', 'T1596', 'T1597', 'T1598', 'T1599', 'T1600', 'T1601', 'T1602', 'T1606', 'T1608', 'T1609', 'T1610', 'T1611', 'T1612', 'T1613', 'T1614', 'T1615', 'T1619', 'T1620', 'T1621', 'T1622', 'T1647']\n",
    "TACTICS_TECHNIQUES_RELATIONSHIP_DF = {\n",
    "\"TA0001\":pd.Series(['T1078', 'T1091', 'T1133', 'T1189', 'T1190', 'T1195', 'T1199', 'T1200', 'T1566', 'T1659', 'T1669']),\n",
    "\"TA0002\":pd.Series(['T1047', 'T1053', 'T1059', 'T1072', 'T1106', 'T1129', 'T1203', 'T1204', 'T1559', 'T1569', 'T1609', 'T1610', 'T1648', 'T1651', 'T1674', 'T1675']),\n",
    "\"TA0003\":pd.Series(['T1037', 'T1053', 'T1078', 'T1098', 'T1112', 'T1133', 'T1136', 'T1137', 'T1176', 'T1197', 'T1205', 'T1505', 'T1525', 'T1542', 'T1543', 'T1546', 'T1547', 'T1554', 'T1556', 'T1574', 'T1653', 'T1668', 'T1671']),\n",
    "\"TA0004\":pd.Series(['T1037', 'T1053', 'T1055', 'T1068', 'T1078', 'T1098', 'T1134', 'T1484', 'T1543', 'T1546', 'T1547', 'T1548', 'T1574', 'T1611']),\n",
    "\"TA0005\":pd.Series(['T1006', 'T1014', 'T1027', 'T1036', 'T1055', 'T1070', 'T1078', 'T1112', 'T1127', 'T1134', 'T1140', 'T1197', 'T1202', 'T1205', 'T1207', 'T1211', 'T1216', 'T1218', 'T1220', 'T1221', 'T1222', 'T1480', 'T1484', 'T1497', 'T1535', 'T1542', 'T1548', 'T1550', 'T1553', 'T1556', 'T1562', 'T1564', 'T1574', 'T1578', 'T1599', 'T1600', 'T1601', 'T1610', 'T1612', 'T1620', 'T1622', 'T1647', 'T1656', 'T1666', 'T1672']),\n",
    "\"TA0006\":pd.Series(['T1003', 'T1040', 'T1056', 'T1110', 'T1111', 'T1187', 'T1212', 'T1528', 'T1539', 'T1552', 'T1555', 'T1556', 'T1557', 'T1558', 'T1606', 'T1621', 'T1649']),\n",
    "\"TA0007\":pd.Series(['T1007', 'T1010', 'T1012', 'T1016', 'T1018', 'T1033', 'T1040', 'T1046', 'T1049', 'T1057', 'T1069', 'T1082', 'T1083', 'T1087', 'T1120', 'T1124', 'T1135', 'T1201', 'T1217', 'T1482', 'T1497', 'T1518', 'T1526', 'T1538', 'T1580', 'T1613', 'T1614', 'T1615', 'T1619', 'T1622', 'T1652', 'T1654', 'T1673']),\n",
    "\"TA0008\":pd.Series(['T1021', 'T1072', 'T1080', 'T1091', 'T1210', 'T1534', 'T1550', 'T1563', 'T1570']),\n",
    "\"TA0009\":pd.Series(['T1005', 'T1025', 'T1039', 'T1056', 'T1074', 'T1113', 'T1114', 'T1115', 'T1119', 'T1123', 'T1125', 'T1185', 'T1213', 'T1530', 'T1557', 'T1560', 'T1602']),\n",
    "\"TA0010\":pd.Series(['T1011', 'T1020', 'T1029', 'T1030', 'T1041', 'T1048', 'T1052', 'T1537', 'T1567']),\n",
    "\"TA0011\":pd.Series(['T1001', 'T1008', 'T1071', 'T1090', 'T1092', 'T1095', 'T1102', 'T1104', 'T1105', 'T1132', 'T1205', 'T1219', 'T1568', 'T1571', 'T1572', 'T1573', 'T1659', 'T1665']),\n",
    "\"TA0040\":pd.Series(['T1485', 'T1486', 'T1489', 'T1490', 'T1491', 'T1495', 'T1496', 'T1498', 'T1499', 'T1529', 'T1531', 'T1561', 'T1565', 'T1657', 'T1667']),                \n",
    "\"TA0042\":pd.Series(['T1583', 'T1584', 'T1585', 'T1586', 'T1587', 'T1588', 'T1608', 'T1650']),\n",
    "\"TA0043\":pd.Series(['T1589', 'T1590', 'T1591', 'T1592', 'T1593', 'T1594', 'T1595', 'T1596', 'T1597', 'T1598'])\n",
    "}"
   ]
  },
  {
   "cell_type": "code",
   "execution_count": 8,
   "id": "07f6f833",
   "metadata": {},
   "outputs": [],
   "source": [
    "df = pd.read_csv('merged_all_columns.csv', encoding='utf-8')\n",
    "# df_attack['tactic_label'] = df_attack.apply(lambda x: list(x[TACTIC]), axis=1)\n",
    "# df_attack['technique_label'] = df_attack.apply(lambda x: list(x[TECHNIQUE]), axis=1)\n",
    "\n",
    "df_tactic_labels = df[TACTIC]\n",
    "df_technique_labels = df[TECHNIQUE]"
   ]
  },
  {
   "cell_type": "code",
   "execution_count": 9,
   "id": "767f45c3",
   "metadata": {},
   "outputs": [
    {
     "name": "stdout",
     "output_type": "stream",
     "text": [
      "      TA0001  TA0002  TA0003  TA0004  TA0005  TA0006  TA0007  TA0008  TA0009  \\\n",
      "0          1       1       0       0       0       0       0       0       0   \n",
      "1          1       1       0       0       0       0       0       0       0   \n",
      "2          0       1       0       0       0       1       0       0       0   \n",
      "3          1       1       0       0       0       0       0       0       0   \n",
      "4          1       0       0       1       1       0       0       0       0   \n",
      "...      ...     ...     ...     ...     ...     ...     ...     ...     ...   \n",
      "1513       0       1       1       0       0       0       0       0       0   \n",
      "1514       0       0       0       0       0       0       0       0       0   \n",
      "1515       0       0       0       1       0       0       0       0       0   \n",
      "1516       0       1       0       0       0       0       0       0       1   \n",
      "1517       0       0       0       0       0       0       0       0       0   \n",
      "\n",
      "      TA0010  TA0011  TA0040  TA0042  TA0043  \n",
      "0          0       0       0       0       0  \n",
      "1          0       0       0       0       0  \n",
      "2          0       0       0       0       0  \n",
      "3          0       0       0       0       0  \n",
      "4          0       0       0       0       0  \n",
      "...      ...     ...     ...     ...     ...  \n",
      "1513       0       0       0       0       0  \n",
      "1514       0       0       1       0       0  \n",
      "1515       0       0       0       0       0  \n",
      "1516       0       0       0       0       0  \n",
      "1517       0       0       0       1       0  \n",
      "\n",
      "[1518 rows x 14 columns]\n"
     ]
    }
   ],
   "source": [
    "print(df_tactic_labels)"
   ]
  },
  {
   "cell_type": "code",
   "execution_count": 10,
   "id": "7e4b3ee8",
   "metadata": {},
   "outputs": [
    {
     "name": "stdout",
     "output_type": "stream",
     "text": [
      "      T1001  T1003  T1005  T1006  T1007  T1008  T1010  T1011  T1012  T1014  \\\n",
      "0         0      0      0      0      0      0      0      0      0      0   \n",
      "1         0      0      0      0      0      0      0      0      0      0   \n",
      "2         0      1      0      0      0      0      0      0      0      0   \n",
      "3         0      0      0      0      0      0      0      0      0      0   \n",
      "4         0      0      0      0      0      0      0      0      0      0   \n",
      "...     ...    ...    ...    ...    ...    ...    ...    ...    ...    ...   \n",
      "1513      0      0      0      0      0      0      0      0      0      0   \n",
      "1514      0      0      0      0      0      0      0      0      0      0   \n",
      "1515      0      0      0      0      0      0      0      0      0      0   \n",
      "1516      0      0      1      0      0      0      0      0      0      0   \n",
      "1517      0      0      0      0      0      0      0      0      0      0   \n",
      "\n",
      "      ...  T1611  T1612  T1613  T1614  T1615  T1619  T1620  T1621  T1622  \\\n",
      "0     ...      0      0      0      0      0      0      0      0      0   \n",
      "1     ...      0      0      0      0      0      0      0      0      0   \n",
      "2     ...      0      0      0      0      0      0      0      0      0   \n",
      "3     ...      0      0      0      0      0      0      0      0      0   \n",
      "4     ...      0      0      0      0      0      0      0      0      0   \n",
      "...   ...    ...    ...    ...    ...    ...    ...    ...    ...    ...   \n",
      "1513  ...      0      0      0      0      0      0      0      0      0   \n",
      "1514  ...      0      0      0      0      0      0      0      0      0   \n",
      "1515  ...      0      0      0      0      0      0      0      0      0   \n",
      "1516  ...      0      0      0      0      0      0      0      0      0   \n",
      "1517  ...      0      0      0      0      0      0      0      0      0   \n",
      "\n",
      "      T1647  \n",
      "0         0  \n",
      "1         0  \n",
      "2         0  \n",
      "3         0  \n",
      "4         0  \n",
      "...     ...  \n",
      "1513      0  \n",
      "1514      0  \n",
      "1515      0  \n",
      "1516      0  \n",
      "1517      0  \n",
      "\n",
      "[1518 rows x 185 columns]\n"
     ]
    }
   ],
   "source": [
    "print(df_technique_labels)"
   ]
  },
  {
   "cell_type": "code",
   "execution_count": 11,
   "id": "919865c1",
   "metadata": {},
   "outputs": [],
   "source": [
    "df['tactic_label'] = df.apply(lambda x: list(x[TACTIC]), axis=1)\n",
    "df['technique_label'] = df.apply(lambda x: list(x[TECHNIQUE]), axis=1)\n"
   ]
  },
  {
   "cell_type": "markdown",
   "id": "5b7fc8c7",
   "metadata": {},
   "source": [
    "# Data processing"
   ]
  },
  {
   "cell_type": "code",
   "execution_count": 12,
   "id": "5018de80",
   "metadata": {},
   "outputs": [],
   "source": [
    "from nltk.corpus import stopwords\n",
    "from nltk.corpus import wordnet\n",
    "from nltk.tokenize import word_tokenize\n",
    "from nltk.stem import WordNetLemmatizer\n",
    "from nltk import pos_tag\n",
    "import nltk"
   ]
  },
  {
   "cell_type": "code",
   "execution_count": 13,
   "id": "173e00c0",
   "metadata": {},
   "outputs": [
    {
     "name": "stdout",
     "output_type": "stream",
     "text": [
      "punkt ⛔ 未安裝，開始下載...\n",
      "stopwords ⛔ 未安裝，開始下載...\n",
      "wordnet ⛔ 未安裝，開始下載...\n",
      "omw-1.4 ⛔ 未安裝，開始下載...\n",
      "averaged_perceptron_tagger ⛔ 未安裝，開始下載...\n",
      "averaged_perceptron_tagger_eng ⛔ 未安裝，開始下載...\n"
     ]
    },
    {
     "name": "stderr",
     "output_type": "stream",
     "text": [
      "[nltk_data] Downloading package punkt to\n",
      "[nltk_data]     C:\\Users\\user\\AppData\\Roaming\\nltk_data...\n",
      "[nltk_data]   Package punkt is already up-to-date!\n",
      "[nltk_data] Downloading package stopwords to\n",
      "[nltk_data]     C:\\Users\\user\\AppData\\Roaming\\nltk_data...\n",
      "[nltk_data]   Package stopwords is already up-to-date!\n",
      "[nltk_data] Downloading package wordnet to\n",
      "[nltk_data]     C:\\Users\\user\\AppData\\Roaming\\nltk_data...\n",
      "[nltk_data]   Package wordnet is already up-to-date!\n",
      "[nltk_data] Downloading package omw-1.4 to\n",
      "[nltk_data]     C:\\Users\\user\\AppData\\Roaming\\nltk_data...\n",
      "[nltk_data]   Package omw-1.4 is already up-to-date!\n",
      "[nltk_data] Downloading package averaged_perceptron_tagger to\n",
      "[nltk_data]     C:\\Users\\user\\AppData\\Roaming\\nltk_data...\n",
      "[nltk_data]   Package averaged_perceptron_tagger is already up-to-\n",
      "[nltk_data]       date!\n",
      "[nltk_data] Downloading package averaged_perceptron_tagger_eng to\n",
      "[nltk_data]     C:\\Users\\user\\AppData\\Roaming\\nltk_data...\n",
      "[nltk_data]   Package averaged_perceptron_tagger_eng is already up-to-\n",
      "[nltk_data]       date!\n"
     ]
    }
   ],
   "source": [
    "import nltk\n",
    "\n",
    "resources = [\n",
    "    \"punkt\",\n",
    "    \"stopwords\",\n",
    "    \"wordnet\",\n",
    "    \"omw-1.4\",\n",
    "    \"averaged_perceptron_tagger\",\n",
    "    \"averaged_perceptron_tagger_eng\"\n",
    "]\n",
    "\n",
    "for res in resources:\n",
    "    try:\n",
    "        nltk.data.find(res)\n",
    "        print(f\"{res} ✅ 已安裝\")\n",
    "    except LookupError:\n",
    "        print(f\"{res} ⛔ 未安裝，開始下載...\")\n",
    "        nltk.download(res)\n"
   ]
  },
  {
   "cell_type": "code",
   "execution_count": 14,
   "id": "6f7cf101",
   "metadata": {},
   "outputs": [],
   "source": [
    "def get_wordnet_pos(tag):\n",
    "    if tag.startswith('J'):\n",
    "        return wordnet.ADJ\n",
    "    elif tag.startswith('V'):\n",
    "        return wordnet.VERB\n",
    "    elif tag.startswith('N'):\n",
    "        return wordnet.NOUN\n",
    "    elif tag.startswith('R'):\n",
    "        return wordnet.ADV\n",
    "    else:\n",
    "        return 'n'\n",
    "\n",
    "def ioc_sub(text):\n",
    "    def reg_handler(obj):\n",
    "        s = obj.group(1)\n",
    "        s = ' '.join(s.split('\\\\'))\n",
    "        return s\n",
    "\n",
    "    def file_handler(obj):\n",
    "        s = obj.group(2)\n",
    "        s = s.split('\\\\')[-1]\n",
    "        return s\n",
    "    \n",
    "    text = re.sub(r'(?:(?:25[0-5]|2[0-4][0-9]|[01]?[0-9][0-9]?)(\\.|\\[\\.\\])){3}(?:25[0-5]|2[0-4][0-9]|[01]?[0-9][0-9]?)(\\/([0-2][0-9]|3[0-2]|[0-9]))?', 'IPv4', text)\n",
    "    text = re.sub(r'\\b(\\d{1,3}\\.\\d{1,3}\\.\\d{1,3}\\.\\d{1,3})\\b', 'IP', text)\n",
    "    text = re.sub(r'\\b(CVE\\-[0-9]{4}\\-[0-9]{4,6})\\b', 'CVE', text)\n",
    "    text = re.sub(r'CVE-[0-9]{4}-[0-9]{4,6}', 'vulnerability', text)\n",
    "    text = re.sub(r'\\b([a-z][_a-z0-9-.]+@[a-z0-9-]+\\.[a-z]+)\\b', 'email', text)\n",
    "    text = re.sub(r'\\b((HKLM|HKCU|HKCR|HKU|HKCC)\\\\[\\\\A-Za-z0-9-_]+)\\b', reg_handler, text)\n",
    "    text = re.sub(r'\\b([a-zA-Z]{1}:\\\\([0-9a-zA-Z_\\.\\-\\/\\\\]+))\\b', file_handler, text)\n",
    "    text = re.sub(r'\\b([a-f0-9]{32}|[A-F0-9]{32})\\b', 'MD5', text)\n",
    "    text = re.sub(r'\\b([a-f0-9]{40}|[A-F0-9]{40})\\b', 'SHA1', text)\n",
    "    text = re.sub(r'\\b([a-f0-9]{64}|[A-F0-9]{64})\\b', 'SHA256', text)\n",
    "    text = re.sub(r'\\d+:[A-Za-z0-9/+]+:[A-Za-z0-9/+]+', 'ssdeep', text)\n",
    "    text = re.sub(r'\\b[a-fA-F\\d]{32}\\b|\\b[a-fA-F\\d]{40}\\b|\\b[a-fA-F\\d]{64}\\b', 'hash', text)\n",
    "    text = re.sub(r'h[tx][tx]ps?:[\\\\\\/][\\\\\\/](?:[0-9a-zA-Z_\\.\\-\\/\\\\]|\\[\\.\\])+', 'URL', text)\n",
    "    text = re.sub(r'((?:[0-9a-zA-Z_\\-]+\\.)+(?:(?!exe|dll)[a-z]{2,4}))', 'domain', text)\n",
    "    text = re.sub(r'[a-fA-F0-9]{16}', '', text)\n",
    "    text = re.sub(r'[0-9]{8}', '', text)\n",
    "    text = re.sub(r'x[A-Fa-f0-9]{2}', '', text)\n",
    "    \n",
    "    return text\n",
    "\n",
    "def rmstopword_and_lemmatize(text):\n",
    "    token = [word for word in word_tokenize(text.lower()) if word not in stopwords.words('english')]\n",
    "    # tag = pos_tag(token)\n",
    "    tag = nltk.pos_tag(token, lang='eng')\n",
    "    lemmatizer = WordNetLemmatizer()\n",
    "    text = ' '.join(list(map(lambda x: lemmatizer.lemmatize(x[0], pos=get_wordnet_pos(x[1])), tag)))\n",
    "    \n",
    "    return text\n",
    "\n",
    "def preprocess(text):\n",
    "    text = str(text)\n",
    "    #text = text.lower()\n",
    "    text = re.sub(r'etc\\.', '', text)\n",
    "    text = re.sub(r'et al\\.', '', text)\n",
    "    text = re.sub(r'e\\.g\\.', '', text)\n",
    "    text = re.sub(r'i\\.e\\.', '', text)\n",
    "    #text = re.sub(r'\\[.\\]', '.', text)\n",
    "    text = re.sub(r'\\[\\d+\\]', '', text)\n",
    "    \n",
    "    text = ioc_sub(text)\n",
    "    \n",
    "    text = re.sub(r'[^A-Za-z0-9_\\[\\]]', ' ', text)\n",
    "    text = re.sub(r'\\s+', ' ', text)\n",
    "    \n",
    "    text = rmstopword_and_lemmatize(text)\n",
    "    \n",
    "    text = re.sub(r'[\\[\\]]', ' ', text)\n",
    "    text = re.sub(r' [a-z0-9] ', '', text)\n",
    "    \n",
    "    return text\n"
   ]
  },
  {
   "cell_type": "code",
   "execution_count": 15,
   "id": "d0b15fb5",
   "metadata": {},
   "outputs": [],
   "source": [
    "df['text_clean'] = df['Text'].map(lambda t: preprocess(t))"
   ]
  },
  {
   "cell_type": "code",
   "execution_count": 16,
   "id": "a1f45aa4",
   "metadata": {},
   "outputs": [
    {
     "name": "stdout",
     "output_type": "stream",
     "text": [
      "waspthemes visual cs style editor aka yellow pencil visual theme customizer plugin2wordpress allows yp_option_update csrf demonstrate use yp_remote_get obtain admin access\n"
     ]
    }
   ],
   "source": [
    "print(df['text_clean'][0])"
   ]
  },
  {
   "cell_type": "code",
   "execution_count": 17,
   "id": "786ca6fc",
   "metadata": {},
   "outputs": [
    {
     "name": "stdout",
     "output_type": "stream",
     "text": [
      "ID                                                    CVE_2019_11886\n",
      "Text               The WaspThemes Visual CSS Style Editor (aka ye...\n",
      "TA0001                                                             1\n",
      "TA0002                                                             1\n",
      "TA0003                                                             0\n",
      "                                         ...                        \n",
      "T1622                                                              0\n",
      "T1647                                                              0\n",
      "tactic_label              [1, 1, 0, 0, 0, 0, 0, 0, 0, 0, 0, 0, 0, 0]\n",
      "technique_label    [0, 0, 0, 0, 0, 0, 0, 0, 0, 0, 0, 0, 0, 0, 0, ...\n",
      "text_clean         waspthemes visual cs style editor aka yellow p...\n",
      "Name: 0, Length: 204, dtype: object\n"
     ]
    }
   ],
   "source": [
    "print(df.iloc[0])"
   ]
  },
  {
   "cell_type": "markdown",
   "id": "a410a869",
   "metadata": {},
   "source": [
    "# Dataset & Dataloader"
   ]
  },
  {
   "cell_type": "code",
   "execution_count": 18,
   "id": "d1025229",
   "metadata": {},
   "outputs": [],
   "source": [
    "def get_texts(df):\n",
    "    texts = df['text']\n",
    "    texts = texts.values.tolist()\n",
    "    return texts\n",
    "\n",
    "def get_labels(df):\n",
    "    labels = df['labels'].values\n",
    "    return labels\n",
    "\n",
    "def get_ids(df):\n",
    "    ids = df['ID'].values.tolist()"
   ]
  },
  {
   "cell_type": "code",
   "execution_count": 19,
   "id": "75e4f49b",
   "metadata": {},
   "outputs": [],
   "source": [
    "from torch.utils.data import Dataset, DataLoader\n",
    "class TransformerDataset_ta(Dataset):\n",
    "    def __init__(self, df, indices, set_type=None):\n",
    "        super(TransformerDataset_ta, self).__init__()\n",
    "\n",
    "        df = df.iloc[indices]\n",
    "        self.texts = get_texts(df)\n",
    "        self.set_type = set_type\n",
    "        if self.set_type != 'test':\n",
    "            self.labels = get_labels(df)\n",
    "\n",
    "        self.tokenizer = Config().TOKENIZER\n",
    "        self.max_length = Config().MAX_LENGTH\n",
    "\n",
    "    def __len__(self):\n",
    "        return len(self.texts)\n",
    "\n",
    "    def __getitem__(self, index):\n",
    "        tokenized = self.tokenizer.encode_plus(\n",
    "            self.texts[index],\n",
    "            max_length=self.max_length,\n",
    "            pad_to_max_length=True,\n",
    "            truncation=True,\n",
    "            return_attention_mask=True,\n",
    "            return_token_type_ids=False,\n",
    "            return_tensors='pt'\n",
    "        )\n",
    "\n",
    "        input_ids = tokenized['input_ids'].squeeze()\n",
    "        attention_mask = tokenized['attention_mask'].squeeze()\n",
    "\n",
    "        if self.set_type != 'test':\n",
    "            return {\n",
    "                'input_ids': input_ids.long(),\n",
    "                'attention_mask': attention_mask.long(),\n",
    "                'labels': torch.Tensor(self.labels[index]).float(),\n",
    "            }\n",
    "\n",
    "        return {\n",
    "            'input_ids': input_ids.long(),\n",
    "            'attention_mask': attention_mask.long(),\n",
    "        }"
   ]
  },
  {
   "cell_type": "code",
   "execution_count": 20,
   "id": "69f46327",
   "metadata": {},
   "outputs": [],
   "source": [
    "\n",
    "class TransformerDataset_te(Dataset):\n",
    "    def __init__(self, df, indices, set_type=None):\n",
    "        super(TransformerDataset_te, self).__init__()\n",
    "\n",
    "        df = df.iloc[indices]\n",
    "        self.texts = get_texts(df)\n",
    "        self.set_type = set_type\n",
    "        if self.set_type != 'test':\n",
    "            self.labels = get_labels(df)\n",
    "\n",
    "        self.tokenizer = Config().TOKENIZER\n",
    "        self.max_length = Config().MAX_LENGTH\n",
    "\n",
    "    def __len__(self):\n",
    "        return len(self.texts)\n",
    "\n",
    "    def __getitem__(self, index):\n",
    "        tokenized = self.tokenizer.encode_plus(\n",
    "            self.texts[index],\n",
    "            max_length=self.max_length,\n",
    "            pad_to_max_length=True,\n",
    "            truncation=True,\n",
    "            return_attention_mask=True,\n",
    "            return_token_type_ids=False,\n",
    "            return_tensors='pt'\n",
    "        )\n",
    "\n",
    "        input_ids = tokenized['input_ids'].squeeze()\n",
    "        attention_mask = tokenized['attention_mask'].squeeze()\n",
    "\n",
    "        if self.set_type != 'test':\n",
    "            return {\n",
    "                'input_ids': input_ids.long(),\n",
    "                'attention_mask': attention_mask.long(),\n",
    "                'labels': torch.Tensor(self.labels[index]).float(),\n",
    "            }\n",
    "\n",
    "        return {\n",
    "            'input_ids': input_ids.long(),\n",
    "            'attention_mask': attention_mask.long(),\n",
    "        }"
   ]
  },
  {
   "cell_type": "code",
   "execution_count": 21,
   "id": "a445b021",
   "metadata": {},
   "outputs": [],
   "source": [
    "from sklearn.model_selection import train_test_split\n",
    "\n",
    "train, test = train_test_split(df, test_size=0.2, random_state=2222)\n",
    "validation, test = train_test_split(test, test_size=0.5, random_state=2222)"
   ]
  },
  {
   "cell_type": "code",
   "execution_count": 22,
   "id": "0690d557",
   "metadata": {},
   "outputs": [],
   "source": [
    "# df_ta_train = train[['text_clean', 'tactic_label']]\n",
    "# df_ta_val = validation[['text_clean', 'tactic_label']]\n",
    "# df_ta_test = test[['text_clean', 'tactic_label']]\n",
    "# df_ta_train = df_ta_train.rename(columns={'text_clean':'text', 'tactic_label':'labels'})\n",
    "# df_ta_val = df_ta_val.rename(columns={'text_clean':'text', 'tactic_label':'labels'})\n",
    "# df_ta_test = df_ta_test.rename(columns={'text_clean':'text', 'tactic_label':'labels'})\n"
   ]
  },
  {
   "cell_type": "code",
   "execution_count": 23,
   "id": "c0d0cbeb",
   "metadata": {},
   "outputs": [],
   "source": [
    "df_te_train = df.iloc[train.index][['text_clean', 'technique_label']]\n",
    "df_te_val = df.iloc[validation.index][['text_clean', 'technique_label']]\n",
    "df_te_test = df.iloc[test.index][['text_clean', 'technique_label']]\n",
    "df_te_train = df_te_train.rename(columns={'text_clean':'text', 'technique_label':'labels'})\n",
    "df_te_val = df_te_val.rename(columns={'text_clean':'text', 'technique_label':'labels'})\n",
    "df_te_test = df_te_test.rename(columns={'text_clean':'text', 'technique_label':'labels'})"
   ]
  },
  {
   "cell_type": "code",
   "execution_count": 24,
   "id": "47e65de5",
   "metadata": {},
   "outputs": [],
   "source": [
    "# train_data_ta = TransformerDataset_ta(df_ta_train, range(len(df_ta_train)))\n",
    "# val_data_ta = TransformerDataset_ta(df_ta_val, range(len(df_ta_val)))\n",
    "# test_data_ta = TransformerDataset_ta(df_ta_test, range(len(df_ta_test)))"
   ]
  },
  {
   "cell_type": "code",
   "execution_count": 25,
   "id": "c5eaf2da",
   "metadata": {},
   "outputs": [],
   "source": [
    "train_data_te = TransformerDataset_te(df_te_train, range(len(df_te_train)))\n",
    "val_data_te = TransformerDataset_te(df_te_val, range(len(df_te_val)))\n",
    "test_data_te = TransformerDataset_te(df_te_test, range(len(df_te_test)))"
   ]
  },
  {
   "cell_type": "code",
   "execution_count": 26,
   "id": "319cd479",
   "metadata": {},
   "outputs": [],
   "source": [
    "# train_dataloader_ta = DataLoader(train_data_ta, batch_size=Config().BATCH_SIZE)\n",
    "# val_dataloader_ta = DataLoader(val_data_ta, batch_size=Config().BATCH_SIZE)\n",
    "# test_dataloader_ta = DataLoader(test_data_ta, batch_size=Config().BATCH_SIZE)"
   ]
  },
  {
   "cell_type": "code",
   "execution_count": 27,
   "id": "e7c67b51",
   "metadata": {},
   "outputs": [],
   "source": [
    "train_dataloader_te = DataLoader(train_data_te, batch_size=Config().BATCH_SIZE)\n",
    "val_dataloader_te = DataLoader(val_data_te, batch_size=Config().BATCH_SIZE)\n",
    "test_dataloader_te = DataLoader(test_data_te, batch_size=Config().BATCH_SIZE)"
   ]
  },
  {
   "cell_type": "code",
   "execution_count": 28,
   "id": "369e1ce0",
   "metadata": {},
   "outputs": [],
   "source": [
    "train_dataloader = train_dataloader_te\n",
    "val_dataloader = val_dataloader_te\n",
    "test_dataloader = test_dataloader_te"
   ]
  },
  {
   "cell_type": "code",
   "execution_count": 29,
   "id": "b1671d1a",
   "metadata": {},
   "outputs": [
    {
     "name": "stdout",
     "output_type": "stream",
     "text": [
      "input_ids shape: torch.Size([16, 320])\n",
      "attention_mask shape: torch.Size([16, 320])\n",
      "labels shape: torch.Size([16, 185])\n"
     ]
    }
   ],
   "source": [
    "b = next(iter(train_dataloader_te))\n",
    "for k, v in b.items():\n",
    "    print(f'{k} shape: {v.shape}')"
   ]
  },
  {
   "cell_type": "markdown",
   "id": "00117a96",
   "metadata": {},
   "source": [
    "# Model"
   ]
  },
  {
   "cell_type": "code",
   "execution_count": 30,
   "id": "ff574fa8",
   "metadata": {},
   "outputs": [],
   "source": [
    "class Model(nn.Module):\n",
    "    def __init__(self):\n",
    "        super(Model, self).__init__()\n",
    "\n",
    "        self.transformer_model = AutoModel.from_pretrained(\n",
    "                Config().MODEL_PATH\n",
    "        )\n",
    "        self.dropout = nn.Dropout(0.3)\n",
    "\n",
    "        self.output = nn.Linear(768, Config().NUM_LABELS_TE)\n",
    "\n",
    "    def forward(\n",
    "        self,\n",
    "        input_ids,\n",
    "        attention_mask=None,\n",
    "        token_type_ids=None\n",
    "        ):\n",
    "\n",
    "        _, o2 = self.transformer_model(\n",
    "            input_ids=input_ids,\n",
    "            attention_mask=attention_mask,\n",
    "            token_type_ids=token_type_ids,\n",
    "            return_dict=False\n",
    "        )\n",
    "\n",
    "        x = self.dropout(o2)\n",
    "        out = self.output(x)\n",
    "\n",
    "        return out"
   ]
  },
  {
   "cell_type": "markdown",
   "id": "a5d26a57",
   "metadata": {},
   "source": [
    "# Train and test"
   ]
  },
  {
   "cell_type": "code",
   "execution_count": 31,
   "id": "5fbd1c49",
   "metadata": {},
   "outputs": [],
   "source": [
    "BEST_F1 = 0\n",
    "BEST_TRUE = []\n",
    "BEST_PREDICTED = []"
   ]
  },
  {
   "cell_type": "code",
   "execution_count": 32,
   "id": "b26a3123",
   "metadata": {},
   "outputs": [],
   "source": [
    "metrics_log = [] "
   ]
  },
  {
   "cell_type": "code",
   "execution_count": 33,
   "id": "ecdc1dc1",
   "metadata": {},
   "outputs": [],
   "source": [
    "def val(model, val_dataloader, criterion, is_final_test=False):\n",
    "    global BEST_F1, BEST_TRUE, BEST_PREDICTED, device\n",
    "\n",
    "    val_loss = 0\n",
    "    true, pred = [], []\n",
    "\n",
    "    model.eval()\n",
    "\n",
    "    results = {}\n",
    "\n",
    "    for step, batch in enumerate(val_dataloader):\n",
    "        b_input_ids = batch['input_ids'].to(device)\n",
    "        b_attention_mask = batch['attention_mask'].to(device)\n",
    "        b_labels = batch['labels'].to(device)\n",
    "\n",
    "        with torch.no_grad():\n",
    "            logits = model(input_ids=b_input_ids, attention_mask=b_attention_mask)\n",
    "\n",
    "            loss = criterion(logits, b_labels)\n",
    "            val_loss += loss.item()\n",
    "\n",
    "            logits = torch.sigmoid(logits)\n",
    "            logits = np.round(logits.cpu().numpy())\n",
    "            labels = b_labels.cpu().numpy()\n",
    "\n",
    "            pred.extend(logits)\n",
    "            true.extend(labels)\n",
    "\n",
    "    # avg_val_loss = val_loss / len(val_dataloader)\n",
    "    # print('Val loss:', avg_val_loss)\n",
    "    # print('Val accuracy:', accuracy_score(true, pred))\n",
    "\n",
    "    # print('Val precision:', precision_score(true, pred, average='weighted'))\n",
    "    # print('Val recall:', recall_score(true, pred, average='weighted'))\n",
    "\n",
    "    # val_micro_f1_score = f1_score(true, pred, average='micro')\n",
    "    # print('Val micro f1 score:', val_micro_f1_score)\n",
    "\n",
    "    # val_macro_f1_score = f1_score(true, pred, average='macro')\n",
    "    # print('Val macro f1 score:', val_macro_f1_score)\n",
    "\n",
    "    val_weighted_f1_score = f1_score(true, pred, average='weighted')\n",
    "    # print('Val weighted f1 score:', val_weighted_f1_score)\n",
    "\n",
    "    results.update({\n",
    "        \"f1_sampled\": f1_score(true, pred, average='samples', zero_division=0),\n",
    "        \"f1_micro\": f1_score(true, pred, average='micro', zero_division=0),\n",
    "        \"f1_macro\": f1_score(true, pred, average='macro', zero_division=0),\n",
    "        \"f_05_sample\": fbeta_score(true, pred, average='samples', beta=0.5, zero_division=0),\n",
    "        \"f_05_micro\": fbeta_score(true, pred, average='micro', beta=0.5, zero_division=0),\n",
    "        \"f_05_macro\": fbeta_score(true, pred, average='macro', beta=0.5, zero_division=0),\n",
    "        \"precision_sampled\": precision_score(true, pred, average='samples', zero_division=0),\n",
    "        \"precision_micro\": precision_score(true, pred, average='micro', zero_division=0),\n",
    "        \"precision_macro\": precision_score(true, pred, average='macro', zero_division=0),\n",
    "        \"recall_sampled\": recall_score(true, pred, average='samples', zero_division=0),\n",
    "        \"recall_micro\": recall_score(true, pred, average='micro', zero_division=0),\n",
    "        \"recall_macro\": recall_score(true, pred, average='macro', zero_division=0),\n",
    "        \"accuracy\": accuracy_score(true, pred),\n",
    "        })\n",
    "\n",
    "    labels_float = labels.astype(float)\n",
    "    results.update({\n",
    "        \"coverage_error\": coverage_error(labels_float, logits),\n",
    "        \"label_ranking_loss\": label_ranking_loss(labels_float, logits),\n",
    "        \"lrap\": label_ranking_average_precision_score(labels_float, logits),\n",
    "    })\n",
    "\n",
    "    metrics_log.append(results.copy())\n",
    "\n",
    "    print(results)\n",
    "\n",
    "\n",
    "    if (is_final_test is True):\n",
    "      BEST_F1 = val_weighted_f1_score\n",
    "      BEST_TRUE = true\n",
    "      BEST_PREDICTED = pred\n",
    "    elif (val_weighted_f1_score > BEST_F1):\n",
    "      BEST_F1 = val_weighted_f1_score\n",
    "      BEST_TRUE = true\n",
    "      BEST_PREDICTED = pred\n",
    "\n",
    "    return val_weighted_f1_score\n",
    "\n"
   ]
  },
  {
   "cell_type": "code",
   "execution_count": 34,
   "id": "533523db",
   "metadata": {},
   "outputs": [],
   "source": [
    "def train(model, train_dataloader, val_dataloader, criterion, optimizer, scheduler, epoch):\n",
    "    global device\n",
    "    nv = Config().N_VALIDATE_DUR_TRAIN\n",
    "    temp = len(train_dataloader) // nv\n",
    "    temp = temp - (temp % 100)\n",
    "    validate_at_steps = [temp * x for x in range(1, nv + 1)]\n",
    "\n",
    "    train_loss = 0\n",
    "    train_losses = []\n",
    "\n",
    "    for step, batch in enumerate(tqdm(train_dataloader,\n",
    "                                      desc='Epoch ' + str(epoch))):\n",
    "        model.train()\n",
    "\n",
    "        b_input_ids = batch['input_ids'].to(device)\n",
    "        b_attention_mask = batch['attention_mask'].to(device)\n",
    "        b_labels = batch['labels'].to(device)\n",
    "\n",
    "        optimizer.zero_grad()\n",
    "\n",
    "        logits = model(input_ids=b_input_ids, attention_mask=b_attention_mask)\n",
    "\n",
    "        loss = criterion(logits, b_labels)\n",
    "        train_loss += loss.item()\n",
    "\n",
    "        loss.backward()\n",
    "\n",
    "        optimizer.step()\n",
    "\n",
    "        scheduler.step()\n",
    "\n",
    "        if step in validate_at_steps:\n",
    "            print(f'-- Step: {step}')\n",
    "            _ = val(model, val_dataloader, criterion)\n",
    "\n",
    "\n",
    "    avg_train_loss = train_loss / len(train_dataloader)\n",
    "    print('Training loss:', avg_train_loss)"
   ]
  },
  {
   "cell_type": "code",
   "execution_count": 35,
   "id": "a5ee9825",
   "metadata": {},
   "outputs": [],
   "source": [
    "def run():\n",
    "    global train_data, val_data, test_data, train_dataloader, val_dataloader, test_dataloader, model\n",
    "    torch.manual_seed(Config().SEED)\n",
    "\n",
    "    criterion = nn.BCEWithLogitsLoss()\n",
    "\n",
    "    if Config().FULL_FINETUNING:\n",
    "        param_optimizer = list(model.named_parameters())\n",
    "        no_decay = [\"bias\", \"LayerNorm.bias\", \"LayerNorm.weight\"]\n",
    "        optimizer_parameters = [\n",
    "            {\n",
    "                \"params\": [\n",
    "                    p for n, p in param_optimizer if not any(nd in n for nd in no_decay)\n",
    "                ],\n",
    "                \"weight_decay\": 0.001,\n",
    "            },\n",
    "            {\n",
    "                \"params\": [\n",
    "                    p for n, p in param_optimizer if any(nd in n for nd in no_decay)\n",
    "                ],\n",
    "                \"weight_decay\": 0.0,\n",
    "            },\n",
    "        ]\n",
    "        optimizer = optim.AdamW(optimizer_parameters, lr=Config().LR)\n",
    "\n",
    "    num_training_steps = len(train_dataloader) * Config().EPOCHS\n",
    "    scheduler = get_linear_schedule_with_warmup(\n",
    "        optimizer,\n",
    "        num_warmup_steps=0,\n",
    "        num_training_steps=num_training_steps\n",
    "    )\n",
    "\n",
    "    max_val_weighted_f1_score = float('-inf')\n",
    "    for epoch in range(Config().EPOCHS):\n",
    "        train(model, train_dataloader, val_dataloader, criterion, optimizer, scheduler, epoch)\n",
    "        val_weighted_f1_score = val(model, val_dataloader, criterion)\n",
    "\n",
    "        if Config().SAVE_BEST_ONLY:\n",
    "            if val_weighted_f1_score > max_val_weighted_f1_score:\n",
    "                best_model = copy.deepcopy(model)\n",
    "\n",
    "                model_name = 'scibert_best_model'\n",
    "                torch.save(best_model.state_dict(), model_name + '.pt')\n",
    "\n",
    "                print(f'--- Best Model. Val: {max_val_weighted_f1_score} -> {val_weighted_f1_score}')\n",
    "                max_val_weighted_f1_score = val_weighted_f1_score\n",
    "\n",
    "    return best_model, max_val_weighted_f1_score"
   ]
  },
  {
   "cell_type": "markdown",
   "id": "cb777d10",
   "metadata": {},
   "source": [
    "# Tactic_multi model"
   ]
  },
  {
   "cell_type": "code",
   "execution_count": 36,
   "id": "c0e7fb55",
   "metadata": {},
   "outputs": [],
   "source": [
    "from sklearn.metrics import coverage_error, label_ranking_average_precision_score, label_ranking_loss\n",
    "from sklearn.metrics import hamming_loss, precision_score, recall_score, f1_score, fbeta_score\n",
    "from sklearn.metrics import accuracy_score"
   ]
  },
  {
   "cell_type": "code",
   "execution_count": 37,
   "id": "43a5c244",
   "metadata": {},
   "outputs": [
    {
     "data": {
      "text/plain": [
       "Model(\n",
       "  (transformer_model): BertModel(\n",
       "    (embeddings): BertEmbeddings(\n",
       "      (word_embeddings): Embedding(31090, 768, padding_idx=0)\n",
       "      (position_embeddings): Embedding(512, 768)\n",
       "      (token_type_embeddings): Embedding(2, 768)\n",
       "      (LayerNorm): LayerNorm((768,), eps=1e-12, elementwise_affine=True)\n",
       "      (dropout): Dropout(p=0.1, inplace=False)\n",
       "    )\n",
       "    (encoder): BertEncoder(\n",
       "      (layer): ModuleList(\n",
       "        (0-11): 12 x BertLayer(\n",
       "          (attention): BertAttention(\n",
       "            (self): BertSdpaSelfAttention(\n",
       "              (query): Linear(in_features=768, out_features=768, bias=True)\n",
       "              (key): Linear(in_features=768, out_features=768, bias=True)\n",
       "              (value): Linear(in_features=768, out_features=768, bias=True)\n",
       "              (dropout): Dropout(p=0.1, inplace=False)\n",
       "            )\n",
       "            (output): BertSelfOutput(\n",
       "              (dense): Linear(in_features=768, out_features=768, bias=True)\n",
       "              (LayerNorm): LayerNorm((768,), eps=1e-12, elementwise_affine=True)\n",
       "              (dropout): Dropout(p=0.1, inplace=False)\n",
       "            )\n",
       "          )\n",
       "          (intermediate): BertIntermediate(\n",
       "            (dense): Linear(in_features=768, out_features=3072, bias=True)\n",
       "            (intermediate_act_fn): GELUActivation()\n",
       "          )\n",
       "          (output): BertOutput(\n",
       "            (dense): Linear(in_features=3072, out_features=768, bias=True)\n",
       "            (LayerNorm): LayerNorm((768,), eps=1e-12, elementwise_affine=True)\n",
       "            (dropout): Dropout(p=0.1, inplace=False)\n",
       "          )\n",
       "        )\n",
       "      )\n",
       "    )\n",
       "    (pooler): BertPooler(\n",
       "      (dense): Linear(in_features=768, out_features=768, bias=True)\n",
       "      (activation): Tanh()\n",
       "    )\n",
       "  )\n",
       "  (dropout): Dropout(p=0.3, inplace=False)\n",
       "  (output): Linear(in_features=768, out_features=185, bias=True)\n",
       ")"
      ]
     },
     "execution_count": 37,
     "metadata": {},
     "output_type": "execute_result"
    }
   ],
   "source": [
    "project_dir = './'\n",
    "config = Config()\n",
    "device = Config().DEVICE\n",
    "model = Model()\n",
    "model.to(device)"
   ]
  },
  {
   "cell_type": "code",
   "execution_count": 38,
   "id": "e5534c84",
   "metadata": {},
   "outputs": [
    {
     "name": "stderr",
     "output_type": "stream",
     "text": [
      "Epoch 0:   0%|          | 0/76 [00:00<?, ?it/s]"
     ]
    },
    {
     "name": "stdout",
     "output_type": "stream",
     "text": [
      "-- Step: 0\n"
     ]
    },
    {
     "name": "stderr",
     "output_type": "stream",
     "text": [
      "Epoch 0:   4%|▍         | 3/76 [00:01<00:21,  3.43it/s]"
     ]
    },
    {
     "name": "stdout",
     "output_type": "stream",
     "text": [
      "{'f1_sampled': 0.018435721784429676, 'f1_micro': 0.01873577306951497, 'f1_macro': 0.011367097965311256, 'f_05_sample': 0.011757944995078514, 'f_05_micro': 0.011892588805406126, 'f_05_macro': 0.008397597468596018, 'precision_sampled': 0.009471350922537558, 'precision_micro': 0.00956381837683232, 'precision_macro': 0.007222738206039364, 'recall_sampled': 0.4337719298245614, 'recall_micro': 0.45726495726495725, 'recall_macro': 0.08948463169051404, 'accuracy': 0.0, 'coverage_error': np.float64(128.25), 'label_ranking_loss': np.float64(0.5356569052338748), 'lrap': np.float64(0.019935716529289774)}\n"
     ]
    },
    {
     "name": "stderr",
     "output_type": "stream",
     "text": [
      "Epoch 0: 100%|██████████| 76/76 [00:08<00:00,  9.49it/s]\n"
     ]
    },
    {
     "name": "stdout",
     "output_type": "stream",
     "text": [
      "Training loss: 0.35152831752049296\n",
      "{'f1_sampled': 0.0, 'f1_micro': 0.0, 'f1_macro': 0.0, 'f_05_sample': 0.0, 'f_05_micro': 0.0, 'f_05_macro': 0.0, 'precision_sampled': 0.0, 'precision_micro': 0.0, 'precision_macro': 0.0, 'recall_sampled': 0.0, 'recall_micro': 0.0, 'recall_macro': 0.0, 'accuracy': 0.05921052631578947, 'coverage_error': np.float64(185.0), 'label_ranking_loss': np.float64(1.0), 'lrap': np.float64(0.011486486486486487)}\n",
      "--- Best Model. Val: -inf -> 0.0\n"
     ]
    },
    {
     "name": "stderr",
     "output_type": "stream",
     "text": [
      "Epoch 1:   0%|          | 0/76 [00:00<?, ?it/s]"
     ]
    },
    {
     "name": "stdout",
     "output_type": "stream",
     "text": [
      "-- Step: 0\n"
     ]
    },
    {
     "name": "stderr",
     "output_type": "stream",
     "text": [
      "Epoch 1:   4%|▍         | 3/76 [00:00<00:17,  4.19it/s]"
     ]
    },
    {
     "name": "stdout",
     "output_type": "stream",
     "text": [
      "{'f1_sampled': 0.0, 'f1_micro': 0.0, 'f1_macro': 0.0, 'f_05_sample': 0.0, 'f_05_micro': 0.0, 'f_05_macro': 0.0, 'precision_sampled': 0.0, 'precision_micro': 0.0, 'precision_macro': 0.0, 'recall_sampled': 0.0, 'recall_micro': 0.0, 'recall_macro': 0.0, 'accuracy': 0.05921052631578947, 'coverage_error': np.float64(185.0), 'label_ranking_loss': np.float64(1.0), 'lrap': np.float64(0.011486486486486487)}\n"
     ]
    },
    {
     "name": "stderr",
     "output_type": "stream",
     "text": [
      "Epoch 1: 100%|██████████| 76/76 [00:07<00:00,  9.67it/s]\n"
     ]
    },
    {
     "name": "stdout",
     "output_type": "stream",
     "text": [
      "Training loss: 0.1136136903966728\n",
      "{'f1_sampled': 0.0, 'f1_micro': 0.0, 'f1_macro': 0.0, 'f_05_sample': 0.0, 'f_05_micro': 0.0, 'f_05_macro': 0.0, 'precision_sampled': 0.0, 'precision_micro': 0.0, 'precision_macro': 0.0, 'recall_sampled': 0.0, 'recall_micro': 0.0, 'recall_macro': 0.0, 'accuracy': 0.05921052631578947, 'coverage_error': np.float64(185.0), 'label_ranking_loss': np.float64(1.0), 'lrap': np.float64(0.011486486486486487)}\n"
     ]
    },
    {
     "name": "stderr",
     "output_type": "stream",
     "text": [
      "Epoch 2:   0%|          | 0/76 [00:00<?, ?it/s]"
     ]
    },
    {
     "name": "stdout",
     "output_type": "stream",
     "text": [
      "-- Step: 0\n"
     ]
    },
    {
     "name": "stderr",
     "output_type": "stream",
     "text": [
      "Epoch 2:   4%|▍         | 3/76 [00:00<00:15,  4.60it/s]"
     ]
    },
    {
     "name": "stdout",
     "output_type": "stream",
     "text": [
      "{'f1_sampled': 0.0, 'f1_micro': 0.0, 'f1_macro': 0.0, 'f_05_sample': 0.0, 'f_05_micro': 0.0, 'f_05_macro': 0.0, 'precision_sampled': 0.0, 'precision_micro': 0.0, 'precision_macro': 0.0, 'recall_sampled': 0.0, 'recall_micro': 0.0, 'recall_macro': 0.0, 'accuracy': 0.05921052631578947, 'coverage_error': np.float64(185.0), 'label_ranking_loss': np.float64(1.0), 'lrap': np.float64(0.011486486486486487)}\n"
     ]
    },
    {
     "name": "stderr",
     "output_type": "stream",
     "text": [
      "Epoch 2: 100%|██████████| 76/76 [00:07<00:00,  9.80it/s]\n"
     ]
    },
    {
     "name": "stdout",
     "output_type": "stream",
     "text": [
      "Training loss: 0.06685077349998449\n",
      "{'f1_sampled': 0.0, 'f1_micro': 0.0, 'f1_macro': 0.0, 'f_05_sample': 0.0, 'f_05_micro': 0.0, 'f_05_macro': 0.0, 'precision_sampled': 0.0, 'precision_micro': 0.0, 'precision_macro': 0.0, 'recall_sampled': 0.0, 'recall_micro': 0.0, 'recall_macro': 0.0, 'accuracy': 0.05921052631578947, 'coverage_error': np.float64(185.0), 'label_ranking_loss': np.float64(1.0), 'lrap': np.float64(0.011486486486486487)}\n"
     ]
    },
    {
     "name": "stderr",
     "output_type": "stream",
     "text": [
      "Epoch 3:   0%|          | 0/76 [00:00<?, ?it/s]"
     ]
    },
    {
     "name": "stdout",
     "output_type": "stream",
     "text": [
      "-- Step: 0\n"
     ]
    },
    {
     "name": "stderr",
     "output_type": "stream",
     "text": [
      "Epoch 3:   4%|▍         | 3/76 [00:00<00:16,  4.33it/s]"
     ]
    },
    {
     "name": "stdout",
     "output_type": "stream",
     "text": [
      "{'f1_sampled': 0.0, 'f1_micro': 0.0, 'f1_macro': 0.0, 'f_05_sample': 0.0, 'f_05_micro': 0.0, 'f_05_macro': 0.0, 'precision_sampled': 0.0, 'precision_micro': 0.0, 'precision_macro': 0.0, 'recall_sampled': 0.0, 'recall_micro': 0.0, 'recall_macro': 0.0, 'accuracy': 0.05921052631578947, 'coverage_error': np.float64(185.0), 'label_ranking_loss': np.float64(1.0), 'lrap': np.float64(0.011486486486486487)}\n"
     ]
    },
    {
     "name": "stderr",
     "output_type": "stream",
     "text": [
      "Epoch 3: 100%|██████████| 76/76 [00:07<00:00,  9.70it/s]\n"
     ]
    },
    {
     "name": "stdout",
     "output_type": "stream",
     "text": [
      "Training loss: 0.05225593214364428\n",
      "{'f1_sampled': 0.0, 'f1_micro': 0.0, 'f1_macro': 0.0, 'f_05_sample': 0.0, 'f_05_micro': 0.0, 'f_05_macro': 0.0, 'precision_sampled': 0.0, 'precision_micro': 0.0, 'precision_macro': 0.0, 'recall_sampled': 0.0, 'recall_micro': 0.0, 'recall_macro': 0.0, 'accuracy': 0.05921052631578947, 'coverage_error': np.float64(185.0), 'label_ranking_loss': np.float64(1.0), 'lrap': np.float64(0.011486486486486487)}\n"
     ]
    },
    {
     "name": "stderr",
     "output_type": "stream",
     "text": [
      "Epoch 4:   0%|          | 0/76 [00:00<?, ?it/s]"
     ]
    },
    {
     "name": "stdout",
     "output_type": "stream",
     "text": [
      "-- Step: 0\n"
     ]
    },
    {
     "name": "stderr",
     "output_type": "stream",
     "text": [
      "Epoch 4:   4%|▍         | 3/76 [00:00<00:13,  5.53it/s]"
     ]
    },
    {
     "name": "stdout",
     "output_type": "stream",
     "text": [
      "{'f1_sampled': 0.0, 'f1_micro': 0.0, 'f1_macro': 0.0, 'f_05_sample': 0.0, 'f_05_micro': 0.0, 'f_05_macro': 0.0, 'precision_sampled': 0.0, 'precision_micro': 0.0, 'precision_macro': 0.0, 'recall_sampled': 0.0, 'recall_micro': 0.0, 'recall_macro': 0.0, 'accuracy': 0.05921052631578947, 'coverage_error': np.float64(185.0), 'label_ranking_loss': np.float64(1.0), 'lrap': np.float64(0.011486486486486487)}\n"
     ]
    },
    {
     "name": "stderr",
     "output_type": "stream",
     "text": [
      "Epoch 4: 100%|██████████| 76/76 [00:07<00:00,  9.94it/s]\n"
     ]
    },
    {
     "name": "stdout",
     "output_type": "stream",
     "text": [
      "Training loss: 0.045560182268290145\n",
      "{'f1_sampled': 0.0, 'f1_micro': 0.0, 'f1_macro': 0.0, 'f_05_sample': 0.0, 'f_05_micro': 0.0, 'f_05_macro': 0.0, 'precision_sampled': 0.0, 'precision_micro': 0.0, 'precision_macro': 0.0, 'recall_sampled': 0.0, 'recall_micro': 0.0, 'recall_macro': 0.0, 'accuracy': 0.05921052631578947, 'coverage_error': np.float64(185.0), 'label_ranking_loss': np.float64(1.0), 'lrap': np.float64(0.011486486486486487)}\n"
     ]
    },
    {
     "name": "stderr",
     "output_type": "stream",
     "text": [
      "Epoch 5:   0%|          | 0/76 [00:00<?, ?it/s]"
     ]
    },
    {
     "name": "stdout",
     "output_type": "stream",
     "text": [
      "-- Step: 0\n"
     ]
    },
    {
     "name": "stderr",
     "output_type": "stream",
     "text": [
      "Epoch 5:   4%|▍         | 3/76 [00:00<00:17,  4.28it/s]"
     ]
    },
    {
     "name": "stdout",
     "output_type": "stream",
     "text": [
      "{'f1_sampled': 0.0, 'f1_micro': 0.0, 'f1_macro': 0.0, 'f_05_sample': 0.0, 'f_05_micro': 0.0, 'f_05_macro': 0.0, 'precision_sampled': 0.0, 'precision_micro': 0.0, 'precision_macro': 0.0, 'recall_sampled': 0.0, 'recall_micro': 0.0, 'recall_macro': 0.0, 'accuracy': 0.05921052631578947, 'coverage_error': np.float64(185.0), 'label_ranking_loss': np.float64(1.0), 'lrap': np.float64(0.011486486486486487)}\n"
     ]
    },
    {
     "name": "stderr",
     "output_type": "stream",
     "text": [
      "Epoch 5: 100%|██████████| 76/76 [00:07<00:00,  9.59it/s]\n"
     ]
    },
    {
     "name": "stdout",
     "output_type": "stream",
     "text": [
      "Training loss: 0.041954364921701584\n",
      "{'f1_sampled': 0.0, 'f1_micro': 0.0, 'f1_macro': 0.0, 'f_05_sample': 0.0, 'f_05_micro': 0.0, 'f_05_macro': 0.0, 'precision_sampled': 0.0, 'precision_micro': 0.0, 'precision_macro': 0.0, 'recall_sampled': 0.0, 'recall_micro': 0.0, 'recall_macro': 0.0, 'accuracy': 0.05921052631578947, 'coverage_error': np.float64(185.0), 'label_ranking_loss': np.float64(1.0), 'lrap': np.float64(0.011486486486486487)}\n"
     ]
    },
    {
     "name": "stderr",
     "output_type": "stream",
     "text": [
      "Epoch 6:   0%|          | 0/76 [00:00<?, ?it/s]"
     ]
    },
    {
     "name": "stdout",
     "output_type": "stream",
     "text": [
      "-- Step: 0\n"
     ]
    },
    {
     "name": "stderr",
     "output_type": "stream",
     "text": [
      "Epoch 6:   1%|▏         | 1/76 [00:00<00:53,  1.40it/s]"
     ]
    },
    {
     "name": "stdout",
     "output_type": "stream",
     "text": [
      "{'f1_sampled': 0.0, 'f1_micro': 0.0, 'f1_macro': 0.0, 'f_05_sample': 0.0, 'f_05_micro': 0.0, 'f_05_macro': 0.0, 'precision_sampled': 0.0, 'precision_micro': 0.0, 'precision_macro': 0.0, 'recall_sampled': 0.0, 'recall_micro': 0.0, 'recall_macro': 0.0, 'accuracy': 0.05921052631578947, 'coverage_error': np.float64(185.0), 'label_ranking_loss': np.float64(1.0), 'lrap': np.float64(0.011486486486486487)}\n"
     ]
    },
    {
     "name": "stderr",
     "output_type": "stream",
     "text": [
      "Epoch 6: 100%|██████████| 76/76 [00:07<00:00,  9.60it/s]\n"
     ]
    },
    {
     "name": "stdout",
     "output_type": "stream",
     "text": [
      "Training loss: 0.03962287377860201\n",
      "{'f1_sampled': 0.0, 'f1_micro': 0.0, 'f1_macro': 0.0, 'f_05_sample': 0.0, 'f_05_micro': 0.0, 'f_05_macro': 0.0, 'precision_sampled': 0.0, 'precision_micro': 0.0, 'precision_macro': 0.0, 'recall_sampled': 0.0, 'recall_micro': 0.0, 'recall_macro': 0.0, 'accuracy': 0.05921052631578947, 'coverage_error': np.float64(185.0), 'label_ranking_loss': np.float64(1.0), 'lrap': np.float64(0.011486486486486487)}\n"
     ]
    },
    {
     "name": "stderr",
     "output_type": "stream",
     "text": [
      "Epoch 7:   0%|          | 0/76 [00:00<?, ?it/s]"
     ]
    },
    {
     "name": "stdout",
     "output_type": "stream",
     "text": [
      "-- Step: 0\n"
     ]
    },
    {
     "name": "stderr",
     "output_type": "stream",
     "text": [
      "Epoch 7:   4%|▍         | 3/76 [00:00<00:19,  3.83it/s]"
     ]
    },
    {
     "name": "stdout",
     "output_type": "stream",
     "text": [
      "{'f1_sampled': 0.0, 'f1_micro': 0.0, 'f1_macro': 0.0, 'f_05_sample': 0.0, 'f_05_micro': 0.0, 'f_05_macro': 0.0, 'precision_sampled': 0.0, 'precision_micro': 0.0, 'precision_macro': 0.0, 'recall_sampled': 0.0, 'recall_micro': 0.0, 'recall_macro': 0.0, 'accuracy': 0.05921052631578947, 'coverage_error': np.float64(185.0), 'label_ranking_loss': np.float64(1.0), 'lrap': np.float64(0.011486486486486487)}\n"
     ]
    },
    {
     "name": "stderr",
     "output_type": "stream",
     "text": [
      "Epoch 7: 100%|██████████| 76/76 [00:07<00:00,  9.52it/s]\n"
     ]
    },
    {
     "name": "stdout",
     "output_type": "stream",
     "text": [
      "Training loss: 0.038321074392450485\n",
      "{'f1_sampled': 0.0, 'f1_micro': 0.0, 'f1_macro': 0.0, 'f_05_sample': 0.0, 'f_05_micro': 0.0, 'f_05_macro': 0.0, 'precision_sampled': 0.0, 'precision_micro': 0.0, 'precision_macro': 0.0, 'recall_sampled': 0.0, 'recall_micro': 0.0, 'recall_macro': 0.0, 'accuracy': 0.05921052631578947, 'coverage_error': np.float64(185.0), 'label_ranking_loss': np.float64(1.0), 'lrap': np.float64(0.011486486486486487)}\n"
     ]
    },
    {
     "name": "stderr",
     "output_type": "stream",
     "text": [
      "Epoch 8:   0%|          | 0/76 [00:00<?, ?it/s]"
     ]
    },
    {
     "name": "stdout",
     "output_type": "stream",
     "text": [
      "-- Step: 0\n"
     ]
    },
    {
     "name": "stderr",
     "output_type": "stream",
     "text": [
      "Epoch 8:   1%|▏         | 1/76 [00:00<00:49,  1.52it/s]"
     ]
    },
    {
     "name": "stdout",
     "output_type": "stream",
     "text": [
      "{'f1_sampled': 0.0, 'f1_micro': 0.0, 'f1_macro': 0.0, 'f_05_sample': 0.0, 'f_05_micro': 0.0, 'f_05_macro': 0.0, 'precision_sampled': 0.0, 'precision_micro': 0.0, 'precision_macro': 0.0, 'recall_sampled': 0.0, 'recall_micro': 0.0, 'recall_macro': 0.0, 'accuracy': 0.05921052631578947, 'coverage_error': np.float64(185.0), 'label_ranking_loss': np.float64(1.0), 'lrap': np.float64(0.011486486486486487)}\n"
     ]
    },
    {
     "name": "stderr",
     "output_type": "stream",
     "text": [
      "Epoch 8: 100%|██████████| 76/76 [00:07<00:00,  9.68it/s]\n"
     ]
    },
    {
     "name": "stdout",
     "output_type": "stream",
     "text": [
      "Training loss: 0.0370958477846886\n",
      "{'f1_sampled': 0.0, 'f1_micro': 0.0, 'f1_macro': 0.0, 'f_05_sample': 0.0, 'f_05_micro': 0.0, 'f_05_macro': 0.0, 'precision_sampled': 0.0, 'precision_micro': 0.0, 'precision_macro': 0.0, 'recall_sampled': 0.0, 'recall_micro': 0.0, 'recall_macro': 0.0, 'accuracy': 0.05921052631578947, 'coverage_error': np.float64(185.0), 'label_ranking_loss': np.float64(1.0), 'lrap': np.float64(0.011486486486486487)}\n"
     ]
    },
    {
     "name": "stderr",
     "output_type": "stream",
     "text": [
      "Epoch 9:   0%|          | 0/76 [00:00<?, ?it/s]"
     ]
    },
    {
     "name": "stdout",
     "output_type": "stream",
     "text": [
      "-- Step: 0\n"
     ]
    },
    {
     "name": "stderr",
     "output_type": "stream",
     "text": [
      "Epoch 9:   4%|▍         | 3/76 [00:00<00:17,  4.22it/s]"
     ]
    },
    {
     "name": "stdout",
     "output_type": "stream",
     "text": [
      "{'f1_sampled': 0.0, 'f1_micro': 0.0, 'f1_macro': 0.0, 'f_05_sample': 0.0, 'f_05_micro': 0.0, 'f_05_macro': 0.0, 'precision_sampled': 0.0, 'precision_micro': 0.0, 'precision_macro': 0.0, 'recall_sampled': 0.0, 'recall_micro': 0.0, 'recall_macro': 0.0, 'accuracy': 0.05921052631578947, 'coverage_error': np.float64(185.0), 'label_ranking_loss': np.float64(1.0), 'lrap': np.float64(0.011486486486486487)}\n"
     ]
    },
    {
     "name": "stderr",
     "output_type": "stream",
     "text": [
      "Epoch 9: 100%|██████████| 76/76 [00:07<00:00,  9.65it/s]\n"
     ]
    },
    {
     "name": "stdout",
     "output_type": "stream",
     "text": [
      "Training loss: 0.03639127326344973\n",
      "{'f1_sampled': 0.0, 'f1_micro': 0.0, 'f1_macro': 0.0, 'f_05_sample': 0.0, 'f_05_micro': 0.0, 'f_05_macro': 0.0, 'precision_sampled': 0.0, 'precision_micro': 0.0, 'precision_macro': 0.0, 'recall_sampled': 0.0, 'recall_micro': 0.0, 'recall_macro': 0.0, 'accuracy': 0.05921052631578947, 'coverage_error': np.float64(185.0), 'label_ranking_loss': np.float64(1.0), 'lrap': np.float64(0.011486486486486487)}\n"
     ]
    },
    {
     "name": "stderr",
     "output_type": "stream",
     "text": [
      "Epoch 10:   0%|          | 0/76 [00:00<?, ?it/s]"
     ]
    },
    {
     "name": "stdout",
     "output_type": "stream",
     "text": [
      "-- Step: 0\n"
     ]
    },
    {
     "name": "stderr",
     "output_type": "stream",
     "text": [
      "Epoch 10:   4%|▍         | 3/76 [00:00<00:16,  4.31it/s]"
     ]
    },
    {
     "name": "stdout",
     "output_type": "stream",
     "text": [
      "{'f1_sampled': 0.0, 'f1_micro': 0.0, 'f1_macro': 0.0, 'f_05_sample': 0.0, 'f_05_micro': 0.0, 'f_05_macro': 0.0, 'precision_sampled': 0.0, 'precision_micro': 0.0, 'precision_macro': 0.0, 'recall_sampled': 0.0, 'recall_micro': 0.0, 'recall_macro': 0.0, 'accuracy': 0.05921052631578947, 'coverage_error': np.float64(185.0), 'label_ranking_loss': np.float64(1.0), 'lrap': np.float64(0.011486486486486487)}\n"
     ]
    },
    {
     "name": "stderr",
     "output_type": "stream",
     "text": [
      "Epoch 10: 100%|██████████| 76/76 [00:07<00:00,  9.68it/s]\n"
     ]
    },
    {
     "name": "stdout",
     "output_type": "stream",
     "text": [
      "Training loss: 0.03592125630300296\n",
      "{'f1_sampled': 0.0, 'f1_micro': 0.0, 'f1_macro': 0.0, 'f_05_sample': 0.0, 'f_05_micro': 0.0, 'f_05_macro': 0.0, 'precision_sampled': 0.0, 'precision_micro': 0.0, 'precision_macro': 0.0, 'recall_sampled': 0.0, 'recall_micro': 0.0, 'recall_macro': 0.0, 'accuracy': 0.05921052631578947, 'coverage_error': np.float64(185.0), 'label_ranking_loss': np.float64(1.0), 'lrap': np.float64(0.011486486486486487)}\n"
     ]
    },
    {
     "name": "stderr",
     "output_type": "stream",
     "text": [
      "Epoch 11:   0%|          | 0/76 [00:00<?, ?it/s]"
     ]
    },
    {
     "name": "stdout",
     "output_type": "stream",
     "text": [
      "-- Step: 0\n"
     ]
    },
    {
     "name": "stderr",
     "output_type": "stream",
     "text": [
      "Epoch 11:   4%|▍         | 3/76 [00:00<00:17,  4.17it/s]"
     ]
    },
    {
     "name": "stdout",
     "output_type": "stream",
     "text": [
      "{'f1_sampled': 0.0, 'f1_micro': 0.0, 'f1_macro': 0.0, 'f_05_sample': 0.0, 'f_05_micro': 0.0, 'f_05_macro': 0.0, 'precision_sampled': 0.0, 'precision_micro': 0.0, 'precision_macro': 0.0, 'recall_sampled': 0.0, 'recall_micro': 0.0, 'recall_macro': 0.0, 'accuracy': 0.05921052631578947, 'coverage_error': np.float64(185.0), 'label_ranking_loss': np.float64(1.0), 'lrap': np.float64(0.011486486486486487)}\n"
     ]
    },
    {
     "name": "stderr",
     "output_type": "stream",
     "text": [
      "Epoch 11: 100%|██████████| 76/76 [00:07<00:00,  9.61it/s]\n"
     ]
    },
    {
     "name": "stdout",
     "output_type": "stream",
     "text": [
      "Training loss: 0.03540057421808964\n",
      "{'f1_sampled': 0.0, 'f1_micro': 0.0, 'f1_macro': 0.0, 'f_05_sample': 0.0, 'f_05_micro': 0.0, 'f_05_macro': 0.0, 'precision_sampled': 0.0, 'precision_micro': 0.0, 'precision_macro': 0.0, 'recall_sampled': 0.0, 'recall_micro': 0.0, 'recall_macro': 0.0, 'accuracy': 0.05921052631578947, 'coverage_error': np.float64(185.0), 'label_ranking_loss': np.float64(1.0), 'lrap': np.float64(0.011486486486486487)}\n"
     ]
    },
    {
     "name": "stderr",
     "output_type": "stream",
     "text": [
      "Epoch 12:   0%|          | 0/76 [00:00<?, ?it/s]"
     ]
    },
    {
     "name": "stdout",
     "output_type": "stream",
     "text": [
      "-- Step: 0\n"
     ]
    },
    {
     "name": "stderr",
     "output_type": "stream",
     "text": [
      "Epoch 12:   1%|▏         | 1/76 [00:00<00:50,  1.47it/s]"
     ]
    },
    {
     "name": "stdout",
     "output_type": "stream",
     "text": [
      "{'f1_sampled': 0.0, 'f1_micro': 0.0, 'f1_macro': 0.0, 'f_05_sample': 0.0, 'f_05_micro': 0.0, 'f_05_macro': 0.0, 'precision_sampled': 0.0, 'precision_micro': 0.0, 'precision_macro': 0.0, 'recall_sampled': 0.0, 'recall_micro': 0.0, 'recall_macro': 0.0, 'accuracy': 0.05921052631578947, 'coverage_error': np.float64(185.0), 'label_ranking_loss': np.float64(1.0), 'lrap': np.float64(0.011486486486486487)}\n"
     ]
    },
    {
     "name": "stderr",
     "output_type": "stream",
     "text": [
      "Epoch 12: 100%|██████████| 76/76 [00:07<00:00,  9.65it/s]\n"
     ]
    },
    {
     "name": "stdout",
     "output_type": "stream",
     "text": [
      "Training loss: 0.0349881434568057\n",
      "{'f1_sampled': 0.0, 'f1_micro': 0.0, 'f1_macro': 0.0, 'f_05_sample': 0.0, 'f_05_micro': 0.0, 'f_05_macro': 0.0, 'precision_sampled': 0.0, 'precision_micro': 0.0, 'precision_macro': 0.0, 'recall_sampled': 0.0, 'recall_micro': 0.0, 'recall_macro': 0.0, 'accuracy': 0.05921052631578947, 'coverage_error': np.float64(185.0), 'label_ranking_loss': np.float64(1.0), 'lrap': np.float64(0.011486486486486487)}\n"
     ]
    },
    {
     "name": "stderr",
     "output_type": "stream",
     "text": [
      "Epoch 13:   0%|          | 0/76 [00:00<?, ?it/s]"
     ]
    },
    {
     "name": "stdout",
     "output_type": "stream",
     "text": [
      "-- Step: 0\n"
     ]
    },
    {
     "name": "stderr",
     "output_type": "stream",
     "text": [
      "Epoch 13:   4%|▍         | 3/76 [00:00<00:18,  3.89it/s]"
     ]
    },
    {
     "name": "stdout",
     "output_type": "stream",
     "text": [
      "{'f1_sampled': 0.0, 'f1_micro': 0.0, 'f1_macro': 0.0, 'f_05_sample': 0.0, 'f_05_micro': 0.0, 'f_05_macro': 0.0, 'precision_sampled': 0.0, 'precision_micro': 0.0, 'precision_macro': 0.0, 'recall_sampled': 0.0, 'recall_micro': 0.0, 'recall_macro': 0.0, 'accuracy': 0.05921052631578947, 'coverage_error': np.float64(185.0), 'label_ranking_loss': np.float64(1.0), 'lrap': np.float64(0.011486486486486487)}\n"
     ]
    },
    {
     "name": "stderr",
     "output_type": "stream",
     "text": [
      "Epoch 13: 100%|██████████| 76/76 [00:07<00:00,  9.51it/s]\n"
     ]
    },
    {
     "name": "stdout",
     "output_type": "stream",
     "text": [
      "Training loss: 0.03482876816078236\n",
      "{'f1_sampled': 0.0, 'f1_micro': 0.0, 'f1_macro': 0.0, 'f_05_sample': 0.0, 'f_05_micro': 0.0, 'f_05_macro': 0.0, 'precision_sampled': 0.0, 'precision_micro': 0.0, 'precision_macro': 0.0, 'recall_sampled': 0.0, 'recall_micro': 0.0, 'recall_macro': 0.0, 'accuracy': 0.05921052631578947, 'coverage_error': np.float64(185.0), 'label_ranking_loss': np.float64(1.0), 'lrap': np.float64(0.011486486486486487)}\n"
     ]
    },
    {
     "name": "stderr",
     "output_type": "stream",
     "text": [
      "Epoch 14:   0%|          | 0/76 [00:00<?, ?it/s]"
     ]
    },
    {
     "name": "stdout",
     "output_type": "stream",
     "text": [
      "-- Step: 0\n"
     ]
    },
    {
     "name": "stderr",
     "output_type": "stream",
     "text": [
      "Epoch 14:   4%|▍         | 3/76 [00:00<00:16,  4.37it/s]"
     ]
    },
    {
     "name": "stdout",
     "output_type": "stream",
     "text": [
      "{'f1_sampled': 0.0, 'f1_micro': 0.0, 'f1_macro': 0.0, 'f_05_sample': 0.0, 'f_05_micro': 0.0, 'f_05_macro': 0.0, 'precision_sampled': 0.0, 'precision_micro': 0.0, 'precision_macro': 0.0, 'recall_sampled': 0.0, 'recall_micro': 0.0, 'recall_macro': 0.0, 'accuracy': 0.05921052631578947, 'coverage_error': np.float64(185.0), 'label_ranking_loss': np.float64(1.0), 'lrap': np.float64(0.011486486486486487)}\n"
     ]
    },
    {
     "name": "stderr",
     "output_type": "stream",
     "text": [
      "Epoch 14: 100%|██████████| 76/76 [00:07<00:00,  9.63it/s]\n"
     ]
    },
    {
     "name": "stdout",
     "output_type": "stream",
     "text": [
      "Training loss: 0.03448297580900161\n",
      "{'f1_sampled': 0.0, 'f1_micro': 0.0, 'f1_macro': 0.0, 'f_05_sample': 0.0, 'f_05_micro': 0.0, 'f_05_macro': 0.0, 'precision_sampled': 0.0, 'precision_micro': 0.0, 'precision_macro': 0.0, 'recall_sampled': 0.0, 'recall_micro': 0.0, 'recall_macro': 0.0, 'accuracy': 0.05921052631578947, 'coverage_error': np.float64(185.0), 'label_ranking_loss': np.float64(1.0), 'lrap': np.float64(0.011486486486486487)}\n"
     ]
    },
    {
     "name": "stderr",
     "output_type": "stream",
     "text": [
      "Epoch 15:   0%|          | 0/76 [00:00<?, ?it/s]"
     ]
    },
    {
     "name": "stdout",
     "output_type": "stream",
     "text": [
      "-- Step: 0\n"
     ]
    },
    {
     "name": "stderr",
     "output_type": "stream",
     "text": [
      "Epoch 15:   4%|▍         | 3/76 [00:00<00:16,  4.47it/s]"
     ]
    },
    {
     "name": "stdout",
     "output_type": "stream",
     "text": [
      "{'f1_sampled': 0.0, 'f1_micro': 0.0, 'f1_macro': 0.0, 'f_05_sample': 0.0, 'f_05_micro': 0.0, 'f_05_macro': 0.0, 'precision_sampled': 0.0, 'precision_micro': 0.0, 'precision_macro': 0.0, 'recall_sampled': 0.0, 'recall_micro': 0.0, 'recall_macro': 0.0, 'accuracy': 0.05921052631578947, 'coverage_error': np.float64(185.0), 'label_ranking_loss': np.float64(1.0), 'lrap': np.float64(0.011486486486486487)}\n"
     ]
    },
    {
     "name": "stderr",
     "output_type": "stream",
     "text": [
      "Epoch 15: 100%|██████████| 76/76 [00:07<00:00,  9.68it/s]\n"
     ]
    },
    {
     "name": "stdout",
     "output_type": "stream",
     "text": [
      "Training loss: 0.034419220063443244\n",
      "{'f1_sampled': 0.0, 'f1_micro': 0.0, 'f1_macro': 0.0, 'f_05_sample': 0.0, 'f_05_micro': 0.0, 'f_05_macro': 0.0, 'precision_sampled': 0.0, 'precision_micro': 0.0, 'precision_macro': 0.0, 'recall_sampled': 0.0, 'recall_micro': 0.0, 'recall_macro': 0.0, 'accuracy': 0.05921052631578947, 'coverage_error': np.float64(185.0), 'label_ranking_loss': np.float64(1.0), 'lrap': np.float64(0.011486486486486487)}\n"
     ]
    },
    {
     "name": "stderr",
     "output_type": "stream",
     "text": [
      "Epoch 16:   0%|          | 0/76 [00:00<?, ?it/s]"
     ]
    },
    {
     "name": "stdout",
     "output_type": "stream",
     "text": [
      "-- Step: 0\n"
     ]
    },
    {
     "name": "stderr",
     "output_type": "stream",
     "text": [
      "Epoch 16:   4%|▍         | 3/76 [00:00<00:16,  4.54it/s]"
     ]
    },
    {
     "name": "stdout",
     "output_type": "stream",
     "text": [
      "{'f1_sampled': 0.0, 'f1_micro': 0.0, 'f1_macro': 0.0, 'f_05_sample': 0.0, 'f_05_micro': 0.0, 'f_05_macro': 0.0, 'precision_sampled': 0.0, 'precision_micro': 0.0, 'precision_macro': 0.0, 'recall_sampled': 0.0, 'recall_micro': 0.0, 'recall_macro': 0.0, 'accuracy': 0.05921052631578947, 'coverage_error': np.float64(185.0), 'label_ranking_loss': np.float64(1.0), 'lrap': np.float64(0.011486486486486487)}\n"
     ]
    },
    {
     "name": "stderr",
     "output_type": "stream",
     "text": [
      "Epoch 16: 100%|██████████| 76/76 [00:07<00:00,  9.70it/s]\n"
     ]
    },
    {
     "name": "stdout",
     "output_type": "stream",
     "text": [
      "Training loss: 0.034199432249328025\n",
      "{'f1_sampled': 0.0, 'f1_micro': 0.0, 'f1_macro': 0.0, 'f_05_sample': 0.0, 'f_05_micro': 0.0, 'f_05_macro': 0.0, 'precision_sampled': 0.0, 'precision_micro': 0.0, 'precision_macro': 0.0, 'recall_sampled': 0.0, 'recall_micro': 0.0, 'recall_macro': 0.0, 'accuracy': 0.05921052631578947, 'coverage_error': np.float64(185.0), 'label_ranking_loss': np.float64(1.0), 'lrap': np.float64(0.011486486486486487)}\n"
     ]
    },
    {
     "name": "stderr",
     "output_type": "stream",
     "text": [
      "Epoch 17:   0%|          | 0/76 [00:00<?, ?it/s]"
     ]
    },
    {
     "name": "stdout",
     "output_type": "stream",
     "text": [
      "-- Step: 0\n"
     ]
    },
    {
     "name": "stderr",
     "output_type": "stream",
     "text": [
      "Epoch 17:   4%|▍         | 3/76 [00:00<00:17,  4.14it/s]"
     ]
    },
    {
     "name": "stdout",
     "output_type": "stream",
     "text": [
      "{'f1_sampled': 0.0, 'f1_micro': 0.0, 'f1_macro': 0.0, 'f_05_sample': 0.0, 'f_05_micro': 0.0, 'f_05_macro': 0.0, 'precision_sampled': 0.0, 'precision_micro': 0.0, 'precision_macro': 0.0, 'recall_sampled': 0.0, 'recall_micro': 0.0, 'recall_macro': 0.0, 'accuracy': 0.05921052631578947, 'coverage_error': np.float64(185.0), 'label_ranking_loss': np.float64(1.0), 'lrap': np.float64(0.011486486486486487)}\n"
     ]
    },
    {
     "name": "stderr",
     "output_type": "stream",
     "text": [
      "Epoch 17: 100%|██████████| 76/76 [00:07<00:00,  9.63it/s]\n"
     ]
    },
    {
     "name": "stdout",
     "output_type": "stream",
     "text": [
      "Training loss: 0.033979008390911315\n",
      "{'f1_sampled': 0.0, 'f1_micro': 0.0, 'f1_macro': 0.0, 'f_05_sample': 0.0, 'f_05_micro': 0.0, 'f_05_macro': 0.0, 'precision_sampled': 0.0, 'precision_micro': 0.0, 'precision_macro': 0.0, 'recall_sampled': 0.0, 'recall_micro': 0.0, 'recall_macro': 0.0, 'accuracy': 0.05921052631578947, 'coverage_error': np.float64(185.0), 'label_ranking_loss': np.float64(1.0), 'lrap': np.float64(0.011486486486486487)}\n"
     ]
    },
    {
     "name": "stderr",
     "output_type": "stream",
     "text": [
      "Epoch 18:   0%|          | 0/76 [00:00<?, ?it/s]"
     ]
    },
    {
     "name": "stdout",
     "output_type": "stream",
     "text": [
      "-- Step: 0\n"
     ]
    },
    {
     "name": "stderr",
     "output_type": "stream",
     "text": [
      "Epoch 18:   4%|▍         | 3/76 [00:00<00:13,  5.22it/s]"
     ]
    },
    {
     "name": "stdout",
     "output_type": "stream",
     "text": [
      "{'f1_sampled': 0.0, 'f1_micro': 0.0, 'f1_macro': 0.0, 'f_05_sample': 0.0, 'f_05_micro': 0.0, 'f_05_macro': 0.0, 'precision_sampled': 0.0, 'precision_micro': 0.0, 'precision_macro': 0.0, 'recall_sampled': 0.0, 'recall_micro': 0.0, 'recall_macro': 0.0, 'accuracy': 0.05921052631578947, 'coverage_error': np.float64(185.0), 'label_ranking_loss': np.float64(1.0), 'lrap': np.float64(0.011486486486486487)}\n"
     ]
    },
    {
     "name": "stderr",
     "output_type": "stream",
     "text": [
      "Epoch 18: 100%|██████████| 76/76 [00:07<00:00,  9.86it/s]\n"
     ]
    },
    {
     "name": "stdout",
     "output_type": "stream",
     "text": [
      "Training loss: 0.034030952735951074\n",
      "{'f1_sampled': 0.0, 'f1_micro': 0.0, 'f1_macro': 0.0, 'f_05_sample': 0.0, 'f_05_micro': 0.0, 'f_05_macro': 0.0, 'precision_sampled': 0.0, 'precision_micro': 0.0, 'precision_macro': 0.0, 'recall_sampled': 0.0, 'recall_micro': 0.0, 'recall_macro': 0.0, 'accuracy': 0.05921052631578947, 'coverage_error': np.float64(185.0), 'label_ranking_loss': np.float64(1.0), 'lrap': np.float64(0.011486486486486487)}\n"
     ]
    },
    {
     "name": "stderr",
     "output_type": "stream",
     "text": [
      "Epoch 19:   0%|          | 0/76 [00:00<?, ?it/s]"
     ]
    },
    {
     "name": "stdout",
     "output_type": "stream",
     "text": [
      "-- Step: 0\n"
     ]
    },
    {
     "name": "stderr",
     "output_type": "stream",
     "text": [
      "Epoch 19:   4%|▍         | 3/76 [00:00<00:14,  4.89it/s]"
     ]
    },
    {
     "name": "stdout",
     "output_type": "stream",
     "text": [
      "{'f1_sampled': 0.0, 'f1_micro': 0.0, 'f1_macro': 0.0, 'f_05_sample': 0.0, 'f_05_micro': 0.0, 'f_05_macro': 0.0, 'precision_sampled': 0.0, 'precision_micro': 0.0, 'precision_macro': 0.0, 'recall_sampled': 0.0, 'recall_micro': 0.0, 'recall_macro': 0.0, 'accuracy': 0.05921052631578947, 'coverage_error': np.float64(185.0), 'label_ranking_loss': np.float64(1.0), 'lrap': np.float64(0.011486486486486487)}\n"
     ]
    },
    {
     "name": "stderr",
     "output_type": "stream",
     "text": [
      "Epoch 19: 100%|██████████| 76/76 [00:07<00:00,  9.74it/s]\n"
     ]
    },
    {
     "name": "stdout",
     "output_type": "stream",
     "text": [
      "Training loss: 0.033742529977309074\n",
      "{'f1_sampled': 0.0, 'f1_micro': 0.0, 'f1_macro': 0.0, 'f_05_sample': 0.0, 'f_05_micro': 0.0, 'f_05_macro': 0.0, 'precision_sampled': 0.0, 'precision_micro': 0.0, 'precision_macro': 0.0, 'recall_sampled': 0.0, 'recall_micro': 0.0, 'recall_macro': 0.0, 'accuracy': 0.05921052631578947, 'coverage_error': np.float64(185.0), 'label_ranking_loss': np.float64(1.0), 'lrap': np.float64(0.011486486486486487)}\n"
     ]
    },
    {
     "name": "stderr",
     "output_type": "stream",
     "text": [
      "Epoch 20:   0%|          | 0/76 [00:00<?, ?it/s]"
     ]
    },
    {
     "name": "stdout",
     "output_type": "stream",
     "text": [
      "-- Step: 0\n"
     ]
    },
    {
     "name": "stderr",
     "output_type": "stream",
     "text": [
      "Epoch 20:   4%|▍         | 3/76 [00:00<00:18,  3.97it/s]"
     ]
    },
    {
     "name": "stdout",
     "output_type": "stream",
     "text": [
      "{'f1_sampled': 0.0, 'f1_micro': 0.0, 'f1_macro': 0.0, 'f_05_sample': 0.0, 'f_05_micro': 0.0, 'f_05_macro': 0.0, 'precision_sampled': 0.0, 'precision_micro': 0.0, 'precision_macro': 0.0, 'recall_sampled': 0.0, 'recall_micro': 0.0, 'recall_macro': 0.0, 'accuracy': 0.05921052631578947, 'coverage_error': np.float64(185.0), 'label_ranking_loss': np.float64(1.0), 'lrap': np.float64(0.011486486486486487)}\n"
     ]
    },
    {
     "name": "stderr",
     "output_type": "stream",
     "text": [
      "Epoch 20: 100%|██████████| 76/76 [00:07<00:00,  9.51it/s]\n"
     ]
    },
    {
     "name": "stdout",
     "output_type": "stream",
     "text": [
      "Training loss: 0.03375868310563659\n",
      "{'f1_sampled': 0.0, 'f1_micro': 0.0, 'f1_macro': 0.0, 'f_05_sample': 0.0, 'f_05_micro': 0.0, 'f_05_macro': 0.0, 'precision_sampled': 0.0, 'precision_micro': 0.0, 'precision_macro': 0.0, 'recall_sampled': 0.0, 'recall_micro': 0.0, 'recall_macro': 0.0, 'accuracy': 0.05921052631578947, 'coverage_error': np.float64(185.0), 'label_ranking_loss': np.float64(1.0), 'lrap': np.float64(0.011486486486486487)}\n"
     ]
    },
    {
     "name": "stderr",
     "output_type": "stream",
     "text": [
      "Epoch 21:   0%|          | 0/76 [00:00<?, ?it/s]"
     ]
    },
    {
     "name": "stdout",
     "output_type": "stream",
     "text": [
      "-- Step: 0\n"
     ]
    },
    {
     "name": "stderr",
     "output_type": "stream",
     "text": [
      "Epoch 21:   4%|▍         | 3/76 [00:00<00:16,  4.48it/s]"
     ]
    },
    {
     "name": "stdout",
     "output_type": "stream",
     "text": [
      "{'f1_sampled': 0.0, 'f1_micro': 0.0, 'f1_macro': 0.0, 'f_05_sample': 0.0, 'f_05_micro': 0.0, 'f_05_macro': 0.0, 'precision_sampled': 0.0, 'precision_micro': 0.0, 'precision_macro': 0.0, 'recall_sampled': 0.0, 'recall_micro': 0.0, 'recall_macro': 0.0, 'accuracy': 0.05921052631578947, 'coverage_error': np.float64(185.0), 'label_ranking_loss': np.float64(1.0), 'lrap': np.float64(0.011486486486486487)}\n"
     ]
    },
    {
     "name": "stderr",
     "output_type": "stream",
     "text": [
      "Epoch 21: 100%|██████████| 76/76 [00:07<00:00,  9.69it/s]\n"
     ]
    },
    {
     "name": "stdout",
     "output_type": "stream",
     "text": [
      "Training loss: 0.03370264160299772\n",
      "{'f1_sampled': 0.0, 'f1_micro': 0.0, 'f1_macro': 0.0, 'f_05_sample': 0.0, 'f_05_micro': 0.0, 'f_05_macro': 0.0, 'precision_sampled': 0.0, 'precision_micro': 0.0, 'precision_macro': 0.0, 'recall_sampled': 0.0, 'recall_micro': 0.0, 'recall_macro': 0.0, 'accuracy': 0.05921052631578947, 'coverage_error': np.float64(185.0), 'label_ranking_loss': np.float64(1.0), 'lrap': np.float64(0.011486486486486487)}\n"
     ]
    },
    {
     "name": "stderr",
     "output_type": "stream",
     "text": [
      "Epoch 22:   0%|          | 0/76 [00:00<?, ?it/s]"
     ]
    },
    {
     "name": "stdout",
     "output_type": "stream",
     "text": [
      "-- Step: 0\n"
     ]
    },
    {
     "name": "stderr",
     "output_type": "stream",
     "text": [
      "Epoch 22:   4%|▍         | 3/76 [00:00<00:17,  4.15it/s]"
     ]
    },
    {
     "name": "stdout",
     "output_type": "stream",
     "text": [
      "{'f1_sampled': 0.0, 'f1_micro': 0.0, 'f1_macro': 0.0, 'f_05_sample': 0.0, 'f_05_micro': 0.0, 'f_05_macro': 0.0, 'precision_sampled': 0.0, 'precision_micro': 0.0, 'precision_macro': 0.0, 'recall_sampled': 0.0, 'recall_micro': 0.0, 'recall_macro': 0.0, 'accuracy': 0.05921052631578947, 'coverage_error': np.float64(185.0), 'label_ranking_loss': np.float64(1.0), 'lrap': np.float64(0.011486486486486487)}\n"
     ]
    },
    {
     "name": "stderr",
     "output_type": "stream",
     "text": [
      "Epoch 22: 100%|██████████| 76/76 [00:07<00:00,  9.62it/s]\n"
     ]
    },
    {
     "name": "stdout",
     "output_type": "stream",
     "text": [
      "Training loss: 0.03368409345612714\n",
      "{'f1_sampled': 0.0, 'f1_micro': 0.0, 'f1_macro': 0.0, 'f_05_sample': 0.0, 'f_05_micro': 0.0, 'f_05_macro': 0.0, 'precision_sampled': 0.0, 'precision_micro': 0.0, 'precision_macro': 0.0, 'recall_sampled': 0.0, 'recall_micro': 0.0, 'recall_macro': 0.0, 'accuracy': 0.05921052631578947, 'coverage_error': np.float64(185.0), 'label_ranking_loss': np.float64(1.0), 'lrap': np.float64(0.011486486486486487)}\n"
     ]
    },
    {
     "name": "stderr",
     "output_type": "stream",
     "text": [
      "Epoch 23:   0%|          | 0/76 [00:00<?, ?it/s]"
     ]
    },
    {
     "name": "stdout",
     "output_type": "stream",
     "text": [
      "-- Step: 0\n"
     ]
    },
    {
     "name": "stderr",
     "output_type": "stream",
     "text": [
      "Epoch 23:   4%|▍         | 3/76 [00:00<00:17,  4.12it/s]"
     ]
    },
    {
     "name": "stdout",
     "output_type": "stream",
     "text": [
      "{'f1_sampled': 0.0, 'f1_micro': 0.0, 'f1_macro': 0.0, 'f_05_sample': 0.0, 'f_05_micro': 0.0, 'f_05_macro': 0.0, 'precision_sampled': 0.0, 'precision_micro': 0.0, 'precision_macro': 0.0, 'recall_sampled': 0.0, 'recall_micro': 0.0, 'recall_macro': 0.0, 'accuracy': 0.05921052631578947, 'coverage_error': np.float64(185.0), 'label_ranking_loss': np.float64(1.0), 'lrap': np.float64(0.011486486486486487)}\n"
     ]
    },
    {
     "name": "stderr",
     "output_type": "stream",
     "text": [
      "Epoch 23: 100%|██████████| 76/76 [00:07<00:00,  9.58it/s]\n"
     ]
    },
    {
     "name": "stdout",
     "output_type": "stream",
     "text": [
      "Training loss: 0.03363708955676932\n",
      "{'f1_sampled': 0.0, 'f1_micro': 0.0, 'f1_macro': 0.0, 'f_05_sample': 0.0, 'f_05_micro': 0.0, 'f_05_macro': 0.0, 'precision_sampled': 0.0, 'precision_micro': 0.0, 'precision_macro': 0.0, 'recall_sampled': 0.0, 'recall_micro': 0.0, 'recall_macro': 0.0, 'accuracy': 0.05921052631578947, 'coverage_error': np.float64(185.0), 'label_ranking_loss': np.float64(1.0), 'lrap': np.float64(0.011486486486486487)}\n"
     ]
    },
    {
     "name": "stderr",
     "output_type": "stream",
     "text": [
      "Epoch 24:   0%|          | 0/76 [00:00<?, ?it/s]"
     ]
    },
    {
     "name": "stdout",
     "output_type": "stream",
     "text": [
      "-- Step: 0\n"
     ]
    },
    {
     "name": "stderr",
     "output_type": "stream",
     "text": [
      "Epoch 24:   4%|▍         | 3/76 [00:00<00:17,  4.14it/s]"
     ]
    },
    {
     "name": "stdout",
     "output_type": "stream",
     "text": [
      "{'f1_sampled': 0.0, 'f1_micro': 0.0, 'f1_macro': 0.0, 'f_05_sample': 0.0, 'f_05_micro': 0.0, 'f_05_macro': 0.0, 'precision_sampled': 0.0, 'precision_micro': 0.0, 'precision_macro': 0.0, 'recall_sampled': 0.0, 'recall_micro': 0.0, 'recall_macro': 0.0, 'accuracy': 0.05921052631578947, 'coverage_error': np.float64(185.0), 'label_ranking_loss': np.float64(1.0), 'lrap': np.float64(0.011486486486486487)}\n"
     ]
    },
    {
     "name": "stderr",
     "output_type": "stream",
     "text": [
      "Epoch 24: 100%|██████████| 76/76 [00:07<00:00,  9.64it/s]\n"
     ]
    },
    {
     "name": "stdout",
     "output_type": "stream",
     "text": [
      "Training loss: 0.033565314143503965\n",
      "{'f1_sampled': 0.0, 'f1_micro': 0.0, 'f1_macro': 0.0, 'f_05_sample': 0.0, 'f_05_micro': 0.0, 'f_05_macro': 0.0, 'precision_sampled': 0.0, 'precision_micro': 0.0, 'precision_macro': 0.0, 'recall_sampled': 0.0, 'recall_micro': 0.0, 'recall_macro': 0.0, 'accuracy': 0.05921052631578947, 'coverage_error': np.float64(185.0), 'label_ranking_loss': np.float64(1.0), 'lrap': np.float64(0.011486486486486487)}\n"
     ]
    },
    {
     "name": "stderr",
     "output_type": "stream",
     "text": [
      "Epoch 25:   0%|          | 0/76 [00:00<?, ?it/s]"
     ]
    },
    {
     "name": "stdout",
     "output_type": "stream",
     "text": [
      "-- Step: 0\n"
     ]
    },
    {
     "name": "stderr",
     "output_type": "stream",
     "text": [
      "Epoch 25:   4%|▍         | 3/76 [00:00<00:18,  3.95it/s]"
     ]
    },
    {
     "name": "stdout",
     "output_type": "stream",
     "text": [
      "{'f1_sampled': 0.0, 'f1_micro': 0.0, 'f1_macro': 0.0, 'f_05_sample': 0.0, 'f_05_micro': 0.0, 'f_05_macro': 0.0, 'precision_sampled': 0.0, 'precision_micro': 0.0, 'precision_macro': 0.0, 'recall_sampled': 0.0, 'recall_micro': 0.0, 'recall_macro': 0.0, 'accuracy': 0.05921052631578947, 'coverage_error': np.float64(185.0), 'label_ranking_loss': np.float64(1.0), 'lrap': np.float64(0.011486486486486487)}\n"
     ]
    },
    {
     "name": "stderr",
     "output_type": "stream",
     "text": [
      "Epoch 25: 100%|██████████| 76/76 [00:07<00:00,  9.60it/s]\n"
     ]
    },
    {
     "name": "stdout",
     "output_type": "stream",
     "text": [
      "Training loss: 0.03352190431599554\n",
      "{'f1_sampled': 0.0, 'f1_micro': 0.0, 'f1_macro': 0.0, 'f_05_sample': 0.0, 'f_05_micro': 0.0, 'f_05_macro': 0.0, 'precision_sampled': 0.0, 'precision_micro': 0.0, 'precision_macro': 0.0, 'recall_sampled': 0.0, 'recall_micro': 0.0, 'recall_macro': 0.0, 'accuracy': 0.05921052631578947, 'coverage_error': np.float64(185.0), 'label_ranking_loss': np.float64(1.0), 'lrap': np.float64(0.011486486486486487)}\n"
     ]
    },
    {
     "name": "stderr",
     "output_type": "stream",
     "text": [
      "Epoch 26:   0%|          | 0/76 [00:00<?, ?it/s]"
     ]
    },
    {
     "name": "stdout",
     "output_type": "stream",
     "text": [
      "-- Step: 0\n"
     ]
    },
    {
     "name": "stderr",
     "output_type": "stream",
     "text": [
      "Epoch 26:   1%|▏         | 1/76 [00:00<00:45,  1.65it/s]"
     ]
    },
    {
     "name": "stdout",
     "output_type": "stream",
     "text": [
      "{'f1_sampled': 0.0, 'f1_micro': 0.0, 'f1_macro': 0.0, 'f_05_sample': 0.0, 'f_05_micro': 0.0, 'f_05_macro': 0.0, 'precision_sampled': 0.0, 'precision_micro': 0.0, 'precision_macro': 0.0, 'recall_sampled': 0.0, 'recall_micro': 0.0, 'recall_macro': 0.0, 'accuracy': 0.05921052631578947, 'coverage_error': np.float64(185.0), 'label_ranking_loss': np.float64(1.0), 'lrap': np.float64(0.011486486486486487)}\n"
     ]
    },
    {
     "name": "stderr",
     "output_type": "stream",
     "text": [
      "Epoch 26: 100%|██████████| 76/76 [00:07<00:00,  9.75it/s]\n"
     ]
    },
    {
     "name": "stdout",
     "output_type": "stream",
     "text": [
      "Training loss: 0.033431350915251595\n",
      "{'f1_sampled': 0.0, 'f1_micro': 0.0, 'f1_macro': 0.0, 'f_05_sample': 0.0, 'f_05_micro': 0.0, 'f_05_macro': 0.0, 'precision_sampled': 0.0, 'precision_micro': 0.0, 'precision_macro': 0.0, 'recall_sampled': 0.0, 'recall_micro': 0.0, 'recall_macro': 0.0, 'accuracy': 0.05921052631578947, 'coverage_error': np.float64(185.0), 'label_ranking_loss': np.float64(1.0), 'lrap': np.float64(0.011486486486486487)}\n"
     ]
    },
    {
     "name": "stderr",
     "output_type": "stream",
     "text": [
      "Epoch 27:   0%|          | 0/76 [00:00<?, ?it/s]"
     ]
    },
    {
     "name": "stdout",
     "output_type": "stream",
     "text": [
      "-- Step: 0\n"
     ]
    },
    {
     "name": "stderr",
     "output_type": "stream",
     "text": [
      "Epoch 27:   4%|▍         | 3/76 [00:00<00:16,  4.34it/s]"
     ]
    },
    {
     "name": "stdout",
     "output_type": "stream",
     "text": [
      "{'f1_sampled': 0.0, 'f1_micro': 0.0, 'f1_macro': 0.0, 'f_05_sample': 0.0, 'f_05_micro': 0.0, 'f_05_macro': 0.0, 'precision_sampled': 0.0, 'precision_micro': 0.0, 'precision_macro': 0.0, 'recall_sampled': 0.0, 'recall_micro': 0.0, 'recall_macro': 0.0, 'accuracy': 0.05921052631578947, 'coverage_error': np.float64(185.0), 'label_ranking_loss': np.float64(1.0), 'lrap': np.float64(0.011486486486486487)}\n"
     ]
    },
    {
     "name": "stderr",
     "output_type": "stream",
     "text": [
      "Epoch 27: 100%|██████████| 76/76 [00:07<00:00,  9.69it/s]\n"
     ]
    },
    {
     "name": "stdout",
     "output_type": "stream",
     "text": [
      "Training loss: 0.033240286682389285\n",
      "{'f1_sampled': 0.0, 'f1_micro': 0.0, 'f1_macro': 0.0, 'f_05_sample': 0.0, 'f_05_micro': 0.0, 'f_05_macro': 0.0, 'precision_sampled': 0.0, 'precision_micro': 0.0, 'precision_macro': 0.0, 'recall_sampled': 0.0, 'recall_micro': 0.0, 'recall_macro': 0.0, 'accuracy': 0.05921052631578947, 'coverage_error': np.float64(185.0), 'label_ranking_loss': np.float64(1.0), 'lrap': np.float64(0.011486486486486487)}\n"
     ]
    },
    {
     "name": "stderr",
     "output_type": "stream",
     "text": [
      "Epoch 28:   0%|          | 0/76 [00:00<?, ?it/s]"
     ]
    },
    {
     "name": "stdout",
     "output_type": "stream",
     "text": [
      "-- Step: 0\n"
     ]
    },
    {
     "name": "stderr",
     "output_type": "stream",
     "text": [
      "Epoch 28:   4%|▍         | 3/76 [00:00<00:18,  3.93it/s]"
     ]
    },
    {
     "name": "stdout",
     "output_type": "stream",
     "text": [
      "{'f1_sampled': 0.0, 'f1_micro': 0.0, 'f1_macro': 0.0, 'f_05_sample': 0.0, 'f_05_micro': 0.0, 'f_05_macro': 0.0, 'precision_sampled': 0.0, 'precision_micro': 0.0, 'precision_macro': 0.0, 'recall_sampled': 0.0, 'recall_micro': 0.0, 'recall_macro': 0.0, 'accuracy': 0.05921052631578947, 'coverage_error': np.float64(185.0), 'label_ranking_loss': np.float64(1.0), 'lrap': np.float64(0.011486486486486487)}\n"
     ]
    },
    {
     "name": "stderr",
     "output_type": "stream",
     "text": [
      "Epoch 28: 100%|██████████| 76/76 [00:07<00:00,  9.58it/s]\n"
     ]
    },
    {
     "name": "stdout",
     "output_type": "stream",
     "text": [
      "Training loss: 0.03288599473767375\n",
      "{'f1_sampled': 0.0, 'f1_micro': 0.0, 'f1_macro': 0.0, 'f_05_sample': 0.0, 'f_05_micro': 0.0, 'f_05_macro': 0.0, 'precision_sampled': 0.0, 'precision_micro': 0.0, 'precision_macro': 0.0, 'recall_sampled': 0.0, 'recall_micro': 0.0, 'recall_macro': 0.0, 'accuracy': 0.05921052631578947, 'coverage_error': np.float64(185.0), 'label_ranking_loss': np.float64(1.0), 'lrap': np.float64(0.011486486486486487)}\n"
     ]
    },
    {
     "name": "stderr",
     "output_type": "stream",
     "text": [
      "Epoch 29:   0%|          | 0/76 [00:00<?, ?it/s]"
     ]
    },
    {
     "name": "stdout",
     "output_type": "stream",
     "text": [
      "-- Step: 0\n"
     ]
    },
    {
     "name": "stderr",
     "output_type": "stream",
     "text": [
      "Epoch 29:   4%|▍         | 3/76 [00:00<00:14,  5.01it/s]"
     ]
    },
    {
     "name": "stdout",
     "output_type": "stream",
     "text": [
      "{'f1_sampled': 0.0, 'f1_micro': 0.0, 'f1_macro': 0.0, 'f_05_sample': 0.0, 'f_05_micro': 0.0, 'f_05_macro': 0.0, 'precision_sampled': 0.0, 'precision_micro': 0.0, 'precision_macro': 0.0, 'recall_sampled': 0.0, 'recall_micro': 0.0, 'recall_macro': 0.0, 'accuracy': 0.05921052631578947, 'coverage_error': np.float64(185.0), 'label_ranking_loss': np.float64(1.0), 'lrap': np.float64(0.011486486486486487)}\n"
     ]
    },
    {
     "name": "stderr",
     "output_type": "stream",
     "text": [
      "Epoch 29: 100%|██████████| 76/76 [00:07<00:00,  9.79it/s]\n"
     ]
    },
    {
     "name": "stdout",
     "output_type": "stream",
     "text": [
      "Training loss: 0.03257161038192479\n",
      "{'f1_sampled': 0.0, 'f1_micro': 0.0, 'f1_macro': 0.0, 'f_05_sample': 0.0, 'f_05_micro': 0.0, 'f_05_macro': 0.0, 'precision_sampled': 0.0, 'precision_micro': 0.0, 'precision_macro': 0.0, 'recall_sampled': 0.0, 'recall_micro': 0.0, 'recall_macro': 0.0, 'accuracy': 0.05921052631578947, 'coverage_error': np.float64(185.0), 'label_ranking_loss': np.float64(1.0), 'lrap': np.float64(0.011486486486486487)}\n"
     ]
    },
    {
     "name": "stderr",
     "output_type": "stream",
     "text": [
      "Epoch 30:   0%|          | 0/76 [00:00<?, ?it/s]"
     ]
    },
    {
     "name": "stdout",
     "output_type": "stream",
     "text": [
      "-- Step: 0\n"
     ]
    },
    {
     "name": "stderr",
     "output_type": "stream",
     "text": [
      "Epoch 30:   4%|▍         | 3/76 [00:00<00:17,  4.19it/s]"
     ]
    },
    {
     "name": "stdout",
     "output_type": "stream",
     "text": [
      "{'f1_sampled': 0.0, 'f1_micro': 0.0, 'f1_macro': 0.0, 'f_05_sample': 0.0, 'f_05_micro': 0.0, 'f_05_macro': 0.0, 'precision_sampled': 0.0, 'precision_micro': 0.0, 'precision_macro': 0.0, 'recall_sampled': 0.0, 'recall_micro': 0.0, 'recall_macro': 0.0, 'accuracy': 0.05921052631578947, 'coverage_error': np.float64(185.0), 'label_ranking_loss': np.float64(1.0), 'lrap': np.float64(0.011486486486486487)}\n"
     ]
    },
    {
     "name": "stderr",
     "output_type": "stream",
     "text": [
      "Epoch 30: 100%|██████████| 76/76 [00:07<00:00,  9.59it/s]\n"
     ]
    },
    {
     "name": "stdout",
     "output_type": "stream",
     "text": [
      "Training loss: 0.03187476201473098\n",
      "{'f1_sampled': 0.0, 'f1_micro': 0.0, 'f1_macro': 0.0, 'f_05_sample': 0.0, 'f_05_micro': 0.0, 'f_05_macro': 0.0, 'precision_sampled': 0.0, 'precision_micro': 0.0, 'precision_macro': 0.0, 'recall_sampled': 0.0, 'recall_micro': 0.0, 'recall_macro': 0.0, 'accuracy': 0.05921052631578947, 'coverage_error': np.float64(185.0), 'label_ranking_loss': np.float64(1.0), 'lrap': np.float64(0.011486486486486487)}\n"
     ]
    },
    {
     "name": "stderr",
     "output_type": "stream",
     "text": [
      "Epoch 31:   0%|          | 0/76 [00:00<?, ?it/s]"
     ]
    },
    {
     "name": "stdout",
     "output_type": "stream",
     "text": [
      "-- Step: 0\n"
     ]
    },
    {
     "name": "stderr",
     "output_type": "stream",
     "text": [
      "Epoch 31:   4%|▍         | 3/76 [00:00<00:17,  4.27it/s]"
     ]
    },
    {
     "name": "stdout",
     "output_type": "stream",
     "text": [
      "{'f1_sampled': 0.0043859649122807015, 'f1_micro': 0.008438818565400843, 'f1_macro': 0.0005689900426742531, 'f_05_sample': 0.005482456140350878, 'f_05_micro': 0.02032520325203252, 'f_05_macro': 0.0009652509652509653, 'precision_sampled': 0.006578947368421052, 'precision_micro': 0.3333333333333333, 'precision_macro': 0.0018018018018018016, 'recall_sampled': 0.003289473684210526, 'recall_micro': 0.004273504273504274, 'recall_macro': 0.00033783783783783786, 'accuracy': 0.05921052631578947, 'coverage_error': np.float64(185.0), 'label_ranking_loss': np.float64(1.0), 'lrap': np.float64(0.011486486486486487)}\n"
     ]
    },
    {
     "name": "stderr",
     "output_type": "stream",
     "text": [
      "Epoch 31: 100%|██████████| 76/76 [00:07<00:00,  9.65it/s]\n"
     ]
    },
    {
     "name": "stdout",
     "output_type": "stream",
     "text": [
      "Training loss: 0.031660085789075025\n",
      "{'f1_sampled': 0.015350877192982454, 'f1_micro': 0.02510460251046025, 'f1_macro': 0.0015444015444015444, 'f_05_sample': 0.01754385964912281, 'f_05_micro': 0.05905511811023622, 'f_05_macro': 0.0022522522522522522, 'precision_sampled': 0.019736842105263157, 'precision_micro': 0.6, 'precision_macro': 0.003243243243243243, 'recall_sampled': 0.013157894736842105, 'recall_micro': 0.01282051282051282, 'recall_macro': 0.0010135135135135136, 'accuracy': 0.06578947368421052, 'coverage_error': np.float64(185.0), 'label_ranking_loss': np.float64(1.0), 'lrap': np.float64(0.011486486486486487)}\n",
      "--- Best Model. Val: 0.0 -> 0.019536019536019536\n"
     ]
    },
    {
     "name": "stderr",
     "output_type": "stream",
     "text": [
      "Epoch 32:   0%|          | 0/76 [00:00<?, ?it/s]"
     ]
    },
    {
     "name": "stdout",
     "output_type": "stream",
     "text": [
      "-- Step: 0\n"
     ]
    },
    {
     "name": "stderr",
     "output_type": "stream",
     "text": [
      "Epoch 32:   4%|▍         | 3/76 [00:00<00:15,  4.70it/s]"
     ]
    },
    {
     "name": "stdout",
     "output_type": "stream",
     "text": [
      "{'f1_sampled': 0.021929824561403508, 'f1_micro': 0.03333333333333333, 'f1_macro': 0.0019656019656019656, 'f_05_sample': 0.024122807017543862, 'f_05_micro': 0.07751937984496124, 'f_05_macro': 0.002702702702702703, 'precision_sampled': 0.02631578947368421, 'precision_micro': 0.6666666666666666, 'precision_macro': 0.0036036036036036032, 'recall_sampled': 0.019736842105263157, 'recall_micro': 0.017094017094017096, 'recall_macro': 0.0013513513513513514, 'accuracy': 0.07236842105263158, 'coverage_error': np.float64(185.0), 'label_ranking_loss': np.float64(1.0), 'lrap': np.float64(0.011486486486486487)}\n"
     ]
    },
    {
     "name": "stderr",
     "output_type": "stream",
     "text": [
      "Epoch 32: 100%|██████████| 76/76 [00:07<00:00,  9.73it/s]\n"
     ]
    },
    {
     "name": "stdout",
     "output_type": "stream",
     "text": [
      "Training loss: 0.031243205462631426\n",
      "{'f1_sampled': 0.03289473684210526, 'f1_micro': 0.05622489959839357, 'f1_macro': 0.0024411508282476025, 'f_05_sample': 0.039473684210526314, 'f_05_micro': 0.11904761904761904, 'f_05_macro': 0.0024893314366998577, 'precision_sampled': 0.046052631578947366, 'precision_micro': 0.4666666666666667, 'precision_macro': 0.0025225225225225228, 'recall_sampled': 0.02631578947368421, 'recall_micro': 0.029914529914529916, 'recall_macro': 0.002364864864864865, 'accuracy': 0.05921052631578947, 'coverage_error': np.float64(185.0), 'label_ranking_loss': np.float64(1.0), 'lrap': np.float64(0.011486486486486487)}\n",
      "--- Best Model. Val: 0.019536019536019536 -> 0.030879514750482492\n"
     ]
    },
    {
     "name": "stderr",
     "output_type": "stream",
     "text": [
      "Epoch 33:   0%|          | 0/76 [00:00<?, ?it/s]"
     ]
    },
    {
     "name": "stdout",
     "output_type": "stream",
     "text": [
      "-- Step: 0\n"
     ]
    },
    {
     "name": "stderr",
     "output_type": "stream",
     "text": [
      "Epoch 33:   4%|▍         | 3/76 [00:00<00:17,  4.13it/s]"
     ]
    },
    {
     "name": "stdout",
     "output_type": "stream",
     "text": [
      "{'f1_sampled': 0.03289473684210526, 'f1_micro': 0.05622489959839357, 'f1_macro': 0.0024411508282476025, 'f_05_sample': 0.039473684210526314, 'f_05_micro': 0.11904761904761904, 'f_05_macro': 0.0024893314366998577, 'precision_sampled': 0.046052631578947366, 'precision_micro': 0.4666666666666667, 'precision_macro': 0.0025225225225225228, 'recall_sampled': 0.02631578947368421, 'recall_micro': 0.029914529914529916, 'recall_macro': 0.002364864864864865, 'accuracy': 0.05921052631578947, 'coverage_error': np.float64(185.0), 'label_ranking_loss': np.float64(1.0), 'lrap': np.float64(0.011486486486486487)}\n"
     ]
    },
    {
     "name": "stderr",
     "output_type": "stream",
     "text": [
      "Epoch 33: 100%|██████████| 76/76 [00:07<00:00,  9.55it/s]\n"
     ]
    },
    {
     "name": "stdout",
     "output_type": "stream",
     "text": [
      "Training loss: 0.030898223582066987\n",
      "{'f1_sampled': 0.035087719298245605, 'f1_micro': 0.056, 'f1_macro': 0.002364864864864865, 'f_05_sample': 0.0405701754385965, 'f_05_micro': 0.1174496644295302, 'f_05_macro': 0.002364864864864865, 'precision_sampled': 0.046052631578947366, 'precision_micro': 0.4375, 'precision_macro': 0.002364864864864865, 'recall_sampled': 0.029605263157894735, 'recall_micro': 0.029914529914529916, 'recall_macro': 0.002364864864864865, 'accuracy': 0.06578947368421052, 'coverage_error': np.float64(185.0), 'label_ranking_loss': np.float64(1.0), 'lrap': np.float64(0.011486486486486487)}\n"
     ]
    },
    {
     "name": "stderr",
     "output_type": "stream",
     "text": [
      "Epoch 34:   0%|          | 0/76 [00:00<?, ?it/s]"
     ]
    },
    {
     "name": "stdout",
     "output_type": "stream",
     "text": [
      "-- Step: 0\n"
     ]
    },
    {
     "name": "stderr",
     "output_type": "stream",
     "text": [
      "Epoch 34:   4%|▍         | 3/76 [00:00<00:17,  4.16it/s]"
     ]
    },
    {
     "name": "stdout",
     "output_type": "stream",
     "text": [
      "{'f1_sampled': 0.035087719298245605, 'f1_micro': 0.055776892430278883, 'f1_macro': 0.0022932022932022934, 'f_05_sample': 0.0405701754385965, 'f_05_micro': 0.11589403973509933, 'f_05_macro': 0.0022522522522522522, 'precision_sampled': 0.046052631578947366, 'precision_micro': 0.4117647058823529, 'precision_macro': 0.0022257551669316376, 'recall_sampled': 0.029605263157894735, 'recall_micro': 0.029914529914529916, 'recall_macro': 0.002364864864864865, 'accuracy': 0.06578947368421052, 'coverage_error': np.float64(185.0), 'label_ranking_loss': np.float64(1.0), 'lrap': np.float64(0.011486486486486487)}\n"
     ]
    },
    {
     "name": "stderr",
     "output_type": "stream",
     "text": [
      "Epoch 34: 100%|██████████| 76/76 [00:07<00:00,  9.62it/s]\n"
     ]
    },
    {
     "name": "stdout",
     "output_type": "stream",
     "text": [
      "Training loss: 0.030512694710571515\n",
      "{'f1_sampled': 0.017543859649122806, 'f1_micro': 0.03305785123966942, 'f1_macro': 0.0018018018018018016, 'f_05_sample': 0.02192982456140351, 'f_05_micro': 0.07518796992481203, 'f_05_macro': 0.0022522522522522522, 'precision_sampled': 0.02631578947368421, 'precision_micro': 0.5, 'precision_macro': 0.002702702702702703, 'recall_sampled': 0.013157894736842105, 'recall_micro': 0.017094017094017096, 'recall_macro': 0.0013513513513513514, 'accuracy': 0.05263157894736842, 'coverage_error': np.float64(185.0), 'label_ranking_loss': np.float64(1.0), 'lrap': np.float64(0.011486486486486487)}\n"
     ]
    },
    {
     "name": "stderr",
     "output_type": "stream",
     "text": [
      "Epoch 35:   0%|          | 0/76 [00:00<?, ?it/s]"
     ]
    },
    {
     "name": "stdout",
     "output_type": "stream",
     "text": [
      "-- Step: 0\n"
     ]
    },
    {
     "name": "stderr",
     "output_type": "stream",
     "text": [
      "Epoch 35:   4%|▍         | 3/76 [00:00<00:16,  4.31it/s]"
     ]
    },
    {
     "name": "stdout",
     "output_type": "stream",
     "text": [
      "{'f1_sampled': 0.017543859649122806, 'f1_micro': 0.03292181069958848, 'f1_macro': 0.0017297297297297297, 'f_05_sample': 0.02192982456140351, 'f_05_micro': 0.07407407407407407, 'f_05_macro': 0.002079002079002079, 'precision_sampled': 0.02631578947368421, 'precision_micro': 0.4444444444444444, 'precision_macro': 0.0024024024024024023, 'recall_sampled': 0.013157894736842105, 'recall_micro': 0.017094017094017096, 'recall_macro': 0.0013513513513513514, 'accuracy': 0.05263157894736842, 'coverage_error': np.float64(185.0), 'label_ranking_loss': np.float64(1.0), 'lrap': np.float64(0.011486486486486487)}\n"
     ]
    },
    {
     "name": "stderr",
     "output_type": "stream",
     "text": [
      "Epoch 35: 100%|██████████| 76/76 [00:07<00:00,  9.67it/s]\n"
     ]
    },
    {
     "name": "stdout",
     "output_type": "stream",
     "text": [
      "Training loss: 0.030088764713390878\n",
      "{'f1_sampled': 0.03508771929824561, 'f1_micro': 0.05737704918032787, 'f1_macro': 0.0030270270270270267, 'f_05_sample': 0.040570175438596486, 'f_05_micro': 0.12773722627737227, 'f_05_macro': 0.004083754083754084, 'precision_sampled': 0.046052631578947366, 'precision_micro': 0.7, 'precision_macro': 0.009009009009009009, 'recall_sampled': 0.029605263157894735, 'recall_micro': 0.029914529914529916, 'recall_macro': 0.0022522522522522522, 'accuracy': 0.07236842105263158, 'coverage_error': np.float64(185.0), 'label_ranking_loss': np.float64(1.0), 'lrap': np.float64(0.011486486486486487)}\n",
      "--- Best Model. Val: 0.030879514750482492 -> 0.041025641025641026\n"
     ]
    },
    {
     "name": "stderr",
     "output_type": "stream",
     "text": [
      "Epoch 36:   0%|          | 0/76 [00:00<?, ?it/s]"
     ]
    },
    {
     "name": "stdout",
     "output_type": "stream",
     "text": [
      "-- Step: 0\n"
     ]
    },
    {
     "name": "stderr",
     "output_type": "stream",
     "text": [
      "Epoch 36:   4%|▍         | 3/76 [00:00<00:16,  4.37it/s]"
     ]
    },
    {
     "name": "stdout",
     "output_type": "stream",
     "text": [
      "{'f1_sampled': 0.03508771929824561, 'f1_micro': 0.05714285714285714, 'f1_macro': 0.002927234927234927, 'f_05_sample': 0.040570175438596486, 'f_05_micro': 0.12589928057553956, 'f_05_macro': 0.003861003861003861, 'precision_sampled': 0.046052631578947366, 'precision_micro': 0.6363636363636364, 'precision_macro': 0.008648648648648649, 'recall_sampled': 0.029605263157894735, 'recall_micro': 0.029914529914529916, 'recall_macro': 0.0022522522522522522, 'accuracy': 0.06578947368421052, 'coverage_error': np.float64(185.0), 'label_ranking_loss': np.float64(1.0), 'lrap': np.float64(0.011486486486486487)}\n"
     ]
    },
    {
     "name": "stderr",
     "output_type": "stream",
     "text": [
      "Epoch 36: 100%|██████████| 76/76 [00:07<00:00,  9.69it/s]\n"
     ]
    },
    {
     "name": "stdout",
     "output_type": "stream",
     "text": [
      "Training loss: 0.029493155717653662\n",
      "{'f1_sampled': 0.039473684210526314, 'f1_micro': 0.0642570281124498, 'f1_macro': 0.0032403756541687576, 'f_05_sample': 0.046052631578947366, 'f_05_micro': 0.1360544217687075, 'f_05_macro': 0.004124254124254124, 'precision_sampled': 0.05263157894736842, 'precision_micro': 0.5333333333333333, 'precision_macro': 0.005405405405405406, 'recall_sampled': 0.03289473684210526, 'recall_micro': 0.03418803418803419, 'recall_macro': 0.0024774774774774773, 'accuracy': 0.07236842105263158, 'coverage_error': np.float64(185.0), 'label_ranking_loss': np.float64(1.0), 'lrap': np.float64(0.011486486486486487)}\n",
      "--- Best Model. Val: 0.041025641025641026 -> 0.045704958171801674\n"
     ]
    },
    {
     "name": "stderr",
     "output_type": "stream",
     "text": [
      "Epoch 37:   0%|          | 0/76 [00:00<?, ?it/s]"
     ]
    },
    {
     "name": "stdout",
     "output_type": "stream",
     "text": [
      "-- Step: 0\n"
     ]
    },
    {
     "name": "stderr",
     "output_type": "stream",
     "text": [
      "Epoch 37:   4%|▍         | 3/76 [00:00<00:15,  4.70it/s]"
     ]
    },
    {
     "name": "stdout",
     "output_type": "stream",
     "text": [
      "{'f1_sampled': 0.039473684210526314, 'f1_micro': 0.064, 'f1_macro': 0.0031479755617686653, 'f_05_sample': 0.046052631578947366, 'f_05_micro': 0.1342281879194631, 'f_05_macro': 0.003931203931203931, 'precision_sampled': 0.05263157894736842, 'precision_micro': 0.5, 'precision_macro': 0.00511056511056511, 'recall_sampled': 0.03289473684210526, 'recall_micro': 0.03418803418803419, 'recall_macro': 0.0024774774774774773, 'accuracy': 0.06578947368421052, 'coverage_error': np.float64(185.0), 'label_ranking_loss': np.float64(1.0), 'lrap': np.float64(0.011486486486486487)}\n"
     ]
    },
    {
     "name": "stderr",
     "output_type": "stream",
     "text": [
      "Epoch 37: 100%|██████████| 76/76 [00:07<00:00,  9.71it/s]\n"
     ]
    },
    {
     "name": "stdout",
     "output_type": "stream",
     "text": [
      "Training loss: 0.028847807846767336\n",
      "{'f1_sampled': 0.08157894736842104, 'f1_micro': 0.12403100775193798, 'f1_macro': 0.005879563774300617, 'f_05_sample': 0.09292763157894737, 'f_05_micro': 0.24242424242424243, 'f_05_macro': 0.007882882882882882, 'precision_sampled': 0.10526315789473684, 'precision_micro': 0.6666666666666666, 'precision_macro': 0.012548262548262547, 'recall_sampled': 0.07072368421052631, 'recall_micro': 0.06837606837606838, 'recall_macro': 0.00432022932022932, 'accuracy': 0.09868421052631579, 'coverage_error': np.float64(185.0), 'label_ranking_loss': np.float64(1.0), 'lrap': np.float64(0.011486486486486487)}\n",
      "--- Best Model. Val: 0.045704958171801674 -> 0.0930424351476983\n"
     ]
    },
    {
     "name": "stderr",
     "output_type": "stream",
     "text": [
      "Epoch 38:   0%|          | 0/76 [00:00<?, ?it/s]"
     ]
    },
    {
     "name": "stdout",
     "output_type": "stream",
     "text": [
      "-- Step: 0\n"
     ]
    },
    {
     "name": "stderr",
     "output_type": "stream",
     "text": [
      "Epoch 38:   4%|▍         | 3/76 [00:00<00:15,  4.60it/s]"
     ]
    },
    {
     "name": "stdout",
     "output_type": "stream",
     "text": [
      "{'f1_sampled': 0.08157894736842104, 'f1_micro': 0.12403100775193798, 'f1_macro': 0.005879563774300617, 'f_05_sample': 0.09292763157894737, 'f_05_micro': 0.24242424242424243, 'f_05_macro': 0.007882882882882882, 'precision_sampled': 0.10526315789473684, 'precision_micro': 0.6666666666666666, 'precision_macro': 0.012548262548262547, 'recall_sampled': 0.07072368421052631, 'recall_micro': 0.06837606837606838, 'recall_macro': 0.00432022932022932, 'accuracy': 0.09868421052631579, 'coverage_error': np.float64(185.0), 'label_ranking_loss': np.float64(1.0), 'lrap': np.float64(0.011486486486486487)}\n"
     ]
    },
    {
     "name": "stderr",
     "output_type": "stream",
     "text": [
      "Epoch 38: 100%|██████████| 76/76 [00:07<00:00,  9.75it/s]\n"
     ]
    },
    {
     "name": "stdout",
     "output_type": "stream",
     "text": [
      "Training loss: 0.028498826572965635\n",
      "{'f1_sampled': 0.09912280701754386, 'f1_micro': 0.1450381679389313, 'f1_macro': 0.006957590405866268, 'f_05_sample': 0.11156798245614037, 'f_05_micro': 0.2745664739884393, 'f_05_macro': 0.009064274358392004, 'precision_sampled': 0.125, 'precision_micro': 0.6785714285714286, 'precision_macro': 0.011597051597051598, 'recall_sampled': 0.08717105263157894, 'recall_micro': 0.0811965811965812, 'recall_macro': 0.005098280098280098, 'accuracy': 0.1118421052631579, 'coverage_error': np.float64(185.0), 'label_ranking_loss': np.float64(1.0), 'lrap': np.float64(0.011486486486486487)}\n",
      "--- Best Model. Val: 0.0930424351476983 -> 0.11211058319811636\n"
     ]
    },
    {
     "name": "stderr",
     "output_type": "stream",
     "text": [
      "Epoch 39:   0%|          | 0/76 [00:00<?, ?it/s]"
     ]
    },
    {
     "name": "stdout",
     "output_type": "stream",
     "text": [
      "-- Step: 0\n"
     ]
    },
    {
     "name": "stderr",
     "output_type": "stream",
     "text": [
      "Epoch 39:   4%|▍         | 3/76 [00:00<00:15,  4.57it/s]"
     ]
    },
    {
     "name": "stdout",
     "output_type": "stream",
     "text": [
      "{'f1_sampled': 0.11228070175438594, 'f1_micro': 0.1660377358490566, 'f1_macro': 0.007737237237237237, 'f_05_sample': 0.12801535087719298, 'f_05_micro': 0.30726256983240224, 'f_05_macro': 0.00966940886295725, 'precision_sampled': 0.14473684210526316, 'precision_micro': 0.7096774193548387, 'precision_macro': 0.011621621621621621, 'recall_sampled': 0.09703947368421052, 'recall_micro': 0.09401709401709402, 'recall_macro': 0.005814905814905816, 'accuracy': 0.1118421052631579, 'coverage_error': np.float64(185.0), 'label_ranking_loss': np.float64(0.9375), 'lrap': np.float64(0.07331081081081081)}\n"
     ]
    },
    {
     "name": "stderr",
     "output_type": "stream",
     "text": [
      "Epoch 39: 100%|██████████| 76/76 [00:07<00:00,  9.73it/s]\n"
     ]
    },
    {
     "name": "stdout",
     "output_type": "stream",
     "text": [
      "Training loss: 0.02783827013091037\n",
      "{'f1_sampled': 0.118859649122807, 'f1_micro': 0.16911764705882354, 'f1_macro': 0.007504187903461951, 'f_05_sample': 0.13459429824561406, 'f_05_micro': 0.2979274611398964, 'f_05_macro': 0.008844606638724285, 'precision_sampled': 0.1513157894736842, 'precision_micro': 0.6052631578947368, 'precision_macro': 0.01011151011151011, 'recall_sampled': 0.10361842105263158, 'recall_micro': 0.09829059829059829, 'recall_macro': 0.0060606060606060615, 'accuracy': 0.1118421052631579, 'coverage_error': np.float64(185.0), 'label_ranking_loss': np.float64(0.9375), 'lrap': np.float64(0.07331081081081081)}\n",
      "--- Best Model. Val: 0.11211058319811636 -> 0.1230603771438617\n"
     ]
    },
    {
     "name": "stderr",
     "output_type": "stream",
     "text": [
      "Epoch 40:   0%|          | 0/76 [00:00<?, ?it/s]"
     ]
    },
    {
     "name": "stdout",
     "output_type": "stream",
     "text": [
      "-- Step: 0\n"
     ]
    },
    {
     "name": "stderr",
     "output_type": "stream",
     "text": [
      "Epoch 40:   4%|▍         | 3/76 [00:00<00:16,  4.37it/s]"
     ]
    },
    {
     "name": "stdout",
     "output_type": "stream",
     "text": [
      "{'f1_sampled': 0.118859649122807, 'f1_micro': 0.16974169741697417, 'f1_macro': 0.007584070741965479, 'f_05_sample': 0.13459429824561406, 'f_05_micro': 0.3010471204188482, 'f_05_macro': 0.008993652743652743, 'precision_sampled': 0.1513157894736842, 'precision_micro': 0.6216216216216216, 'precision_macro': 0.01031941031941032, 'recall_sampled': 0.10361842105263158, 'recall_micro': 0.09829059829059829, 'recall_macro': 0.0060606060606060615, 'accuracy': 0.1118421052631579, 'coverage_error': np.float64(185.0), 'label_ranking_loss': np.float64(0.9375), 'lrap': np.float64(0.07331081081081081)}\n"
     ]
    },
    {
     "name": "stderr",
     "output_type": "stream",
     "text": [
      "Epoch 40: 100%|██████████| 76/76 [00:07<00:00,  9.65it/s]\n"
     ]
    },
    {
     "name": "stdout",
     "output_type": "stream",
     "text": [
      "Training loss: 0.027270666642212553\n",
      "{'f1_sampled': 0.12872807017543858, 'f1_micro': 0.18450184501845018, 'f1_macro': 0.00815169018666634, 'f_05_sample': 0.14587249373433586, 'f_05_micro': 0.32722513089005234, 'f_05_macro': 0.009625838244259296, 'precision_sampled': 0.16447368421052633, 'precision_micro': 0.6756756756756757, 'precision_macro': 0.010984060984060984, 'recall_sampled': 0.11239035087719297, 'recall_micro': 0.10683760683760683, 'recall_macro': 0.006531531531531531, 'accuracy': 0.11842105263157894, 'coverage_error': np.float64(185.0), 'label_ranking_loss': np.float64(0.9375), 'lrap': np.float64(0.07331081081081081)}\n",
      "--- Best Model. Val: 0.1230603771438617 -> 0.13449066390242861\n"
     ]
    },
    {
     "name": "stderr",
     "output_type": "stream",
     "text": [
      "Epoch 41:   0%|          | 0/76 [00:00<?, ?it/s]"
     ]
    },
    {
     "name": "stdout",
     "output_type": "stream",
     "text": [
      "-- Step: 0\n"
     ]
    },
    {
     "name": "stderr",
     "output_type": "stream",
     "text": [
      "Epoch 41:   4%|▍         | 3/76 [00:00<00:16,  4.40it/s]"
     ]
    },
    {
     "name": "stdout",
     "output_type": "stream",
     "text": [
      "{'f1_sampled': 0.12872807017543858, 'f1_micro': 0.18450184501845018, 'f1_macro': 0.00815169018666634, 'f_05_sample': 0.14587249373433586, 'f_05_micro': 0.32722513089005234, 'f_05_macro': 0.009625838244259296, 'precision_sampled': 0.16447368421052633, 'precision_micro': 0.6756756756756757, 'precision_macro': 0.010984060984060984, 'recall_sampled': 0.11239035087719297, 'recall_micro': 0.10683760683760683, 'recall_macro': 0.006531531531531531, 'accuracy': 0.11842105263157894, 'coverage_error': np.float64(185.0), 'label_ranking_loss': np.float64(0.9375), 'lrap': np.float64(0.07331081081081081)}\n"
     ]
    },
    {
     "name": "stderr",
     "output_type": "stream",
     "text": [
      "Epoch 41: 100%|██████████| 76/76 [00:07<00:00,  9.66it/s]\n"
     ]
    },
    {
     "name": "stdout",
     "output_type": "stream",
     "text": [
      "Training loss: 0.026761792404086965\n",
      "{'f1_sampled': 0.14188596491228067, 'f1_micro': 0.19148936170212766, 'f1_macro': 0.008070773476178883, 'f_05_sample': 0.15903038847117798, 'f_05_micro': 0.31690140845070425, 'f_05_macro': 0.00891012964183696, 'precision_sampled': 0.17763157894736842, 'precision_micro': 0.5625, 'precision_macro': 0.00958932958932959, 'recall_sampled': 0.12554824561403508, 'recall_micro': 0.11538461538461539, 'recall_macro': 0.007002457002457003, 'accuracy': 0.125, 'coverage_error': np.float64(185.0), 'label_ranking_loss': np.float64(0.9375), 'lrap': np.float64(0.07331081081081081)}\n"
     ]
    },
    {
     "name": "stderr",
     "output_type": "stream",
     "text": [
      "Epoch 42:   0%|          | 0/76 [00:00<?, ?it/s]"
     ]
    },
    {
     "name": "stdout",
     "output_type": "stream",
     "text": [
      "-- Step: 0\n"
     ]
    },
    {
     "name": "stderr",
     "output_type": "stream",
     "text": [
      "Epoch 42:   4%|▍         | 3/76 [00:00<00:18,  4.05it/s]"
     ]
    },
    {
     "name": "stdout",
     "output_type": "stream",
     "text": [
      "{'f1_sampled': 0.14188596491228067, 'f1_micro': 0.19217081850533807, 'f1_macro': 0.008119913525318932, 'f_05_sample': 0.15903038847117798, 'f_05_micro': 0.31990521327014215, 'f_05_macro': 0.008996754728462045, 'precision_sampled': 0.17763157894736842, 'precision_micro': 0.574468085106383, 'precision_macro': 0.009705159705159705, 'recall_sampled': 0.12554824561403508, 'recall_micro': 0.11538461538461539, 'recall_macro': 0.007002457002457003, 'accuracy': 0.125, 'coverage_error': np.float64(185.0), 'label_ranking_loss': np.float64(0.9375), 'lrap': np.float64(0.07331081081081081)}\n"
     ]
    },
    {
     "name": "stderr",
     "output_type": "stream",
     "text": [
      "Epoch 42: 100%|██████████| 76/76 [00:07<00:00,  9.56it/s]\n"
     ]
    },
    {
     "name": "stdout",
     "output_type": "stream",
     "text": [
      "Training loss: 0.026449063425197414\n",
      "{'f1_sampled': 0.1383145363408521, 'f1_micro': 0.2, 'f1_macro': 0.009897964891124947, 'f_05_sample': 0.1545073621553885, 'f_05_micro': 0.3349282296650718, 'f_05_macro': 0.012743292743292743, 'precision_sampled': 0.17105263157894737, 'precision_micro': 0.6086956521739131, 'precision_macro': 0.02086161349319244, 'recall_sampled': 0.12225877192982455, 'recall_micro': 0.11965811965811966, 'recall_macro': 0.007770270270270271, 'accuracy': 0.11842105263157894, 'coverage_error': np.float64(185.0), 'label_ranking_loss': np.float64(0.9375), 'lrap': np.float64(0.07331081081081081)}\n",
      "--- Best Model. Val: 0.13449066390242861 -> 0.14758847083726948\n"
     ]
    },
    {
     "name": "stderr",
     "output_type": "stream",
     "text": [
      "Epoch 43:   0%|          | 0/76 [00:00<?, ?it/s]"
     ]
    },
    {
     "name": "stdout",
     "output_type": "stream",
     "text": [
      "-- Step: 0\n"
     ]
    },
    {
     "name": "stderr",
     "output_type": "stream",
     "text": [
      "Epoch 43:   4%|▍         | 3/76 [00:00<00:17,  4.17it/s]"
     ]
    },
    {
     "name": "stdout",
     "output_type": "stream",
     "text": [
      "{'f1_sampled': 0.1383145363408521, 'f1_micro': 0.19858156028368795, 'f1_macro': 0.009797399209163915, 'f_05_sample': 0.1545073621553885, 'f_05_micro': 0.3286384976525822, 'f_05_macro': 0.012563112563112565, 'precision_sampled': 0.17105263157894737, 'precision_micro': 0.5833333333333334, 'precision_macro': 0.020617760617760616, 'recall_sampled': 0.12225877192982455, 'recall_micro': 0.11965811965811966, 'recall_macro': 0.007770270270270271, 'accuracy': 0.11842105263157894, 'coverage_error': np.float64(185.0), 'label_ranking_loss': np.float64(0.9375), 'lrap': np.float64(0.07331081081081081)}\n"
     ]
    },
    {
     "name": "stderr",
     "output_type": "stream",
     "text": [
      "Epoch 43: 100%|██████████| 76/76 [00:07<00:00,  9.63it/s]\n"
     ]
    },
    {
     "name": "stdout",
     "output_type": "stream",
     "text": [
      "Training loss: 0.026112758505501245\n",
      "{'f1_sampled': 0.15241228070175436, 'f1_micro': 0.20833333333333334, 'f1_macro': 0.00984984984984985, 'f_05_sample': 0.1680764411027569, 'f_05_micro': 0.3333333333333333, 'f_05_macro': 0.012258173827322761, 'precision_sampled': 0.18421052631578946, 'precision_micro': 0.5555555555555556, 'precision_macro': 0.018714168714168714, 'recall_sampled': 0.1370614035087719, 'recall_micro': 0.1282051282051282, 'recall_macro': 0.008062340415281592, 'accuracy': 0.13157894736842105, 'coverage_error': np.float64(185.0), 'label_ranking_loss': np.float64(0.9375), 'lrap': np.float64(0.07331081081081081)}\n",
      "--- Best Model. Val: 0.14758847083726948 -> 0.1537511870845204\n"
     ]
    },
    {
     "name": "stderr",
     "output_type": "stream",
     "text": [
      "Epoch 44:   0%|          | 0/76 [00:00<?, ?it/s]"
     ]
    },
    {
     "name": "stdout",
     "output_type": "stream",
     "text": [
      "-- Step: 0\n"
     ]
    },
    {
     "name": "stderr",
     "output_type": "stream",
     "text": [
      "Epoch 44:   4%|▍         | 3/76 [00:00<00:15,  4.61it/s]"
     ]
    },
    {
     "name": "stdout",
     "output_type": "stream",
     "text": [
      "{'f1_sampled': 0.15241228070175436, 'f1_micro': 0.20833333333333334, 'f1_macro': 0.00981027539167074, 'f_05_sample': 0.1680764411027569, 'f_05_micro': 0.3333333333333333, 'f_05_macro': 0.012231897551046488, 'precision_sampled': 0.18421052631578946, 'precision_micro': 0.5555555555555556, 'precision_macro': 0.019022371653950598, 'recall_sampled': 0.1370614035087719, 'recall_micro': 0.1282051282051282, 'recall_macro': 0.008062340415281592, 'accuracy': 0.13157894736842105, 'coverage_error': np.float64(185.0), 'label_ranking_loss': np.float64(0.9375), 'lrap': np.float64(0.07331081081081081)}\n"
     ]
    },
    {
     "name": "stderr",
     "output_type": "stream",
     "text": [
      "Epoch 44: 100%|██████████| 76/76 [00:07<00:00,  9.73it/s]\n"
     ]
    },
    {
     "name": "stdout",
     "output_type": "stream",
     "text": [
      "Training loss: 0.025874977269651073\n",
      "{'f1_sampled': 0.15366541353383456, 'f1_micro': 0.21754385964912282, 'f1_macro': 0.010678280090044796, 'f_05_sample': 0.16876174812030076, 'f_05_micro': 0.3538812785388128, 'f_05_macro': 0.014046569365718301, 'precision_sampled': 0.18421052631578946, 'precision_micro': 0.6078431372549019, 'precision_macro': 0.02511056511056511, 'recall_sampled': 0.1387061403508772, 'recall_micro': 0.13247863247863248, 'recall_macro': 0.00840017825311943, 'accuracy': 0.13815789473684212, 'coverage_error': np.float64(185.0), 'label_ranking_loss': np.float64(0.9375), 'lrap': np.float64(0.07331081081081081)}\n",
      "--- Best Model. Val: 0.1537511870845204 -> 0.16544799817801326\n"
     ]
    },
    {
     "name": "stderr",
     "output_type": "stream",
     "text": [
      "Epoch 45:   0%|          | 0/76 [00:00<?, ?it/s]"
     ]
    },
    {
     "name": "stdout",
     "output_type": "stream",
     "text": [
      "-- Step: 0\n"
     ]
    },
    {
     "name": "stderr",
     "output_type": "stream",
     "text": [
      "Epoch 45:   4%|▍         | 3/76 [00:00<00:17,  4.15it/s]"
     ]
    },
    {
     "name": "stdout",
     "output_type": "stream",
     "text": [
      "{'f1_sampled': 0.15366541353383456, 'f1_micro': 0.21754385964912282, 'f1_macro': 0.010678280090044796, 'f_05_sample': 0.16876174812030076, 'f_05_micro': 0.3538812785388128, 'f_05_macro': 0.014046569365718301, 'precision_sampled': 0.18421052631578946, 'precision_micro': 0.6078431372549019, 'precision_macro': 0.02511056511056511, 'recall_sampled': 0.1387061403508772, 'recall_micro': 0.13247863247863248, 'recall_macro': 0.00840017825311943, 'accuracy': 0.13815789473684212, 'coverage_error': np.float64(185.0), 'label_ranking_loss': np.float64(0.9375), 'lrap': np.float64(0.07331081081081081)}\n"
     ]
    },
    {
     "name": "stderr",
     "output_type": "stream",
     "text": [
      "Epoch 45: 100%|██████████| 76/76 [00:07<00:00,  9.58it/s]\n"
     ]
    },
    {
     "name": "stdout",
     "output_type": "stream",
     "text": [
      "Training loss: 0.025646707190102654\n",
      "{'f1_sampled': 0.15147243107769426, 'f1_micro': 0.21754385964912282, 'f1_macro': 0.01074086561493473, 'f_05_sample': 0.1676652568922306, 'f_05_micro': 0.3538812785388128, 'f_05_macro': 0.014369532576054314, 'precision_sampled': 0.18421052631578946, 'precision_micro': 0.6078431372549019, 'precision_macro': 0.02582330229389053, 'recall_sampled': 0.13541666666666666, 'recall_micro': 0.13247863247863248, 'recall_macro': 0.00833393553981789, 'accuracy': 0.13157894736842105, 'coverage_error': np.float64(185.0), 'label_ranking_loss': np.float64(0.9375), 'lrap': np.float64(0.07331081081081081)}\n",
      "--- Best Model. Val: 0.16544799817801326 -> 0.1692925287431916\n"
     ]
    },
    {
     "name": "stderr",
     "output_type": "stream",
     "text": [
      "Epoch 46:   0%|          | 0/76 [00:00<?, ?it/s]"
     ]
    },
    {
     "name": "stdout",
     "output_type": "stream",
     "text": [
      "-- Step: 0\n"
     ]
    },
    {
     "name": "stderr",
     "output_type": "stream",
     "text": [
      "Epoch 46:   4%|▍         | 3/76 [00:00<00:17,  4.18it/s]"
     ]
    },
    {
     "name": "stdout",
     "output_type": "stream",
     "text": [
      "{'f1_sampled': 0.15147243107769426, 'f1_micro': 0.21754385964912282, 'f1_macro': 0.01074086561493473, 'f_05_sample': 0.1676652568922306, 'f_05_micro': 0.3538812785388128, 'f_05_macro': 0.014369532576054314, 'precision_sampled': 0.18421052631578946, 'precision_micro': 0.6078431372549019, 'precision_macro': 0.02582330229389053, 'recall_sampled': 0.13541666666666666, 'recall_micro': 0.13247863247863248, 'recall_macro': 0.00833393553981789, 'accuracy': 0.13157894736842105, 'coverage_error': np.float64(185.0), 'label_ranking_loss': np.float64(0.9375), 'lrap': np.float64(0.07331081081081081)}\n"
     ]
    },
    {
     "name": "stderr",
     "output_type": "stream",
     "text": [
      "Epoch 46: 100%|██████████| 76/76 [00:07<00:00,  9.58it/s]\n"
     ]
    },
    {
     "name": "stdout",
     "output_type": "stream",
     "text": [
      "Training loss: 0.025382371055648514\n",
      "{'f1_sampled': 0.15147243107769426, 'f1_micro': 0.21830985915492956, 'f1_macro': 0.010905293090884253, 'f_05_sample': 0.1676652568922306, 'f_05_micro': 0.35714285714285715, 'f_05_macro': 0.014627096608803925, 'precision_sampled': 0.18421052631578946, 'precision_micro': 0.62, 'precision_macro': 0.025431145431145427, 'recall_sampled': 0.13541666666666666, 'recall_micro': 0.13247863247863248, 'recall_macro': 0.00833393553981789, 'accuracy': 0.13157894736842105, 'coverage_error': np.float64(185.0), 'label_ranking_loss': np.float64(0.9375), 'lrap': np.float64(0.07331081081081081)}\n",
      "--- Best Model. Val: 0.1692925287431916 -> 0.17200654765154247\n"
     ]
    },
    {
     "name": "stderr",
     "output_type": "stream",
     "text": [
      "Epoch 47:   0%|          | 0/76 [00:00<?, ?it/s]"
     ]
    },
    {
     "name": "stdout",
     "output_type": "stream",
     "text": [
      "-- Step: 0\n"
     ]
    },
    {
     "name": "stderr",
     "output_type": "stream",
     "text": [
      "Epoch 47:   4%|▍         | 3/76 [00:00<00:15,  4.63it/s]"
     ]
    },
    {
     "name": "stdout",
     "output_type": "stream",
     "text": [
      "{'f1_sampled': 0.15147243107769426, 'f1_micro': 0.21830985915492956, 'f1_macro': 0.010905293090884253, 'f_05_sample': 0.1676652568922306, 'f_05_micro': 0.35714285714285715, 'f_05_macro': 0.014627096608803925, 'precision_sampled': 0.18421052631578946, 'precision_micro': 0.62, 'precision_macro': 0.025431145431145427, 'recall_sampled': 0.13541666666666666, 'recall_micro': 0.13247863247863248, 'recall_macro': 0.00833393553981789, 'accuracy': 0.13157894736842105, 'coverage_error': np.float64(185.0), 'label_ranking_loss': np.float64(0.9375), 'lrap': np.float64(0.07331081081081081)}\n"
     ]
    },
    {
     "name": "stderr",
     "output_type": "stream",
     "text": [
      "Epoch 47: 100%|██████████| 76/76 [00:07<00:00,  9.69it/s]\n"
     ]
    },
    {
     "name": "stdout",
     "output_type": "stream",
     "text": [
      "Training loss: 0.02515627867787292\n",
      "{'f1_sampled': 0.14583333333333331, 'f1_micro': 0.20714285714285716, 'f1_macro': 0.010176215638520048, 'f_05_sample': 0.16149749373433586, 'f_05_micro': 0.34688995215311, 'f_05_macro': 0.01343210866565743, 'precision_sampled': 0.17763157894736842, 'precision_micro': 0.6304347826086957, 'precision_macro': 0.021176121176121176, 'recall_sampled': 0.13048245614035087, 'recall_micro': 0.12393162393162394, 'recall_macro': 0.007750397456279809, 'accuracy': 0.13157894736842105, 'coverage_error': np.float64(185.0), 'label_ranking_loss': np.float64(0.9375), 'lrap': np.float64(0.07331081081081081)}\n"
     ]
    },
    {
     "name": "stderr",
     "output_type": "stream",
     "text": [
      "Epoch 48:   0%|          | 0/76 [00:00<?, ?it/s]"
     ]
    },
    {
     "name": "stdout",
     "output_type": "stream",
     "text": [
      "-- Step: 0\n"
     ]
    },
    {
     "name": "stderr",
     "output_type": "stream",
     "text": [
      "Epoch 48:   4%|▍         | 3/76 [00:00<00:16,  4.38it/s]"
     ]
    },
    {
     "name": "stdout",
     "output_type": "stream",
     "text": [
      "{'f1_sampled': 0.14583333333333331, 'f1_micro': 0.20714285714285716, 'f1_macro': 0.010176215638520048, 'f_05_sample': 0.16149749373433586, 'f_05_micro': 0.34688995215311, 'f_05_macro': 0.01343210866565743, 'precision_sampled': 0.17763157894736842, 'precision_micro': 0.6304347826086957, 'precision_macro': 0.021176121176121176, 'recall_sampled': 0.13048245614035087, 'recall_micro': 0.12393162393162394, 'recall_macro': 0.007750397456279809, 'accuracy': 0.13157894736842105, 'coverage_error': np.float64(185.0), 'label_ranking_loss': np.float64(0.9375), 'lrap': np.float64(0.07331081081081081)}\n"
     ]
    },
    {
     "name": "stderr",
     "output_type": "stream",
     "text": [
      "Epoch 48: 100%|██████████| 76/76 [00:07<00:00,  9.78it/s]\n"
     ]
    },
    {
     "name": "stdout",
     "output_type": "stream",
     "text": [
      "Training loss: 0.025041664166277962\n",
      "{'f1_sampled': 0.1611842105263158, 'f1_micro': 0.22535211267605634, 'f1_macro': 0.01158466455763753, 'f_05_sample': 0.1772138680033417, 'f_05_micro': 0.3686635944700461, 'f_05_macro': 0.015641804580033634, 'precision_sampled': 0.19407894736842105, 'precision_micro': 0.64, 'precision_macro': 0.026486486486486483, 'recall_sampled': 0.1469298245614035, 'recall_micro': 0.13675213675213677, 'recall_macro': 0.008821923527805881, 'accuracy': 0.13815789473684212, 'coverage_error': np.float64(185.0), 'label_ranking_loss': np.float64(0.9375), 'lrap': np.float64(0.07331081081081081)}\n",
      "--- Best Model. Val: 0.17200654765154247 -> 0.17622037365627108\n"
     ]
    },
    {
     "name": "stderr",
     "output_type": "stream",
     "text": [
      "Epoch 49:   0%|          | 0/76 [00:00<?, ?it/s]"
     ]
    },
    {
     "name": "stdout",
     "output_type": "stream",
     "text": [
      "-- Step: 0\n"
     ]
    },
    {
     "name": "stderr",
     "output_type": "stream",
     "text": [
      "Epoch 49:   4%|▍         | 3/76 [00:00<00:15,  4.81it/s]"
     ]
    },
    {
     "name": "stdout",
     "output_type": "stream",
     "text": [
      "{'f1_sampled': 0.1611842105263158, 'f1_micro': 0.22535211267605634, 'f1_macro': 0.01158466455763753, 'f_05_sample': 0.1772138680033417, 'f_05_micro': 0.3686635944700461, 'f_05_macro': 0.015641804580033634, 'precision_sampled': 0.19407894736842105, 'precision_micro': 0.64, 'precision_macro': 0.026486486486486483, 'recall_sampled': 0.1469298245614035, 'recall_micro': 0.13675213675213677, 'recall_macro': 0.008821923527805881, 'accuracy': 0.13815789473684212, 'coverage_error': np.float64(185.0), 'label_ranking_loss': np.float64(0.9375), 'lrap': np.float64(0.07331081081081081)}\n"
     ]
    },
    {
     "name": "stderr",
     "output_type": "stream",
     "text": [
      "Epoch 49: 100%|██████████| 76/76 [00:07<00:00,  9.91it/s]\n"
     ]
    },
    {
     "name": "stdout",
     "output_type": "stream",
     "text": [
      "Training loss: 0.024940633165993188\n",
      "{'f1_sampled': 0.16463032581453635, 'f1_micro': 0.22996515679442509, 'f1_macro': 0.01216672013285316, 'f_05_sample': 0.1808231516290727, 'f_05_micro': 0.36995515695067266, 'f_05_macro': 0.016891804580033636, 'precision_sampled': 0.19736842105263158, 'precision_micro': 0.6226415094339622, 'precision_macro': 0.031749644381223324, 'recall_sampled': 0.14857456140350878, 'recall_micro': 0.14102564102564102, 'recall_macro': 0.009159761365643719, 'accuracy': 0.13815789473684212, 'coverage_error': np.float64(185.0), 'label_ranking_loss': np.float64(0.9375), 'lrap': np.float64(0.07331081081081081)}\n",
      "--- Best Model. Val: 0.17622037365627108 -> 0.182115305364104\n"
     ]
    }
   ],
   "source": [
    "best_model_ta, best_val_weighted_f1_score_ta = run()"
   ]
  },
  {
   "cell_type": "code",
   "execution_count": 89,
   "id": "e146a70a",
   "metadata": {},
   "outputs": [],
   "source": [
    "def test(model, val_dataloader, criterion, is_final_test=False):\n",
    "    global device\n",
    "\n",
    "    val_loss = 0\n",
    "    true, pred = [], []\n",
    "\n",
    "    model.eval()\n",
    "\n",
    "    results = {}\n",
    "\n",
    "    for step, batch in enumerate(val_dataloader):\n",
    "        b_input_ids = batch['input_ids'].to(device)\n",
    "        b_attention_mask = batch['attention_mask'].to(device)\n",
    "        b_labels = batch['labels'].to(device)\n",
    "\n",
    "        with torch.no_grad():\n",
    "            logits = model(input_ids=b_input_ids, attention_mask=b_attention_mask)\n",
    "\n",
    "            loss = criterion(logits, b_labels)\n",
    "            val_loss += loss.item()\n",
    "\n",
    "            logits = torch.sigmoid(logits)\n",
    "            logits = np.round(logits.cpu().numpy())\n",
    "            labels = b_labels.cpu().numpy()\n",
    "\n",
    "            pred.extend(logits)\n",
    "            true.extend(labels)\n",
    "\n",
    "    # avg_val_loss = val_loss / len(val_dataloader)\n",
    "    # print('Val loss:', avg_val_loss)\n",
    "    # print('Val accuracy:', accuracy_score(true, pred))\n",
    "\n",
    "    # print('Val precision:', precision_score(true, pred, average='weighted'))\n",
    "    # print('Val recall:', recall_score(true, pred, average='weighted'))\n",
    "\n",
    "    # val_micro_f1_score = f1_score(true, pred, average='micro')\n",
    "    # print('Val micro f1 score:', val_micro_f1_score)\n",
    "\n",
    "    # val_macro_f1_score = f1_score(true, pred, average='macro')\n",
    "    # print('Val macro f1 score:', val_macro_f1_score)\n",
    "\n",
    "    val_weighted_f1_score = f1_score(true, pred, average='weighted')\n",
    "    # print('Val weighted f1 score:', val_weighted_f1_score)\n",
    "\n",
    "    results.update({\n",
    "        \"f1_sampled\": f1_score(true, pred, average='samples', zero_division=0),\n",
    "        \"f1_micro\": f1_score(true, pred, average='micro', zero_division=0),\n",
    "        \"f1_macro\": f1_score(true, pred, average='macro', zero_division=0),\n",
    "        \"f_05_sample\": fbeta_score(true, pred, average='samples', beta=0.5, zero_division=0),\n",
    "        \"f_05_micro\": fbeta_score(true, pred, average='micro', beta=0.5, zero_division=0),\n",
    "        \"f_05_macro\": fbeta_score(true, pred, average='macro', beta=0.5, zero_division=0),\n",
    "        \"precision_sampled\": precision_score(true, pred, average='samples', zero_division=0),\n",
    "        \"precision_micro\": precision_score(true, pred, average='micro', zero_division=0),\n",
    "        \"precision_macro\": precision_score(true, pred, average='macro', zero_division=0),\n",
    "        \"recall_sampled\": recall_score(true, pred, average='samples', zero_division=0),\n",
    "        \"recall_micro\": recall_score(true, pred, average='micro', zero_division=0),\n",
    "        \"recall_macro\": recall_score(true, pred, average='macro', zero_division=0),\n",
    "        \"accuracy\": accuracy_score(true, pred),\n",
    "        })\n",
    "\n",
    "    labels_float = labels.astype(float)\n",
    "    results.update({\n",
    "        \"coverage_error\": coverage_error(labels_float, logits),\n",
    "        \"label_ranking_loss\": label_ranking_loss(labels_float, logits),\n",
    "        \"lrap\": label_ranking_average_precision_score(labels_float, logits),\n",
    "    })\n",
    "\n",
    "    metrics_log.append(results.copy())\n",
    "\n",
    "    print(results)\n",
    "\n",
    "    return results, true, pred\n"
   ]
  },
  {
   "cell_type": "code",
   "execution_count": 90,
   "id": "9109c233",
   "metadata": {},
   "outputs": [
    {
     "name": "stdout",
     "output_type": "stream",
     "text": [
      "{'f1_sampled': 0.125, 'f1_micro': 0.1935483870967742, 'f1_macro': 0.008684622877000373, 'f_05_sample': 0.14849624060150377, 'f_05_micro': 0.32142857142857145, 'f_05_macro': 0.011876761660336382, 'precision_sampled': 0.17434210526315788, 'precision_micro': 0.574468085106383, 'precision_macro': 0.016146601146601148, 'recall_sampled': 0.10307017543859649, 'recall_micro': 0.11637931034482758, 'recall_macro': 0.006110205421638416, 'accuracy': 0.08552631578947369, 'coverage_error': np.float64(185.0), 'label_ranking_loss': np.float64(1.0), 'lrap': np.float64(0.008108108108108109)}\n"
     ]
    }
   ],
   "source": [
    "criterion = nn.BCEWithLogitsLoss()\n",
    "results, true, pred = test(best_model_ta, test_dataloader, criterion, is_final_test=True)"
   ]
  },
  {
   "cell_type": "code",
   "execution_count": 41,
   "id": "4138f077",
   "metadata": {},
   "outputs": [
    {
     "name": "stdout",
     "output_type": "stream",
     "text": [
      "f1_sampled: 0.1250\n",
      "f1_micro: 0.1935\n",
      "f1_macro: 0.0087\n",
      "f_05_sample: 0.1485\n",
      "f_05_micro: 0.3214\n",
      "f_05_macro: 0.0119\n",
      "precision_sampled: 0.1743\n",
      "precision_micro: 0.5745\n",
      "precision_macro: 0.0161\n",
      "recall_sampled: 0.1031\n",
      "recall_micro: 0.1164\n",
      "recall_macro: 0.0061\n",
      "accuracy: 0.0855\n",
      "coverage_error: 185.0000\n",
      "label_ranking_loss: 1.0000\n",
      "lrap: 0.0081\n"
     ]
    }
   ],
   "source": [
    "for k, v in results.items(): \n",
    "    print(f\"{k}: {v:.4f}\")"
   ]
  },
  {
   "cell_type": "markdown",
   "id": "5be5419c",
   "metadata": {},
   "source": [
    "# Metrics log"
   ]
  },
  {
   "cell_type": "code",
   "execution_count": 42,
   "id": "f260906d",
   "metadata": {},
   "outputs": [],
   "source": [
    "metrics_data = {\n",
    "    'f1_sampled': [],\n",
    "    'f1_micro': [],\n",
    "    'f1_macro': [],\n",
    "    'f_05_sample': [],\n",
    "    'f_05_micro': [],\n",
    "    'f_05_macro': [],\n",
    "    'precision_sampled': [],\n",
    "    'precision_micro': [],\n",
    "    'precision_macro': [],\n",
    "    'recall_sampled': [],\n",
    "    'recall_micro': [],\n",
    "    'recall_macro': [],\n",
    "    'accuracy': [],\n",
    "    'coverage_error': [],\n",
    "    'label_ranking_loss': [],\n",
    "    'lrap': []\n",
    "}\n",
    "\n",
    "# 遍歷你的日誌數據，提取數值\n",
    "for log_entry in metrics_log:\n",
    "    for metric_name, value in log_entry.items():\n",
    "        metrics_data[metric_name].append(float(value)) # 確保轉換為 float"
   ]
  },
  {
   "cell_type": "code",
   "execution_count": 43,
   "id": "c8d0eb89",
   "metadata": {},
   "outputs": [
    {
     "name": "stdout",
     "output_type": "stream",
     "text": [
      "{'f1_sampled': [0.018435721784429676, 0.0, 0.0, 0.0, 0.0, 0.0, 0.0, 0.0, 0.0, 0.0, 0.0, 0.0, 0.0, 0.0, 0.0, 0.0, 0.0, 0.0, 0.0, 0.0, 0.0, 0.0, 0.0, 0.0, 0.0, 0.0, 0.0, 0.0, 0.0, 0.0, 0.0, 0.0, 0.0, 0.0, 0.0, 0.0, 0.0, 0.0, 0.0, 0.0, 0.0, 0.0, 0.0, 0.0, 0.0, 0.0, 0.0, 0.0, 0.0, 0.0, 0.0, 0.0, 0.0, 0.0, 0.0, 0.0, 0.0, 0.0, 0.0, 0.0, 0.0, 0.0, 0.0043859649122807015, 0.015350877192982454, 0.021929824561403508, 0.03289473684210526, 0.03289473684210526, 0.035087719298245605, 0.035087719298245605, 0.017543859649122806, 0.017543859649122806, 0.03508771929824561, 0.03508771929824561, 0.039473684210526314, 0.039473684210526314, 0.08157894736842104, 0.08157894736842104, 0.09912280701754386, 0.11228070175438594, 0.118859649122807, 0.118859649122807, 0.12872807017543858, 0.12872807017543858, 0.14188596491228067, 0.14188596491228067, 0.1383145363408521, 0.1383145363408521, 0.15241228070175436, 0.15241228070175436, 0.15366541353383456, 0.15366541353383456, 0.15147243107769426, 0.15147243107769426, 0.15147243107769426, 0.15147243107769426, 0.14583333333333331, 0.14583333333333331, 0.1611842105263158, 0.1611842105263158, 0.16463032581453635, 0.125], 'f1_micro': [0.01873577306951497, 0.0, 0.0, 0.0, 0.0, 0.0, 0.0, 0.0, 0.0, 0.0, 0.0, 0.0, 0.0, 0.0, 0.0, 0.0, 0.0, 0.0, 0.0, 0.0, 0.0, 0.0, 0.0, 0.0, 0.0, 0.0, 0.0, 0.0, 0.0, 0.0, 0.0, 0.0, 0.0, 0.0, 0.0, 0.0, 0.0, 0.0, 0.0, 0.0, 0.0, 0.0, 0.0, 0.0, 0.0, 0.0, 0.0, 0.0, 0.0, 0.0, 0.0, 0.0, 0.0, 0.0, 0.0, 0.0, 0.0, 0.0, 0.0, 0.0, 0.0, 0.0, 0.008438818565400843, 0.02510460251046025, 0.03333333333333333, 0.05622489959839357, 0.05622489959839357, 0.056, 0.055776892430278883, 0.03305785123966942, 0.03292181069958848, 0.05737704918032787, 0.05714285714285714, 0.0642570281124498, 0.064, 0.12403100775193798, 0.12403100775193798, 0.1450381679389313, 0.1660377358490566, 0.16911764705882354, 0.16974169741697417, 0.18450184501845018, 0.18450184501845018, 0.19148936170212766, 0.19217081850533807, 0.2, 0.19858156028368795, 0.20833333333333334, 0.20833333333333334, 0.21754385964912282, 0.21754385964912282, 0.21754385964912282, 0.21754385964912282, 0.21830985915492956, 0.21830985915492956, 0.20714285714285716, 0.20714285714285716, 0.22535211267605634, 0.22535211267605634, 0.22996515679442509, 0.1935483870967742], 'f1_macro': [0.011367097965311256, 0.0, 0.0, 0.0, 0.0, 0.0, 0.0, 0.0, 0.0, 0.0, 0.0, 0.0, 0.0, 0.0, 0.0, 0.0, 0.0, 0.0, 0.0, 0.0, 0.0, 0.0, 0.0, 0.0, 0.0, 0.0, 0.0, 0.0, 0.0, 0.0, 0.0, 0.0, 0.0, 0.0, 0.0, 0.0, 0.0, 0.0, 0.0, 0.0, 0.0, 0.0, 0.0, 0.0, 0.0, 0.0, 0.0, 0.0, 0.0, 0.0, 0.0, 0.0, 0.0, 0.0, 0.0, 0.0, 0.0, 0.0, 0.0, 0.0, 0.0, 0.0, 0.0005689900426742531, 0.0015444015444015444, 0.0019656019656019656, 0.0024411508282476025, 0.0024411508282476025, 0.002364864864864865, 0.0022932022932022934, 0.0018018018018018016, 0.0017297297297297297, 0.0030270270270270267, 0.002927234927234927, 0.0032403756541687576, 0.0031479755617686653, 0.005879563774300617, 0.005879563774300617, 0.006957590405866268, 0.007737237237237237, 0.007504187903461951, 0.007584070741965479, 0.00815169018666634, 0.00815169018666634, 0.008070773476178883, 0.008119913525318932, 0.009897964891124947, 0.009797399209163915, 0.00984984984984985, 0.00981027539167074, 0.010678280090044796, 0.010678280090044796, 0.01074086561493473, 0.01074086561493473, 0.010905293090884253, 0.010905293090884253, 0.010176215638520048, 0.010176215638520048, 0.01158466455763753, 0.01158466455763753, 0.01216672013285316, 0.008684622877000373], 'f_05_sample': [0.011757944995078514, 0.0, 0.0, 0.0, 0.0, 0.0, 0.0, 0.0, 0.0, 0.0, 0.0, 0.0, 0.0, 0.0, 0.0, 0.0, 0.0, 0.0, 0.0, 0.0, 0.0, 0.0, 0.0, 0.0, 0.0, 0.0, 0.0, 0.0, 0.0, 0.0, 0.0, 0.0, 0.0, 0.0, 0.0, 0.0, 0.0, 0.0, 0.0, 0.0, 0.0, 0.0, 0.0, 0.0, 0.0, 0.0, 0.0, 0.0, 0.0, 0.0, 0.0, 0.0, 0.0, 0.0, 0.0, 0.0, 0.0, 0.0, 0.0, 0.0, 0.0, 0.0, 0.005482456140350878, 0.01754385964912281, 0.024122807017543862, 0.039473684210526314, 0.039473684210526314, 0.0405701754385965, 0.0405701754385965, 0.02192982456140351, 0.02192982456140351, 0.040570175438596486, 0.040570175438596486, 0.046052631578947366, 0.046052631578947366, 0.09292763157894737, 0.09292763157894737, 0.11156798245614037, 0.12801535087719298, 0.13459429824561406, 0.13459429824561406, 0.14587249373433586, 0.14587249373433586, 0.15903038847117798, 0.15903038847117798, 0.1545073621553885, 0.1545073621553885, 0.1680764411027569, 0.1680764411027569, 0.16876174812030076, 0.16876174812030076, 0.1676652568922306, 0.1676652568922306, 0.1676652568922306, 0.1676652568922306, 0.16149749373433586, 0.16149749373433586, 0.1772138680033417, 0.1772138680033417, 0.1808231516290727, 0.14849624060150377], 'f_05_micro': [0.011892588805406126, 0.0, 0.0, 0.0, 0.0, 0.0, 0.0, 0.0, 0.0, 0.0, 0.0, 0.0, 0.0, 0.0, 0.0, 0.0, 0.0, 0.0, 0.0, 0.0, 0.0, 0.0, 0.0, 0.0, 0.0, 0.0, 0.0, 0.0, 0.0, 0.0, 0.0, 0.0, 0.0, 0.0, 0.0, 0.0, 0.0, 0.0, 0.0, 0.0, 0.0, 0.0, 0.0, 0.0, 0.0, 0.0, 0.0, 0.0, 0.0, 0.0, 0.0, 0.0, 0.0, 0.0, 0.0, 0.0, 0.0, 0.0, 0.0, 0.0, 0.0, 0.0, 0.02032520325203252, 0.05905511811023622, 0.07751937984496124, 0.11904761904761904, 0.11904761904761904, 0.1174496644295302, 0.11589403973509933, 0.07518796992481203, 0.07407407407407407, 0.12773722627737227, 0.12589928057553956, 0.1360544217687075, 0.1342281879194631, 0.24242424242424243, 0.24242424242424243, 0.2745664739884393, 0.30726256983240224, 0.2979274611398964, 0.3010471204188482, 0.32722513089005234, 0.32722513089005234, 0.31690140845070425, 0.31990521327014215, 0.3349282296650718, 0.3286384976525822, 0.3333333333333333, 0.3333333333333333, 0.3538812785388128, 0.3538812785388128, 0.3538812785388128, 0.3538812785388128, 0.35714285714285715, 0.35714285714285715, 0.34688995215311, 0.34688995215311, 0.3686635944700461, 0.3686635944700461, 0.36995515695067266, 0.32142857142857145], 'f_05_macro': [0.008397597468596018, 0.0, 0.0, 0.0, 0.0, 0.0, 0.0, 0.0, 0.0, 0.0, 0.0, 0.0, 0.0, 0.0, 0.0, 0.0, 0.0, 0.0, 0.0, 0.0, 0.0, 0.0, 0.0, 0.0, 0.0, 0.0, 0.0, 0.0, 0.0, 0.0, 0.0, 0.0, 0.0, 0.0, 0.0, 0.0, 0.0, 0.0, 0.0, 0.0, 0.0, 0.0, 0.0, 0.0, 0.0, 0.0, 0.0, 0.0, 0.0, 0.0, 0.0, 0.0, 0.0, 0.0, 0.0, 0.0, 0.0, 0.0, 0.0, 0.0, 0.0, 0.0, 0.0009652509652509653, 0.0022522522522522522, 0.002702702702702703, 0.0024893314366998577, 0.0024893314366998577, 0.002364864864864865, 0.0022522522522522522, 0.0022522522522522522, 0.002079002079002079, 0.004083754083754084, 0.003861003861003861, 0.004124254124254124, 0.003931203931203931, 0.007882882882882882, 0.007882882882882882, 0.009064274358392004, 0.00966940886295725, 0.008844606638724285, 0.008993652743652743, 0.009625838244259296, 0.009625838244259296, 0.00891012964183696, 0.008996754728462045, 0.012743292743292743, 0.012563112563112565, 0.012258173827322761, 0.012231897551046488, 0.014046569365718301, 0.014046569365718301, 0.014369532576054314, 0.014369532576054314, 0.014627096608803925, 0.014627096608803925, 0.01343210866565743, 0.01343210866565743, 0.015641804580033634, 0.015641804580033634, 0.016891804580033636, 0.011876761660336382], 'precision_sampled': [0.009471350922537558, 0.0, 0.0, 0.0, 0.0, 0.0, 0.0, 0.0, 0.0, 0.0, 0.0, 0.0, 0.0, 0.0, 0.0, 0.0, 0.0, 0.0, 0.0, 0.0, 0.0, 0.0, 0.0, 0.0, 0.0, 0.0, 0.0, 0.0, 0.0, 0.0, 0.0, 0.0, 0.0, 0.0, 0.0, 0.0, 0.0, 0.0, 0.0, 0.0, 0.0, 0.0, 0.0, 0.0, 0.0, 0.0, 0.0, 0.0, 0.0, 0.0, 0.0, 0.0, 0.0, 0.0, 0.0, 0.0, 0.0, 0.0, 0.0, 0.0, 0.0, 0.0, 0.006578947368421052, 0.019736842105263157, 0.02631578947368421, 0.046052631578947366, 0.046052631578947366, 0.046052631578947366, 0.046052631578947366, 0.02631578947368421, 0.02631578947368421, 0.046052631578947366, 0.046052631578947366, 0.05263157894736842, 0.05263157894736842, 0.10526315789473684, 0.10526315789473684, 0.125, 0.14473684210526316, 0.1513157894736842, 0.1513157894736842, 0.16447368421052633, 0.16447368421052633, 0.17763157894736842, 0.17763157894736842, 0.17105263157894737, 0.17105263157894737, 0.18421052631578946, 0.18421052631578946, 0.18421052631578946, 0.18421052631578946, 0.18421052631578946, 0.18421052631578946, 0.18421052631578946, 0.18421052631578946, 0.17763157894736842, 0.17763157894736842, 0.19407894736842105, 0.19407894736842105, 0.19736842105263158, 0.17434210526315788], 'precision_micro': [0.00956381837683232, 0.0, 0.0, 0.0, 0.0, 0.0, 0.0, 0.0, 0.0, 0.0, 0.0, 0.0, 0.0, 0.0, 0.0, 0.0, 0.0, 0.0, 0.0, 0.0, 0.0, 0.0, 0.0, 0.0, 0.0, 0.0, 0.0, 0.0, 0.0, 0.0, 0.0, 0.0, 0.0, 0.0, 0.0, 0.0, 0.0, 0.0, 0.0, 0.0, 0.0, 0.0, 0.0, 0.0, 0.0, 0.0, 0.0, 0.0, 0.0, 0.0, 0.0, 0.0, 0.0, 0.0, 0.0, 0.0, 0.0, 0.0, 0.0, 0.0, 0.0, 0.0, 0.3333333333333333, 0.6, 0.6666666666666666, 0.4666666666666667, 0.4666666666666667, 0.4375, 0.4117647058823529, 0.5, 0.4444444444444444, 0.7, 0.6363636363636364, 0.5333333333333333, 0.5, 0.6666666666666666, 0.6666666666666666, 0.6785714285714286, 0.7096774193548387, 0.6052631578947368, 0.6216216216216216, 0.6756756756756757, 0.6756756756756757, 0.5625, 0.574468085106383, 0.6086956521739131, 0.5833333333333334, 0.5555555555555556, 0.5555555555555556, 0.6078431372549019, 0.6078431372549019, 0.6078431372549019, 0.6078431372549019, 0.62, 0.62, 0.6304347826086957, 0.6304347826086957, 0.64, 0.64, 0.6226415094339622, 0.574468085106383], 'precision_macro': [0.007222738206039364, 0.0, 0.0, 0.0, 0.0, 0.0, 0.0, 0.0, 0.0, 0.0, 0.0, 0.0, 0.0, 0.0, 0.0, 0.0, 0.0, 0.0, 0.0, 0.0, 0.0, 0.0, 0.0, 0.0, 0.0, 0.0, 0.0, 0.0, 0.0, 0.0, 0.0, 0.0, 0.0, 0.0, 0.0, 0.0, 0.0, 0.0, 0.0, 0.0, 0.0, 0.0, 0.0, 0.0, 0.0, 0.0, 0.0, 0.0, 0.0, 0.0, 0.0, 0.0, 0.0, 0.0, 0.0, 0.0, 0.0, 0.0, 0.0, 0.0, 0.0, 0.0, 0.0018018018018018016, 0.003243243243243243, 0.0036036036036036032, 0.0025225225225225228, 0.0025225225225225228, 0.002364864864864865, 0.0022257551669316376, 0.002702702702702703, 0.0024024024024024023, 0.009009009009009009, 0.008648648648648649, 0.005405405405405406, 0.00511056511056511, 0.012548262548262547, 0.012548262548262547, 0.011597051597051598, 0.011621621621621621, 0.01011151011151011, 0.01031941031941032, 0.010984060984060984, 0.010984060984060984, 0.00958932958932959, 0.009705159705159705, 0.02086161349319244, 0.020617760617760616, 0.018714168714168714, 0.019022371653950598, 0.02511056511056511, 0.02511056511056511, 0.02582330229389053, 0.02582330229389053, 0.025431145431145427, 0.025431145431145427, 0.021176121176121176, 0.021176121176121176, 0.026486486486486483, 0.026486486486486483, 0.031749644381223324, 0.016146601146601148], 'recall_sampled': [0.4337719298245614, 0.0, 0.0, 0.0, 0.0, 0.0, 0.0, 0.0, 0.0, 0.0, 0.0, 0.0, 0.0, 0.0, 0.0, 0.0, 0.0, 0.0, 0.0, 0.0, 0.0, 0.0, 0.0, 0.0, 0.0, 0.0, 0.0, 0.0, 0.0, 0.0, 0.0, 0.0, 0.0, 0.0, 0.0, 0.0, 0.0, 0.0, 0.0, 0.0, 0.0, 0.0, 0.0, 0.0, 0.0, 0.0, 0.0, 0.0, 0.0, 0.0, 0.0, 0.0, 0.0, 0.0, 0.0, 0.0, 0.0, 0.0, 0.0, 0.0, 0.0, 0.0, 0.003289473684210526, 0.013157894736842105, 0.019736842105263157, 0.02631578947368421, 0.02631578947368421, 0.029605263157894735, 0.029605263157894735, 0.013157894736842105, 0.013157894736842105, 0.029605263157894735, 0.029605263157894735, 0.03289473684210526, 0.03289473684210526, 0.07072368421052631, 0.07072368421052631, 0.08717105263157894, 0.09703947368421052, 0.10361842105263158, 0.10361842105263158, 0.11239035087719297, 0.11239035087719297, 0.12554824561403508, 0.12554824561403508, 0.12225877192982455, 0.12225877192982455, 0.1370614035087719, 0.1370614035087719, 0.1387061403508772, 0.1387061403508772, 0.13541666666666666, 0.13541666666666666, 0.13541666666666666, 0.13541666666666666, 0.13048245614035087, 0.13048245614035087, 0.1469298245614035, 0.1469298245614035, 0.14857456140350878, 0.10307017543859649], 'recall_micro': [0.45726495726495725, 0.0, 0.0, 0.0, 0.0, 0.0, 0.0, 0.0, 0.0, 0.0, 0.0, 0.0, 0.0, 0.0, 0.0, 0.0, 0.0, 0.0, 0.0, 0.0, 0.0, 0.0, 0.0, 0.0, 0.0, 0.0, 0.0, 0.0, 0.0, 0.0, 0.0, 0.0, 0.0, 0.0, 0.0, 0.0, 0.0, 0.0, 0.0, 0.0, 0.0, 0.0, 0.0, 0.0, 0.0, 0.0, 0.0, 0.0, 0.0, 0.0, 0.0, 0.0, 0.0, 0.0, 0.0, 0.0, 0.0, 0.0, 0.0, 0.0, 0.0, 0.0, 0.004273504273504274, 0.01282051282051282, 0.017094017094017096, 0.029914529914529916, 0.029914529914529916, 0.029914529914529916, 0.029914529914529916, 0.017094017094017096, 0.017094017094017096, 0.029914529914529916, 0.029914529914529916, 0.03418803418803419, 0.03418803418803419, 0.06837606837606838, 0.06837606837606838, 0.0811965811965812, 0.09401709401709402, 0.09829059829059829, 0.09829059829059829, 0.10683760683760683, 0.10683760683760683, 0.11538461538461539, 0.11538461538461539, 0.11965811965811966, 0.11965811965811966, 0.1282051282051282, 0.1282051282051282, 0.13247863247863248, 0.13247863247863248, 0.13247863247863248, 0.13247863247863248, 0.13247863247863248, 0.13247863247863248, 0.12393162393162394, 0.12393162393162394, 0.13675213675213677, 0.13675213675213677, 0.14102564102564102, 0.11637931034482758], 'recall_macro': [0.08948463169051404, 0.0, 0.0, 0.0, 0.0, 0.0, 0.0, 0.0, 0.0, 0.0, 0.0, 0.0, 0.0, 0.0, 0.0, 0.0, 0.0, 0.0, 0.0, 0.0, 0.0, 0.0, 0.0, 0.0, 0.0, 0.0, 0.0, 0.0, 0.0, 0.0, 0.0, 0.0, 0.0, 0.0, 0.0, 0.0, 0.0, 0.0, 0.0, 0.0, 0.0, 0.0, 0.0, 0.0, 0.0, 0.0, 0.0, 0.0, 0.0, 0.0, 0.0, 0.0, 0.0, 0.0, 0.0, 0.0, 0.0, 0.0, 0.0, 0.0, 0.0, 0.0, 0.00033783783783783786, 0.0010135135135135136, 0.0013513513513513514, 0.002364864864864865, 0.002364864864864865, 0.002364864864864865, 0.002364864864864865, 0.0013513513513513514, 0.0013513513513513514, 0.0022522522522522522, 0.0022522522522522522, 0.0024774774774774773, 0.0024774774774774773, 0.00432022932022932, 0.00432022932022932, 0.005098280098280098, 0.005814905814905816, 0.0060606060606060615, 0.0060606060606060615, 0.006531531531531531, 0.006531531531531531, 0.007002457002457003, 0.007002457002457003, 0.007770270270270271, 0.007770270270270271, 0.008062340415281592, 0.008062340415281592, 0.00840017825311943, 0.00840017825311943, 0.00833393553981789, 0.00833393553981789, 0.00833393553981789, 0.00833393553981789, 0.007750397456279809, 0.007750397456279809, 0.008821923527805881, 0.008821923527805881, 0.009159761365643719, 0.006110205421638416], 'accuracy': [0.0, 0.05921052631578947, 0.05921052631578947, 0.05921052631578947, 0.05921052631578947, 0.05921052631578947, 0.05921052631578947, 0.05921052631578947, 0.05921052631578947, 0.05921052631578947, 0.05921052631578947, 0.05921052631578947, 0.05921052631578947, 0.05921052631578947, 0.05921052631578947, 0.05921052631578947, 0.05921052631578947, 0.05921052631578947, 0.05921052631578947, 0.05921052631578947, 0.05921052631578947, 0.05921052631578947, 0.05921052631578947, 0.05921052631578947, 0.05921052631578947, 0.05921052631578947, 0.05921052631578947, 0.05921052631578947, 0.05921052631578947, 0.05921052631578947, 0.05921052631578947, 0.05921052631578947, 0.05921052631578947, 0.05921052631578947, 0.05921052631578947, 0.05921052631578947, 0.05921052631578947, 0.05921052631578947, 0.05921052631578947, 0.05921052631578947, 0.05921052631578947, 0.05921052631578947, 0.05921052631578947, 0.05921052631578947, 0.05921052631578947, 0.05921052631578947, 0.05921052631578947, 0.05921052631578947, 0.05921052631578947, 0.05921052631578947, 0.05921052631578947, 0.05921052631578947, 0.05921052631578947, 0.05921052631578947, 0.05921052631578947, 0.05921052631578947, 0.05921052631578947, 0.05921052631578947, 0.05921052631578947, 0.05921052631578947, 0.05921052631578947, 0.05921052631578947, 0.05921052631578947, 0.06578947368421052, 0.07236842105263158, 0.05921052631578947, 0.05921052631578947, 0.06578947368421052, 0.06578947368421052, 0.05263157894736842, 0.05263157894736842, 0.07236842105263158, 0.06578947368421052, 0.07236842105263158, 0.06578947368421052, 0.09868421052631579, 0.09868421052631579, 0.1118421052631579, 0.1118421052631579, 0.1118421052631579, 0.1118421052631579, 0.11842105263157894, 0.11842105263157894, 0.125, 0.125, 0.11842105263157894, 0.11842105263157894, 0.13157894736842105, 0.13157894736842105, 0.13815789473684212, 0.13815789473684212, 0.13157894736842105, 0.13157894736842105, 0.13157894736842105, 0.13157894736842105, 0.13157894736842105, 0.13157894736842105, 0.13815789473684212, 0.13815789473684212, 0.13815789473684212, 0.08552631578947369], 'coverage_error': [128.25, 185.0, 185.0, 185.0, 185.0, 185.0, 185.0, 185.0, 185.0, 185.0, 185.0, 185.0, 185.0, 185.0, 185.0, 185.0, 185.0, 185.0, 185.0, 185.0, 185.0, 185.0, 185.0, 185.0, 185.0, 185.0, 185.0, 185.0, 185.0, 185.0, 185.0, 185.0, 185.0, 185.0, 185.0, 185.0, 185.0, 185.0, 185.0, 185.0, 185.0, 185.0, 185.0, 185.0, 185.0, 185.0, 185.0, 185.0, 185.0, 185.0, 185.0, 185.0, 185.0, 185.0, 185.0, 185.0, 185.0, 185.0, 185.0, 185.0, 185.0, 185.0, 185.0, 185.0, 185.0, 185.0, 185.0, 185.0, 185.0, 185.0, 185.0, 185.0, 185.0, 185.0, 185.0, 185.0, 185.0, 185.0, 185.0, 185.0, 185.0, 185.0, 185.0, 185.0, 185.0, 185.0, 185.0, 185.0, 185.0, 185.0, 185.0, 185.0, 185.0, 185.0, 185.0, 185.0, 185.0, 185.0, 185.0, 185.0, 185.0], 'label_ranking_loss': [0.5356569052338748, 1.0, 1.0, 1.0, 1.0, 1.0, 1.0, 1.0, 1.0, 1.0, 1.0, 1.0, 1.0, 1.0, 1.0, 1.0, 1.0, 1.0, 1.0, 1.0, 1.0, 1.0, 1.0, 1.0, 1.0, 1.0, 1.0, 1.0, 1.0, 1.0, 1.0, 1.0, 1.0, 1.0, 1.0, 1.0, 1.0, 1.0, 1.0, 1.0, 1.0, 1.0, 1.0, 1.0, 1.0, 1.0, 1.0, 1.0, 1.0, 1.0, 1.0, 1.0, 1.0, 1.0, 1.0, 1.0, 1.0, 1.0, 1.0, 1.0, 1.0, 1.0, 1.0, 1.0, 1.0, 1.0, 1.0, 1.0, 1.0, 1.0, 1.0, 1.0, 1.0, 1.0, 1.0, 1.0, 1.0, 1.0, 0.9375, 0.9375, 0.9375, 0.9375, 0.9375, 0.9375, 0.9375, 0.9375, 0.9375, 0.9375, 0.9375, 0.9375, 0.9375, 0.9375, 0.9375, 0.9375, 0.9375, 0.9375, 0.9375, 0.9375, 0.9375, 0.9375, 1.0], 'lrap': [0.019935716529289774, 0.011486486486486487, 0.011486486486486487, 0.011486486486486487, 0.011486486486486487, 0.011486486486486487, 0.011486486486486487, 0.011486486486486487, 0.011486486486486487, 0.011486486486486487, 0.011486486486486487, 0.011486486486486487, 0.011486486486486487, 0.011486486486486487, 0.011486486486486487, 0.011486486486486487, 0.011486486486486487, 0.011486486486486487, 0.011486486486486487, 0.011486486486486487, 0.011486486486486487, 0.011486486486486487, 0.011486486486486487, 0.011486486486486487, 0.011486486486486487, 0.011486486486486487, 0.011486486486486487, 0.011486486486486487, 0.011486486486486487, 0.011486486486486487, 0.011486486486486487, 0.011486486486486487, 0.011486486486486487, 0.011486486486486487, 0.011486486486486487, 0.011486486486486487, 0.011486486486486487, 0.011486486486486487, 0.011486486486486487, 0.011486486486486487, 0.011486486486486487, 0.011486486486486487, 0.011486486486486487, 0.011486486486486487, 0.011486486486486487, 0.011486486486486487, 0.011486486486486487, 0.011486486486486487, 0.011486486486486487, 0.011486486486486487, 0.011486486486486487, 0.011486486486486487, 0.011486486486486487, 0.011486486486486487, 0.011486486486486487, 0.011486486486486487, 0.011486486486486487, 0.011486486486486487, 0.011486486486486487, 0.011486486486486487, 0.011486486486486487, 0.011486486486486487, 0.011486486486486487, 0.011486486486486487, 0.011486486486486487, 0.011486486486486487, 0.011486486486486487, 0.011486486486486487, 0.011486486486486487, 0.011486486486486487, 0.011486486486486487, 0.011486486486486487, 0.011486486486486487, 0.011486486486486487, 0.011486486486486487, 0.011486486486486487, 0.011486486486486487, 0.011486486486486487, 0.07331081081081081, 0.07331081081081081, 0.07331081081081081, 0.07331081081081081, 0.07331081081081081, 0.07331081081081081, 0.07331081081081081, 0.07331081081081081, 0.07331081081081081, 0.07331081081081081, 0.07331081081081081, 0.07331081081081081, 0.07331081081081081, 0.07331081081081081, 0.07331081081081081, 0.07331081081081081, 0.07331081081081081, 0.07331081081081081, 0.07331081081081081, 0.07331081081081081, 0.07331081081081081, 0.07331081081081081, 0.008108108108108109]}\n"
     ]
    }
   ],
   "source": [
    "print(metrics_data)"
   ]
  },
  {
   "cell_type": "code",
   "execution_count": 44,
   "id": "c3b84004",
   "metadata": {},
   "outputs": [
    {
     "name": "stdout",
     "output_type": "stream",
     "text": [
      "f1_sampled: 101\n",
      "f1_micro: 101\n",
      "f1_macro: 101\n",
      "f_05_sample: 101\n",
      "f_05_micro: 101\n",
      "f_05_macro: 101\n",
      "precision_sampled: 101\n",
      "precision_micro: 101\n",
      "precision_macro: 101\n",
      "recall_sampled: 101\n",
      "recall_micro: 101\n",
      "recall_macro: 101\n",
      "accuracy: 101\n",
      "coverage_error: 101\n",
      "label_ranking_loss: 101\n",
      "lrap: 101\n"
     ]
    },
    {
     "data": {
      "image/png": "[encoded data removed]",
      "text/plain": [
       "<Figure size 1200x700 with 1 Axes>"
      ]
     },
     "metadata": {},
     "output_type": "display_data"
    }
   ],
   "source": [
    "plt.figure(figsize=(12, 7))\n",
    "epochs = range(1, len(metrics_log) + 1)\n",
    "for metric_name, values in metrics_data.items():\n",
    "    print(f\"{metric_name}: {len(values)}\")\n",
    "    if metric_name != 'lrap' and metric_name != 'coverage_error':\n",
    "        plt.plot(epochs, values, label=metric_name)\n",
    "\n",
    "plt.xlabel('Epoch')\n",
    "plt.ylabel('Metric Value')\n",
    "plt.title('Tactic - All Metrics Over Epochs')\n",
    "plt.legend()\n",
    "plt.grid(True)\n",
    "plt.tight_layout()\n",
    "plt.show()"
   ]
  },
  {
   "cell_type": "code",
   "execution_count": 45,
   "id": "b786ee11",
   "metadata": {},
   "outputs": [
    {
     "data": {
      "image/png": "[encoded data removed]",
      "text/plain": [
       "<Figure size 1200x700 with 1 Axes>"
      ]
     },
     "metadata": {},
     "output_type": "display_data"
    }
   ],
   "source": [
    "plt.figure(figsize=(12, 7))\n",
    "epochs = range(1, len(metrics_log) + 1)\n",
    "for metric_name, values in metrics_data.items():\n",
    "    # print(f\"{metric_name}: {len(values)}\")\n",
    "    if metric_name == 'coverage_error':\n",
    "        plt.plot(epochs, values, label=metric_name)\n",
    "\n",
    "plt.xlabel('Epoch')\n",
    "plt.ylabel('Metric Value')\n",
    "plt.title('Tactic -All Metrics Over Epochs')\n",
    "plt.legend()\n",
    "plt.grid(True)\n",
    "plt.tight_layout()\n",
    "plt.show()"
   ]
  },
  {
   "cell_type": "code",
   "execution_count": 46,
   "id": "1ec70b8e",
   "metadata": {},
   "outputs": [
    {
     "data": {
      "image/png": "[encoded data removed]",
      "text/plain": [
       "<Figure size 1200x700 with 1 Axes>"
      ]
     },
     "metadata": {},
     "output_type": "display_data"
    }
   ],
   "source": [
    "plt.figure(figsize=(12, 7))\n",
    "epochs = range(1, len(metrics_log) + 1)\n",
    "for metric_name, values in metrics_data.items():\n",
    "    # print(f\"{metric_name}: {len(values)}\")\n",
    "    if metric_name == 'lrap':\n",
    "        plt.plot(epochs, values, label=metric_name)\n",
    "\n",
    "plt.xlabel('Epoch')\n",
    "plt.ylabel('Metric Value')\n",
    "plt.title('Tactic -All Metrics Over Epochs')\n",
    "plt.legend()\n",
    "plt.grid(True)\n",
    "plt.tight_layout()\n",
    "plt.show()"
   ]
  },
  {
   "cell_type": "code",
   "execution_count": 88,
   "id": "44a17fa5",
   "metadata": {},
   "outputs": [],
   "source": [
    "def print_F1_based_on_distribution(y_true, y_pred, Y, columns):\n",
    "  fig,ax = plt.subplots()\n",
    "\n",
    "  results = pd.DataFrame(columns = columns)\n",
    "  results.loc[len(results)] = f1_score(y_true, y_pred, average=None)\n",
    "\n",
    "\n",
    "  Y_count = Y.apply(np.sum, axis=0)\n",
    "\n",
    "  Y_count_sorted = Y_count[16:-3].sort_values(ascending=False)\n",
    "\n",
    "  ax.bar(Y_count_sorted.index, Y_count_sorted.values)\n",
    "  ax.set_xlabel(\"Techniques\")\n",
    "  ax.set_ylabel(\"Number of CVEs\")\n",
    "  plt.xticks(rotation=90)\n",
    "\n",
    "  ax2=ax.twinx()\n",
    "  ax2.plot(Y_count_sorted.index, results[Y_count_sorted.index].iloc[0], color='red')\n",
    "  ax2.set_ylabel(\"F1 Score\")\n",
    "\n",
    "  ax = plt.gca()\n",
    "  plt.show()"
   ]
  },
  {
   "cell_type": "code",
   "execution_count": 78,
   "id": "ad72bae8",
   "metadata": {},
   "outputs": [],
   "source": [
    "def print_precision_based_on_distribution(y_true, y_pred, Y, columns):\n",
    "  fig,ax = plt.subplots()\n",
    "\n",
    "  results = pd.DataFrame(columns = columns)\n",
    "  results.loc[len(results)] = precision_score(y_true, y_pred, average=None)\n",
    "\n",
    "\n",
    "  Y_count = Y.apply(np.sum, axis=0)\n",
    "\n",
    "  # print(Y_count[0:14])\n",
    "\n",
    "  Y_count_sorted = Y_count[16:-3].sort_values(ascending=False)\n",
    "\n",
    "\n",
    "  ax.bar(Y_count_sorted.index, Y_count_sorted.values)\n",
    "  ax.set_xlabel(\"Techniques\")\n",
    "  ax.set_ylabel(\"Number of CVEs\")\n",
    "  plt.xticks(rotation=90)\n",
    "\n",
    "  ax2=ax.twinx()\n",
    "  ax2.plot(Y_count_sorted.index, results[Y_count_sorted.index].iloc[0], color='red')\n",
    "  ax2.set_ylabel(\"Precision Score\")\n",
    "\n",
    "  ax = plt.gca()\n",
    "  plt.show()"
   ]
  },
  {
   "cell_type": "code",
   "execution_count": 79,
   "id": "bfe45ad7",
   "metadata": {},
   "outputs": [],
   "source": [
    "def compute_metrics(predicted_y, true_y, metric_function, columns, limit):\n",
    "  results = pd.DataFrame(columns = columns)\n",
    "  if (metric_function == accuracy_score):\n",
    "    results.loc[len(results)] = metric_function(true_y, predicted_y)\n",
    "  else:\n",
    "    results.loc[len(results)] = metric_function(true_y, predicted_y, average=None)\n",
    "\n",
    "  sorted_results = results.sort_values(by=0, axis=1, ascending=False)\n",
    "\n",
    "  for col in sorted_results.columns[:limit]:\n",
    "        print(f\"{col}: {sorted_results[col].values[0]}\")\n",
    "\n",
    "  return sorted_results.iloc[:, :limit]"
   ]
  },
  {
   "cell_type": "code",
   "execution_count": 80,
   "id": "66e7aebd",
   "metadata": {},
   "outputs": [],
   "source": [
    "df = pd.read_csv('merged_all_columns.csv', encoding='utf-8')\n",
    "# df_attack['tactic_label'] = df_attack.apply(lambda x: list(x[TACTIC]), axis=1)\n",
    "# df_attack['technique_label'] = df_attack.apply(lambda x: list(x[TECHNIQUE]), axis=1)\n",
    "\n",
    "df_tactic_labels = df[TACTIC]\n",
    "df_technique_labels = df[TECHNIQUE]\n",
    "\n",
    "df['tactic_label'] = df.apply(lambda x: list(x[TACTIC]), axis=1)\n",
    "df['technique_label'] = df.apply(lambda x: list(x[TECHNIQUE]), axis=1)\n",
    "\n",
    "df['text_clean'] = df['Text'].map(lambda t: preprocess(t))\n",
    "\n",
    "\n",
    "train, test = train_test_split(df, test_size=0.2, random_state=2222)\n",
    "validation, test = train_test_split(test, test_size=0.5, random_state=2222)\n"
   ]
  },
  {
   "cell_type": "code",
   "execution_count": 81,
   "id": "598b8829",
   "metadata": {},
   "outputs": [
    {
     "name": "stdout",
     "output_type": "stream",
     "text": [
      "------Validation results --------\n",
      "0.182115305364104\n",
      "F1 scores per class\n",
      "T1499: 0.6486486486486487\n",
      "T1059: 0.46153846153846156\n",
      "T1203: 0.4186046511627907\n",
      "T1204: 0.2222222222222222\n",
      "T1189: 0.2\n",
      "T1005: 0.11764705882352941\n",
      "T1190: 0.10810810810810811\n",
      "T1068: 0.07407407407407407\n",
      "T1001: 0.0\n",
      "T1014: 0.0\n",
      "T1016: 0.0\n",
      "T1018: 0.0\n",
      "T1020: 0.0\n",
      "T1021: 0.0\n",
      "T1025: 0.0\n",
      "T1027: 0.0\n",
      "T1029: 0.0\n",
      "T1030: 0.0\n",
      "T1033: 0.0\n",
      "T1036: 0.0\n",
      "T1003: 0.0\n",
      "T1008: 0.0\n",
      "T1010: 0.0\n",
      "T1006: 0.0\n",
      "T1007: 0.0\n",
      "T1046: 0.0\n",
      "T1041: 0.0\n",
      "T1047: 0.0\n",
      "T1048: 0.0\n",
      "T1053: 0.0\n",
      "T1055: 0.0\n",
      "T1049: 0.0\n",
      "T1052: 0.0\n",
      "T1057: 0.0\n",
      "T1056: 0.0\n",
      "T1069: 0.0\n",
      "T1071: 0.0\n",
      "T1072: 0.0\n",
      "T1074: 0.0\n",
      "T1078: 0.0\n",
      "T1080: 0.0\n",
      "T1082: 0.0\n",
      "T1083: 0.0\n",
      "T1087: 0.0\n",
      "T1090: 0.0\n",
      "T1091: 0.0\n",
      "T1092: 0.0\n",
      "T1095: 0.0\n",
      "T1098: 0.0\n",
      "T1102: 0.0\n",
      "T1104: 0.0\n",
      "T1105: 0.0\n",
      "T1037: 0.0\n",
      "T1039: 0.0\n",
      "T1040: 0.0\n",
      "T1011: 0.0\n",
      "T1012: 0.0\n",
      "T1113: 0.0\n",
      "T1112: 0.0\n",
      "T1111: 0.0\n",
      "T1110: 0.0\n",
      "T1106: 0.0\n",
      "T1114: 0.0\n",
      "T1119: 0.0\n",
      "T1115: 0.0\n",
      "T1129: 0.0\n",
      "T1132: 0.0\n",
      "T1133: 0.0\n",
      "T1134: 0.0\n",
      "T1123: 0.0\n",
      "T1124: 0.0\n",
      "T1125: 0.0\n",
      "T1120: 0.0\n",
      "T1140: 0.0\n",
      "T1137: 0.0\n",
      "T1136: 0.0\n",
      "T1135: 0.0\n",
      "T1187: 0.0\n",
      "T1195: 0.0\n",
      "T1185: 0.0\n",
      "T1176: 0.0\n",
      "T1199: 0.0\n",
      "T1197: 0.0\n",
      "T1201: 0.0\n",
      "T1200: 0.0\n",
      "T1202: 0.0\n",
      "T1205: 0.0\n",
      "T1207: 0.0\n",
      "T1127: 0.0\n",
      "T1210: 0.0\n",
      "T1211: 0.0\n",
      "T1213: 0.0\n",
      "T1212: 0.0\n",
      "T1218: 0.0\n",
      "T1220: 0.0\n",
      "T1221: 0.0\n",
      "T1216: 0.0\n",
      "T1480: 0.0\n",
      "T1482: 0.0\n",
      "T1485: 0.0\n",
      "T1486: 0.0\n",
      "T1489: 0.0\n",
      "T1490: 0.0\n",
      "T1491: 0.0\n",
      "T1222: 0.0\n",
      "T1495: 0.0\n",
      "T1496: 0.0\n",
      "T1497: 0.0\n",
      "T1498: 0.0\n",
      "T1505: 0.0\n",
      "T1518: 0.0\n",
      "T1525: 0.0\n",
      "T1526: 0.0\n",
      "T1528: 0.0\n",
      "T1529: 0.0\n",
      "T1531: 0.0\n",
      "T1534: 0.0\n",
      "T1535: 0.0\n",
      "T1537: 0.0\n",
      "T1538: 0.0\n",
      "T1539: 0.0\n",
      "T1542: 0.0\n",
      "T1543: 0.0\n",
      "T1546: 0.0\n",
      "T1547: 0.0\n",
      "T1548: 0.0\n",
      "T1550: 0.0\n",
      "T1552: 0.0\n",
      "T1553: 0.0\n",
      "T1555: 0.0\n",
      "T1556: 0.0\n",
      "T1557: 0.0\n",
      "T1558: 0.0\n",
      "T1559: 0.0\n",
      "T1560: 0.0\n",
      "T1561: 0.0\n",
      "T1562: 0.0\n",
      "T1563: 0.0\n",
      "T1564: 0.0\n",
      "T1565: 0.0\n",
      "T1566: 0.0\n",
      "T1567: 0.0\n",
      "T1568: 0.0\n",
      "T1569: 0.0\n",
      "T1570: 0.0\n",
      "T1571: 0.0\n",
      "T1572: 0.0\n",
      "T1573: 0.0\n",
      "T1574: 0.0\n",
      "T1578: 0.0\n",
      "T1580: 0.0\n",
      "T1583: 0.0\n",
      "T1584: 0.0\n",
      "T1585: 0.0\n",
      "T1586: 0.0\n",
      "T1587: 0.0\n",
      "T1588: 0.0\n",
      "T1589: 0.0\n",
      "T1590: 0.0\n",
      "T1591: 0.0\n",
      "T1592: 0.0\n",
      "T1593: 0.0\n",
      "T1594: 0.0\n",
      "T1595: 0.0\n",
      "T1596: 0.0\n",
      "T1597: 0.0\n",
      "T1598: 0.0\n",
      "T1599: 0.0\n",
      "T1600: 0.0\n",
      "T1601: 0.0\n",
      "T1602: 0.0\n",
      "T1606: 0.0\n",
      "T1608: 0.0\n",
      "T1609: 0.0\n",
      "T1610: 0.0\n",
      "T1611: 0.0\n",
      "T1612: 0.0\n",
      "T1613: 0.0\n",
      "T1614: 0.0\n",
      "T1615: 0.0\n",
      "T1619: 0.0\n",
      "T1620: 0.0\n",
      "T1621: 0.0\n",
      "T1622: 0.0\n",
      "T1647: 0.0\n",
      "----------------------------------\n",
      "Recall scores per class\n",
      "T1499: 0.5454545454545454\n",
      "T1203: 0.375\n",
      "T1059: 0.375\n",
      "T1204: 0.125\n",
      "T1189: 0.1111111111111111\n",
      "T1005: 0.0625\n",
      "T1190: 0.058823529411764705\n",
      "T1068: 0.041666666666666664\n",
      "T1001: 0.0\n",
      "T1014: 0.0\n",
      "T1016: 0.0\n",
      "T1018: 0.0\n",
      "T1020: 0.0\n",
      "T1021: 0.0\n",
      "T1025: 0.0\n",
      "T1027: 0.0\n",
      "T1029: 0.0\n",
      "T1030: 0.0\n",
      "T1033: 0.0\n",
      "T1036: 0.0\n",
      "T1003: 0.0\n",
      "T1008: 0.0\n",
      "T1010: 0.0\n",
      "T1006: 0.0\n",
      "T1007: 0.0\n",
      "T1046: 0.0\n",
      "T1041: 0.0\n",
      "T1047: 0.0\n",
      "T1048: 0.0\n",
      "T1053: 0.0\n",
      "T1055: 0.0\n",
      "T1049: 0.0\n",
      "T1052: 0.0\n",
      "T1057: 0.0\n",
      "T1056: 0.0\n",
      "T1069: 0.0\n",
      "T1071: 0.0\n",
      "T1072: 0.0\n",
      "T1074: 0.0\n",
      "T1078: 0.0\n",
      "T1080: 0.0\n",
      "T1082: 0.0\n",
      "T1083: 0.0\n",
      "T1087: 0.0\n",
      "T1090: 0.0\n",
      "T1091: 0.0\n",
      "T1092: 0.0\n",
      "T1095: 0.0\n",
      "T1098: 0.0\n",
      "T1102: 0.0\n",
      "T1104: 0.0\n",
      "T1105: 0.0\n",
      "T1037: 0.0\n",
      "T1039: 0.0\n",
      "T1040: 0.0\n",
      "T1011: 0.0\n",
      "T1012: 0.0\n",
      "T1113: 0.0\n",
      "T1112: 0.0\n",
      "T1111: 0.0\n",
      "T1110: 0.0\n",
      "T1106: 0.0\n",
      "T1114: 0.0\n",
      "T1119: 0.0\n",
      "T1115: 0.0\n",
      "T1129: 0.0\n",
      "T1132: 0.0\n",
      "T1133: 0.0\n",
      "T1134: 0.0\n",
      "T1123: 0.0\n",
      "T1124: 0.0\n",
      "T1125: 0.0\n",
      "T1120: 0.0\n",
      "T1140: 0.0\n",
      "T1137: 0.0\n",
      "T1136: 0.0\n",
      "T1135: 0.0\n",
      "T1187: 0.0\n",
      "T1195: 0.0\n",
      "T1185: 0.0\n",
      "T1176: 0.0\n",
      "T1199: 0.0\n",
      "T1197: 0.0\n",
      "T1201: 0.0\n",
      "T1200: 0.0\n",
      "T1202: 0.0\n",
      "T1205: 0.0\n",
      "T1207: 0.0\n",
      "T1127: 0.0\n",
      "T1210: 0.0\n",
      "T1211: 0.0\n",
      "T1213: 0.0\n",
      "T1212: 0.0\n",
      "T1218: 0.0\n",
      "T1220: 0.0\n",
      "T1221: 0.0\n",
      "T1216: 0.0\n",
      "T1480: 0.0\n",
      "T1482: 0.0\n",
      "T1485: 0.0\n",
      "T1486: 0.0\n",
      "T1489: 0.0\n",
      "T1490: 0.0\n",
      "T1491: 0.0\n",
      "T1222: 0.0\n",
      "T1495: 0.0\n",
      "T1496: 0.0\n",
      "T1497: 0.0\n",
      "T1498: 0.0\n",
      "T1505: 0.0\n",
      "T1518: 0.0\n",
      "T1525: 0.0\n",
      "T1526: 0.0\n",
      "T1528: 0.0\n",
      "T1529: 0.0\n",
      "T1531: 0.0\n",
      "T1534: 0.0\n",
      "T1535: 0.0\n",
      "T1537: 0.0\n",
      "T1538: 0.0\n",
      "T1539: 0.0\n",
      "T1542: 0.0\n",
      "T1543: 0.0\n",
      "T1546: 0.0\n",
      "T1547: 0.0\n",
      "T1548: 0.0\n",
      "T1550: 0.0\n",
      "T1552: 0.0\n",
      "T1553: 0.0\n",
      "T1555: 0.0\n",
      "T1556: 0.0\n",
      "T1557: 0.0\n",
      "T1558: 0.0\n",
      "T1559: 0.0\n",
      "T1560: 0.0\n",
      "T1561: 0.0\n",
      "T1562: 0.0\n",
      "T1563: 0.0\n",
      "T1564: 0.0\n",
      "T1565: 0.0\n",
      "T1566: 0.0\n",
      "T1567: 0.0\n",
      "T1568: 0.0\n",
      "T1569: 0.0\n",
      "T1570: 0.0\n",
      "T1571: 0.0\n",
      "T1572: 0.0\n",
      "T1573: 0.0\n",
      "T1574: 0.0\n",
      "T1578: 0.0\n",
      "T1580: 0.0\n",
      "T1583: 0.0\n",
      "T1584: 0.0\n",
      "T1585: 0.0\n",
      "T1586: 0.0\n",
      "T1587: 0.0\n",
      "T1588: 0.0\n",
      "T1589: 0.0\n",
      "T1590: 0.0\n",
      "T1591: 0.0\n",
      "T1592: 0.0\n",
      "T1593: 0.0\n",
      "T1594: 0.0\n",
      "T1595: 0.0\n",
      "T1596: 0.0\n",
      "T1597: 0.0\n",
      "T1598: 0.0\n",
      "T1599: 0.0\n",
      "T1600: 0.0\n",
      "T1601: 0.0\n",
      "T1602: 0.0\n",
      "T1606: 0.0\n",
      "T1608: 0.0\n",
      "T1609: 0.0\n",
      "T1610: 0.0\n",
      "T1611: 0.0\n",
      "T1612: 0.0\n",
      "T1613: 0.0\n",
      "T1614: 0.0\n",
      "T1615: 0.0\n",
      "T1619: 0.0\n",
      "T1620: 0.0\n",
      "T1621: 0.0\n",
      "T1622: 0.0\n",
      "T1647: 0.0\n",
      "----------------------------------\n",
      "Precision scores per class\n",
      "T1005: 1.0\n",
      "T1189: 1.0\n",
      "T1204: 1.0\n",
      "T1499: 0.8\n",
      "T1190: 0.6666666666666666\n",
      "T1059: 0.6\n",
      "T1203: 0.47368421052631576\n",
      "T1068: 0.3333333333333333\n",
      "T1001: 0.0\n",
      "T1014: 0.0\n",
      "T1016: 0.0\n",
      "T1018: 0.0\n",
      "T1020: 0.0\n",
      "T1021: 0.0\n",
      "T1025: 0.0\n",
      "T1027: 0.0\n",
      "T1029: 0.0\n",
      "T1030: 0.0\n",
      "T1033: 0.0\n",
      "T1036: 0.0\n",
      "T1003: 0.0\n",
      "T1008: 0.0\n",
      "T1010: 0.0\n",
      "T1006: 0.0\n",
      "T1007: 0.0\n",
      "T1046: 0.0\n",
      "T1041: 0.0\n",
      "T1047: 0.0\n",
      "T1048: 0.0\n",
      "T1053: 0.0\n",
      "T1055: 0.0\n",
      "T1049: 0.0\n",
      "T1052: 0.0\n",
      "T1057: 0.0\n",
      "T1056: 0.0\n",
      "T1069: 0.0\n",
      "T1071: 0.0\n",
      "T1072: 0.0\n",
      "T1074: 0.0\n",
      "T1078: 0.0\n",
      "T1080: 0.0\n",
      "T1082: 0.0\n",
      "T1083: 0.0\n",
      "T1087: 0.0\n",
      "T1090: 0.0\n",
      "T1091: 0.0\n",
      "T1092: 0.0\n",
      "T1095: 0.0\n",
      "T1098: 0.0\n",
      "T1102: 0.0\n",
      "T1104: 0.0\n",
      "T1105: 0.0\n",
      "T1037: 0.0\n",
      "T1039: 0.0\n",
      "T1040: 0.0\n",
      "T1011: 0.0\n",
      "T1012: 0.0\n",
      "T1113: 0.0\n",
      "T1112: 0.0\n",
      "T1111: 0.0\n",
      "T1110: 0.0\n",
      "T1106: 0.0\n",
      "T1114: 0.0\n",
      "T1119: 0.0\n",
      "T1115: 0.0\n",
      "T1129: 0.0\n",
      "T1132: 0.0\n",
      "T1133: 0.0\n",
      "T1134: 0.0\n",
      "T1123: 0.0\n",
      "T1124: 0.0\n",
      "T1125: 0.0\n",
      "T1120: 0.0\n",
      "T1140: 0.0\n",
      "T1137: 0.0\n",
      "T1136: 0.0\n",
      "T1135: 0.0\n",
      "T1187: 0.0\n",
      "T1195: 0.0\n",
      "T1185: 0.0\n",
      "T1176: 0.0\n",
      "T1199: 0.0\n",
      "T1197: 0.0\n",
      "T1201: 0.0\n",
      "T1200: 0.0\n",
      "T1202: 0.0\n",
      "T1205: 0.0\n",
      "T1207: 0.0\n",
      "T1127: 0.0\n",
      "T1210: 0.0\n",
      "T1211: 0.0\n",
      "T1213: 0.0\n",
      "T1212: 0.0\n",
      "T1218: 0.0\n",
      "T1220: 0.0\n",
      "T1221: 0.0\n",
      "T1216: 0.0\n",
      "T1480: 0.0\n",
      "T1482: 0.0\n",
      "T1485: 0.0\n",
      "T1486: 0.0\n",
      "T1489: 0.0\n",
      "T1490: 0.0\n",
      "T1491: 0.0\n",
      "T1222: 0.0\n",
      "T1495: 0.0\n",
      "T1496: 0.0\n",
      "T1497: 0.0\n",
      "T1498: 0.0\n",
      "T1505: 0.0\n",
      "T1518: 0.0\n",
      "T1525: 0.0\n",
      "T1526: 0.0\n",
      "T1528: 0.0\n",
      "T1529: 0.0\n",
      "T1531: 0.0\n",
      "T1534: 0.0\n",
      "T1535: 0.0\n",
      "T1537: 0.0\n",
      "T1538: 0.0\n",
      "T1539: 0.0\n",
      "T1542: 0.0\n",
      "T1543: 0.0\n",
      "T1546: 0.0\n",
      "T1547: 0.0\n",
      "T1548: 0.0\n",
      "T1550: 0.0\n",
      "T1552: 0.0\n",
      "T1553: 0.0\n",
      "T1555: 0.0\n",
      "T1556: 0.0\n",
      "T1557: 0.0\n",
      "T1558: 0.0\n",
      "T1559: 0.0\n",
      "T1560: 0.0\n",
      "T1561: 0.0\n",
      "T1562: 0.0\n",
      "T1563: 0.0\n",
      "T1564: 0.0\n",
      "T1565: 0.0\n",
      "T1566: 0.0\n",
      "T1567: 0.0\n",
      "T1568: 0.0\n",
      "T1569: 0.0\n",
      "T1570: 0.0\n",
      "T1571: 0.0\n",
      "T1572: 0.0\n",
      "T1573: 0.0\n",
      "T1574: 0.0\n",
      "T1578: 0.0\n",
      "T1580: 0.0\n",
      "T1583: 0.0\n",
      "T1584: 0.0\n",
      "T1585: 0.0\n",
      "T1586: 0.0\n",
      "T1587: 0.0\n",
      "T1588: 0.0\n",
      "T1589: 0.0\n",
      "T1590: 0.0\n",
      "T1591: 0.0\n",
      "T1592: 0.0\n",
      "T1593: 0.0\n",
      "T1594: 0.0\n",
      "T1595: 0.0\n",
      "T1596: 0.0\n",
      "T1597: 0.0\n",
      "T1598: 0.0\n",
      "T1599: 0.0\n",
      "T1600: 0.0\n",
      "T1601: 0.0\n",
      "T1602: 0.0\n",
      "T1606: 0.0\n",
      "T1608: 0.0\n",
      "T1609: 0.0\n",
      "T1610: 0.0\n",
      "T1611: 0.0\n",
      "T1612: 0.0\n",
      "T1613: 0.0\n",
      "T1614: 0.0\n",
      "T1615: 0.0\n",
      "T1619: 0.0\n",
      "T1620: 0.0\n",
      "T1621: 0.0\n",
      "T1622: 0.0\n",
      "T1647: 0.0\n",
      "----------------------------------\n",
      "Accuracy scores per class\n",
      "T1001: 0.13815789473684212\n",
      "T1003: 0.13815789473684212\n",
      "T1005: 0.13815789473684212\n",
      "T1006: 0.13815789473684212\n",
      "T1007: 0.13815789473684212\n",
      "T1008: 0.13815789473684212\n",
      "T1010: 0.13815789473684212\n",
      "T1011: 0.13815789473684212\n",
      "T1012: 0.13815789473684212\n",
      "T1014: 0.13815789473684212\n",
      "T1016: 0.13815789473684212\n",
      "T1018: 0.13815789473684212\n",
      "T1020: 0.13815789473684212\n",
      "T1021: 0.13815789473684212\n",
      "T1025: 0.13815789473684212\n",
      "T1027: 0.13815789473684212\n",
      "T1029: 0.13815789473684212\n",
      "T1030: 0.13815789473684212\n",
      "T1033: 0.13815789473684212\n",
      "T1036: 0.13815789473684212\n",
      "T1037: 0.13815789473684212\n",
      "T1039: 0.13815789473684212\n",
      "T1040: 0.13815789473684212\n",
      "T1041: 0.13815789473684212\n",
      "T1046: 0.13815789473684212\n",
      "T1047: 0.13815789473684212\n",
      "T1048: 0.13815789473684212\n",
      "T1049: 0.13815789473684212\n",
      "T1052: 0.13815789473684212\n",
      "T1053: 0.13815789473684212\n",
      "T1055: 0.13815789473684212\n",
      "T1056: 0.13815789473684212\n",
      "T1057: 0.13815789473684212\n",
      "T1059: 0.13815789473684212\n",
      "T1068: 0.13815789473684212\n",
      "T1069: 0.13815789473684212\n",
      "T1071: 0.13815789473684212\n",
      "T1072: 0.13815789473684212\n",
      "T1074: 0.13815789473684212\n",
      "T1078: 0.13815789473684212\n",
      "T1080: 0.13815789473684212\n",
      "T1082: 0.13815789473684212\n",
      "T1083: 0.13815789473684212\n",
      "T1087: 0.13815789473684212\n",
      "T1090: 0.13815789473684212\n",
      "T1091: 0.13815789473684212\n",
      "T1092: 0.13815789473684212\n",
      "T1095: 0.13815789473684212\n",
      "T1098: 0.13815789473684212\n",
      "T1102: 0.13815789473684212\n",
      "T1104: 0.13815789473684212\n",
      "T1105: 0.13815789473684212\n",
      "T1106: 0.13815789473684212\n",
      "T1110: 0.13815789473684212\n",
      "T1111: 0.13815789473684212\n",
      "T1112: 0.13815789473684212\n",
      "T1113: 0.13815789473684212\n",
      "T1114: 0.13815789473684212\n",
      "T1115: 0.13815789473684212\n",
      "T1119: 0.13815789473684212\n",
      "T1120: 0.13815789473684212\n",
      "T1123: 0.13815789473684212\n",
      "T1124: 0.13815789473684212\n",
      "T1125: 0.13815789473684212\n",
      "T1127: 0.13815789473684212\n",
      "T1129: 0.13815789473684212\n",
      "T1132: 0.13815789473684212\n",
      "T1133: 0.13815789473684212\n",
      "T1134: 0.13815789473684212\n",
      "T1135: 0.13815789473684212\n",
      "T1136: 0.13815789473684212\n",
      "T1137: 0.13815789473684212\n",
      "T1140: 0.13815789473684212\n",
      "T1176: 0.13815789473684212\n",
      "T1185: 0.13815789473684212\n",
      "T1187: 0.13815789473684212\n",
      "T1189: 0.13815789473684212\n",
      "T1190: 0.13815789473684212\n",
      "T1195: 0.13815789473684212\n",
      "T1197: 0.13815789473684212\n",
      "T1199: 0.13815789473684212\n",
      "T1200: 0.13815789473684212\n",
      "T1201: 0.13815789473684212\n",
      "T1202: 0.13815789473684212\n",
      "T1203: 0.13815789473684212\n",
      "T1204: 0.13815789473684212\n",
      "T1205: 0.13815789473684212\n",
      "T1207: 0.13815789473684212\n",
      "T1210: 0.13815789473684212\n",
      "T1211: 0.13815789473684212\n",
      "T1212: 0.13815789473684212\n",
      "T1213: 0.13815789473684212\n",
      "T1216: 0.13815789473684212\n",
      "T1218: 0.13815789473684212\n",
      "T1220: 0.13815789473684212\n",
      "T1221: 0.13815789473684212\n",
      "T1222: 0.13815789473684212\n",
      "T1480: 0.13815789473684212\n",
      "T1482: 0.13815789473684212\n",
      "T1485: 0.13815789473684212\n",
      "T1486: 0.13815789473684212\n",
      "T1489: 0.13815789473684212\n",
      "T1490: 0.13815789473684212\n",
      "T1491: 0.13815789473684212\n",
      "T1495: 0.13815789473684212\n",
      "T1496: 0.13815789473684212\n",
      "T1497: 0.13815789473684212\n",
      "T1498: 0.13815789473684212\n",
      "T1499: 0.13815789473684212\n",
      "T1505: 0.13815789473684212\n",
      "T1518: 0.13815789473684212\n",
      "T1525: 0.13815789473684212\n",
      "T1526: 0.13815789473684212\n",
      "T1528: 0.13815789473684212\n",
      "T1529: 0.13815789473684212\n",
      "T1531: 0.13815789473684212\n",
      "T1534: 0.13815789473684212\n",
      "T1535: 0.13815789473684212\n",
      "T1537: 0.13815789473684212\n",
      "T1538: 0.13815789473684212\n",
      "T1539: 0.13815789473684212\n",
      "T1542: 0.13815789473684212\n",
      "T1543: 0.13815789473684212\n",
      "T1546: 0.13815789473684212\n",
      "T1547: 0.13815789473684212\n",
      "T1548: 0.13815789473684212\n",
      "T1550: 0.13815789473684212\n",
      "T1552: 0.13815789473684212\n",
      "T1553: 0.13815789473684212\n",
      "T1555: 0.13815789473684212\n",
      "T1556: 0.13815789473684212\n",
      "T1557: 0.13815789473684212\n",
      "T1558: 0.13815789473684212\n",
      "T1559: 0.13815789473684212\n",
      "T1560: 0.13815789473684212\n",
      "T1561: 0.13815789473684212\n",
      "T1562: 0.13815789473684212\n",
      "T1563: 0.13815789473684212\n",
      "T1564: 0.13815789473684212\n",
      "T1565: 0.13815789473684212\n",
      "T1566: 0.13815789473684212\n",
      "T1567: 0.13815789473684212\n",
      "T1568: 0.13815789473684212\n",
      "T1569: 0.13815789473684212\n",
      "T1570: 0.13815789473684212\n",
      "T1571: 0.13815789473684212\n",
      "T1572: 0.13815789473684212\n",
      "T1573: 0.13815789473684212\n",
      "T1574: 0.13815789473684212\n",
      "T1578: 0.13815789473684212\n",
      "T1580: 0.13815789473684212\n",
      "T1583: 0.13815789473684212\n",
      "T1584: 0.13815789473684212\n",
      "T1585: 0.13815789473684212\n",
      "T1586: 0.13815789473684212\n",
      "T1587: 0.13815789473684212\n",
      "T1588: 0.13815789473684212\n",
      "T1589: 0.13815789473684212\n",
      "T1590: 0.13815789473684212\n",
      "T1591: 0.13815789473684212\n",
      "T1592: 0.13815789473684212\n",
      "T1593: 0.13815789473684212\n",
      "T1594: 0.13815789473684212\n",
      "T1595: 0.13815789473684212\n",
      "T1596: 0.13815789473684212\n",
      "T1597: 0.13815789473684212\n",
      "T1598: 0.13815789473684212\n",
      "T1599: 0.13815789473684212\n",
      "T1600: 0.13815789473684212\n",
      "T1601: 0.13815789473684212\n",
      "T1602: 0.13815789473684212\n",
      "T1606: 0.13815789473684212\n",
      "T1608: 0.13815789473684212\n",
      "T1609: 0.13815789473684212\n",
      "T1610: 0.13815789473684212\n",
      "T1611: 0.13815789473684212\n",
      "T1612: 0.13815789473684212\n",
      "T1613: 0.13815789473684212\n",
      "T1614: 0.13815789473684212\n",
      "T1615: 0.13815789473684212\n",
      "T1619: 0.13815789473684212\n",
      "T1620: 0.13815789473684212\n",
      "T1621: 0.13815789473684212\n",
      "T1622: 0.13815789473684212\n",
      "T1647: 0.13815789473684212\n"
     ]
    }
   ],
   "source": [
    "print(\"------Validation results --------\")\n",
    "print(BEST_F1)\n",
    "\n",
    "print(\"F1 scores per class\")\n",
    "y_train_df = train.drop(train.columns[0:2], axis=1)\n",
    "\n",
    "f1_best_metrics = compute_metrics(BEST_PREDICTED, BEST_TRUE, f1_score, test.columns[16:-3], 185)\n",
    "print(\"----------------------------------\")\n",
    "\n",
    "print(\"Recall scores per class\")\n",
    "recall_best_metrics = compute_metrics(BEST_PREDICTED, BEST_TRUE, recall_score, test.columns[16:-3], 185)\n",
    "print(\"----------------------------------\")\n",
    "\n",
    "print(\"Precision scores per class\")\n",
    "precision_best_metrics = compute_metrics(BEST_PREDICTED, BEST_TRUE, precision_score, test.columns[16:-3], 185)\n",
    "print(\"----------------------------------\")\n",
    "\n",
    "print(\"Accuracy scores per class\")\n",
    "acc_best_metrics = compute_metrics(BEST_PREDICTED, BEST_TRUE, accuracy_score, test.columns[16:-3], 185)"
   ]
  },
  {
   "cell_type": "code",
   "execution_count": 82,
   "id": "08b171ec",
   "metadata": {},
   "outputs": [
    {
     "name": "stdout",
     "output_type": "stream",
     "text": [
      "T1005    88\n",
      "T1006     0\n",
      "T1007     0\n",
      "T1008     0\n",
      "T1010     1\n",
      "         ..\n",
      "T1619     0\n",
      "T1620     1\n",
      "T1621     0\n",
      "T1622     0\n",
      "T1647     0\n",
      "Length: 183, dtype: object\n"
     ]
    },
    {
     "data": {
      "image/png": "[encoded data removed]",
      "text/plain": [
       "<Figure size 640x480 with 2 Axes>"
      ]
     },
     "metadata": {},
     "output_type": "display_data"
    }
   ],
   "source": [
    "print_F1_based_on_distribution(BEST_PREDICTED, BEST_TRUE, y_train_df,  test.columns[16:-3])"
   ]
  },
  {
   "cell_type": "code",
   "execution_count": 83,
   "id": "d3edea3d",
   "metadata": {},
   "outputs": [
    {
     "data": {
      "image/png": "[encoded data removed]",
      "text/plain": [
       "<Figure size 640x480 with 2 Axes>"
      ]
     },
     "metadata": {},
     "output_type": "display_data"
    }
   ],
   "source": [
    "print_precision_based_on_distribution(BEST_PREDICTED, BEST_TRUE, y_train_df,  test.columns[16:-3])"
   ]
  },
  {
   "cell_type": "code",
   "execution_count": 84,
   "id": "8131c81c",
   "metadata": {},
   "outputs": [],
   "source": [
    "def print_F1_based_on_distribution(y_true, y_pred, Y, columns):\n",
    "  fig,ax = plt.subplots()\n",
    "\n",
    "  results = pd.DataFrame(columns = columns)\n",
    "  results.loc[len(results)] = f1_score(y_true, y_pred, average=None)\n",
    "\n",
    "\n",
    "  Y_count = Y.apply(np.sum, axis=0)\n",
    "\n",
    "  Y_count_sorted = Y_count[16:-3].sort_values(ascending=False)\n",
    "  Y_count_sorted = Y_count_sorted[Y_count_sorted > 25]\n",
    "\n",
    "  ax.bar(Y_count_sorted.index, Y_count_sorted.values)\n",
    "  ax.set_xlabel(\"Techniques\")\n",
    "  ax.set_ylabel(\"Number of CVEs\")\n",
    "  plt.xticks(rotation=90)\n",
    "\n",
    "  ax2=ax.twinx()\n",
    "  ax2.plot(Y_count_sorted.index, results[Y_count_sorted.index].iloc[0], color='red')\n",
    "  ax2.set_ylabel(\"F1 Score\")\n",
    "\n",
    "  ax = plt.gca()\n",
    "  plt.show()"
   ]
  },
  {
   "cell_type": "code",
   "execution_count": 85,
   "id": "920b09ba",
   "metadata": {},
   "outputs": [],
   "source": [
    "def print_precision_based_on_distribution(y_true, y_pred, Y, columns):\n",
    "  fig,ax = plt.subplots()\n",
    "\n",
    "  results = pd.DataFrame(columns = columns)\n",
    "  results.loc[len(results)] = precision_score(y_true, y_pred, average=None)\n",
    "\n",
    "\n",
    "  Y_count = Y.apply(np.sum, axis=0)\n",
    "\n",
    "  # print(Y_count[0:14])\n",
    "\n",
    "  Y_count_sorted = Y_count[16:-3].sort_values(ascending=False)\n",
    "  Y_count_sorted = Y_count_sorted[Y_count_sorted > 25]\n",
    "\n",
    "\n",
    "  ax.bar(Y_count_sorted.index, Y_count_sorted.values)\n",
    "  ax.set_xlabel(\"Techniques\")\n",
    "  ax.set_ylabel(\"Number of CVEs\")\n",
    "  plt.xticks(rotation=90)\n",
    "\n",
    "  ax2=ax.twinx()\n",
    "  ax2.plot(Y_count_sorted.index, results[Y_count_sorted.index].iloc[0], color='red')\n",
    "  ax2.set_ylabel(\"Precision Score\")\n",
    "\n",
    "  ax = plt.gca()\n",
    "  plt.show()"
   ]
  },
  {
   "cell_type": "code",
   "execution_count": 86,
   "id": "d97b3416",
   "metadata": {},
   "outputs": [
    {
     "data": {
      "image/png": "[encoded data removed]",
      "text/plain": [
       "<Figure size 640x480 with 2 Axes>"
      ]
     },
     "metadata": {},
     "output_type": "display_data"
    }
   ],
   "source": [
    "print_F1_based_on_distribution(BEST_PREDICTED, BEST_TRUE, y_train_df,  test.columns[16:-3])"
   ]
  },
  {
   "cell_type": "code",
   "execution_count": 87,
   "id": "c7708c83",
   "metadata": {},
   "outputs": [
    {
     "data": {
      "image/png": "[encoded data removed]",
      "text/plain": [
       "<Figure size 640x480 with 2 Axes>"
      ]
     },
     "metadata": {},
     "output_type": "display_data"
    }
   ],
   "source": [
    "print_precision_based_on_distribution(BEST_PREDICTED, BEST_TRUE, y_train_df,  test.columns[16:-3])"
   ]
  }
 ],
 "metadata": {
  "kernelspec": {
   "display_name": "dl_final",
   "language": "python",
   "name": "python3"
  },
  "language_info": {
   "codemirror_mode": {
    "name": "ipython",
    "version": 3
   },
   "file_extension": ".py",
   "mimetype": "text/x-python",
   "name": "python",
   "nbconvert_exporter": "python",
   "pygments_lexer": "ipython3",
   "version": "3.12.7"
  }
 },
 "nbformat": 4,
 "nbformat_minor": 5
}
