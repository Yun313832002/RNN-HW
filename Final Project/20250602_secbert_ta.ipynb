{
 "cells": [
  {
   "cell_type": "code",
   "execution_count": 1,
   "id": "8d95e049",
   "metadata": {},
   "outputs": [],
   "source": [
    "import os\n",
    "os.environ[\"TOKENIZERS_PARALLELISM\"] = \"false\"\n",
    "import pandas as pd\n",
    "import numpy as np\n",
    "import sklearn\n",
    "import re\n",
    "import math\n",
    "import joblib\n",
    "from tqdm.notebook import tqdm\n",
    "import matplotlib.pyplot as plt"
   ]
  },
  {
   "cell_type": "code",
   "execution_count": 2,
   "id": "0db3d77a",
   "metadata": {},
   "outputs": [],
   "source": [
    "import pandas as pd\n",
    "import numpy as np\n",
    "import pickle\n",
    "import matplotlib.pyplot as plt\n",
    "import seaborn as sns\n",
    "import re\n",
    "import copy\n",
    "from tqdm import tqdm\n",
    "import gc\n",
    "\n",
    "import torch\n",
    "import torch.nn as nn\n",
    "import torch.nn.functional as F\n",
    "from torch import optim\n",
    "from torch.utils.data import Dataset, DataLoader\n",
    "\n",
    "from sklearn.model_selection import train_test_split\n",
    "\n",
    "from sklearn.metrics import (\n",
    "    accuracy_score,\n",
    "    f1_score,\n",
    "    precision_score,\n",
    "    recall_score,\n",
    "    classification_report\n",
    ")\n",
    "\n",
    "from transformers import (\n",
    "    AutoTokenizer,\n",
    "    AutoModel,\n",
    "    get_linear_schedule_with_warmup\n",
    ")\n",
    "\n",
    "import nltk\n",
    "import re\n",
    "from nltk.corpus import stopwords\n",
    "from nltk.stem import PorterStemmer, WordNetLemmatizer\n",
    "from nltk.tokenize import word_tokenize\n",
    "\n",
    "from transformers import BertTokenizer, BertForMaskedLM\n",
    "\n",
    "from sklearn.metrics import (\n",
    "    recall_score,\n",
    "    precision_score\n",
    "  )\n",
    "\n",
    "from sklearn.metrics import multilabel_confusion_matrix"
   ]
  },
  {
   "cell_type": "code",
   "execution_count": 3,
   "id": "a757780c",
   "metadata": {},
   "outputs": [],
   "source": [
    "from nltk.corpus import stopwords\n",
    "from nltk.corpus import wordnet\n",
    "from nltk.tokenize import word_tokenize\n",
    "from nltk.stem import WordNetLemmatizer\n",
    "from nltk import pos_tag\n",
    "import nltk"
   ]
  },
  {
   "cell_type": "code",
   "execution_count": 4,
   "id": "dac02406",
   "metadata": {},
   "outputs": [],
   "source": [
    "import warnings\n",
    "from sklearn.exceptions import UndefinedMetricWarning\n",
    "warnings.filterwarnings(\"ignore\", category=FutureWarning)\n",
    "warnings.filterwarnings(\"ignore\", category=UndefinedMetricWarning)"
   ]
  },
  {
   "cell_type": "code",
   "execution_count": 5,
   "id": "9b56fa49",
   "metadata": {},
   "outputs": [
    {
     "name": "stdout",
     "output_type": "stream",
     "text": [
      "Time now: 06-02-22-35\n"
     ]
    }
   ],
   "source": [
    "time_now = pd.Timestamp.now().strftime(\"%m-%d-%H-%M\")\n",
    "print(f\"Time now: {time_now}\")"
   ]
  },
  {
   "cell_type": "markdown",
   "id": "886c73dc",
   "metadata": {},
   "source": [
    "# Config"
   ]
  },
  {
   "cell_type": "code",
   "execution_count": 6,
   "id": "10e0995a",
   "metadata": {},
   "outputs": [],
   "source": [
    "class Config:\n",
    "    def __init__(self):\n",
    "        super(Config, self).__init__()\n",
    "\n",
    "        self.SEED = 42\n",
    "        self.MODEL_PATH = 'jackaduma/SecBERT'\n",
    "        self.NUM_LABELS_TA = 14\n",
    "        self.NUM_LABELS_TE = 185\n",
    "\n",
    "        self.TOKENIZER = BertTokenizer.from_pretrained(self.MODEL_PATH)\n",
    "        self.MAX_LENGTH = 320\n",
    "        self.BATCH_SIZE = 16\n",
    "\n",
    "        self.DEVICE = torch.device('cuda' if torch.cuda.is_available() else 'cpu')\n",
    "        self.FULL_FINETUNING = True\n",
    "        self.LR = 3e-5\n",
    "        self.OPTIMIZER = 'AdamW'\n",
    "        self.CRITERION = 'BCEWithLogitsLoss'\n",
    "        self.N_VALIDATE_DUR_TRAIN = 3\n",
    "        self.N_WARMUP = 0\n",
    "        self.SAVE_BEST_ONLY = True\n",
    "        self.EPOCHS = 50"
   ]
  },
  {
   "cell_type": "code",
   "execution_count": 7,
   "id": "d739eb03",
   "metadata": {},
   "outputs": [],
   "source": [
    "TACTIC = ['TA0001', 'TA0002', 'TA0003', 'TA0004', 'TA0005', 'TA0006', 'TA0007', 'TA0008', 'TA0009', 'TA0010', 'TA0011', 'TA0040', 'TA0042', 'TA0043']\n",
    "TECHNIQUE = ['T1001', 'T1003', 'T1005', 'T1006', 'T1007', 'T1008', 'T1010', 'T1011', 'T1012', 'T1014', 'T1016', 'T1018', 'T1020', 'T1021', 'T1025', 'T1027', 'T1029', 'T1030', 'T1033', 'T1036', 'T1037', 'T1039', 'T1040', 'T1041', 'T1046', 'T1047', 'T1048', 'T1049', 'T1052', 'T1053', 'T1055', 'T1056', 'T1057', 'T1059', 'T1068', 'T1069', 'T1071', 'T1072', 'T1074', 'T1078', 'T1080', 'T1082', 'T1083', 'T1087', 'T1090', 'T1091', 'T1092', 'T1095', 'T1098', 'T1102', 'T1104', 'T1105', 'T1106', 'T1110', 'T1111', 'T1112', 'T1113', 'T1114', 'T1115', 'T1119', 'T1120', 'T1123', 'T1124', 'T1125', 'T1127', 'T1129', 'T1132', 'T1133', 'T1134', 'T1135', 'T1136', 'T1137', 'T1140', 'T1176', 'T1185', 'T1187', 'T1189', 'T1190', 'T1195', 'T1197', 'T1199', 'T1200', 'T1201', 'T1202', 'T1203', 'T1204', 'T1205', 'T1207', 'T1210', 'T1211', 'T1212', 'T1213', 'T1216', 'T1218', 'T1220', 'T1221', 'T1222', 'T1480', 'T1482', 'T1485', 'T1486', 'T1489', 'T1490', 'T1491', 'T1495', 'T1496', 'T1497', 'T1498', 'T1499', 'T1505', 'T1518', 'T1525', 'T1526', 'T1528', 'T1529', 'T1531', 'T1534', 'T1535', 'T1537', 'T1538', 'T1539', 'T1542', 'T1543', 'T1546', 'T1547', 'T1548', 'T1550', 'T1552', 'T1553', 'T1555', 'T1556', 'T1557', 'T1558', 'T1559', 'T1560', 'T1561', 'T1562', 'T1563', 'T1564', 'T1565', 'T1566', 'T1567', 'T1568', 'T1569', 'T1570', 'T1571', 'T1572', 'T1573', 'T1574', 'T1578', 'T1580', 'T1583', 'T1584', 'T1585', 'T1586', 'T1587', 'T1588', 'T1589', 'T1590', 'T1591', 'T1592', 'T1593', 'T1594', 'T1595', 'T1596', 'T1597', 'T1598', 'T1599', 'T1600', 'T1601', 'T1602', 'T1606', 'T1608', 'T1609', 'T1610', 'T1611', 'T1612', 'T1613', 'T1614', 'T1615', 'T1619', 'T1620', 'T1621', 'T1622', 'T1647']\n",
    "TACTICS_TECHNIQUES_RELATIONSHIP_DF = {\n",
    "\"TA0001\":pd.Series(['T1078', 'T1091', 'T1133', 'T1189', 'T1190', 'T1195', 'T1199', 'T1200', 'T1566', 'T1659', 'T1669']),\n",
    "\"TA0002\":pd.Series(['T1047', 'T1053', 'T1059', 'T1072', 'T1106', 'T1129', 'T1203', 'T1204', 'T1559', 'T1569', 'T1609', 'T1610', 'T1648', 'T1651', 'T1674', 'T1675']),\n",
    "\"TA0003\":pd.Series(['T1037', 'T1053', 'T1078', 'T1098', 'T1112', 'T1133', 'T1136', 'T1137', 'T1176', 'T1197', 'T1205', 'T1505', 'T1525', 'T1542', 'T1543', 'T1546', 'T1547', 'T1554', 'T1556', 'T1574', 'T1653', 'T1668', 'T1671']),\n",
    "\"TA0004\":pd.Series(['T1037', 'T1053', 'T1055', 'T1068', 'T1078', 'T1098', 'T1134', 'T1484', 'T1543', 'T1546', 'T1547', 'T1548', 'T1574', 'T1611']),\n",
    "\"TA0005\":pd.Series(['T1006', 'T1014', 'T1027', 'T1036', 'T1055', 'T1070', 'T1078', 'T1112', 'T1127', 'T1134', 'T1140', 'T1197', 'T1202', 'T1205', 'T1207', 'T1211', 'T1216', 'T1218', 'T1220', 'T1221', 'T1222', 'T1480', 'T1484', 'T1497', 'T1535', 'T1542', 'T1548', 'T1550', 'T1553', 'T1556', 'T1562', 'T1564', 'T1574', 'T1578', 'T1599', 'T1600', 'T1601', 'T1610', 'T1612', 'T1620', 'T1622', 'T1647', 'T1656', 'T1666', 'T1672']),\n",
    "\"TA0006\":pd.Series(['T1003', 'T1040', 'T1056', 'T1110', 'T1111', 'T1187', 'T1212', 'T1528', 'T1539', 'T1552', 'T1555', 'T1556', 'T1557', 'T1558', 'T1606', 'T1621', 'T1649']),\n",
    "\"TA0007\":pd.Series(['T1007', 'T1010', 'T1012', 'T1016', 'T1018', 'T1033', 'T1040', 'T1046', 'T1049', 'T1057', 'T1069', 'T1082', 'T1083', 'T1087', 'T1120', 'T1124', 'T1135', 'T1201', 'T1217', 'T1482', 'T1497', 'T1518', 'T1526', 'T1538', 'T1580', 'T1613', 'T1614', 'T1615', 'T1619', 'T1622', 'T1652', 'T1654', 'T1673']),\n",
    "\"TA0008\":pd.Series(['T1021', 'T1072', 'T1080', 'T1091', 'T1210', 'T1534', 'T1550', 'T1563', 'T1570']),\n",
    "\"TA0009\":pd.Series(['T1005', 'T1025', 'T1039', 'T1056', 'T1074', 'T1113', 'T1114', 'T1115', 'T1119', 'T1123', 'T1125', 'T1185', 'T1213', 'T1530', 'T1557', 'T1560', 'T1602']),\n",
    "\"TA0010\":pd.Series(['T1011', 'T1020', 'T1029', 'T1030', 'T1041', 'T1048', 'T1052', 'T1537', 'T1567']),\n",
    "\"TA0011\":pd.Series(['T1001', 'T1008', 'T1071', 'T1090', 'T1092', 'T1095', 'T1102', 'T1104', 'T1105', 'T1132', 'T1205', 'T1219', 'T1568', 'T1571', 'T1572', 'T1573', 'T1659', 'T1665']),\n",
    "\"TA0040\":pd.Series(['T1485', 'T1486', 'T1489', 'T1490', 'T1491', 'T1495', 'T1496', 'T1498', 'T1499', 'T1529', 'T1531', 'T1561', 'T1565', 'T1657', 'T1667']),                \n",
    "\"TA0042\":pd.Series(['T1583', 'T1584', 'T1585', 'T1586', 'T1587', 'T1588', 'T1608', 'T1650']),\n",
    "\"TA0043\":pd.Series(['T1589', 'T1590', 'T1591', 'T1592', 'T1593', 'T1594', 'T1595', 'T1596', 'T1597', 'T1598'])\n",
    "}"
   ]
  },
  {
   "cell_type": "code",
   "execution_count": 8,
   "id": "07f6f833",
   "metadata": {},
   "outputs": [],
   "source": [
    "df = pd.read_csv('merged_all_columns.csv', encoding='utf-8')\n",
    "# df_attack['tactic_label'] = df_attack.apply(lambda x: list(x[TACTIC]), axis=1)\n",
    "# df_attack['technique_label'] = df_attack.apply(lambda x: list(x[TECHNIQUE]), axis=1)\n",
    "\n",
    "df_tactic_labels = df[TACTIC]\n",
    "df_technique_labels = df[TECHNIQUE]"
   ]
  },
  {
   "cell_type": "code",
   "execution_count": 9,
   "id": "767f45c3",
   "metadata": {},
   "outputs": [
    {
     "name": "stdout",
     "output_type": "stream",
     "text": [
      "      TA0001  TA0002  TA0003  TA0004  TA0005  TA0006  TA0007  TA0008  TA0009  \\\n",
      "0          1       1       0       0       0       0       0       0       0   \n",
      "1          1       1       0       0       0       0       0       0       0   \n",
      "2          0       1       0       0       0       1       0       0       0   \n",
      "3          1       1       0       0       0       0       0       0       0   \n",
      "4          1       0       0       1       1       0       0       0       0   \n",
      "...      ...     ...     ...     ...     ...     ...     ...     ...     ...   \n",
      "1513       0       1       1       0       0       0       0       0       0   \n",
      "1514       0       0       0       0       0       0       0       0       0   \n",
      "1515       0       0       0       1       0       0       0       0       0   \n",
      "1516       0       1       0       0       0       0       0       0       1   \n",
      "1517       0       0       0       0       0       0       0       0       0   \n",
      "\n",
      "      TA0010  TA0011  TA0040  TA0042  TA0043  \n",
      "0          0       0       0       0       0  \n",
      "1          0       0       0       0       0  \n",
      "2          0       0       0       0       0  \n",
      "3          0       0       0       0       0  \n",
      "4          0       0       0       0       0  \n",
      "...      ...     ...     ...     ...     ...  \n",
      "1513       0       0       0       0       0  \n",
      "1514       0       0       1       0       0  \n",
      "1515       0       0       0       0       0  \n",
      "1516       0       0       0       0       0  \n",
      "1517       0       0       0       1       0  \n",
      "\n",
      "[1518 rows x 14 columns]\n"
     ]
    }
   ],
   "source": [
    "print(df_tactic_labels)"
   ]
  },
  {
   "cell_type": "code",
   "execution_count": 10,
   "id": "7e4b3ee8",
   "metadata": {},
   "outputs": [
    {
     "name": "stdout",
     "output_type": "stream",
     "text": [
      "      T1001  T1003  T1005  T1006  T1007  T1008  T1010  T1011  T1012  T1014  \\\n",
      "0         0      0      0      0      0      0      0      0      0      0   \n",
      "1         0      0      0      0      0      0      0      0      0      0   \n",
      "2         0      1      0      0      0      0      0      0      0      0   \n",
      "3         0      0      0      0      0      0      0      0      0      0   \n",
      "4         0      0      0      0      0      0      0      0      0      0   \n",
      "...     ...    ...    ...    ...    ...    ...    ...    ...    ...    ...   \n",
      "1513      0      0      0      0      0      0      0      0      0      0   \n",
      "1514      0      0      0      0      0      0      0      0      0      0   \n",
      "1515      0      0      0      0      0      0      0      0      0      0   \n",
      "1516      0      0      1      0      0      0      0      0      0      0   \n",
      "1517      0      0      0      0      0      0      0      0      0      0   \n",
      "\n",
      "      ...  T1611  T1612  T1613  T1614  T1615  T1619  T1620  T1621  T1622  \\\n",
      "0     ...      0      0      0      0      0      0      0      0      0   \n",
      "1     ...      0      0      0      0      0      0      0      0      0   \n",
      "2     ...      0      0      0      0      0      0      0      0      0   \n",
      "3     ...      0      0      0      0      0      0      0      0      0   \n",
      "4     ...      0      0      0      0      0      0      0      0      0   \n",
      "...   ...    ...    ...    ...    ...    ...    ...    ...    ...    ...   \n",
      "1513  ...      0      0      0      0      0      0      0      0      0   \n",
      "1514  ...      0      0      0      0      0      0      0      0      0   \n",
      "1515  ...      0      0      0      0      0      0      0      0      0   \n",
      "1516  ...      0      0      0      0      0      0      0      0      0   \n",
      "1517  ...      0      0      0      0      0      0      0      0      0   \n",
      "\n",
      "      T1647  \n",
      "0         0  \n",
      "1         0  \n",
      "2         0  \n",
      "3         0  \n",
      "4         0  \n",
      "...     ...  \n",
      "1513      0  \n",
      "1514      0  \n",
      "1515      0  \n",
      "1516      0  \n",
      "1517      0  \n",
      "\n",
      "[1518 rows x 185 columns]\n"
     ]
    }
   ],
   "source": [
    "print(df_technique_labels)"
   ]
  },
  {
   "cell_type": "code",
   "execution_count": 11,
   "id": "919865c1",
   "metadata": {},
   "outputs": [],
   "source": [
    "df['tactic_label'] = df.apply(lambda x: list(x[TACTIC]), axis=1)\n",
    "df['technique_label'] = df.apply(lambda x: list(x[TECHNIQUE]), axis=1)\n"
   ]
  },
  {
   "cell_type": "markdown",
   "id": "5b7fc8c7",
   "metadata": {},
   "source": [
    "# Data processing"
   ]
  },
  {
   "cell_type": "code",
   "execution_count": 12,
   "id": "5018de80",
   "metadata": {},
   "outputs": [],
   "source": [
    "from nltk.corpus import stopwords\n",
    "from nltk.corpus import wordnet\n",
    "from nltk.tokenize import word_tokenize\n",
    "from nltk.stem import WordNetLemmatizer\n",
    "from nltk import pos_tag\n",
    "import nltk"
   ]
  },
  {
   "cell_type": "code",
   "execution_count": 13,
   "id": "173e00c0",
   "metadata": {},
   "outputs": [
    {
     "name": "stdout",
     "output_type": "stream",
     "text": [
      "punkt ⛔ 未安裝，開始下載...\n",
      "stopwords ⛔ 未安裝，開始下載...\n",
      "wordnet ⛔ 未安裝，開始下載...\n",
      "omw-1.4 ⛔ 未安裝，開始下載...\n",
      "averaged_perceptron_tagger ⛔ 未安裝，開始下載...\n",
      "averaged_perceptron_tagger_eng ⛔ 未安裝，開始下載...\n"
     ]
    },
    {
     "name": "stderr",
     "output_type": "stream",
     "text": [
      "[nltk_data] Downloading package punkt to\n",
      "[nltk_data]     C:\\Users\\user\\AppData\\Roaming\\nltk_data...\n",
      "[nltk_data]   Package punkt is already up-to-date!\n",
      "[nltk_data] Downloading package stopwords to\n",
      "[nltk_data]     C:\\Users\\user\\AppData\\Roaming\\nltk_data...\n",
      "[nltk_data]   Package stopwords is already up-to-date!\n",
      "[nltk_data] Downloading package wordnet to\n",
      "[nltk_data]     C:\\Users\\user\\AppData\\Roaming\\nltk_data...\n",
      "[nltk_data]   Package wordnet is already up-to-date!\n",
      "[nltk_data] Downloading package omw-1.4 to\n",
      "[nltk_data]     C:\\Users\\user\\AppData\\Roaming\\nltk_data...\n",
      "[nltk_data]   Package omw-1.4 is already up-to-date!\n",
      "[nltk_data] Downloading package averaged_perceptron_tagger to\n",
      "[nltk_data]     C:\\Users\\user\\AppData\\Roaming\\nltk_data...\n",
      "[nltk_data]   Package averaged_perceptron_tagger is already up-to-\n",
      "[nltk_data]       date!\n",
      "[nltk_data] Downloading package averaged_perceptron_tagger_eng to\n",
      "[nltk_data]     C:\\Users\\user\\AppData\\Roaming\\nltk_data...\n",
      "[nltk_data]   Package averaged_perceptron_tagger_eng is already up-to-\n",
      "[nltk_data]       date!\n"
     ]
    }
   ],
   "source": [
    "import nltk\n",
    "\n",
    "resources = [\n",
    "    \"punkt\",\n",
    "    \"stopwords\",\n",
    "    \"wordnet\",\n",
    "    \"omw-1.4\",\n",
    "    \"averaged_perceptron_tagger\",\n",
    "    \"averaged_perceptron_tagger_eng\"\n",
    "]\n",
    "\n",
    "for res in resources:\n",
    "    try:\n",
    "        nltk.data.find(res)\n",
    "        print(f\"{res} ✅ 已安裝\")\n",
    "    except LookupError:\n",
    "        print(f\"{res} ⛔ 未安裝，開始下載...\")\n",
    "        nltk.download(res)\n"
   ]
  },
  {
   "cell_type": "code",
   "execution_count": 14,
   "id": "6f7cf101",
   "metadata": {},
   "outputs": [],
   "source": [
    "def get_wordnet_pos(tag):\n",
    "    if tag.startswith('J'):\n",
    "        return wordnet.ADJ\n",
    "    elif tag.startswith('V'):\n",
    "        return wordnet.VERB\n",
    "    elif tag.startswith('N'):\n",
    "        return wordnet.NOUN\n",
    "    elif tag.startswith('R'):\n",
    "        return wordnet.ADV\n",
    "    else:\n",
    "        return 'n'\n",
    "\n",
    "def ioc_sub(text):\n",
    "    def reg_handler(obj):\n",
    "        s = obj.group(1)\n",
    "        s = ' '.join(s.split('\\\\'))\n",
    "        return s\n",
    "\n",
    "    def file_handler(obj):\n",
    "        s = obj.group(2)\n",
    "        s = s.split('\\\\')[-1]\n",
    "        return s\n",
    "    \n",
    "    text = re.sub(r'(?:(?:25[0-5]|2[0-4][0-9]|[01]?[0-9][0-9]?)(\\.|\\[\\.\\])){3}(?:25[0-5]|2[0-4][0-9]|[01]?[0-9][0-9]?)(\\/([0-2][0-9]|3[0-2]|[0-9]))?', 'IPv4', text)\n",
    "    text = re.sub(r'\\b(\\d{1,3}\\.\\d{1,3}\\.\\d{1,3}\\.\\d{1,3})\\b', 'IP', text)\n",
    "    text = re.sub(r'\\b(CVE\\-[0-9]{4}\\-[0-9]{4,6})\\b', 'CVE', text)\n",
    "    text = re.sub(r'CVE-[0-9]{4}-[0-9]{4,6}', 'vulnerability', text)\n",
    "    text = re.sub(r'\\b([a-z][_a-z0-9-.]+@[a-z0-9-]+\\.[a-z]+)\\b', 'email', text)\n",
    "    text = re.sub(r'\\b((HKLM|HKCU|HKCR|HKU|HKCC)\\\\[\\\\A-Za-z0-9-_]+)\\b', reg_handler, text)\n",
    "    text = re.sub(r'\\b([a-zA-Z]{1}:\\\\([0-9a-zA-Z_\\.\\-\\/\\\\]+))\\b', file_handler, text)\n",
    "    text = re.sub(r'\\b([a-f0-9]{32}|[A-F0-9]{32})\\b', 'MD5', text)\n",
    "    text = re.sub(r'\\b([a-f0-9]{40}|[A-F0-9]{40})\\b', 'SHA1', text)\n",
    "    text = re.sub(r'\\b([a-f0-9]{64}|[A-F0-9]{64})\\b', 'SHA256', text)\n",
    "    text = re.sub(r'\\d+:[A-Za-z0-9/+]+:[A-Za-z0-9/+]+', 'ssdeep', text)\n",
    "    text = re.sub(r'\\b[a-fA-F\\d]{32}\\b|\\b[a-fA-F\\d]{40}\\b|\\b[a-fA-F\\d]{64}\\b', 'hash', text)\n",
    "    text = re.sub(r'h[tx][tx]ps?:[\\\\\\/][\\\\\\/](?:[0-9a-zA-Z_\\.\\-\\/\\\\]|\\[\\.\\])+', 'URL', text)\n",
    "    text = re.sub(r'((?:[0-9a-zA-Z_\\-]+\\.)+(?:(?!exe|dll)[a-z]{2,4}))', 'domain', text)\n",
    "    text = re.sub(r'[a-fA-F0-9]{16}', '', text)\n",
    "    text = re.sub(r'[0-9]{8}', '', text)\n",
    "    text = re.sub(r'x[A-Fa-f0-9]{2}', '', text)\n",
    "    \n",
    "    return text\n",
    "\n",
    "def rmstopword_and_lemmatize(text):\n",
    "    token = [word for word in word_tokenize(text.lower()) if word not in stopwords.words('english')]\n",
    "    # tag = pos_tag(token)\n",
    "    tag = nltk.pos_tag(token, lang='eng')\n",
    "    lemmatizer = WordNetLemmatizer()\n",
    "    text = ' '.join(list(map(lambda x: lemmatizer.lemmatize(x[0], pos=get_wordnet_pos(x[1])), tag)))\n",
    "    \n",
    "    return text\n",
    "\n",
    "def preprocess(text):\n",
    "    text = str(text)\n",
    "    #text = text.lower()\n",
    "    text = re.sub(r'etc\\.', '', text)\n",
    "    text = re.sub(r'et al\\.', '', text)\n",
    "    text = re.sub(r'e\\.g\\.', '', text)\n",
    "    text = re.sub(r'i\\.e\\.', '', text)\n",
    "    #text = re.sub(r'\\[.\\]', '.', text)\n",
    "    text = re.sub(r'\\[\\d+\\]', '', text)\n",
    "    \n",
    "    text = ioc_sub(text)\n",
    "    \n",
    "    text = re.sub(r'[^A-Za-z0-9_\\[\\]]', ' ', text)\n",
    "    text = re.sub(r'\\s+', ' ', text)\n",
    "    \n",
    "    text = rmstopword_and_lemmatize(text)\n",
    "    \n",
    "    text = re.sub(r'[\\[\\]]', ' ', text)\n",
    "    text = re.sub(r' [a-z0-9] ', '', text)\n",
    "    \n",
    "    return text\n"
   ]
  },
  {
   "cell_type": "code",
   "execution_count": 15,
   "id": "d0b15fb5",
   "metadata": {},
   "outputs": [],
   "source": [
    "df['text_clean'] = df['Text'].map(lambda t: preprocess(t))"
   ]
  },
  {
   "cell_type": "code",
   "execution_count": 16,
   "id": "a1f45aa4",
   "metadata": {},
   "outputs": [
    {
     "name": "stdout",
     "output_type": "stream",
     "text": [
      "waspthemes visual cs style editor aka yellow pencil visual theme customizer plugin2wordpress allows yp_option_update csrf demonstrate use yp_remote_get obtain admin access\n"
     ]
    }
   ],
   "source": [
    "print(df['text_clean'][0])"
   ]
  },
  {
   "cell_type": "code",
   "execution_count": 17,
   "id": "786ca6fc",
   "metadata": {},
   "outputs": [
    {
     "name": "stdout",
     "output_type": "stream",
     "text": [
      "ID                                                    CVE_2019_11886\n",
      "Text               The WaspThemes Visual CSS Style Editor (aka ye...\n",
      "TA0001                                                             1\n",
      "TA0002                                                             1\n",
      "TA0003                                                             0\n",
      "                                         ...                        \n",
      "T1622                                                              0\n",
      "T1647                                                              0\n",
      "tactic_label              [1, 1, 0, 0, 0, 0, 0, 0, 0, 0, 0, 0, 0, 0]\n",
      "technique_label    [0, 0, 0, 0, 0, 0, 0, 0, 0, 0, 0, 0, 0, 0, 0, ...\n",
      "text_clean         waspthemes visual cs style editor aka yellow p...\n",
      "Name: 0, Length: 204, dtype: object\n"
     ]
    }
   ],
   "source": [
    "print(df.iloc[0])"
   ]
  },
  {
   "cell_type": "markdown",
   "id": "a410a869",
   "metadata": {},
   "source": [
    "# Dataset & Dataloader"
   ]
  },
  {
   "cell_type": "code",
   "execution_count": 18,
   "id": "d1025229",
   "metadata": {},
   "outputs": [],
   "source": [
    "def get_texts(df):\n",
    "    texts = df['text']\n",
    "    texts = texts.values.tolist()\n",
    "    return texts\n",
    "\n",
    "def get_labels(df):\n",
    "    labels = df['labels'].values\n",
    "    return labels\n",
    "\n",
    "def get_ids(df):\n",
    "    ids = df['ID'].values.tolist()"
   ]
  },
  {
   "cell_type": "code",
   "execution_count": 19,
   "id": "75e4f49b",
   "metadata": {},
   "outputs": [],
   "source": [
    "from torch.utils.data import Dataset, DataLoader\n",
    "class TransformerDataset_ta(Dataset):\n",
    "    def __init__(self, df, indices, set_type=None):\n",
    "        super(TransformerDataset_ta, self).__init__()\n",
    "\n",
    "        df = df.iloc[indices]\n",
    "        self.texts = get_texts(df)\n",
    "        self.set_type = set_type\n",
    "        if self.set_type != 'test':\n",
    "            self.labels = get_labels(df)\n",
    "\n",
    "        self.tokenizer = Config().TOKENIZER\n",
    "        self.max_length = Config().MAX_LENGTH\n",
    "\n",
    "    def __len__(self):\n",
    "        return len(self.texts)\n",
    "\n",
    "    def __getitem__(self, index):\n",
    "        tokenized = self.tokenizer.encode_plus(\n",
    "            self.texts[index],\n",
    "            max_length=self.max_length,\n",
    "            pad_to_max_length=True,\n",
    "            truncation=True,\n",
    "            return_attention_mask=True,\n",
    "            return_token_type_ids=False,\n",
    "            return_tensors='pt'\n",
    "        )\n",
    "\n",
    "        input_ids = tokenized['input_ids'].squeeze()\n",
    "        attention_mask = tokenized['attention_mask'].squeeze()\n",
    "\n",
    "        if self.set_type != 'test':\n",
    "            return {\n",
    "                'input_ids': input_ids.long(),\n",
    "                'attention_mask': attention_mask.long(),\n",
    "                'labels': torch.Tensor(self.labels[index]).float(),\n",
    "            }\n",
    "\n",
    "        return {\n",
    "            'input_ids': input_ids.long(),\n",
    "            'attention_mask': attention_mask.long(),\n",
    "        }"
   ]
  },
  {
   "cell_type": "code",
   "execution_count": 20,
   "id": "69f46327",
   "metadata": {},
   "outputs": [],
   "source": [
    "\n",
    "class TransformerDataset_te(Dataset):\n",
    "    def __init__(self, df, indices, set_type=None):\n",
    "        super(TransformerDataset_te, self).__init__()\n",
    "\n",
    "        df = df.iloc[indices]\n",
    "        self.texts = get_texts(df)\n",
    "        self.set_type = set_type\n",
    "        if self.set_type != 'test':\n",
    "            self.labels = get_labels(df)\n",
    "\n",
    "        self.tokenizer = Config().TOKENIZER\n",
    "        self.max_length = Config().MAX_LENGTH\n",
    "\n",
    "    def __len__(self):\n",
    "        return len(self.texts)\n",
    "\n",
    "    def __getitem__(self, index):\n",
    "        tokenized = self.tokenizer.encode_plus(\n",
    "            self.texts[index],\n",
    "            max_length=self.max_length,\n",
    "            pad_to_max_length=True,\n",
    "            truncation=True,\n",
    "            return_attention_mask=True,\n",
    "            return_token_type_ids=False,\n",
    "            return_tensors='pt'\n",
    "        )\n",
    "\n",
    "        input_ids = tokenized['input_ids'].squeeze()\n",
    "        attention_mask = tokenized['attention_mask'].squeeze()\n",
    "\n",
    "        if self.set_type != 'test':\n",
    "            return {\n",
    "                'input_ids': input_ids.long(),\n",
    "                'attention_mask': attention_mask.long(),\n",
    "                'labels': torch.Tensor(self.labels[index]).float(),\n",
    "            }\n",
    "\n",
    "        return {\n",
    "            'input_ids': input_ids.long(),\n",
    "            'attention_mask': attention_mask.long(),\n",
    "        }"
   ]
  },
  {
   "cell_type": "code",
   "execution_count": 21,
   "id": "a445b021",
   "metadata": {},
   "outputs": [],
   "source": [
    "from sklearn.model_selection import train_test_split\n",
    "\n",
    "train, test = train_test_split(df, test_size=0.2, random_state=2222)\n",
    "validation, test = train_test_split(test, test_size=0.5, random_state=2222)"
   ]
  },
  {
   "cell_type": "code",
   "execution_count": 22,
   "id": "0690d557",
   "metadata": {},
   "outputs": [],
   "source": [
    "df_ta_train = train[['text_clean', 'tactic_label']]\n",
    "df_ta_val = validation[['text_clean', 'tactic_label']]\n",
    "df_ta_test = test[['text_clean', 'tactic_label']]\n",
    "df_ta_train = df_ta_train.rename(columns={'text_clean':'text', 'tactic_label':'labels'})\n",
    "df_ta_val = df_ta_val.rename(columns={'text_clean':'text', 'tactic_label':'labels'})\n",
    "df_ta_test = df_ta_test.rename(columns={'text_clean':'text', 'tactic_label':'labels'})\n"
   ]
  },
  {
   "cell_type": "code",
   "execution_count": 23,
   "id": "c0d0cbeb",
   "metadata": {},
   "outputs": [],
   "source": [
    "# df_te_train = df.iloc[train.index][['text_clean', 'technique_label']]\n",
    "# df_te_val = df.iloc[validation.index][['text_clean', 'technique_label']]\n",
    "# df_te_test = df.iloc[test.index][['text_clean', 'technique_label']]\n",
    "# df_te_train = df_te_train.rename(columns={'text_clean':'text', 'technique_label':'labels'})\n",
    "# df_te_val = df_te_val.rename(columns={'text_clean':'text', 'technique_label':'labels'})\n",
    "# df_te_test = df_te_test.rename(columns={'text_clean':'text', 'technique_label':'labels'})"
   ]
  },
  {
   "cell_type": "code",
   "execution_count": 24,
   "id": "47e65de5",
   "metadata": {},
   "outputs": [],
   "source": [
    "train_data_ta = TransformerDataset_ta(df_ta_train, range(len(df_ta_train)))\n",
    "val_data_ta = TransformerDataset_ta(df_ta_val, range(len(df_ta_val)))\n",
    "test_data_ta = TransformerDataset_ta(df_ta_test, range(len(df_ta_test)))"
   ]
  },
  {
   "cell_type": "code",
   "execution_count": 25,
   "id": "c5eaf2da",
   "metadata": {},
   "outputs": [],
   "source": [
    "# train_data_te = TransformerDataset_te(df_ta_train, range(len(df_te_train)))\n",
    "# val_data_te = TransformerDataset_te(df_ta_val, range(len(df_te_val)))\n",
    "# test_data_te = TransformerDataset_te(df_ta_test, range(len(df_te_test)))"
   ]
  },
  {
   "cell_type": "code",
   "execution_count": 26,
   "id": "319cd479",
   "metadata": {},
   "outputs": [],
   "source": [
    "train_dataloader_ta = DataLoader(train_data_ta, batch_size=Config().BATCH_SIZE)\n",
    "val_dataloader_ta = DataLoader(val_data_ta, batch_size=Config().BATCH_SIZE)\n",
    "test_dataloader_ta = DataLoader(test_data_ta, batch_size=Config().BATCH_SIZE)"
   ]
  },
  {
   "cell_type": "code",
   "execution_count": 27,
   "id": "e7c67b51",
   "metadata": {},
   "outputs": [],
   "source": [
    "# train_dataloader_te = DataLoader(train_data_te, batch_size=Config().BATCH_SIZE)\n",
    "# val_dataloader_te = DataLoader(val_data_te, batch_size=Config().BATCH_SIZE)\n",
    "# test_dataloader_te = DataLoader(test_data_te, batch_size=Config().BATCH_SIZE)"
   ]
  },
  {
   "cell_type": "code",
   "execution_count": 28,
   "id": "369e1ce0",
   "metadata": {},
   "outputs": [],
   "source": [
    "train_dataloader = train_dataloader_ta\n",
    "val_dataloader = val_dataloader_ta\n",
    "test_dataloader = test_dataloader_ta"
   ]
  },
  {
   "cell_type": "code",
   "execution_count": 29,
   "id": "b1671d1a",
   "metadata": {},
   "outputs": [
    {
     "name": "stdout",
     "output_type": "stream",
     "text": [
      "input_ids shape: torch.Size([16, 320])\n",
      "attention_mask shape: torch.Size([16, 320])\n",
      "labels shape: torch.Size([16, 14])\n"
     ]
    }
   ],
   "source": [
    "b = next(iter(train_dataloader_ta))\n",
    "for k, v in b.items():\n",
    "    print(f'{k} shape: {v.shape}')"
   ]
  },
  {
   "cell_type": "markdown",
   "id": "00117a96",
   "metadata": {},
   "source": [
    "# Model"
   ]
  },
  {
   "cell_type": "code",
   "execution_count": 30,
   "id": "ff574fa8",
   "metadata": {},
   "outputs": [],
   "source": [
    "class Model(nn.Module):\n",
    "    def __init__(self):\n",
    "        super(Model, self).__init__()\n",
    "\n",
    "        self.transformer_model = AutoModel.from_pretrained(\n",
    "                Config().MODEL_PATH\n",
    "        )\n",
    "        self.dropout = nn.Dropout(0.3)\n",
    "\n",
    "        self.output = nn.Linear(768, Config().NUM_LABELS_TA)\n",
    "\n",
    "    def forward(\n",
    "        self,\n",
    "        input_ids,\n",
    "        attention_mask=None,\n",
    "        token_type_ids=None\n",
    "        ):\n",
    "\n",
    "        _, o2 = self.transformer_model(\n",
    "            input_ids=input_ids,\n",
    "            attention_mask=attention_mask,\n",
    "            token_type_ids=token_type_ids,\n",
    "            return_dict=False\n",
    "        )\n",
    "\n",
    "        x = self.dropout(o2)\n",
    "        out = self.output(x)\n",
    "\n",
    "        return out"
   ]
  },
  {
   "cell_type": "markdown",
   "id": "a5d26a57",
   "metadata": {},
   "source": [
    "# Train and test"
   ]
  },
  {
   "cell_type": "code",
   "execution_count": 31,
   "id": "5fbd1c49",
   "metadata": {},
   "outputs": [],
   "source": [
    "BEST_F1 = 0\n",
    "BEST_TRUE = []\n",
    "BEST_PREDICTED = []"
   ]
  },
  {
   "cell_type": "code",
   "execution_count": 32,
   "id": "b26a3123",
   "metadata": {},
   "outputs": [],
   "source": [
    "metrics_log = [] "
   ]
  },
  {
   "cell_type": "code",
   "execution_count": 33,
   "id": "ecdc1dc1",
   "metadata": {},
   "outputs": [],
   "source": [
    "def val(model, val_dataloader, criterion, is_final_test=False):\n",
    "    global BEST_F1, BEST_TRUE, BEST_PREDICTED, device\n",
    "\n",
    "    val_loss = 0\n",
    "    true, pred = [], []\n",
    "\n",
    "    model.eval()\n",
    "\n",
    "    results = {}\n",
    "\n",
    "    for step, batch in enumerate(val_dataloader):\n",
    "        b_input_ids = batch['input_ids'].to(device)\n",
    "        b_attention_mask = batch['attention_mask'].to(device)\n",
    "        b_labels = batch['labels'].to(device)\n",
    "\n",
    "        with torch.no_grad():\n",
    "            logits = model(input_ids=b_input_ids, attention_mask=b_attention_mask)\n",
    "\n",
    "            loss = criterion(logits, b_labels)\n",
    "            val_loss += loss.item()\n",
    "\n",
    "            logits = torch.sigmoid(logits)\n",
    "            logits = np.round(logits.cpu().numpy())\n",
    "            labels = b_labels.cpu().numpy()\n",
    "\n",
    "            pred.extend(logits)\n",
    "            true.extend(labels)\n",
    "\n",
    "    # avg_val_loss = val_loss / len(val_dataloader)\n",
    "    # print('Val loss:', avg_val_loss)\n",
    "    # print('Val accuracy:', accuracy_score(true, pred))\n",
    "\n",
    "    # print('Val precision:', precision_score(true, pred, average='weighted'))\n",
    "    # print('Val recall:', recall_score(true, pred, average='weighted'))\n",
    "\n",
    "    # val_micro_f1_score = f1_score(true, pred, average='micro')\n",
    "    # print('Val micro f1 score:', val_micro_f1_score)\n",
    "\n",
    "    # val_macro_f1_score = f1_score(true, pred, average='macro')\n",
    "    # print('Val macro f1 score:', val_macro_f1_score)\n",
    "\n",
    "    val_weighted_f1_score = f1_score(true, pred, average='weighted')\n",
    "    # print('Val weighted f1 score:', val_weighted_f1_score)\n",
    "\n",
    "    results.update({\n",
    "        \"f1_sampled\": f1_score(true, pred, average='samples', zero_division=0),\n",
    "        \"f1_micro\": f1_score(true, pred, average='micro', zero_division=0),\n",
    "        \"f1_macro\": f1_score(true, pred, average='macro', zero_division=0),\n",
    "        \"f_05_sample\": fbeta_score(true, pred, average='samples', beta=0.5, zero_division=0),\n",
    "        \"f_05_micro\": fbeta_score(true, pred, average='micro', beta=0.5, zero_division=0),\n",
    "        \"f_05_macro\": fbeta_score(true, pred, average='macro', beta=0.5, zero_division=0),\n",
    "        \"precision_sampled\": precision_score(true, pred, average='samples', zero_division=0),\n",
    "        \"precision_micro\": precision_score(true, pred, average='micro', zero_division=0),\n",
    "        \"precision_macro\": precision_score(true, pred, average='macro', zero_division=0),\n",
    "        \"recall_sampled\": recall_score(true, pred, average='samples', zero_division=0),\n",
    "        \"recall_micro\": recall_score(true, pred, average='micro', zero_division=0),\n",
    "        \"recall_macro\": recall_score(true, pred, average='macro', zero_division=0),\n",
    "        \"accuracy\": accuracy_score(true, pred),\n",
    "        })\n",
    "\n",
    "    labels_float = labels.astype(float)\n",
    "    results.update({\n",
    "        \"coverage_error\": coverage_error(labels_float, logits),\n",
    "        \"label_ranking_loss\": label_ranking_loss(labels_float, logits),\n",
    "        \"lrap\": label_ranking_average_precision_score(labels_float, logits),\n",
    "    })\n",
    "\n",
    "    metrics_log.append(results.copy())\n",
    "\n",
    "    print(results)\n",
    "\n",
    "\n",
    "    if (is_final_test is True):\n",
    "      BEST_F1 = val_weighted_f1_score\n",
    "      BEST_TRUE = true\n",
    "      BEST_PREDICTED = pred\n",
    "    elif (val_weighted_f1_score > BEST_F1):\n",
    "      BEST_F1 = val_weighted_f1_score\n",
    "      BEST_TRUE = true\n",
    "      BEST_PREDICTED = pred\n",
    "\n",
    "    return val_weighted_f1_score\n",
    "\n"
   ]
  },
  {
   "cell_type": "code",
   "execution_count": 34,
   "id": "533523db",
   "metadata": {},
   "outputs": [],
   "source": [
    "def train(model, train_dataloader, val_dataloader, criterion, optimizer, scheduler, epoch):\n",
    "    global device\n",
    "    nv = Config().N_VALIDATE_DUR_TRAIN\n",
    "    temp = len(train_dataloader) // nv\n",
    "    temp = temp - (temp % 100)\n",
    "    validate_at_steps = [temp * x for x in range(1, nv + 1)]\n",
    "\n",
    "    train_loss = 0\n",
    "    train_losses = []\n",
    "\n",
    "    for step, batch in enumerate(tqdm(train_dataloader,\n",
    "                                      desc='Epoch ' + str(epoch))):\n",
    "        model.train()\n",
    "\n",
    "        b_input_ids = batch['input_ids'].to(device)\n",
    "        b_attention_mask = batch['attention_mask'].to(device)\n",
    "        b_labels = batch['labels'].to(device)\n",
    "\n",
    "        optimizer.zero_grad()\n",
    "\n",
    "        logits = model(input_ids=b_input_ids, attention_mask=b_attention_mask)\n",
    "\n",
    "        loss = criterion(logits, b_labels)\n",
    "        train_loss += loss.item()\n",
    "\n",
    "        loss.backward()\n",
    "\n",
    "        optimizer.step()\n",
    "\n",
    "        scheduler.step()\n",
    "\n",
    "        if step in validate_at_steps:\n",
    "            print(f'-- Step: {step}')\n",
    "            _ = val(model, val_dataloader, criterion)\n",
    "\n",
    "\n",
    "    avg_train_loss = train_loss / len(train_dataloader)\n",
    "    print('Training loss:', avg_train_loss)"
   ]
  },
  {
   "cell_type": "code",
   "execution_count": 35,
   "id": "a5ee9825",
   "metadata": {},
   "outputs": [],
   "source": [
    "def run():\n",
    "    global train_data, val_data, test_data, train_dataloader, val_dataloader, test_dataloader, model\n",
    "    torch.manual_seed(Config().SEED)\n",
    "\n",
    "    criterion = nn.BCEWithLogitsLoss()\n",
    "\n",
    "    if Config().FULL_FINETUNING:\n",
    "        param_optimizer = list(model.named_parameters())\n",
    "        no_decay = [\"bias\", \"LayerNorm.bias\", \"LayerNorm.weight\"]\n",
    "        optimizer_parameters = [\n",
    "            {\n",
    "                \"params\": [\n",
    "                    p for n, p in param_optimizer if not any(nd in n for nd in no_decay)\n",
    "                ],\n",
    "                \"weight_decay\": 0.001,\n",
    "            },\n",
    "            {\n",
    "                \"params\": [\n",
    "                    p for n, p in param_optimizer if any(nd in n for nd in no_decay)\n",
    "                ],\n",
    "                \"weight_decay\": 0.0,\n",
    "            },\n",
    "        ]\n",
    "        optimizer = optim.AdamW(optimizer_parameters, lr=Config().LR)\n",
    "\n",
    "    num_training_steps = len(train_dataloader) * Config().EPOCHS\n",
    "    scheduler = get_linear_schedule_with_warmup(\n",
    "        optimizer,\n",
    "        num_warmup_steps=0,\n",
    "        num_training_steps=num_training_steps\n",
    "    )\n",
    "\n",
    "    max_val_weighted_f1_score = float('-inf')\n",
    "    for epoch in range(Config().EPOCHS):\n",
    "        train(model, train_dataloader, val_dataloader, criterion, optimizer, scheduler, epoch)\n",
    "        val_weighted_f1_score = val(model, val_dataloader, criterion)\n",
    "\n",
    "        if Config().SAVE_BEST_ONLY:\n",
    "            if val_weighted_f1_score > max_val_weighted_f1_score:\n",
    "                best_model = copy.deepcopy(model)\n",
    "\n",
    "                model_name = 'secbest_model'\n",
    "                torch.save(best_model.state_dict(), model_name + '.pt')\n",
    "\n",
    "                print(f'--- Best Model. Val: {max_val_weighted_f1_score} -> {val_weighted_f1_score}')\n",
    "                max_val_weighted_f1_score = val_weighted_f1_score\n",
    "\n",
    "    return best_model, max_val_weighted_f1_score"
   ]
  },
  {
   "cell_type": "markdown",
   "id": "cb777d10",
   "metadata": {},
   "source": [
    "# Tactic_multi model"
   ]
  },
  {
   "cell_type": "code",
   "execution_count": 36,
   "id": "c0e7fb55",
   "metadata": {},
   "outputs": [],
   "source": [
    "from sklearn.metrics import coverage_error, label_ranking_average_precision_score, label_ranking_loss\n",
    "from sklearn.metrics import hamming_loss, precision_score, recall_score, f1_score, fbeta_score\n",
    "from sklearn.metrics import accuracy_score"
   ]
  },
  {
   "cell_type": "code",
   "execution_count": 37,
   "id": "43a5c244",
   "metadata": {},
   "outputs": [
    {
     "data": {
      "text/plain": [
       "Model(\n",
       "  (transformer_model): BertModel(\n",
       "    (embeddings): BertEmbeddings(\n",
       "      (word_embeddings): Embedding(52000, 768, padding_idx=0)\n",
       "      (position_embeddings): Embedding(514, 768)\n",
       "      (token_type_embeddings): Embedding(1, 768)\n",
       "      (LayerNorm): LayerNorm((768,), eps=1e-12, elementwise_affine=True)\n",
       "      (dropout): Dropout(p=0.1, inplace=False)\n",
       "    )\n",
       "    (encoder): BertEncoder(\n",
       "      (layer): ModuleList(\n",
       "        (0-5): 6 x BertLayer(\n",
       "          (attention): BertAttention(\n",
       "            (self): BertSdpaSelfAttention(\n",
       "              (query): Linear(in_features=768, out_features=768, bias=True)\n",
       "              (key): Linear(in_features=768, out_features=768, bias=True)\n",
       "              (value): Linear(in_features=768, out_features=768, bias=True)\n",
       "              (dropout): Dropout(p=0.1, inplace=False)\n",
       "            )\n",
       "            (output): BertSelfOutput(\n",
       "              (dense): Linear(in_features=768, out_features=768, bias=True)\n",
       "              (LayerNorm): LayerNorm((768,), eps=1e-12, elementwise_affine=True)\n",
       "              (dropout): Dropout(p=0.1, inplace=False)\n",
       "            )\n",
       "          )\n",
       "          (intermediate): BertIntermediate(\n",
       "            (dense): Linear(in_features=768, out_features=3072, bias=True)\n",
       "            (intermediate_act_fn): GELUActivation()\n",
       "          )\n",
       "          (output): BertOutput(\n",
       "            (dense): Linear(in_features=3072, out_features=768, bias=True)\n",
       "            (LayerNorm): LayerNorm((768,), eps=1e-12, elementwise_affine=True)\n",
       "            (dropout): Dropout(p=0.1, inplace=False)\n",
       "          )\n",
       "        )\n",
       "      )\n",
       "    )\n",
       "    (pooler): BertPooler(\n",
       "      (dense): Linear(in_features=768, out_features=768, bias=True)\n",
       "      (activation): Tanh()\n",
       "    )\n",
       "  )\n",
       "  (dropout): Dropout(p=0.3, inplace=False)\n",
       "  (output): Linear(in_features=768, out_features=14, bias=True)\n",
       ")"
      ]
     },
     "execution_count": 37,
     "metadata": {},
     "output_type": "execute_result"
    }
   ],
   "source": [
    "project_dir = './'\n",
    "config = Config()\n",
    "device = Config().DEVICE\n",
    "model = Model()\n",
    "model.to(device)"
   ]
  },
  {
   "cell_type": "code",
   "execution_count": 38,
   "id": "e5534c84",
   "metadata": {},
   "outputs": [
    {
     "name": "stderr",
     "output_type": "stream",
     "text": [
      "Epoch 0:   0%|          | 0/76 [00:00<?, ?it/s]"
     ]
    },
    {
     "name": "stdout",
     "output_type": "stream",
     "text": [
      "-- Step: 0\n"
     ]
    },
    {
     "name": "stderr",
     "output_type": "stream",
     "text": [
      "Epoch 0:   4%|▍         | 3/76 [00:03<01:11,  1.02it/s]"
     ]
    },
    {
     "name": "stdout",
     "output_type": "stream",
     "text": [
      "{'f1_sampled': 0.20636487050960733, 'f1_micro': 0.22032288698955366, 'f1_macro': 0.15453925822073675, 'f_05_sample': 0.1630994129653672, 'f_05_micro': 0.16666666666666666, 'f_05_macro': 0.12651307490939107, 'precision_sampled': 0.1444627192982456, 'precision_micro': 0.1433868974042027, 'precision_macro': 0.113690015770601, 'recall_sampled': 0.4595394736842106, 'recall_micro': 0.47540983606557374, 'recall_macro': 0.34393827926397474, 'accuracy': 0.0, 'coverage_error': np.float64(12.125), 'label_ranking_loss': np.float64(0.6965909090909091), 'lrap': np.float64(0.23759920634920634)}\n"
     ]
    },
    {
     "name": "stderr",
     "output_type": "stream",
     "text": [
      "Epoch 0: 100%|██████████| 76/76 [00:07<00:00, 10.33it/s]\n"
     ]
    },
    {
     "name": "stdout",
     "output_type": "stream",
     "text": [
      "Training loss: 0.3394445667141362\n",
      "{'f1_sampled': 0.0043859649122807015, 'f1_micro': 0.00816326530612245, 'f1_macro': 0.0026455026455026454, 'f_05_sample': 0.005482456140350878, 'f_05_micro': 0.020161290322580645, 'f_05_macro': 0.006265664160401002, 'precision_sampled': 0.006578947368421052, 'precision_micro': 1.0, 'precision_macro': 0.07142857142857142, 'recall_sampled': 0.003289473684210526, 'recall_micro': 0.004098360655737705, 'recall_macro': 0.001347708894878706, 'accuracy': 0.05921052631578947, 'coverage_error': np.float64(14.0), 'label_ranking_loss': np.float64(1.0), 'lrap': np.float64(0.1607142857142857)}\n",
      "--- Best Model. Val: -inf -> 0.008044930176077717\n"
     ]
    },
    {
     "name": "stderr",
     "output_type": "stream",
     "text": [
      "Epoch 1:   0%|          | 0/76 [00:00<?, ?it/s]"
     ]
    },
    {
     "name": "stdout",
     "output_type": "stream",
     "text": [
      "-- Step: 0\n"
     ]
    },
    {
     "name": "stderr",
     "output_type": "stream",
     "text": [
      "Epoch 1:   5%|▌         | 4/76 [00:01<00:20,  3.56it/s]"
     ]
    },
    {
     "name": "stdout",
     "output_type": "stream",
     "text": [
      "{'f1_sampled': 0.015350877192982454, 'f1_micro': 0.024096385542168676, 'f1_macro': 0.007389162561576354, 'f_05_sample': 0.01754385964912281, 'f_05_micro': 0.056818181818181816, 'f_05_macro': 0.014677103718199608, 'precision_sampled': 0.019736842105263157, 'precision_micro': 0.6, 'precision_macro': 0.04285714285714286, 'recall_sampled': 0.013157894736842105, 'recall_micro': 0.012295081967213115, 'recall_macro': 0.004043126684636119, 'accuracy': 0.06578947368421052, 'coverage_error': np.float64(14.0), 'label_ranking_loss': np.float64(1.0), 'lrap': np.float64(0.1607142857142857)}\n"
     ]
    },
    {
     "name": "stderr",
     "output_type": "stream",
     "text": [
      "Epoch 1: 100%|██████████| 76/76 [00:05<00:00, 15.05it/s]\n"
     ]
    },
    {
     "name": "stdout",
     "output_type": "stream",
     "text": [
      "Training loss: 0.2739915900716656\n",
      "{'f1_sampled': 0.2819548872180451, 'f1_micro': 0.3798219584569733, 'f1_macro': 0.12699443413729128, 'f_05_sample': 0.2900545634920635, 'f_05_micro': 0.5194805194805194, 'f_05_macro': 0.15049115726455625, 'precision_sampled': 0.3026315789473684, 'precision_micro': 0.6881720430107527, 'precision_macro': 0.1891844997108155, 'recall_sampled': 0.2889254385964913, 'recall_micro': 0.26229508196721313, 'recall_macro': 0.10637032533822935, 'accuracy': 0.20394736842105263, 'coverage_error': np.float64(12.5), 'label_ranking_loss': np.float64(0.8221153846153846), 'lrap': np.float64(0.2678571428571428)}\n",
      "--- Best Model. Val: 0.008044930176077717 -> 0.30403449010006384\n"
     ]
    },
    {
     "name": "stderr",
     "output_type": "stream",
     "text": [
      "Epoch 2:   0%|          | 0/76 [00:00<?, ?it/s]"
     ]
    },
    {
     "name": "stdout",
     "output_type": "stream",
     "text": [
      "-- Step: 0\n"
     ]
    },
    {
     "name": "stderr",
     "output_type": "stream",
     "text": [
      "Epoch 2:   5%|▌         | 4/76 [00:00<00:06, 10.71it/s]"
     ]
    },
    {
     "name": "stdout",
     "output_type": "stream",
     "text": [
      "{'f1_sampled': 0.29291979949874686, 'f1_micro': 0.38596491228070173, 'f1_macro': 0.12700235544272243, 'f_05_sample': 0.30211596700083543, 'f_05_micro': 0.5188679245283019, 'f_05_macro': 0.14837473103654125, 'precision_sampled': 0.3157894736842105, 'precision_micro': 0.673469387755102, 'precision_macro': 0.18520408163265306, 'recall_sampled': 0.29879385964912286, 'recall_micro': 0.27049180327868855, 'recall_macro': 0.10906574312798677, 'accuracy': 0.21052631578947367, 'coverage_error': np.float64(12.5), 'label_ranking_loss': np.float64(0.8221153846153846), 'lrap': np.float64(0.2678571428571428)}\n"
     ]
    },
    {
     "name": "stderr",
     "output_type": "stream",
     "text": [
      "Epoch 2: 100%|██████████| 76/76 [00:04<00:00, 18.79it/s]\n"
     ]
    },
    {
     "name": "stdout",
     "output_type": "stream",
     "text": [
      "Training loss: 0.23828388809373505\n",
      "{'f1_sampled': 0.343922305764411, 'f1_micro': 0.4257703081232493, 'f1_macro': 0.16554384310735018, 'f_05_sample': 0.36730498120300753, 'f_05_micro': 0.5459770114942529, 'f_05_macro': 0.19868514564858902, 'precision_sampled': 0.3980263157894737, 'precision_micro': 0.672566371681416, 'precision_macro': 0.25845949386043726, 'recall_sampled': 0.3316885964912281, 'recall_micro': 0.3114754098360656, 'recall_macro': 0.13824847479513996, 'accuracy': 0.23026315789473684, 'coverage_error': np.float64(12.5), 'label_ranking_loss': np.float64(0.7596153846153846), 'lrap': np.float64(0.32142857142857134)}\n",
      "--- Best Model. Val: 0.30403449010006384 -> 0.3626799568726703\n"
     ]
    },
    {
     "name": "stderr",
     "output_type": "stream",
     "text": [
      "Epoch 3:   0%|          | 0/76 [00:00<?, ?it/s]"
     ]
    },
    {
     "name": "stdout",
     "output_type": "stream",
     "text": [
      "-- Step: 0\n"
     ]
    },
    {
     "name": "stderr",
     "output_type": "stream",
     "text": [
      "Epoch 3:   5%|▌         | 4/76 [00:00<00:06, 10.59it/s]"
     ]
    },
    {
     "name": "stdout",
     "output_type": "stream",
     "text": [
      "{'f1_sampled': 0.3417293233082706, 'f1_micro': 0.4245810055865922, 'f1_macro': 0.16510300374921227, 'f_05_sample': 0.3643810045948204, 'f_05_micro': 0.5428571428571428, 'f_05_macro': 0.19798373581482315, 'precision_sampled': 0.39473684210526316, 'precision_micro': 0.6666666666666666, 'precision_macro': 0.2575859788359788, 'recall_sampled': 0.3316885964912281, 'recall_micro': 0.3114754098360656, 'recall_macro': 0.13824847479513996, 'accuracy': 0.2236842105263158, 'coverage_error': np.float64(12.5), 'label_ranking_loss': np.float64(0.7596153846153846), 'lrap': np.float64(0.32142857142857134)}\n"
     ]
    },
    {
     "name": "stderr",
     "output_type": "stream",
     "text": [
      "Epoch 3: 100%|██████████| 76/76 [00:04<00:00, 18.78it/s]\n"
     ]
    },
    {
     "name": "stdout",
     "output_type": "stream",
     "text": [
      "Training loss: 0.20101766445134817\n",
      "{'f1_sampled': 0.4151942355889724, 'f1_micro': 0.48186528497409326, 'f1_macro': 0.206991975534175, 'f_05_sample': 0.4423374962026278, 'f_05_micro': 0.5726600985221675, 'f_05_macro': 0.2350596259394411, 'precision_sampled': 0.4769736842105263, 'precision_micro': 0.6549295774647887, 'precision_macro': 0.2737402071202913, 'recall_sampled': 0.4018640350877193, 'recall_micro': 0.38114754098360654, 'recall_macro': 0.1816264897730188, 'accuracy': 0.26973684210526316, 'coverage_error': np.float64(12.5), 'label_ranking_loss': np.float64(0.717948717948718), 'lrap': np.float64(0.3541666666666667)}\n",
      "--- Best Model. Val: 0.3626799568726703 -> 0.4252993507532101\n"
     ]
    },
    {
     "name": "stderr",
     "output_type": "stream",
     "text": [
      "Epoch 4:   0%|          | 0/76 [00:00<?, ?it/s]"
     ]
    },
    {
     "name": "stdout",
     "output_type": "stream",
     "text": [
      "-- Step: 0\n"
     ]
    },
    {
     "name": "stderr",
     "output_type": "stream",
     "text": [
      "Epoch 4:   5%|▌         | 4/76 [00:00<00:06, 10.68it/s]"
     ]
    },
    {
     "name": "stdout",
     "output_type": "stream",
     "text": [
      "{'f1_sampled': 0.4182644110275689, 'f1_micro': 0.4806201550387597, 'f1_macro': 0.21203356926255354, 'f_05_sample': 0.4480027008809904, 'f_05_micro': 0.5698529411764706, 'f_05_macro': 0.23956783463278095, 'precision_sampled': 0.4868421052631579, 'precision_micro': 0.6503496503496503, 'precision_macro': 0.2720084384712294, 'recall_sampled': 0.4018640350877193, 'recall_micro': 0.38114754098360654, 'recall_macro': 0.18536238013870746, 'accuracy': 0.27631578947368424, 'coverage_error': np.float64(12.5), 'label_ranking_loss': np.float64(0.717948717948718), 'lrap': np.float64(0.3541666666666667)}\n"
     ]
    },
    {
     "name": "stderr",
     "output_type": "stream",
     "text": [
      "Epoch 4: 100%|██████████| 76/76 [00:04<00:00, 18.75it/s]\n"
     ]
    },
    {
     "name": "stdout",
     "output_type": "stream",
     "text": [
      "Training loss: 0.16443428387375256\n",
      "{'f1_sampled': 0.4223684210526316, 'f1_micro': 0.4740740740740741, 'f1_macro': 0.20592654533252958, 'f_05_sample': 0.4443020429862535, 'f_05_micro': 0.5405405405405406, 'f_05_macro': 0.22857607230450228, 'precision_sampled': 0.47368421052631576, 'precision_micro': 0.5962732919254659, 'precision_macro': 0.251476509497499, 'recall_sampled': 0.41721491228070173, 'recall_micro': 0.39344262295081966, 'recall_macro': 0.18446270182518804, 'accuracy': 0.2631578947368421, 'coverage_error': np.float64(12.5), 'label_ranking_loss': np.float64(0.717948717948718), 'lrap': np.float64(0.3541666666666667)}\n"
     ]
    },
    {
     "name": "stderr",
     "output_type": "stream",
     "text": [
      "Epoch 5:   0%|          | 0/76 [00:00<?, ?it/s]"
     ]
    },
    {
     "name": "stdout",
     "output_type": "stream",
     "text": [
      "-- Step: 0\n"
     ]
    },
    {
     "name": "stderr",
     "output_type": "stream",
     "text": [
      "Epoch 5:   5%|▌         | 4/76 [00:00<00:06, 11.03it/s]"
     ]
    },
    {
     "name": "stdout",
     "output_type": "stream",
     "text": [
      "{'f1_sampled': 0.4359649122807017, 'f1_micro': 0.48426150121065376, 'f1_macro': 0.20821142832496914, 'f_05_sample': 0.45880563150299986, 'f_05_micro': 0.5434782608695652, 'f_05_macro': 0.22625349732788957, 'precision_sampled': 0.4901315789473684, 'precision_micro': 0.591715976331361, 'precision_macro': 0.24563772217350888, 'recall_sampled': 0.4342105263157895, 'recall_micro': 0.4098360655737705, 'recall_macro': 0.19291368306348686, 'accuracy': 0.25, 'coverage_error': np.float64(12.5), 'label_ranking_loss': np.float64(0.6898237179487179), 'lrap': np.float64(0.3608630952380953)}\n"
     ]
    },
    {
     "name": "stderr",
     "output_type": "stream",
     "text": [
      "Epoch 5: 100%|██████████| 76/76 [00:04<00:00, 18.82it/s]\n"
     ]
    },
    {
     "name": "stdout",
     "output_type": "stream",
     "text": [
      "Training loss: 0.13146008011934004\n",
      "{'f1_sampled': 0.3643796992481203, 'f1_micro': 0.41836734693877553, 'f1_macro': 0.19666769515289845, 'f_05_sample': 0.38904790385053545, 'f_05_micro': 0.4904306220095694, 'f_05_macro': 0.22841392218270568, 'precision_sampled': 0.42105263157894735, 'precision_micro': 0.5540540540540541, 'precision_macro': 0.3033744491948826, 'recall_sampled': 0.3508771929824561, 'recall_micro': 0.3360655737704918, 'recall_macro': 0.16944425662120807, 'accuracy': 0.24342105263157895, 'coverage_error': np.float64(12.5), 'label_ranking_loss': np.float64(0.7596153846153846), 'lrap': np.float64(0.32142857142857134)}\n"
     ]
    },
    {
     "name": "stderr",
     "output_type": "stream",
     "text": [
      "Epoch 6:   0%|          | 0/76 [00:00<?, ?it/s]"
     ]
    },
    {
     "name": "stdout",
     "output_type": "stream",
     "text": [
      "-- Step: 0\n"
     ]
    },
    {
     "name": "stderr",
     "output_type": "stream",
     "text": [
      "Epoch 6:   5%|▌         | 4/76 [00:00<00:06, 11.04it/s]"
     ]
    },
    {
     "name": "stdout",
     "output_type": "stream",
     "text": [
      "{'f1_sampled': 0.3985902255639098, 'f1_micro': 0.44819277108433736, 'f1_macro': 0.21007772741103592, 'f_05_sample': 0.42215386952229056, 'f_05_micro': 0.5010775862068966, 'f_05_macro': 0.2355574612396111, 'precision_sampled': 0.45394736842105265, 'precision_micro': 0.543859649122807, 'precision_macro': 0.3039877198757262, 'recall_sampled': 0.39089912280701755, 'recall_micro': 0.38114754098360654, 'recall_macro': 0.1900547007012474, 'accuracy': 0.21710526315789475, 'coverage_error': np.float64(12.5), 'label_ranking_loss': np.float64(0.7596153846153846), 'lrap': np.float64(0.32142857142857134)}\n"
     ]
    },
    {
     "name": "stderr",
     "output_type": "stream",
     "text": [
      "Epoch 6: 100%|██████████| 76/76 [00:04<00:00, 18.81it/s]\n"
     ]
    },
    {
     "name": "stdout",
     "output_type": "stream",
     "text": [
      "Training loss: 0.11142053896267164\n",
      "{'f1_sampled': 0.34736842105263155, 'f1_micro': 0.4076086956521739, 'f1_macro': 0.18336161161125744, 'f_05_sample': 0.3768535923141187, 'f_05_micro': 0.5067567567567568, 'f_05_macro': 0.22269044224382423, 'precision_sampled': 0.41118421052631576, 'precision_micro': 0.6048387096774194, 'precision_macro': 0.31149472032691133, 'recall_sampled': 0.3256578947368421, 'recall_micro': 0.3073770491803279, 'recall_macro': 0.1514683641765948, 'accuracy': 0.2236842105263158, 'coverage_error': np.float64(14.0), 'label_ranking_loss': np.float64(0.875), 'lrap': np.float64(0.26785714285714285)}\n"
     ]
    },
    {
     "name": "stderr",
     "output_type": "stream",
     "text": [
      "Epoch 7:   0%|          | 0/76 [00:00<?, ?it/s]"
     ]
    },
    {
     "name": "stdout",
     "output_type": "stream",
     "text": [
      "-- Step: 0\n"
     ]
    },
    {
     "name": "stderr",
     "output_type": "stream",
     "text": [
      "Epoch 7:   5%|▌         | 4/76 [00:00<00:06, 11.19it/s]"
     ]
    },
    {
     "name": "stdout",
     "output_type": "stream",
     "text": [
      "{'f1_sampled': 0.33706140350877195, 'f1_micro': 0.39226519337016574, 'f1_macro': 0.17734800480556118, 'f_05_sample': 0.3690867794486216, 'f_05_micro': 0.4958100558659218, 'f_05_macro': 0.21761540072802815, 'precision_sampled': 0.40460526315789475, 'precision_micro': 0.6016949152542372, 'precision_macro': 0.3062300923713967, 'recall_sampled': 0.31085526315789475, 'recall_micro': 0.29098360655737704, 'recall_macro': 0.14389848840019728, 'accuracy': 0.21052631578947367, 'coverage_error': np.float64(14.0), 'label_ranking_loss': np.float64(0.875), 'lrap': np.float64(0.26785714285714285)}\n"
     ]
    },
    {
     "name": "stderr",
     "output_type": "stream",
     "text": [
      "Epoch 7: 100%|██████████| 76/76 [00:04<00:00, 18.86it/s]\n"
     ]
    },
    {
     "name": "stdout",
     "output_type": "stream",
     "text": [
      "Training loss: 0.08950715414003323\n",
      "{'f1_sampled': 0.3645989974937343, 'f1_micro': 0.43386243386243384, 'f1_macro': 0.1892651309913542, 'f_05_sample': 0.3954417293233083, 'f_05_micro': 0.5256410256410257, 'f_05_macro': 0.23363866624454763, 'precision_sampled': 0.4342105263157895, 'precision_micro': 0.6119402985074627, 'precision_macro': 0.33961792602345603, 'recall_sampled': 0.34539473684210525, 'recall_micro': 0.3360655737704918, 'recall_macro': 0.15833481186502116, 'accuracy': 0.2236842105263158, 'coverage_error': np.float64(12.5), 'label_ranking_loss': np.float64(0.7596153846153846), 'lrap': np.float64(0.32142857142857134)}\n"
     ]
    },
    {
     "name": "stderr",
     "output_type": "stream",
     "text": [
      "Epoch 8:   0%|          | 0/76 [00:00<?, ?it/s]"
     ]
    },
    {
     "name": "stdout",
     "output_type": "stream",
     "text": [
      "-- Step: 0\n"
     ]
    },
    {
     "name": "stderr",
     "output_type": "stream",
     "text": [
      "Epoch 8:   5%|▌         | 4/76 [00:00<00:06, 10.71it/s]"
     ]
    },
    {
     "name": "stdout",
     "output_type": "stream",
     "text": [
      "{'f1_sampled': 0.3711779448621554, 'f1_micro': 0.4368421052631579, 'f1_macro': 0.1922436196841286, 'f_05_sample': 0.40202067669172936, 'f_05_micro': 0.5266497461928934, 'f_05_macro': 0.2359584930308143, 'precision_sampled': 0.4407894736842105, 'precision_micro': 0.6102941176470589, 'precision_macro': 0.3366417355472655, 'recall_sampled': 0.3519736842105263, 'recall_micro': 0.3401639344262295, 'recall_macro': 0.16079786605221327, 'accuracy': 0.23026315789473684, 'coverage_error': np.float64(12.5), 'label_ranking_loss': np.float64(0.7596153846153846), 'lrap': np.float64(0.32142857142857134)}\n"
     ]
    },
    {
     "name": "stderr",
     "output_type": "stream",
     "text": [
      "Epoch 8: 100%|██████████| 76/76 [00:04<00:00, 18.72it/s]\n"
     ]
    },
    {
     "name": "stdout",
     "output_type": "stream",
     "text": [
      "Training loss: 0.07399556521130235\n",
      "{'f1_sampled': 0.39107142857142857, 'f1_micro': 0.44155844155844154, 'f1_macro': 0.19248068897433068, 'f_05_sample': 0.4250013053467001, 'f_05_micro': 0.525990099009901, 'f_05_macro': 0.23421586132824343, 'precision_sampled': 0.46710526315789475, 'precision_micro': 0.6028368794326241, 'precision_macro': 0.333353947639662, 'recall_sampled': 0.37006578947368424, 'recall_micro': 0.3483606557377049, 'recall_macro': 0.16485197949414457, 'accuracy': 0.23026315789473684, 'coverage_error': np.float64(12.5), 'label_ranking_loss': np.float64(0.7596153846153846), 'lrap': np.float64(0.32142857142857134)}\n"
     ]
    },
    {
     "name": "stderr",
     "output_type": "stream",
     "text": [
      "Epoch 9:   0%|          | 0/76 [00:00<?, ?it/s]"
     ]
    },
    {
     "name": "stdout",
     "output_type": "stream",
     "text": [
      "-- Step: 0\n"
     ]
    },
    {
     "name": "stderr",
     "output_type": "stream",
     "text": [
      "Epoch 9:   5%|▌         | 4/76 [00:00<00:06, 11.10it/s]"
     ]
    },
    {
     "name": "stdout",
     "output_type": "stream",
     "text": [
      "{'f1_sampled': 0.3910714285714285, 'f1_micro': 0.4356955380577428, 'f1_macro': 0.18963591470098498, 'f_05_sample': 0.4286562761069341, 'f_05_micro': 0.523989898989899, 'f_05_macro': 0.2323794460109428, 'precision_sampled': 0.47368421052631576, 'precision_micro': 0.6058394160583942, 'precision_macro': 0.333353947639662, 'recall_sampled': 0.36348684210526316, 'recall_micro': 0.3401639344262295, 'recall_macro': 0.1617463894320328, 'accuracy': 0.23026315789473684, 'coverage_error': np.float64(12.5), 'label_ranking_loss': np.float64(0.7596153846153846), 'lrap': np.float64(0.32142857142857134)}\n"
     ]
    },
    {
     "name": "stderr",
     "output_type": "stream",
     "text": [
      "Epoch 9: 100%|██████████| 76/76 [00:04<00:00, 18.80it/s]\n"
     ]
    },
    {
     "name": "stdout",
     "output_type": "stream",
     "text": [
      "Training loss: 0.06301104792050626\n",
      "{'f1_sampled': 0.406484962406015, 'f1_micro': 0.45390070921985815, 'f1_macro': 0.2101414216288651, 'f_05_sample': 0.425373694288168, 'f_05_micro': 0.5, 'f_05_macro': 0.2324987931134059, 'precision_sampled': 0.45394736842105265, 'precision_micro': 0.5363128491620112, 'precision_macro': 0.2572845804988662, 'recall_sampled': 0.4106359649122807, 'recall_micro': 0.39344262295081966, 'recall_macro': 0.18888203825182773, 'accuracy': 0.2236842105263158, 'coverage_error': np.float64(12.5), 'label_ranking_loss': np.float64(0.7231570512820513), 'lrap': np.float64(0.3229166666666667)}\n"
     ]
    },
    {
     "name": "stderr",
     "output_type": "stream",
     "text": [
      "Epoch 10:   0%|          | 0/76 [00:00<?, ?it/s]"
     ]
    },
    {
     "name": "stdout",
     "output_type": "stream",
     "text": [
      "-- Step: 0\n"
     ]
    },
    {
     "name": "stderr",
     "output_type": "stream",
     "text": [
      "Epoch 10:   5%|▌         | 4/76 [00:00<00:06, 11.06it/s]"
     ]
    },
    {
     "name": "stdout",
     "output_type": "stream",
     "text": [
      "{'f1_sampled': 0.399906015037594, 'f1_micro': 0.4486873508353222, 'f1_macro': 0.2067535834432294, 'f_05_sample': 0.42101584453558144, 'f_05_micro': 0.4978813559322034, 'f_05_macro': 0.22948820849289212, 'precision_sampled': 0.45175438596491224, 'precision_micro': 0.5371428571428571, 'precision_macro': 0.25480282988248787, 'recall_sampled': 0.40076754385964913, 'recall_micro': 0.38524590163934425, 'recall_macro': 0.18545757063869556, 'accuracy': 0.21052631578947367, 'coverage_error': np.float64(12.5), 'label_ranking_loss': np.float64(0.7231570512820513), 'lrap': np.float64(0.3229166666666667)}\n"
     ]
    },
    {
     "name": "stderr",
     "output_type": "stream",
     "text": [
      "Epoch 10: 100%|██████████| 76/76 [00:04<00:00, 18.86it/s]\n"
     ]
    },
    {
     "name": "stdout",
     "output_type": "stream",
     "text": [
      "Training loss: 0.057407206635137924\n",
      "{'f1_sampled': 0.3914786967418546, 'f1_micro': 0.4466501240694789, 'f1_macro': 0.20485277315647799, 'f_05_sample': 0.4074500974172026, 'f_05_micro': 0.5113636363636364, 'f_05_macro': 0.2366928438899569, 'precision_sampled': 0.4320175438596491, 'precision_micro': 0.5660377358490566, 'precision_macro': 0.27097303206997086, 'recall_sampled': 0.3944078947368421, 'recall_micro': 0.36885245901639346, 'recall_macro': 0.1739994742392634, 'accuracy': 0.23684210526315788, 'coverage_error': np.float64(12.5), 'label_ranking_loss': np.float64(0.6971153846153846), 'lrap': np.float64(0.3749999999999999)}\n"
     ]
    },
    {
     "name": "stderr",
     "output_type": "stream",
     "text": [
      "Epoch 11:   0%|          | 0/76 [00:00<?, ?it/s]"
     ]
    },
    {
     "name": "stdout",
     "output_type": "stream",
     "text": [
      "-- Step: 0\n"
     ]
    },
    {
     "name": "stderr",
     "output_type": "stream",
     "text": [
      "Epoch 11:   5%|▌         | 4/76 [00:00<00:06, 11.03it/s]"
     ]
    },
    {
     "name": "stdout",
     "output_type": "stream",
     "text": [
      "{'f1_sampled': 0.400250626566416, 'f1_micro': 0.454320987654321, 'f1_macro': 0.20895726983539414, 'f_05_sample': 0.4184150096979044, 'f_05_micro': 0.5180180180180181, 'f_05_macro': 0.23918378279759692, 'precision_sampled': 0.44517543859649117, 'precision_micro': 0.5714285714285714, 'precision_macro': 0.2710027409332247, 'recall_sampled': 0.4009868421052632, 'recall_micro': 0.3770491803278688, 'recall_macro': 0.17878263750456952, 'accuracy': 0.23684210526315788, 'coverage_error': np.float64(12.5), 'label_ranking_loss': np.float64(0.6971153846153846), 'lrap': np.float64(0.3749999999999999)}\n"
     ]
    },
    {
     "name": "stderr",
     "output_type": "stream",
     "text": [
      "Epoch 11: 100%|██████████| 76/76 [00:04<00:00, 18.78it/s]\n"
     ]
    },
    {
     "name": "stdout",
     "output_type": "stream",
     "text": [
      "Training loss: 0.05155316490287844\n",
      "{'f1_sampled': 0.39564536340852124, 'f1_micro': 0.4626865671641791, 'f1_macro': 0.20758406224990764, 'f_05_sample': 0.423531968762232, 'f_05_micro': 0.5308219178082192, 'f_05_macro': 0.24468859130074766, 'precision_sampled': 0.4616228070175438, 'precision_micro': 0.5886075949367089, 'precision_macro': 0.2969472612329755, 'recall_sampled': 0.3861842105263158, 'recall_micro': 0.38114754098360654, 'recall_macro': 0.17793459153814184, 'accuracy': 0.21710526315789475, 'coverage_error': np.float64(12.5), 'label_ranking_loss': np.float64(0.7596153846153846), 'lrap': np.float64(0.32142857142857134)}\n"
     ]
    },
    {
     "name": "stderr",
     "output_type": "stream",
     "text": [
      "Epoch 12:   0%|          | 0/76 [00:00<?, ?it/s]"
     ]
    },
    {
     "name": "stdout",
     "output_type": "stream",
     "text": [
      "-- Step: 0\n"
     ]
    },
    {
     "name": "stderr",
     "output_type": "stream",
     "text": [
      "Epoch 12:   5%|▌         | 4/76 [00:00<00:06, 11.20it/s]"
     ]
    },
    {
     "name": "stdout",
     "output_type": "stream",
     "text": [
      "{'f1_sampled': 0.39783834586466166, 'f1_micro': 0.4665012406947891, 'f1_macro': 0.20976078155967062, 'f_05_sample': 0.4246284599903021, 'f_05_micro': 0.5340909090909091, 'f_05_macro': 0.2469689791961303, 'precision_sampled': 0.4616228070175438, 'precision_micro': 0.5911949685534591, 'precision_macro': 0.29645246058289537, 'recall_sampled': 0.38947368421052636, 'recall_micro': 0.38524590163934425, 'recall_macro': 0.17948738656919774, 'accuracy': 0.2236842105263158, 'coverage_error': np.float64(12.5), 'label_ranking_loss': np.float64(0.7596153846153846), 'lrap': np.float64(0.32142857142857134)}\n"
     ]
    },
    {
     "name": "stderr",
     "output_type": "stream",
     "text": [
      "Epoch 12: 100%|██████████| 76/76 [00:04<00:00, 18.75it/s]\n"
     ]
    },
    {
     "name": "stdout",
     "output_type": "stream",
     "text": [
      "Training loss: 0.0437680745350295\n",
      "{'f1_sampled': 0.3848684210526316, 'f1_micro': 0.4479166666666667, 'f1_macro': 0.2022088526552812, 'f_05_sample': 0.41573786228391496, 'f_05_micro': 0.5348258706467661, 'f_05_macro': 0.2443708057855321, 'precision_sampled': 0.45394736842105265, 'precision_micro': 0.6142857142857143, 'precision_macro': 0.31150793650793646, 'recall_sampled': 0.3673245614035088, 'recall_micro': 0.3524590163934426, 'recall_macro': 0.16909418978901, 'accuracy': 0.2236842105263158, 'coverage_error': np.float64(14.0), 'label_ranking_loss': np.float64(0.84375), 'lrap': np.float64(0.29017857142857134)}\n"
     ]
    },
    {
     "name": "stderr",
     "output_type": "stream",
     "text": [
      "Epoch 13:   0%|          | 0/76 [00:00<?, ?it/s]"
     ]
    },
    {
     "name": "stdout",
     "output_type": "stream",
     "text": [
      "-- Step: 0\n"
     ]
    },
    {
     "name": "stderr",
     "output_type": "stream",
     "text": [
      "Epoch 13:   5%|▌         | 4/76 [00:00<00:06, 11.00it/s]"
     ]
    },
    {
     "name": "stdout",
     "output_type": "stream",
     "text": [
      "{'f1_sampled': 0.3815789473684211, 'f1_micro': 0.4484536082474227, 'f1_macro': 0.20195099061829438, 'f_05_sample': 0.40915891491549383, 'f_05_micro': 0.5304878048780488, 'f_05_macro': 0.2427239166478947, 'precision_sampled': 0.4440789473684211, 'precision_micro': 0.6041666666666666, 'precision_macro': 0.30736346986346985, 'recall_sampled': 0.3673245614035088, 'recall_micro': 0.35655737704918034, 'recall_macro': 0.16964875944295854, 'accuracy': 0.23026315789473684, 'coverage_error': np.float64(14.0), 'label_ranking_loss': np.float64(0.84375), 'lrap': np.float64(0.29017857142857134)}\n"
     ]
    },
    {
     "name": "stderr",
     "output_type": "stream",
     "text": [
      "Epoch 13: 100%|██████████| 76/76 [00:04<00:00, 18.78it/s]\n"
     ]
    },
    {
     "name": "stdout",
     "output_type": "stream",
     "text": [
      "Training loss: 0.0384575202816019\n",
      "{'f1_sampled': 0.4088972431077694, 'f1_micro': 0.46632124352331605, 'f1_macro': 0.221474915970802, 'f_05_sample': 0.43952246583825527, 'f_05_micro': 0.5541871921182266, 'f_05_macro': 0.25968055541842605, 'precision_sampled': 0.47916666666666663, 'precision_micro': 0.6338028169014085, 'precision_macro': 0.31782118749773736, 'recall_sampled': 0.39528508771929827, 'recall_micro': 0.36885245901639346, 'recall_macro': 0.1886063379954869, 'accuracy': 0.24342105263157895, 'coverage_error': np.float64(14.0), 'label_ranking_loss': np.float64(0.875), 'lrap': np.float64(0.26785714285714285)}\n"
     ]
    },
    {
     "name": "stderr",
     "output_type": "stream",
     "text": [
      "Epoch 14:   0%|          | 0/76 [00:00<?, ?it/s]"
     ]
    },
    {
     "name": "stdout",
     "output_type": "stream",
     "text": [
      "-- Step: 0\n"
     ]
    },
    {
     "name": "stderr",
     "output_type": "stream",
     "text": [
      "Epoch 14:   5%|▌         | 4/76 [00:00<00:06, 11.18it/s]"
     ]
    },
    {
     "name": "stdout",
     "output_type": "stream",
     "text": [
      "{'f1_sampled': 0.39244987468671677, 'f1_micro': 0.45430809399477806, 'f1_macro': 0.21448905157442835, 'f_05_sample': 0.4216653229811125, 'f_05_micro': 0.54375, 'f_05_macro': 0.25339161872843546, 'precision_sampled': 0.45942982456140347, 'precision_micro': 0.6258992805755396, 'precision_macro': 0.3136729200036052, 'recall_sampled': 0.37993421052631576, 'recall_micro': 0.35655737704918034, 'recall_macro': 0.18136012054298867, 'accuracy': 0.23026315789473684, 'coverage_error': np.float64(14.0), 'label_ranking_loss': np.float64(0.875), 'lrap': np.float64(0.26785714285714285)}\n"
     ]
    },
    {
     "name": "stderr",
     "output_type": "stream",
     "text": [
      "Epoch 14: 100%|██████████| 76/76 [00:04<00:00, 18.84it/s]\n"
     ]
    },
    {
     "name": "stdout",
     "output_type": "stream",
     "text": [
      "Training loss: 0.03425852866157105\n",
      "{'f1_sampled': 0.4223684210526315, 'f1_micro': 0.473551637279597, 'f1_macro': 0.23092685768142157, 'f_05_sample': 0.4497813042220937, 'f_05_micro': 0.5490654205607477, 'f_05_macro': 0.2595750191962142, 'precision_sampled': 0.48574561403508776, 'precision_micro': 0.6143790849673203, 'precision_macro': 0.3000938674851718, 'recall_sampled': 0.4133771929824561, 'recall_micro': 0.38524590163934425, 'recall_macro': 0.20240309026593106, 'accuracy': 0.25, 'coverage_error': np.float64(12.5), 'label_ranking_loss': np.float64(0.655448717948718), 'lrap': np.float64(0.40773809523809523)}\n",
      "--- Best Model. Val: 0.4252993507532101 -> 0.4408703619173143\n"
     ]
    },
    {
     "name": "stderr",
     "output_type": "stream",
     "text": [
      "Epoch 15:   0%|          | 0/76 [00:00<?, ?it/s]"
     ]
    },
    {
     "name": "stdout",
     "output_type": "stream",
     "text": [
      "-- Step: 0\n"
     ]
    },
    {
     "name": "stderr",
     "output_type": "stream",
     "text": [
      "Epoch 15:   5%|▌         | 4/76 [00:00<00:06, 10.42it/s]"
     ]
    },
    {
     "name": "stdout",
     "output_type": "stream",
     "text": [
      "{'f1_sampled': 0.4175438596491227, 'f1_micro': 0.4759493670886076, 'f1_macro': 0.23013719144293437, 'f_05_sample': 0.4464004562688773, 'f_05_micro': 0.5542452830188679, 'f_05_macro': 0.2609566989376142, 'precision_sampled': 0.48245614035087725, 'precision_micro': 0.6225165562913907, 'precision_macro': 0.3054185043980962, 'recall_sampled': 0.4051535087719298, 'recall_micro': 0.38524590163934425, 'recall_macro': 0.2010826588374405, 'accuracy': 0.24342105263157895, 'coverage_error': np.float64(14.0), 'label_ranking_loss': np.float64(0.7708333333333333), 'lrap': np.float64(0.35416666666666663)}\n"
     ]
    },
    {
     "name": "stderr",
     "output_type": "stream",
     "text": [
      "Epoch 15: 100%|██████████| 76/76 [00:04<00:00, 18.65it/s]\n"
     ]
    },
    {
     "name": "stdout",
     "output_type": "stream",
     "text": [
      "Training loss: 0.03150392960953085\n",
      "{'f1_sampled': 0.4234962406015037, 'f1_micro': 0.473551637279597, 'f1_macro': 0.22929158083898823, 'f_05_sample': 0.4479081317074738, 'f_05_micro': 0.5490654205607477, 'f_05_macro': 0.2597038480519775, 'precision_sampled': 0.48135964912280704, 'precision_micro': 0.6143790849673203, 'precision_macro': 0.2937612594444893, 'recall_sampled': 0.4161184210526316, 'recall_micro': 0.38524590163934425, 'recall_macro': 0.19792380675597254, 'accuracy': 0.26973684210526316, 'coverage_error': np.float64(12.5), 'label_ranking_loss': np.float64(0.655448717948718), 'lrap': np.float64(0.40773809523809523)}\n",
      "--- Best Model. Val: 0.4408703619173143 -> 0.4433983805276379\n"
     ]
    },
    {
     "name": "stderr",
     "output_type": "stream",
     "text": [
      "Epoch 16:   0%|          | 0/76 [00:00<?, ?it/s]"
     ]
    },
    {
     "name": "stdout",
     "output_type": "stream",
     "text": [
      "-- Step: 0\n"
     ]
    },
    {
     "name": "stderr",
     "output_type": "stream",
     "text": [
      "Epoch 16:   5%|▌         | 4/76 [00:00<00:06, 10.68it/s]"
     ]
    },
    {
     "name": "stdout",
     "output_type": "stream",
     "text": [
      "{'f1_sampled': 0.4223997493734335, 'f1_micro': 0.47474747474747475, 'f1_macro': 0.23149390651681043, 'f_05_sample': 0.4471771375554271, 'f_05_micro': 0.5516431924882629, 'f_05_macro': 0.2625807239538343, 'precision_sampled': 0.48135964912280704, 'precision_micro': 0.618421052631579, 'precision_macro': 0.29731738361306465, 'recall_sampled': 0.4161184210526316, 'recall_micro': 0.38524590163934425, 'recall_macro': 0.19934104031606323, 'accuracy': 0.2631578947368421, 'coverage_error': np.float64(12.5), 'label_ranking_loss': np.float64(0.655448717948718), 'lrap': np.float64(0.40773809523809523)}\n"
     ]
    },
    {
     "name": "stderr",
     "output_type": "stream",
     "text": [
      "Epoch 16: 100%|██████████| 76/76 [00:04<00:00, 18.71it/s]\n"
     ]
    },
    {
     "name": "stdout",
     "output_type": "stream",
     "text": [
      "Training loss: 0.028270764656266885\n",
      "{'f1_sampled': 0.45175438596491224, 'f1_micro': 0.5012048192771085, 'f1_macro': 0.24133645637944584, 'f_05_sample': 0.4791286929444825, 'f_05_micro': 0.5603448275862069, 'f_05_macro': 0.26258681818828616, 'precision_sampled': 0.5175438596491229, 'precision_micro': 0.6081871345029239, 'precision_macro': 0.28453922683131605, 'recall_sampled': 0.44901315789473684, 'recall_micro': 0.4262295081967213, 'recall_macro': 0.21895180674647913, 'accuracy': 0.24342105263157895, 'coverage_error': np.float64(12.5), 'label_ranking_loss': np.float64(0.655448717948718), 'lrap': np.float64(0.40773809523809523)}\n",
      "--- Best Model. Val: 0.4433983805276379 -> 0.4654444548041869\n"
     ]
    },
    {
     "name": "stderr",
     "output_type": "stream",
     "text": [
      "Epoch 17:   0%|          | 0/76 [00:00<?, ?it/s]"
     ]
    },
    {
     "name": "stdout",
     "output_type": "stream",
     "text": [
      "-- Step: 0\n"
     ]
    },
    {
     "name": "stderr",
     "output_type": "stream",
     "text": [
      "Epoch 17:   5%|▌         | 4/76 [00:00<00:06, 10.80it/s]"
     ]
    },
    {
     "name": "stdout",
     "output_type": "stream",
     "text": [
      "{'f1_sampled': 0.4429824561403509, 'f1_micro': 0.4891041162227603, 'f1_macro': 0.23577927702673027, 'f_05_sample': 0.4724706032271822, 'f_05_micro': 0.5489130434782609, 'f_05_macro': 0.25654472985606525, 'precision_sampled': 0.5120614035087719, 'precision_micro': 0.5976331360946746, 'precision_macro': 0.27867677435346605, 'recall_sampled': 0.4353070175438597, 'recall_micro': 0.4139344262295082, 'recall_macro': 0.2142054554323403, 'accuracy': 0.24342105263157895, 'coverage_error': np.float64(12.5), 'label_ranking_loss': np.float64(0.655448717948718), 'lrap': np.float64(0.40773809523809523)}\n"
     ]
    },
    {
     "name": "stderr",
     "output_type": "stream",
     "text": [
      "Epoch 17: 100%|██████████| 76/76 [00:04<00:00, 18.77it/s]\n"
     ]
    },
    {
     "name": "stdout",
     "output_type": "stream",
     "text": [
      "Training loss: 0.026199312733584328\n",
      "{'f1_sampled': 0.4301691729323308, 'f1_micro': 0.47002398081534774, 'f1_macro': 0.22120766407015252, 'f_05_sample': 0.44893483709273185, 'f_05_micro': 0.5235042735042735, 'f_05_macro': 0.24253381311621253, 'precision_sampled': 0.4780701754385964, 'precision_micro': 0.5664739884393064, 'precision_macro': 0.2681639747555897, 'recall_sampled': 0.43256578947368424, 'recall_micro': 0.4016393442622951, 'recall_macro': 0.20051621642971348, 'accuracy': 0.2565789473684211, 'coverage_error': np.float64(12.5), 'label_ranking_loss': np.float64(0.717948717948718), 'lrap': np.float64(0.3541666666666667)}\n"
     ]
    },
    {
     "name": "stderr",
     "output_type": "stream",
     "text": [
      "Epoch 18:   0%|          | 0/76 [00:00<?, ?it/s]"
     ]
    },
    {
     "name": "stdout",
     "output_type": "stream",
     "text": [
      "-- Step: 0\n"
     ]
    },
    {
     "name": "stderr",
     "output_type": "stream",
     "text": [
      "Epoch 18:   5%|▌         | 4/76 [00:00<00:06, 10.91it/s]"
     ]
    },
    {
     "name": "stdout",
     "output_type": "stream",
     "text": [
      "{'f1_sampled': 0.4257832080200501, 'f1_micro': 0.463768115942029, 'f1_macro': 0.2191701014554697, 'f_05_sample': 0.44527986633249794, 'f_05_micro': 0.5194805194805194, 'f_05_macro': 0.24124287860672058, 'precision_sampled': 0.4747807017543859, 'precision_micro': 0.5647058823529412, 'precision_macro': 0.2674720026350461, 'recall_sampled': 0.42598684210526316, 'recall_micro': 0.39344262295081966, 'recall_macro': 0.1974106263676017, 'accuracy': 0.2565789473684211, 'coverage_error': np.float64(12.5), 'label_ranking_loss': np.float64(0.717948717948718), 'lrap': np.float64(0.3541666666666667)}\n"
     ]
    },
    {
     "name": "stderr",
     "output_type": "stream",
     "text": [
      "Epoch 18: 100%|██████████| 76/76 [00:04<00:00, 18.87it/s]\n"
     ]
    },
    {
     "name": "stdout",
     "output_type": "stream",
     "text": [
      "Training loss: 0.024578792655742483\n",
      "{'f1_sampled': 0.4546052631578947, 'f1_micro': 0.49411764705882355, 'f1_macro': 0.22882128068992294, 'f_05_sample': 0.47707528217396644, 'f_05_micro': 0.5423553719008265, 'f_05_macro': 0.25053454591791285, 'precision_sampled': 0.5087719298245613, 'precision_micro': 0.580110497237569, 'precision_macro': 0.27864309603440035, 'recall_sampled': 0.4577850877192983, 'recall_micro': 0.430327868852459, 'recall_macro': 0.21082577674549968, 'accuracy': 0.25, 'coverage_error': np.float64(12.5), 'label_ranking_loss': np.float64(0.655448717948718), 'lrap': np.float64(0.40773809523809523)}\n"
     ]
    },
    {
     "name": "stderr",
     "output_type": "stream",
     "text": [
      "Epoch 19:   0%|          | 0/76 [00:00<?, ?it/s]"
     ]
    },
    {
     "name": "stdout",
     "output_type": "stream",
     "text": [
      "-- Step: 0\n"
     ]
    },
    {
     "name": "stderr",
     "output_type": "stream",
     "text": [
      "Epoch 19:   5%|▌         | 4/76 [00:00<00:06, 10.94it/s]"
     ]
    },
    {
     "name": "stdout",
     "output_type": "stream",
     "text": [
      "{'f1_sampled': 0.4381578947368421, 'f1_micro': 0.4845605700712589, 'f1_macro': 0.22452380752904252, 'f_05_sample': 0.4606279137529138, 'f_05_micro': 0.5357142857142857, 'f_05_macro': 0.24759946853402873, 'precision_sampled': 0.4923245614035087, 'precision_micro': 0.576271186440678, 'precision_macro': 0.2767353142353142, 'recall_sampled': 0.44133771929824567, 'recall_micro': 0.4180327868852459, 'recall_macro': 0.20448981844913766, 'accuracy': 0.23684210526315788, 'coverage_error': np.float64(12.5), 'label_ranking_loss': np.float64(0.655448717948718), 'lrap': np.float64(0.40773809523809523)}\n"
     ]
    },
    {
     "name": "stderr",
     "output_type": "stream",
     "text": [
      "Epoch 19: 100%|██████████| 76/76 [00:04<00:00, 18.78it/s]\n"
     ]
    },
    {
     "name": "stdout",
     "output_type": "stream",
     "text": [
      "Training loss: 0.023090990064175504\n",
      "{'f1_sampled': 0.419204260651629, 'f1_micro': 0.49019607843137253, 'f1_macro': 0.21843213475866535, 'f_05_sample': 0.4419875628757208, 'f_05_micro': 0.5555555555555556, 'f_05_macro': 0.2481561278152706, 'precision_sampled': 0.47368421052631576, 'precision_micro': 0.6097560975609756, 'precision_macro': 0.30010830183641246, 'recall_sampled': 0.41962719298245615, 'recall_micro': 0.4098360655737705, 'recall_macro': 0.19492444807310116, 'accuracy': 0.23684210526315788, 'coverage_error': np.float64(12.5), 'label_ranking_loss': np.float64(0.717948717948718), 'lrap': np.float64(0.3541666666666667)}\n"
     ]
    },
    {
     "name": "stderr",
     "output_type": "stream",
     "text": [
      "Epoch 20:   0%|          | 0/76 [00:00<?, ?it/s]"
     ]
    },
    {
     "name": "stdout",
     "output_type": "stream",
     "text": [
      "-- Step: 0\n"
     ]
    },
    {
     "name": "stderr",
     "output_type": "stream",
     "text": [
      "Epoch 20:   5%|▌         | 4/76 [00:00<00:06, 10.89it/s]"
     ]
    },
    {
     "name": "stdout",
     "output_type": "stream",
     "text": [
      "{'f1_sampled': 0.419204260651629, 'f1_micro': 0.4889975550122249, 'f1_macro': 0.21758179462261093, 'f_05_sample': 0.4419875628757208, 'f_05_micro': 0.5530973451327433, 'f_05_macro': 0.24678250144164424, 'precision_sampled': 0.47368421052631576, 'precision_micro': 0.6060606060606061, 'precision_macro': 0.2983801912373341, 'recall_sampled': 0.41962719298245615, 'recall_micro': 0.4098360655737705, 'recall_macro': 0.19492444807310116, 'accuracy': 0.23684210526315788, 'coverage_error': np.float64(12.5), 'label_ranking_loss': np.float64(0.717948717948718), 'lrap': np.float64(0.3541666666666667)}\n"
     ]
    },
    {
     "name": "stderr",
     "output_type": "stream",
     "text": [
      "Epoch 20: 100%|██████████| 76/76 [00:04<00:00, 18.77it/s]\n"
     ]
    },
    {
     "name": "stdout",
     "output_type": "stream",
     "text": [
      "Training loss: 0.02089650512329842\n",
      "{'f1_sampled': 0.400031328320802, 'f1_micro': 0.46616541353383456, 'f1_macro': 0.21512390644991644, 'f_05_sample': 0.420190281210018, 'f_05_micro': 0.5381944444444444, 'f_05_macro': 0.24609360013416856, 'precision_sampled': 0.45175438596491224, 'precision_micro': 0.6, 'precision_macro': 0.28317654567654565, 'recall_sampled': 0.40153508771929824, 'recall_micro': 0.38114754098360654, 'recall_macro': 0.1849302062885256, 'accuracy': 0.24342105263157895, 'coverage_error': np.float64(12.5), 'label_ranking_loss': np.float64(0.7596153846153846), 'lrap': np.float64(0.32142857142857134)}\n"
     ]
    },
    {
     "name": "stderr",
     "output_type": "stream",
     "text": [
      "Epoch 21:   0%|          | 0/76 [00:00<?, ?it/s]"
     ]
    },
    {
     "name": "stdout",
     "output_type": "stream",
     "text": [
      "-- Step: 0\n"
     ]
    },
    {
     "name": "stderr",
     "output_type": "stream",
     "text": [
      "Epoch 21:   5%|▌         | 4/76 [00:00<00:06, 11.12it/s]"
     ]
    },
    {
     "name": "stdout",
     "output_type": "stream",
     "text": [
      "{'f1_sampled': 0.4044172932330827, 'f1_micro': 0.46616541353383456, 'f1_macro': 0.21526977124744837, 'f_05_sample': 0.42567273735036887, 'f_05_micro': 0.5381944444444444, 'f_05_macro': 0.2459436248995138, 'precision_sampled': 0.45833333333333326, 'precision_micro': 0.6, 'precision_macro': 0.28284662658601534, 'recall_sampled': 0.40482456140350875, 'recall_micro': 0.38114754098360654, 'recall_macro': 0.18560955411461258, 'accuracy': 0.24342105263157895, 'coverage_error': np.float64(12.5), 'label_ranking_loss': np.float64(0.7596153846153846), 'lrap': np.float64(0.32142857142857134)}\n"
     ]
    },
    {
     "name": "stderr",
     "output_type": "stream",
     "text": [
      "Epoch 21: 100%|██████████| 76/76 [00:04<00:00, 18.74it/s]\n"
     ]
    },
    {
     "name": "stdout",
     "output_type": "stream",
     "text": [
      "Training loss: 0.019489273245103265\n",
      "{'f1_sampled': 0.4053884711779448, 'f1_micro': 0.4837905236907731, 'f1_macro': 0.219844788026059, 'f_05_sample': 0.42693892364944996, 'f_05_micro': 0.5561926605504587, 'f_05_macro': 0.2501757721234811, 'precision_sampled': 0.45833333333333326, 'precision_micro': 0.6178343949044586, 'precision_macro': 0.29148540861018585, 'recall_sampled': 0.40646929824561406, 'recall_micro': 0.3975409836065574, 'recall_macro': 0.19190537195944452, 'accuracy': 0.23026315789473684, 'coverage_error': np.float64(12.5), 'label_ranking_loss': np.float64(0.717948717948718), 'lrap': np.float64(0.3541666666666667)}\n"
     ]
    },
    {
     "name": "stderr",
     "output_type": "stream",
     "text": [
      "Epoch 22:   0%|          | 0/76 [00:00<?, ?it/s]"
     ]
    },
    {
     "name": "stdout",
     "output_type": "stream",
     "text": [
      "-- Step: 0\n"
     ]
    },
    {
     "name": "stderr",
     "output_type": "stream",
     "text": [
      "Epoch 22:   5%|▌         | 4/76 [00:00<00:06, 11.00it/s]"
     ]
    },
    {
     "name": "stdout",
     "output_type": "stream",
     "text": [
      "{'f1_sampled': 0.40977443609022557, 'f1_micro': 0.48635235732009924, 'f1_macro': 0.22150743328218123, 'f_05_sample': 0.43242137978980094, 'f_05_micro': 0.5568181818181818, 'f_05_macro': 0.25111616422374244, 'precision_sampled': 0.46491228070175433, 'precision_micro': 0.6163522012578616, 'precision_macro': 0.29183769084845335, 'recall_sampled': 0.4097587719298246, 'recall_micro': 0.4016393442622951, 'recall_macro': 0.19445639236760776, 'accuracy': 0.23026315789473684, 'coverage_error': np.float64(12.5), 'label_ranking_loss': np.float64(0.717948717948718), 'lrap': np.float64(0.3541666666666667)}\n"
     ]
    },
    {
     "name": "stderr",
     "output_type": "stream",
     "text": [
      "Epoch 22: 100%|██████████| 76/76 [00:04<00:00, 18.76it/s]\n"
     ]
    },
    {
     "name": "stdout",
     "output_type": "stream",
     "text": [
      "Training loss: 0.01831679722588313\n",
      "{'f1_sampled': 0.40131578947368424, 'f1_micro': 0.46733668341708545, 'f1_macro': 0.21528149880880426, 'f_05_sample': 0.42336428191691355, 'f_05_micro': 0.5406976744186046, 'f_05_macro': 0.24800721470394263, 'precision_sampled': 0.45504385964912275, 'precision_micro': 0.6038961038961039, 'precision_macro': 0.2876942501942502, 'recall_sampled': 0.4029605263157895, 'recall_micro': 0.38114754098360654, 'recall_macro': 0.18374939146875027, 'accuracy': 0.2236842105263158, 'coverage_error': np.float64(12.5), 'label_ranking_loss': np.float64(0.7596153846153846), 'lrap': np.float64(0.32142857142857134)}\n"
     ]
    },
    {
     "name": "stderr",
     "output_type": "stream",
     "text": [
      "Epoch 23:   0%|          | 0/76 [00:00<?, ?it/s]"
     ]
    },
    {
     "name": "stdout",
     "output_type": "stream",
     "text": [
      "-- Step: 0\n"
     ]
    },
    {
     "name": "stderr",
     "output_type": "stream",
     "text": [
      "Epoch 23:   5%|▌         | 4/76 [00:00<00:06, 10.75it/s]"
     ]
    },
    {
     "name": "stdout",
     "output_type": "stream",
     "text": [
      "{'f1_sampled': 0.40131578947368424, 'f1_micro': 0.46733668341708545, 'f1_macro': 0.21528149880880426, 'f_05_sample': 0.42336428191691355, 'f_05_micro': 0.5406976744186046, 'f_05_macro': 0.24800721470394263, 'precision_sampled': 0.45504385964912275, 'precision_micro': 0.6038961038961039, 'precision_macro': 0.2876942501942502, 'recall_sampled': 0.4029605263157895, 'recall_micro': 0.38114754098360654, 'recall_macro': 0.18374939146875027, 'accuracy': 0.2236842105263158, 'coverage_error': np.float64(12.5), 'label_ranking_loss': np.float64(0.7596153846153846), 'lrap': np.float64(0.32142857142857134)}\n"
     ]
    },
    {
     "name": "stderr",
     "output_type": "stream",
     "text": [
      "Epoch 23: 100%|██████████| 76/76 [00:04<00:00, 18.71it/s]\n"
     ]
    },
    {
     "name": "stdout",
     "output_type": "stream",
     "text": [
      "Training loss: 0.017630308339568346\n",
      "{'f1_sampled': 0.40429197994987465, 'f1_micro': 0.4623115577889447, 'f1_macro': 0.21449932146481818, 'f_05_sample': 0.42962994607731453, 'f_05_micro': 0.5348837209302325, 'f_05_macro': 0.2454310311200055, 'precision_sampled': 0.46491228070175433, 'precision_micro': 0.5974025974025974, 'precision_macro': 0.2821529836770993, 'recall_sampled': 0.3985745614035088, 'recall_micro': 0.3770491803278688, 'recall_macro': 0.1845568459673385, 'accuracy': 0.23684210526315788, 'coverage_error': np.float64(12.5), 'label_ranking_loss': np.float64(0.7596153846153846), 'lrap': np.float64(0.32142857142857134)}\n"
     ]
    },
    {
     "name": "stderr",
     "output_type": "stream",
     "text": [
      "Epoch 24:   0%|          | 0/76 [00:00<?, ?it/s]"
     ]
    },
    {
     "name": "stdout",
     "output_type": "stream",
     "text": [
      "-- Step: 0\n"
     ]
    },
    {
     "name": "stderr",
     "output_type": "stream",
     "text": [
      "Epoch 24:   5%|▌         | 4/76 [00:00<00:06, 10.71it/s]"
     ]
    },
    {
     "name": "stdout",
     "output_type": "stream",
     "text": [
      "{'f1_sampled': 0.39771303258145363, 'f1_micro': 0.45843828715365237, 'f1_macro': 0.2115376489909506, 'f_05_sample': 0.42305099870889346, 'f_05_micro': 0.5315420560747663, 'f_05_macro': 0.2423177060888723, 'precision_sampled': 0.45833333333333326, 'precision_micro': 0.5947712418300654, 'precision_macro': 0.2794473559714716, 'recall_sampled': 0.39199561403508776, 'recall_micro': 0.3729508196721312, 'recall_macro': 0.1820937917801464, 'accuracy': 0.23026315789473684, 'coverage_error': np.float64(12.5), 'label_ranking_loss': np.float64(0.7596153846153846), 'lrap': np.float64(0.32142857142857134)}\n"
     ]
    },
    {
     "name": "stderr",
     "output_type": "stream",
     "text": [
      "Epoch 24: 100%|██████████| 76/76 [00:04<00:00, 18.68it/s]\n"
     ]
    },
    {
     "name": "stdout",
     "output_type": "stream",
     "text": [
      "Training loss: 0.01662891431662597\n",
      "{'f1_sampled': 0.4291979949874687, 'f1_micro': 0.48635235732009924, 'f1_macro': 0.22485337049510995, 'f_05_sample': 0.45335914085914086, 'f_05_micro': 0.5568181818181818, 'f_05_macro': 0.25586702035353787, 'precision_sampled': 0.487938596491228, 'precision_micro': 0.6163522012578616, 'precision_macro': 0.2919466735325656, 'recall_sampled': 0.42620614035087717, 'recall_micro': 0.4016393442622951, 'recall_macro': 0.19389944134754594, 'accuracy': 0.2565789473684211, 'coverage_error': np.float64(12.5), 'label_ranking_loss': np.float64(0.7596153846153846), 'lrap': np.float64(0.32142857142857134)}\n"
     ]
    },
    {
     "name": "stderr",
     "output_type": "stream",
     "text": [
      "Epoch 25:   0%|          | 0/76 [00:00<?, ?it/s]"
     ]
    },
    {
     "name": "stdout",
     "output_type": "stream",
     "text": [
      "-- Step: 0\n"
     ]
    },
    {
     "name": "stderr",
     "output_type": "stream",
     "text": [
      "Epoch 25:   5%|▌         | 4/76 [00:00<00:06, 10.60it/s]"
     ]
    },
    {
     "name": "stdout",
     "output_type": "stream",
     "text": [
      "{'f1_sampled': 0.4226190476190476, 'f1_micro': 0.48258706467661694, 'f1_macro': 0.2220327300438075, 'f_05_sample': 0.4467801934907198, 'f_05_micro': 0.5536529680365296, 'f_05_macro': 0.2530611842143684, 'precision_sampled': 0.48135964912280693, 'precision_micro': 0.6139240506329114, 'precision_macro': 0.2896572962431883, 'recall_sampled': 0.41962719298245615, 'recall_micro': 0.3975409836065574, 'recall_macro': 0.19143638716035385, 'accuracy': 0.25, 'coverage_error': np.float64(12.5), 'label_ranking_loss': np.float64(0.7596153846153846), 'lrap': np.float64(0.32142857142857134)}\n"
     ]
    },
    {
     "name": "stderr",
     "output_type": "stream",
     "text": [
      "Epoch 25: 100%|██████████| 76/76 [00:04<00:00, 18.69it/s]\n"
     ]
    },
    {
     "name": "stdout",
     "output_type": "stream",
     "text": [
      "Training loss: 0.015737238376842516\n",
      "{'f1_sampled': 0.4222744360902255, 'f1_micro': 0.4837905236907731, 'f1_macro': 0.2265375314845194, 'f_05_sample': 0.446168688767373, 'f_05_micro': 0.5561926605504587, 'f_05_macro': 0.2582785401021147, 'precision_sampled': 0.48135964912280693, 'precision_micro': 0.6178343949044586, 'precision_macro': 0.2942223963775688, 'recall_sampled': 0.4199561403508772, 'recall_micro': 0.3975409836065574, 'recall_macro': 0.19416716462876252, 'accuracy': 0.2565789473684211, 'coverage_error': np.float64(12.5), 'label_ranking_loss': np.float64(0.7596153846153846), 'lrap': np.float64(0.32142857142857134)}\n"
     ]
    },
    {
     "name": "stderr",
     "output_type": "stream",
     "text": [
      "Epoch 26:   0%|          | 0/76 [00:00<?, ?it/s]"
     ]
    },
    {
     "name": "stdout",
     "output_type": "stream",
     "text": [
      "-- Step: 0\n"
     ]
    },
    {
     "name": "stderr",
     "output_type": "stream",
     "text": [
      "Epoch 26:   5%|▌         | 4/76 [00:00<00:06, 10.49it/s]"
     ]
    },
    {
     "name": "stdout",
     "output_type": "stream",
     "text": [
      "{'f1_sampled': 0.41710526315789476, 'f1_micro': 0.48, 'f1_macro': 0.22605115368024056, 'f_05_sample': 0.4428270012151591, 'f_05_micro': 0.5529953917050692, 'f_05_macro': 0.2578368552172705, 'precision_sampled': 0.4780701754385964, 'precision_micro': 0.6153846153846154, 'precision_macro': 0.29379856063964144, 'recall_sampled': 0.41118421052631576, 'recall_micro': 0.39344262295081966, 'recall_macro': 0.19361259497481395, 'accuracy': 0.25, 'coverage_error': np.float64(12.5), 'label_ranking_loss': np.float64(0.7596153846153846), 'lrap': np.float64(0.32142857142857134)}\n"
     ]
    },
    {
     "name": "stderr",
     "output_type": "stream",
     "text": [
      "Epoch 26: 100%|██████████| 76/76 [00:04<00:00, 18.67it/s]\n"
     ]
    },
    {
     "name": "stdout",
     "output_type": "stream",
     "text": [
      "Training loss: 0.014939415869057962\n",
      "{'f1_sampled': 0.3988095238095238, 'f1_micro': 0.45524296675191817, 'f1_macro': 0.21303151756005198, 'f_05_sample': 0.424199703804967, 'f_05_micro': 0.5348557692307693, 'f_05_macro': 0.24727875349287057, 'precision_sampled': 0.45833333333333326, 'precision_micro': 0.6054421768707483, 'precision_macro': 0.28664352430401585, 'recall_sampled': 0.38980263157894735, 'recall_micro': 0.36475409836065575, 'recall_macro': 0.17913114682711268, 'accuracy': 0.24342105263157895, 'coverage_error': np.float64(12.5), 'label_ranking_loss': np.float64(0.7596153846153846), 'lrap': np.float64(0.32142857142857134)}\n"
     ]
    },
    {
     "name": "stderr",
     "output_type": "stream",
     "text": [
      "Epoch 27:   0%|          | 0/76 [00:00<?, ?it/s]"
     ]
    },
    {
     "name": "stdout",
     "output_type": "stream",
     "text": [
      "-- Step: 0\n"
     ]
    },
    {
     "name": "stderr",
     "output_type": "stream",
     "text": [
      "Epoch 27:   5%|▌         | 4/76 [00:00<00:06, 10.71it/s]"
     ]
    },
    {
     "name": "stdout",
     "output_type": "stream",
     "text": [
      "{'f1_sampled': 0.40100250626566414, 'f1_micro': 0.4564102564102564, 'f1_macro': 0.21338239475303447, 'f_05_sample': 0.4271236804131541, 'f_05_micro': 0.5374396135265701, 'f_05_macro': 0.24802246909602393, 'precision_sampled': 0.4616228070175438, 'precision_micro': 0.6095890410958904, 'precision_macro': 0.2877929495913722, 'recall_sampled': 0.38980263157894735, 'recall_micro': 0.36475409836065575, 'recall_macro': 0.17913114682711268, 'accuracy': 0.25, 'coverage_error': np.float64(12.5), 'label_ranking_loss': np.float64(0.7596153846153846), 'lrap': np.float64(0.32142857142857134)}\n"
     ]
    },
    {
     "name": "stderr",
     "output_type": "stream",
     "text": [
      "Epoch 27: 100%|██████████| 76/76 [00:04<00:00, 18.72it/s]\n"
     ]
    },
    {
     "name": "stdout",
     "output_type": "stream",
     "text": [
      "Training loss: 0.014726639670123788\n",
      "{'f1_sampled': 0.40482456140350875, 'f1_micro': 0.46938775510204084, 'f1_macro': 0.2190344277233859, 'f_05_sample': 0.428951165793271, 'f_05_micro': 0.5502392344497608, 'f_05_macro': 0.25439722696178485, 'precision_sampled': 0.4605263157894737, 'precision_micro': 0.6216216216216216, 'precision_macro': 0.29480852227812715, 'recall_sampled': 0.3974780701754386, 'recall_micro': 0.3770491803278688, 'recall_macro': 0.18378953192028039, 'accuracy': 0.25, 'coverage_error': np.float64(12.5), 'label_ranking_loss': np.float64(0.7596153846153846), 'lrap': np.float64(0.32142857142857134)}\n"
     ]
    },
    {
     "name": "stderr",
     "output_type": "stream",
     "text": [
      "Epoch 28:   0%|          | 0/76 [00:00<?, ?it/s]"
     ]
    },
    {
     "name": "stdout",
     "output_type": "stream",
     "text": [
      "-- Step: 0\n"
     ]
    },
    {
     "name": "stderr",
     "output_type": "stream",
     "text": [
      "Epoch 28:   5%|▌         | 4/76 [00:00<00:06, 10.91it/s]"
     ]
    },
    {
     "name": "stdout",
     "output_type": "stream",
     "text": [
      "{'f1_sampled': 0.41008771929824556, 'f1_micro': 0.4759493670886076, 'f1_macro': 0.22329558618070208, 'f_05_sample': 0.43506018834966204, 'f_05_micro': 0.5542452830188679, 'f_05_macro': 0.2571569672215251, 'precision_sampled': 0.46820175438596484, 'precision_micro': 0.6225165562913907, 'precision_macro': 0.29560217307177794, 'recall_sampled': 0.4029605263157895, 'recall_micro': 0.38524590163934425, 'recall_macro': 0.18889157273660692, 'accuracy': 0.25, 'coverage_error': np.float64(12.5), 'label_ranking_loss': np.float64(0.7596153846153846), 'lrap': np.float64(0.32142857142857134)}\n"
     ]
    },
    {
     "name": "stderr",
     "output_type": "stream",
     "text": [
      "Epoch 28: 100%|██████████| 76/76 [00:04<00:00, 18.74it/s]\n"
     ]
    },
    {
     "name": "stdout",
     "output_type": "stream",
     "text": [
      "Training loss: 0.014114486519247293\n",
      "{'f1_sampled': 0.4133771929824561, 'f1_micro': 0.47474747474747475, 'f1_macro': 0.222491447014691, 'f_05_sample': 0.43834966203387254, 'f_05_micro': 0.5516431924882629, 'f_05_macro': 0.25595895761789705, 'precision_sampled': 0.47149122807017535, 'precision_micro': 0.618421052631579, 'precision_macro': 0.2942912428749867, 'recall_sampled': 0.40625, 'recall_micro': 0.38524590163934425, 'recall_macro': 0.18939165962038876, 'accuracy': 0.25, 'coverage_error': np.float64(12.5), 'label_ranking_loss': np.float64(0.7596153846153846), 'lrap': np.float64(0.32142857142857134)}\n"
     ]
    },
    {
     "name": "stderr",
     "output_type": "stream",
     "text": [
      "Epoch 29:   0%|          | 0/76 [00:00<?, ?it/s]"
     ]
    },
    {
     "name": "stdout",
     "output_type": "stream",
     "text": [
      "-- Step: 0\n"
     ]
    },
    {
     "name": "stderr",
     "output_type": "stream",
     "text": [
      "Epoch 29:   5%|▌         | 4/76 [00:00<00:06, 10.76it/s]"
     ]
    },
    {
     "name": "stdout",
     "output_type": "stream",
     "text": [
      "{'f1_sampled': 0.41666666666666663, 'f1_micro': 0.4797979797979798, 'f1_macro': 0.22518463796900498, 'f_05_sample': 0.44304891015417336, 'f_05_micro': 0.5575117370892019, 'f_05_macro': 0.2587478354067749, 'precision_sampled': 0.4780701754385964, 'precision_micro': 0.625, 'precision_macro': 0.2971777326035817, 'recall_sampled': 0.40844298245614036, 'recall_micro': 0.38934426229508196, 'recall_macro': 0.191942680028552, 'accuracy': 0.25, 'coverage_error': np.float64(12.5), 'label_ranking_loss': np.float64(0.717948717948718), 'lrap': np.float64(0.3541666666666667)}\n"
     ]
    },
    {
     "name": "stderr",
     "output_type": "stream",
     "text": [
      "Epoch 29: 100%|██████████| 76/76 [00:04<00:00, 18.78it/s]\n"
     ]
    },
    {
     "name": "stdout",
     "output_type": "stream",
     "text": [
      "Training loss: 0.013797865384013244\n",
      "{'f1_sampled': 0.4119674185463659, 'f1_micro': 0.4723618090452261, 'f1_macro': 0.21967388104452076, 'f_05_sample': 0.437642766590135, 'f_05_micro': 0.5465116279069767, 'f_05_macro': 0.2524797797514643, 'precision_sampled': 0.47149122807017535, 'precision_micro': 0.6103896103896104, 'precision_macro': 0.29052425496595496, 'recall_sampled': 0.4053728070175439, 'recall_micro': 0.38524590163934425, 'recall_macro': 0.18748317508714515, 'accuracy': 0.23684210526315788, 'coverage_error': np.float64(12.5), 'label_ranking_loss': np.float64(0.7596153846153846), 'lrap': np.float64(0.32142857142857134)}\n"
     ]
    },
    {
     "name": "stderr",
     "output_type": "stream",
     "text": [
      "Epoch 30:   0%|          | 0/76 [00:00<?, ?it/s]"
     ]
    },
    {
     "name": "stdout",
     "output_type": "stream",
     "text": [
      "-- Step: 0\n"
     ]
    },
    {
     "name": "stderr",
     "output_type": "stream",
     "text": [
      "Epoch 30:   5%|▌         | 4/76 [00:00<00:06, 10.91it/s]"
     ]
    },
    {
     "name": "stdout",
     "output_type": "stream",
     "text": [
      "{'f1_sampled': 0.4119674185463659, 'f1_micro': 0.4723618090452261, 'f1_macro': 0.21967388104452076, 'f_05_sample': 0.437642766590135, 'f_05_micro': 0.5465116279069767, 'f_05_macro': 0.2524797797514643, 'precision_sampled': 0.47149122807017535, 'precision_micro': 0.6103896103896104, 'precision_macro': 0.29052425496595496, 'recall_sampled': 0.4053728070175439, 'recall_micro': 0.38524590163934425, 'recall_macro': 0.18748317508714515, 'accuracy': 0.23684210526315788, 'coverage_error': np.float64(12.5), 'label_ranking_loss': np.float64(0.7596153846153846), 'lrap': np.float64(0.32142857142857134)}\n"
     ]
    },
    {
     "name": "stderr",
     "output_type": "stream",
     "text": [
      "Epoch 30: 100%|██████████| 76/76 [00:04<00:00, 18.73it/s]\n"
     ]
    },
    {
     "name": "stdout",
     "output_type": "stream",
     "text": [
      "Training loss: 0.013436727256416097\n",
      "{'f1_sampled': 0.406390977443609, 'f1_micro': 0.4681933842239186, 'f1_macro': 0.21741827351946338, 'f_05_sample': 0.43263023526181427, 'f_05_micro': 0.5476190476190477, 'f_05_macro': 0.2524137340560927, 'precision_sampled': 0.46710526315789475, 'precision_micro': 0.6174496644295302, 'precision_macro': 0.2919419016357792, 'recall_sampled': 0.3944078947368421, 'recall_micro': 0.3770491803278688, 'recall_macro': 0.182049817689987, 'accuracy': 0.2565789473684211, 'coverage_error': np.float64(12.5), 'label_ranking_loss': np.float64(0.7596153846153846), 'lrap': np.float64(0.32142857142857134)}\n"
     ]
    },
    {
     "name": "stderr",
     "output_type": "stream",
     "text": [
      "Epoch 31:   0%|          | 0/76 [00:00<?, ?it/s]"
     ]
    },
    {
     "name": "stdout",
     "output_type": "stream",
     "text": [
      "-- Step: 0\n"
     ]
    },
    {
     "name": "stderr",
     "output_type": "stream",
     "text": [
      "Epoch 31:   5%|▌         | 4/76 [00:00<00:06, 10.87it/s]"
     ]
    },
    {
     "name": "stdout",
     "output_type": "stream",
     "text": [
      "{'f1_sampled': 0.406390977443609, 'f1_micro': 0.4681933842239186, 'f1_macro': 0.21741827351946338, 'f_05_sample': 0.43263023526181427, 'f_05_micro': 0.5476190476190477, 'f_05_macro': 0.2524137340560927, 'precision_sampled': 0.46710526315789475, 'precision_micro': 0.6174496644295302, 'precision_macro': 0.2919419016357792, 'recall_sampled': 0.3944078947368421, 'recall_micro': 0.3770491803278688, 'recall_macro': 0.182049817689987, 'accuracy': 0.2565789473684211, 'coverage_error': np.float64(12.5), 'label_ranking_loss': np.float64(0.7596153846153846), 'lrap': np.float64(0.32142857142857134)}\n"
     ]
    },
    {
     "name": "stderr",
     "output_type": "stream",
     "text": [
      "Epoch 31: 100%|██████████| 76/76 [00:04<00:00, 18.78it/s]\n"
     ]
    },
    {
     "name": "stdout",
     "output_type": "stream",
     "text": [
      "Training loss: 0.013345585357838948\n",
      "{'f1_sampled': 0.40964912280701754, 'f1_micro': 0.46938775510204084, 'f1_macro': 0.22358817627143668, 'f_05_sample': 0.43744897281081496, 'f_05_micro': 0.5502392344497608, 'f_05_macro': 0.25853257306204586, 'precision_sampled': 0.47368421052631576, 'precision_micro': 0.6216216216216216, 'precision_macro': 0.2968285726989208, 'recall_sampled': 0.3991228070175439, 'recall_micro': 0.3770491803278688, 'recall_macro': 0.187371986537536, 'accuracy': 0.24342105263157895, 'coverage_error': np.float64(12.5), 'label_ranking_loss': np.float64(0.6971153846153846), 'lrap': np.float64(0.3749999999999999)}\n"
     ]
    },
    {
     "name": "stderr",
     "output_type": "stream",
     "text": [
      "Epoch 32:   0%|          | 0/76 [00:00<?, ?it/s]"
     ]
    },
    {
     "name": "stdout",
     "output_type": "stream",
     "text": [
      "-- Step: 0\n"
     ]
    },
    {
     "name": "stderr",
     "output_type": "stream",
     "text": [
      "Epoch 32:   5%|▌         | 4/76 [00:00<00:06, 10.67it/s]"
     ]
    },
    {
     "name": "stdout",
     "output_type": "stream",
     "text": [
      "{'f1_sampled': 0.4052631578947368, 'f1_micro': 0.46547314578005117, 'f1_macro': 0.22117271733423863, 'f_05_sample': 0.431966516670464, 'f_05_micro': 0.546875, 'f_05_macro': 0.2564342944423173, 'precision_sampled': 0.46710526315789475, 'precision_micro': 0.6190476190476191, 'precision_macro': 0.29525294244682004, 'recall_sampled': 0.39583333333333337, 'recall_micro': 0.3729508196721312, 'recall_macro': 0.1849089323503439, 'accuracy': 0.24342105263157895, 'coverage_error': np.float64(12.5), 'label_ranking_loss': np.float64(0.7596153846153846), 'lrap': np.float64(0.32142857142857134)}\n"
     ]
    },
    {
     "name": "stderr",
     "output_type": "stream",
     "text": [
      "Epoch 32: 100%|██████████| 76/76 [00:04<00:00, 18.85it/s]\n"
     ]
    },
    {
     "name": "stdout",
     "output_type": "stream",
     "text": [
      "Training loss: 0.012701273001240273\n",
      "{'f1_sampled': 0.4143796992481203, 'f1_micro': 0.47058823529411764, 'f1_macro': 0.22172280406415437, 'f_05_sample': 0.4396027948659528, 'f_05_micro': 0.5528846153846154, 'f_05_macro': 0.25769251571526863, 'precision_sampled': 0.47368421052631576, 'precision_micro': 0.6258503401360545, 'precision_macro': 0.3048635653579355, 'recall_sampled': 0.40625, 'recall_micro': 0.3770491803278688, 'recall_macro': 0.18546350200429243, 'accuracy': 0.2565789473684211, 'coverage_error': np.float64(12.5), 'label_ranking_loss': np.float64(0.7596153846153846), 'lrap': np.float64(0.32142857142857134)}\n"
     ]
    },
    {
     "name": "stderr",
     "output_type": "stream",
     "text": [
      "Epoch 33:   0%|          | 0/76 [00:00<?, ?it/s]"
     ]
    },
    {
     "name": "stdout",
     "output_type": "stream",
     "text": [
      "-- Step: 0\n"
     ]
    },
    {
     "name": "stderr",
     "output_type": "stream",
     "text": [
      "Epoch 33:   5%|▌         | 4/76 [00:00<00:06, 10.76it/s]"
     ]
    },
    {
     "name": "stdout",
     "output_type": "stream",
     "text": [
      "{'f1_sampled': 0.4143796992481203, 'f1_micro': 0.47058823529411764, 'f1_macro': 0.2219799106083111, 'f_05_sample': 0.4396027948659528, 'f_05_micro': 0.5528846153846154, 'f_05_macro': 0.25885361233782567, 'precision_sampled': 0.47368421052631576, 'precision_micro': 0.6258503401360545, 'precision_macro': 0.30748871798308813, 'recall_sampled': 0.40625, 'recall_micro': 0.3770491803278688, 'recall_macro': 0.18546350200429243, 'accuracy': 0.2565789473684211, 'coverage_error': np.float64(12.5), 'label_ranking_loss': np.float64(0.7596153846153846), 'lrap': np.float64(0.32142857142857134)}\n"
     ]
    },
    {
     "name": "stderr",
     "output_type": "stream",
     "text": [
      "Epoch 33: 100%|██████████| 76/76 [00:04<00:00, 18.82it/s]\n"
     ]
    },
    {
     "name": "stdout",
     "output_type": "stream",
     "text": [
      "Training loss: 0.01236624157938518\n",
      "{'f1_sampled': 0.40187969924812034, 'f1_micro': 0.4583333333333333, 'f1_macro': 0.2130525743198201, 'f_05_sample': 0.4301639515455305, 'f_05_micro': 0.5472636815920398, 'f_05_macro': 0.25355865843295733, 'precision_sampled': 0.46710526315789475, 'precision_micro': 0.6285714285714286, 'precision_macro': 0.3080596784168213, 'recall_sampled': 0.3881578947368421, 'recall_micro': 0.36065573770491804, 'recall_macro': 0.174840412188656, 'accuracy': 0.25, 'coverage_error': np.float64(12.5), 'label_ranking_loss': np.float64(0.7596153846153846), 'lrap': np.float64(0.32142857142857134)}\n"
     ]
    },
    {
     "name": "stderr",
     "output_type": "stream",
     "text": [
      "Epoch 34:   0%|          | 0/76 [00:00<?, ?it/s]"
     ]
    },
    {
     "name": "stdout",
     "output_type": "stream",
     "text": [
      "-- Step: 0\n"
     ]
    },
    {
     "name": "stderr",
     "output_type": "stream",
     "text": [
      "Epoch 34:   5%|▌         | 4/76 [00:00<00:06, 10.85it/s]"
     ]
    },
    {
     "name": "stdout",
     "output_type": "stream",
     "text": [
      "{'f1_sampled': 0.40187969924812034, 'f1_micro': 0.46113989637305697, 'f1_macro': 0.2151671113254642, 'f_05_sample': 0.4299812030075188, 'f_05_micro': 0.5480295566502463, 'f_05_macro': 0.2550203675185055, 'precision_sampled': 0.46710526315789475, 'precision_micro': 0.6267605633802817, 'precision_macro': 0.30845761381475667, 'recall_sampled': 0.38980263157894735, 'recall_micro': 0.36475409836065575, 'recall_macro': 0.1773914325968193, 'accuracy': 0.24342105263157895, 'coverage_error': np.float64(12.5), 'label_ranking_loss': np.float64(0.7596153846153846), 'lrap': np.float64(0.32142857142857134)}\n"
     ]
    },
    {
     "name": "stderr",
     "output_type": "stream",
     "text": [
      "Epoch 34: 100%|██████████| 76/76 [00:04<00:00, 18.78it/s]\n"
     ]
    },
    {
     "name": "stdout",
     "output_type": "stream",
     "text": [
      "Training loss: 0.012034163589736349\n",
      "{'f1_sampled': 0.4151629072681704, 'f1_micro': 0.47474747474747475, 'f1_macro': 0.21935591837614804, 'f_05_sample': 0.4381126914021651, 'f_05_micro': 0.5516431924882629, 'f_05_macro': 0.254448595807603, 'precision_sampled': 0.47039473684210525, 'precision_micro': 0.618421052631579, 'precision_macro': 0.30226190476190473, 'recall_sampled': 0.4108552631578948, 'recall_micro': 0.38524590163934425, 'recall_macro': 0.1850674415311276, 'accuracy': 0.2565789473684211, 'coverage_error': np.float64(12.5), 'label_ranking_loss': np.float64(0.7596153846153846), 'lrap': np.float64(0.32142857142857134)}\n"
     ]
    },
    {
     "name": "stderr",
     "output_type": "stream",
     "text": [
      "Epoch 35:   0%|          | 0/76 [00:00<?, ?it/s]"
     ]
    },
    {
     "name": "stdout",
     "output_type": "stream",
     "text": [
      "-- Step: 0\n"
     ]
    },
    {
     "name": "stderr",
     "output_type": "stream",
     "text": [
      "Epoch 35:   5%|▌         | 4/76 [00:00<00:06, 10.92it/s]"
     ]
    },
    {
     "name": "stdout",
     "output_type": "stream",
     "text": [
      "{'f1_sampled': 0.4184523809523809, 'f1_micro': 0.47715736040609136, 'f1_macro': 0.22183243229137764, 'f_05_sample': 0.4432296504664926, 'f_05_micro': 0.556872037914692, 'f_05_macro': 0.2580311124925739, 'precision_sampled': 0.4769736842105263, 'precision_micro': 0.6266666666666667, 'precision_macro': 0.306452158952159, 'recall_sampled': 0.4108552631578948, 'recall_micro': 0.38524590163934425, 'recall_macro': 0.186065666908235, 'accuracy': 0.2631578947368421, 'coverage_error': np.float64(12.5), 'label_ranking_loss': np.float64(0.7596153846153846), 'lrap': np.float64(0.32142857142857134)}\n"
     ]
    },
    {
     "name": "stderr",
     "output_type": "stream",
     "text": [
      "Epoch 35: 100%|██████████| 76/76 [00:04<00:00, 18.74it/s]\n"
     ]
    },
    {
     "name": "stdout",
     "output_type": "stream",
     "text": [
      "Training loss: 0.012274952930104183\n",
      "{'f1_sampled': 0.4176691729323308, 'f1_micro': 0.4708860759493671, 'f1_macro': 0.22118220744641187, 'f_05_sample': 0.4428922685501633, 'f_05_micro': 0.5483490566037735, 'f_05_macro': 0.2548352983707669, 'precision_sampled': 0.4769736842105263, 'precision_micro': 0.6158940397350994, 'precision_macro': 0.292334545154094, 'recall_sampled': 0.4095394736842105, 'recall_micro': 0.38114754098360654, 'recall_macro': 0.18672324467819998, 'accuracy': 0.25, 'coverage_error': np.float64(12.5), 'label_ranking_loss': np.float64(0.7596153846153846), 'lrap': np.float64(0.32142857142857134)}\n"
     ]
    },
    {
     "name": "stderr",
     "output_type": "stream",
     "text": [
      "Epoch 36:   0%|          | 0/76 [00:00<?, ?it/s]"
     ]
    },
    {
     "name": "stdout",
     "output_type": "stream",
     "text": [
      "-- Step: 0\n"
     ]
    },
    {
     "name": "stderr",
     "output_type": "stream",
     "text": [
      "Epoch 36:   5%|▌         | 4/76 [00:00<00:06, 10.95it/s]"
     ]
    },
    {
     "name": "stdout",
     "output_type": "stream",
     "text": [
      "{'f1_sampled': 0.4165726817042606, 'f1_micro': 0.4681933842239186, 'f1_macro': 0.22061421325844544, 'f_05_sample': 0.4425267714741399, 'f_05_micro': 0.5476190476190477, 'f_05_macro': 0.254764987206003, 'precision_sampled': 0.4769736842105263, 'precision_micro': 0.6174496644295302, 'precision_macro': 0.2926092704288193, 'recall_sampled': 0.40625, 'recall_micro': 0.3770491803278688, 'recall_macro': 0.18537553578332128, 'accuracy': 0.2565789473684211, 'coverage_error': np.float64(12.5), 'label_ranking_loss': np.float64(0.7596153846153846), 'lrap': np.float64(0.32142857142857134)}\n"
     ]
    },
    {
     "name": "stderr",
     "output_type": "stream",
     "text": [
      "Epoch 36: 100%|██████████| 76/76 [00:04<00:00, 18.81it/s]\n"
     ]
    },
    {
     "name": "stdout",
     "output_type": "stream",
     "text": [
      "Training loss: 0.011212810365434148\n",
      "{'f1_sampled': 0.4198621553884711, 'f1_micro': 0.4696969696969697, 'f1_macro': 0.21974724994687794, 'f_05_sample': 0.44581624515835044, 'f_05_micro': 0.545774647887324, 'f_05_macro': 0.25326016265506734, 'precision_sampled': 0.48026315789473684, 'precision_micro': 0.6118421052631579, 'precision_macro': 0.2909583759061937, 'recall_sampled': 0.4095394736842105, 'recall_micro': 0.38114754098360654, 'recall_macro': 0.18542313103331534, 'accuracy': 0.2565789473684211, 'coverage_error': np.float64(12.5), 'label_ranking_loss': np.float64(0.6971153846153846), 'lrap': np.float64(0.3749999999999999)}\n"
     ]
    },
    {
     "name": "stderr",
     "output_type": "stream",
     "text": [
      "Epoch 37:   0%|          | 0/76 [00:00<?, ?it/s]"
     ]
    },
    {
     "name": "stdout",
     "output_type": "stream",
     "text": [
      "-- Step: 0\n"
     ]
    },
    {
     "name": "stderr",
     "output_type": "stream",
     "text": [
      "Epoch 37:   5%|▌         | 4/76 [00:00<00:06, 10.75it/s]"
     ]
    },
    {
     "name": "stdout",
     "output_type": "stream",
     "text": [
      "{'f1_sampled': 0.41547619047619044, 'f1_micro': 0.46582278481012657, 'f1_macro': 0.21828254923405693, 'f_05_sample': 0.4421612743981165, 'f_05_micro': 0.5424528301886793, 'f_05_macro': 0.25196928485816544, 'precision_sampled': 0.4769736842105263, 'precision_micro': 0.609271523178808, 'precision_macro': 0.2898831070889894, 'recall_sampled': 0.4029605263157895, 'recall_micro': 0.3770491803278688, 'recall_macro': 0.1838703360022594, 'accuracy': 0.2565789473684211, 'coverage_error': np.float64(12.5), 'label_ranking_loss': np.float64(0.6971153846153846), 'lrap': np.float64(0.3749999999999999)}\n"
     ]
    },
    {
     "name": "stderr",
     "output_type": "stream",
     "text": [
      "Epoch 37: 100%|██████████| 76/76 [00:04<00:00, 18.70it/s]\n"
     ]
    },
    {
     "name": "stdout",
     "output_type": "stream",
     "text": [
      "Training loss: 0.011097133276052773\n",
      "{'f1_sampled': 0.4314849624060151, 'f1_micro': 0.48258706467661694, 'f1_macro': 0.2284017027375301, 'f_05_sample': 0.4522765246449457, 'f_05_micro': 0.5536529680365296, 'f_05_macro': 0.26170247291951526, 'precision_sampled': 0.48355263157894735, 'precision_micro': 0.6139240506329114, 'precision_macro': 0.3069811294772283, 'recall_sampled': 0.43256578947368424, 'recall_micro': 0.3975409836065574, 'recall_macro': 0.19534988373962164, 'accuracy': 0.2565789473684211, 'coverage_error': np.float64(12.5), 'label_ranking_loss': np.float64(0.7596153846153846), 'lrap': np.float64(0.32142857142857134)}\n"
     ]
    },
    {
     "name": "stderr",
     "output_type": "stream",
     "text": [
      "Epoch 38:   0%|          | 0/76 [00:00<?, ?it/s]"
     ]
    },
    {
     "name": "stdout",
     "output_type": "stream",
     "text": [
      "-- Step: 0\n"
     ]
    },
    {
     "name": "stderr",
     "output_type": "stream",
     "text": [
      "Epoch 38:   5%|▌         | 4/76 [00:00<00:06, 10.51it/s]"
     ]
    },
    {
     "name": "stdout",
     "output_type": "stream",
     "text": [
      "{'f1_sampled': 0.4303884711779449, 'f1_micro': 0.48120300751879697, 'f1_macro': 0.22783962632048307, 'f_05_sample': 0.4533730158730158, 'f_05_micro': 0.5555555555555556, 'f_05_macro': 0.2619759986894763, 'precision_sampled': 0.4868421052631579, 'precision_micro': 0.6193548387096774, 'precision_macro': 0.30797010007536324, 'recall_sampled': 0.4292763157894737, 'recall_micro': 0.39344262295081966, 'recall_macro': 0.19379708870856577, 'accuracy': 0.25, 'coverage_error': np.float64(12.5), 'label_ranking_loss': np.float64(0.7596153846153846), 'lrap': np.float64(0.32142857142857134)}\n"
     ]
    },
    {
     "name": "stderr",
     "output_type": "stream",
     "text": [
      "Epoch 38: 100%|██████████| 76/76 [00:04<00:00, 18.72it/s]\n"
     ]
    },
    {
     "name": "stdout",
     "output_type": "stream",
     "text": [
      "Training loss: 0.011220939347128334\n",
      "{'f1_sampled': 0.4216165413533835, 'f1_micro': 0.47738693467336685, 'f1_macro': 0.22292280332761974, 'f_05_sample': 0.44423558897243104, 'f_05_micro': 0.5523255813953488, 'f_05_macro': 0.2572601365275914, 'precision_sampled': 0.4769736842105263, 'precision_micro': 0.6168831168831169, 'precision_macro': 0.30361282974728354, 'recall_sampled': 0.4194078947368421, 'recall_micro': 0.38934426229508196, 'recall_macro': 0.18891857558417557, 'accuracy': 0.25, 'coverage_error': np.float64(12.5), 'label_ranking_loss': np.float64(0.7596153846153846), 'lrap': np.float64(0.32142857142857134)}\n"
     ]
    },
    {
     "name": "stderr",
     "output_type": "stream",
     "text": [
      "Epoch 39:   0%|          | 0/76 [00:00<?, ?it/s]"
     ]
    },
    {
     "name": "stdout",
     "output_type": "stream",
     "text": [
      "-- Step: 0\n"
     ]
    },
    {
     "name": "stderr",
     "output_type": "stream",
     "text": [
      "Epoch 39:   5%|▌         | 4/76 [00:00<00:06, 10.72it/s]"
     ]
    },
    {
     "name": "stdout",
     "output_type": "stream",
     "text": [
      "{'f1_sampled': 0.4183270676691729, 'f1_micro': 0.47474747474747475, 'f1_macro': 0.22267890780755908, 'f_05_sample': 0.44277360066833754, 'f_05_micro': 0.5516431924882629, 'f_05_macro': 0.2575042480161166, 'precision_sampled': 0.4769736842105263, 'precision_micro': 0.618421052631579, 'precision_macro': 0.29665550136138374, 'recall_sampled': 0.4128289473684211, 'recall_micro': 0.38524590163934425, 'recall_macro': 0.18736578055311967, 'accuracy': 0.25, 'coverage_error': np.float64(12.5), 'label_ranking_loss': np.float64(0.7596153846153846), 'lrap': np.float64(0.32142857142857134)}\n"
     ]
    },
    {
     "name": "stderr",
     "output_type": "stream",
     "text": [
      "Epoch 39: 100%|██████████| 76/76 [00:04<00:00, 18.76it/s]\n"
     ]
    },
    {
     "name": "stdout",
     "output_type": "stream",
     "text": [
      "Training loss: 0.010636754713854507\n",
      "{'f1_sampled': 0.4319235588972431, 'f1_micro': 0.4827586206896552, 'f1_macro': 0.22576997980642846, 'f_05_sample': 0.4523670773670774, 'f_05_micro': 0.5493273542600897, 'f_05_macro': 0.25617533116334673, 'precision_sampled': 0.48245614035087725, 'precision_micro': 0.6049382716049383, 'precision_macro': 0.29017100487688724, 'recall_sampled': 0.43256578947368424, 'recall_micro': 0.4016393442622951, 'recall_macro': 0.19437009991827342, 'accuracy': 0.2631578947368421, 'coverage_error': np.float64(12.5), 'label_ranking_loss': np.float64(0.7596153846153846), 'lrap': np.float64(0.32142857142857134)}\n"
     ]
    },
    {
     "name": "stderr",
     "output_type": "stream",
     "text": [
      "Epoch 40:   0%|          | 0/76 [00:00<?, ?it/s]"
     ]
    },
    {
     "name": "stdout",
     "output_type": "stream",
     "text": [
      "-- Step: 0\n"
     ]
    },
    {
     "name": "stderr",
     "output_type": "stream",
     "text": [
      "Epoch 40:   5%|▌         | 4/76 [00:00<00:06, 10.86it/s]"
     ]
    },
    {
     "name": "stdout",
     "output_type": "stream",
     "text": [
      "{'f1_sampled': 0.4319235588972431, 'f1_micro': 0.4827586206896552, 'f1_macro': 0.22576997980642846, 'f_05_sample': 0.4523670773670774, 'f_05_micro': 0.5493273542600897, 'f_05_macro': 0.25617533116334673, 'precision_sampled': 0.48245614035087725, 'precision_micro': 0.6049382716049383, 'precision_macro': 0.29017100487688724, 'recall_sampled': 0.43256578947368424, 'recall_micro': 0.4016393442622951, 'recall_macro': 0.19437009991827342, 'accuracy': 0.2631578947368421, 'coverage_error': np.float64(12.5), 'label_ranking_loss': np.float64(0.7596153846153846), 'lrap': np.float64(0.32142857142857134)}\n"
     ]
    },
    {
     "name": "stderr",
     "output_type": "stream",
     "text": [
      "Epoch 40: 100%|██████████| 76/76 [00:04<00:00, 18.80it/s]\n"
     ]
    },
    {
     "name": "stdout",
     "output_type": "stream",
     "text": [
      "Training loss: 0.01050054925297828\n",
      "{'f1_sampled': 0.43126566416040096, 'f1_micro': 0.48514851485148514, 'f1_macro': 0.22779542070664907, 'f_05_sample': 0.4521210697197539, 'f_05_micro': 0.5542986425339367, 'f_05_macro': 0.2578966274715549, 'precision_sampled': 0.48355263157894735, 'precision_micro': 0.6125, 'precision_macro': 0.2906776556776557, 'recall_sampled': 0.4309210526315789, 'recall_micro': 0.4016393442622951, 'recall_macro': 0.19548544521058683, 'accuracy': 0.2631578947368421, 'coverage_error': np.float64(12.5), 'label_ranking_loss': np.float64(0.7596153846153846), 'lrap': np.float64(0.32142857142857134)}\n"
     ]
    },
    {
     "name": "stderr",
     "output_type": "stream",
     "text": [
      "Epoch 41:   0%|          | 0/76 [00:00<?, ?it/s]"
     ]
    },
    {
     "name": "stdout",
     "output_type": "stream",
     "text": [
      "-- Step: 0\n"
     ]
    },
    {
     "name": "stderr",
     "output_type": "stream",
     "text": [
      "Epoch 41:   5%|▌         | 4/76 [00:00<00:06, 10.71it/s]"
     ]
    },
    {
     "name": "stdout",
     "output_type": "stream",
     "text": [
      "{'f1_sampled': 0.43126566416040096, 'f1_micro': 0.48514851485148514, 'f1_macro': 0.22779542070664907, 'f_05_sample': 0.4521210697197539, 'f_05_micro': 0.5542986425339367, 'f_05_macro': 0.2578966274715549, 'precision_sampled': 0.48355263157894735, 'precision_micro': 0.6125, 'precision_macro': 0.2906776556776557, 'recall_sampled': 0.4309210526315789, 'recall_micro': 0.4016393442622951, 'recall_macro': 0.19548544521058683, 'accuracy': 0.2631578947368421, 'coverage_error': np.float64(12.5), 'label_ranking_loss': np.float64(0.7596153846153846), 'lrap': np.float64(0.32142857142857134)}\n"
     ]
    },
    {
     "name": "stderr",
     "output_type": "stream",
     "text": [
      "Epoch 41: 100%|██████████| 76/76 [00:04<00:00, 18.69it/s]\n"
     ]
    },
    {
     "name": "stdout",
     "output_type": "stream",
     "text": [
      "Training loss: 0.0104175905059827\n",
      "{'f1_sampled': 0.4353383458646616, 'f1_micro': 0.49261083743842365, 'f1_macro': 0.23176812935733002, 'f_05_sample': 0.45720991362438734, 'f_05_micro': 0.5605381165919282, 'f_05_macro': 0.2618735106578572, 'precision_sampled': 0.4901315789473684, 'precision_micro': 0.6172839506172839, 'precision_macro': 0.29496578538595347, 'recall_sampled': 0.4355263157894736, 'recall_micro': 0.4098360655737705, 'recall_macro': 0.19989114891758328, 'accuracy': 0.2565789473684211, 'coverage_error': np.float64(12.5), 'label_ranking_loss': np.float64(0.7596153846153846), 'lrap': np.float64(0.32142857142857134)}\n"
     ]
    },
    {
     "name": "stderr",
     "output_type": "stream",
     "text": [
      "Epoch 42:   0%|          | 0/76 [00:00<?, ?it/s]"
     ]
    },
    {
     "name": "stdout",
     "output_type": "stream",
     "text": [
      "-- Step: 0\n"
     ]
    },
    {
     "name": "stderr",
     "output_type": "stream",
     "text": [
      "Epoch 42:   5%|▌         | 4/76 [00:00<00:06, 10.81it/s]"
     ]
    },
    {
     "name": "stdout",
     "output_type": "stream",
     "text": [
      "{'f1_sampled': 0.44191729323308265, 'f1_micro': 0.4963144963144963, 'f1_macro': 0.23414687919213906, 'f_05_sample': 0.4637888609928084, 'f_05_micro': 0.5636160714285714, 'f_05_macro': 0.2639514062235552, 'precision_sampled': 0.4967105263157895, 'precision_micro': 0.6196319018404908, 'precision_macro': 0.29659977231405804, 'recall_sampled': 0.44210526315789467, 'recall_micro': 0.4139344262295082, 'recall_macro': 0.2023542031047754, 'accuracy': 0.2631578947368421, 'coverage_error': np.float64(12.5), 'label_ranking_loss': np.float64(0.7596153846153846), 'lrap': np.float64(0.32142857142857134)}\n"
     ]
    },
    {
     "name": "stderr",
     "output_type": "stream",
     "text": [
      "Epoch 42: 100%|██████████| 76/76 [00:04<00:00, 18.75it/s]\n"
     ]
    },
    {
     "name": "stdout",
     "output_type": "stream",
     "text": [
      "Training loss: 0.010257393360677125\n",
      "{'f1_sampled': 0.43687343358395986, 'f1_micro': 0.4914004914004914, 'f1_macro': 0.2290357774044351, 'f_05_sample': 0.45743182256340154, 'f_05_micro': 0.5580357142857143, 'f_05_macro': 0.2589916638820012, 'precision_sampled': 0.487938596491228, 'precision_micro': 0.6134969325153374, 'precision_macro': 0.29261025731613965, 'recall_sampled': 0.43717105263157885, 'recall_micro': 0.4098360655737705, 'recall_macro': 0.1981550378064722, 'accuracy': 0.2631578947368421, 'coverage_error': np.float64(12.5), 'label_ranking_loss': np.float64(0.7596153846153846), 'lrap': np.float64(0.32142857142857134)}\n"
     ]
    },
    {
     "name": "stderr",
     "output_type": "stream",
     "text": [
      "Epoch 43:   0%|          | 0/76 [00:00<?, ?it/s]"
     ]
    },
    {
     "name": "stdout",
     "output_type": "stream",
     "text": [
      "-- Step: 0\n"
     ]
    },
    {
     "name": "stderr",
     "output_type": "stream",
     "text": [
      "Epoch 43:   5%|▌         | 4/76 [00:00<00:06, 10.92it/s]"
     ]
    },
    {
     "name": "stdout",
     "output_type": "stream",
     "text": [
      "{'f1_sampled': 0.4302944862155388, 'f1_micro': 0.4876847290640394, 'f1_macro': 0.22655130535474566, 'f_05_sample': 0.45085287519498046, 'f_05_micro': 0.554932735426009, 'f_05_macro': 0.2567350246117271, 'precision_sampled': 0.48135964912280693, 'precision_micro': 0.6111111111111112, 'precision_macro': 0.290772022022022, 'recall_sampled': 0.43059210526315783, 'recall_micro': 0.4057377049180328, 'recall_macro': 0.19569198361928006, 'accuracy': 0.2565789473684211, 'coverage_error': np.float64(12.5), 'label_ranking_loss': np.float64(0.7596153846153846), 'lrap': np.float64(0.32142857142857134)}\n"
     ]
    },
    {
     "name": "stderr",
     "output_type": "stream",
     "text": [
      "Epoch 43: 100%|██████████| 76/76 [00:04<00:00, 18.79it/s]\n"
     ]
    },
    {
     "name": "stdout",
     "output_type": "stream",
     "text": [
      "Training loss: 0.009892941581232375\n",
      "{'f1_sampled': 0.4386278195488722, 'f1_micro': 0.49148418491484186, 'f1_macro': 0.2301652877811986, 'f_05_sample': 0.4601057750728804, 'f_05_micro': 0.5537280701754386, 'f_05_macro': 0.2577459411869063, 'precision_sampled': 0.49232456140350883, 'precision_micro': 0.6047904191616766, 'precision_macro': 0.28835657519868046, 'recall_sampled': 0.43881578947368416, 'recall_micro': 0.4139344262295082, 'recall_macro': 0.20084900332371355, 'accuracy': 0.2631578947368421, 'coverage_error': np.float64(12.5), 'label_ranking_loss': np.float64(0.6971153846153846), 'lrap': np.float64(0.3749999999999999)}\n"
     ]
    },
    {
     "name": "stderr",
     "output_type": "stream",
     "text": [
      "Epoch 44:   0%|          | 0/76 [00:00<?, ?it/s]"
     ]
    },
    {
     "name": "stdout",
     "output_type": "stream",
     "text": [
      "-- Step: 0\n"
     ]
    },
    {
     "name": "stderr",
     "output_type": "stream",
     "text": [
      "Epoch 44:   5%|▌         | 4/76 [00:00<00:06, 11.10it/s]"
     ]
    },
    {
     "name": "stdout",
     "output_type": "stream",
     "text": [
      "{'f1_sampled': 0.43599624060150377, 'f1_micro': 0.4878048780487805, 'f1_macro': 0.22739673850102143, 'f_05_sample': 0.45599393296761725, 'f_05_micro': 0.5506607929515418, 'f_05_macro': 0.2550403134812786, 'precision_sampled': 0.48574561403508776, 'precision_micro': 0.6024096385542169, 'precision_macro': 0.2859756228177281, 'recall_sampled': 0.43717105263157885, 'recall_micro': 0.4098360655737705, 'recall_macro': 0.19829798291555029, 'accuracy': 0.2631578947368421, 'coverage_error': np.float64(12.5), 'label_ranking_loss': np.float64(0.6971153846153846), 'lrap': np.float64(0.3749999999999999)}\n"
     ]
    },
    {
     "name": "stderr",
     "output_type": "stream",
     "text": [
      "Epoch 44: 100%|██████████| 76/76 [00:04<00:00, 18.77it/s]\n"
     ]
    },
    {
     "name": "stdout",
     "output_type": "stream",
     "text": [
      "Training loss: 0.00998640742986218\n",
      "{'f1_sampled': 0.4270050125313284, 'f1_micro': 0.4841075794621027, 'f1_macro': 0.2245670578404789, 'f_05_sample': 0.44534230389493557, 'f_05_micro': 0.547566371681416, 'f_05_macro': 0.2524672167939233, 'precision_sampled': 0.47368421052631576, 'precision_micro': 0.6, 'precision_macro': 0.2839311151811152, 'recall_sampled': 0.43059210526315783, 'recall_micro': 0.4057377049180328, 'recall_macro': 0.19569198361928006, 'accuracy': 0.2565789473684211, 'coverage_error': np.float64(12.5), 'label_ranking_loss': np.float64(0.7596153846153846), 'lrap': np.float64(0.32142857142857134)}\n"
     ]
    },
    {
     "name": "stderr",
     "output_type": "stream",
     "text": [
      "Epoch 45:   0%|          | 0/76 [00:00<?, ?it/s]"
     ]
    },
    {
     "name": "stdout",
     "output_type": "stream",
     "text": [
      "-- Step: 0\n"
     ]
    },
    {
     "name": "stderr",
     "output_type": "stream",
     "text": [
      "Epoch 45:   5%|▌         | 4/76 [00:00<00:06, 10.76it/s]"
     ]
    },
    {
     "name": "stdout",
     "output_type": "stream",
     "text": [
      "{'f1_sampled': 0.4270050125313284, 'f1_micro': 0.4841075794621027, 'f1_macro': 0.2245670578404789, 'f_05_sample': 0.44534230389493557, 'f_05_micro': 0.547566371681416, 'f_05_macro': 0.2524672167939233, 'precision_sampled': 0.47368421052631576, 'precision_micro': 0.6, 'precision_macro': 0.2839311151811152, 'recall_sampled': 0.43059210526315783, 'recall_micro': 0.4057377049180328, 'recall_macro': 0.19569198361928006, 'accuracy': 0.2565789473684211, 'coverage_error': np.float64(12.5), 'label_ranking_loss': np.float64(0.7596153846153846), 'lrap': np.float64(0.32142857142857134)}\n"
     ]
    },
    {
     "name": "stderr",
     "output_type": "stream",
     "text": [
      "Epoch 45: 100%|██████████| 76/76 [00:04<00:00, 18.73it/s]\n"
     ]
    },
    {
     "name": "stdout",
     "output_type": "stream",
     "text": [
      "Training loss: 0.009741378568210885\n",
      "{'f1_sampled': 0.424812030075188, 'f1_micro': 0.48292682926829267, 'f1_macro': 0.2207727594966067, 'f_05_sample': 0.4424183272867484, 'f_05_micro': 0.5451541850220264, 'f_05_macro': 0.24804398744774284, 'precision_sampled': 0.47039473684210525, 'precision_micro': 0.5963855421686747, 'precision_macro': 0.27950207860922144, 'recall_sampled': 0.43059210526315783, 'recall_micro': 0.4057377049180328, 'recall_macro': 0.193276524682082, 'accuracy': 0.25, 'coverage_error': np.float64(12.5), 'label_ranking_loss': np.float64(0.7596153846153846), 'lrap': np.float64(0.32142857142857134)}\n"
     ]
    },
    {
     "name": "stderr",
     "output_type": "stream",
     "text": [
      "Epoch 46:   0%|          | 0/76 [00:00<?, ?it/s]"
     ]
    },
    {
     "name": "stdout",
     "output_type": "stream",
     "text": [
      "-- Step: 0\n"
     ]
    },
    {
     "name": "stderr",
     "output_type": "stream",
     "text": [
      "Epoch 46:   5%|▌         | 4/76 [00:00<00:06, 10.91it/s]"
     ]
    },
    {
     "name": "stdout",
     "output_type": "stream",
     "text": [
      "{'f1_sampled': 0.4182330827067669, 'f1_micro': 0.4792176039119804, 'f1_macro': 0.21952202664532666, 'f_05_sample': 0.4358393799183274, 'f_05_micro': 0.5420353982300885, 'f_05_macro': 0.24703123013872483, 'precision_sampled': 0.46381578947368424, 'precision_micro': 0.593939393939394, 'precision_macro': 0.2786779027850456, 'recall_sampled': 0.42401315789473687, 'recall_micro': 0.4016393442622951, 'recall_macro': 0.1917237296510261, 'accuracy': 0.24342105263157895, 'coverage_error': np.float64(12.5), 'label_ranking_loss': np.float64(0.7596153846153846), 'lrap': np.float64(0.32142857142857134)}\n"
     ]
    },
    {
     "name": "stderr",
     "output_type": "stream",
     "text": [
      "Epoch 46: 100%|██████████| 76/76 [00:04<00:00, 18.78it/s]\n"
     ]
    },
    {
     "name": "stdout",
     "output_type": "stream",
     "text": [
      "Training loss: 0.009471366849825963\n",
      "{'f1_sampled': 0.43380325814536336, 'f1_micro': 0.49029126213592233, 'f1_macro': 0.23007273543696355, 'f_05_sample': 0.451960411664359, 'f_05_micro': 0.5513100436681223, 'f_05_macro': 0.25618208663079867, 'precision_sampled': 0.48135964912280693, 'precision_micro': 0.6011904761904762, 'precision_macro': 0.2850415002537644, 'recall_sampled': 0.43881578947368416, 'recall_micro': 0.4139344262295082, 'recall_macro': 0.20182140350694885, 'accuracy': 0.2631578947368421, 'coverage_error': np.float64(12.5), 'label_ranking_loss': np.float64(0.7596153846153846), 'lrap': np.float64(0.32142857142857134)}\n"
     ]
    },
    {
     "name": "stderr",
     "output_type": "stream",
     "text": [
      "Epoch 47:   0%|          | 0/76 [00:00<?, ?it/s]"
     ]
    },
    {
     "name": "stdout",
     "output_type": "stream",
     "text": [
      "-- Step: 0\n"
     ]
    },
    {
     "name": "stderr",
     "output_type": "stream",
     "text": [
      "Epoch 47:   5%|▌         | 4/76 [00:00<00:06, 10.86it/s]"
     ]
    },
    {
     "name": "stdout",
     "output_type": "stream",
     "text": [
      "{'f1_sampled': 0.43182957393483706, 'f1_micro': 0.48661800486618007, 'f1_macro': 0.2274300293058853, 'f_05_sample': 0.4505506372282688, 'f_05_micro': 0.5482456140350878, 'f_05_macro': 0.2537117308995734, 'precision_sampled': 0.48026315789473684, 'precision_micro': 0.5988023952095808, 'precision_macro': 0.2829581669204311, 'recall_sampled': 0.4355263157894736, 'recall_micro': 0.4098360655737705, 'recall_macro': 0.19927038309878561, 'accuracy': 0.2631578947368421, 'coverage_error': np.float64(12.5), 'label_ranking_loss': np.float64(0.7596153846153846), 'lrap': np.float64(0.32142857142857134)}\n"
     ]
    },
    {
     "name": "stderr",
     "output_type": "stream",
     "text": [
      "Epoch 47: 100%|██████████| 76/76 [00:04<00:00, 18.78it/s]\n"
     ]
    },
    {
     "name": "stdout",
     "output_type": "stream",
     "text": [
      "Training loss: 0.009593684551011967\n",
      "{'f1_sampled': 0.4195488721804511, 'f1_micro': 0.4841075794621027, 'f1_macro': 0.22472205007615703, 'f_05_sample': 0.4380715227754702, 'f_05_micro': 0.547566371681416, 'f_05_macro': 0.25369730788171985, 'precision_sampled': 0.46820175438596484, 'precision_micro': 0.6, 'precision_macro': 0.2870107222860116, 'recall_sampled': 0.4256578947368421, 'recall_micro': 0.4057377049180328, 'recall_macro': 0.1953900953515028, 'accuracy': 0.24342105263157895, 'coverage_error': np.float64(12.5), 'label_ranking_loss': np.float64(0.7596153846153846), 'lrap': np.float64(0.32142857142857134)}\n"
     ]
    },
    {
     "name": "stderr",
     "output_type": "stream",
     "text": [
      "Epoch 48:   0%|          | 0/76 [00:00<?, ?it/s]"
     ]
    },
    {
     "name": "stdout",
     "output_type": "stream",
     "text": [
      "-- Step: 0\n"
     ]
    },
    {
     "name": "stderr",
     "output_type": "stream",
     "text": [
      "Epoch 48:   5%|▌         | 4/76 [00:00<00:06, 10.98it/s]"
     ]
    },
    {
     "name": "stdout",
     "output_type": "stream",
     "text": [
      "{'f1_sampled': 0.4217418546365915, 'f1_micro': 0.4852941176470588, 'f1_macro': 0.22560986282837656, 'f_05_sample': 0.4409954993836573, 'f_05_micro': 0.55, 'f_05_macro': 0.2552562647978196, 'precision_sampled': 0.47149122807017535, 'precision_micro': 0.6036585365853658, 'precision_macro': 0.289089331507478, 'recall_sampled': 0.4256578947368421, 'recall_micro': 0.4057377049180328, 'recall_macro': 0.1953900953515028, 'accuracy': 0.25, 'coverage_error': np.float64(12.5), 'label_ranking_loss': np.float64(0.7596153846153846), 'lrap': np.float64(0.32142857142857134)}\n"
     ]
    },
    {
     "name": "stderr",
     "output_type": "stream",
     "text": [
      "Epoch 48: 100%|██████████| 76/76 [00:04<00:00, 18.71it/s]\n"
     ]
    },
    {
     "name": "stdout",
     "output_type": "stream",
     "text": [
      "Training loss: 0.009413099363691321\n",
      "{'f1_sampled': 0.4264411027568922, 'f1_micro': 0.49029126213592233, 'f1_macro': 0.23038702002684122, 'f_05_sample': 0.4438672621238411, 'f_05_micro': 0.5513100436681223, 'f_05_macro': 0.2571933277289391, 'precision_sampled': 0.47149122807017535, 'precision_micro': 0.6011904761904762, 'precision_macro': 0.28706324329441507, 'recall_sampled': 0.4333333333333334, 'recall_micro': 0.4139344262295082, 'recall_macro': 0.20190936972792, 'accuracy': 0.25, 'coverage_error': np.float64(12.5), 'label_ranking_loss': np.float64(0.7596153846153846), 'lrap': np.float64(0.32142857142857134)}\n"
     ]
    },
    {
     "name": "stderr",
     "output_type": "stream",
     "text": [
      "Epoch 49:   0%|          | 0/76 [00:00<?, ?it/s]"
     ]
    },
    {
     "name": "stdout",
     "output_type": "stream",
     "text": [
      "-- Step: 0\n"
     ]
    },
    {
     "name": "stderr",
     "output_type": "stream",
     "text": [
      "Epoch 49:   5%|▌         | 4/76 [00:00<00:06, 10.90it/s]"
     ]
    },
    {
     "name": "stdout",
     "output_type": "stream",
     "text": [
      "{'f1_sampled': 0.4264411027568922, 'f1_micro': 0.49029126213592233, 'f1_macro': 0.23038702002684122, 'f_05_sample': 0.4438672621238411, 'f_05_micro': 0.5513100436681223, 'f_05_macro': 0.2571933277289391, 'precision_sampled': 0.47149122807017535, 'precision_micro': 0.6011904761904762, 'precision_macro': 0.28706324329441507, 'recall_sampled': 0.4333333333333334, 'recall_micro': 0.4139344262295082, 'recall_macro': 0.20190936972792, 'accuracy': 0.25, 'coverage_error': np.float64(12.5), 'label_ranking_loss': np.float64(0.7596153846153846), 'lrap': np.float64(0.32142857142857134)}\n"
     ]
    },
    {
     "name": "stderr",
     "output_type": "stream",
     "text": [
      "Epoch 49: 100%|██████████| 76/76 [00:04<00:00, 18.73it/s]\n"
     ]
    },
    {
     "name": "stdout",
     "output_type": "stream",
     "text": [
      "Training loss: 0.009423239885731355\n",
      "{'f1_sampled': 0.4250313283208021, 'f1_micro': 0.48661800486618007, 'f1_macro': 0.22786176750158874, 'f_05_sample': 0.4424574876877509, 'f_05_micro': 0.5482456140350878, 'f_05_macro': 0.25492883497531593, 'precision_sampled': 0.47149122807017535, 'precision_micro': 0.5988023952095808, 'precision_macro': 0.2852250080002974, 'recall_sampled': 0.4322368421052631, 'recall_micro': 0.4098360655737705, 'recall_macro': 0.19935834931975677, 'accuracy': 0.25, 'coverage_error': np.float64(12.5), 'label_ranking_loss': np.float64(0.7596153846153846), 'lrap': np.float64(0.32142857142857134)}\n"
     ]
    }
   ],
   "source": [
    "best_model_ta, best_val_weighted_f1_score_ta = run()"
   ]
  },
  {
   "cell_type": "code",
   "execution_count": 39,
   "id": "e146a70a",
   "metadata": {},
   "outputs": [],
   "source": [
    "def test(model, val_dataloader, criterion, is_final_test=False):\n",
    "    global device\n",
    "\n",
    "    val_loss = 0\n",
    "    true, pred = [], []\n",
    "\n",
    "    model.eval()\n",
    "\n",
    "    results = {}\n",
    "\n",
    "    for step, batch in enumerate(val_dataloader):\n",
    "        b_input_ids = batch['input_ids'].to(device)\n",
    "        b_attention_mask = batch['attention_mask'].to(device)\n",
    "        b_labels = batch['labels'].to(device)\n",
    "\n",
    "        with torch.no_grad():\n",
    "            logits = model(input_ids=b_input_ids, attention_mask=b_attention_mask)\n",
    "\n",
    "            loss = criterion(logits, b_labels)\n",
    "            val_loss += loss.item()\n",
    "\n",
    "            logits = torch.sigmoid(logits)\n",
    "            logits = np.round(logits.cpu().numpy())\n",
    "            labels = b_labels.cpu().numpy()\n",
    "\n",
    "            pred.extend(logits)\n",
    "            true.extend(labels)\n",
    "\n",
    "    # avg_val_loss = val_loss / len(val_dataloader)\n",
    "    # print('Val loss:', avg_val_loss)\n",
    "    # print('Val accuracy:', accuracy_score(true, pred))\n",
    "\n",
    "    # print('Val precision:', precision_score(true, pred, average='weighted'))\n",
    "    # print('Val recall:', recall_score(true, pred, average='weighted'))\n",
    "\n",
    "    # val_micro_f1_score = f1_score(true, pred, average='micro')\n",
    "    # print('Val micro f1 score:', val_micro_f1_score)\n",
    "\n",
    "    # val_macro_f1_score = f1_score(true, pred, average='macro')\n",
    "    # print('Val macro f1 score:', val_macro_f1_score)\n",
    "\n",
    "    val_weighted_f1_score = f1_score(true, pred, average='weighted')\n",
    "    # print('Val weighted f1 score:', val_weighted_f1_score)\n",
    "\n",
    "    results.update({\n",
    "        \"f1_sampled\": f1_score(true, pred, average='samples', zero_division=0),\n",
    "        \"f1_micro\": f1_score(true, pred, average='micro', zero_division=0),\n",
    "        \"f1_macro\": f1_score(true, pred, average='macro', zero_division=0),\n",
    "        \"f_05_sample\": fbeta_score(true, pred, average='samples', beta=0.5, zero_division=0),\n",
    "        \"f_05_micro\": fbeta_score(true, pred, average='micro', beta=0.5, zero_division=0),\n",
    "        \"f_05_macro\": fbeta_score(true, pred, average='macro', beta=0.5, zero_division=0),\n",
    "        \"precision_sampled\": precision_score(true, pred, average='samples', zero_division=0),\n",
    "        \"precision_micro\": precision_score(true, pred, average='micro', zero_division=0),\n",
    "        \"precision_macro\": precision_score(true, pred, average='macro', zero_division=0),\n",
    "        \"recall_sampled\": recall_score(true, pred, average='samples', zero_division=0),\n",
    "        \"recall_micro\": recall_score(true, pred, average='micro', zero_division=0),\n",
    "        \"recall_macro\": recall_score(true, pred, average='macro', zero_division=0),\n",
    "        \"accuracy\": accuracy_score(true, pred),\n",
    "        })\n",
    "\n",
    "    labels_float = labels.astype(float)\n",
    "    results.update({\n",
    "        \"coverage_error\": coverage_error(labels_float, logits),\n",
    "        \"label_ranking_loss\": label_ranking_loss(labels_float, logits),\n",
    "        \"lrap\": label_ranking_average_precision_score(labels_float, logits),\n",
    "    })\n",
    "\n",
    "    metrics_log.append(results.copy())\n",
    "\n",
    "    print(results)\n",
    "\n",
    "    return results\n"
   ]
  },
  {
   "cell_type": "code",
   "execution_count": 40,
   "id": "f5caffc2",
   "metadata": {},
   "outputs": [
    {
     "name": "stdout",
     "output_type": "stream",
     "text": [
      "{'f1_sampled': 0.4587719298245614, 'f1_micro': 0.5202863961813843, 'f1_macro': 0.29167670626209635, 'f_05_sample': 0.4782710892908262, 'f_05_micro': 0.5718782791185729, 'f_05_macro': 0.3405990413738875, 'precision_sampled': 0.5043859649122807, 'precision_micro': 0.6123595505617978, 'precision_macro': 0.4240104772067558, 'recall_sampled': 0.4588815789473684, 'recall_micro': 0.45228215767634855, 'recall_macro': 0.25654333799408574, 'accuracy': 0.2565789473684211, 'coverage_error': np.float64(9.125), 'label_ranking_loss': np.float64(0.5), 'lrap': np.float64(0.5714285714285714)}\n"
     ]
    }
   ],
   "source": [
    "criterion = nn.BCEWithLogitsLoss()\n",
    "results = test(best_model_ta, test_dataloader, criterion, is_final_test=True)"
   ]
  },
  {
   "cell_type": "code",
   "execution_count": 41,
   "id": "4138f077",
   "metadata": {},
   "outputs": [
    {
     "name": "stdout",
     "output_type": "stream",
     "text": [
      "f1_sampled: 0.4588\n",
      "f1_micro: 0.5203\n",
      "f1_macro: 0.2917\n",
      "f_05_sample: 0.4783\n",
      "f_05_micro: 0.5719\n",
      "f_05_macro: 0.3406\n",
      "precision_sampled: 0.5044\n",
      "precision_micro: 0.6124\n",
      "precision_macro: 0.4240\n",
      "recall_sampled: 0.4589\n",
      "recall_micro: 0.4523\n",
      "recall_macro: 0.2565\n",
      "accuracy: 0.2566\n",
      "coverage_error: 9.1250\n",
      "label_ranking_loss: 0.5000\n",
      "lrap: 0.5714\n"
     ]
    }
   ],
   "source": [
    "for k, v in results.items(): \n",
    "    print(f\"{k}: {v:.4f}\")"
   ]
  },
  {
   "cell_type": "markdown",
   "id": "5be5419c",
   "metadata": {},
   "source": [
    "# Metrics log"
   ]
  },
  {
   "cell_type": "code",
   "execution_count": 42,
   "id": "f260906d",
   "metadata": {},
   "outputs": [],
   "source": [
    "metrics_data = {\n",
    "    'f1_sampled': [],\n",
    "    'f1_micro': [],\n",
    "    'f1_macro': [],\n",
    "    'f_05_sample': [],\n",
    "    'f_05_micro': [],\n",
    "    'f_05_macro': [],\n",
    "    'precision_sampled': [],\n",
    "    'precision_micro': [],\n",
    "    'precision_macro': [],\n",
    "    'recall_sampled': [],\n",
    "    'recall_micro': [],\n",
    "    'recall_macro': [],\n",
    "    'accuracy': [],\n",
    "    'coverage_error': [],\n",
    "    'label_ranking_loss': [],\n",
    "    'lrap': []\n",
    "}\n",
    "\n",
    "# 遍歷你的日誌數據，提取數值\n",
    "for log_entry in metrics_log:\n",
    "    for metric_name, value in log_entry.items():\n",
    "        metrics_data[metric_name].append(float(value)) # 確保轉換為 float"
   ]
  },
  {
   "cell_type": "code",
   "execution_count": 43,
   "id": "c8d0eb89",
   "metadata": {},
   "outputs": [
    {
     "name": "stdout",
     "output_type": "stream",
     "text": [
      "{'f1_sampled': [0.20636487050960733, 0.0043859649122807015, 0.015350877192982454, 0.2819548872180451, 0.29291979949874686, 0.343922305764411, 0.3417293233082706, 0.4151942355889724, 0.4182644110275689, 0.4223684210526316, 0.4359649122807017, 0.3643796992481203, 0.3985902255639098, 0.34736842105263155, 0.33706140350877195, 0.3645989974937343, 0.3711779448621554, 0.39107142857142857, 0.3910714285714285, 0.406484962406015, 0.399906015037594, 0.3914786967418546, 0.400250626566416, 0.39564536340852124, 0.39783834586466166, 0.3848684210526316, 0.3815789473684211, 0.4088972431077694, 0.39244987468671677, 0.4223684210526315, 0.4175438596491227, 0.4234962406015037, 0.4223997493734335, 0.45175438596491224, 0.4429824561403509, 0.4301691729323308, 0.4257832080200501, 0.4546052631578947, 0.4381578947368421, 0.419204260651629, 0.419204260651629, 0.400031328320802, 0.4044172932330827, 0.4053884711779448, 0.40977443609022557, 0.40131578947368424, 0.40131578947368424, 0.40429197994987465, 0.39771303258145363, 0.4291979949874687, 0.4226190476190476, 0.4222744360902255, 0.41710526315789476, 0.3988095238095238, 0.40100250626566414, 0.40482456140350875, 0.41008771929824556, 0.4133771929824561, 0.41666666666666663, 0.4119674185463659, 0.4119674185463659, 0.406390977443609, 0.406390977443609, 0.40964912280701754, 0.4052631578947368, 0.4143796992481203, 0.4143796992481203, 0.40187969924812034, 0.40187969924812034, 0.4151629072681704, 0.4184523809523809, 0.4176691729323308, 0.4165726817042606, 0.4198621553884711, 0.41547619047619044, 0.4314849624060151, 0.4303884711779449, 0.4216165413533835, 0.4183270676691729, 0.4319235588972431, 0.4319235588972431, 0.43126566416040096, 0.43126566416040096, 0.4353383458646616, 0.44191729323308265, 0.43687343358395986, 0.4302944862155388, 0.4386278195488722, 0.43599624060150377, 0.4270050125313284, 0.4270050125313284, 0.424812030075188, 0.4182330827067669, 0.43380325814536336, 0.43182957393483706, 0.4195488721804511, 0.4217418546365915, 0.4264411027568922, 0.4264411027568922, 0.4250313283208021, 0.4587719298245614], 'f1_micro': [0.22032288698955366, 0.00816326530612245, 0.024096385542168676, 0.3798219584569733, 0.38596491228070173, 0.4257703081232493, 0.4245810055865922, 0.48186528497409326, 0.4806201550387597, 0.4740740740740741, 0.48426150121065376, 0.41836734693877553, 0.44819277108433736, 0.4076086956521739, 0.39226519337016574, 0.43386243386243384, 0.4368421052631579, 0.44155844155844154, 0.4356955380577428, 0.45390070921985815, 0.4486873508353222, 0.4466501240694789, 0.454320987654321, 0.4626865671641791, 0.4665012406947891, 0.4479166666666667, 0.4484536082474227, 0.46632124352331605, 0.45430809399477806, 0.473551637279597, 0.4759493670886076, 0.473551637279597, 0.47474747474747475, 0.5012048192771085, 0.4891041162227603, 0.47002398081534774, 0.463768115942029, 0.49411764705882355, 0.4845605700712589, 0.49019607843137253, 0.4889975550122249, 0.46616541353383456, 0.46616541353383456, 0.4837905236907731, 0.48635235732009924, 0.46733668341708545, 0.46733668341708545, 0.4623115577889447, 0.45843828715365237, 0.48635235732009924, 0.48258706467661694, 0.4837905236907731, 0.48, 0.45524296675191817, 0.4564102564102564, 0.46938775510204084, 0.4759493670886076, 0.47474747474747475, 0.4797979797979798, 0.4723618090452261, 0.4723618090452261, 0.4681933842239186, 0.4681933842239186, 0.46938775510204084, 0.46547314578005117, 0.47058823529411764, 0.47058823529411764, 0.4583333333333333, 0.46113989637305697, 0.47474747474747475, 0.47715736040609136, 0.4708860759493671, 0.4681933842239186, 0.4696969696969697, 0.46582278481012657, 0.48258706467661694, 0.48120300751879697, 0.47738693467336685, 0.47474747474747475, 0.4827586206896552, 0.4827586206896552, 0.48514851485148514, 0.48514851485148514, 0.49261083743842365, 0.4963144963144963, 0.4914004914004914, 0.4876847290640394, 0.49148418491484186, 0.4878048780487805, 0.4841075794621027, 0.4841075794621027, 0.48292682926829267, 0.4792176039119804, 0.49029126213592233, 0.48661800486618007, 0.4841075794621027, 0.4852941176470588, 0.49029126213592233, 0.49029126213592233, 0.48661800486618007, 0.5202863961813843], 'f1_macro': [0.15453925822073675, 0.0026455026455026454, 0.007389162561576354, 0.12699443413729128, 0.12700235544272243, 0.16554384310735018, 0.16510300374921227, 0.206991975534175, 0.21203356926255354, 0.20592654533252958, 0.20821142832496914, 0.19666769515289845, 0.21007772741103592, 0.18336161161125744, 0.17734800480556118, 0.1892651309913542, 0.1922436196841286, 0.19248068897433068, 0.18963591470098498, 0.2101414216288651, 0.2067535834432294, 0.20485277315647799, 0.20895726983539414, 0.20758406224990764, 0.20976078155967062, 0.2022088526552812, 0.20195099061829438, 0.221474915970802, 0.21448905157442835, 0.23092685768142157, 0.23013719144293437, 0.22929158083898823, 0.23149390651681043, 0.24133645637944584, 0.23577927702673027, 0.22120766407015252, 0.2191701014554697, 0.22882128068992294, 0.22452380752904252, 0.21843213475866535, 0.21758179462261093, 0.21512390644991644, 0.21526977124744837, 0.219844788026059, 0.22150743328218123, 0.21528149880880426, 0.21528149880880426, 0.21449932146481818, 0.2115376489909506, 0.22485337049510995, 0.2220327300438075, 0.2265375314845194, 0.22605115368024056, 0.21303151756005198, 0.21338239475303447, 0.2190344277233859, 0.22329558618070208, 0.222491447014691, 0.22518463796900498, 0.21967388104452076, 0.21967388104452076, 0.21741827351946338, 0.21741827351946338, 0.22358817627143668, 0.22117271733423863, 0.22172280406415437, 0.2219799106083111, 0.2130525743198201, 0.2151671113254642, 0.21935591837614804, 0.22183243229137764, 0.22118220744641187, 0.22061421325844544, 0.21974724994687794, 0.21828254923405693, 0.2284017027375301, 0.22783962632048307, 0.22292280332761974, 0.22267890780755908, 0.22576997980642846, 0.22576997980642846, 0.22779542070664907, 0.22779542070664907, 0.23176812935733002, 0.23414687919213906, 0.2290357774044351, 0.22655130535474566, 0.2301652877811986, 0.22739673850102143, 0.2245670578404789, 0.2245670578404789, 0.2207727594966067, 0.21952202664532666, 0.23007273543696355, 0.2274300293058853, 0.22472205007615703, 0.22560986282837656, 0.23038702002684122, 0.23038702002684122, 0.22786176750158874, 0.29167670626209635], 'f_05_sample': [0.1630994129653672, 0.005482456140350878, 0.01754385964912281, 0.2900545634920635, 0.30211596700083543, 0.36730498120300753, 0.3643810045948204, 0.4423374962026278, 0.4480027008809904, 0.4443020429862535, 0.45880563150299986, 0.38904790385053545, 0.42215386952229056, 0.3768535923141187, 0.3690867794486216, 0.3954417293233083, 0.40202067669172936, 0.4250013053467001, 0.4286562761069341, 0.425373694288168, 0.42101584453558144, 0.4074500974172026, 0.4184150096979044, 0.423531968762232, 0.4246284599903021, 0.41573786228391496, 0.40915891491549383, 0.43952246583825527, 0.4216653229811125, 0.4497813042220937, 0.4464004562688773, 0.4479081317074738, 0.4471771375554271, 0.4791286929444825, 0.4724706032271822, 0.44893483709273185, 0.44527986633249794, 0.47707528217396644, 0.4606279137529138, 0.4419875628757208, 0.4419875628757208, 0.420190281210018, 0.42567273735036887, 0.42693892364944996, 0.43242137978980094, 0.42336428191691355, 0.42336428191691355, 0.42962994607731453, 0.42305099870889346, 0.45335914085914086, 0.4467801934907198, 0.446168688767373, 0.4428270012151591, 0.424199703804967, 0.4271236804131541, 0.428951165793271, 0.43506018834966204, 0.43834966203387254, 0.44304891015417336, 0.437642766590135, 0.437642766590135, 0.43263023526181427, 0.43263023526181427, 0.43744897281081496, 0.431966516670464, 0.4396027948659528, 0.4396027948659528, 0.4301639515455305, 0.4299812030075188, 0.4381126914021651, 0.4432296504664926, 0.4428922685501633, 0.4425267714741399, 0.44581624515835044, 0.4421612743981165, 0.4522765246449457, 0.4533730158730158, 0.44423558897243104, 0.44277360066833754, 0.4523670773670774, 0.4523670773670774, 0.4521210697197539, 0.4521210697197539, 0.45720991362438734, 0.4637888609928084, 0.45743182256340154, 0.45085287519498046, 0.4601057750728804, 0.45599393296761725, 0.44534230389493557, 0.44534230389493557, 0.4424183272867484, 0.4358393799183274, 0.451960411664359, 0.4505506372282688, 0.4380715227754702, 0.4409954993836573, 0.4438672621238411, 0.4438672621238411, 0.4424574876877509, 0.4782710892908262], 'f_05_micro': [0.16666666666666666, 0.020161290322580645, 0.056818181818181816, 0.5194805194805194, 0.5188679245283019, 0.5459770114942529, 0.5428571428571428, 0.5726600985221675, 0.5698529411764706, 0.5405405405405406, 0.5434782608695652, 0.4904306220095694, 0.5010775862068966, 0.5067567567567568, 0.4958100558659218, 0.5256410256410257, 0.5266497461928934, 0.525990099009901, 0.523989898989899, 0.5, 0.4978813559322034, 0.5113636363636364, 0.5180180180180181, 0.5308219178082192, 0.5340909090909091, 0.5348258706467661, 0.5304878048780488, 0.5541871921182266, 0.54375, 0.5490654205607477, 0.5542452830188679, 0.5490654205607477, 0.5516431924882629, 0.5603448275862069, 0.5489130434782609, 0.5235042735042735, 0.5194805194805194, 0.5423553719008265, 0.5357142857142857, 0.5555555555555556, 0.5530973451327433, 0.5381944444444444, 0.5381944444444444, 0.5561926605504587, 0.5568181818181818, 0.5406976744186046, 0.5406976744186046, 0.5348837209302325, 0.5315420560747663, 0.5568181818181818, 0.5536529680365296, 0.5561926605504587, 0.5529953917050692, 0.5348557692307693, 0.5374396135265701, 0.5502392344497608, 0.5542452830188679, 0.5516431924882629, 0.5575117370892019, 0.5465116279069767, 0.5465116279069767, 0.5476190476190477, 0.5476190476190477, 0.5502392344497608, 0.546875, 0.5528846153846154, 0.5528846153846154, 0.5472636815920398, 0.5480295566502463, 0.5516431924882629, 0.556872037914692, 0.5483490566037735, 0.5476190476190477, 0.545774647887324, 0.5424528301886793, 0.5536529680365296, 0.5555555555555556, 0.5523255813953488, 0.5516431924882629, 0.5493273542600897, 0.5493273542600897, 0.5542986425339367, 0.5542986425339367, 0.5605381165919282, 0.5636160714285714, 0.5580357142857143, 0.554932735426009, 0.5537280701754386, 0.5506607929515418, 0.547566371681416, 0.547566371681416, 0.5451541850220264, 0.5420353982300885, 0.5513100436681223, 0.5482456140350878, 0.547566371681416, 0.55, 0.5513100436681223, 0.5513100436681223, 0.5482456140350878, 0.5718782791185729], 'f_05_macro': [0.12651307490939107, 0.006265664160401002, 0.014677103718199608, 0.15049115726455625, 0.14837473103654125, 0.19868514564858902, 0.19798373581482315, 0.2350596259394411, 0.23956783463278095, 0.22857607230450228, 0.22625349732788957, 0.22841392218270568, 0.2355574612396111, 0.22269044224382423, 0.21761540072802815, 0.23363866624454763, 0.2359584930308143, 0.23421586132824343, 0.2323794460109428, 0.2324987931134059, 0.22948820849289212, 0.2366928438899569, 0.23918378279759692, 0.24468859130074766, 0.2469689791961303, 0.2443708057855321, 0.2427239166478947, 0.25968055541842605, 0.25339161872843546, 0.2595750191962142, 0.2609566989376142, 0.2597038480519775, 0.2625807239538343, 0.26258681818828616, 0.25654472985606525, 0.24253381311621253, 0.24124287860672058, 0.25053454591791285, 0.24759946853402873, 0.2481561278152706, 0.24678250144164424, 0.24609360013416856, 0.2459436248995138, 0.2501757721234811, 0.25111616422374244, 0.24800721470394263, 0.24800721470394263, 0.2454310311200055, 0.2423177060888723, 0.25586702035353787, 0.2530611842143684, 0.2582785401021147, 0.2578368552172705, 0.24727875349287057, 0.24802246909602393, 0.25439722696178485, 0.2571569672215251, 0.25595895761789705, 0.2587478354067749, 0.2524797797514643, 0.2524797797514643, 0.2524137340560927, 0.2524137340560927, 0.25853257306204586, 0.2564342944423173, 0.25769251571526863, 0.25885361233782567, 0.25355865843295733, 0.2550203675185055, 0.254448595807603, 0.2580311124925739, 0.2548352983707669, 0.254764987206003, 0.25326016265506734, 0.25196928485816544, 0.26170247291951526, 0.2619759986894763, 0.2572601365275914, 0.2575042480161166, 0.25617533116334673, 0.25617533116334673, 0.2578966274715549, 0.2578966274715549, 0.2618735106578572, 0.2639514062235552, 0.2589916638820012, 0.2567350246117271, 0.2577459411869063, 0.2550403134812786, 0.2524672167939233, 0.2524672167939233, 0.24804398744774284, 0.24703123013872483, 0.25618208663079867, 0.2537117308995734, 0.25369730788171985, 0.2552562647978196, 0.2571933277289391, 0.2571933277289391, 0.25492883497531593, 0.3405990413738875], 'precision_sampled': [0.1444627192982456, 0.006578947368421052, 0.019736842105263157, 0.3026315789473684, 0.3157894736842105, 0.3980263157894737, 0.39473684210526316, 0.4769736842105263, 0.4868421052631579, 0.47368421052631576, 0.4901315789473684, 0.42105263157894735, 0.45394736842105265, 0.41118421052631576, 0.40460526315789475, 0.4342105263157895, 0.4407894736842105, 0.46710526315789475, 0.47368421052631576, 0.45394736842105265, 0.45175438596491224, 0.4320175438596491, 0.44517543859649117, 0.4616228070175438, 0.4616228070175438, 0.45394736842105265, 0.4440789473684211, 0.47916666666666663, 0.45942982456140347, 0.48574561403508776, 0.48245614035087725, 0.48135964912280704, 0.48135964912280704, 0.5175438596491229, 0.5120614035087719, 0.4780701754385964, 0.4747807017543859, 0.5087719298245613, 0.4923245614035087, 0.47368421052631576, 0.47368421052631576, 0.45175438596491224, 0.45833333333333326, 0.45833333333333326, 0.46491228070175433, 0.45504385964912275, 0.45504385964912275, 0.46491228070175433, 0.45833333333333326, 0.487938596491228, 0.48135964912280693, 0.48135964912280693, 0.4780701754385964, 0.45833333333333326, 0.4616228070175438, 0.4605263157894737, 0.46820175438596484, 0.47149122807017535, 0.4780701754385964, 0.47149122807017535, 0.47149122807017535, 0.46710526315789475, 0.46710526315789475, 0.47368421052631576, 0.46710526315789475, 0.47368421052631576, 0.47368421052631576, 0.46710526315789475, 0.46710526315789475, 0.47039473684210525, 0.4769736842105263, 0.4769736842105263, 0.4769736842105263, 0.48026315789473684, 0.4769736842105263, 0.48355263157894735, 0.4868421052631579, 0.4769736842105263, 0.4769736842105263, 0.48245614035087725, 0.48245614035087725, 0.48355263157894735, 0.48355263157894735, 0.4901315789473684, 0.4967105263157895, 0.487938596491228, 0.48135964912280693, 0.49232456140350883, 0.48574561403508776, 0.47368421052631576, 0.47368421052631576, 0.47039473684210525, 0.46381578947368424, 0.48135964912280693, 0.48026315789473684, 0.46820175438596484, 0.47149122807017535, 0.47149122807017535, 0.47149122807017535, 0.47149122807017535, 0.5043859649122807], 'precision_micro': [0.1433868974042027, 1.0, 0.6, 0.6881720430107527, 0.673469387755102, 0.672566371681416, 0.6666666666666666, 0.6549295774647887, 0.6503496503496503, 0.5962732919254659, 0.591715976331361, 0.5540540540540541, 0.543859649122807, 0.6048387096774194, 0.6016949152542372, 0.6119402985074627, 0.6102941176470589, 0.6028368794326241, 0.6058394160583942, 0.5363128491620112, 0.5371428571428571, 0.5660377358490566, 0.5714285714285714, 0.5886075949367089, 0.5911949685534591, 0.6142857142857143, 0.6041666666666666, 0.6338028169014085, 0.6258992805755396, 0.6143790849673203, 0.6225165562913907, 0.6143790849673203, 0.618421052631579, 0.6081871345029239, 0.5976331360946746, 0.5664739884393064, 0.5647058823529412, 0.580110497237569, 0.576271186440678, 0.6097560975609756, 0.6060606060606061, 0.6, 0.6, 0.6178343949044586, 0.6163522012578616, 0.6038961038961039, 0.6038961038961039, 0.5974025974025974, 0.5947712418300654, 0.6163522012578616, 0.6139240506329114, 0.6178343949044586, 0.6153846153846154, 0.6054421768707483, 0.6095890410958904, 0.6216216216216216, 0.6225165562913907, 0.618421052631579, 0.625, 0.6103896103896104, 0.6103896103896104, 0.6174496644295302, 0.6174496644295302, 0.6216216216216216, 0.6190476190476191, 0.6258503401360545, 0.6258503401360545, 0.6285714285714286, 0.6267605633802817, 0.618421052631579, 0.6266666666666667, 0.6158940397350994, 0.6174496644295302, 0.6118421052631579, 0.609271523178808, 0.6139240506329114, 0.6193548387096774, 0.6168831168831169, 0.618421052631579, 0.6049382716049383, 0.6049382716049383, 0.6125, 0.6125, 0.6172839506172839, 0.6196319018404908, 0.6134969325153374, 0.6111111111111112, 0.6047904191616766, 0.6024096385542169, 0.6, 0.6, 0.5963855421686747, 0.593939393939394, 0.6011904761904762, 0.5988023952095808, 0.6, 0.6036585365853658, 0.6011904761904762, 0.6011904761904762, 0.5988023952095808, 0.6123595505617978], 'precision_macro': [0.113690015770601, 0.07142857142857142, 0.04285714285714286, 0.1891844997108155, 0.18520408163265306, 0.25845949386043726, 0.2575859788359788, 0.2737402071202913, 0.2720084384712294, 0.251476509497499, 0.24563772217350888, 0.3033744491948826, 0.3039877198757262, 0.31149472032691133, 0.3062300923713967, 0.33961792602345603, 0.3366417355472655, 0.333353947639662, 0.333353947639662, 0.2572845804988662, 0.25480282988248787, 0.27097303206997086, 0.2710027409332247, 0.2969472612329755, 0.29645246058289537, 0.31150793650793646, 0.30736346986346985, 0.31782118749773736, 0.3136729200036052, 0.3000938674851718, 0.3054185043980962, 0.2937612594444893, 0.29731738361306465, 0.28453922683131605, 0.27867677435346605, 0.2681639747555897, 0.2674720026350461, 0.27864309603440035, 0.2767353142353142, 0.30010830183641246, 0.2983801912373341, 0.28317654567654565, 0.28284662658601534, 0.29148540861018585, 0.29183769084845335, 0.2876942501942502, 0.2876942501942502, 0.2821529836770993, 0.2794473559714716, 0.2919466735325656, 0.2896572962431883, 0.2942223963775688, 0.29379856063964144, 0.28664352430401585, 0.2877929495913722, 0.29480852227812715, 0.29560217307177794, 0.2942912428749867, 0.2971777326035817, 0.29052425496595496, 0.29052425496595496, 0.2919419016357792, 0.2919419016357792, 0.2968285726989208, 0.29525294244682004, 0.3048635653579355, 0.30748871798308813, 0.3080596784168213, 0.30845761381475667, 0.30226190476190473, 0.306452158952159, 0.292334545154094, 0.2926092704288193, 0.2909583759061937, 0.2898831070889894, 0.3069811294772283, 0.30797010007536324, 0.30361282974728354, 0.29665550136138374, 0.29017100487688724, 0.29017100487688724, 0.2906776556776557, 0.2906776556776557, 0.29496578538595347, 0.29659977231405804, 0.29261025731613965, 0.290772022022022, 0.28835657519868046, 0.2859756228177281, 0.2839311151811152, 0.2839311151811152, 0.27950207860922144, 0.2786779027850456, 0.2850415002537644, 0.2829581669204311, 0.2870107222860116, 0.289089331507478, 0.28706324329441507, 0.28706324329441507, 0.2852250080002974, 0.4240104772067558], 'recall_sampled': [0.4595394736842106, 0.003289473684210526, 0.013157894736842105, 0.2889254385964913, 0.29879385964912286, 0.3316885964912281, 0.3316885964912281, 0.4018640350877193, 0.4018640350877193, 0.41721491228070173, 0.4342105263157895, 0.3508771929824561, 0.39089912280701755, 0.3256578947368421, 0.31085526315789475, 0.34539473684210525, 0.3519736842105263, 0.37006578947368424, 0.36348684210526316, 0.4106359649122807, 0.40076754385964913, 0.3944078947368421, 0.4009868421052632, 0.3861842105263158, 0.38947368421052636, 0.3673245614035088, 0.3673245614035088, 0.39528508771929827, 0.37993421052631576, 0.4133771929824561, 0.4051535087719298, 0.4161184210526316, 0.4161184210526316, 0.44901315789473684, 0.4353070175438597, 0.43256578947368424, 0.42598684210526316, 0.4577850877192983, 0.44133771929824567, 0.41962719298245615, 0.41962719298245615, 0.40153508771929824, 0.40482456140350875, 0.40646929824561406, 0.4097587719298246, 0.4029605263157895, 0.4029605263157895, 0.3985745614035088, 0.39199561403508776, 0.42620614035087717, 0.41962719298245615, 0.4199561403508772, 0.41118421052631576, 0.38980263157894735, 0.38980263157894735, 0.3974780701754386, 0.4029605263157895, 0.40625, 0.40844298245614036, 0.4053728070175439, 0.4053728070175439, 0.3944078947368421, 0.3944078947368421, 0.3991228070175439, 0.39583333333333337, 0.40625, 0.40625, 0.3881578947368421, 0.38980263157894735, 0.4108552631578948, 0.4108552631578948, 0.4095394736842105, 0.40625, 0.4095394736842105, 0.4029605263157895, 0.43256578947368424, 0.4292763157894737, 0.4194078947368421, 0.4128289473684211, 0.43256578947368424, 0.43256578947368424, 0.4309210526315789, 0.4309210526315789, 0.4355263157894736, 0.44210526315789467, 0.43717105263157885, 0.43059210526315783, 0.43881578947368416, 0.43717105263157885, 0.43059210526315783, 0.43059210526315783, 0.43059210526315783, 0.42401315789473687, 0.43881578947368416, 0.4355263157894736, 0.4256578947368421, 0.4256578947368421, 0.4333333333333334, 0.4333333333333334, 0.4322368421052631, 0.4588815789473684], 'recall_micro': [0.47540983606557374, 0.004098360655737705, 0.012295081967213115, 0.26229508196721313, 0.27049180327868855, 0.3114754098360656, 0.3114754098360656, 0.38114754098360654, 0.38114754098360654, 0.39344262295081966, 0.4098360655737705, 0.3360655737704918, 0.38114754098360654, 0.3073770491803279, 0.29098360655737704, 0.3360655737704918, 0.3401639344262295, 0.3483606557377049, 0.3401639344262295, 0.39344262295081966, 0.38524590163934425, 0.36885245901639346, 0.3770491803278688, 0.38114754098360654, 0.38524590163934425, 0.3524590163934426, 0.35655737704918034, 0.36885245901639346, 0.35655737704918034, 0.38524590163934425, 0.38524590163934425, 0.38524590163934425, 0.38524590163934425, 0.4262295081967213, 0.4139344262295082, 0.4016393442622951, 0.39344262295081966, 0.430327868852459, 0.4180327868852459, 0.4098360655737705, 0.4098360655737705, 0.38114754098360654, 0.38114754098360654, 0.3975409836065574, 0.4016393442622951, 0.38114754098360654, 0.38114754098360654, 0.3770491803278688, 0.3729508196721312, 0.4016393442622951, 0.3975409836065574, 0.3975409836065574, 0.39344262295081966, 0.36475409836065575, 0.36475409836065575, 0.3770491803278688, 0.38524590163934425, 0.38524590163934425, 0.38934426229508196, 0.38524590163934425, 0.38524590163934425, 0.3770491803278688, 0.3770491803278688, 0.3770491803278688, 0.3729508196721312, 0.3770491803278688, 0.3770491803278688, 0.36065573770491804, 0.36475409836065575, 0.38524590163934425, 0.38524590163934425, 0.38114754098360654, 0.3770491803278688, 0.38114754098360654, 0.3770491803278688, 0.3975409836065574, 0.39344262295081966, 0.38934426229508196, 0.38524590163934425, 0.4016393442622951, 0.4016393442622951, 0.4016393442622951, 0.4016393442622951, 0.4098360655737705, 0.4139344262295082, 0.4098360655737705, 0.4057377049180328, 0.4139344262295082, 0.4098360655737705, 0.4057377049180328, 0.4057377049180328, 0.4057377049180328, 0.4016393442622951, 0.4139344262295082, 0.4098360655737705, 0.4057377049180328, 0.4057377049180328, 0.4139344262295082, 0.4139344262295082, 0.4098360655737705, 0.45228215767634855], 'recall_macro': [0.34393827926397474, 0.001347708894878706, 0.004043126684636119, 0.10637032533822935, 0.10906574312798677, 0.13824847479513996, 0.13824847479513996, 0.1816264897730188, 0.18536238013870746, 0.18446270182518804, 0.19291368306348686, 0.16944425662120807, 0.1900547007012474, 0.1514683641765948, 0.14389848840019728, 0.15833481186502116, 0.16079786605221327, 0.16485197949414457, 0.1617463894320328, 0.18888203825182773, 0.18545757063869556, 0.1739994742392634, 0.17878263750456952, 0.17793459153814184, 0.17948738656919774, 0.16909418978901, 0.16964875944295854, 0.1886063379954869, 0.18136012054298867, 0.20240309026593106, 0.2010826588374405, 0.19792380675597254, 0.19934104031606323, 0.21895180674647913, 0.2142054554323403, 0.20051621642971348, 0.1974106263676017, 0.21082577674549968, 0.20448981844913766, 0.19492444807310116, 0.19492444807310116, 0.1849302062885256, 0.18560955411461258, 0.19190537195944452, 0.19445639236760776, 0.18374939146875027, 0.18374939146875027, 0.1845568459673385, 0.1820937917801464, 0.19389944134754594, 0.19143638716035385, 0.19416716462876252, 0.19361259497481395, 0.17913114682711268, 0.17913114682711268, 0.18378953192028039, 0.18889157273660692, 0.18939165962038876, 0.191942680028552, 0.18748317508714515, 0.18748317508714515, 0.182049817689987, 0.182049817689987, 0.187371986537536, 0.1849089323503439, 0.18546350200429243, 0.18546350200429243, 0.174840412188656, 0.1773914325968193, 0.1850674415311276, 0.186065666908235, 0.18672324467819998, 0.18537553578332128, 0.18542313103331534, 0.1838703360022594, 0.19534988373962164, 0.19379708870856577, 0.18891857558417557, 0.18736578055311967, 0.19437009991827342, 0.19437009991827342, 0.19548544521058683, 0.19548544521058683, 0.19989114891758328, 0.2023542031047754, 0.1981550378064722, 0.19569198361928006, 0.20084900332371355, 0.19829798291555029, 0.19569198361928006, 0.19569198361928006, 0.193276524682082, 0.1917237296510261, 0.20182140350694885, 0.19927038309878561, 0.1953900953515028, 0.1953900953515028, 0.20190936972792, 0.20190936972792, 0.19935834931975677, 0.25654333799408574], 'accuracy': [0.0, 0.05921052631578947, 0.06578947368421052, 0.20394736842105263, 0.21052631578947367, 0.23026315789473684, 0.2236842105263158, 0.26973684210526316, 0.27631578947368424, 0.2631578947368421, 0.25, 0.24342105263157895, 0.21710526315789475, 0.2236842105263158, 0.21052631578947367, 0.2236842105263158, 0.23026315789473684, 0.23026315789473684, 0.23026315789473684, 0.2236842105263158, 0.21052631578947367, 0.23684210526315788, 0.23684210526315788, 0.21710526315789475, 0.2236842105263158, 0.2236842105263158, 0.23026315789473684, 0.24342105263157895, 0.23026315789473684, 0.25, 0.24342105263157895, 0.26973684210526316, 0.2631578947368421, 0.24342105263157895, 0.24342105263157895, 0.2565789473684211, 0.2565789473684211, 0.25, 0.23684210526315788, 0.23684210526315788, 0.23684210526315788, 0.24342105263157895, 0.24342105263157895, 0.23026315789473684, 0.23026315789473684, 0.2236842105263158, 0.2236842105263158, 0.23684210526315788, 0.23026315789473684, 0.2565789473684211, 0.25, 0.2565789473684211, 0.25, 0.24342105263157895, 0.25, 0.25, 0.25, 0.25, 0.25, 0.23684210526315788, 0.23684210526315788, 0.2565789473684211, 0.2565789473684211, 0.24342105263157895, 0.24342105263157895, 0.2565789473684211, 0.2565789473684211, 0.25, 0.24342105263157895, 0.2565789473684211, 0.2631578947368421, 0.25, 0.2565789473684211, 0.2565789473684211, 0.2565789473684211, 0.2565789473684211, 0.25, 0.25, 0.25, 0.2631578947368421, 0.2631578947368421, 0.2631578947368421, 0.2631578947368421, 0.2565789473684211, 0.2631578947368421, 0.2631578947368421, 0.2565789473684211, 0.2631578947368421, 0.2631578947368421, 0.2565789473684211, 0.2565789473684211, 0.25, 0.24342105263157895, 0.2631578947368421, 0.2631578947368421, 0.24342105263157895, 0.25, 0.25, 0.25, 0.25, 0.2565789473684211], 'coverage_error': [12.125, 14.0, 14.0, 12.5, 12.5, 12.5, 12.5, 12.5, 12.5, 12.5, 12.5, 12.5, 12.5, 14.0, 14.0, 12.5, 12.5, 12.5, 12.5, 12.5, 12.5, 12.5, 12.5, 12.5, 12.5, 14.0, 14.0, 14.0, 14.0, 12.5, 14.0, 12.5, 12.5, 12.5, 12.5, 12.5, 12.5, 12.5, 12.5, 12.5, 12.5, 12.5, 12.5, 12.5, 12.5, 12.5, 12.5, 12.5, 12.5, 12.5, 12.5, 12.5, 12.5, 12.5, 12.5, 12.5, 12.5, 12.5, 12.5, 12.5, 12.5, 12.5, 12.5, 12.5, 12.5, 12.5, 12.5, 12.5, 12.5, 12.5, 12.5, 12.5, 12.5, 12.5, 12.5, 12.5, 12.5, 12.5, 12.5, 12.5, 12.5, 12.5, 12.5, 12.5, 12.5, 12.5, 12.5, 12.5, 12.5, 12.5, 12.5, 12.5, 12.5, 12.5, 12.5, 12.5, 12.5, 12.5, 12.5, 12.5, 9.125], 'label_ranking_loss': [0.6965909090909091, 1.0, 1.0, 0.8221153846153846, 0.8221153846153846, 0.7596153846153846, 0.7596153846153846, 0.717948717948718, 0.717948717948718, 0.717948717948718, 0.6898237179487179, 0.7596153846153846, 0.7596153846153846, 0.875, 0.875, 0.7596153846153846, 0.7596153846153846, 0.7596153846153846, 0.7596153846153846, 0.7231570512820513, 0.7231570512820513, 0.6971153846153846, 0.6971153846153846, 0.7596153846153846, 0.7596153846153846, 0.84375, 0.84375, 0.875, 0.875, 0.655448717948718, 0.7708333333333333, 0.655448717948718, 0.655448717948718, 0.655448717948718, 0.655448717948718, 0.717948717948718, 0.717948717948718, 0.655448717948718, 0.655448717948718, 0.717948717948718, 0.717948717948718, 0.7596153846153846, 0.7596153846153846, 0.717948717948718, 0.717948717948718, 0.7596153846153846, 0.7596153846153846, 0.7596153846153846, 0.7596153846153846, 0.7596153846153846, 0.7596153846153846, 0.7596153846153846, 0.7596153846153846, 0.7596153846153846, 0.7596153846153846, 0.7596153846153846, 0.7596153846153846, 0.7596153846153846, 0.717948717948718, 0.7596153846153846, 0.7596153846153846, 0.7596153846153846, 0.7596153846153846, 0.6971153846153846, 0.7596153846153846, 0.7596153846153846, 0.7596153846153846, 0.7596153846153846, 0.7596153846153846, 0.7596153846153846, 0.7596153846153846, 0.7596153846153846, 0.7596153846153846, 0.6971153846153846, 0.6971153846153846, 0.7596153846153846, 0.7596153846153846, 0.7596153846153846, 0.7596153846153846, 0.7596153846153846, 0.7596153846153846, 0.7596153846153846, 0.7596153846153846, 0.7596153846153846, 0.7596153846153846, 0.7596153846153846, 0.7596153846153846, 0.6971153846153846, 0.6971153846153846, 0.7596153846153846, 0.7596153846153846, 0.7596153846153846, 0.7596153846153846, 0.7596153846153846, 0.7596153846153846, 0.7596153846153846, 0.7596153846153846, 0.7596153846153846, 0.7596153846153846, 0.7596153846153846, 0.5], 'lrap': [0.23759920634920634, 0.1607142857142857, 0.1607142857142857, 0.2678571428571428, 0.2678571428571428, 0.32142857142857134, 0.32142857142857134, 0.3541666666666667, 0.3541666666666667, 0.3541666666666667, 0.3608630952380953, 0.32142857142857134, 0.32142857142857134, 0.26785714285714285, 0.26785714285714285, 0.32142857142857134, 0.32142857142857134, 0.32142857142857134, 0.32142857142857134, 0.3229166666666667, 0.3229166666666667, 0.3749999999999999, 0.3749999999999999, 0.32142857142857134, 0.32142857142857134, 0.29017857142857134, 0.29017857142857134, 0.26785714285714285, 0.26785714285714285, 0.40773809523809523, 0.35416666666666663, 0.40773809523809523, 0.40773809523809523, 0.40773809523809523, 0.40773809523809523, 0.3541666666666667, 0.3541666666666667, 0.40773809523809523, 0.40773809523809523, 0.3541666666666667, 0.3541666666666667, 0.32142857142857134, 0.32142857142857134, 0.3541666666666667, 0.3541666666666667, 0.32142857142857134, 0.32142857142857134, 0.32142857142857134, 0.32142857142857134, 0.32142857142857134, 0.32142857142857134, 0.32142857142857134, 0.32142857142857134, 0.32142857142857134, 0.32142857142857134, 0.32142857142857134, 0.32142857142857134, 0.32142857142857134, 0.3541666666666667, 0.32142857142857134, 0.32142857142857134, 0.32142857142857134, 0.32142857142857134, 0.3749999999999999, 0.32142857142857134, 0.32142857142857134, 0.32142857142857134, 0.32142857142857134, 0.32142857142857134, 0.32142857142857134, 0.32142857142857134, 0.32142857142857134, 0.32142857142857134, 0.3749999999999999, 0.3749999999999999, 0.32142857142857134, 0.32142857142857134, 0.32142857142857134, 0.32142857142857134, 0.32142857142857134, 0.32142857142857134, 0.32142857142857134, 0.32142857142857134, 0.32142857142857134, 0.32142857142857134, 0.32142857142857134, 0.32142857142857134, 0.3749999999999999, 0.3749999999999999, 0.32142857142857134, 0.32142857142857134, 0.32142857142857134, 0.32142857142857134, 0.32142857142857134, 0.32142857142857134, 0.32142857142857134, 0.32142857142857134, 0.32142857142857134, 0.32142857142857134, 0.32142857142857134, 0.5714285714285714]}\n"
     ]
    }
   ],
   "source": [
    "print(metrics_data)"
   ]
  },
  {
   "cell_type": "code",
   "execution_count": 44,
   "id": "c3b84004",
   "metadata": {},
   "outputs": [
    {
     "name": "stdout",
     "output_type": "stream",
     "text": [
      "f1_sampled: 101\n",
      "f1_micro: 101\n",
      "f1_macro: 101\n",
      "f_05_sample: 101\n",
      "f_05_micro: 101\n",
      "f_05_macro: 101\n",
      "precision_sampled: 101\n",
      "precision_micro: 101\n",
      "precision_macro: 101\n",
      "recall_sampled: 101\n",
      "recall_micro: 101\n",
      "recall_macro: 101\n",
      "accuracy: 101\n",
      "coverage_error: 101\n",
      "label_ranking_loss: 101\n",
      "lrap: 101\n"
     ]
    },
    {
     "data": {
      "image/png": "[encoded data removed]",
      "text/plain": [
       "<Figure size 1200x700 with 1 Axes>"
      ]
     },
     "metadata": {},
     "output_type": "display_data"
    }
   ],
   "source": [
    "plt.figure(figsize=(12, 7))\n",
    "epochs = range(1, len(metrics_log) + 1)\n",
    "for metric_name, values in metrics_data.items():\n",
    "    print(f\"{metric_name}: {len(values)}\")\n",
    "    if metric_name != 'lrap' and metric_name != 'coverage_error':\n",
    "        plt.plot(epochs, values, label=metric_name)\n",
    "\n",
    "plt.xlabel('Epoch')\n",
    "plt.ylabel('Metric Value')\n",
    "plt.title('Tactic - All Metrics Over Epochs')\n",
    "plt.legend()\n",
    "plt.grid(True)\n",
    "plt.tight_layout()\n",
    "plt.show()"
   ]
  },
  {
   "cell_type": "code",
   "execution_count": 45,
   "id": "b786ee11",
   "metadata": {},
   "outputs": [
    {
     "data": {
      "image/png": "[encoded data removed]",
      "text/plain": [
       "<Figure size 1200x700 with 1 Axes>"
      ]
     },
     "metadata": {},
     "output_type": "display_data"
    }
   ],
   "source": [
    "plt.figure(figsize=(12, 7))\n",
    "epochs = range(1, len(metrics_log) + 1)\n",
    "for metric_name, values in metrics_data.items():\n",
    "    # print(f\"{metric_name}: {len(values)}\")\n",
    "    if metric_name == 'coverage_error':\n",
    "        plt.plot(epochs, values, label=metric_name)\n",
    "\n",
    "plt.xlabel('Epoch')\n",
    "plt.ylabel('Metric Value')\n",
    "plt.title('Tactic -All Metrics Over Epochs')\n",
    "plt.legend()\n",
    "plt.grid(True)\n",
    "plt.tight_layout()\n",
    "plt.show()"
   ]
  },
  {
   "cell_type": "code",
   "execution_count": 46,
   "id": "1ec70b8e",
   "metadata": {},
   "outputs": [
    {
     "data": {
      "image/png": "[encoded data removed]",
      "text/plain": [
       "<Figure size 1200x700 with 1 Axes>"
      ]
     },
     "metadata": {},
     "output_type": "display_data"
    }
   ],
   "source": [
    "plt.figure(figsize=(12, 7))\n",
    "epochs = range(1, len(metrics_log) + 1)\n",
    "for metric_name, values in metrics_data.items():\n",
    "    # print(f\"{metric_name}: {len(values)}\")\n",
    "    if metric_name == 'lrap':\n",
    "        plt.plot(epochs, values, label=metric_name)\n",
    "\n",
    "plt.xlabel('Epoch')\n",
    "plt.ylabel('Metric Value')\n",
    "plt.title('Tactic -All Metrics Over Epochs')\n",
    "plt.legend()\n",
    "plt.grid(True)\n",
    "plt.tight_layout()\n",
    "plt.show()"
   ]
  },
  {
   "cell_type": "code",
   "execution_count": 47,
   "id": "44a17fa5",
   "metadata": {},
   "outputs": [],
   "source": [
    "def print_F1_based_on_distribution(y_true, y_pred, Y, columns):\n",
    "  fig,ax = plt.subplots()\n",
    "\n",
    "  results = pd.DataFrame(columns = columns)\n",
    "  results.loc[len(results)] = f1_score(y_true, y_pred, average=None)\n",
    "\n",
    "\n",
    "  Y_count = Y.apply(np.sum, axis=0)\n",
    "\n",
    "  # print(Y_count[0:14])\n",
    "\n",
    "  Y_count_sorted = Y_count[0:14].sort_values(ascending=False)\n",
    "\n",
    "  ax.bar(Y_count_sorted.index, Y_count_sorted.values)\n",
    "  ax.set_xlabel(\"Tactics\")\n",
    "  ax.set_ylabel(\"Number of CVEs\")\n",
    "  plt.xticks(rotation=90)\n",
    "\n",
    "  ax2=ax.twinx()\n",
    "  ax2.plot(Y_count_sorted.index, results[Y_count_sorted.index].iloc[0], color='red')\n",
    "  ax2.set_ylabel(\"F1 Score\")\n",
    "\n",
    "  ax = plt.gca()\n",
    "  plt.show()"
   ]
  },
  {
   "cell_type": "code",
   "execution_count": 48,
   "id": "ad72bae8",
   "metadata": {},
   "outputs": [],
   "source": [
    "def print_precision_based_on_distribution(y_true, y_pred, Y, columns):\n",
    "  fig,ax = plt.subplots()\n",
    "\n",
    "  results = pd.DataFrame(columns = columns)\n",
    "  results.loc[len(results)] = precision_score(y_true, y_pred, average=None)\n",
    "\n",
    "\n",
    "  Y_count = Y.apply(np.sum, axis=0)\n",
    "\n",
    "  # print(Y_count[0:14])\n",
    "\n",
    "  Y_count_sorted = Y_count[0:14].sort_values(ascending=False)\n",
    "\n",
    "  ax.bar(Y_count_sorted.index, Y_count_sorted.values)\n",
    "  ax.set_xlabel(\"Tactics\")\n",
    "  ax.set_ylabel(\"Number of CVEs\")\n",
    "  plt.xticks(rotation=90)\n",
    "\n",
    "  ax2=ax.twinx()\n",
    "  ax2.plot(Y_count_sorted.index, results[Y_count_sorted.index].iloc[0], color='red')\n",
    "  ax2.set_ylabel(\"Precision Score\")\n",
    "\n",
    "  ax = plt.gca()\n",
    "  plt.show()"
   ]
  },
  {
   "cell_type": "code",
   "execution_count": 49,
   "id": "bfe45ad7",
   "metadata": {},
   "outputs": [],
   "source": [
    "def compute_metrics(predicted_y, true_y, metric_function, columns, limit):\n",
    "  results = pd.DataFrame(columns = columns)\n",
    "  if (metric_function == accuracy_score):\n",
    "    results.loc[len(results)] = metric_function(true_y, predicted_y)\n",
    "  else:\n",
    "    results.loc[len(results)] = metric_function(true_y, predicted_y, average=None)\n",
    "\n",
    "  sorted_results = results.sort_values(by=0, axis=1, ascending=False)\n",
    "\n",
    "  for col in sorted_results.columns[:limit]:\n",
    "        print(f\"{col}: {sorted_results[col].values[0]}\")\n",
    "\n",
    "  return sorted_results.iloc[:, :limit]"
   ]
  },
  {
   "cell_type": "code",
   "execution_count": 50,
   "id": "6eea8a5f",
   "metadata": {},
   "outputs": [],
   "source": [
    "df = pd.read_csv('merged_all_columns.csv', encoding='utf-8')\n",
    "# df_attack['tactic_label'] = df_attack.apply(lambda x: list(x[TACTIC]), axis=1)\n",
    "# df_attack['technique_label'] = df_attack.apply(lambda x: list(x[TECHNIQUE]), axis=1)\n",
    "\n",
    "df_tactic_labels = df[TACTIC]\n",
    "df_technique_labels = df[TECHNIQUE]\n",
    "\n",
    "df['tactic_label'] = df.apply(lambda x: list(x[TACTIC]), axis=1)\n",
    "df['technique_label'] = df.apply(lambda x: list(x[TECHNIQUE]), axis=1)\n",
    "\n",
    "df['text_clean'] = df['Text'].map(lambda t: preprocess(t))\n",
    "\n",
    "\n",
    "train, test = train_test_split(df, test_size=0.2, random_state=2222)\n",
    "validation, test = train_test_split(test, test_size=0.5, random_state=2222)\n"
   ]
  },
  {
   "cell_type": "code",
   "execution_count": 51,
   "id": "598b8829",
   "metadata": {},
   "outputs": [
    {
     "name": "stdout",
     "output_type": "stream",
     "text": [
      "------Validation results --------\n",
      "0.4654444548041869\n",
      "F1 scores per class\n",
      "TA0040: 0.75\n",
      "TA0002: 0.5825242718446602\n",
      "TA0009: 0.5614035087719298\n",
      "TA0006: 0.5333333333333333\n",
      "TA0004: 0.43478260869565216\n",
      "TA0001: 0.4166666666666667\n",
      "TA0005: 0.1\n",
      "TA0003: 0.0\n",
      "TA0008: 0.0\n",
      "TA0007: 0.0\n",
      "TA0010: 0.0\n",
      "TA0011: 0.0\n",
      "TA0042: 0.0\n",
      "TA0043: 0.0\n",
      "----------------------------------\n",
      "Recall scores per class\n",
      "TA0040: 0.75\n",
      "TA0009: 0.5714285714285714\n",
      "TA0002: 0.5660377358490566\n",
      "TA0006: 0.4444444444444444\n",
      "TA0004: 0.3448275862068966\n",
      "TA0001: 0.32608695652173914\n",
      "TA0005: 0.0625\n",
      "TA0003: 0.0\n",
      "TA0008: 0.0\n",
      "TA0007: 0.0\n",
      "TA0010: 0.0\n",
      "TA0011: 0.0\n",
      "TA0042: 0.0\n",
      "TA0043: 0.0\n",
      "----------------------------------\n",
      "Precision scores per class\n",
      "TA0040: 0.75\n",
      "TA0006: 0.6666666666666666\n",
      "TA0002: 0.6\n",
      "TA0004: 0.5882352941176471\n",
      "TA0001: 0.5769230769230769\n",
      "TA0009: 0.5517241379310345\n",
      "TA0005: 0.25\n",
      "TA0003: 0.0\n",
      "TA0008: 0.0\n",
      "TA0007: 0.0\n",
      "TA0010: 0.0\n",
      "TA0011: 0.0\n",
      "TA0042: 0.0\n",
      "TA0043: 0.0\n",
      "----------------------------------\n",
      "Accuracy scores per class\n",
      "TA0001: 0.24342105263157895\n",
      "TA0002: 0.24342105263157895\n",
      "TA0003: 0.24342105263157895\n",
      "TA0004: 0.24342105263157895\n",
      "TA0005: 0.24342105263157895\n",
      "TA0006: 0.24342105263157895\n",
      "TA0007: 0.24342105263157895\n",
      "TA0008: 0.24342105263157895\n",
      "TA0009: 0.24342105263157895\n",
      "TA0010: 0.24342105263157895\n",
      "TA0011: 0.24342105263157895\n",
      "TA0040: 0.24342105263157895\n",
      "TA0042: 0.24342105263157895\n",
      "TA0043: 0.24342105263157895\n"
     ]
    }
   ],
   "source": [
    "print(\"------Validation results --------\")\n",
    "print(BEST_F1)\n",
    "\n",
    "print(\"F1 scores per class\")\n",
    "y_train_df = train.drop(train.columns[0:2], axis=1)\n",
    "\n",
    "f1_best_metrics = compute_metrics(BEST_PREDICTED, BEST_TRUE, f1_score, test.columns[2:16], 14)\n",
    "print(\"----------------------------------\")\n",
    "\n",
    "print(\"Recall scores per class\")\n",
    "recall_best_metrics = compute_metrics(BEST_PREDICTED, BEST_TRUE, recall_score, test.columns[2:16], 14)\n",
    "print(\"----------------------------------\")\n",
    "\n",
    "print(\"Precision scores per class\")\n",
    "precision_best_metrics = compute_metrics(BEST_PREDICTED, BEST_TRUE, precision_score, test.columns[2:16], 14)\n",
    "print(\"----------------------------------\")\n",
    "\n",
    "print(\"Accuracy scores per class\")\n",
    "acc_best_metrics = compute_metrics(BEST_PREDICTED, BEST_TRUE, accuracy_score, test.columns[2:16], 14)"
   ]
  },
  {
   "cell_type": "code",
   "execution_count": 52,
   "id": "08b171ec",
   "metadata": {},
   "outputs": [
    {
     "data": {
      "image/png": "[encoded data removed]",
      "text/plain": [
       "<Figure size 640x480 with 2 Axes>"
      ]
     },
     "metadata": {},
     "output_type": "display_data"
    }
   ],
   "source": [
    "print_F1_based_on_distribution(BEST_PREDICTED, BEST_TRUE, y_train_df,  test.columns[2:16])"
   ]
  },
  {
   "cell_type": "code",
   "execution_count": 53,
   "id": "d3edea3d",
   "metadata": {},
   "outputs": [
    {
     "data": {
      "image/png": "[encoded data removed]",
      "text/plain": [
       "<Figure size 640x480 with 2 Axes>"
      ]
     },
     "metadata": {},
     "output_type": "display_data"
    }
   ],
   "source": [
    "print_precision_based_on_distribution(BEST_PREDICTED, BEST_TRUE, y_train_df,  test.columns[2:16])"
   ]
  }
 ],
 "metadata": {
  "kernelspec": {
   "display_name": "dl_final",
   "language": "python",
   "name": "python3"
  },
  "language_info": {
   "codemirror_mode": {
    "name": "ipython",
    "version": 3
   },
   "file_extension": ".py",
   "mimetype": "text/x-python",
   "name": "python",
   "nbconvert_exporter": "python",
   "pygments_lexer": "ipython3",
   "version": "3.12.7"
  }
 },
 "nbformat": 4,
 "nbformat_minor": 5
}
