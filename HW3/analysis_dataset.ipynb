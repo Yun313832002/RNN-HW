{
 "cells": [
  {
   "cell_type": "code",
   "execution_count": 1,
   "id": "30606270",
   "metadata": {},
   "outputs": [],
   "source": [
    "import re"
   ]
  },
  {
   "cell_type": "markdown",
   "id": "b9d9cec0",
   "metadata": {},
   "source": [
    "# 1. Load and preprocess data"
   ]
  },
  {
   "cell_type": "code",
   "execution_count": 2,
   "id": "6920fe5f",
   "metadata": {},
   "outputs": [
    {
     "name": "stdout",
     "output_type": "stream",
     "text": [
      "72373 ['computers.', 'In', 'O']\n",
      "95835 ['skills.', 'In', 'O']\n",
      "97723 ['point.', 'It', 'O']\n",
      "13869 ['skills.', 'In', 'O']\n",
      "15888 ['skills.', 'In', 'O']\n",
      "7162 ['8).', 'Despite', 'O']\n"
     ]
    }
   ],
   "source": [
    "# 將輸入字串 s 中的所有阿拉伯數字（0-9）都替換成零（'0'）\n",
    "def zero_digits(s):\n",
    "    \"\"\"\n",
    "    Replace every digit in a string by a zero.\n",
    "    \"\"\"\n",
    "    return re.sub('\\d', '0', s)\n",
    "\n",
    "def read_data(filepath):\n",
    "    sentences, labels = [], []\n",
    "    words, tags = [], []\n",
    "    i=0\n",
    "    with open(filepath, encoding='utf-8') as f:\n",
    "        for line in f:\n",
    "            line = line.strip()\n",
    "            i+=1\n",
    "            if not line:\n",
    "                if words:\n",
    "                    sentences.append(words)\n",
    "                    labels.append(tags)\n",
    "                    words, tags = [], []\n",
    "            else:\n",
    "                try:\n",
    "                    word, tag = line.split()\n",
    "                    word = zero_digits(word)\n",
    "                    words.append(word)\n",
    "                    tags.append(tag)\n",
    "                except: \n",
    "                    a=line.split() \n",
    "                    if  a!= ['O']:\n",
    "                        print(i,a)\n",
    "        if words:\n",
    "            sentences.append(words)\n",
    "            labels.append(tags)\n",
    "    return sentences, labels\n",
    "\n",
    "train_sentences, train_labels = read_data(\"./train.txt\")\n",
    "valid_sentences, valid_labels = read_data(\"./valid.txt\")\n",
    "test_sentences, test_labels = read_data(\"./test.txt\")"
   ]
  },
  {
   "cell_type": "code",
   "execution_count": 3,
   "id": "1dfe6d02",
   "metadata": {},
   "outputs": [
    {
     "name": "stdout",
     "output_type": "stream",
     "text": [
      "['The', 'admin@000', 'has', 'largely', 'targeted', 'organizations', 'involved', 'in', 'financial', ',', 'economic', 'and', 'trade', 'policy', ',', 'typically', 'using', 'publicly', 'available', 'RATs', 'such', 'as', 'Poison', 'Ivy', ',', 'as', 'well', 'some', 'non-public', 'backdoors', '.']\n",
      "['O', 'B-HackOrg', 'O', 'O', 'O', 'O', 'O', 'O', 'B-Idus', 'O', 'B-Idus', 'O', 'B-Idus', 'I-Idus', 'O', 'O', 'O', 'B-Tool', 'I-Tool', 'I-Tool', 'O', 'O', 'B-Tool', 'I-Tool', 'O', 'O', 'O', 'O', 'B-Tool', 'I-Tool', 'O']\n"
     ]
    }
   ],
   "source": [
    "print(train_sentences[0])\n",
    "print(train_labels[0])"
   ]
  },
  {
   "cell_type": "markdown",
   "id": "57abf828",
   "metadata": {},
   "source": [
    "# 2. Build label mappings"
   ]
  },
  {
   "cell_type": "code",
   "execution_count": 4,
   "id": "c870daef",
   "metadata": {},
   "outputs": [],
   "source": [
    "unique_labels = set(tag for seq in train_labels for tag in seq)\n",
    "label2id = {label: i for i, label in enumerate(sorted(unique_labels))}\n",
    "id2label = {v: k for k, v in label2id.items()}"
   ]
  },
  {
   "cell_type": "code",
   "execution_count": 5,
   "id": "7d8c4c46",
   "metadata": {},
   "outputs": [
    {
     "name": "stdout",
     "output_type": "stream",
     "text": [
      "{'B-Org', 'I-Org', 'I-Area', 'B-Exp', 'I-Exp', 'I-Purp', 'B-Purp', 'I-Tool', 'I-Idus', 'B-Tool', 'B-OffAct', 'B-Way', 'I-Time', 'I-SecTeam', 'B-Area', 'B-SamFile', 'B-Features', 'O', 'B-Idus', 'I-HackOrg', 'I-SamFile', 'B-Time', 'I-Features', 'I-OffAct', 'I-Way', 'B-SecTeam', 'B-HackOrg'}\n",
      "{'B-Area': 0, 'B-Exp': 1, 'B-Features': 2, 'B-HackOrg': 3, 'B-Idus': 4, 'B-OffAct': 5, 'B-Org': 6, 'B-Purp': 7, 'B-SamFile': 8, 'B-SecTeam': 9, 'B-Time': 10, 'B-Tool': 11, 'B-Way': 12, 'I-Area': 13, 'I-Exp': 14, 'I-Features': 15, 'I-HackOrg': 16, 'I-Idus': 17, 'I-OffAct': 18, 'I-Org': 19, 'I-Purp': 20, 'I-SamFile': 21, 'I-SecTeam': 22, 'I-Time': 23, 'I-Tool': 24, 'I-Way': 25, 'O': 26}\n",
      "{0: 'B-Area', 1: 'B-Exp', 2: 'B-Features', 3: 'B-HackOrg', 4: 'B-Idus', 5: 'B-OffAct', 6: 'B-Org', 7: 'B-Purp', 8: 'B-SamFile', 9: 'B-SecTeam', 10: 'B-Time', 11: 'B-Tool', 12: 'B-Way', 13: 'I-Area', 14: 'I-Exp', 15: 'I-Features', 16: 'I-HackOrg', 17: 'I-Idus', 18: 'I-OffAct', 19: 'I-Org', 20: 'I-Purp', 21: 'I-SamFile', 22: 'I-SecTeam', 23: 'I-Time', 24: 'I-Tool', 25: 'I-Way', 26: 'O'}\n"
     ]
    }
   ],
   "source": [
    "print(unique_labels)\n",
    "print(label2id)\n",
    "print(id2label)"
   ]
  }
 ],
 "metadata": {
  "kernelspec": {
   "display_name": "Python 3",
   "language": "python",
   "name": "python3"
  },
  "language_info": {
   "codemirror_mode": {
    "name": "ipython",
    "version": 3
   },
   "file_extension": ".py",
   "mimetype": "text/x-python",
   "name": "python",
   "nbconvert_exporter": "python",
   "pygments_lexer": "ipython3",
   "version": "3.11.5"
  }
 },
 "nbformat": 4,
 "nbformat_minor": 5
}
