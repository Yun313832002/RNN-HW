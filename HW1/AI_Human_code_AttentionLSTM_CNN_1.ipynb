{
 "cells": [
  {
   "cell_type": "code",
   "execution_count": 1,
   "metadata": {
    "id": "u7Mnlcq4k2Yo"
   },
   "outputs": [],
   "source": [
    "import pandas as pd\n",
    "import numpy as np\n",
    "import torch\n",
    "import torch.nn as nn\n",
    "import torch.optim as optim\n",
    "import torch.nn.functional as F\n",
    "from torch.utils.data import Dataset, DataLoader\n",
    "from tensorflow.keras.preprocessing.text import Tokenizer\n",
    "from tensorflow.keras.preprocessing.sequence import pad_sequences\n",
    "from gensim.models import Word2Vec\n",
    "from sklearn.model_selection import train_test_split\n",
    "from collections import Counter\n",
    "import matplotlib.pyplot as plt\n"
   ]
  },
  {
   "cell_type": "code",
   "execution_count": 2,
   "metadata": {},
   "outputs": [],
   "source": [
    "import os\n",
    "import torch\n",
    "\n",
    "os.environ['CUDA_LAUNCH_BLOCKING'] = '1'\n",
    "os.environ['TORCH_USE_CUDA_DSA'] = '1'"
   ]
  },
  {
   "cell_type": "markdown",
   "metadata": {},
   "source": [
    "# 設定參數"
   ]
  },
  {
   "cell_type": "code",
   "execution_count": 3,
   "metadata": {},
   "outputs": [],
   "source": [
    "# Read the dataset\n",
    "df = pd.read_csv(r\"C:\\Users\\user\\OneDrive\\桌面\\研究所\\課程內容\\遞迴神經網路與變形器\\HW1\\AI_Human.csv\\AI_Human.csv\")"
   ]
  },
  {
   "cell_type": "code",
   "execution_count": 4,
   "metadata": {},
   "outputs": [],
   "source": [
    "# # 計算MAX_VOCAB_SIZE\n",
    "\n",
    "# # Tokenize\n",
    "# all_words = [word for text in df['text'] for word in text.split()]\n",
    "# word_counts = Counter(all_words)\n",
    "\n",
    "# # 計算累積詞頻\n",
    "# sorted_counts = sorted(word_counts.values(), reverse=True)\n",
    "# print(sorted_counts[:10])  # 顯示前10個詞頻\n",
    "# cumulative_freq = [sum(sorted_counts[:i]) / sum(sorted_counts) for i in range(1, len(sorted_counts))]\n",
    "# print(cumulative_freq[:10])  # 顯示前10個累積詞頻\n",
    "\n",
    "# # # 繪製累積詞頻圖\n",
    "# # plt.plot(cumulative_freq)\n",
    "# # plt.xlabel(\"Vocabulary Size\")\n",
    "# # plt.ylabel(\"Cumulative Frequency\")\n",
    "# # plt.title(\"Vocabulary Coverage\")\n",
    "# # plt.show()\n",
    "\n",
    "# # 找出覆蓋 95% 的詞彙量\n",
    "# for i, freq in enumerate(cumulative_freq):\n",
    "#     if freq >= 0.95:\n",
    "#         print(f\"95% 的文本內容被前 {11394} 個詞覆蓋\")\n",
    "#         break\n",
    "\n",
    "# 95% 的文本內容被前 11394 個詞覆蓋\n",
    "# 共有 544,828 個不同的詞"
   ]
  },
  {
   "cell_type": "code",
   "execution_count": 5,
   "metadata": {},
   "outputs": [],
   "source": [
    "# plt.figure(figsize=(8, 6))\n",
    "# plt.plot(range(len(cumulative_freq)), cumulative_freq, label=\"Cumulative Frequency\")\n",
    "# plt.axhline(y=0.95, color='r', linestyle='dashed', label=\"95% Threshold\")\n",
    "# plt.xlabel(\"Vocabulary Size\")\n",
    "# plt.ylabel(\"Cumulative Frequency\")\n",
    "# plt.title(\"Word Frequency Distribution\")\n",
    "# plt.legend()\n",
    "# plt.grid()\n",
    "# plt.show()"
   ]
  },
  {
   "cell_type": "code",
   "execution_count": 6,
   "metadata": {},
   "outputs": [],
   "source": [
    "# # 計算MAX_SEQ_LENGTH\n",
    "\n",
    "# # 計算每個文本的長度\n",
    "# text_lengths = [len(text.split()) for text in df['text']]\n",
    "\n",
    "# # 找出文本長度的分佈\n",
    "# percentiles = np.percentile(text_lengths, [50, 75, 80, 85, 90, 95, 99, 100])\n",
    "# print(\"文本長度的分佈:\")\n",
    "# for p, length in zip([50, 75, 80, 85, 90, 95, 99, 100], percentiles):\n",
    "#     print(f\"{p}% 的文本長度小於: {length}\")\n",
    "\n",
    "\n",
    "\n",
    "# 文本長度的分佈:\n",
    "# 50% 的文本長度小於: 363.0\n",
    "# 75% 的文本長度小於: 471.0\n",
    "# 80% 的文本長度小於: 505.0\n",
    "# 85% 的文本長度小於: 552.0\n",
    "# 90% 的文本長度小於: 615.0\n",
    "# 95% 的文本長度小於: 721.0\n",
    "# 99% 的文本長度小於: 956.0\n",
    "# 100% 的文本長度小於: 1668.0"
   ]
  },
  {
   "cell_type": "code",
   "execution_count": 7,
   "metadata": {},
   "outputs": [],
   "source": [
    "MAX_VOCAB_SIZE = 12000  # 詞彙表大小 可設12000-15000\n",
    "MAX_SEQ_LENGTH = 300 # 最大序列長度\n",
    "EMBEDDING_DIM = 100  # Word2Vec 向量維度\n",
    "HIDDEN_DIM = 64 # LSTM 隱藏層維度\n",
    "NUM_FILTERS = 100  # CNN 過濾器數量\n",
    "FILTER_SIZES = [2, 3, 4]  # CNN 過濾器大小\n",
    "OUTPUT_DIM = 1  # 二分類（AI: 1 / Human: 0）\n",
    "BATCH_SIZE = 32\n",
    "NUM_EPOCHS = 5\n",
    "DEVICE = torch.device(\"cuda\" if torch.cuda.is_available() else \"cpu\")"
   ]
  },
  {
   "cell_type": "markdown",
   "metadata": {},
   "source": [
    "# Tokenizer & Embedding\n"
   ]
  },
  {
   "cell_type": "code",
   "execution_count": 8,
   "metadata": {
    "id": "TqbWaf0klgrE"
   },
   "outputs": [],
   "source": [
    "# def tokenizer(text):\n",
    "#     return text.split()\n",
    "\n",
    "# # Build vocabulary\n",
    "# counter = Counter()\n",
    "# for text in df['text']:\n",
    "#     counter.update(tokenizer(text))\n",
    "# vocab = {word: i+2 for i, (word, _) in enumerate(counter.items())}\n",
    "# vocab['<unk>'] = 0\n",
    "# vocab['<pad>'] = 1\n",
    "\n",
    "# # Text numerization\n",
    "# def numericalize(text, vocab):\n",
    "#     return [vocab.get(word, vocab['<unk>']) for word in tokenizer(text)]\n",
    "\n",
    "# def pad_collate_fn(batch, pad_idx):\n",
    "#     texts, labels = zip(*batch)\n",
    "#     text_lens = [len(text) for text in texts]\n",
    "#     max_len = max(text_lens)\n",
    "#     padded_texts = torch.full((len(texts), max_len), pad_idx, dtype=torch.long)\n",
    "#     for i, text in enumerate(texts):\n",
    "#         padded_texts[i, :text_lens[i]] = text\n",
    "#     return padded_texts, torch.tensor(labels, dtype=torch.float)\n"
   ]
  },
  {
   "cell_type": "code",
   "execution_count": 9,
   "metadata": {},
   "outputs": [],
   "source": [
    "# 使用 TensorFlow Tokenizer\n",
    "tokenizer = Tokenizer(num_words=MAX_VOCAB_SIZE, oov_token=\"<unk>\")\n",
    "tokenizer.fit_on_texts(df['text'])\n",
    "\n",
    "# 文本數值化並填充序列\n",
    "sequences = tokenizer.texts_to_sequences(df['text'])\n",
    "padded_sequences = pad_sequences(sequences, maxlen=MAX_SEQ_LENGTH, padding='post')"
   ]
  },
  {
   "cell_type": "markdown",
   "metadata": {},
   "source": [
    "# 訓練 Word2Vec"
   ]
  },
  {
   "cell_type": "code",
   "execution_count": 10,
   "metadata": {},
   "outputs": [],
   "source": [
    "word2vec_model = Word2Vec(sentences=[text.split() for text in df['text']], vector_size=EMBEDDING_DIM, window=5, min_count=1, workers=4)\n",
    "\n",
    "# 建立詞嵌入矩陣\n",
    "embedding_matrix = np.zeros((MAX_VOCAB_SIZE, EMBEDDING_DIM))\n",
    "for word, i in tokenizer.word_index.items():\n",
    "    if i < MAX_VOCAB_SIZE and word in word2vec_model.wv:\n",
    "        embedding_matrix[i] = word2vec_model.wv[word]"
   ]
  },
  {
   "cell_type": "markdown",
   "metadata": {},
   "source": [
    "# 建立 PyTorch Dataset"
   ]
  },
  {
   "cell_type": "code",
   "execution_count": 11,
   "metadata": {},
   "outputs": [],
   "source": [
    "class TextDataset(Dataset):\n",
    "    def __init__(self, texts, labels):\n",
    "        self.texts = torch.tensor(texts, dtype=torch.long)\n",
    "        self.labels = torch.tensor(labels, dtype=torch.float32)\n",
    "\n",
    "    def __len__(self):\n",
    "        return len(self.texts)\n",
    "\n",
    "    def __getitem__(self, idx):\n",
    "        return self.texts[idx], self.labels[idx]\n",
    "    \n",
    "\n",
    "# 轉換標籤\n",
    "labels = np.array(df['generated'], dtype=np.float32)  # 0: Human, 1: AI\n",
    "\n",
    "# 切分數據集 (7:2:1)\n",
    "X_train, X_temp, y_train, y_temp = train_test_split(padded_sequences, labels, test_size=0.3, random_state=42)\n",
    "X_val, X_test, y_val, y_test = train_test_split(X_temp, y_temp, test_size=1/3, random_state=42)  # 0.3 再拆成 0.2 和 0.1\n",
    "\n",
    "\n",
    "# 創建 DataLoader\n",
    "train_dataset = TextDataset(X_train, y_train)\n",
    "val_dataset = TextDataset(X_val, y_val)\n",
    "test_dataset = TextDataset(X_test, y_test)\n",
    "\n",
    "train_loader = DataLoader(train_dataset, batch_size=BATCH_SIZE, shuffle=True)\n",
    "val_loader = DataLoader(val_dataset, batch_size=BATCH_SIZE, shuffle=False)\n",
    "test_loader = DataLoader(test_dataset, batch_size=BATCH_SIZE, shuffle=False)\n"
   ]
  },
  {
   "cell_type": "markdown",
   "metadata": {},
   "source": [
    "# 定義 LSTM + Attention 模型"
   ]
  },
  {
   "cell_type": "code",
   "execution_count": 12,
   "metadata": {},
   "outputs": [],
   "source": [
    "class AttentionLSTMCNN(nn.Module):\n",
    "    def __init__(self, embedding_dim, hidden_dim, num_filters, filter_sizes, output_dim, embedding_matrix):\n",
    "        super(AttentionLSTMCNN, self).__init__()\n",
    "\n",
    "        # 嵌入層\n",
    "        self.embedding = nn.Embedding.from_pretrained(torch.tensor(embedding_matrix, dtype=torch.float), freeze=False)\n",
    "\n",
    "        # LSTM層，雙向\n",
    "        self.lstm = nn.LSTM(embedding_dim, hidden_dim, batch_first=True, bidirectional=True)\n",
    "\n",
    "        # Attention 層\n",
    "        self.attention = nn.Linear(hidden_dim * 2, hidden_dim * 2)  # 雙向LSTM輸出的維度\n",
    "\n",
    "        # CNN 層\n",
    "        self.convs = nn.ModuleList([\n",
    "            nn.Conv1d(in_channels=hidden_dim * 2, out_channels=num_filters, kernel_size=fs)\n",
    "            for fs in filter_sizes\n",
    "        ])\n",
    "\n",
    "        # 全連接層\n",
    "        self.fc = nn.Linear(num_filters * len(filter_sizes), output_dim)\n",
    "        self.dropout = nn.Dropout(0.3)\n",
    "\n",
    "    def forward(self, x):\n",
    "        # 嵌入層處理輸入\n",
    "        embedded = self.embedding(x)  # [batch_size, seq_len, embedding_dim]\n",
    "\n",
    "        # LSTM層處理\n",
    "        lstm_out, _ = self.lstm(embedded)  # [batch_size, seq_len, hidden_dim * 2]\n",
    "\n",
    "        # Attention 機制\n",
    "        attention_scores = torch.tanh(self.attention(lstm_out))  # [batch_size, seq_len, hidden_dim * 2]\n",
    "        attention_weights = torch.softmax(attention_scores, dim=1)  # [batch_size, seq_len, hidden_dim * 2]\n",
    "        context_vector = torch.sum(attention_weights * lstm_out, dim=1)  # [batch_size, hidden_dim * 2]\n",
    "\n",
    "        # 將 context vector 轉換為 CNN 所需的形狀 (batch_size, hidden_dim * 2, seq_len)\n",
    "        lstm_out_permuted = lstm_out.permute(0, 2, 1)  # [batch_size, hidden_dim * 2, seq_len]\n",
    "\n",
    "        # CNN 層\n",
    "        conv_outputs = [F.relu(conv(lstm_out_permuted)) for conv in self.convs]  # [batch_size, num_filters, *]\n",
    "        conv_outputs = [F.max_pool1d(c, c.shape[2]).squeeze(2) for c in conv_outputs]  # 池化\n",
    "        cnn_output = torch.cat(conv_outputs, dim=1)  # [batch_size, num_filters * len(filter_sizes)]\n",
    "\n",
    "        # 全連接層\n",
    "        out = self.fc(self.dropout(cnn_output))  # [batch_size, output_dim]\n",
    "        return torch.sigmoid(out)  # [batch_size, output_dim]\n",
    "\n",
    "    # def forward(self, x):\n",
    "    #     embedded = self.embedding(x)  # [batch_size, seq_len, embedding_dim]\n",
    "    #     print(f\"Embedded shape: {embedded.shape}\")\n",
    "\n",
    "    #     lstm_out, _ = self.lstm(embedded)  # [batch_size, seq_len, hidden_dim * 2]\n",
    "    #     print(f\"LSTM output shape: {lstm_out.shape}\")\n",
    "\n",
    "    #     attention_scores = torch.tanh(self.attention(lstm_out))  # [batch_size, seq_len, hidden_dim * 2]\n",
    "    #     print(f\"Attention scores shape: {attention_scores.shape}\")\n",
    "\n",
    "    #     attention_weights = torch.softmax(attention_scores, dim=1)  # [batch_size, seq_len, hidden_dim * 2]\n",
    "    #     context_vector = torch.sum(attention_weights * lstm_out, dim=1)  # [batch_size, hidden_dim * 2]\n",
    "    #     print(f\"Context vector shape: {context_vector.shape}\")\n",
    "\n",
    "    #     lstm_out_permuted = lstm_out.permute(0, 2, 1)  # [batch_size, hidden_dim * 2, seq_len]\n",
    "    #     print(f\"LSTM output permuted shape: {lstm_out_permuted.shape}\")\n",
    "\n",
    "    #     conv_outputs = [F.relu(conv(lstm_out_permuted)) for conv in self.convs]  # [batch_size, num_filters, *]\n",
    "    #     print(f\"Convolution output shape: {conv_outputs[0].shape}\")\n",
    "\n",
    "    #     conv_outputs = [F.max_pool1d(c, c.shape[2]).squeeze(2) for c in conv_outputs]  # Pooling\n",
    "    #     cnn_output = torch.cat(conv_outputs, dim=1)  # [batch_size, num_filters * len(filter_sizes)]\n",
    "    #     print(f\"CNN output shape: {cnn_output.shape}\")\n",
    "\n",
    "    #     out = self.fc(self.dropout(cnn_output))  # [batch_size, output_dim]\n",
    "    #     return torch.sigmoid(out)  # [batch_size, output_dim]\n",
    "\n",
    "\n"
   ]
  },
  {
   "cell_type": "markdown",
   "metadata": {},
   "source": [
    "# 訓練"
   ]
  },
  {
   "cell_type": "code",
   "execution_count": 13,
   "metadata": {},
   "outputs": [],
   "source": [
    "# 初始化模型\n",
    "model = AttentionLSTMCNN(EMBEDDING_DIM, HIDDEN_DIM, NUM_FILTERS, FILTER_SIZES, OUTPUT_DIM, embedding_matrix)\n",
    "model = model.to(DEVICE)\n",
    "# 定義損失函數和優化器\n",
    "criterion = nn.BCELoss()\n",
    "optimizer = optim.Adam(model.parameters(), lr=0.001)"
   ]
  },
  {
   "cell_type": "code",
   "execution_count": 14,
   "metadata": {},
   "outputs": [],
   "source": [
    "def train_model(model, train_loader, val_loader, criterion, optimizer, num_epochs=10):\n",
    "    # 記錄 loss\n",
    "    train_losses = []\n",
    "    val_losses = []\n",
    "    # 記錄準確率\n",
    "    train_accuracies = []\n",
    "    val_accuracies = []\n",
    "\n",
    "\n",
    "    for epoch in range(num_epochs):\n",
    "        model.train()\n",
    "        train_loss, train_acc = 0, 0\n",
    "\n",
    "        # ===== 訓練階段 =====\n",
    "        for texts, labels in train_loader:\n",
    "            texts, labels = texts.to(DEVICE), labels.to(DEVICE)\n",
    "            optimizer.zero_grad()\n",
    "            outputs = model(texts).squeeze(1)\n",
    "            loss = criterion(outputs, labels)\n",
    "            loss.backward()\n",
    "            optimizer.step()\n",
    "\n",
    "            #print(\"outputs shape:\", outputs.shape)\n",
    "            #print(\"labels shape:\", labels.shape)\n",
    "\n",
    "            \n",
    "            train_loss += loss.item()\n",
    "            train_acc += ((outputs > 0.5) == labels).sum().item()\n",
    "        \n",
    "        train_acc /= len(train_loader.dataset)\n",
    "        train_accuracies.append(train_acc)\n",
    "        avg_train_loss = train_loss / len(train_loader)\n",
    "        train_losses.append(avg_train_loss)\n",
    "\n",
    "        # ===== 驗證階段 =====\n",
    "        model.eval()\n",
    "        val_loss, val_acc = 0, 0\n",
    "        with torch.no_grad():\n",
    "            for texts, labels in val_loader:\n",
    "                texts, labels = texts.to(DEVICE), labels.float().to(DEVICE)\n",
    "                outputs = model(texts).squeeze()\n",
    "                loss = criterion(outputs, labels)\n",
    "                val_loss += loss.item()\n",
    "                val_acc += ((outputs > 0.5) == labels).sum().item()\n",
    "\n",
    "        val_acc /= len(val_loader.dataset)\n",
    "        val_accuracies.append(val_acc)\n",
    "        avg_val_loss = val_loss / len(val_loader)\n",
    "        val_losses.append(avg_val_loss)\n",
    "\n",
    "        print(f\"Epoch {epoch+1}/{num_epochs}: Train Loss: {avg_train_loss:.4f}, Train Acc: {train_acc:.4f}, Val Loss: {avg_val_loss:.4f}, Val Acc: {val_acc:.4f}\")\n",
    "\n",
    "    return train_losses, val_losses, train_accuracies, val_accuracies\n"
   ]
  },
  {
   "cell_type": "code",
   "execution_count": 15,
   "metadata": {},
   "outputs": [
    {
     "name": "stdout",
     "output_type": "stream",
     "text": [
      "Epoch 1/5: Train Loss: 0.0261, Train Acc: 0.9915, Val Loss: 0.0074, Val Acc: 0.9979\n",
      "Epoch 2/5: Train Loss: 0.0076, Train Acc: 0.9977, Val Loss: 0.0064, Val Acc: 0.9985\n",
      "Epoch 3/5: Train Loss: 0.0056, Train Acc: 0.9986, Val Loss: 0.0054, Val Acc: 0.9987\n",
      "Epoch 4/5: Train Loss: 0.0050, Train Acc: 0.9989, Val Loss: 0.0057, Val Acc: 0.9989\n",
      "Epoch 5/5: Train Loss: 0.0039, Train Acc: 0.9990, Val Loss: 0.0070, Val Acc: 0.9986\n"
     ]
    }
   ],
   "source": [
    "# 訓練模型\n",
    "train_losses, val_losses, train_accuracies, val_accuracies = train_model(model, train_loader, val_loader, criterion, optimizer, num_epochs=NUM_EPOCHS)\n"
   ]
  },
  {
   "cell_type": "markdown",
   "metadata": {},
   "source": [
    "# 繪製 Loss、Accuracy 曲線"
   ]
  },
  {
   "cell_type": "code",
   "execution_count": 16,
   "metadata": {},
   "outputs": [
    {
     "data": {
      "image/png": "[encoded data removed]",
      "text/plain": [
       "<Figure size 800x600 with 1 Axes>"
      ]
     },
     "metadata": {},
     "output_type": "display_data"
    }
   ],
   "source": [
    "plt.figure(figsize=(8, 6))\n",
    "plt.plot(range(1, NUM_EPOCHS+1), train_losses, label=\"Training Loss\")\n",
    "plt.plot(range(1, NUM_EPOCHS+1), val_losses, label=\"Validation Loss\", linestyle=\"dashed\")\n",
    "plt.xlabel(\"Epochs\")\n",
    "plt.ylabel(\"Loss\")\n",
    "plt.title(\"Training & Validation Loss\")\n",
    "plt.legend()\n",
    "plt.grid()\n",
    "plt.show()"
   ]
  },
  {
   "cell_type": "code",
   "execution_count": 17,
   "metadata": {},
   "outputs": [
    {
     "data": {
      "image/png": "[encoded data removed]",
      "text/plain": [
       "<Figure size 800x600 with 1 Axes>"
      ]
     },
     "metadata": {},
     "output_type": "display_data"
    }
   ],
   "source": [
    "plt.figure(figsize=(8, 6))\n",
    "plt.plot(range(1, NUM_EPOCHS+1), train_accuracies, label=\"Training Accuracy\")\n",
    "plt.plot(range(1, NUM_EPOCHS+1), val_accuracies, label=\"Validation Accuracy\", linestyle=\"dashed\")\n",
    "plt.xlabel(\"Epochs\")\n",
    "plt.ylabel(\"Accuracy\")\n",
    "plt.title(\"Training & Validation Accuracy\")\n",
    "plt.legend()\n",
    "plt.grid()\n",
    "plt.show()"
   ]
  },
  {
   "cell_type": "markdown",
   "metadata": {},
   "source": [
    "# 測試"
   ]
  },
  {
   "cell_type": "code",
   "execution_count": 18,
   "metadata": {},
   "outputs": [],
   "source": [
    "def evaluate_model(model, test_loader):\n",
    "    model.eval()\n",
    "    test_acc = 0\n",
    "    epoch_loss = 0\n",
    "    with torch.no_grad():\n",
    "        for texts, labels in test_loader:\n",
    "            texts, labels = texts.to(DEVICE), labels.to(DEVICE)\n",
    "            outputs = model(texts).squeeze()\n",
    "            test_acc += ((outputs > 0.5) == labels).sum().item()\n",
    "            loss = criterion(outputs, labels)\n",
    "            epoch_loss += loss.item()\n",
    "\n",
    "    test_loss = epoch_loss / len(test_loader)\n",
    "    test_acc /= len(test_loader.dataset)\n",
    "\n",
    "    return test_loss, test_acc"
   ]
  },
  {
   "cell_type": "code",
   "execution_count": 19,
   "metadata": {},
   "outputs": [
    {
     "name": "stdout",
     "output_type": "stream",
     "text": [
      "Test Loss: 0.0054, Test Accuracy: 0.9987\n"
     ]
    }
   ],
   "source": [
    "test_loss, test_acc = evaluate_model(model, test_loader)\n",
    "\n",
    "print(f\"Test Loss: {test_loss:.4f}, Test Accuracy: {test_acc:.4f}\")"
   ]
  }
 ],
 "metadata": {
  "colab": {
   "provenance": []
  },
  "kernelspec": {
   "display_name": "dl_final",
   "language": "python",
   "name": "python3"
  },
  "language_info": {
   "codemirror_mode": {
    "name": "ipython",
    "version": 3
   },
   "file_extension": ".py",
   "mimetype": "text/x-python",
   "name": "python",
   "nbconvert_exporter": "python",
   "pygments_lexer": "ipython3",
   "version": "3.12.7"
  }
 },
 "nbformat": 4,
 "nbformat_minor": 4
}
